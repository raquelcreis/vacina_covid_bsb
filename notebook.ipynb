{
 "metadata": {
  "language_info": {
   "codemirror_mode": {
    "name": "ipython",
    "version": 3
   },
   "file_extension": ".py",
   "mimetype": "text/x-python",
   "name": "python",
   "nbconvert_exporter": "python",
   "pygments_lexer": "ipython3",
   "version": "3.7.6"
  },
  "orig_nbformat": 2,
  "kernelspec": {
   "name": "python3",
   "display_name": "Python 3.7.6 64-bit ('base': conda)"
  },
  "interpreter": {
   "hash": "c84ec5531762457a514972294189478bb2b86b2856b4d2c66c8829aed73cefe4"
  }
 },
 "nbformat": 4,
 "nbformat_minor": 2,
 "cells": [
  {
   "cell_type": "code",
   "execution_count": 1,
   "source": [
    "# Importação as bibliotecas necessárias para conexão e coleta dos dados\n",
    "import psycopg2\n",
    "import pandas as pd\n",
    "from sqlalchemy import create_engine\n",
    "import os"
   ],
   "outputs": [],
   "metadata": {}
  },
  {
   "cell_type": "code",
   "execution_count": 2,
   "source": [
    "# Variaveis ambientes\n",
    "\n",
    "host = os.environ.get('HOST_POSTGRE')\n",
    "user = os.environ.get('USER_POSTGRE')\n",
    "password = os.environ.get('PASSWORD_POSTGRE')"
   ],
   "outputs": [],
   "metadata": {}
  },
  {
   "cell_type": "code",
   "execution_count": 3,
   "source": [
    "# Descrevo os parâmetros de conexão conforme configurado\n",
    "db_server_info = {'host': host, \n",
    "                  'porta': 5432, \n",
    "                  'dbname': 'dbs_vacina',\n",
    "                  'user': user, \n",
    "                  'password': password} \n",
    "\n",
    "conn_str = '{}://{}:{}@{}:{}/{}'.format('postgresql+psycopg2', \n",
    "                                  db_server_info['user'], \n",
    "                                  db_server_info['password'], \n",
    "                                  db_server_info['host'], \n",
    "                                  db_server_info['porta'], \n",
    "                                  db_server_info['dbname']) \n",
    "\n",
    "alchemyEngine = create_engine(conn_str, pool_recycle=3600)\n",
    "\n",
    "postgreSQLConnection = alchemyEngine.connect() "
   ],
   "outputs": [],
   "metadata": {}
  },
  {
   "cell_type": "code",
   "execution_count": 4,
   "source": [
    "# Encontrando o id relacionado ao Distrito Federal\n",
    "\n",
    "pd.read_sql_query(\"SELECT * FROM public.tbl_cidade WHERE uf = 'DF'\", postgreSQLConnection)"
   ],
   "outputs": [
    {
     "output_type": "execute_result",
     "data": {
      "text/plain": [
       "        id nm_municipio  uf      lat       lon  cd_ibge_reduzido\n",
       "0  5300108     Brasília  DF -15.8049 -47.88683            530010"
      ],
      "text/html": [
       "<div>\n",
       "<style scoped>\n",
       "    .dataframe tbody tr th:only-of-type {\n",
       "        vertical-align: middle;\n",
       "    }\n",
       "\n",
       "    .dataframe tbody tr th {\n",
       "        vertical-align: top;\n",
       "    }\n",
       "\n",
       "    .dataframe thead th {\n",
       "        text-align: right;\n",
       "    }\n",
       "</style>\n",
       "<table border=\"1\" class=\"dataframe\">\n",
       "  <thead>\n",
       "    <tr style=\"text-align: right;\">\n",
       "      <th></th>\n",
       "      <th>id</th>\n",
       "      <th>nm_municipio</th>\n",
       "      <th>uf</th>\n",
       "      <th>lat</th>\n",
       "      <th>lon</th>\n",
       "      <th>cd_ibge_reduzido</th>\n",
       "    </tr>\n",
       "  </thead>\n",
       "  <tbody>\n",
       "    <tr>\n",
       "      <th>0</th>\n",
       "      <td>5300108</td>\n",
       "      <td>Brasília</td>\n",
       "      <td>DF</td>\n",
       "      <td>-15.8049</td>\n",
       "      <td>-47.88683</td>\n",
       "      <td>530010</td>\n",
       "    </tr>\n",
       "  </tbody>\n",
       "</table>\n",
       "</div>"
      ]
     },
     "metadata": {},
     "execution_count": 4
    }
   ],
   "metadata": {}
  },
  {
   "cell_type": "code",
   "execution_count": 5,
   "source": [
    "# Dataframe de CEPs do DF\n",
    "\n",
    "dfCepsDF = pd.read_sql_query(\"SELECT * FROM public.tbl_cep WHERE cidade_id = 5300108\", postgreSQLConnection)\n",
    "dfCepsDF.head()"
   ],
   "outputs": [
    {
     "output_type": "execute_result",
     "data": {
      "text/plain": [
       "      id    cep  cidade_id        lat        lon\n",
       "0  18098  70002    5300108 -47.879545 -15.790642\n",
       "1  18099  70003    5300108 -47.880634 -15.790649\n",
       "2  18100  70037    5300108 -47.882790 -15.805816\n",
       "3  18101  70040    5300108 -47.884265 -15.791226\n",
       "4  18102  70041    5300108 -47.881478 -15.788280"
      ],
      "text/html": [
       "<div>\n",
       "<style scoped>\n",
       "    .dataframe tbody tr th:only-of-type {\n",
       "        vertical-align: middle;\n",
       "    }\n",
       "\n",
       "    .dataframe tbody tr th {\n",
       "        vertical-align: top;\n",
       "    }\n",
       "\n",
       "    .dataframe thead th {\n",
       "        text-align: right;\n",
       "    }\n",
       "</style>\n",
       "<table border=\"1\" class=\"dataframe\">\n",
       "  <thead>\n",
       "    <tr style=\"text-align: right;\">\n",
       "      <th></th>\n",
       "      <th>id</th>\n",
       "      <th>cep</th>\n",
       "      <th>cidade_id</th>\n",
       "      <th>lat</th>\n",
       "      <th>lon</th>\n",
       "    </tr>\n",
       "  </thead>\n",
       "  <tbody>\n",
       "    <tr>\n",
       "      <th>0</th>\n",
       "      <td>18098</td>\n",
       "      <td>70002</td>\n",
       "      <td>5300108</td>\n",
       "      <td>-47.879545</td>\n",
       "      <td>-15.790642</td>\n",
       "    </tr>\n",
       "    <tr>\n",
       "      <th>1</th>\n",
       "      <td>18099</td>\n",
       "      <td>70003</td>\n",
       "      <td>5300108</td>\n",
       "      <td>-47.880634</td>\n",
       "      <td>-15.790649</td>\n",
       "    </tr>\n",
       "    <tr>\n",
       "      <th>2</th>\n",
       "      <td>18100</td>\n",
       "      <td>70037</td>\n",
       "      <td>5300108</td>\n",
       "      <td>-47.882790</td>\n",
       "      <td>-15.805816</td>\n",
       "    </tr>\n",
       "    <tr>\n",
       "      <th>3</th>\n",
       "      <td>18101</td>\n",
       "      <td>70040</td>\n",
       "      <td>5300108</td>\n",
       "      <td>-47.884265</td>\n",
       "      <td>-15.791226</td>\n",
       "    </tr>\n",
       "    <tr>\n",
       "      <th>4</th>\n",
       "      <td>18102</td>\n",
       "      <td>70041</td>\n",
       "      <td>5300108</td>\n",
       "      <td>-47.881478</td>\n",
       "      <td>-15.788280</td>\n",
       "    </tr>\n",
       "  </tbody>\n",
       "</table>\n",
       "</div>"
      ]
     },
     "metadata": {},
     "execution_count": 5
    }
   ],
   "metadata": {}
  },
  {
   "cell_type": "code",
   "execution_count": 6,
   "source": [
    "# Dataframe de Estabelecimentos de Saúde do DF\n",
    "\n",
    "ceps = dfCepsDF.id\n",
    "\n",
    "dfEstab = pd.read_sql_query(\"SELECT * FROM public.tbl_estabelecimento\", postgreSQLConnection)\n",
    "\n",
    "dfEstabDF = dfEstab.loc[dfEstab['id_cep'].isin(ceps)].copy()\n",
    "dfEstabDF.head()"
   ],
   "outputs": [
    {
     "output_type": "execute_result",
     "data": {
      "text/plain": [
       "             id                     nm_razao_social              nm_fantasia  \\\n",
       "300620  3937399             MARIA DO CARMO PINHEIRO  MARIA DO CARMO PINHEIRO   \n",
       "300686  3263398        PERIOCENTRO ODONTOLOGIA LTDA              PERIOCENTRO   \n",
       "300816  3025411  CENTRO CLINICO SANTO EXPEDITO LTDA                 CLINICAR   \n",
       "301540   788740             AVALIAR DIGNOSTICO LTDA      AVALIAR DIAGNOSTICO   \n",
       "301612  5078962                    DENTE CROSS LTDA              DENTE CROSS   \n",
       "\n",
       "         id_cep  id_natureza_juridica  id_tipo_estabelecimento  \\\n",
       "300620  18125.0                4000.0                      NaN   \n",
       "300686  18132.0                2000.0                      NaN   \n",
       "300816  18144.0                2000.0                      NaN   \n",
       "301540  18150.0                2062.0                     16.0   \n",
       "301612  18190.0                2000.0                      NaN   \n",
       "\n",
       "        id_atividade_principal  lat  lon  \n",
       "300620                     NaN  NaN  NaN  \n",
       "300686                     NaN  NaN  NaN  \n",
       "300816                     NaN  NaN  NaN  \n",
       "301540                     1.0  NaN  NaN  \n",
       "301612                     NaN  NaN  NaN  "
      ],
      "text/html": [
       "<div>\n",
       "<style scoped>\n",
       "    .dataframe tbody tr th:only-of-type {\n",
       "        vertical-align: middle;\n",
       "    }\n",
       "\n",
       "    .dataframe tbody tr th {\n",
       "        vertical-align: top;\n",
       "    }\n",
       "\n",
       "    .dataframe thead th {\n",
       "        text-align: right;\n",
       "    }\n",
       "</style>\n",
       "<table border=\"1\" class=\"dataframe\">\n",
       "  <thead>\n",
       "    <tr style=\"text-align: right;\">\n",
       "      <th></th>\n",
       "      <th>id</th>\n",
       "      <th>nm_razao_social</th>\n",
       "      <th>nm_fantasia</th>\n",
       "      <th>id_cep</th>\n",
       "      <th>id_natureza_juridica</th>\n",
       "      <th>id_tipo_estabelecimento</th>\n",
       "      <th>id_atividade_principal</th>\n",
       "      <th>lat</th>\n",
       "      <th>lon</th>\n",
       "    </tr>\n",
       "  </thead>\n",
       "  <tbody>\n",
       "    <tr>\n",
       "      <th>300620</th>\n",
       "      <td>3937399</td>\n",
       "      <td>MARIA DO CARMO PINHEIRO</td>\n",
       "      <td>MARIA DO CARMO PINHEIRO</td>\n",
       "      <td>18125.0</td>\n",
       "      <td>4000.0</td>\n",
       "      <td>NaN</td>\n",
       "      <td>NaN</td>\n",
       "      <td>NaN</td>\n",
       "      <td>NaN</td>\n",
       "    </tr>\n",
       "    <tr>\n",
       "      <th>300686</th>\n",
       "      <td>3263398</td>\n",
       "      <td>PERIOCENTRO ODONTOLOGIA LTDA</td>\n",
       "      <td>PERIOCENTRO</td>\n",
       "      <td>18132.0</td>\n",
       "      <td>2000.0</td>\n",
       "      <td>NaN</td>\n",
       "      <td>NaN</td>\n",
       "      <td>NaN</td>\n",
       "      <td>NaN</td>\n",
       "    </tr>\n",
       "    <tr>\n",
       "      <th>300816</th>\n",
       "      <td>3025411</td>\n",
       "      <td>CENTRO CLINICO SANTO EXPEDITO LTDA</td>\n",
       "      <td>CLINICAR</td>\n",
       "      <td>18144.0</td>\n",
       "      <td>2000.0</td>\n",
       "      <td>NaN</td>\n",
       "      <td>NaN</td>\n",
       "      <td>NaN</td>\n",
       "      <td>NaN</td>\n",
       "    </tr>\n",
       "    <tr>\n",
       "      <th>301540</th>\n",
       "      <td>788740</td>\n",
       "      <td>AVALIAR DIGNOSTICO LTDA</td>\n",
       "      <td>AVALIAR DIAGNOSTICO</td>\n",
       "      <td>18150.0</td>\n",
       "      <td>2062.0</td>\n",
       "      <td>16.0</td>\n",
       "      <td>1.0</td>\n",
       "      <td>NaN</td>\n",
       "      <td>NaN</td>\n",
       "    </tr>\n",
       "    <tr>\n",
       "      <th>301612</th>\n",
       "      <td>5078962</td>\n",
       "      <td>DENTE CROSS LTDA</td>\n",
       "      <td>DENTE CROSS</td>\n",
       "      <td>18190.0</td>\n",
       "      <td>2000.0</td>\n",
       "      <td>NaN</td>\n",
       "      <td>NaN</td>\n",
       "      <td>NaN</td>\n",
       "      <td>NaN</td>\n",
       "    </tr>\n",
       "  </tbody>\n",
       "</table>\n",
       "</div>"
      ]
     },
     "metadata": {},
     "execution_count": 6
    }
   ],
   "metadata": {}
  },
  {
   "cell_type": "code",
   "execution_count": 7,
   "source": [
    "# Quantidade de estabelecimentos de saúde no DF\n",
    "\n",
    "dfEstabDF.shape"
   ],
   "outputs": [
    {
     "output_type": "execute_result",
     "data": {
      "text/plain": [
       "(8815, 9)"
      ]
     },
     "metadata": {},
     "execution_count": 7
    }
   ],
   "metadata": {}
  },
  {
   "cell_type": "code",
   "execution_count": 8,
   "source": [
    "# Informações gerais do dataframe de estabelecimentos de saúde do DF\n",
    "\n",
    "dfEstabDF.info()"
   ],
   "outputs": [
    {
     "output_type": "stream",
     "name": "stdout",
     "text": [
      "<class 'pandas.core.frame.DataFrame'>\n",
      "Int64Index: 8815 entries, 300620 to 312262\n",
      "Data columns (total 9 columns):\n",
      " #   Column                   Non-Null Count  Dtype  \n",
      "---  ------                   --------------  -----  \n",
      " 0   id                       8815 non-null   int64  \n",
      " 1   nm_razao_social          8815 non-null   object \n",
      " 2   nm_fantasia              8815 non-null   object \n",
      " 3   id_cep                   8815 non-null   float64\n",
      " 4   id_natureza_juridica     8815 non-null   float64\n",
      " 5   id_tipo_estabelecimento  4596 non-null   float64\n",
      " 6   id_atividade_principal   4596 non-null   float64\n",
      " 7   lat                      0 non-null      float64\n",
      " 8   lon                      0 non-null      float64\n",
      "dtypes: float64(6), int64(1), object(2)\n",
      "memory usage: 688.7+ KB\n"
     ]
    }
   ],
   "metadata": {}
  },
  {
   "cell_type": "code",
   "execution_count": 9,
   "source": [
    "# Dropando colunas com muitos valores ausentes\n",
    "\n",
    "dfEstabDF.drop(columns = ['id_tipo_estabelecimento','id_atividade_principal','lat','lon'],axis=1,inplace=True)\n",
    "dfEstabDF.head()"
   ],
   "outputs": [
    {
     "output_type": "execute_result",
     "data": {
      "text/plain": [
       "             id                     nm_razao_social              nm_fantasia  \\\n",
       "300620  3937399             MARIA DO CARMO PINHEIRO  MARIA DO CARMO PINHEIRO   \n",
       "300686  3263398        PERIOCENTRO ODONTOLOGIA LTDA              PERIOCENTRO   \n",
       "300816  3025411  CENTRO CLINICO SANTO EXPEDITO LTDA                 CLINICAR   \n",
       "301540   788740             AVALIAR DIGNOSTICO LTDA      AVALIAR DIAGNOSTICO   \n",
       "301612  5078962                    DENTE CROSS LTDA              DENTE CROSS   \n",
       "\n",
       "         id_cep  id_natureza_juridica  \n",
       "300620  18125.0                4000.0  \n",
       "300686  18132.0                2000.0  \n",
       "300816  18144.0                2000.0  \n",
       "301540  18150.0                2062.0  \n",
       "301612  18190.0                2000.0  "
      ],
      "text/html": [
       "<div>\n",
       "<style scoped>\n",
       "    .dataframe tbody tr th:only-of-type {\n",
       "        vertical-align: middle;\n",
       "    }\n",
       "\n",
       "    .dataframe tbody tr th {\n",
       "        vertical-align: top;\n",
       "    }\n",
       "\n",
       "    .dataframe thead th {\n",
       "        text-align: right;\n",
       "    }\n",
       "</style>\n",
       "<table border=\"1\" class=\"dataframe\">\n",
       "  <thead>\n",
       "    <tr style=\"text-align: right;\">\n",
       "      <th></th>\n",
       "      <th>id</th>\n",
       "      <th>nm_razao_social</th>\n",
       "      <th>nm_fantasia</th>\n",
       "      <th>id_cep</th>\n",
       "      <th>id_natureza_juridica</th>\n",
       "    </tr>\n",
       "  </thead>\n",
       "  <tbody>\n",
       "    <tr>\n",
       "      <th>300620</th>\n",
       "      <td>3937399</td>\n",
       "      <td>MARIA DO CARMO PINHEIRO</td>\n",
       "      <td>MARIA DO CARMO PINHEIRO</td>\n",
       "      <td>18125.0</td>\n",
       "      <td>4000.0</td>\n",
       "    </tr>\n",
       "    <tr>\n",
       "      <th>300686</th>\n",
       "      <td>3263398</td>\n",
       "      <td>PERIOCENTRO ODONTOLOGIA LTDA</td>\n",
       "      <td>PERIOCENTRO</td>\n",
       "      <td>18132.0</td>\n",
       "      <td>2000.0</td>\n",
       "    </tr>\n",
       "    <tr>\n",
       "      <th>300816</th>\n",
       "      <td>3025411</td>\n",
       "      <td>CENTRO CLINICO SANTO EXPEDITO LTDA</td>\n",
       "      <td>CLINICAR</td>\n",
       "      <td>18144.0</td>\n",
       "      <td>2000.0</td>\n",
       "    </tr>\n",
       "    <tr>\n",
       "      <th>301540</th>\n",
       "      <td>788740</td>\n",
       "      <td>AVALIAR DIGNOSTICO LTDA</td>\n",
       "      <td>AVALIAR DIAGNOSTICO</td>\n",
       "      <td>18150.0</td>\n",
       "      <td>2062.0</td>\n",
       "    </tr>\n",
       "    <tr>\n",
       "      <th>301612</th>\n",
       "      <td>5078962</td>\n",
       "      <td>DENTE CROSS LTDA</td>\n",
       "      <td>DENTE CROSS</td>\n",
       "      <td>18190.0</td>\n",
       "      <td>2000.0</td>\n",
       "    </tr>\n",
       "  </tbody>\n",
       "</table>\n",
       "</div>"
      ]
     },
     "metadata": {},
     "execution_count": 9
    }
   ],
   "metadata": {}
  },
  {
   "cell_type": "code",
   "execution_count": 10,
   "source": [
    "# Dataframe dos estabelecimentos de saúde que foram postos de vacinação no Brasil\n",
    "\n",
    "dfEstabVacinacao = pd.read_sql_query(\"SELECT DISTINCT id_estabelecimento FROM public.tbl_vacinacao\", postgreSQLConnection)\n",
    "dfEstabVacinacao.rename(columns={\"id_estabelecimento\": \"id\"},inplace=True)\n",
    "dfEstabVacinacao.head()"
   ],
   "outputs": [
    {
     "output_type": "execute_result",
     "data": {
      "text/plain": [
       "        id\n",
       "0  2427265\n",
       "1  2621673\n",
       "2  2432528\n",
       "3  2469197\n",
       "4  7204159"
      ],
      "text/html": [
       "<div>\n",
       "<style scoped>\n",
       "    .dataframe tbody tr th:only-of-type {\n",
       "        vertical-align: middle;\n",
       "    }\n",
       "\n",
       "    .dataframe tbody tr th {\n",
       "        vertical-align: top;\n",
       "    }\n",
       "\n",
       "    .dataframe thead th {\n",
       "        text-align: right;\n",
       "    }\n",
       "</style>\n",
       "<table border=\"1\" class=\"dataframe\">\n",
       "  <thead>\n",
       "    <tr style=\"text-align: right;\">\n",
       "      <th></th>\n",
       "      <th>id</th>\n",
       "    </tr>\n",
       "  </thead>\n",
       "  <tbody>\n",
       "    <tr>\n",
       "      <th>0</th>\n",
       "      <td>2427265</td>\n",
       "    </tr>\n",
       "    <tr>\n",
       "      <th>1</th>\n",
       "      <td>2621673</td>\n",
       "    </tr>\n",
       "    <tr>\n",
       "      <th>2</th>\n",
       "      <td>2432528</td>\n",
       "    </tr>\n",
       "    <tr>\n",
       "      <th>3</th>\n",
       "      <td>2469197</td>\n",
       "    </tr>\n",
       "    <tr>\n",
       "      <th>4</th>\n",
       "      <td>7204159</td>\n",
       "    </tr>\n",
       "  </tbody>\n",
       "</table>\n",
       "</div>"
      ]
     },
     "metadata": {},
     "execution_count": 10
    }
   ],
   "metadata": {}
  },
  {
   "cell_type": "code",
   "execution_count": 11,
   "source": [
    "# Dataframe dos postos de vacinação do DF\n",
    "\n",
    "dfPostosDF = pd.merge(dfEstabDF,dfEstabVacinacao)\n",
    "dfPostosDF.head()"
   ],
   "outputs": [
    {
     "output_type": "execute_result",
     "data": {
      "text/plain": [
       "        id                             nm_razao_social  \\\n",
       "0   181552    DEMARTAMENTO MEDICO CAMARA DOS DEPUTADOS   \n",
       "1    11150         UNIDADE BASICA DE SAUDE N 1 ASA SUL   \n",
       "2    10537  HOSPITAL MATERNO INFANTIL DE BRASILIA HMIB   \n",
       "3    10510           FUNDACAO UNIVERSIDADE DE BRASILIA   \n",
       "4  6362729                          COMANDO DA MARINHA   \n",
       "\n",
       "                                  nm_fantasia   id_cep  id_natureza_juridica  \n",
       "0    DEPARTAMENTO MEDICO CAMARA DOS DEPUTADOS  18146.0                1040.0  \n",
       "1                              UBS 01 ASA SUL  18150.0                1023.0  \n",
       "2  HOSPITAL MATERNO INFANTIL DE BRASILIA HMIB  18151.0                1023.0  \n",
       "3          HOSPITAL UNIVERSITARIO DE BRASILIA  18193.0                1139.0  \n",
       "4                  HOSPITAL NAVAL DE BRASILIA  18193.0                1015.0  "
      ],
      "text/html": [
       "<div>\n",
       "<style scoped>\n",
       "    .dataframe tbody tr th:only-of-type {\n",
       "        vertical-align: middle;\n",
       "    }\n",
       "\n",
       "    .dataframe tbody tr th {\n",
       "        vertical-align: top;\n",
       "    }\n",
       "\n",
       "    .dataframe thead th {\n",
       "        text-align: right;\n",
       "    }\n",
       "</style>\n",
       "<table border=\"1\" class=\"dataframe\">\n",
       "  <thead>\n",
       "    <tr style=\"text-align: right;\">\n",
       "      <th></th>\n",
       "      <th>id</th>\n",
       "      <th>nm_razao_social</th>\n",
       "      <th>nm_fantasia</th>\n",
       "      <th>id_cep</th>\n",
       "      <th>id_natureza_juridica</th>\n",
       "    </tr>\n",
       "  </thead>\n",
       "  <tbody>\n",
       "    <tr>\n",
       "      <th>0</th>\n",
       "      <td>181552</td>\n",
       "      <td>DEMARTAMENTO MEDICO CAMARA DOS DEPUTADOS</td>\n",
       "      <td>DEPARTAMENTO MEDICO CAMARA DOS DEPUTADOS</td>\n",
       "      <td>18146.0</td>\n",
       "      <td>1040.0</td>\n",
       "    </tr>\n",
       "    <tr>\n",
       "      <th>1</th>\n",
       "      <td>11150</td>\n",
       "      <td>UNIDADE BASICA DE SAUDE N 1 ASA SUL</td>\n",
       "      <td>UBS 01 ASA SUL</td>\n",
       "      <td>18150.0</td>\n",
       "      <td>1023.0</td>\n",
       "    </tr>\n",
       "    <tr>\n",
       "      <th>2</th>\n",
       "      <td>10537</td>\n",
       "      <td>HOSPITAL MATERNO INFANTIL DE BRASILIA HMIB</td>\n",
       "      <td>HOSPITAL MATERNO INFANTIL DE BRASILIA HMIB</td>\n",
       "      <td>18151.0</td>\n",
       "      <td>1023.0</td>\n",
       "    </tr>\n",
       "    <tr>\n",
       "      <th>3</th>\n",
       "      <td>10510</td>\n",
       "      <td>FUNDACAO UNIVERSIDADE DE BRASILIA</td>\n",
       "      <td>HOSPITAL UNIVERSITARIO DE BRASILIA</td>\n",
       "      <td>18193.0</td>\n",
       "      <td>1139.0</td>\n",
       "    </tr>\n",
       "    <tr>\n",
       "      <th>4</th>\n",
       "      <td>6362729</td>\n",
       "      <td>COMANDO DA MARINHA</td>\n",
       "      <td>HOSPITAL NAVAL DE BRASILIA</td>\n",
       "      <td>18193.0</td>\n",
       "      <td>1015.0</td>\n",
       "    </tr>\n",
       "  </tbody>\n",
       "</table>\n",
       "</div>"
      ]
     },
     "metadata": {},
     "execution_count": 11
    }
   ],
   "metadata": {}
  },
  {
   "cell_type": "code",
   "execution_count": 12,
   "source": [
    "# Quantidade de postos de vacinação no DF\n",
    "\n",
    "dfPostosDF.shape"
   ],
   "outputs": [
    {
     "output_type": "execute_result",
     "data": {
      "text/plain": [
       "(116, 5)"
      ]
     },
     "metadata": {},
     "execution_count": 12
    }
   ],
   "metadata": {}
  },
  {
   "cell_type": "code",
   "execution_count": 13,
   "source": [
    "# Adicionando info de latitude e longitude nos postos de vacinação no DF\n",
    "\n",
    "dfCepsDF.drop(columns=['cep','cidade_id'],inplace=True)\n",
    "dfCepsDF.rename(columns={\"id\":\"id_cep\"},inplace=True)\n",
    "dfPostosDF = pd.merge(dfPostosDF,dfCepsDF,on='id_cep')\n",
    "dfPostosDF.head()"
   ],
   "outputs": [
    {
     "output_type": "execute_result",
     "data": {
      "text/plain": [
       "        id                             nm_razao_social  \\\n",
       "0   181552    DEMARTAMENTO MEDICO CAMARA DOS DEPUTADOS   \n",
       "1    11150         UNIDADE BASICA DE SAUDE N 1 ASA SUL   \n",
       "2    10537  HOSPITAL MATERNO INFANTIL DE BRASILIA HMIB   \n",
       "3    10510           FUNDACAO UNIVERSIDADE DE BRASILIA   \n",
       "4  6362729                          COMANDO DA MARINHA   \n",
       "\n",
       "                                  nm_fantasia   id_cep  id_natureza_juridica  \\\n",
       "0    DEPARTAMENTO MEDICO CAMARA DOS DEPUTADOS  18146.0                1040.0   \n",
       "1                              UBS 01 ASA SUL  18150.0                1023.0   \n",
       "2  HOSPITAL MATERNO INFANTIL DE BRASILIA HMIB  18151.0                1023.0   \n",
       "3          HOSPITAL UNIVERSITARIO DE BRASILIA  18193.0                1139.0   \n",
       "4                  HOSPITAL NAVAL DE BRASILIA  18193.0                1015.0   \n",
       "\n",
       "         lat        lon  \n",
       "0 -47.861282 -15.800669  \n",
       "1 -47.891575 -15.822105  \n",
       "2 -47.897709 -15.823910  \n",
       "3 -47.885490 -15.798626  \n",
       "4 -47.885490 -15.798626  "
      ],
      "text/html": [
       "<div>\n",
       "<style scoped>\n",
       "    .dataframe tbody tr th:only-of-type {\n",
       "        vertical-align: middle;\n",
       "    }\n",
       "\n",
       "    .dataframe tbody tr th {\n",
       "        vertical-align: top;\n",
       "    }\n",
       "\n",
       "    .dataframe thead th {\n",
       "        text-align: right;\n",
       "    }\n",
       "</style>\n",
       "<table border=\"1\" class=\"dataframe\">\n",
       "  <thead>\n",
       "    <tr style=\"text-align: right;\">\n",
       "      <th></th>\n",
       "      <th>id</th>\n",
       "      <th>nm_razao_social</th>\n",
       "      <th>nm_fantasia</th>\n",
       "      <th>id_cep</th>\n",
       "      <th>id_natureza_juridica</th>\n",
       "      <th>lat</th>\n",
       "      <th>lon</th>\n",
       "    </tr>\n",
       "  </thead>\n",
       "  <tbody>\n",
       "    <tr>\n",
       "      <th>0</th>\n",
       "      <td>181552</td>\n",
       "      <td>DEMARTAMENTO MEDICO CAMARA DOS DEPUTADOS</td>\n",
       "      <td>DEPARTAMENTO MEDICO CAMARA DOS DEPUTADOS</td>\n",
       "      <td>18146.0</td>\n",
       "      <td>1040.0</td>\n",
       "      <td>-47.861282</td>\n",
       "      <td>-15.800669</td>\n",
       "    </tr>\n",
       "    <tr>\n",
       "      <th>1</th>\n",
       "      <td>11150</td>\n",
       "      <td>UNIDADE BASICA DE SAUDE N 1 ASA SUL</td>\n",
       "      <td>UBS 01 ASA SUL</td>\n",
       "      <td>18150.0</td>\n",
       "      <td>1023.0</td>\n",
       "      <td>-47.891575</td>\n",
       "      <td>-15.822105</td>\n",
       "    </tr>\n",
       "    <tr>\n",
       "      <th>2</th>\n",
       "      <td>10537</td>\n",
       "      <td>HOSPITAL MATERNO INFANTIL DE BRASILIA HMIB</td>\n",
       "      <td>HOSPITAL MATERNO INFANTIL DE BRASILIA HMIB</td>\n",
       "      <td>18151.0</td>\n",
       "      <td>1023.0</td>\n",
       "      <td>-47.897709</td>\n",
       "      <td>-15.823910</td>\n",
       "    </tr>\n",
       "    <tr>\n",
       "      <th>3</th>\n",
       "      <td>10510</td>\n",
       "      <td>FUNDACAO UNIVERSIDADE DE BRASILIA</td>\n",
       "      <td>HOSPITAL UNIVERSITARIO DE BRASILIA</td>\n",
       "      <td>18193.0</td>\n",
       "      <td>1139.0</td>\n",
       "      <td>-47.885490</td>\n",
       "      <td>-15.798626</td>\n",
       "    </tr>\n",
       "    <tr>\n",
       "      <th>4</th>\n",
       "      <td>6362729</td>\n",
       "      <td>COMANDO DA MARINHA</td>\n",
       "      <td>HOSPITAL NAVAL DE BRASILIA</td>\n",
       "      <td>18193.0</td>\n",
       "      <td>1015.0</td>\n",
       "      <td>-47.885490</td>\n",
       "      <td>-15.798626</td>\n",
       "    </tr>\n",
       "  </tbody>\n",
       "</table>\n",
       "</div>"
      ]
     },
     "metadata": {},
     "execution_count": 13
    }
   ],
   "metadata": {}
  },
  {
   "cell_type": "code",
   "execution_count": 14,
   "source": [
    "# Adicionando informação de natureza jurídica dos postos de vacinação no DF\n",
    "\n",
    "dfNatJur = pd.read_sql_query(\"SELECT * FROM public.tbl_natureza_juridica\", postgreSQLConnection)\n",
    "dfNatJur.rename(columns={\"id\":\"id_natureza_juridica\"},inplace=True)\n",
    "dfPostosDF = pd.merge(dfPostosDF,dfNatJur,on='id_natureza_juridica')\n",
    "dfPostosDF.head()"
   ],
   "outputs": [
    {
     "output_type": "execute_result",
     "data": {
      "text/plain": [
       "        id                             nm_razao_social  \\\n",
       "0   181552    DEMARTAMENTO MEDICO CAMARA DOS DEPUTADOS   \n",
       "1    11150         UNIDADE BASICA DE SAUDE N 1 ASA SUL   \n",
       "2    10537  HOSPITAL MATERNO INFANTIL DE BRASILIA HMIB   \n",
       "3  5117666       UNIDADE BASICA DE SAUDE N 5 ASA NORTE   \n",
       "4    10758        UNIDADE BASICA DE SAUDE N 2 CRUZEIRO   \n",
       "\n",
       "                                  nm_fantasia   id_cep  id_natureza_juridica  \\\n",
       "0    DEPARTAMENTO MEDICO CAMARA DOS DEPUTADOS  18146.0                1040.0   \n",
       "1                              UBS 01 ASA SUL  18150.0                1023.0   \n",
       "2  HOSPITAL MATERNO INFANTIL DE BRASILIA HMIB  18151.0                1023.0   \n",
       "3                       UBS 5 GRANJA DO TORTO  18313.0                1023.0   \n",
       "4                              UBS 2 CRUZEIRO  18314.0                1023.0   \n",
       "\n",
       "         lat        lon                                  natureza_juridica  \n",
       "0 -47.861282 -15.800669         ORGAO PUBLICO DO PODER LEGISLATIVO FEDERAL  \n",
       "1 -47.891575 -15.822105  ORGAO PUBLICO DO PODER EXECUTIVO ESTADUAL OU D...  \n",
       "2 -47.897709 -15.823910  ORGAO PUBLICO DO PODER EXECUTIVO ESTADUAL OU D...  \n",
       "3 -47.905893 -15.819210  ORGAO PUBLICO DO PODER EXECUTIVO ESTADUAL OU D...  \n",
       "4 -47.944787 -15.789660  ORGAO PUBLICO DO PODER EXECUTIVO ESTADUAL OU D...  "
      ],
      "text/html": [
       "<div>\n",
       "<style scoped>\n",
       "    .dataframe tbody tr th:only-of-type {\n",
       "        vertical-align: middle;\n",
       "    }\n",
       "\n",
       "    .dataframe tbody tr th {\n",
       "        vertical-align: top;\n",
       "    }\n",
       "\n",
       "    .dataframe thead th {\n",
       "        text-align: right;\n",
       "    }\n",
       "</style>\n",
       "<table border=\"1\" class=\"dataframe\">\n",
       "  <thead>\n",
       "    <tr style=\"text-align: right;\">\n",
       "      <th></th>\n",
       "      <th>id</th>\n",
       "      <th>nm_razao_social</th>\n",
       "      <th>nm_fantasia</th>\n",
       "      <th>id_cep</th>\n",
       "      <th>id_natureza_juridica</th>\n",
       "      <th>lat</th>\n",
       "      <th>lon</th>\n",
       "      <th>natureza_juridica</th>\n",
       "    </tr>\n",
       "  </thead>\n",
       "  <tbody>\n",
       "    <tr>\n",
       "      <th>0</th>\n",
       "      <td>181552</td>\n",
       "      <td>DEMARTAMENTO MEDICO CAMARA DOS DEPUTADOS</td>\n",
       "      <td>DEPARTAMENTO MEDICO CAMARA DOS DEPUTADOS</td>\n",
       "      <td>18146.0</td>\n",
       "      <td>1040.0</td>\n",
       "      <td>-47.861282</td>\n",
       "      <td>-15.800669</td>\n",
       "      <td>ORGAO PUBLICO DO PODER LEGISLATIVO FEDERAL</td>\n",
       "    </tr>\n",
       "    <tr>\n",
       "      <th>1</th>\n",
       "      <td>11150</td>\n",
       "      <td>UNIDADE BASICA DE SAUDE N 1 ASA SUL</td>\n",
       "      <td>UBS 01 ASA SUL</td>\n",
       "      <td>18150.0</td>\n",
       "      <td>1023.0</td>\n",
       "      <td>-47.891575</td>\n",
       "      <td>-15.822105</td>\n",
       "      <td>ORGAO PUBLICO DO PODER EXECUTIVO ESTADUAL OU D...</td>\n",
       "    </tr>\n",
       "    <tr>\n",
       "      <th>2</th>\n",
       "      <td>10537</td>\n",
       "      <td>HOSPITAL MATERNO INFANTIL DE BRASILIA HMIB</td>\n",
       "      <td>HOSPITAL MATERNO INFANTIL DE BRASILIA HMIB</td>\n",
       "      <td>18151.0</td>\n",
       "      <td>1023.0</td>\n",
       "      <td>-47.897709</td>\n",
       "      <td>-15.823910</td>\n",
       "      <td>ORGAO PUBLICO DO PODER EXECUTIVO ESTADUAL OU D...</td>\n",
       "    </tr>\n",
       "    <tr>\n",
       "      <th>3</th>\n",
       "      <td>5117666</td>\n",
       "      <td>UNIDADE BASICA DE SAUDE N 5 ASA NORTE</td>\n",
       "      <td>UBS 5 GRANJA DO TORTO</td>\n",
       "      <td>18313.0</td>\n",
       "      <td>1023.0</td>\n",
       "      <td>-47.905893</td>\n",
       "      <td>-15.819210</td>\n",
       "      <td>ORGAO PUBLICO DO PODER EXECUTIVO ESTADUAL OU D...</td>\n",
       "    </tr>\n",
       "    <tr>\n",
       "      <th>4</th>\n",
       "      <td>10758</td>\n",
       "      <td>UNIDADE BASICA DE SAUDE N 2 CRUZEIRO</td>\n",
       "      <td>UBS 2 CRUZEIRO</td>\n",
       "      <td>18314.0</td>\n",
       "      <td>1023.0</td>\n",
       "      <td>-47.944787</td>\n",
       "      <td>-15.789660</td>\n",
       "      <td>ORGAO PUBLICO DO PODER EXECUTIVO ESTADUAL OU D...</td>\n",
       "    </tr>\n",
       "  </tbody>\n",
       "</table>\n",
       "</div>"
      ]
     },
     "metadata": {},
     "execution_count": 14
    }
   ],
   "metadata": {}
  },
  {
   "cell_type": "code",
   "execution_count": 15,
   "source": [
    "#Visão geral dos postos do DF\n",
    "\n",
    "dfPostosDF.info()"
   ],
   "outputs": [
    {
     "output_type": "stream",
     "name": "stdout",
     "text": [
      "<class 'pandas.core.frame.DataFrame'>\n",
      "Int64Index: 116 entries, 0 to 115\n",
      "Data columns (total 8 columns):\n",
      " #   Column                Non-Null Count  Dtype  \n",
      "---  ------                --------------  -----  \n",
      " 0   id                    116 non-null    int64  \n",
      " 1   nm_razao_social       116 non-null    object \n",
      " 2   nm_fantasia           116 non-null    object \n",
      " 3   id_cep                116 non-null    float64\n",
      " 4   id_natureza_juridica  116 non-null    float64\n",
      " 5   lat                   116 non-null    float64\n",
      " 6   lon                   116 non-null    float64\n",
      " 7   natureza_juridica     116 non-null    object \n",
      "dtypes: float64(4), int64(1), object(3)\n",
      "memory usage: 8.2+ KB\n"
     ]
    }
   ],
   "metadata": {}
  },
  {
   "cell_type": "code",
   "execution_count": 16,
   "source": [
    "# Analisando os dados de natureza jurídica\n",
    "dfPostosDF.natureza_juridica.value_counts()"
   ],
   "outputs": [
    {
     "output_type": "execute_result",
     "data": {
      "text/plain": [
       "ORGAO PUBLICO DO PODER EXECUTIVO ESTADUAL OU DO DISTRITO FEDERAL    107\n",
       "ORGAO PUBLICO DO PODER EXECUTIVO FEDERAL                              4\n",
       "SERVICO SOCIAL AUTONOMO                                               2\n",
       "FUNDACAO ESTADUAL OU DO DISTRITO FEDERAL                              1\n",
       "FUNDACAO FEDERAL                                                      1\n",
       "ORGAO PUBLICO DO PODER LEGISLATIVO FEDERAL                            1\n",
       "Name: natureza_juridica, dtype: int64"
      ]
     },
     "metadata": {},
     "execution_count": 16
    }
   ],
   "metadata": {}
  },
  {
   "cell_type": "code",
   "execution_count": 17,
   "source": [
    "# Lista de todos os pontos de vacinação do DF encontrados na base de dados\n",
    "\n",
    "pd.set_option(\"max_rows\", None)\n",
    "dfPostosDF.nm_fantasia"
   ],
   "outputs": [
    {
     "output_type": "execute_result",
     "data": {
      "text/plain": [
       "0         DEPARTAMENTO MEDICO CAMARA DOS DEPUTADOS\n",
       "1                                   UBS 01 ASA SUL\n",
       "2       HOSPITAL MATERNO INFANTIL DE BRASILIA HMIB\n",
       "3                            UBS 5 GRANJA DO TORTO\n",
       "4                                   UBS 2 CRUZEIRO\n",
       "5                                   UBS 1 CRUZEIRO\n",
       "6                                             HRAN\n",
       "7                                  UBS 2 ASA NORTE\n",
       "8                                  UBS 1 ASA NORTE\n",
       "9                    UBS 3 ASA NORTE VILA PLANALTO\n",
       "10                    HOSPITAL REGIONAL DO GUARA I\n",
       "11                                    UBS 01 GUARA\n",
       "12                        UBS 04 GUARA LUCIO COSTA\n",
       "13                               UBS 01 ESTRUTURAL\n",
       "14                                    UBS 02 GUARA\n",
       "15                                    UBS 03 GUARA\n",
       "16                                  UBS 01 SIA CPP\n",
       "17                               UBS 02 ESTRUTURAL\n",
       "18                                UBS 1 LAGO NORTE\n",
       "19                                    UBS 1 VARJAO\n",
       "20                                             HRL\n",
       "21                                   UBS 1 PARANOA\n",
       "22                            UBS 3 PARANOA PARQUE\n",
       "23                         UBS 4 JARDIM II PARANOA\n",
       "24                    UBS 7 CAFE SEM TROCO PARANOA\n",
       "25                        UBS 5 QUEBRADA DOS NERES\n",
       "26                            UBS 6 CARIRU PARANOA\n",
       "27                             UBS 8 PADDF PARANOA\n",
       "28                                    UBS 1 ITAPOA\n",
       "29                            POLICLINICA LAGO SUL\n",
       "30                       UBS 2 T R E SAO SEBASTIAO\n",
       "31                             UBS 1 SAO SEBASTIAO\n",
       "32               UBS 6 SAO FRANCISCO SAO SEBASTIAO\n",
       "33                UBS 19 VILA DO BOA SAO SEBASTIAO\n",
       "34                        UBS 14 CDP SAO SEBASTIAO\n",
       "35     UBS 9 RESIDENCIAL DO BOSQUE 1 SAO SEBASTIAO\n",
       "36               UBS 10 JOAO CANDIDO SAO SEBASTIAO\n",
       "37                       UBS 01 NUCLEO BANDEIRANTE\n",
       "38                           UBS 01 CANDANGOLANDIA\n",
       "39                       UBS 02 NUCLEO BANDEIRANTE\n",
       "40                           UBS 01 RIACHO FUNDO I\n",
       "41                          UBS 02 RIACHO FUNDO II\n",
       "42                          UBS 01 RIACHO FUNDO II\n",
       "43                            UBS 01 VICENTE PIRES\n",
       "44             HRT HOSPITAL REGIONAL DE TAGUATINGA\n",
       "45                               UBS 02 TAGUATINGA\n",
       "46                               UBS 07 TAGUATINGA\n",
       "47                               UBS 08 TAGUATINGA\n",
       "48                               UBS 01 TAGUATINGA\n",
       "49                               UBS 05 TAGUATINGA\n",
       "50                               UBS 06 TAGUATINGA\n",
       "51                             UBS 02 AGUAS CLARAS\n",
       "52                                 UBS 5 CEILANDIA\n",
       "53                                 UBS 3 CEILANDIA\n",
       "54                  HOSPITAL REGIONAL DE CEILANDIA\n",
       "55                                UBS 10 CEILANDIA\n",
       "56                                 UBS 2 CEILANDIA\n",
       "57                                 UBS 6 CEILANDIA\n",
       "58                                UBS 17 CEILANDIA\n",
       "59                                UBS 16 CEILANDIA\n",
       "60                                 UBS 8 CEILANDIA\n",
       "61                                 UBS 7 CEILANDIA\n",
       "62                                UBS 12 CEILANDIA\n",
       "63                                UBS 07 SAMAMBAIA\n",
       "64                                UBS 12 SAMAMBAIA\n",
       "65                                UBS 05 SAMAMBAIA\n",
       "66            HRSAM HOSPITAL REGIONAL DE SAMAMBAIA\n",
       "67                                UBS 02 SAMAMBAIA\n",
       "68                                             HRG\n",
       "69                                      UBS 5 GAMA\n",
       "70                                      UBS 2 GAMA\n",
       "71                                      UBS 1 GAMA\n",
       "72                                UBS 15 PFDF GAMA\n",
       "73                    UBS 9 ENGENHO DAS LAGES GAMA\n",
       "74                                 UBS 16 ATP GAMA\n",
       "75                              UBS 10 SANTA MARIA\n",
       "76                          UBS 12 PONTE ALTA GAMA\n",
       "77                                      UBS 3 GAMA\n",
       "78                                      UBS 4 GAMA\n",
       "79                                      UBS 6 GAMA\n",
       "80                                      UBS 7 GAMA\n",
       "81                               UBS 3 SANTA MARIA\n",
       "82                               UBS 6 SANTA MARIA\n",
       "83                               UBS 1 SANTA MARIA\n",
       "84                               UBS 5 SANTA MARIA\n",
       "85                               UBS 2 SANTA MARIA\n",
       "86                               UBS 8 SANTA MARIA\n",
       "87                               UBS 7 SANTA MARIA\n",
       "88                         UBS 02 RECANTO DAS EMAS\n",
       "89           UBS 08 RECANTO DAS EMAS SAO FRANCISCO\n",
       "90                         UBS 03 RECANTO DAS EMAS\n",
       "91                         UBS 01 RECANTO DAS EMAS\n",
       "92                         UBS 10 RECANTO DAS EMAS\n",
       "93                                UBS 1 BRAZLANDIA\n",
       "94                                            HRBZ\n",
       "95                     UBS 4 VEREDAS II BRAZLANDIA\n",
       "96            UBS 5 SETOR DE MANSOES SOBRADINHO II\n",
       "97                                UBS 2 SOBRADINHO\n",
       "98                                UBS 1 SOBRADINHO\n",
       "99                             UBS 1 SOBRADINHO II\n",
       "100                            UBS 2 SOBRADINHO II\n",
       "101           UBS 4 SETOR DE MANSOES SOBRADINHO II\n",
       "102                     UBS 1 ENGENHO VELHO FERCAL\n",
       "103                               UBS 3 PLANALTINA\n",
       "104                                           HRPL\n",
       "105                              UBS 20 PLANALTINA\n",
       "106                               UBS 5 PLANALTINA\n",
       "107                               UBS 4 PLANALTINA\n",
       "108             HOSPITAL UNIVERSITARIO DE BRASILIA\n",
       "109                     HOSPITAL NAVAL DE BRASILIA\n",
       "110           HOSPITAL MILITAR DE AREA DE BRASILIA\n",
       "111                                            HFA\n",
       "112       HOSPITAL DE FORCA AEREA DE BRASILIA HFAB\n",
       "113           HOSPITAL DE BASE DO DISTRITO FEDERAL\n",
       "114                                           HRSM\n",
       "115                                            HRS\n",
       "Name: nm_fantasia, dtype: object"
      ]
     },
     "metadata": {},
     "execution_count": 17
    }
   ],
   "metadata": {}
  },
  {
   "cell_type": "code",
   "execution_count": 18,
   "source": [
    "# criando o mapa e o geodataframe\n",
    "import folium as fl\n",
    "import geopandas\n",
    "\n",
    "m = fl.Map(location=[-15.7751257, -48.0785352],tiles='OpenStreetMap',zoom_control=False)\n",
    "\n",
    "dfPostosDF.rename(columns={\"lat\":\"long\",\"lon\":\"lati\"},inplace=True)\n",
    "\n",
    "dfPostosGeo = geopandas.GeoDataFrame(dfPostosDF, \n",
    "geometry = geopandas.points_from_xy(dfPostosDF.long, dfPostosDF.lati))"
   ],
   "outputs": [],
   "metadata": {}
  },
  {
   "cell_type": "code",
   "execution_count": 19,
   "source": [
    "#marcadores\n",
    "\n",
    "from folium.plugins import MeasureControl\n",
    "\n",
    "ubs = fl.FeatureGroup(name='UBS DF - Pontos de vacinação Covid-19')\n",
    "\n",
    "for i in range(0,len(dfPostosGeo)):\n",
    "  fl.Marker([dfPostosGeo.loc[i,'lati'],dfPostosGeo.loc[i,'long']],\n",
    "  tooltip= dfPostosGeo.loc[i,'nm_fantasia'],\n",
    "  icon=fl.Icon(color='blue')\n",
    "  ).add_to(ubs)\n",
    "\n",
    " \n",
    "m.add_child(ubs)\n",
    "m.add_child(MeasureControl())\n",
    "m.add_child(fl.LatLngPopup())\n",
    "fl.LayerControl().add_to(m)\n",
    "m"
   ],
   "outputs": [
    {
     "output_type": "execute_result",
     "data": {
      "text/plain": [
       "<folium.folium.Map at 0x7f9f55fa9910>"
      ],
      "text/html": [
       "<div style=\"width:100%;\"><div style=\"position:relative;width:100%;height:0;padding-bottom:60%;\"><span style=\"color:#565656\">Make this Notebook Trusted to load map: File -> Trust Notebook</span><iframe src=\"about:blank\" style=\"position:absolute;width:100%;height:100%;left:0;top:0;border:none !important;\" data-html=%3C%21DOCTYPE%20html%3E%0A%3Chead%3E%20%20%20%20%0A%20%20%20%20%3Cmeta%20http-equiv%3D%22content-type%22%20content%3D%22text/html%3B%20charset%3DUTF-8%22%20/%3E%0A%20%20%20%20%0A%20%20%20%20%20%20%20%20%3Cscript%3E%0A%20%20%20%20%20%20%20%20%20%20%20%20L_NO_TOUCH%20%3D%20false%3B%0A%20%20%20%20%20%20%20%20%20%20%20%20L_DISABLE_3D%20%3D%20false%3B%0A%20%20%20%20%20%20%20%20%3C/script%3E%0A%20%20%20%20%0A%20%20%20%20%3Cstyle%3Ehtml%2C%20body%20%7Bwidth%3A%20100%25%3Bheight%3A%20100%25%3Bmargin%3A%200%3Bpadding%3A%200%3B%7D%3C/style%3E%0A%20%20%20%20%3Cstyle%3E%23map%20%7Bposition%3Aabsolute%3Btop%3A0%3Bbottom%3A0%3Bright%3A0%3Bleft%3A0%3B%7D%3C/style%3E%0A%20%20%20%20%3Cscript%20src%3D%22https%3A//cdn.jsdelivr.net/npm/leaflet%401.6.0/dist/leaflet.js%22%3E%3C/script%3E%0A%20%20%20%20%3Cscript%20src%3D%22https%3A//code.jquery.com/jquery-1.12.4.min.js%22%3E%3C/script%3E%0A%20%20%20%20%3Cscript%20src%3D%22https%3A//maxcdn.bootstrapcdn.com/bootstrap/3.2.0/js/bootstrap.min.js%22%3E%3C/script%3E%0A%20%20%20%20%3Cscript%20src%3D%22https%3A//cdnjs.cloudflare.com/ajax/libs/Leaflet.awesome-markers/2.0.2/leaflet.awesome-markers.js%22%3E%3C/script%3E%0A%20%20%20%20%3Clink%20rel%3D%22stylesheet%22%20href%3D%22https%3A//cdn.jsdelivr.net/npm/leaflet%401.6.0/dist/leaflet.css%22/%3E%0A%20%20%20%20%3Clink%20rel%3D%22stylesheet%22%20href%3D%22https%3A//maxcdn.bootstrapcdn.com/bootstrap/3.2.0/css/bootstrap.min.css%22/%3E%0A%20%20%20%20%3Clink%20rel%3D%22stylesheet%22%20href%3D%22https%3A//maxcdn.bootstrapcdn.com/bootstrap/3.2.0/css/bootstrap-theme.min.css%22/%3E%0A%20%20%20%20%3Clink%20rel%3D%22stylesheet%22%20href%3D%22https%3A//maxcdn.bootstrapcdn.com/font-awesome/4.6.3/css/font-awesome.min.css%22/%3E%0A%20%20%20%20%3Clink%20rel%3D%22stylesheet%22%20href%3D%22https%3A//cdnjs.cloudflare.com/ajax/libs/Leaflet.awesome-markers/2.0.2/leaflet.awesome-markers.css%22/%3E%0A%20%20%20%20%3Clink%20rel%3D%22stylesheet%22%20href%3D%22https%3A//cdn.jsdelivr.net/gh/python-visualization/folium/folium/templates/leaflet.awesome.rotate.min.css%22/%3E%0A%20%20%20%20%0A%20%20%20%20%20%20%20%20%20%20%20%20%3Cmeta%20name%3D%22viewport%22%20content%3D%22width%3Ddevice-width%2C%0A%20%20%20%20%20%20%20%20%20%20%20%20%20%20%20%20initial-scale%3D1.0%2C%20maximum-scale%3D1.0%2C%20user-scalable%3Dno%22%20/%3E%0A%20%20%20%20%20%20%20%20%20%20%20%20%3Cstyle%3E%0A%20%20%20%20%20%20%20%20%20%20%20%20%20%20%20%20%23map_546fe9d908d34ccf8de53fdfb908e87a%20%7B%0A%20%20%20%20%20%20%20%20%20%20%20%20%20%20%20%20%20%20%20%20position%3A%20relative%3B%0A%20%20%20%20%20%20%20%20%20%20%20%20%20%20%20%20%20%20%20%20width%3A%20100.0%25%3B%0A%20%20%20%20%20%20%20%20%20%20%20%20%20%20%20%20%20%20%20%20height%3A%20100.0%25%3B%0A%20%20%20%20%20%20%20%20%20%20%20%20%20%20%20%20%20%20%20%20left%3A%200.0%25%3B%0A%20%20%20%20%20%20%20%20%20%20%20%20%20%20%20%20%20%20%20%20top%3A%200.0%25%3B%0A%20%20%20%20%20%20%20%20%20%20%20%20%20%20%20%20%7D%0A%20%20%20%20%20%20%20%20%20%20%20%20%3C/style%3E%0A%20%20%20%20%20%20%20%20%0A%20%20%20%20%3Cscript%20src%3D%22https%3A//cdn.jsdelivr.net/gh/ljagis/leaflet-measure%402.1.7/dist/leaflet-measure.min.js%22%3E%3C/script%3E%0A%20%20%20%20%3Clink%20rel%3D%22stylesheet%22%20href%3D%22https%3A//cdn.jsdelivr.net/gh/ljagis/leaflet-measure%402.1.7/dist/leaflet-measure.min.css%22/%3E%0A%3C/head%3E%0A%3Cbody%3E%20%20%20%20%0A%20%20%20%20%0A%20%20%20%20%20%20%20%20%20%20%20%20%3Cdiv%20class%3D%22folium-map%22%20id%3D%22map_546fe9d908d34ccf8de53fdfb908e87a%22%20%3E%3C/div%3E%0A%20%20%20%20%20%20%20%20%0A%3C/body%3E%0A%3Cscript%3E%20%20%20%20%0A%20%20%20%20%0A%20%20%20%20%20%20%20%20%20%20%20%20var%20map_546fe9d908d34ccf8de53fdfb908e87a%20%3D%20L.map%28%0A%20%20%20%20%20%20%20%20%20%20%20%20%20%20%20%20%22map_546fe9d908d34ccf8de53fdfb908e87a%22%2C%0A%20%20%20%20%20%20%20%20%20%20%20%20%20%20%20%20%7B%0A%20%20%20%20%20%20%20%20%20%20%20%20%20%20%20%20%20%20%20%20center%3A%20%5B-15.7751257%2C%20-48.0785352%5D%2C%0A%20%20%20%20%20%20%20%20%20%20%20%20%20%20%20%20%20%20%20%20crs%3A%20L.CRS.EPSG3857%2C%0A%20%20%20%20%20%20%20%20%20%20%20%20%20%20%20%20%20%20%20%20zoom%3A%2010%2C%0A%20%20%20%20%20%20%20%20%20%20%20%20%20%20%20%20%20%20%20%20zoomControl%3A%20false%2C%0A%20%20%20%20%20%20%20%20%20%20%20%20%20%20%20%20%20%20%20%20preferCanvas%3A%20false%2C%0A%20%20%20%20%20%20%20%20%20%20%20%20%20%20%20%20%7D%0A%20%20%20%20%20%20%20%20%20%20%20%20%29%3B%0A%0A%20%20%20%20%20%20%20%20%20%20%20%20%0A%0A%20%20%20%20%20%20%20%20%0A%20%20%20%20%0A%20%20%20%20%20%20%20%20%20%20%20%20var%20tile_layer_8bf206cde75a46398fa8594ff4c42648%20%3D%20L.tileLayer%28%0A%20%20%20%20%20%20%20%20%20%20%20%20%20%20%20%20%22https%3A//%7Bs%7D.tile.openstreetmap.org/%7Bz%7D/%7Bx%7D/%7By%7D.png%22%2C%0A%20%20%20%20%20%20%20%20%20%20%20%20%20%20%20%20%7B%22attribution%22%3A%20%22Data%20by%20%5Cu0026copy%3B%20%5Cu003ca%20href%3D%5C%22http%3A//openstreetmap.org%5C%22%5Cu003eOpenStreetMap%5Cu003c/a%5Cu003e%2C%20under%20%5Cu003ca%20href%3D%5C%22http%3A//www.openstreetmap.org/copyright%5C%22%5Cu003eODbL%5Cu003c/a%5Cu003e.%22%2C%20%22detectRetina%22%3A%20false%2C%20%22maxNativeZoom%22%3A%2018%2C%20%22maxZoom%22%3A%2018%2C%20%22minZoom%22%3A%200%2C%20%22noWrap%22%3A%20false%2C%20%22opacity%22%3A%201%2C%20%22subdomains%22%3A%20%22abc%22%2C%20%22tms%22%3A%20false%7D%0A%20%20%20%20%20%20%20%20%20%20%20%20%29.addTo%28map_546fe9d908d34ccf8de53fdfb908e87a%29%3B%0A%20%20%20%20%20%20%20%20%0A%20%20%20%20%0A%20%20%20%20%20%20%20%20%20%20%20%20var%20feature_group_3345e6ede6214681a3e06aed36ec4d59%20%3D%20L.featureGroup%28%0A%20%20%20%20%20%20%20%20%20%20%20%20%20%20%20%20%7B%7D%0A%20%20%20%20%20%20%20%20%20%20%20%20%29.addTo%28map_546fe9d908d34ccf8de53fdfb908e87a%29%3B%0A%20%20%20%20%20%20%20%20%0A%20%20%20%20%0A%20%20%20%20%20%20%20%20%20%20%20%20var%20marker_379ffb7a32cf406c9762c3c0cc6973f4%20%3D%20L.marker%28%0A%20%20%20%20%20%20%20%20%20%20%20%20%20%20%20%20%5B-15.8006687164307%2C%20-47.8612823486328%5D%2C%0A%20%20%20%20%20%20%20%20%20%20%20%20%20%20%20%20%7B%7D%0A%20%20%20%20%20%20%20%20%20%20%20%20%29.addTo%28feature_group_3345e6ede6214681a3e06aed36ec4d59%29%3B%0A%20%20%20%20%20%20%20%20%0A%20%20%20%20%0A%20%20%20%20%20%20%20%20%20%20%20%20var%20icon_d7f1741678eb4b46bc6e8f04fe9b490d%20%3D%20L.AwesomeMarkers.icon%28%0A%20%20%20%20%20%20%20%20%20%20%20%20%20%20%20%20%7B%22extraClasses%22%3A%20%22fa-rotate-0%22%2C%20%22icon%22%3A%20%22info-sign%22%2C%20%22iconColor%22%3A%20%22white%22%2C%20%22markerColor%22%3A%20%22blue%22%2C%20%22prefix%22%3A%20%22glyphicon%22%7D%0A%20%20%20%20%20%20%20%20%20%20%20%20%29%3B%0A%20%20%20%20%20%20%20%20%20%20%20%20marker_379ffb7a32cf406c9762c3c0cc6973f4.setIcon%28icon_d7f1741678eb4b46bc6e8f04fe9b490d%29%3B%0A%20%20%20%20%20%20%20%20%0A%20%20%20%20%0A%20%20%20%20%20%20%20%20%20%20%20%20marker_379ffb7a32cf406c9762c3c0cc6973f4.bindTooltip%28%0A%20%20%20%20%20%20%20%20%20%20%20%20%20%20%20%20%60%3Cdiv%3E%0A%20%20%20%20%20%20%20%20%20%20%20%20%20%20%20%20%20%20%20%20%20DEPARTAMENTO%20MEDICO%20CAMARA%20DOS%20DEPUTADOS%0A%20%20%20%20%20%20%20%20%20%20%20%20%20%20%20%20%20%3C/div%3E%60%2C%0A%20%20%20%20%20%20%20%20%20%20%20%20%20%20%20%20%7B%22sticky%22%3A%20true%7D%0A%20%20%20%20%20%20%20%20%20%20%20%20%29%3B%0A%20%20%20%20%20%20%20%20%0A%20%20%20%20%0A%20%20%20%20%20%20%20%20%20%20%20%20var%20marker_76233ade106c4158ae0d64e97ad083d6%20%3D%20L.marker%28%0A%20%20%20%20%20%20%20%20%20%20%20%20%20%20%20%20%5B-15.8221045703423%2C%20-47.8915749526605%5D%2C%0A%20%20%20%20%20%20%20%20%20%20%20%20%20%20%20%20%7B%7D%0A%20%20%20%20%20%20%20%20%20%20%20%20%29.addTo%28feature_group_3345e6ede6214681a3e06aed36ec4d59%29%3B%0A%20%20%20%20%20%20%20%20%0A%20%20%20%20%0A%20%20%20%20%20%20%20%20%20%20%20%20var%20icon_0b4b1b6fc6c5428589d8bfaf23d9634e%20%3D%20L.AwesomeMarkers.icon%28%0A%20%20%20%20%20%20%20%20%20%20%20%20%20%20%20%20%7B%22extraClasses%22%3A%20%22fa-rotate-0%22%2C%20%22icon%22%3A%20%22info-sign%22%2C%20%22iconColor%22%3A%20%22white%22%2C%20%22markerColor%22%3A%20%22blue%22%2C%20%22prefix%22%3A%20%22glyphicon%22%7D%0A%20%20%20%20%20%20%20%20%20%20%20%20%29%3B%0A%20%20%20%20%20%20%20%20%20%20%20%20marker_76233ade106c4158ae0d64e97ad083d6.setIcon%28icon_0b4b1b6fc6c5428589d8bfaf23d9634e%29%3B%0A%20%20%20%20%20%20%20%20%0A%20%20%20%20%0A%20%20%20%20%20%20%20%20%20%20%20%20marker_76233ade106c4158ae0d64e97ad083d6.bindTooltip%28%0A%20%20%20%20%20%20%20%20%20%20%20%20%20%20%20%20%60%3Cdiv%3E%0A%20%20%20%20%20%20%20%20%20%20%20%20%20%20%20%20%20%20%20%20%20UBS%2001%20ASA%20SUL%0A%20%20%20%20%20%20%20%20%20%20%20%20%20%20%20%20%20%3C/div%3E%60%2C%0A%20%20%20%20%20%20%20%20%20%20%20%20%20%20%20%20%7B%22sticky%22%3A%20true%7D%0A%20%20%20%20%20%20%20%20%20%20%20%20%29%3B%0A%20%20%20%20%20%20%20%20%0A%20%20%20%20%0A%20%20%20%20%20%20%20%20%20%20%20%20var%20marker_5aa7b9bc9b5f4365a6cc5abba77bad8a%20%3D%20L.marker%28%0A%20%20%20%20%20%20%20%20%20%20%20%20%20%20%20%20%5B-15.8239097595215%2C%20-47.8977088928223%5D%2C%0A%20%20%20%20%20%20%20%20%20%20%20%20%20%20%20%20%7B%7D%0A%20%20%20%20%20%20%20%20%20%20%20%20%29.addTo%28feature_group_3345e6ede6214681a3e06aed36ec4d59%29%3B%0A%20%20%20%20%20%20%20%20%0A%20%20%20%20%0A%20%20%20%20%20%20%20%20%20%20%20%20var%20icon_00ccd440a3b64532b6ae04b140a0aa0d%20%3D%20L.AwesomeMarkers.icon%28%0A%20%20%20%20%20%20%20%20%20%20%20%20%20%20%20%20%7B%22extraClasses%22%3A%20%22fa-rotate-0%22%2C%20%22icon%22%3A%20%22info-sign%22%2C%20%22iconColor%22%3A%20%22white%22%2C%20%22markerColor%22%3A%20%22blue%22%2C%20%22prefix%22%3A%20%22glyphicon%22%7D%0A%20%20%20%20%20%20%20%20%20%20%20%20%29%3B%0A%20%20%20%20%20%20%20%20%20%20%20%20marker_5aa7b9bc9b5f4365a6cc5abba77bad8a.setIcon%28icon_00ccd440a3b64532b6ae04b140a0aa0d%29%3B%0A%20%20%20%20%20%20%20%20%0A%20%20%20%20%0A%20%20%20%20%20%20%20%20%20%20%20%20marker_5aa7b9bc9b5f4365a6cc5abba77bad8a.bindTooltip%28%0A%20%20%20%20%20%20%20%20%20%20%20%20%20%20%20%20%60%3Cdiv%3E%0A%20%20%20%20%20%20%20%20%20%20%20%20%20%20%20%20%20%20%20%20%20HOSPITAL%20MATERNO%20INFANTIL%20DE%20BRASILIA%20HMIB%0A%20%20%20%20%20%20%20%20%20%20%20%20%20%20%20%20%20%3C/div%3E%60%2C%0A%20%20%20%20%20%20%20%20%20%20%20%20%20%20%20%20%7B%22sticky%22%3A%20true%7D%0A%20%20%20%20%20%20%20%20%20%20%20%20%29%3B%0A%20%20%20%20%20%20%20%20%0A%20%20%20%20%0A%20%20%20%20%20%20%20%20%20%20%20%20var%20marker_6beef27e597f4df1b25d48107f7addf1%20%3D%20L.marker%28%0A%20%20%20%20%20%20%20%20%20%20%20%20%20%20%20%20%5B-15.8192100524902%2C%20-47.9058933258057%5D%2C%0A%20%20%20%20%20%20%20%20%20%20%20%20%20%20%20%20%7B%7D%0A%20%20%20%20%20%20%20%20%20%20%20%20%29.addTo%28feature_group_3345e6ede6214681a3e06aed36ec4d59%29%3B%0A%20%20%20%20%20%20%20%20%0A%20%20%20%20%0A%20%20%20%20%20%20%20%20%20%20%20%20var%20icon_a61f5f6183794f99b9b7cc2c78417b98%20%3D%20L.AwesomeMarkers.icon%28%0A%20%20%20%20%20%20%20%20%20%20%20%20%20%20%20%20%7B%22extraClasses%22%3A%20%22fa-rotate-0%22%2C%20%22icon%22%3A%20%22info-sign%22%2C%20%22iconColor%22%3A%20%22white%22%2C%20%22markerColor%22%3A%20%22blue%22%2C%20%22prefix%22%3A%20%22glyphicon%22%7D%0A%20%20%20%20%20%20%20%20%20%20%20%20%29%3B%0A%20%20%20%20%20%20%20%20%20%20%20%20marker_6beef27e597f4df1b25d48107f7addf1.setIcon%28icon_a61f5f6183794f99b9b7cc2c78417b98%29%3B%0A%20%20%20%20%20%20%20%20%0A%20%20%20%20%0A%20%20%20%20%20%20%20%20%20%20%20%20marker_6beef27e597f4df1b25d48107f7addf1.bindTooltip%28%0A%20%20%20%20%20%20%20%20%20%20%20%20%20%20%20%20%60%3Cdiv%3E%0A%20%20%20%20%20%20%20%20%20%20%20%20%20%20%20%20%20%20%20%20%20UBS%205%20GRANJA%20DO%20TORTO%0A%20%20%20%20%20%20%20%20%20%20%20%20%20%20%20%20%20%3C/div%3E%60%2C%0A%20%20%20%20%20%20%20%20%20%20%20%20%20%20%20%20%7B%22sticky%22%3A%20true%7D%0A%20%20%20%20%20%20%20%20%20%20%20%20%29%3B%0A%20%20%20%20%20%20%20%20%0A%20%20%20%20%0A%20%20%20%20%20%20%20%20%20%20%20%20var%20marker_32caf8563ff14ecb9d23fa3fc98fbdf7%20%3D%20L.marker%28%0A%20%20%20%20%20%20%20%20%20%20%20%20%20%20%20%20%5B-15.7896597726004%2C%20-47.9447870130663%5D%2C%0A%20%20%20%20%20%20%20%20%20%20%20%20%20%20%20%20%7B%7D%0A%20%20%20%20%20%20%20%20%20%20%20%20%29.addTo%28feature_group_3345e6ede6214681a3e06aed36ec4d59%29%3B%0A%20%20%20%20%20%20%20%20%0A%20%20%20%20%0A%20%20%20%20%20%20%20%20%20%20%20%20var%20icon_050b941e4bfc401394c12af2217d7209%20%3D%20L.AwesomeMarkers.icon%28%0A%20%20%20%20%20%20%20%20%20%20%20%20%20%20%20%20%7B%22extraClasses%22%3A%20%22fa-rotate-0%22%2C%20%22icon%22%3A%20%22info-sign%22%2C%20%22iconColor%22%3A%20%22white%22%2C%20%22markerColor%22%3A%20%22blue%22%2C%20%22prefix%22%3A%20%22glyphicon%22%7D%0A%20%20%20%20%20%20%20%20%20%20%20%20%29%3B%0A%20%20%20%20%20%20%20%20%20%20%20%20marker_32caf8563ff14ecb9d23fa3fc98fbdf7.setIcon%28icon_050b941e4bfc401394c12af2217d7209%29%3B%0A%20%20%20%20%20%20%20%20%0A%20%20%20%20%0A%20%20%20%20%20%20%20%20%20%20%20%20marker_32caf8563ff14ecb9d23fa3fc98fbdf7.bindTooltip%28%0A%20%20%20%20%20%20%20%20%20%20%20%20%20%20%20%20%60%3Cdiv%3E%0A%20%20%20%20%20%20%20%20%20%20%20%20%20%20%20%20%20%20%20%20%20UBS%202%20CRUZEIRO%0A%20%20%20%20%20%20%20%20%20%20%20%20%20%20%20%20%20%3C/div%3E%60%2C%0A%20%20%20%20%20%20%20%20%20%20%20%20%20%20%20%20%7B%22sticky%22%3A%20true%7D%0A%20%20%20%20%20%20%20%20%20%20%20%20%29%3B%0A%20%20%20%20%20%20%20%20%0A%20%20%20%20%0A%20%20%20%20%20%20%20%20%20%20%20%20var%20marker_abfadde4d2c740dbbedd139fca063ceb%20%3D%20L.marker%28%0A%20%20%20%20%20%20%20%20%20%20%20%20%20%20%20%20%5B-15.7981074436291%2C%20-47.9359308964497%5D%2C%0A%20%20%20%20%20%20%20%20%20%20%20%20%20%20%20%20%7B%7D%0A%20%20%20%20%20%20%20%20%20%20%20%20%29.addTo%28feature_group_3345e6ede6214681a3e06aed36ec4d59%29%3B%0A%20%20%20%20%20%20%20%20%0A%20%20%20%20%0A%20%20%20%20%20%20%20%20%20%20%20%20var%20icon_35075fd813b04af1b54dec47596880bb%20%3D%20L.AwesomeMarkers.icon%28%0A%20%20%20%20%20%20%20%20%20%20%20%20%20%20%20%20%7B%22extraClasses%22%3A%20%22fa-rotate-0%22%2C%20%22icon%22%3A%20%22info-sign%22%2C%20%22iconColor%22%3A%20%22white%22%2C%20%22markerColor%22%3A%20%22blue%22%2C%20%22prefix%22%3A%20%22glyphicon%22%7D%0A%20%20%20%20%20%20%20%20%20%20%20%20%29%3B%0A%20%20%20%20%20%20%20%20%20%20%20%20marker_abfadde4d2c740dbbedd139fca063ceb.setIcon%28icon_35075fd813b04af1b54dec47596880bb%29%3B%0A%20%20%20%20%20%20%20%20%0A%20%20%20%20%0A%20%20%20%20%20%20%20%20%20%20%20%20marker_abfadde4d2c740dbbedd139fca063ceb.bindTooltip%28%0A%20%20%20%20%20%20%20%20%20%20%20%20%20%20%20%20%60%3Cdiv%3E%0A%20%20%20%20%20%20%20%20%20%20%20%20%20%20%20%20%20%20%20%20%20UBS%201%20CRUZEIRO%0A%20%20%20%20%20%20%20%20%20%20%20%20%20%20%20%20%20%3C/div%3E%60%2C%0A%20%20%20%20%20%20%20%20%20%20%20%20%20%20%20%20%7B%22sticky%22%3A%20true%7D%0A%20%20%20%20%20%20%20%20%20%20%20%20%29%3B%0A%20%20%20%20%20%20%20%20%0A%20%20%20%20%0A%20%20%20%20%20%20%20%20%20%20%20%20var%20marker_78344e5d48b64c0e8655afc693a64cf8%20%3D%20L.marker%28%0A%20%20%20%20%20%20%20%20%20%20%20%20%20%20%20%20%5B-15.7820812722911%2C%20-47.8858330768088%5D%2C%0A%20%20%20%20%20%20%20%20%20%20%20%20%20%20%20%20%7B%7D%0A%20%20%20%20%20%20%20%20%20%20%20%20%29.addTo%28feature_group_3345e6ede6214681a3e06aed36ec4d59%29%3B%0A%20%20%20%20%20%20%20%20%0A%20%20%20%20%0A%20%20%20%20%20%20%20%20%20%20%20%20var%20icon_64450efa71d245c0bc0fcfc1323d5165%20%3D%20L.AwesomeMarkers.icon%28%0A%20%20%20%20%20%20%20%20%20%20%20%20%20%20%20%20%7B%22extraClasses%22%3A%20%22fa-rotate-0%22%2C%20%22icon%22%3A%20%22info-sign%22%2C%20%22iconColor%22%3A%20%22white%22%2C%20%22markerColor%22%3A%20%22blue%22%2C%20%22prefix%22%3A%20%22glyphicon%22%7D%0A%20%20%20%20%20%20%20%20%20%20%20%20%29%3B%0A%20%20%20%20%20%20%20%20%20%20%20%20marker_78344e5d48b64c0e8655afc693a64cf8.setIcon%28icon_64450efa71d245c0bc0fcfc1323d5165%29%3B%0A%20%20%20%20%20%20%20%20%0A%20%20%20%20%0A%20%20%20%20%20%20%20%20%20%20%20%20marker_78344e5d48b64c0e8655afc693a64cf8.bindTooltip%28%0A%20%20%20%20%20%20%20%20%20%20%20%20%20%20%20%20%60%3Cdiv%3E%0A%20%20%20%20%20%20%20%20%20%20%20%20%20%20%20%20%20%20%20%20%20HRAN%0A%20%20%20%20%20%20%20%20%20%20%20%20%20%20%20%20%20%3C/div%3E%60%2C%0A%20%20%20%20%20%20%20%20%20%20%20%20%20%20%20%20%7B%22sticky%22%3A%20true%7D%0A%20%20%20%20%20%20%20%20%20%20%20%20%29%3B%0A%20%20%20%20%20%20%20%20%0A%20%20%20%20%0A%20%20%20%20%20%20%20%20%20%20%20%20var%20marker_0c23ee50761f4fea829788bb42654039%20%3D%20L.marker%28%0A%20%20%20%20%20%20%20%20%20%20%20%20%20%20%20%20%5B-15.747386932373%2C%20-47.8911753760444%5D%2C%0A%20%20%20%20%20%20%20%20%20%20%20%20%20%20%20%20%7B%7D%0A%20%20%20%20%20%20%20%20%20%20%20%20%29.addTo%28feature_group_3345e6ede6214681a3e06aed36ec4d59%29%3B%0A%20%20%20%20%20%20%20%20%0A%20%20%20%20%0A%20%20%20%20%20%20%20%20%20%20%20%20var%20icon_a6d49cfb4ab84edaaf2ff53bbf9400f9%20%3D%20L.AwesomeMarkers.icon%28%0A%20%20%20%20%20%20%20%20%20%20%20%20%20%20%20%20%7B%22extraClasses%22%3A%20%22fa-rotate-0%22%2C%20%22icon%22%3A%20%22info-sign%22%2C%20%22iconColor%22%3A%20%22white%22%2C%20%22markerColor%22%3A%20%22blue%22%2C%20%22prefix%22%3A%20%22glyphicon%22%7D%0A%20%20%20%20%20%20%20%20%20%20%20%20%29%3B%0A%20%20%20%20%20%20%20%20%20%20%20%20marker_0c23ee50761f4fea829788bb42654039.setIcon%28icon_a6d49cfb4ab84edaaf2ff53bbf9400f9%29%3B%0A%20%20%20%20%20%20%20%20%0A%20%20%20%20%0A%20%20%20%20%20%20%20%20%20%20%20%20marker_0c23ee50761f4fea829788bb42654039.bindTooltip%28%0A%20%20%20%20%20%20%20%20%20%20%20%20%20%20%20%20%60%3Cdiv%3E%0A%20%20%20%20%20%20%20%20%20%20%20%20%20%20%20%20%20%20%20%20%20UBS%202%20ASA%20NORTE%0A%20%20%20%20%20%20%20%20%20%20%20%20%20%20%20%20%20%3C/div%3E%60%2C%0A%20%20%20%20%20%20%20%20%20%20%20%20%20%20%20%20%7B%22sticky%22%3A%20true%7D%0A%20%20%20%20%20%20%20%20%20%20%20%20%29%3B%0A%20%20%20%20%20%20%20%20%0A%20%20%20%20%0A%20%20%20%20%20%20%20%20%20%20%20%20var%20marker_1168379a16444d57a9f68d9bec39fb18%20%3D%20L.marker%28%0A%20%20%20%20%20%20%20%20%20%20%20%20%20%20%20%20%5B-15.7582295794006%2C%20-47.8953375860092%5D%2C%0A%20%20%20%20%20%20%20%20%20%20%20%20%20%20%20%20%7B%7D%0A%20%20%20%20%20%20%20%20%20%20%20%20%29.addTo%28feature_group_3345e6ede6214681a3e06aed36ec4d59%29%3B%0A%20%20%20%20%20%20%20%20%0A%20%20%20%20%0A%20%20%20%20%20%20%20%20%20%20%20%20var%20icon_a98986e6669745dd9c13ad9274ef87d1%20%3D%20L.AwesomeMarkers.icon%28%0A%20%20%20%20%20%20%20%20%20%20%20%20%20%20%20%20%7B%22extraClasses%22%3A%20%22fa-rotate-0%22%2C%20%22icon%22%3A%20%22info-sign%22%2C%20%22iconColor%22%3A%20%22white%22%2C%20%22markerColor%22%3A%20%22blue%22%2C%20%22prefix%22%3A%20%22glyphicon%22%7D%0A%20%20%20%20%20%20%20%20%20%20%20%20%29%3B%0A%20%20%20%20%20%20%20%20%20%20%20%20marker_1168379a16444d57a9f68d9bec39fb18.setIcon%28icon_a98986e6669745dd9c13ad9274ef87d1%29%3B%0A%20%20%20%20%20%20%20%20%0A%20%20%20%20%0A%20%20%20%20%20%20%20%20%20%20%20%20marker_1168379a16444d57a9f68d9bec39fb18.bindTooltip%28%0A%20%20%20%20%20%20%20%20%20%20%20%20%20%20%20%20%60%3Cdiv%3E%0A%20%20%20%20%20%20%20%20%20%20%20%20%20%20%20%20%20%20%20%20%20UBS%201%20ASA%20NORTE%0A%20%20%20%20%20%20%20%20%20%20%20%20%20%20%20%20%20%3C/div%3E%60%2C%0A%20%20%20%20%20%20%20%20%20%20%20%20%20%20%20%20%7B%22sticky%22%3A%20true%7D%0A%20%20%20%20%20%20%20%20%20%20%20%20%29%3B%0A%20%20%20%20%20%20%20%20%0A%20%20%20%20%0A%20%20%20%20%20%20%20%20%20%20%20%20var%20marker_df6fd89ecdc4463b9a5acad66cf5388a%20%3D%20L.marker%28%0A%20%20%20%20%20%20%20%20%20%20%20%20%20%20%20%20%5B-15.8054806493944%2C%20-47.8683471679688%5D%2C%0A%20%20%20%20%20%20%20%20%20%20%20%20%20%20%20%20%7B%7D%0A%20%20%20%20%20%20%20%20%20%20%20%20%29.addTo%28feature_group_3345e6ede6214681a3e06aed36ec4d59%29%3B%0A%20%20%20%20%20%20%20%20%0A%20%20%20%20%0A%20%20%20%20%20%20%20%20%20%20%20%20var%20icon_c3db23fa4fd540eeadde9c1684017584%20%3D%20L.AwesomeMarkers.icon%28%0A%20%20%20%20%20%20%20%20%20%20%20%20%20%20%20%20%7B%22extraClasses%22%3A%20%22fa-rotate-0%22%2C%20%22icon%22%3A%20%22info-sign%22%2C%20%22iconColor%22%3A%20%22white%22%2C%20%22markerColor%22%3A%20%22blue%22%2C%20%22prefix%22%3A%20%22glyphicon%22%7D%0A%20%20%20%20%20%20%20%20%20%20%20%20%29%3B%0A%20%20%20%20%20%20%20%20%20%20%20%20marker_df6fd89ecdc4463b9a5acad66cf5388a.setIcon%28icon_c3db23fa4fd540eeadde9c1684017584%29%3B%0A%20%20%20%20%20%20%20%20%0A%20%20%20%20%0A%20%20%20%20%20%20%20%20%20%20%20%20marker_df6fd89ecdc4463b9a5acad66cf5388a.bindTooltip%28%0A%20%20%20%20%20%20%20%20%20%20%20%20%20%20%20%20%60%3Cdiv%3E%0A%20%20%20%20%20%20%20%20%20%20%20%20%20%20%20%20%20%20%20%20%20UBS%203%20ASA%20NORTE%20VILA%20PLANALTO%0A%20%20%20%20%20%20%20%20%20%20%20%20%20%20%20%20%20%3C/div%3E%60%2C%0A%20%20%20%20%20%20%20%20%20%20%20%20%20%20%20%20%7B%22sticky%22%3A%20true%7D%0A%20%20%20%20%20%20%20%20%20%20%20%20%29%3B%0A%20%20%20%20%20%20%20%20%0A%20%20%20%20%0A%20%20%20%20%20%20%20%20%20%20%20%20var%20marker_b54e7cf9749d4b9eb405691a73808f52%20%3D%20L.marker%28%0A%20%20%20%20%20%20%20%20%20%20%20%20%20%20%20%20%5B-15.8152985449495%2C%20-47.983878579633%5D%2C%0A%20%20%20%20%20%20%20%20%20%20%20%20%20%20%20%20%7B%7D%0A%20%20%20%20%20%20%20%20%20%20%20%20%29.addTo%28feature_group_3345e6ede6214681a3e06aed36ec4d59%29%3B%0A%20%20%20%20%20%20%20%20%0A%20%20%20%20%0A%20%20%20%20%20%20%20%20%20%20%20%20var%20icon_0a24ce99be9b46d2b9ef7b637a0e3f7e%20%3D%20L.AwesomeMarkers.icon%28%0A%20%20%20%20%20%20%20%20%20%20%20%20%20%20%20%20%7B%22extraClasses%22%3A%20%22fa-rotate-0%22%2C%20%22icon%22%3A%20%22info-sign%22%2C%20%22iconColor%22%3A%20%22white%22%2C%20%22markerColor%22%3A%20%22blue%22%2C%20%22prefix%22%3A%20%22glyphicon%22%7D%0A%20%20%20%20%20%20%20%20%20%20%20%20%29%3B%0A%20%20%20%20%20%20%20%20%20%20%20%20marker_b54e7cf9749d4b9eb405691a73808f52.setIcon%28icon_0a24ce99be9b46d2b9ef7b637a0e3f7e%29%3B%0A%20%20%20%20%20%20%20%20%0A%20%20%20%20%0A%20%20%20%20%20%20%20%20%20%20%20%20marker_b54e7cf9749d4b9eb405691a73808f52.bindTooltip%28%0A%20%20%20%20%20%20%20%20%20%20%20%20%20%20%20%20%60%3Cdiv%3E%0A%20%20%20%20%20%20%20%20%20%20%20%20%20%20%20%20%20%20%20%20%20HOSPITAL%20REGIONAL%20DO%20GUARA%20I%0A%20%20%20%20%20%20%20%20%20%20%20%20%20%20%20%20%20%3C/div%3E%60%2C%0A%20%20%20%20%20%20%20%20%20%20%20%20%20%20%20%20%7B%22sticky%22%3A%20true%7D%0A%20%20%20%20%20%20%20%20%20%20%20%20%29%3B%0A%20%20%20%20%20%20%20%20%0A%20%20%20%20%0A%20%20%20%20%20%20%20%20%20%20%20%20var%20marker_9d75ecb5a9ec48dd90b3542c2a4f7e11%20%3D%20L.marker%28%0A%20%20%20%20%20%20%20%20%20%20%20%20%20%20%20%20%5B-15.8152985449495%2C%20-47.983878579633%5D%2C%0A%20%20%20%20%20%20%20%20%20%20%20%20%20%20%20%20%7B%7D%0A%20%20%20%20%20%20%20%20%20%20%20%20%29.addTo%28feature_group_3345e6ede6214681a3e06aed36ec4d59%29%3B%0A%20%20%20%20%20%20%20%20%0A%20%20%20%20%0A%20%20%20%20%20%20%20%20%20%20%20%20var%20icon_3918125817e84046aba64702683850cf%20%3D%20L.AwesomeMarkers.icon%28%0A%20%20%20%20%20%20%20%20%20%20%20%20%20%20%20%20%7B%22extraClasses%22%3A%20%22fa-rotate-0%22%2C%20%22icon%22%3A%20%22info-sign%22%2C%20%22iconColor%22%3A%20%22white%22%2C%20%22markerColor%22%3A%20%22blue%22%2C%20%22prefix%22%3A%20%22glyphicon%22%7D%0A%20%20%20%20%20%20%20%20%20%20%20%20%29%3B%0A%20%20%20%20%20%20%20%20%20%20%20%20marker_9d75ecb5a9ec48dd90b3542c2a4f7e11.setIcon%28icon_3918125817e84046aba64702683850cf%29%3B%0A%20%20%20%20%20%20%20%20%0A%20%20%20%20%0A%20%20%20%20%20%20%20%20%20%20%20%20marker_9d75ecb5a9ec48dd90b3542c2a4f7e11.bindTooltip%28%0A%20%20%20%20%20%20%20%20%20%20%20%20%20%20%20%20%60%3Cdiv%3E%0A%20%20%20%20%20%20%20%20%20%20%20%20%20%20%20%20%20%20%20%20%20UBS%2001%20GUARA%0A%20%20%20%20%20%20%20%20%20%20%20%20%20%20%20%20%20%3C/div%3E%60%2C%0A%20%20%20%20%20%20%20%20%20%20%20%20%20%20%20%20%7B%22sticky%22%3A%20true%7D%0A%20%20%20%20%20%20%20%20%20%20%20%20%29%3B%0A%20%20%20%20%20%20%20%20%0A%20%20%20%20%0A%20%20%20%20%20%20%20%20%20%20%20%20var%20marker_3a90b39ea06c45a6b18c4294a9927910%20%3D%20L.marker%28%0A%20%20%20%20%20%20%20%20%20%20%20%20%20%20%20%20%5B-15.8220034444798%2C%20-47.9848123688937%5D%2C%0A%20%20%20%20%20%20%20%20%20%20%20%20%20%20%20%20%7B%7D%0A%20%20%20%20%20%20%20%20%20%20%20%20%29.addTo%28feature_group_3345e6ede6214681a3e06aed36ec4d59%29%3B%0A%20%20%20%20%20%20%20%20%0A%20%20%20%20%0A%20%20%20%20%20%20%20%20%20%20%20%20var%20icon_5bc8e336d1ea4ca6a06892a1426e1ace%20%3D%20L.AwesomeMarkers.icon%28%0A%20%20%20%20%20%20%20%20%20%20%20%20%20%20%20%20%7B%22extraClasses%22%3A%20%22fa-rotate-0%22%2C%20%22icon%22%3A%20%22info-sign%22%2C%20%22iconColor%22%3A%20%22white%22%2C%20%22markerColor%22%3A%20%22blue%22%2C%20%22prefix%22%3A%20%22glyphicon%22%7D%0A%20%20%20%20%20%20%20%20%20%20%20%20%29%3B%0A%20%20%20%20%20%20%20%20%20%20%20%20marker_3a90b39ea06c45a6b18c4294a9927910.setIcon%28icon_5bc8e336d1ea4ca6a06892a1426e1ace%29%3B%0A%20%20%20%20%20%20%20%20%0A%20%20%20%20%0A%20%20%20%20%20%20%20%20%20%20%20%20marker_3a90b39ea06c45a6b18c4294a9927910.bindTooltip%28%0A%20%20%20%20%20%20%20%20%20%20%20%20%20%20%20%20%60%3Cdiv%3E%0A%20%20%20%20%20%20%20%20%20%20%20%20%20%20%20%20%20%20%20%20%20UBS%2004%20GUARA%20LUCIO%20COSTA%0A%20%20%20%20%20%20%20%20%20%20%20%20%20%20%20%20%20%3C/div%3E%60%2C%0A%20%20%20%20%20%20%20%20%20%20%20%20%20%20%20%20%7B%22sticky%22%3A%20true%7D%0A%20%20%20%20%20%20%20%20%20%20%20%20%29%3B%0A%20%20%20%20%20%20%20%20%0A%20%20%20%20%0A%20%20%20%20%20%20%20%20%20%20%20%20var%20marker_e3ca7422382d4758a7a3f7366be83c55%20%3D%20L.marker%28%0A%20%20%20%20%20%20%20%20%20%20%20%20%20%20%20%20%5B-15.8186545064372%2C%20-47.9662349916273%5D%2C%0A%20%20%20%20%20%20%20%20%20%20%20%20%20%20%20%20%7B%7D%0A%20%20%20%20%20%20%20%20%20%20%20%20%29.addTo%28feature_group_3345e6ede6214681a3e06aed36ec4d59%29%3B%0A%20%20%20%20%20%20%20%20%0A%20%20%20%20%0A%20%20%20%20%20%20%20%20%20%20%20%20var%20icon_1e8abf015c4e4d149f5be32a7048a944%20%3D%20L.AwesomeMarkers.icon%28%0A%20%20%20%20%20%20%20%20%20%20%20%20%20%20%20%20%7B%22extraClasses%22%3A%20%22fa-rotate-0%22%2C%20%22icon%22%3A%20%22info-sign%22%2C%20%22iconColor%22%3A%20%22white%22%2C%20%22markerColor%22%3A%20%22blue%22%2C%20%22prefix%22%3A%20%22glyphicon%22%7D%0A%20%20%20%20%20%20%20%20%20%20%20%20%29%3B%0A%20%20%20%20%20%20%20%20%20%20%20%20marker_e3ca7422382d4758a7a3f7366be83c55.setIcon%28icon_1e8abf015c4e4d149f5be32a7048a944%29%3B%0A%20%20%20%20%20%20%20%20%0A%20%20%20%20%0A%20%20%20%20%20%20%20%20%20%20%20%20marker_e3ca7422382d4758a7a3f7366be83c55.bindTooltip%28%0A%20%20%20%20%20%20%20%20%20%20%20%20%20%20%20%20%60%3Cdiv%3E%0A%20%20%20%20%20%20%20%20%20%20%20%20%20%20%20%20%20%20%20%20%20UBS%2001%20ESTRUTURAL%0A%20%20%20%20%20%20%20%20%20%20%20%20%20%20%20%20%20%3C/div%3E%60%2C%0A%20%20%20%20%20%20%20%20%20%20%20%20%20%20%20%20%7B%22sticky%22%3A%20true%7D%0A%20%20%20%20%20%20%20%20%20%20%20%20%29%3B%0A%20%20%20%20%20%20%20%20%0A%20%20%20%20%0A%20%20%20%20%20%20%20%20%20%20%20%20var%20marker_695adca048c84dc883802f5c0d633e0c%20%3D%20L.marker%28%0A%20%20%20%20%20%20%20%20%20%20%20%20%20%20%20%20%5B-15.8298058509827%2C%20-47.9718289375305%5D%2C%0A%20%20%20%20%20%20%20%20%20%20%20%20%20%20%20%20%7B%7D%0A%20%20%20%20%20%20%20%20%20%20%20%20%29.addTo%28feature_group_3345e6ede6214681a3e06aed36ec4d59%29%3B%0A%20%20%20%20%20%20%20%20%0A%20%20%20%20%0A%20%20%20%20%20%20%20%20%20%20%20%20var%20icon_4201d3bc56814868b01a7103fc7c5fb9%20%3D%20L.AwesomeMarkers.icon%28%0A%20%20%20%20%20%20%20%20%20%20%20%20%20%20%20%20%7B%22extraClasses%22%3A%20%22fa-rotate-0%22%2C%20%22icon%22%3A%20%22info-sign%22%2C%20%22iconColor%22%3A%20%22white%22%2C%20%22markerColor%22%3A%20%22blue%22%2C%20%22prefix%22%3A%20%22glyphicon%22%7D%0A%20%20%20%20%20%20%20%20%20%20%20%20%29%3B%0A%20%20%20%20%20%20%20%20%20%20%20%20marker_695adca048c84dc883802f5c0d633e0c.setIcon%28icon_4201d3bc56814868b01a7103fc7c5fb9%29%3B%0A%20%20%20%20%20%20%20%20%0A%20%20%20%20%0A%20%20%20%20%20%20%20%20%20%20%20%20marker_695adca048c84dc883802f5c0d633e0c.bindTooltip%28%0A%20%20%20%20%20%20%20%20%20%20%20%20%20%20%20%20%60%3Cdiv%3E%0A%20%20%20%20%20%20%20%20%20%20%20%20%20%20%20%20%20%20%20%20%20UBS%2002%20GUARA%0A%20%20%20%20%20%20%20%20%20%20%20%20%20%20%20%20%20%3C/div%3E%60%2C%0A%20%20%20%20%20%20%20%20%20%20%20%20%20%20%20%20%7B%22sticky%22%3A%20true%7D%0A%20%20%20%20%20%20%20%20%20%20%20%20%29%3B%0A%20%20%20%20%20%20%20%20%0A%20%20%20%20%0A%20%20%20%20%20%20%20%20%20%20%20%20var%20marker_4a5fedaa8ec540c8b04f14282b807b82%20%3D%20L.marker%28%0A%20%20%20%20%20%20%20%20%20%20%20%20%20%20%20%20%5B-15.8250750790472%2C%20-47.96880154817%5D%2C%0A%20%20%20%20%20%20%20%20%20%20%20%20%20%20%20%20%7B%7D%0A%20%20%20%20%20%20%20%20%20%20%20%20%29.addTo%28feature_group_3345e6ede6214681a3e06aed36ec4d59%29%3B%0A%20%20%20%20%20%20%20%20%0A%20%20%20%20%0A%20%20%20%20%20%20%20%20%20%20%20%20var%20icon_e672bdcc1b80463882eff2e5a6ce26b0%20%3D%20L.AwesomeMarkers.icon%28%0A%20%20%20%20%20%20%20%20%20%20%20%20%20%20%20%20%7B%22extraClasses%22%3A%20%22fa-rotate-0%22%2C%20%22icon%22%3A%20%22info-sign%22%2C%20%22iconColor%22%3A%20%22white%22%2C%20%22markerColor%22%3A%20%22blue%22%2C%20%22prefix%22%3A%20%22glyphicon%22%7D%0A%20%20%20%20%20%20%20%20%20%20%20%20%29%3B%0A%20%20%20%20%20%20%20%20%20%20%20%20marker_4a5fedaa8ec540c8b04f14282b807b82.setIcon%28icon_e672bdcc1b80463882eff2e5a6ce26b0%29%3B%0A%20%20%20%20%20%20%20%20%0A%20%20%20%20%0A%20%20%20%20%20%20%20%20%20%20%20%20marker_4a5fedaa8ec540c8b04f14282b807b82.bindTooltip%28%0A%20%20%20%20%20%20%20%20%20%20%20%20%20%20%20%20%60%3Cdiv%3E%0A%20%20%20%20%20%20%20%20%20%20%20%20%20%20%20%20%20%20%20%20%20UBS%2003%20GUARA%0A%20%20%20%20%20%20%20%20%20%20%20%20%20%20%20%20%20%3C/div%3E%60%2C%0A%20%20%20%20%20%20%20%20%20%20%20%20%20%20%20%20%7B%22sticky%22%3A%20true%7D%0A%20%20%20%20%20%20%20%20%20%20%20%20%29%3B%0A%20%20%20%20%20%20%20%20%0A%20%20%20%20%0A%20%20%20%20%20%20%20%20%20%20%20%20var%20marker_e41d2329db914f1aafd4d00b9e14430d%20%3D%20L.marker%28%0A%20%20%20%20%20%20%20%20%20%20%20%20%20%20%20%20%5B-15.8027105471667%2C%20-47.9588017183192%5D%2C%0A%20%20%20%20%20%20%20%20%20%20%20%20%20%20%20%20%7B%7D%0A%20%20%20%20%20%20%20%20%20%20%20%20%29.addTo%28feature_group_3345e6ede6214681a3e06aed36ec4d59%29%3B%0A%20%20%20%20%20%20%20%20%0A%20%20%20%20%0A%20%20%20%20%20%20%20%20%20%20%20%20var%20icon_f7dd4638b63a4658b87b40f3e22dac75%20%3D%20L.AwesomeMarkers.icon%28%0A%20%20%20%20%20%20%20%20%20%20%20%20%20%20%20%20%7B%22extraClasses%22%3A%20%22fa-rotate-0%22%2C%20%22icon%22%3A%20%22info-sign%22%2C%20%22iconColor%22%3A%20%22white%22%2C%20%22markerColor%22%3A%20%22blue%22%2C%20%22prefix%22%3A%20%22glyphicon%22%7D%0A%20%20%20%20%20%20%20%20%20%20%20%20%29%3B%0A%20%20%20%20%20%20%20%20%20%20%20%20marker_e41d2329db914f1aafd4d00b9e14430d.setIcon%28icon_f7dd4638b63a4658b87b40f3e22dac75%29%3B%0A%20%20%20%20%20%20%20%20%0A%20%20%20%20%0A%20%20%20%20%20%20%20%20%20%20%20%20marker_e41d2329db914f1aafd4d00b9e14430d.bindTooltip%28%0A%20%20%20%20%20%20%20%20%20%20%20%20%20%20%20%20%60%3Cdiv%3E%0A%20%20%20%20%20%20%20%20%20%20%20%20%20%20%20%20%20%20%20%20%20UBS%2001%20SIA%20CPP%0A%20%20%20%20%20%20%20%20%20%20%20%20%20%20%20%20%20%3C/div%3E%60%2C%0A%20%20%20%20%20%20%20%20%20%20%20%20%20%20%20%20%7B%22sticky%22%3A%20true%7D%0A%20%20%20%20%20%20%20%20%20%20%20%20%29%3B%0A%20%20%20%20%20%20%20%20%0A%20%20%20%20%0A%20%20%20%20%20%20%20%20%20%20%20%20var%20marker_89e09211185a4a5b839801b9623aef22%20%3D%20L.marker%28%0A%20%20%20%20%20%20%20%20%20%20%20%20%20%20%20%20%5B-15.7872459585016%2C%20-47.9675836042924%5D%2C%0A%20%20%20%20%20%20%20%20%20%20%20%20%20%20%20%20%7B%7D%0A%20%20%20%20%20%20%20%20%20%20%20%20%29.addTo%28feature_group_3345e6ede6214681a3e06aed36ec4d59%29%3B%0A%20%20%20%20%20%20%20%20%0A%20%20%20%20%0A%20%20%20%20%20%20%20%20%20%20%20%20var%20icon_93d9e461542b400a90f8c0a7a34dde3b%20%3D%20L.AwesomeMarkers.icon%28%0A%20%20%20%20%20%20%20%20%20%20%20%20%20%20%20%20%7B%22extraClasses%22%3A%20%22fa-rotate-0%22%2C%20%22icon%22%3A%20%22info-sign%22%2C%20%22iconColor%22%3A%20%22white%22%2C%20%22markerColor%22%3A%20%22blue%22%2C%20%22prefix%22%3A%20%22glyphicon%22%7D%0A%20%20%20%20%20%20%20%20%20%20%20%20%29%3B%0A%20%20%20%20%20%20%20%20%20%20%20%20marker_89e09211185a4a5b839801b9623aef22.setIcon%28icon_93d9e461542b400a90f8c0a7a34dde3b%29%3B%0A%20%20%20%20%20%20%20%20%0A%20%20%20%20%0A%20%20%20%20%20%20%20%20%20%20%20%20marker_89e09211185a4a5b839801b9623aef22.bindTooltip%28%0A%20%20%20%20%20%20%20%20%20%20%20%20%20%20%20%20%60%3Cdiv%3E%0A%20%20%20%20%20%20%20%20%20%20%20%20%20%20%20%20%20%20%20%20%20UBS%2002%20ESTRUTURAL%0A%20%20%20%20%20%20%20%20%20%20%20%20%20%20%20%20%20%3C/div%3E%60%2C%0A%20%20%20%20%20%20%20%20%20%20%20%20%20%20%20%20%7B%22sticky%22%3A%20true%7D%0A%20%20%20%20%20%20%20%20%20%20%20%20%29%3B%0A%20%20%20%20%20%20%20%20%0A%20%20%20%20%0A%20%20%20%20%20%20%20%20%20%20%20%20var%20marker_55b1667f56a14af3ad92feb4693e6dff%20%3D%20L.marker%28%0A%20%20%20%20%20%20%20%20%20%20%20%20%20%20%20%20%5B-15.7269926782864%2C%20-47.8682526545738%5D%2C%0A%20%20%20%20%20%20%20%20%20%20%20%20%20%20%20%20%7B%7D%0A%20%20%20%20%20%20%20%20%20%20%20%20%29.addTo%28feature_group_3345e6ede6214681a3e06aed36ec4d59%29%3B%0A%20%20%20%20%20%20%20%20%0A%20%20%20%20%0A%20%20%20%20%20%20%20%20%20%20%20%20var%20icon_88e4f0467b6a48f18c326a462587bc17%20%3D%20L.AwesomeMarkers.icon%28%0A%20%20%20%20%20%20%20%20%20%20%20%20%20%20%20%20%7B%22extraClasses%22%3A%20%22fa-rotate-0%22%2C%20%22icon%22%3A%20%22info-sign%22%2C%20%22iconColor%22%3A%20%22white%22%2C%20%22markerColor%22%3A%20%22blue%22%2C%20%22prefix%22%3A%20%22glyphicon%22%7D%0A%20%20%20%20%20%20%20%20%20%20%20%20%29%3B%0A%20%20%20%20%20%20%20%20%20%20%20%20marker_55b1667f56a14af3ad92feb4693e6dff.setIcon%28icon_88e4f0467b6a48f18c326a462587bc17%29%3B%0A%20%20%20%20%20%20%20%20%0A%20%20%20%20%0A%20%20%20%20%20%20%20%20%20%20%20%20marker_55b1667f56a14af3ad92feb4693e6dff.bindTooltip%28%0A%20%20%20%20%20%20%20%20%20%20%20%20%20%20%20%20%60%3Cdiv%3E%0A%20%20%20%20%20%20%20%20%20%20%20%20%20%20%20%20%20%20%20%20%20UBS%201%20LAGO%20NORTE%0A%20%20%20%20%20%20%20%20%20%20%20%20%20%20%20%20%20%3C/div%3E%60%2C%0A%20%20%20%20%20%20%20%20%20%20%20%20%20%20%20%20%7B%22sticky%22%3A%20true%7D%0A%20%20%20%20%20%20%20%20%20%20%20%20%29%3B%0A%20%20%20%20%20%20%20%20%0A%20%20%20%20%0A%20%20%20%20%20%20%20%20%20%20%20%20var%20marker_2da8d8b803334132ab9c3f40020082b7%20%3D%20L.marker%28%0A%20%20%20%20%20%20%20%20%20%20%20%20%20%20%20%20%5B-15.7708039540117%2C%20-47.8110262142715%5D%2C%0A%20%20%20%20%20%20%20%20%20%20%20%20%20%20%20%20%7B%7D%0A%20%20%20%20%20%20%20%20%20%20%20%20%29.addTo%28feature_group_3345e6ede6214681a3e06aed36ec4d59%29%3B%0A%20%20%20%20%20%20%20%20%0A%20%20%20%20%0A%20%20%20%20%20%20%20%20%20%20%20%20var%20icon_c4abcd3a96594489a8f8e653788d764b%20%3D%20L.AwesomeMarkers.icon%28%0A%20%20%20%20%20%20%20%20%20%20%20%20%20%20%20%20%7B%22extraClasses%22%3A%20%22fa-rotate-0%22%2C%20%22icon%22%3A%20%22info-sign%22%2C%20%22iconColor%22%3A%20%22white%22%2C%20%22markerColor%22%3A%20%22blue%22%2C%20%22prefix%22%3A%20%22glyphicon%22%7D%0A%20%20%20%20%20%20%20%20%20%20%20%20%29%3B%0A%20%20%20%20%20%20%20%20%20%20%20%20marker_2da8d8b803334132ab9c3f40020082b7.setIcon%28icon_c4abcd3a96594489a8f8e653788d764b%29%3B%0A%20%20%20%20%20%20%20%20%0A%20%20%20%20%0A%20%20%20%20%20%20%20%20%20%20%20%20marker_2da8d8b803334132ab9c3f40020082b7.bindTooltip%28%0A%20%20%20%20%20%20%20%20%20%20%20%20%20%20%20%20%60%3Cdiv%3E%0A%20%20%20%20%20%20%20%20%20%20%20%20%20%20%20%20%20%20%20%20%20UBS%201%20VARJAO%0A%20%20%20%20%20%20%20%20%20%20%20%20%20%20%20%20%20%3C/div%3E%60%2C%0A%20%20%20%20%20%20%20%20%20%20%20%20%20%20%20%20%7B%22sticky%22%3A%20true%7D%0A%20%20%20%20%20%20%20%20%20%20%20%20%29%3B%0A%20%20%20%20%20%20%20%20%0A%20%20%20%20%0A%20%20%20%20%20%20%20%20%20%20%20%20var%20marker_7707652947ed4caba4197e1ea4255196%20%3D%20L.marker%28%0A%20%20%20%20%20%20%20%20%20%20%20%20%20%20%20%20%5B-15.7478625745658%2C%20-47.9235933142972%5D%2C%0A%20%20%20%20%20%20%20%20%20%20%20%20%20%20%20%20%7B%7D%0A%20%20%20%20%20%20%20%20%20%20%20%20%29.addTo%28feature_group_3345e6ede6214681a3e06aed36ec4d59%29%3B%0A%20%20%20%20%20%20%20%20%0A%20%20%20%20%0A%20%20%20%20%20%20%20%20%20%20%20%20var%20icon_b46608682090447d8c4a2b1faf8ce817%20%3D%20L.AwesomeMarkers.icon%28%0A%20%20%20%20%20%20%20%20%20%20%20%20%20%20%20%20%7B%22extraClasses%22%3A%20%22fa-rotate-0%22%2C%20%22icon%22%3A%20%22info-sign%22%2C%20%22iconColor%22%3A%20%22white%22%2C%20%22markerColor%22%3A%20%22blue%22%2C%20%22prefix%22%3A%20%22glyphicon%22%7D%0A%20%20%20%20%20%20%20%20%20%20%20%20%29%3B%0A%20%20%20%20%20%20%20%20%20%20%20%20marker_7707652947ed4caba4197e1ea4255196.setIcon%28icon_b46608682090447d8c4a2b1faf8ce817%29%3B%0A%20%20%20%20%20%20%20%20%0A%20%20%20%20%0A%20%20%20%20%20%20%20%20%20%20%20%20marker_7707652947ed4caba4197e1ea4255196.bindTooltip%28%0A%20%20%20%20%20%20%20%20%20%20%20%20%20%20%20%20%60%3Cdiv%3E%0A%20%20%20%20%20%20%20%20%20%20%20%20%20%20%20%20%20%20%20%20%20HRL%0A%20%20%20%20%20%20%20%20%20%20%20%20%20%20%20%20%20%3C/div%3E%60%2C%0A%20%20%20%20%20%20%20%20%20%20%20%20%20%20%20%20%7B%22sticky%22%3A%20true%7D%0A%20%20%20%20%20%20%20%20%20%20%20%20%29%3B%0A%20%20%20%20%20%20%20%20%0A%20%20%20%20%0A%20%20%20%20%20%20%20%20%20%20%20%20var%20marker_77835114049a467595a3c882b5e9ed2b%20%3D%20L.marker%28%0A%20%20%20%20%20%20%20%20%20%20%20%20%20%20%20%20%5B-15.7478625745658%2C%20-47.9235933142972%5D%2C%0A%20%20%20%20%20%20%20%20%20%20%20%20%20%20%20%20%7B%7D%0A%20%20%20%20%20%20%20%20%20%20%20%20%29.addTo%28feature_group_3345e6ede6214681a3e06aed36ec4d59%29%3B%0A%20%20%20%20%20%20%20%20%0A%20%20%20%20%0A%20%20%20%20%20%20%20%20%20%20%20%20var%20icon_6a2d50833f6b4eda800de762c928e636%20%3D%20L.AwesomeMarkers.icon%28%0A%20%20%20%20%20%20%20%20%20%20%20%20%20%20%20%20%7B%22extraClasses%22%3A%20%22fa-rotate-0%22%2C%20%22icon%22%3A%20%22info-sign%22%2C%20%22iconColor%22%3A%20%22white%22%2C%20%22markerColor%22%3A%20%22blue%22%2C%20%22prefix%22%3A%20%22glyphicon%22%7D%0A%20%20%20%20%20%20%20%20%20%20%20%20%29%3B%0A%20%20%20%20%20%20%20%20%20%20%20%20marker_77835114049a467595a3c882b5e9ed2b.setIcon%28icon_6a2d50833f6b4eda800de762c928e636%29%3B%0A%20%20%20%20%20%20%20%20%0A%20%20%20%20%0A%20%20%20%20%20%20%20%20%20%20%20%20marker_77835114049a467595a3c882b5e9ed2b.bindTooltip%28%0A%20%20%20%20%20%20%20%20%20%20%20%20%20%20%20%20%60%3Cdiv%3E%0A%20%20%20%20%20%20%20%20%20%20%20%20%20%20%20%20%20%20%20%20%20UBS%201%20PARANOA%0A%20%20%20%20%20%20%20%20%20%20%20%20%20%20%20%20%20%3C/div%3E%60%2C%0A%20%20%20%20%20%20%20%20%20%20%20%20%20%20%20%20%7B%22sticky%22%3A%20true%7D%0A%20%20%20%20%20%20%20%20%20%20%20%20%29%3B%0A%20%20%20%20%20%20%20%20%0A%20%20%20%20%0A%20%20%20%20%20%20%20%20%20%20%20%20var%20marker_a11fd7daae9f46ae99ca341105beb34e%20%3D%20L.marker%28%0A%20%20%20%20%20%20%20%20%20%20%20%20%20%20%20%20%5B-15.7478625745658%2C%20-47.9235933142972%5D%2C%0A%20%20%20%20%20%20%20%20%20%20%20%20%20%20%20%20%7B%7D%0A%20%20%20%20%20%20%20%20%20%20%20%20%29.addTo%28feature_group_3345e6ede6214681a3e06aed36ec4d59%29%3B%0A%20%20%20%20%20%20%20%20%0A%20%20%20%20%0A%20%20%20%20%20%20%20%20%20%20%20%20var%20icon_da537137167d4cd499d3e67e327398e1%20%3D%20L.AwesomeMarkers.icon%28%0A%20%20%20%20%20%20%20%20%20%20%20%20%20%20%20%20%7B%22extraClasses%22%3A%20%22fa-rotate-0%22%2C%20%22icon%22%3A%20%22info-sign%22%2C%20%22iconColor%22%3A%20%22white%22%2C%20%22markerColor%22%3A%20%22blue%22%2C%20%22prefix%22%3A%20%22glyphicon%22%7D%0A%20%20%20%20%20%20%20%20%20%20%20%20%29%3B%0A%20%20%20%20%20%20%20%20%20%20%20%20marker_a11fd7daae9f46ae99ca341105beb34e.setIcon%28icon_da537137167d4cd499d3e67e327398e1%29%3B%0A%20%20%20%20%20%20%20%20%0A%20%20%20%20%0A%20%20%20%20%20%20%20%20%20%20%20%20marker_a11fd7daae9f46ae99ca341105beb34e.bindTooltip%28%0A%20%20%20%20%20%20%20%20%20%20%20%20%20%20%20%20%60%3Cdiv%3E%0A%20%20%20%20%20%20%20%20%20%20%20%20%20%20%20%20%20%20%20%20%20UBS%203%20PARANOA%20PARQUE%0A%20%20%20%20%20%20%20%20%20%20%20%20%20%20%20%20%20%3C/div%3E%60%2C%0A%20%20%20%20%20%20%20%20%20%20%20%20%20%20%20%20%7B%22sticky%22%3A%20true%7D%0A%20%20%20%20%20%20%20%20%20%20%20%20%29%3B%0A%20%20%20%20%20%20%20%20%0A%20%20%20%20%0A%20%20%20%20%20%20%20%20%20%20%20%20var%20marker_124efadff1b4405b969dc76f56cc8f2a%20%3D%20L.marker%28%0A%20%20%20%20%20%20%20%20%20%20%20%20%20%20%20%20%5B-15.7592558580286%2C%20-47.8018888024723%5D%2C%0A%20%20%20%20%20%20%20%20%20%20%20%20%20%20%20%20%7B%7D%0A%20%20%20%20%20%20%20%20%20%20%20%20%29.addTo%28feature_group_3345e6ede6214681a3e06aed36ec4d59%29%3B%0A%20%20%20%20%20%20%20%20%0A%20%20%20%20%0A%20%20%20%20%20%20%20%20%20%20%20%20var%20icon_6c5c4eeac98543f38969a21eb9b80989%20%3D%20L.AwesomeMarkers.icon%28%0A%20%20%20%20%20%20%20%20%20%20%20%20%20%20%20%20%7B%22extraClasses%22%3A%20%22fa-rotate-0%22%2C%20%22icon%22%3A%20%22info-sign%22%2C%20%22iconColor%22%3A%20%22white%22%2C%20%22markerColor%22%3A%20%22blue%22%2C%20%22prefix%22%3A%20%22glyphicon%22%7D%0A%20%20%20%20%20%20%20%20%20%20%20%20%29%3B%0A%20%20%20%20%20%20%20%20%20%20%20%20marker_124efadff1b4405b969dc76f56cc8f2a.setIcon%28icon_6c5c4eeac98543f38969a21eb9b80989%29%3B%0A%20%20%20%20%20%20%20%20%0A%20%20%20%20%0A%20%20%20%20%20%20%20%20%20%20%20%20marker_124efadff1b4405b969dc76f56cc8f2a.bindTooltip%28%0A%20%20%20%20%20%20%20%20%20%20%20%20%20%20%20%20%60%3Cdiv%3E%0A%20%20%20%20%20%20%20%20%20%20%20%20%20%20%20%20%20%20%20%20%20UBS%204%20JARDIM%20II%20PARANOA%0A%20%20%20%20%20%20%20%20%20%20%20%20%20%20%20%20%20%3C/div%3E%60%2C%0A%20%20%20%20%20%20%20%20%20%20%20%20%20%20%20%20%7B%22sticky%22%3A%20true%7D%0A%20%20%20%20%20%20%20%20%20%20%20%20%29%3B%0A%20%20%20%20%20%20%20%20%0A%20%20%20%20%0A%20%20%20%20%20%20%20%20%20%20%20%20var%20marker_adaeefa1b1ed488fa7661de63ce28eb4%20%3D%20L.marker%28%0A%20%20%20%20%20%20%20%20%20%20%20%20%20%20%20%20%5B-15.743135358773%2C%20-47.8622603696935%5D%2C%0A%20%20%20%20%20%20%20%20%20%20%20%20%20%20%20%20%7B%7D%0A%20%20%20%20%20%20%20%20%20%20%20%20%29.addTo%28feature_group_3345e6ede6214681a3e06aed36ec4d59%29%3B%0A%20%20%20%20%20%20%20%20%0A%20%20%20%20%0A%20%20%20%20%20%20%20%20%20%20%20%20var%20icon_8d67b360422c49a19ac93a2c8983d9ab%20%3D%20L.AwesomeMarkers.icon%28%0A%20%20%20%20%20%20%20%20%20%20%20%20%20%20%20%20%7B%22extraClasses%22%3A%20%22fa-rotate-0%22%2C%20%22icon%22%3A%20%22info-sign%22%2C%20%22iconColor%22%3A%20%22white%22%2C%20%22markerColor%22%3A%20%22blue%22%2C%20%22prefix%22%3A%20%22glyphicon%22%7D%0A%20%20%20%20%20%20%20%20%20%20%20%20%29%3B%0A%20%20%20%20%20%20%20%20%20%20%20%20marker_adaeefa1b1ed488fa7661de63ce28eb4.setIcon%28icon_8d67b360422c49a19ac93a2c8983d9ab%29%3B%0A%20%20%20%20%20%20%20%20%0A%20%20%20%20%0A%20%20%20%20%20%20%20%20%20%20%20%20marker_adaeefa1b1ed488fa7661de63ce28eb4.bindTooltip%28%0A%20%20%20%20%20%20%20%20%20%20%20%20%20%20%20%20%60%3Cdiv%3E%0A%20%20%20%20%20%20%20%20%20%20%20%20%20%20%20%20%20%20%20%20%20UBS%207%20CAFE%20SEM%20TROCO%20PARANOA%0A%20%20%20%20%20%20%20%20%20%20%20%20%20%20%20%20%20%3C/div%3E%60%2C%0A%20%20%20%20%20%20%20%20%20%20%20%20%20%20%20%20%7B%22sticky%22%3A%20true%7D%0A%20%20%20%20%20%20%20%20%20%20%20%20%29%3B%0A%20%20%20%20%20%20%20%20%0A%20%20%20%20%0A%20%20%20%20%20%20%20%20%20%20%20%20var%20marker_691ded3997614abf9d132306a15db6c9%20%3D%20L.marker%28%0A%20%20%20%20%20%20%20%20%20%20%20%20%20%20%20%20%5B-15.743135358773%2C%20-47.8622603696935%5D%2C%0A%20%20%20%20%20%20%20%20%20%20%20%20%20%20%20%20%7B%7D%0A%20%20%20%20%20%20%20%20%20%20%20%20%29.addTo%28feature_group_3345e6ede6214681a3e06aed36ec4d59%29%3B%0A%20%20%20%20%20%20%20%20%0A%20%20%20%20%0A%20%20%20%20%20%20%20%20%20%20%20%20var%20icon_a94817ad9fca45ab926d632c1395a03a%20%3D%20L.AwesomeMarkers.icon%28%0A%20%20%20%20%20%20%20%20%20%20%20%20%20%20%20%20%7B%22extraClasses%22%3A%20%22fa-rotate-0%22%2C%20%22icon%22%3A%20%22info-sign%22%2C%20%22iconColor%22%3A%20%22white%22%2C%20%22markerColor%22%3A%20%22blue%22%2C%20%22prefix%22%3A%20%22glyphicon%22%7D%0A%20%20%20%20%20%20%20%20%20%20%20%20%29%3B%0A%20%20%20%20%20%20%20%20%20%20%20%20marker_691ded3997614abf9d132306a15db6c9.setIcon%28icon_a94817ad9fca45ab926d632c1395a03a%29%3B%0A%20%20%20%20%20%20%20%20%0A%20%20%20%20%0A%20%20%20%20%20%20%20%20%20%20%20%20marker_691ded3997614abf9d132306a15db6c9.bindTooltip%28%0A%20%20%20%20%20%20%20%20%20%20%20%20%20%20%20%20%60%3Cdiv%3E%0A%20%20%20%20%20%20%20%20%20%20%20%20%20%20%20%20%20%20%20%20%20UBS%205%20QUEBRADA%20DOS%20NERES%0A%20%20%20%20%20%20%20%20%20%20%20%20%20%20%20%20%20%3C/div%3E%60%2C%0A%20%20%20%20%20%20%20%20%20%20%20%20%20%20%20%20%7B%22sticky%22%3A%20true%7D%0A%20%20%20%20%20%20%20%20%20%20%20%20%29%3B%0A%20%20%20%20%20%20%20%20%0A%20%20%20%20%0A%20%20%20%20%20%20%20%20%20%20%20%20var%20marker_8c37fc9b10b54dd09c100b28fed4dabe%20%3D%20L.marker%28%0A%20%20%20%20%20%20%20%20%20%20%20%20%20%20%20%20%5B-15.743135358773%2C%20-47.8622603696935%5D%2C%0A%20%20%20%20%20%20%20%20%20%20%20%20%20%20%20%20%7B%7D%0A%20%20%20%20%20%20%20%20%20%20%20%20%29.addTo%28feature_group_3345e6ede6214681a3e06aed36ec4d59%29%3B%0A%20%20%20%20%20%20%20%20%0A%20%20%20%20%0A%20%20%20%20%20%20%20%20%20%20%20%20var%20icon_fc0e613dae1441ac9f5b4372221a6a99%20%3D%20L.AwesomeMarkers.icon%28%0A%20%20%20%20%20%20%20%20%20%20%20%20%20%20%20%20%7B%22extraClasses%22%3A%20%22fa-rotate-0%22%2C%20%22icon%22%3A%20%22info-sign%22%2C%20%22iconColor%22%3A%20%22white%22%2C%20%22markerColor%22%3A%20%22blue%22%2C%20%22prefix%22%3A%20%22glyphicon%22%7D%0A%20%20%20%20%20%20%20%20%20%20%20%20%29%3B%0A%20%20%20%20%20%20%20%20%20%20%20%20marker_8c37fc9b10b54dd09c100b28fed4dabe.setIcon%28icon_fc0e613dae1441ac9f5b4372221a6a99%29%3B%0A%20%20%20%20%20%20%20%20%0A%20%20%20%20%0A%20%20%20%20%20%20%20%20%20%20%20%20marker_8c37fc9b10b54dd09c100b28fed4dabe.bindTooltip%28%0A%20%20%20%20%20%20%20%20%20%20%20%20%20%20%20%20%60%3Cdiv%3E%0A%20%20%20%20%20%20%20%20%20%20%20%20%20%20%20%20%20%20%20%20%20UBS%206%20CARIRU%20PARANOA%0A%20%20%20%20%20%20%20%20%20%20%20%20%20%20%20%20%20%3C/div%3E%60%2C%0A%20%20%20%20%20%20%20%20%20%20%20%20%20%20%20%20%7B%22sticky%22%3A%20true%7D%0A%20%20%20%20%20%20%20%20%20%20%20%20%29%3B%0A%20%20%20%20%20%20%20%20%0A%20%20%20%20%0A%20%20%20%20%20%20%20%20%20%20%20%20var%20marker_3536077f4f494ef9b80b8ff0ec3a7a82%20%3D%20L.marker%28%0A%20%20%20%20%20%20%20%20%20%20%20%20%20%20%20%20%5B-15.743135358773%2C%20-47.8622603696935%5D%2C%0A%20%20%20%20%20%20%20%20%20%20%20%20%20%20%20%20%7B%7D%0A%20%20%20%20%20%20%20%20%20%20%20%20%29.addTo%28feature_group_3345e6ede6214681a3e06aed36ec4d59%29%3B%0A%20%20%20%20%20%20%20%20%0A%20%20%20%20%0A%20%20%20%20%20%20%20%20%20%20%20%20var%20icon_d3ce2d0802cc40a280a09657010bd54f%20%3D%20L.AwesomeMarkers.icon%28%0A%20%20%20%20%20%20%20%20%20%20%20%20%20%20%20%20%7B%22extraClasses%22%3A%20%22fa-rotate-0%22%2C%20%22icon%22%3A%20%22info-sign%22%2C%20%22iconColor%22%3A%20%22white%22%2C%20%22markerColor%22%3A%20%22blue%22%2C%20%22prefix%22%3A%20%22glyphicon%22%7D%0A%20%20%20%20%20%20%20%20%20%20%20%20%29%3B%0A%20%20%20%20%20%20%20%20%20%20%20%20marker_3536077f4f494ef9b80b8ff0ec3a7a82.setIcon%28icon_d3ce2d0802cc40a280a09657010bd54f%29%3B%0A%20%20%20%20%20%20%20%20%0A%20%20%20%20%0A%20%20%20%20%20%20%20%20%20%20%20%20marker_3536077f4f494ef9b80b8ff0ec3a7a82.bindTooltip%28%0A%20%20%20%20%20%20%20%20%20%20%20%20%20%20%20%20%60%3Cdiv%3E%0A%20%20%20%20%20%20%20%20%20%20%20%20%20%20%20%20%20%20%20%20%20UBS%208%20PADDF%20PARANOA%0A%20%20%20%20%20%20%20%20%20%20%20%20%20%20%20%20%20%3C/div%3E%60%2C%0A%20%20%20%20%20%20%20%20%20%20%20%20%20%20%20%20%7B%22sticky%22%3A%20true%7D%0A%20%20%20%20%20%20%20%20%20%20%20%20%29%3B%0A%20%20%20%20%20%20%20%20%0A%20%20%20%20%0A%20%20%20%20%20%20%20%20%20%20%20%20var%20marker_fdffc33461ec4488832c48e3f710120a%20%3D%20L.marker%28%0A%20%20%20%20%20%20%20%20%20%20%20%20%20%20%20%20%5B-15.7716136491003%2C%20-47.8303553683699%5D%2C%0A%20%20%20%20%20%20%20%20%20%20%20%20%20%20%20%20%7B%7D%0A%20%20%20%20%20%20%20%20%20%20%20%20%29.addTo%28feature_group_3345e6ede6214681a3e06aed36ec4d59%29%3B%0A%20%20%20%20%20%20%20%20%0A%20%20%20%20%0A%20%20%20%20%20%20%20%20%20%20%20%20var%20icon_be0721628c004e2cb95e57ca3fed0755%20%3D%20L.AwesomeMarkers.icon%28%0A%20%20%20%20%20%20%20%20%20%20%20%20%20%20%20%20%7B%22extraClasses%22%3A%20%22fa-rotate-0%22%2C%20%22icon%22%3A%20%22info-sign%22%2C%20%22iconColor%22%3A%20%22white%22%2C%20%22markerColor%22%3A%20%22blue%22%2C%20%22prefix%22%3A%20%22glyphicon%22%7D%0A%20%20%20%20%20%20%20%20%20%20%20%20%29%3B%0A%20%20%20%20%20%20%20%20%20%20%20%20marker_fdffc33461ec4488832c48e3f710120a.setIcon%28icon_be0721628c004e2cb95e57ca3fed0755%29%3B%0A%20%20%20%20%20%20%20%20%0A%20%20%20%20%0A%20%20%20%20%20%20%20%20%20%20%20%20marker_fdffc33461ec4488832c48e3f710120a.bindTooltip%28%0A%20%20%20%20%20%20%20%20%20%20%20%20%20%20%20%20%60%3Cdiv%3E%0A%20%20%20%20%20%20%20%20%20%20%20%20%20%20%20%20%20%20%20%20%20UBS%201%20ITAPOA%0A%20%20%20%20%20%20%20%20%20%20%20%20%20%20%20%20%20%3C/div%3E%60%2C%0A%20%20%20%20%20%20%20%20%20%20%20%20%20%20%20%20%7B%22sticky%22%3A%20true%7D%0A%20%20%20%20%20%20%20%20%20%20%20%20%29%3B%0A%20%20%20%20%20%20%20%20%0A%20%20%20%20%0A%20%20%20%20%20%20%20%20%20%20%20%20var%20marker_1e47446eebf94fed8d0ecfe7d1d22758%20%3D%20L.marker%28%0A%20%20%20%20%20%20%20%20%20%20%20%20%20%20%20%20%5B-15.8554691526625%2C%20-47.8632136027018%5D%2C%0A%20%20%20%20%20%20%20%20%20%20%20%20%20%20%20%20%7B%7D%0A%20%20%20%20%20%20%20%20%20%20%20%20%29.addTo%28feature_group_3345e6ede6214681a3e06aed36ec4d59%29%3B%0A%20%20%20%20%20%20%20%20%0A%20%20%20%20%0A%20%20%20%20%20%20%20%20%20%20%20%20var%20icon_75d222ba43c34a799d03cab65278c54b%20%3D%20L.AwesomeMarkers.icon%28%0A%20%20%20%20%20%20%20%20%20%20%20%20%20%20%20%20%7B%22extraClasses%22%3A%20%22fa-rotate-0%22%2C%20%22icon%22%3A%20%22info-sign%22%2C%20%22iconColor%22%3A%20%22white%22%2C%20%22markerColor%22%3A%20%22blue%22%2C%20%22prefix%22%3A%20%22glyphicon%22%7D%0A%20%20%20%20%20%20%20%20%20%20%20%20%29%3B%0A%20%20%20%20%20%20%20%20%20%20%20%20marker_1e47446eebf94fed8d0ecfe7d1d22758.setIcon%28icon_75d222ba43c34a799d03cab65278c54b%29%3B%0A%20%20%20%20%20%20%20%20%0A%20%20%20%20%0A%20%20%20%20%20%20%20%20%20%20%20%20marker_1e47446eebf94fed8d0ecfe7d1d22758.bindTooltip%28%0A%20%20%20%20%20%20%20%20%20%20%20%20%20%20%20%20%60%3Cdiv%3E%0A%20%20%20%20%20%20%20%20%20%20%20%20%20%20%20%20%20%20%20%20%20POLICLINICA%20LAGO%20SUL%0A%20%20%20%20%20%20%20%20%20%20%20%20%20%20%20%20%20%3C/div%3E%60%2C%0A%20%20%20%20%20%20%20%20%20%20%20%20%20%20%20%20%7B%22sticky%22%3A%20true%7D%0A%20%20%20%20%20%20%20%20%20%20%20%20%29%3B%0A%20%20%20%20%20%20%20%20%0A%20%20%20%20%0A%20%20%20%20%20%20%20%20%20%20%20%20var%20marker_21cd056124604ab5b08170489d62af5c%20%3D%20L.marker%28%0A%20%20%20%20%20%20%20%20%20%20%20%20%20%20%20%20%5B-15.865221349576%2C%20-47.8545155144347%5D%2C%0A%20%20%20%20%20%20%20%20%20%20%20%20%20%20%20%20%7B%7D%0A%20%20%20%20%20%20%20%20%20%20%20%20%29.addTo%28feature_group_3345e6ede6214681a3e06aed36ec4d59%29%3B%0A%20%20%20%20%20%20%20%20%0A%20%20%20%20%0A%20%20%20%20%20%20%20%20%20%20%20%20var%20icon_5cc766d314b044a783eccf34d140d16f%20%3D%20L.AwesomeMarkers.icon%28%0A%20%20%20%20%20%20%20%20%20%20%20%20%20%20%20%20%7B%22extraClasses%22%3A%20%22fa-rotate-0%22%2C%20%22icon%22%3A%20%22info-sign%22%2C%20%22iconColor%22%3A%20%22white%22%2C%20%22markerColor%22%3A%20%22blue%22%2C%20%22prefix%22%3A%20%22glyphicon%22%7D%0A%20%20%20%20%20%20%20%20%20%20%20%20%29%3B%0A%20%20%20%20%20%20%20%20%20%20%20%20marker_21cd056124604ab5b08170489d62af5c.setIcon%28icon_5cc766d314b044a783eccf34d140d16f%29%3B%0A%20%20%20%20%20%20%20%20%0A%20%20%20%20%0A%20%20%20%20%20%20%20%20%20%20%20%20marker_21cd056124604ab5b08170489d62af5c.bindTooltip%28%0A%20%20%20%20%20%20%20%20%20%20%20%20%20%20%20%20%60%3Cdiv%3E%0A%20%20%20%20%20%20%20%20%20%20%20%20%20%20%20%20%20%20%20%20%20UBS%202%20T%20R%20E%20SAO%20SEBASTIAO%0A%20%20%20%20%20%20%20%20%20%20%20%20%20%20%20%20%20%3C/div%3E%60%2C%0A%20%20%20%20%20%20%20%20%20%20%20%20%20%20%20%20%7B%22sticky%22%3A%20true%7D%0A%20%20%20%20%20%20%20%20%20%20%20%20%29%3B%0A%20%20%20%20%20%20%20%20%0A%20%20%20%20%0A%20%20%20%20%20%20%20%20%20%20%20%20var%20marker_481f8dd076ee43e784ac816d56fca378%20%3D%20L.marker%28%0A%20%20%20%20%20%20%20%20%20%20%20%20%20%20%20%20%5B-15.865221349576%2C%20-47.8545155144347%5D%2C%0A%20%20%20%20%20%20%20%20%20%20%20%20%20%20%20%20%7B%7D%0A%20%20%20%20%20%20%20%20%20%20%20%20%29.addTo%28feature_group_3345e6ede6214681a3e06aed36ec4d59%29%3B%0A%20%20%20%20%20%20%20%20%0A%20%20%20%20%0A%20%20%20%20%20%20%20%20%20%20%20%20var%20icon_2cc69d80d5bd40d0b2bed161c4feb989%20%3D%20L.AwesomeMarkers.icon%28%0A%20%20%20%20%20%20%20%20%20%20%20%20%20%20%20%20%7B%22extraClasses%22%3A%20%22fa-rotate-0%22%2C%20%22icon%22%3A%20%22info-sign%22%2C%20%22iconColor%22%3A%20%22white%22%2C%20%22markerColor%22%3A%20%22blue%22%2C%20%22prefix%22%3A%20%22glyphicon%22%7D%0A%20%20%20%20%20%20%20%20%20%20%20%20%29%3B%0A%20%20%20%20%20%20%20%20%20%20%20%20marker_481f8dd076ee43e784ac816d56fca378.setIcon%28icon_2cc69d80d5bd40d0b2bed161c4feb989%29%3B%0A%20%20%20%20%20%20%20%20%0A%20%20%20%20%0A%20%20%20%20%20%20%20%20%20%20%20%20marker_481f8dd076ee43e784ac816d56fca378.bindTooltip%28%0A%20%20%20%20%20%20%20%20%20%20%20%20%20%20%20%20%60%3Cdiv%3E%0A%20%20%20%20%20%20%20%20%20%20%20%20%20%20%20%20%20%20%20%20%20UBS%201%20SAO%20SEBASTIAO%0A%20%20%20%20%20%20%20%20%20%20%20%20%20%20%20%20%20%3C/div%3E%60%2C%0A%20%20%20%20%20%20%20%20%20%20%20%20%20%20%20%20%7B%22sticky%22%3A%20true%7D%0A%20%20%20%20%20%20%20%20%20%20%20%20%29%3B%0A%20%20%20%20%20%20%20%20%0A%20%20%20%20%0A%20%20%20%20%20%20%20%20%20%20%20%20var%20marker_8764af92b58f44b3ad63f1cfcca27ad6%20%3D%20L.marker%28%0A%20%20%20%20%20%20%20%20%20%20%20%20%20%20%20%20%5B-15.865221349576%2C%20-47.8545155144347%5D%2C%0A%20%20%20%20%20%20%20%20%20%20%20%20%20%20%20%20%7B%7D%0A%20%20%20%20%20%20%20%20%20%20%20%20%29.addTo%28feature_group_3345e6ede6214681a3e06aed36ec4d59%29%3B%0A%20%20%20%20%20%20%20%20%0A%20%20%20%20%0A%20%20%20%20%20%20%20%20%20%20%20%20var%20icon_88683173b59d4441a876cd8b8f140cf4%20%3D%20L.AwesomeMarkers.icon%28%0A%20%20%20%20%20%20%20%20%20%20%20%20%20%20%20%20%7B%22extraClasses%22%3A%20%22fa-rotate-0%22%2C%20%22icon%22%3A%20%22info-sign%22%2C%20%22iconColor%22%3A%20%22white%22%2C%20%22markerColor%22%3A%20%22blue%22%2C%20%22prefix%22%3A%20%22glyphicon%22%7D%0A%20%20%20%20%20%20%20%20%20%20%20%20%29%3B%0A%20%20%20%20%20%20%20%20%20%20%20%20marker_8764af92b58f44b3ad63f1cfcca27ad6.setIcon%28icon_88683173b59d4441a876cd8b8f140cf4%29%3B%0A%20%20%20%20%20%20%20%20%0A%20%20%20%20%0A%20%20%20%20%20%20%20%20%20%20%20%20marker_8764af92b58f44b3ad63f1cfcca27ad6.bindTooltip%28%0A%20%20%20%20%20%20%20%20%20%20%20%20%20%20%20%20%60%3Cdiv%3E%0A%20%20%20%20%20%20%20%20%20%20%20%20%20%20%20%20%20%20%20%20%20UBS%206%20SAO%20FRANCISCO%20SAO%20SEBASTIAO%0A%20%20%20%20%20%20%20%20%20%20%20%20%20%20%20%20%20%3C/div%3E%60%2C%0A%20%20%20%20%20%20%20%20%20%20%20%20%20%20%20%20%7B%22sticky%22%3A%20true%7D%0A%20%20%20%20%20%20%20%20%20%20%20%20%29%3B%0A%20%20%20%20%20%20%20%20%0A%20%20%20%20%0A%20%20%20%20%20%20%20%20%20%20%20%20var%20marker_d6dca8aa8db74e259dd91dbdf8ca78f1%20%3D%20L.marker%28%0A%20%20%20%20%20%20%20%20%20%20%20%20%20%20%20%20%5B-15.865221349576%2C%20-47.8545155144347%5D%2C%0A%20%20%20%20%20%20%20%20%20%20%20%20%20%20%20%20%7B%7D%0A%20%20%20%20%20%20%20%20%20%20%20%20%29.addTo%28feature_group_3345e6ede6214681a3e06aed36ec4d59%29%3B%0A%20%20%20%20%20%20%20%20%0A%20%20%20%20%0A%20%20%20%20%20%20%20%20%20%20%20%20var%20icon_ba91dd56c0c34227ace56e4534273d3d%20%3D%20L.AwesomeMarkers.icon%28%0A%20%20%20%20%20%20%20%20%20%20%20%20%20%20%20%20%7B%22extraClasses%22%3A%20%22fa-rotate-0%22%2C%20%22icon%22%3A%20%22info-sign%22%2C%20%22iconColor%22%3A%20%22white%22%2C%20%22markerColor%22%3A%20%22blue%22%2C%20%22prefix%22%3A%20%22glyphicon%22%7D%0A%20%20%20%20%20%20%20%20%20%20%20%20%29%3B%0A%20%20%20%20%20%20%20%20%20%20%20%20marker_d6dca8aa8db74e259dd91dbdf8ca78f1.setIcon%28icon_ba91dd56c0c34227ace56e4534273d3d%29%3B%0A%20%20%20%20%20%20%20%20%0A%20%20%20%20%0A%20%20%20%20%20%20%20%20%20%20%20%20marker_d6dca8aa8db74e259dd91dbdf8ca78f1.bindTooltip%28%0A%20%20%20%20%20%20%20%20%20%20%20%20%20%20%20%20%60%3Cdiv%3E%0A%20%20%20%20%20%20%20%20%20%20%20%20%20%20%20%20%20%20%20%20%20UBS%2019%20VILA%20DO%20BOA%20SAO%20SEBASTIAO%0A%20%20%20%20%20%20%20%20%20%20%20%20%20%20%20%20%20%3C/div%3E%60%2C%0A%20%20%20%20%20%20%20%20%20%20%20%20%20%20%20%20%7B%22sticky%22%3A%20true%7D%0A%20%20%20%20%20%20%20%20%20%20%20%20%29%3B%0A%20%20%20%20%20%20%20%20%0A%20%20%20%20%0A%20%20%20%20%20%20%20%20%20%20%20%20var%20marker_be6bcd9baff946339cade795ed4afd3a%20%3D%20L.marker%28%0A%20%20%20%20%20%20%20%20%20%20%20%20%20%20%20%20%5B-15.865221349576%2C%20-47.8545155144347%5D%2C%0A%20%20%20%20%20%20%20%20%20%20%20%20%20%20%20%20%7B%7D%0A%20%20%20%20%20%20%20%20%20%20%20%20%29.addTo%28feature_group_3345e6ede6214681a3e06aed36ec4d59%29%3B%0A%20%20%20%20%20%20%20%20%0A%20%20%20%20%0A%20%20%20%20%20%20%20%20%20%20%20%20var%20icon_023d3c5744ca47648845f2737796e149%20%3D%20L.AwesomeMarkers.icon%28%0A%20%20%20%20%20%20%20%20%20%20%20%20%20%20%20%20%7B%22extraClasses%22%3A%20%22fa-rotate-0%22%2C%20%22icon%22%3A%20%22info-sign%22%2C%20%22iconColor%22%3A%20%22white%22%2C%20%22markerColor%22%3A%20%22blue%22%2C%20%22prefix%22%3A%20%22glyphicon%22%7D%0A%20%20%20%20%20%20%20%20%20%20%20%20%29%3B%0A%20%20%20%20%20%20%20%20%20%20%20%20marker_be6bcd9baff946339cade795ed4afd3a.setIcon%28icon_023d3c5744ca47648845f2737796e149%29%3B%0A%20%20%20%20%20%20%20%20%0A%20%20%20%20%0A%20%20%20%20%20%20%20%20%20%20%20%20marker_be6bcd9baff946339cade795ed4afd3a.bindTooltip%28%0A%20%20%20%20%20%20%20%20%20%20%20%20%20%20%20%20%60%3Cdiv%3E%0A%20%20%20%20%20%20%20%20%20%20%20%20%20%20%20%20%20%20%20%20%20UBS%2014%20CDP%20SAO%20SEBASTIAO%0A%20%20%20%20%20%20%20%20%20%20%20%20%20%20%20%20%20%3C/div%3E%60%2C%0A%20%20%20%20%20%20%20%20%20%20%20%20%20%20%20%20%7B%22sticky%22%3A%20true%7D%0A%20%20%20%20%20%20%20%20%20%20%20%20%29%3B%0A%20%20%20%20%20%20%20%20%0A%20%20%20%20%0A%20%20%20%20%20%20%20%20%20%20%20%20var%20marker_36ed6d784c6a490686fedb1dc510419b%20%3D%20L.marker%28%0A%20%20%20%20%20%20%20%20%20%20%20%20%20%20%20%20%5B-15.8468140738351%2C%20-47.8564413161505%5D%2C%0A%20%20%20%20%20%20%20%20%20%20%20%20%20%20%20%20%7B%7D%0A%20%20%20%20%20%20%20%20%20%20%20%20%29.addTo%28feature_group_3345e6ede6214681a3e06aed36ec4d59%29%3B%0A%20%20%20%20%20%20%20%20%0A%20%20%20%20%0A%20%20%20%20%20%20%20%20%20%20%20%20var%20icon_ed6b2a67aed749f09f8c91bf8869c59e%20%3D%20L.AwesomeMarkers.icon%28%0A%20%20%20%20%20%20%20%20%20%20%20%20%20%20%20%20%7B%22extraClasses%22%3A%20%22fa-rotate-0%22%2C%20%22icon%22%3A%20%22info-sign%22%2C%20%22iconColor%22%3A%20%22white%22%2C%20%22markerColor%22%3A%20%22blue%22%2C%20%22prefix%22%3A%20%22glyphicon%22%7D%0A%20%20%20%20%20%20%20%20%20%20%20%20%29%3B%0A%20%20%20%20%20%20%20%20%20%20%20%20marker_36ed6d784c6a490686fedb1dc510419b.setIcon%28icon_ed6b2a67aed749f09f8c91bf8869c59e%29%3B%0A%20%20%20%20%20%20%20%20%0A%20%20%20%20%0A%20%20%20%20%20%20%20%20%20%20%20%20marker_36ed6d784c6a490686fedb1dc510419b.bindTooltip%28%0A%20%20%20%20%20%20%20%20%20%20%20%20%20%20%20%20%60%3Cdiv%3E%0A%20%20%20%20%20%20%20%20%20%20%20%20%20%20%20%20%20%20%20%20%20UBS%209%20RESIDENCIAL%20DO%20BOSQUE%201%20SAO%20SEBASTIAO%0A%20%20%20%20%20%20%20%20%20%20%20%20%20%20%20%20%20%3C/div%3E%60%2C%0A%20%20%20%20%20%20%20%20%20%20%20%20%20%20%20%20%7B%22sticky%22%3A%20true%7D%0A%20%20%20%20%20%20%20%20%20%20%20%20%29%3B%0A%20%20%20%20%20%20%20%20%0A%20%20%20%20%0A%20%20%20%20%20%20%20%20%20%20%20%20var%20marker_c289aa8692aa4484a4589a51b262dfb4%20%3D%20L.marker%28%0A%20%20%20%20%20%20%20%20%20%20%20%20%20%20%20%20%5B-15.8468140738351%2C%20-47.8564413161505%5D%2C%0A%20%20%20%20%20%20%20%20%20%20%20%20%20%20%20%20%7B%7D%0A%20%20%20%20%20%20%20%20%20%20%20%20%29.addTo%28feature_group_3345e6ede6214681a3e06aed36ec4d59%29%3B%0A%20%20%20%20%20%20%20%20%0A%20%20%20%20%0A%20%20%20%20%20%20%20%20%20%20%20%20var%20icon_1b3f30aa34dd4b8f9f42bc80e7bcfb9a%20%3D%20L.AwesomeMarkers.icon%28%0A%20%20%20%20%20%20%20%20%20%20%20%20%20%20%20%20%7B%22extraClasses%22%3A%20%22fa-rotate-0%22%2C%20%22icon%22%3A%20%22info-sign%22%2C%20%22iconColor%22%3A%20%22white%22%2C%20%22markerColor%22%3A%20%22blue%22%2C%20%22prefix%22%3A%20%22glyphicon%22%7D%0A%20%20%20%20%20%20%20%20%20%20%20%20%29%3B%0A%20%20%20%20%20%20%20%20%20%20%20%20marker_c289aa8692aa4484a4589a51b262dfb4.setIcon%28icon_1b3f30aa34dd4b8f9f42bc80e7bcfb9a%29%3B%0A%20%20%20%20%20%20%20%20%0A%20%20%20%20%0A%20%20%20%20%20%20%20%20%20%20%20%20marker_c289aa8692aa4484a4589a51b262dfb4.bindTooltip%28%0A%20%20%20%20%20%20%20%20%20%20%20%20%20%20%20%20%60%3Cdiv%3E%0A%20%20%20%20%20%20%20%20%20%20%20%20%20%20%20%20%20%20%20%20%20UBS%2010%20JOAO%20CANDIDO%20SAO%20SEBASTIAO%0A%20%20%20%20%20%20%20%20%20%20%20%20%20%20%20%20%20%3C/div%3E%60%2C%0A%20%20%20%20%20%20%20%20%20%20%20%20%20%20%20%20%7B%22sticky%22%3A%20true%7D%0A%20%20%20%20%20%20%20%20%20%20%20%20%29%3B%0A%20%20%20%20%20%20%20%20%0A%20%20%20%20%0A%20%20%20%20%20%20%20%20%20%20%20%20var%20marker_498e892c21e243cf8be73bee1961ec5d%20%3D%20L.marker%28%0A%20%20%20%20%20%20%20%20%20%20%20%20%20%20%20%20%5B-15.8686888300139%2C%20-47.9734697013066%5D%2C%0A%20%20%20%20%20%20%20%20%20%20%20%20%20%20%20%20%7B%7D%0A%20%20%20%20%20%20%20%20%20%20%20%20%29.addTo%28feature_group_3345e6ede6214681a3e06aed36ec4d59%29%3B%0A%20%20%20%20%20%20%20%20%0A%20%20%20%20%0A%20%20%20%20%20%20%20%20%20%20%20%20var%20icon_294be3a2e85542369c668edf4e140816%20%3D%20L.AwesomeMarkers.icon%28%0A%20%20%20%20%20%20%20%20%20%20%20%20%20%20%20%20%7B%22extraClasses%22%3A%20%22fa-rotate-0%22%2C%20%22icon%22%3A%20%22info-sign%22%2C%20%22iconColor%22%3A%20%22white%22%2C%20%22markerColor%22%3A%20%22blue%22%2C%20%22prefix%22%3A%20%22glyphicon%22%7D%0A%20%20%20%20%20%20%20%20%20%20%20%20%29%3B%0A%20%20%20%20%20%20%20%20%20%20%20%20marker_498e892c21e243cf8be73bee1961ec5d.setIcon%28icon_294be3a2e85542369c668edf4e140816%29%3B%0A%20%20%20%20%20%20%20%20%0A%20%20%20%20%0A%20%20%20%20%20%20%20%20%20%20%20%20marker_498e892c21e243cf8be73bee1961ec5d.bindTooltip%28%0A%20%20%20%20%20%20%20%20%20%20%20%20%20%20%20%20%60%3Cdiv%3E%0A%20%20%20%20%20%20%20%20%20%20%20%20%20%20%20%20%20%20%20%20%20UBS%2001%20NUCLEO%20BANDEIRANTE%0A%20%20%20%20%20%20%20%20%20%20%20%20%20%20%20%20%20%3C/div%3E%60%2C%0A%20%20%20%20%20%20%20%20%20%20%20%20%20%20%20%20%7B%22sticky%22%3A%20true%7D%0A%20%20%20%20%20%20%20%20%20%20%20%20%29%3B%0A%20%20%20%20%20%20%20%20%0A%20%20%20%20%0A%20%20%20%20%20%20%20%20%20%20%20%20var%20marker_6a6a31c75d1c45d290a04725255fbe9f%20%3D%20L.marker%28%0A%20%20%20%20%20%20%20%20%20%20%20%20%20%20%20%20%5B-15.8423283351095%2C%20-47.9524605901618%5D%2C%0A%20%20%20%20%20%20%20%20%20%20%20%20%20%20%20%20%7B%7D%0A%20%20%20%20%20%20%20%20%20%20%20%20%29.addTo%28feature_group_3345e6ede6214681a3e06aed36ec4d59%29%3B%0A%20%20%20%20%20%20%20%20%0A%20%20%20%20%0A%20%20%20%20%20%20%20%20%20%20%20%20var%20icon_b63b6afd90544e60b43a5f415d7aafad%20%3D%20L.AwesomeMarkers.icon%28%0A%20%20%20%20%20%20%20%20%20%20%20%20%20%20%20%20%7B%22extraClasses%22%3A%20%22fa-rotate-0%22%2C%20%22icon%22%3A%20%22info-sign%22%2C%20%22iconColor%22%3A%20%22white%22%2C%20%22markerColor%22%3A%20%22blue%22%2C%20%22prefix%22%3A%20%22glyphicon%22%7D%0A%20%20%20%20%20%20%20%20%20%20%20%20%29%3B%0A%20%20%20%20%20%20%20%20%20%20%20%20marker_6a6a31c75d1c45d290a04725255fbe9f.setIcon%28icon_b63b6afd90544e60b43a5f415d7aafad%29%3B%0A%20%20%20%20%20%20%20%20%0A%20%20%20%20%0A%20%20%20%20%20%20%20%20%20%20%20%20marker_6a6a31c75d1c45d290a04725255fbe9f.bindTooltip%28%0A%20%20%20%20%20%20%20%20%20%20%20%20%20%20%20%20%60%3Cdiv%3E%0A%20%20%20%20%20%20%20%20%20%20%20%20%20%20%20%20%20%20%20%20%20UBS%2001%20CANDANGOLANDIA%0A%20%20%20%20%20%20%20%20%20%20%20%20%20%20%20%20%20%3C/div%3E%60%2C%0A%20%20%20%20%20%20%20%20%20%20%20%20%20%20%20%20%7B%22sticky%22%3A%20true%7D%0A%20%20%20%20%20%20%20%20%20%20%20%20%29%3B%0A%20%20%20%20%20%20%20%20%0A%20%20%20%20%0A%20%20%20%20%20%20%20%20%20%20%20%20var%20marker_b513b5dbfeb142e094fe4769dc613d27%20%3D%20L.marker%28%0A%20%20%20%20%20%20%20%20%20%20%20%20%20%20%20%20%5B-15.8250416408886%2C%20-47.905009356412%5D%2C%0A%20%20%20%20%20%20%20%20%20%20%20%20%20%20%20%20%7B%7D%0A%20%20%20%20%20%20%20%20%20%20%20%20%29.addTo%28feature_group_3345e6ede6214681a3e06aed36ec4d59%29%3B%0A%20%20%20%20%20%20%20%20%0A%20%20%20%20%0A%20%20%20%20%20%20%20%20%20%20%20%20var%20icon_c83c311fa4674e2995120fd95225a0fc%20%3D%20L.AwesomeMarkers.icon%28%0A%20%20%20%20%20%20%20%20%20%20%20%20%20%20%20%20%7B%22extraClasses%22%3A%20%22fa-rotate-0%22%2C%20%22icon%22%3A%20%22info-sign%22%2C%20%22iconColor%22%3A%20%22white%22%2C%20%22markerColor%22%3A%20%22blue%22%2C%20%22prefix%22%3A%20%22glyphicon%22%7D%0A%20%20%20%20%20%20%20%20%20%20%20%20%29%3B%0A%20%20%20%20%20%20%20%20%20%20%20%20marker_b513b5dbfeb142e094fe4769dc613d27.setIcon%28icon_c83c311fa4674e2995120fd95225a0fc%29%3B%0A%20%20%20%20%20%20%20%20%0A%20%20%20%20%0A%20%20%20%20%20%20%20%20%20%20%20%20marker_b513b5dbfeb142e094fe4769dc613d27.bindTooltip%28%0A%20%20%20%20%20%20%20%20%20%20%20%20%20%20%20%20%60%3Cdiv%3E%0A%20%20%20%20%20%20%20%20%20%20%20%20%20%20%20%20%20%20%20%20%20UBS%2002%20NUCLEO%20BANDEIRANTE%0A%20%20%20%20%20%20%20%20%20%20%20%20%20%20%20%20%20%3C/div%3E%60%2C%0A%20%20%20%20%20%20%20%20%20%20%20%20%20%20%20%20%7B%22sticky%22%3A%20true%7D%0A%20%20%20%20%20%20%20%20%20%20%20%20%29%3B%0A%20%20%20%20%20%20%20%20%0A%20%20%20%20%0A%20%20%20%20%20%20%20%20%20%20%20%20var%20marker_cfda9967e1764b598dba4dc6bed0b90e%20%3D%20L.marker%28%0A%20%20%20%20%20%20%20%20%20%20%20%20%20%20%20%20%5B-15.8762882096427%2C%20-48.0091513452076%5D%2C%0A%20%20%20%20%20%20%20%20%20%20%20%20%20%20%20%20%7B%7D%0A%20%20%20%20%20%20%20%20%20%20%20%20%29.addTo%28feature_group_3345e6ede6214681a3e06aed36ec4d59%29%3B%0A%20%20%20%20%20%20%20%20%0A%20%20%20%20%0A%20%20%20%20%20%20%20%20%20%20%20%20var%20icon_1eeda6aa036b4c9e81cc0ccce3cdc3af%20%3D%20L.AwesomeMarkers.icon%28%0A%20%20%20%20%20%20%20%20%20%20%20%20%20%20%20%20%7B%22extraClasses%22%3A%20%22fa-rotate-0%22%2C%20%22icon%22%3A%20%22info-sign%22%2C%20%22iconColor%22%3A%20%22white%22%2C%20%22markerColor%22%3A%20%22blue%22%2C%20%22prefix%22%3A%20%22glyphicon%22%7D%0A%20%20%20%20%20%20%20%20%20%20%20%20%29%3B%0A%20%20%20%20%20%20%20%20%20%20%20%20marker_cfda9967e1764b598dba4dc6bed0b90e.setIcon%28icon_1eeda6aa036b4c9e81cc0ccce3cdc3af%29%3B%0A%20%20%20%20%20%20%20%20%0A%20%20%20%20%0A%20%20%20%20%20%20%20%20%20%20%20%20marker_cfda9967e1764b598dba4dc6bed0b90e.bindTooltip%28%0A%20%20%20%20%20%20%20%20%20%20%20%20%20%20%20%20%60%3Cdiv%3E%0A%20%20%20%20%20%20%20%20%20%20%20%20%20%20%20%20%20%20%20%20%20UBS%2001%20RIACHO%20FUNDO%20I%0A%20%20%20%20%20%20%20%20%20%20%20%20%20%20%20%20%20%3C/div%3E%60%2C%0A%20%20%20%20%20%20%20%20%20%20%20%20%20%20%20%20%7B%22sticky%22%3A%20true%7D%0A%20%20%20%20%20%20%20%20%20%20%20%20%29%3B%0A%20%20%20%20%20%20%20%20%0A%20%20%20%20%0A%20%20%20%20%20%20%20%20%20%20%20%20var%20marker_5462f00bc47b45e3bb83398cc53b8a65%20%3D%20L.marker%28%0A%20%20%20%20%20%20%20%20%20%20%20%20%20%20%20%20%5B-15.8703370606604%2C%20-48.0058853054835%5D%2C%0A%20%20%20%20%20%20%20%20%20%20%20%20%20%20%20%20%7B%7D%0A%20%20%20%20%20%20%20%20%20%20%20%20%29.addTo%28feature_group_3345e6ede6214681a3e06aed36ec4d59%29%3B%0A%20%20%20%20%20%20%20%20%0A%20%20%20%20%0A%20%20%20%20%20%20%20%20%20%20%20%20var%20icon_85405c5cfd1944a98a143d67fed93e86%20%3D%20L.AwesomeMarkers.icon%28%0A%20%20%20%20%20%20%20%20%20%20%20%20%20%20%20%20%7B%22extraClasses%22%3A%20%22fa-rotate-0%22%2C%20%22icon%22%3A%20%22info-sign%22%2C%20%22iconColor%22%3A%20%22white%22%2C%20%22markerColor%22%3A%20%22blue%22%2C%20%22prefix%22%3A%20%22glyphicon%22%7D%0A%20%20%20%20%20%20%20%20%20%20%20%20%29%3B%0A%20%20%20%20%20%20%20%20%20%20%20%20marker_5462f00bc47b45e3bb83398cc53b8a65.setIcon%28icon_85405c5cfd1944a98a143d67fed93e86%29%3B%0A%20%20%20%20%20%20%20%20%0A%20%20%20%20%0A%20%20%20%20%20%20%20%20%20%20%20%20marker_5462f00bc47b45e3bb83398cc53b8a65.bindTooltip%28%0A%20%20%20%20%20%20%20%20%20%20%20%20%20%20%20%20%60%3Cdiv%3E%0A%20%20%20%20%20%20%20%20%20%20%20%20%20%20%20%20%20%20%20%20%20UBS%2002%20RIACHO%20FUNDO%20II%0A%20%20%20%20%20%20%20%20%20%20%20%20%20%20%20%20%20%3C/div%3E%60%2C%0A%20%20%20%20%20%20%20%20%20%20%20%20%20%20%20%20%7B%22sticky%22%3A%20true%7D%0A%20%20%20%20%20%20%20%20%20%20%20%20%29%3B%0A%20%20%20%20%20%20%20%20%0A%20%20%20%20%0A%20%20%20%20%20%20%20%20%20%20%20%20var%20marker_246c4f9d77e64a6d98a547c97debd8e4%20%3D%20L.marker%28%0A%20%20%20%20%20%20%20%20%20%20%20%20%20%20%20%20%5B-15.9108170611518%2C%20-48.0285638400487%5D%2C%0A%20%20%20%20%20%20%20%20%20%20%20%20%20%20%20%20%7B%7D%0A%20%20%20%20%20%20%20%20%20%20%20%20%29.addTo%28feature_group_3345e6ede6214681a3e06aed36ec4d59%29%3B%0A%20%20%20%20%20%20%20%20%0A%20%20%20%20%0A%20%20%20%20%20%20%20%20%20%20%20%20var%20icon_f382cc195af344398fdbbb43da7330f9%20%3D%20L.AwesomeMarkers.icon%28%0A%20%20%20%20%20%20%20%20%20%20%20%20%20%20%20%20%7B%22extraClasses%22%3A%20%22fa-rotate-0%22%2C%20%22icon%22%3A%20%22info-sign%22%2C%20%22iconColor%22%3A%20%22white%22%2C%20%22markerColor%22%3A%20%22blue%22%2C%20%22prefix%22%3A%20%22glyphicon%22%7D%0A%20%20%20%20%20%20%20%20%20%20%20%20%29%3B%0A%20%20%20%20%20%20%20%20%20%20%20%20marker_246c4f9d77e64a6d98a547c97debd8e4.setIcon%28icon_f382cc195af344398fdbbb43da7330f9%29%3B%0A%20%20%20%20%20%20%20%20%0A%20%20%20%20%0A%20%20%20%20%20%20%20%20%20%20%20%20marker_246c4f9d77e64a6d98a547c97debd8e4.bindTooltip%28%0A%20%20%20%20%20%20%20%20%20%20%20%20%20%20%20%20%60%3Cdiv%3E%0A%20%20%20%20%20%20%20%20%20%20%20%20%20%20%20%20%20%20%20%20%20UBS%2001%20RIACHO%20FUNDO%20II%0A%20%20%20%20%20%20%20%20%20%20%20%20%20%20%20%20%20%3C/div%3E%60%2C%0A%20%20%20%20%20%20%20%20%20%20%20%20%20%20%20%20%7B%22sticky%22%3A%20true%7D%0A%20%20%20%20%20%20%20%20%20%20%20%20%29%3B%0A%20%20%20%20%20%20%20%20%0A%20%20%20%20%0A%20%20%20%20%20%20%20%20%20%20%20%20var%20marker_fbec90315df24f30bb0c1c8213559927%20%3D%20L.marker%28%0A%20%20%20%20%20%20%20%20%20%20%20%20%20%20%20%20%5B-15.7768950118799%2C%20-47.9757042480821%5D%2C%0A%20%20%20%20%20%20%20%20%20%20%20%20%20%20%20%20%7B%7D%0A%20%20%20%20%20%20%20%20%20%20%20%20%29.addTo%28feature_group_3345e6ede6214681a3e06aed36ec4d59%29%3B%0A%20%20%20%20%20%20%20%20%0A%20%20%20%20%0A%20%20%20%20%20%20%20%20%20%20%20%20var%20icon_b945216050dd40fda636fb95790dc143%20%3D%20L.AwesomeMarkers.icon%28%0A%20%20%20%20%20%20%20%20%20%20%20%20%20%20%20%20%7B%22extraClasses%22%3A%20%22fa-rotate-0%22%2C%20%22icon%22%3A%20%22info-sign%22%2C%20%22iconColor%22%3A%20%22white%22%2C%20%22markerColor%22%3A%20%22blue%22%2C%20%22prefix%22%3A%20%22glyphicon%22%7D%0A%20%20%20%20%20%20%20%20%20%20%20%20%29%3B%0A%20%20%20%20%20%20%20%20%20%20%20%20marker_fbec90315df24f30bb0c1c8213559927.setIcon%28icon_b945216050dd40fda636fb95790dc143%29%3B%0A%20%20%20%20%20%20%20%20%0A%20%20%20%20%0A%20%20%20%20%20%20%20%20%20%20%20%20marker_fbec90315df24f30bb0c1c8213559927.bindTooltip%28%0A%20%20%20%20%20%20%20%20%20%20%20%20%20%20%20%20%60%3Cdiv%3E%0A%20%20%20%20%20%20%20%20%20%20%20%20%20%20%20%20%20%20%20%20%20UBS%2001%20VICENTE%20PIRES%0A%20%20%20%20%20%20%20%20%20%20%20%20%20%20%20%20%20%3C/div%3E%60%2C%0A%20%20%20%20%20%20%20%20%20%20%20%20%20%20%20%20%7B%22sticky%22%3A%20true%7D%0A%20%20%20%20%20%20%20%20%20%20%20%20%29%3B%0A%20%20%20%20%20%20%20%20%0A%20%20%20%20%0A%20%20%20%20%20%20%20%20%20%20%20%20var%20marker_00c498018dcd497185ec40f581a0e730%20%3D%20L.marker%28%0A%20%20%20%20%20%20%20%20%20%20%20%20%20%20%20%20%5B-15.8083474379319%2C%20-48.0626341599684%5D%2C%0A%20%20%20%20%20%20%20%20%20%20%20%20%20%20%20%20%7B%7D%0A%20%20%20%20%20%20%20%20%20%20%20%20%29.addTo%28feature_group_3345e6ede6214681a3e06aed36ec4d59%29%3B%0A%20%20%20%20%20%20%20%20%0A%20%20%20%20%0A%20%20%20%20%20%20%20%20%20%20%20%20var%20icon_9d4a2514831b44119d5d265b8af503e8%20%3D%20L.AwesomeMarkers.icon%28%0A%20%20%20%20%20%20%20%20%20%20%20%20%20%20%20%20%7B%22extraClasses%22%3A%20%22fa-rotate-0%22%2C%20%22icon%22%3A%20%22info-sign%22%2C%20%22iconColor%22%3A%20%22white%22%2C%20%22markerColor%22%3A%20%22blue%22%2C%20%22prefix%22%3A%20%22glyphicon%22%7D%0A%20%20%20%20%20%20%20%20%20%20%20%20%29%3B%0A%20%20%20%20%20%20%20%20%20%20%20%20marker_00c498018dcd497185ec40f581a0e730.setIcon%28icon_9d4a2514831b44119d5d265b8af503e8%29%3B%0A%20%20%20%20%20%20%20%20%0A%20%20%20%20%0A%20%20%20%20%20%20%20%20%20%20%20%20marker_00c498018dcd497185ec40f581a0e730.bindTooltip%28%0A%20%20%20%20%20%20%20%20%20%20%20%20%20%20%20%20%60%3Cdiv%3E%0A%20%20%20%20%20%20%20%20%20%20%20%20%20%20%20%20%20%20%20%20%20HRT%20HOSPITAL%20REGIONAL%20DE%20TAGUATINGA%0A%20%20%20%20%20%20%20%20%20%20%20%20%20%20%20%20%20%3C/div%3E%60%2C%0A%20%20%20%20%20%20%20%20%20%20%20%20%20%20%20%20%7B%22sticky%22%3A%20true%7D%0A%20%20%20%20%20%20%20%20%20%20%20%20%29%3B%0A%20%20%20%20%20%20%20%20%0A%20%20%20%20%0A%20%20%20%20%20%20%20%20%20%20%20%20var%20marker_1b55777709634bcf8b34b947b0b6bd15%20%3D%20L.marker%28%0A%20%20%20%20%20%20%20%20%20%20%20%20%20%20%20%20%5B-15.8265664600191%2C%20-48.0745433262416%5D%2C%0A%20%20%20%20%20%20%20%20%20%20%20%20%20%20%20%20%7B%7D%0A%20%20%20%20%20%20%20%20%20%20%20%20%29.addTo%28feature_group_3345e6ede6214681a3e06aed36ec4d59%29%3B%0A%20%20%20%20%20%20%20%20%0A%20%20%20%20%0A%20%20%20%20%20%20%20%20%20%20%20%20var%20icon_a0c84309882244ffab3c3c8ebc4c4184%20%3D%20L.AwesomeMarkers.icon%28%0A%20%20%20%20%20%20%20%20%20%20%20%20%20%20%20%20%7B%22extraClasses%22%3A%20%22fa-rotate-0%22%2C%20%22icon%22%3A%20%22info-sign%22%2C%20%22iconColor%22%3A%20%22white%22%2C%20%22markerColor%22%3A%20%22blue%22%2C%20%22prefix%22%3A%20%22glyphicon%22%7D%0A%20%20%20%20%20%20%20%20%20%20%20%20%29%3B%0A%20%20%20%20%20%20%20%20%20%20%20%20marker_1b55777709634bcf8b34b947b0b6bd15.setIcon%28icon_a0c84309882244ffab3c3c8ebc4c4184%29%3B%0A%20%20%20%20%20%20%20%20%0A%20%20%20%20%0A%20%20%20%20%20%20%20%20%20%20%20%20marker_1b55777709634bcf8b34b947b0b6bd15.bindTooltip%28%0A%20%20%20%20%20%20%20%20%20%20%20%20%20%20%20%20%60%3Cdiv%3E%0A%20%20%20%20%20%20%20%20%20%20%20%20%20%20%20%20%20%20%20%20%20UBS%2002%20TAGUATINGA%0A%20%20%20%20%20%20%20%20%20%20%20%20%20%20%20%20%20%3C/div%3E%60%2C%0A%20%20%20%20%20%20%20%20%20%20%20%20%20%20%20%20%7B%22sticky%22%3A%20true%7D%0A%20%20%20%20%20%20%20%20%20%20%20%20%29%3B%0A%20%20%20%20%20%20%20%20%0A%20%20%20%20%0A%20%20%20%20%20%20%20%20%20%20%20%20var%20marker_54008be5bbe843fbb30c681361ce103e%20%3D%20L.marker%28%0A%20%20%20%20%20%20%20%20%20%20%20%20%20%20%20%20%5B-15.8265664600191%2C%20-48.0745433262416%5D%2C%0A%20%20%20%20%20%20%20%20%20%20%20%20%20%20%20%20%7B%7D%0A%20%20%20%20%20%20%20%20%20%20%20%20%29.addTo%28feature_group_3345e6ede6214681a3e06aed36ec4d59%29%3B%0A%20%20%20%20%20%20%20%20%0A%20%20%20%20%0A%20%20%20%20%20%20%20%20%20%20%20%20var%20icon_c0321a5cb16d4e56abd20417c8edb284%20%3D%20L.AwesomeMarkers.icon%28%0A%20%20%20%20%20%20%20%20%20%20%20%20%20%20%20%20%7B%22extraClasses%22%3A%20%22fa-rotate-0%22%2C%20%22icon%22%3A%20%22info-sign%22%2C%20%22iconColor%22%3A%20%22white%22%2C%20%22markerColor%22%3A%20%22blue%22%2C%20%22prefix%22%3A%20%22glyphicon%22%7D%0A%20%20%20%20%20%20%20%20%20%20%20%20%29%3B%0A%20%20%20%20%20%20%20%20%20%20%20%20marker_54008be5bbe843fbb30c681361ce103e.setIcon%28icon_c0321a5cb16d4e56abd20417c8edb284%29%3B%0A%20%20%20%20%20%20%20%20%0A%20%20%20%20%0A%20%20%20%20%20%20%20%20%20%20%20%20marker_54008be5bbe843fbb30c681361ce103e.bindTooltip%28%0A%20%20%20%20%20%20%20%20%20%20%20%20%20%20%20%20%60%3Cdiv%3E%0A%20%20%20%20%20%20%20%20%20%20%20%20%20%20%20%20%20%20%20%20%20UBS%2007%20TAGUATINGA%0A%20%20%20%20%20%20%20%20%20%20%20%20%20%20%20%20%20%3C/div%3E%60%2C%0A%20%20%20%20%20%20%20%20%20%20%20%20%20%20%20%20%7B%22sticky%22%3A%20true%7D%0A%20%20%20%20%20%20%20%20%20%20%20%20%29%3B%0A%20%20%20%20%20%20%20%20%0A%20%20%20%20%0A%20%20%20%20%20%20%20%20%20%20%20%20var%20marker_c0203783266d4ae59280f8dd0926e590%20%3D%20L.marker%28%0A%20%20%20%20%20%20%20%20%20%20%20%20%20%20%20%20%5B-15.8265664600191%2C%20-48.0745433262416%5D%2C%0A%20%20%20%20%20%20%20%20%20%20%20%20%20%20%20%20%7B%7D%0A%20%20%20%20%20%20%20%20%20%20%20%20%29.addTo%28feature_group_3345e6ede6214681a3e06aed36ec4d59%29%3B%0A%20%20%20%20%20%20%20%20%0A%20%20%20%20%0A%20%20%20%20%20%20%20%20%20%20%20%20var%20icon_69a6551f787841129a90f7fe6bde62ad%20%3D%20L.AwesomeMarkers.icon%28%0A%20%20%20%20%20%20%20%20%20%20%20%20%20%20%20%20%7B%22extraClasses%22%3A%20%22fa-rotate-0%22%2C%20%22icon%22%3A%20%22info-sign%22%2C%20%22iconColor%22%3A%20%22white%22%2C%20%22markerColor%22%3A%20%22blue%22%2C%20%22prefix%22%3A%20%22glyphicon%22%7D%0A%20%20%20%20%20%20%20%20%20%20%20%20%29%3B%0A%20%20%20%20%20%20%20%20%20%20%20%20marker_c0203783266d4ae59280f8dd0926e590.setIcon%28icon_69a6551f787841129a90f7fe6bde62ad%29%3B%0A%20%20%20%20%20%20%20%20%0A%20%20%20%20%0A%20%20%20%20%20%20%20%20%20%20%20%20marker_c0203783266d4ae59280f8dd0926e590.bindTooltip%28%0A%20%20%20%20%20%20%20%20%20%20%20%20%20%20%20%20%60%3Cdiv%3E%0A%20%20%20%20%20%20%20%20%20%20%20%20%20%20%20%20%20%20%20%20%20UBS%2008%20TAGUATINGA%0A%20%20%20%20%20%20%20%20%20%20%20%20%20%20%20%20%20%3C/div%3E%60%2C%0A%20%20%20%20%20%20%20%20%20%20%20%20%20%20%20%20%7B%22sticky%22%3A%20true%7D%0A%20%20%20%20%20%20%20%20%20%20%20%20%29%3B%0A%20%20%20%20%20%20%20%20%0A%20%20%20%20%0A%20%20%20%20%20%20%20%20%20%20%20%20var%20marker_3a499554667b4c7f809c206784849c1a%20%3D%20L.marker%28%0A%20%20%20%20%20%20%20%20%20%20%20%20%20%20%20%20%5B-15.8265664600191%2C%20-48.0745433262416%5D%2C%0A%20%20%20%20%20%20%20%20%20%20%20%20%20%20%20%20%7B%7D%0A%20%20%20%20%20%20%20%20%20%20%20%20%29.addTo%28feature_group_3345e6ede6214681a3e06aed36ec4d59%29%3B%0A%20%20%20%20%20%20%20%20%0A%20%20%20%20%0A%20%20%20%20%20%20%20%20%20%20%20%20var%20icon_ec57efd3dc7a4f2295b78ba2ff058fbc%20%3D%20L.AwesomeMarkers.icon%28%0A%20%20%20%20%20%20%20%20%20%20%20%20%20%20%20%20%7B%22extraClasses%22%3A%20%22fa-rotate-0%22%2C%20%22icon%22%3A%20%22info-sign%22%2C%20%22iconColor%22%3A%20%22white%22%2C%20%22markerColor%22%3A%20%22blue%22%2C%20%22prefix%22%3A%20%22glyphicon%22%7D%0A%20%20%20%20%20%20%20%20%20%20%20%20%29%3B%0A%20%20%20%20%20%20%20%20%20%20%20%20marker_3a499554667b4c7f809c206784849c1a.setIcon%28icon_ec57efd3dc7a4f2295b78ba2ff058fbc%29%3B%0A%20%20%20%20%20%20%20%20%0A%20%20%20%20%0A%20%20%20%20%20%20%20%20%20%20%20%20marker_3a499554667b4c7f809c206784849c1a.bindTooltip%28%0A%20%20%20%20%20%20%20%20%20%20%20%20%20%20%20%20%60%3Cdiv%3E%0A%20%20%20%20%20%20%20%20%20%20%20%20%20%20%20%20%20%20%20%20%20UBS%2001%20TAGUATINGA%0A%20%20%20%20%20%20%20%20%20%20%20%20%20%20%20%20%20%3C/div%3E%60%2C%0A%20%20%20%20%20%20%20%20%20%20%20%20%20%20%20%20%7B%22sticky%22%3A%20true%7D%0A%20%20%20%20%20%20%20%20%20%20%20%20%29%3B%0A%20%20%20%20%20%20%20%20%0A%20%20%20%20%0A%20%20%20%20%20%20%20%20%20%20%20%20var%20marker_19b1304a90b54fe9a1907a4c9491d8ef%20%3D%20L.marker%28%0A%20%20%20%20%20%20%20%20%20%20%20%20%20%20%20%20%5B-15.8265664600191%2C%20-48.0745433262416%5D%2C%0A%20%20%20%20%20%20%20%20%20%20%20%20%20%20%20%20%7B%7D%0A%20%20%20%20%20%20%20%20%20%20%20%20%29.addTo%28feature_group_3345e6ede6214681a3e06aed36ec4d59%29%3B%0A%20%20%20%20%20%20%20%20%0A%20%20%20%20%0A%20%20%20%20%20%20%20%20%20%20%20%20var%20icon_fed137c604814062a5b1ee1e95a0d1b9%20%3D%20L.AwesomeMarkers.icon%28%0A%20%20%20%20%20%20%20%20%20%20%20%20%20%20%20%20%7B%22extraClasses%22%3A%20%22fa-rotate-0%22%2C%20%22icon%22%3A%20%22info-sign%22%2C%20%22iconColor%22%3A%20%22white%22%2C%20%22markerColor%22%3A%20%22blue%22%2C%20%22prefix%22%3A%20%22glyphicon%22%7D%0A%20%20%20%20%20%20%20%20%20%20%20%20%29%3B%0A%20%20%20%20%20%20%20%20%20%20%20%20marker_19b1304a90b54fe9a1907a4c9491d8ef.setIcon%28icon_fed137c604814062a5b1ee1e95a0d1b9%29%3B%0A%20%20%20%20%20%20%20%20%0A%20%20%20%20%0A%20%20%20%20%20%20%20%20%20%20%20%20marker_19b1304a90b54fe9a1907a4c9491d8ef.bindTooltip%28%0A%20%20%20%20%20%20%20%20%20%20%20%20%20%20%20%20%60%3Cdiv%3E%0A%20%20%20%20%20%20%20%20%20%20%20%20%20%20%20%20%20%20%20%20%20UBS%2005%20TAGUATINGA%0A%20%20%20%20%20%20%20%20%20%20%20%20%20%20%20%20%20%3C/div%3E%60%2C%0A%20%20%20%20%20%20%20%20%20%20%20%20%20%20%20%20%7B%22sticky%22%3A%20true%7D%0A%20%20%20%20%20%20%20%20%20%20%20%20%29%3B%0A%20%20%20%20%20%20%20%20%0A%20%20%20%20%0A%20%20%20%20%20%20%20%20%20%20%20%20var%20marker_dcd80df281ba48b28b01a81c0d9fb003%20%3D%20L.marker%28%0A%20%20%20%20%20%20%20%20%20%20%20%20%20%20%20%20%5B-15.8265664600191%2C%20-48.0745433262416%5D%2C%0A%20%20%20%20%20%20%20%20%20%20%20%20%20%20%20%20%7B%7D%0A%20%20%20%20%20%20%20%20%20%20%20%20%29.addTo%28feature_group_3345e6ede6214681a3e06aed36ec4d59%29%3B%0A%20%20%20%20%20%20%20%20%0A%20%20%20%20%0A%20%20%20%20%20%20%20%20%20%20%20%20var%20icon_63312f5af4294b4b9eb75f8b44204837%20%3D%20L.AwesomeMarkers.icon%28%0A%20%20%20%20%20%20%20%20%20%20%20%20%20%20%20%20%7B%22extraClasses%22%3A%20%22fa-rotate-0%22%2C%20%22icon%22%3A%20%22info-sign%22%2C%20%22iconColor%22%3A%20%22white%22%2C%20%22markerColor%22%3A%20%22blue%22%2C%20%22prefix%22%3A%20%22glyphicon%22%7D%0A%20%20%20%20%20%20%20%20%20%20%20%20%29%3B%0A%20%20%20%20%20%20%20%20%20%20%20%20marker_dcd80df281ba48b28b01a81c0d9fb003.setIcon%28icon_63312f5af4294b4b9eb75f8b44204837%29%3B%0A%20%20%20%20%20%20%20%20%0A%20%20%20%20%0A%20%20%20%20%20%20%20%20%20%20%20%20marker_dcd80df281ba48b28b01a81c0d9fb003.bindTooltip%28%0A%20%20%20%20%20%20%20%20%20%20%20%20%20%20%20%20%60%3Cdiv%3E%0A%20%20%20%20%20%20%20%20%20%20%20%20%20%20%20%20%20%20%20%20%20UBS%2006%20TAGUATINGA%0A%20%20%20%20%20%20%20%20%20%20%20%20%20%20%20%20%20%3C/div%3E%60%2C%0A%20%20%20%20%20%20%20%20%20%20%20%20%20%20%20%20%7B%22sticky%22%3A%20true%7D%0A%20%20%20%20%20%20%20%20%20%20%20%20%29%3B%0A%20%20%20%20%20%20%20%20%0A%20%20%20%20%0A%20%20%20%20%20%20%20%20%20%20%20%20var%20marker_3e5135dba13a4988986fdeea5b1b3893%20%3D%20L.marker%28%0A%20%20%20%20%20%20%20%20%20%20%20%20%20%20%20%20%5B-15.8265664600191%2C%20-48.0745433262416%5D%2C%0A%20%20%20%20%20%20%20%20%20%20%20%20%20%20%20%20%7B%7D%0A%20%20%20%20%20%20%20%20%20%20%20%20%29.addTo%28feature_group_3345e6ede6214681a3e06aed36ec4d59%29%3B%0A%20%20%20%20%20%20%20%20%0A%20%20%20%20%0A%20%20%20%20%20%20%20%20%20%20%20%20var%20icon_0a10bcfa0b05423596492fa8b89c276b%20%3D%20L.AwesomeMarkers.icon%28%0A%20%20%20%20%20%20%20%20%20%20%20%20%20%20%20%20%7B%22extraClasses%22%3A%20%22fa-rotate-0%22%2C%20%22icon%22%3A%20%22info-sign%22%2C%20%22iconColor%22%3A%20%22white%22%2C%20%22markerColor%22%3A%20%22blue%22%2C%20%22prefix%22%3A%20%22glyphicon%22%7D%0A%20%20%20%20%20%20%20%20%20%20%20%20%29%3B%0A%20%20%20%20%20%20%20%20%20%20%20%20marker_3e5135dba13a4988986fdeea5b1b3893.setIcon%28icon_0a10bcfa0b05423596492fa8b89c276b%29%3B%0A%20%20%20%20%20%20%20%20%0A%20%20%20%20%0A%20%20%20%20%20%20%20%20%20%20%20%20marker_3e5135dba13a4988986fdeea5b1b3893.bindTooltip%28%0A%20%20%20%20%20%20%20%20%20%20%20%20%20%20%20%20%60%3Cdiv%3E%0A%20%20%20%20%20%20%20%20%20%20%20%20%20%20%20%20%20%20%20%20%20UBS%2002%20AGUAS%20CLARAS%0A%20%20%20%20%20%20%20%20%20%20%20%20%20%20%20%20%20%3C/div%3E%60%2C%0A%20%20%20%20%20%20%20%20%20%20%20%20%20%20%20%20%7B%22sticky%22%3A%20true%7D%0A%20%20%20%20%20%20%20%20%20%20%20%20%29%3B%0A%20%20%20%20%20%20%20%20%0A%20%20%20%20%0A%20%20%20%20%20%20%20%20%20%20%20%20var%20marker_a7737c83449e47afa7f88be83cc0c6ec%20%3D%20L.marker%28%0A%20%20%20%20%20%20%20%20%20%20%20%20%20%20%20%20%5B-15.8074113509234%2C%20-48.1055872449688%5D%2C%0A%20%20%20%20%20%20%20%20%20%20%20%20%20%20%20%20%7B%7D%0A%20%20%20%20%20%20%20%20%20%20%20%20%29.addTo%28feature_group_3345e6ede6214681a3e06aed36ec4d59%29%3B%0A%20%20%20%20%20%20%20%20%0A%20%20%20%20%0A%20%20%20%20%20%20%20%20%20%20%20%20var%20icon_71f6c81a151546d79918d4f9d5f7a34e%20%3D%20L.AwesomeMarkers.icon%28%0A%20%20%20%20%20%20%20%20%20%20%20%20%20%20%20%20%7B%22extraClasses%22%3A%20%22fa-rotate-0%22%2C%20%22icon%22%3A%20%22info-sign%22%2C%20%22iconColor%22%3A%20%22white%22%2C%20%22markerColor%22%3A%20%22blue%22%2C%20%22prefix%22%3A%20%22glyphicon%22%7D%0A%20%20%20%20%20%20%20%20%20%20%20%20%29%3B%0A%20%20%20%20%20%20%20%20%20%20%20%20marker_a7737c83449e47afa7f88be83cc0c6ec.setIcon%28icon_71f6c81a151546d79918d4f9d5f7a34e%29%3B%0A%20%20%20%20%20%20%20%20%0A%20%20%20%20%0A%20%20%20%20%20%20%20%20%20%20%20%20marker_a7737c83449e47afa7f88be83cc0c6ec.bindTooltip%28%0A%20%20%20%20%20%20%20%20%20%20%20%20%20%20%20%20%60%3Cdiv%3E%0A%20%20%20%20%20%20%20%20%20%20%20%20%20%20%20%20%20%20%20%20%20UBS%205%20CEILANDIA%0A%20%20%20%20%20%20%20%20%20%20%20%20%20%20%20%20%20%3C/div%3E%60%2C%0A%20%20%20%20%20%20%20%20%20%20%20%20%20%20%20%20%7B%22sticky%22%3A%20true%7D%0A%20%20%20%20%20%20%20%20%20%20%20%20%29%3B%0A%20%20%20%20%20%20%20%20%0A%20%20%20%20%0A%20%20%20%20%20%20%20%20%20%20%20%20var%20marker_e80177c160ed47749212fa22e861bb4b%20%3D%20L.marker%28%0A%20%20%20%20%20%20%20%20%20%20%20%20%20%20%20%20%5B-15.8247220696825%2C%20-48.0950257994912%5D%2C%0A%20%20%20%20%20%20%20%20%20%20%20%20%20%20%20%20%7B%7D%0A%20%20%20%20%20%20%20%20%20%20%20%20%29.addTo%28feature_group_3345e6ede6214681a3e06aed36ec4d59%29%3B%0A%20%20%20%20%20%20%20%20%0A%20%20%20%20%0A%20%20%20%20%20%20%20%20%20%20%20%20var%20icon_9c9d41d3046046728606c358ba2e1b5a%20%3D%20L.AwesomeMarkers.icon%28%0A%20%20%20%20%20%20%20%20%20%20%20%20%20%20%20%20%7B%22extraClasses%22%3A%20%22fa-rotate-0%22%2C%20%22icon%22%3A%20%22info-sign%22%2C%20%22iconColor%22%3A%20%22white%22%2C%20%22markerColor%22%3A%20%22blue%22%2C%20%22prefix%22%3A%20%22glyphicon%22%7D%0A%20%20%20%20%20%20%20%20%20%20%20%20%29%3B%0A%20%20%20%20%20%20%20%20%20%20%20%20marker_e80177c160ed47749212fa22e861bb4b.setIcon%28icon_9c9d41d3046046728606c358ba2e1b5a%29%3B%0A%20%20%20%20%20%20%20%20%0A%20%20%20%20%0A%20%20%20%20%20%20%20%20%20%20%20%20marker_e80177c160ed47749212fa22e861bb4b.bindTooltip%28%0A%20%20%20%20%20%20%20%20%20%20%20%20%20%20%20%20%60%3Cdiv%3E%0A%20%20%20%20%20%20%20%20%20%20%20%20%20%20%20%20%20%20%20%20%20UBS%203%20CEILANDIA%0A%20%20%20%20%20%20%20%20%20%20%20%20%20%20%20%20%20%3C/div%3E%60%2C%0A%20%20%20%20%20%20%20%20%20%20%20%20%20%20%20%20%7B%22sticky%22%3A%20true%7D%0A%20%20%20%20%20%20%20%20%20%20%20%20%29%3B%0A%20%20%20%20%20%20%20%20%0A%20%20%20%20%0A%20%20%20%20%20%20%20%20%20%20%20%20var%20marker_faa7db75fe4443a49cc74bbaa98335c8%20%3D%20L.marker%28%0A%20%20%20%20%20%20%20%20%20%20%20%20%20%20%20%20%5B-15.8247220696825%2C%20-48.0950257994912%5D%2C%0A%20%20%20%20%20%20%20%20%20%20%20%20%20%20%20%20%7B%7D%0A%20%20%20%20%20%20%20%20%20%20%20%20%29.addTo%28feature_group_3345e6ede6214681a3e06aed36ec4d59%29%3B%0A%20%20%20%20%20%20%20%20%0A%20%20%20%20%0A%20%20%20%20%20%20%20%20%20%20%20%20var%20icon_b5e02b39a481462eaa20251300cc4fe1%20%3D%20L.AwesomeMarkers.icon%28%0A%20%20%20%20%20%20%20%20%20%20%20%20%20%20%20%20%7B%22extraClasses%22%3A%20%22fa-rotate-0%22%2C%20%22icon%22%3A%20%22info-sign%22%2C%20%22iconColor%22%3A%20%22white%22%2C%20%22markerColor%22%3A%20%22blue%22%2C%20%22prefix%22%3A%20%22glyphicon%22%7D%0A%20%20%20%20%20%20%20%20%20%20%20%20%29%3B%0A%20%20%20%20%20%20%20%20%20%20%20%20marker_faa7db75fe4443a49cc74bbaa98335c8.setIcon%28icon_b5e02b39a481462eaa20251300cc4fe1%29%3B%0A%20%20%20%20%20%20%20%20%0A%20%20%20%20%0A%20%20%20%20%20%20%20%20%20%20%20%20marker_faa7db75fe4443a49cc74bbaa98335c8.bindTooltip%28%0A%20%20%20%20%20%20%20%20%20%20%20%20%20%20%20%20%60%3Cdiv%3E%0A%20%20%20%20%20%20%20%20%20%20%20%20%20%20%20%20%20%20%20%20%20HOSPITAL%20REGIONAL%20DE%20CEILANDIA%0A%20%20%20%20%20%20%20%20%20%20%20%20%20%20%20%20%20%3C/div%3E%60%2C%0A%20%20%20%20%20%20%20%20%20%20%20%20%20%20%20%20%7B%22sticky%22%3A%20true%7D%0A%20%20%20%20%20%20%20%20%20%20%20%20%29%3B%0A%20%20%20%20%20%20%20%20%0A%20%20%20%20%0A%20%20%20%20%20%20%20%20%20%20%20%20var%20marker_4368967199e04724b0de1ed15a1f00cf%20%3D%20L.marker%28%0A%20%20%20%20%20%20%20%20%20%20%20%20%20%20%20%20%5B-15.831474746754%2C%20-48.1070128172831%5D%2C%0A%20%20%20%20%20%20%20%20%20%20%20%20%20%20%20%20%7B%7D%0A%20%20%20%20%20%20%20%20%20%20%20%20%29.addTo%28feature_group_3345e6ede6214681a3e06aed36ec4d59%29%3B%0A%20%20%20%20%20%20%20%20%0A%20%20%20%20%0A%20%20%20%20%20%20%20%20%20%20%20%20var%20icon_4305f2168b4d4797974e91b613f28508%20%3D%20L.AwesomeMarkers.icon%28%0A%20%20%20%20%20%20%20%20%20%20%20%20%20%20%20%20%7B%22extraClasses%22%3A%20%22fa-rotate-0%22%2C%20%22icon%22%3A%20%22info-sign%22%2C%20%22iconColor%22%3A%20%22white%22%2C%20%22markerColor%22%3A%20%22blue%22%2C%20%22prefix%22%3A%20%22glyphicon%22%7D%0A%20%20%20%20%20%20%20%20%20%20%20%20%29%3B%0A%20%20%20%20%20%20%20%20%20%20%20%20marker_4368967199e04724b0de1ed15a1f00cf.setIcon%28icon_4305f2168b4d4797974e91b613f28508%29%3B%0A%20%20%20%20%20%20%20%20%0A%20%20%20%20%0A%20%20%20%20%20%20%20%20%20%20%20%20marker_4368967199e04724b0de1ed15a1f00cf.bindTooltip%28%0A%20%20%20%20%20%20%20%20%20%20%20%20%20%20%20%20%60%3Cdiv%3E%0A%20%20%20%20%20%20%20%20%20%20%20%20%20%20%20%20%20%20%20%20%20UBS%2010%20CEILANDIA%0A%20%20%20%20%20%20%20%20%20%20%20%20%20%20%20%20%20%3C/div%3E%60%2C%0A%20%20%20%20%20%20%20%20%20%20%20%20%20%20%20%20%7B%22sticky%22%3A%20true%7D%0A%20%20%20%20%20%20%20%20%20%20%20%20%29%3B%0A%20%20%20%20%20%20%20%20%0A%20%20%20%20%0A%20%20%20%20%20%20%20%20%20%20%20%20var%20marker_d728dc7f051b444491c826cfa37d68fd%20%3D%20L.marker%28%0A%20%20%20%20%20%20%20%20%20%20%20%20%20%20%20%20%5B-15.8137169543066%2C%20-48.1146465351707%5D%2C%0A%20%20%20%20%20%20%20%20%20%20%20%20%20%20%20%20%7B%7D%0A%20%20%20%20%20%20%20%20%20%20%20%20%29.addTo%28feature_group_3345e6ede6214681a3e06aed36ec4d59%29%3B%0A%20%20%20%20%20%20%20%20%0A%20%20%20%20%0A%20%20%20%20%20%20%20%20%20%20%20%20var%20icon_982d8aa97ff048dc8e2de50c1ad454c4%20%3D%20L.AwesomeMarkers.icon%28%0A%20%20%20%20%20%20%20%20%20%20%20%20%20%20%20%20%7B%22extraClasses%22%3A%20%22fa-rotate-0%22%2C%20%22icon%22%3A%20%22info-sign%22%2C%20%22iconColor%22%3A%20%22white%22%2C%20%22markerColor%22%3A%20%22blue%22%2C%20%22prefix%22%3A%20%22glyphicon%22%7D%0A%20%20%20%20%20%20%20%20%20%20%20%20%29%3B%0A%20%20%20%20%20%20%20%20%20%20%20%20marker_d728dc7f051b444491c826cfa37d68fd.setIcon%28icon_982d8aa97ff048dc8e2de50c1ad454c4%29%3B%0A%20%20%20%20%20%20%20%20%0A%20%20%20%20%0A%20%20%20%20%20%20%20%20%20%20%20%20marker_d728dc7f051b444491c826cfa37d68fd.bindTooltip%28%0A%20%20%20%20%20%20%20%20%20%20%20%20%20%20%20%20%60%3Cdiv%3E%0A%20%20%20%20%20%20%20%20%20%20%20%20%20%20%20%20%20%20%20%20%20UBS%202%20CEILANDIA%0A%20%20%20%20%20%20%20%20%20%20%20%20%20%20%20%20%20%3C/div%3E%60%2C%0A%20%20%20%20%20%20%20%20%20%20%20%20%20%20%20%20%7B%22sticky%22%3A%20true%7D%0A%20%20%20%20%20%20%20%20%20%20%20%20%29%3B%0A%20%20%20%20%20%20%20%20%0A%20%20%20%20%0A%20%20%20%20%20%20%20%20%20%20%20%20var%20marker_39329fb5c55f4d39b4adb0f581ba24f7%20%3D%20L.marker%28%0A%20%20%20%20%20%20%20%20%20%20%20%20%20%20%20%20%5B-15.8414180713464%2C%20-48.1142929456511%5D%2C%0A%20%20%20%20%20%20%20%20%20%20%20%20%20%20%20%20%7B%7D%0A%20%20%20%20%20%20%20%20%20%20%20%20%29.addTo%28feature_group_3345e6ede6214681a3e06aed36ec4d59%29%3B%0A%20%20%20%20%20%20%20%20%0A%20%20%20%20%0A%20%20%20%20%20%20%20%20%20%20%20%20var%20icon_47674d5c83ca4fa5ba84cb478ee5cdf2%20%3D%20L.AwesomeMarkers.icon%28%0A%20%20%20%20%20%20%20%20%20%20%20%20%20%20%20%20%7B%22extraClasses%22%3A%20%22fa-rotate-0%22%2C%20%22icon%22%3A%20%22info-sign%22%2C%20%22iconColor%22%3A%20%22white%22%2C%20%22markerColor%22%3A%20%22blue%22%2C%20%22prefix%22%3A%20%22glyphicon%22%7D%0A%20%20%20%20%20%20%20%20%20%20%20%20%29%3B%0A%20%20%20%20%20%20%20%20%20%20%20%20marker_39329fb5c55f4d39b4adb0f581ba24f7.setIcon%28icon_47674d5c83ca4fa5ba84cb478ee5cdf2%29%3B%0A%20%20%20%20%20%20%20%20%0A%20%20%20%20%0A%20%20%20%20%20%20%20%20%20%20%20%20marker_39329fb5c55f4d39b4adb0f581ba24f7.bindTooltip%28%0A%20%20%20%20%20%20%20%20%20%20%20%20%20%20%20%20%60%3Cdiv%3E%0A%20%20%20%20%20%20%20%20%20%20%20%20%20%20%20%20%20%20%20%20%20UBS%206%20CEILANDIA%0A%20%20%20%20%20%20%20%20%20%20%20%20%20%20%20%20%20%3C/div%3E%60%2C%0A%20%20%20%20%20%20%20%20%20%20%20%20%20%20%20%20%7B%22sticky%22%3A%20true%7D%0A%20%20%20%20%20%20%20%20%20%20%20%20%29%3B%0A%20%20%20%20%20%20%20%20%0A%20%20%20%20%0A%20%20%20%20%20%20%20%20%20%20%20%20var%20marker_ae9cb628d9cb47789a8b952e9e598a73%20%3D%20L.marker%28%0A%20%20%20%20%20%20%20%20%20%20%20%20%20%20%20%20%5B-15.8414180713464%2C%20-48.1142929456511%5D%2C%0A%20%20%20%20%20%20%20%20%20%20%20%20%20%20%20%20%7B%7D%0A%20%20%20%20%20%20%20%20%20%20%20%20%29.addTo%28feature_group_3345e6ede6214681a3e06aed36ec4d59%29%3B%0A%20%20%20%20%20%20%20%20%0A%20%20%20%20%0A%20%20%20%20%20%20%20%20%20%20%20%20var%20icon_b7c75206490648c2814987b464532d5c%20%3D%20L.AwesomeMarkers.icon%28%0A%20%20%20%20%20%20%20%20%20%20%20%20%20%20%20%20%7B%22extraClasses%22%3A%20%22fa-rotate-0%22%2C%20%22icon%22%3A%20%22info-sign%22%2C%20%22iconColor%22%3A%20%22white%22%2C%20%22markerColor%22%3A%20%22blue%22%2C%20%22prefix%22%3A%20%22glyphicon%22%7D%0A%20%20%20%20%20%20%20%20%20%20%20%20%29%3B%0A%20%20%20%20%20%20%20%20%20%20%20%20marker_ae9cb628d9cb47789a8b952e9e598a73.setIcon%28icon_b7c75206490648c2814987b464532d5c%29%3B%0A%20%20%20%20%20%20%20%20%0A%20%20%20%20%0A%20%20%20%20%20%20%20%20%20%20%20%20marker_ae9cb628d9cb47789a8b952e9e598a73.bindTooltip%28%0A%20%20%20%20%20%20%20%20%20%20%20%20%20%20%20%20%60%3Cdiv%3E%0A%20%20%20%20%20%20%20%20%20%20%20%20%20%20%20%20%20%20%20%20%20UBS%2017%20CEILANDIA%0A%20%20%20%20%20%20%20%20%20%20%20%20%20%20%20%20%20%3C/div%3E%60%2C%0A%20%20%20%20%20%20%20%20%20%20%20%20%20%20%20%20%7B%22sticky%22%3A%20true%7D%0A%20%20%20%20%20%20%20%20%20%20%20%20%29%3B%0A%20%20%20%20%20%20%20%20%0A%20%20%20%20%0A%20%20%20%20%20%20%20%20%20%20%20%20var%20marker_c93e5196cba34296aa77dab06b862d7e%20%3D%20L.marker%28%0A%20%20%20%20%20%20%20%20%20%20%20%20%20%20%20%20%5B-15.8467366072509%2C%20-48.1165436065949%5D%2C%0A%20%20%20%20%20%20%20%20%20%20%20%20%20%20%20%20%7B%7D%0A%20%20%20%20%20%20%20%20%20%20%20%20%29.addTo%28feature_group_3345e6ede6214681a3e06aed36ec4d59%29%3B%0A%20%20%20%20%20%20%20%20%0A%20%20%20%20%0A%20%20%20%20%20%20%20%20%20%20%20%20var%20icon_7d678a463a7e4ea6bdc5699c2fa28906%20%3D%20L.AwesomeMarkers.icon%28%0A%20%20%20%20%20%20%20%20%20%20%20%20%20%20%20%20%7B%22extraClasses%22%3A%20%22fa-rotate-0%22%2C%20%22icon%22%3A%20%22info-sign%22%2C%20%22iconColor%22%3A%20%22white%22%2C%20%22markerColor%22%3A%20%22blue%22%2C%20%22prefix%22%3A%20%22glyphicon%22%7D%0A%20%20%20%20%20%20%20%20%20%20%20%20%29%3B%0A%20%20%20%20%20%20%20%20%20%20%20%20marker_c93e5196cba34296aa77dab06b862d7e.setIcon%28icon_7d678a463a7e4ea6bdc5699c2fa28906%29%3B%0A%20%20%20%20%20%20%20%20%0A%20%20%20%20%0A%20%20%20%20%20%20%20%20%20%20%20%20marker_c93e5196cba34296aa77dab06b862d7e.bindTooltip%28%0A%20%20%20%20%20%20%20%20%20%20%20%20%20%20%20%20%60%3Cdiv%3E%0A%20%20%20%20%20%20%20%20%20%20%20%20%20%20%20%20%20%20%20%20%20UBS%2016%20CEILANDIA%0A%20%20%20%20%20%20%20%20%20%20%20%20%20%20%20%20%20%3C/div%3E%60%2C%0A%20%20%20%20%20%20%20%20%20%20%20%20%20%20%20%20%7B%22sticky%22%3A%20true%7D%0A%20%20%20%20%20%20%20%20%20%20%20%20%29%3B%0A%20%20%20%20%20%20%20%20%0A%20%20%20%20%0A%20%20%20%20%20%20%20%20%20%20%20%20var%20marker_bb82e823524a4aada6731ff54564d458%20%3D%20L.marker%28%0A%20%20%20%20%20%20%20%20%20%20%20%20%20%20%20%20%5B-15.8113112416301%2C%20-48.1307847616556%5D%2C%0A%20%20%20%20%20%20%20%20%20%20%20%20%20%20%20%20%7B%7D%0A%20%20%20%20%20%20%20%20%20%20%20%20%29.addTo%28feature_group_3345e6ede6214681a3e06aed36ec4d59%29%3B%0A%20%20%20%20%20%20%20%20%0A%20%20%20%20%0A%20%20%20%20%20%20%20%20%20%20%20%20var%20icon_aa2cd5f683e24d179a4c2301715e0188%20%3D%20L.AwesomeMarkers.icon%28%0A%20%20%20%20%20%20%20%20%20%20%20%20%20%20%20%20%7B%22extraClasses%22%3A%20%22fa-rotate-0%22%2C%20%22icon%22%3A%20%22info-sign%22%2C%20%22iconColor%22%3A%20%22white%22%2C%20%22markerColor%22%3A%20%22blue%22%2C%20%22prefix%22%3A%20%22glyphicon%22%7D%0A%20%20%20%20%20%20%20%20%20%20%20%20%29%3B%0A%20%20%20%20%20%20%20%20%20%20%20%20marker_bb82e823524a4aada6731ff54564d458.setIcon%28icon_aa2cd5f683e24d179a4c2301715e0188%29%3B%0A%20%20%20%20%20%20%20%20%0A%20%20%20%20%0A%20%20%20%20%20%20%20%20%20%20%20%20marker_bb82e823524a4aada6731ff54564d458.bindTooltip%28%0A%20%20%20%20%20%20%20%20%20%20%20%20%20%20%20%20%60%3Cdiv%3E%0A%20%20%20%20%20%20%20%20%20%20%20%20%20%20%20%20%20%20%20%20%20UBS%208%20CEILANDIA%0A%20%20%20%20%20%20%20%20%20%20%20%20%20%20%20%20%20%3C/div%3E%60%2C%0A%20%20%20%20%20%20%20%20%20%20%20%20%20%20%20%20%7B%22sticky%22%3A%20true%7D%0A%20%20%20%20%20%20%20%20%20%20%20%20%29%3B%0A%20%20%20%20%20%20%20%20%0A%20%20%20%20%0A%20%20%20%20%20%20%20%20%20%20%20%20var%20marker_3a2203e5d0894cfd8abafdf1c9f44f32%20%3D%20L.marker%28%0A%20%20%20%20%20%20%20%20%20%20%20%20%20%20%20%20%5B-15.7979843502953%2C%20-48.1220223926363%5D%2C%0A%20%20%20%20%20%20%20%20%20%20%20%20%20%20%20%20%7B%7D%0A%20%20%20%20%20%20%20%20%20%20%20%20%29.addTo%28feature_group_3345e6ede6214681a3e06aed36ec4d59%29%3B%0A%20%20%20%20%20%20%20%20%0A%20%20%20%20%0A%20%20%20%20%20%20%20%20%20%20%20%20var%20icon_ea98eead918f49d8b31b11ab833a68bd%20%3D%20L.AwesomeMarkers.icon%28%0A%20%20%20%20%20%20%20%20%20%20%20%20%20%20%20%20%7B%22extraClasses%22%3A%20%22fa-rotate-0%22%2C%20%22icon%22%3A%20%22info-sign%22%2C%20%22iconColor%22%3A%20%22white%22%2C%20%22markerColor%22%3A%20%22blue%22%2C%20%22prefix%22%3A%20%22glyphicon%22%7D%0A%20%20%20%20%20%20%20%20%20%20%20%20%29%3B%0A%20%20%20%20%20%20%20%20%20%20%20%20marker_3a2203e5d0894cfd8abafdf1c9f44f32.setIcon%28icon_ea98eead918f49d8b31b11ab833a68bd%29%3B%0A%20%20%20%20%20%20%20%20%0A%20%20%20%20%0A%20%20%20%20%20%20%20%20%20%20%20%20marker_3a2203e5d0894cfd8abafdf1c9f44f32.bindTooltip%28%0A%20%20%20%20%20%20%20%20%20%20%20%20%20%20%20%20%60%3Cdiv%3E%0A%20%20%20%20%20%20%20%20%20%20%20%20%20%20%20%20%20%20%20%20%20UBS%207%20CEILANDIA%0A%20%20%20%20%20%20%20%20%20%20%20%20%20%20%20%20%20%3C/div%3E%60%2C%0A%20%20%20%20%20%20%20%20%20%20%20%20%20%20%20%20%7B%22sticky%22%3A%20true%7D%0A%20%20%20%20%20%20%20%20%20%20%20%20%29%3B%0A%20%20%20%20%20%20%20%20%0A%20%20%20%20%0A%20%20%20%20%20%20%20%20%20%20%20%20var%20marker_24c966accdfb4e24ba2b0c30d2b4a4db%20%3D%20L.marker%28%0A%20%20%20%20%20%20%20%20%20%20%20%20%20%20%20%20%5B-15.8076105488157%2C%20-48.1365653102838%5D%2C%0A%20%20%20%20%20%20%20%20%20%20%20%20%20%20%20%20%7B%7D%0A%20%20%20%20%20%20%20%20%20%20%20%20%29.addTo%28feature_group_3345e6ede6214681a3e06aed36ec4d59%29%3B%0A%20%20%20%20%20%20%20%20%0A%20%20%20%20%0A%20%20%20%20%20%20%20%20%20%20%20%20var%20icon_65fc7dc85e3b45dd8f211c2d14d1f335%20%3D%20L.AwesomeMarkers.icon%28%0A%20%20%20%20%20%20%20%20%20%20%20%20%20%20%20%20%7B%22extraClasses%22%3A%20%22fa-rotate-0%22%2C%20%22icon%22%3A%20%22info-sign%22%2C%20%22iconColor%22%3A%20%22white%22%2C%20%22markerColor%22%3A%20%22blue%22%2C%20%22prefix%22%3A%20%22glyphicon%22%7D%0A%20%20%20%20%20%20%20%20%20%20%20%20%29%3B%0A%20%20%20%20%20%20%20%20%20%20%20%20marker_24c966accdfb4e24ba2b0c30d2b4a4db.setIcon%28icon_65fc7dc85e3b45dd8f211c2d14d1f335%29%3B%0A%20%20%20%20%20%20%20%20%0A%20%20%20%20%0A%20%20%20%20%20%20%20%20%20%20%20%20marker_24c966accdfb4e24ba2b0c30d2b4a4db.bindTooltip%28%0A%20%20%20%20%20%20%20%20%20%20%20%20%20%20%20%20%60%3Cdiv%3E%0A%20%20%20%20%20%20%20%20%20%20%20%20%20%20%20%20%20%20%20%20%20UBS%2012%20CEILANDIA%0A%20%20%20%20%20%20%20%20%20%20%20%20%20%20%20%20%20%3C/div%3E%60%2C%0A%20%20%20%20%20%20%20%20%20%20%20%20%20%20%20%20%7B%22sticky%22%3A%20true%7D%0A%20%20%20%20%20%20%20%20%20%20%20%20%29%3B%0A%20%20%20%20%20%20%20%20%0A%20%20%20%20%0A%20%20%20%20%20%20%20%20%20%20%20%20var%20marker_19107d5c078240eb8542f198484020b9%20%3D%20L.marker%28%0A%20%20%20%20%20%20%20%20%20%20%20%20%20%20%20%20%5B-15.8879881132217%2C%20-47.8953353336879%5D%2C%0A%20%20%20%20%20%20%20%20%20%20%20%20%20%20%20%20%7B%7D%0A%20%20%20%20%20%20%20%20%20%20%20%20%29.addTo%28feature_group_3345e6ede6214681a3e06aed36ec4d59%29%3B%0A%20%20%20%20%20%20%20%20%0A%20%20%20%20%0A%20%20%20%20%20%20%20%20%20%20%20%20var%20icon_cd39dcecf9f94779a11dd5fa2096dde1%20%3D%20L.AwesomeMarkers.icon%28%0A%20%20%20%20%20%20%20%20%20%20%20%20%20%20%20%20%7B%22extraClasses%22%3A%20%22fa-rotate-0%22%2C%20%22icon%22%3A%20%22info-sign%22%2C%20%22iconColor%22%3A%20%22white%22%2C%20%22markerColor%22%3A%20%22blue%22%2C%20%22prefix%22%3A%20%22glyphicon%22%7D%0A%20%20%20%20%20%20%20%20%20%20%20%20%29%3B%0A%20%20%20%20%20%20%20%20%20%20%20%20marker_19107d5c078240eb8542f198484020b9.setIcon%28icon_cd39dcecf9f94779a11dd5fa2096dde1%29%3B%0A%20%20%20%20%20%20%20%20%0A%20%20%20%20%0A%20%20%20%20%20%20%20%20%20%20%20%20marker_19107d5c078240eb8542f198484020b9.bindTooltip%28%0A%20%20%20%20%20%20%20%20%20%20%20%20%20%20%20%20%60%3Cdiv%3E%0A%20%20%20%20%20%20%20%20%20%20%20%20%20%20%20%20%20%20%20%20%20UBS%2007%20SAMAMBAIA%0A%20%20%20%20%20%20%20%20%20%20%20%20%20%20%20%20%20%3C/div%3E%60%2C%0A%20%20%20%20%20%20%20%20%20%20%20%20%20%20%20%20%7B%22sticky%22%3A%20true%7D%0A%20%20%20%20%20%20%20%20%20%20%20%20%29%3B%0A%20%20%20%20%20%20%20%20%0A%20%20%20%20%0A%20%20%20%20%20%20%20%20%20%20%20%20var%20marker_8285fa03dcb644579d4a072af6523d47%20%3D%20L.marker%28%0A%20%20%20%20%20%20%20%20%20%20%20%20%20%20%20%20%5B-15.8712230607784%2C%20-48.0658064687718%5D%2C%0A%20%20%20%20%20%20%20%20%20%20%20%20%20%20%20%20%7B%7D%0A%20%20%20%20%20%20%20%20%20%20%20%20%29.addTo%28feature_group_3345e6ede6214681a3e06aed36ec4d59%29%3B%0A%20%20%20%20%20%20%20%20%0A%20%20%20%20%0A%20%20%20%20%20%20%20%20%20%20%20%20var%20icon_969b6cb801a14c5f8fe76b4902784a2c%20%3D%20L.AwesomeMarkers.icon%28%0A%20%20%20%20%20%20%20%20%20%20%20%20%20%20%20%20%7B%22extraClasses%22%3A%20%22fa-rotate-0%22%2C%20%22icon%22%3A%20%22info-sign%22%2C%20%22iconColor%22%3A%20%22white%22%2C%20%22markerColor%22%3A%20%22blue%22%2C%20%22prefix%22%3A%20%22glyphicon%22%7D%0A%20%20%20%20%20%20%20%20%20%20%20%20%29%3B%0A%20%20%20%20%20%20%20%20%20%20%20%20marker_8285fa03dcb644579d4a072af6523d47.setIcon%28icon_969b6cb801a14c5f8fe76b4902784a2c%29%3B%0A%20%20%20%20%20%20%20%20%0A%20%20%20%20%0A%20%20%20%20%20%20%20%20%20%20%20%20marker_8285fa03dcb644579d4a072af6523d47.bindTooltip%28%0A%20%20%20%20%20%20%20%20%20%20%20%20%20%20%20%20%60%3Cdiv%3E%0A%20%20%20%20%20%20%20%20%20%20%20%20%20%20%20%20%20%20%20%20%20UBS%2012%20SAMAMBAIA%0A%20%20%20%20%20%20%20%20%20%20%20%20%20%20%20%20%20%3C/div%3E%60%2C%0A%20%20%20%20%20%20%20%20%20%20%20%20%20%20%20%20%7B%22sticky%22%3A%20true%7D%0A%20%20%20%20%20%20%20%20%20%20%20%20%29%3B%0A%20%20%20%20%20%20%20%20%0A%20%20%20%20%0A%20%20%20%20%20%20%20%20%20%20%20%20var%20marker_c6ea965ee6b5400cb3e58f50ae71e4e6%20%3D%20L.marker%28%0A%20%20%20%20%20%20%20%20%20%20%20%20%20%20%20%20%5B-16.0233671138813%2C%20-48.1355267314168%5D%2C%0A%20%20%20%20%20%20%20%20%20%20%20%20%20%20%20%20%7B%7D%0A%20%20%20%20%20%20%20%20%20%20%20%20%29.addTo%28feature_group_3345e6ede6214681a3e06aed36ec4d59%29%3B%0A%20%20%20%20%20%20%20%20%0A%20%20%20%20%0A%20%20%20%20%20%20%20%20%20%20%20%20var%20icon_e893f1215c0241639770e6af8e7cb4df%20%3D%20L.AwesomeMarkers.icon%28%0A%20%20%20%20%20%20%20%20%20%20%20%20%20%20%20%20%7B%22extraClasses%22%3A%20%22fa-rotate-0%22%2C%20%22icon%22%3A%20%22info-sign%22%2C%20%22iconColor%22%3A%20%22white%22%2C%20%22markerColor%22%3A%20%22blue%22%2C%20%22prefix%22%3A%20%22glyphicon%22%7D%0A%20%20%20%20%20%20%20%20%20%20%20%20%29%3B%0A%20%20%20%20%20%20%20%20%20%20%20%20marker_c6ea965ee6b5400cb3e58f50ae71e4e6.setIcon%28icon_e893f1215c0241639770e6af8e7cb4df%29%3B%0A%20%20%20%20%20%20%20%20%0A%20%20%20%20%0A%20%20%20%20%20%20%20%20%20%20%20%20marker_c6ea965ee6b5400cb3e58f50ae71e4e6.bindTooltip%28%0A%20%20%20%20%20%20%20%20%20%20%20%20%20%20%20%20%60%3Cdiv%3E%0A%20%20%20%20%20%20%20%20%20%20%20%20%20%20%20%20%20%20%20%20%20UBS%2005%20SAMAMBAIA%0A%20%20%20%20%20%20%20%20%20%20%20%20%20%20%20%20%20%3C/div%3E%60%2C%0A%20%20%20%20%20%20%20%20%20%20%20%20%20%20%20%20%7B%22sticky%22%3A%20true%7D%0A%20%20%20%20%20%20%20%20%20%20%20%20%29%3B%0A%20%20%20%20%20%20%20%20%0A%20%20%20%20%0A%20%20%20%20%20%20%20%20%20%20%20%20var%20marker_a9fa4601701b4f50b74ca6eca89ce95e%20%3D%20L.marker%28%0A%20%20%20%20%20%20%20%20%20%20%20%20%20%20%20%20%5B-15.8566773145095%2C%20-48.0813673475514%5D%2C%0A%20%20%20%20%20%20%20%20%20%20%20%20%20%20%20%20%7B%7D%0A%20%20%20%20%20%20%20%20%20%20%20%20%29.addTo%28feature_group_3345e6ede6214681a3e06aed36ec4d59%29%3B%0A%20%20%20%20%20%20%20%20%0A%20%20%20%20%0A%20%20%20%20%20%20%20%20%20%20%20%20var%20icon_0f7d8de7ba0549e5aff4d1d50f2aab98%20%3D%20L.AwesomeMarkers.icon%28%0A%20%20%20%20%20%20%20%20%20%20%20%20%20%20%20%20%7B%22extraClasses%22%3A%20%22fa-rotate-0%22%2C%20%22icon%22%3A%20%22info-sign%22%2C%20%22iconColor%22%3A%20%22white%22%2C%20%22markerColor%22%3A%20%22blue%22%2C%20%22prefix%22%3A%20%22glyphicon%22%7D%0A%20%20%20%20%20%20%20%20%20%20%20%20%29%3B%0A%20%20%20%20%20%20%20%20%20%20%20%20marker_a9fa4601701b4f50b74ca6eca89ce95e.setIcon%28icon_0f7d8de7ba0549e5aff4d1d50f2aab98%29%3B%0A%20%20%20%20%20%20%20%20%0A%20%20%20%20%0A%20%20%20%20%20%20%20%20%20%20%20%20marker_a9fa4601701b4f50b74ca6eca89ce95e.bindTooltip%28%0A%20%20%20%20%20%20%20%20%20%20%20%20%20%20%20%20%60%3Cdiv%3E%0A%20%20%20%20%20%20%20%20%20%20%20%20%20%20%20%20%20%20%20%20%20HRSAM%20HOSPITAL%20REGIONAL%20DE%20SAMAMBAIA%0A%20%20%20%20%20%20%20%20%20%20%20%20%20%20%20%20%20%3C/div%3E%60%2C%0A%20%20%20%20%20%20%20%20%20%20%20%20%20%20%20%20%7B%22sticky%22%3A%20true%7D%0A%20%20%20%20%20%20%20%20%20%20%20%20%29%3B%0A%20%20%20%20%20%20%20%20%0A%20%20%20%20%0A%20%20%20%20%20%20%20%20%20%20%20%20var%20marker_504014514d8a44baa7c6f0ba173f7268%20%3D%20L.marker%28%0A%20%20%20%20%20%20%20%20%20%20%20%20%20%20%20%20%5B-15.8694421987739%2C%20-48.1026852285262%5D%2C%0A%20%20%20%20%20%20%20%20%20%20%20%20%20%20%20%20%7B%7D%0A%20%20%20%20%20%20%20%20%20%20%20%20%29.addTo%28feature_group_3345e6ede6214681a3e06aed36ec4d59%29%3B%0A%20%20%20%20%20%20%20%20%0A%20%20%20%20%0A%20%20%20%20%20%20%20%20%20%20%20%20var%20icon_1cdbf63d8a1d4ec6a4e8e6274e24c0b9%20%3D%20L.AwesomeMarkers.icon%28%0A%20%20%20%20%20%20%20%20%20%20%20%20%20%20%20%20%7B%22extraClasses%22%3A%20%22fa-rotate-0%22%2C%20%22icon%22%3A%20%22info-sign%22%2C%20%22iconColor%22%3A%20%22white%22%2C%20%22markerColor%22%3A%20%22blue%22%2C%20%22prefix%22%3A%20%22glyphicon%22%7D%0A%20%20%20%20%20%20%20%20%20%20%20%20%29%3B%0A%20%20%20%20%20%20%20%20%20%20%20%20marker_504014514d8a44baa7c6f0ba173f7268.setIcon%28icon_1cdbf63d8a1d4ec6a4e8e6274e24c0b9%29%3B%0A%20%20%20%20%20%20%20%20%0A%20%20%20%20%0A%20%20%20%20%20%20%20%20%20%20%20%20marker_504014514d8a44baa7c6f0ba173f7268.bindTooltip%28%0A%20%20%20%20%20%20%20%20%20%20%20%20%20%20%20%20%60%3Cdiv%3E%0A%20%20%20%20%20%20%20%20%20%20%20%20%20%20%20%20%20%20%20%20%20UBS%2002%20SAMAMBAIA%0A%20%20%20%20%20%20%20%20%20%20%20%20%20%20%20%20%20%3C/div%3E%60%2C%0A%20%20%20%20%20%20%20%20%20%20%20%20%20%20%20%20%7B%22sticky%22%3A%20true%7D%0A%20%20%20%20%20%20%20%20%20%20%20%20%29%3B%0A%20%20%20%20%20%20%20%20%0A%20%20%20%20%0A%20%20%20%20%20%20%20%20%20%20%20%20var%20marker_30bb2d5ea37849afb152168bae7486f6%20%3D%20L.marker%28%0A%20%20%20%20%20%20%20%20%20%20%20%20%20%20%20%20%5B-15.8538878264251%2C%20-47.9684670201054%5D%2C%0A%20%20%20%20%20%20%20%20%20%20%20%20%20%20%20%20%7B%7D%0A%20%20%20%20%20%20%20%20%20%20%20%20%29.addTo%28feature_group_3345e6ede6214681a3e06aed36ec4d59%29%3B%0A%20%20%20%20%20%20%20%20%0A%20%20%20%20%0A%20%20%20%20%20%20%20%20%20%20%20%20var%20icon_cead2e23bdfd4a6d9084145e562c11cc%20%3D%20L.AwesomeMarkers.icon%28%0A%20%20%20%20%20%20%20%20%20%20%20%20%20%20%20%20%7B%22extraClasses%22%3A%20%22fa-rotate-0%22%2C%20%22icon%22%3A%20%22info-sign%22%2C%20%22iconColor%22%3A%20%22white%22%2C%20%22markerColor%22%3A%20%22blue%22%2C%20%22prefix%22%3A%20%22glyphicon%22%7D%0A%20%20%20%20%20%20%20%20%20%20%20%20%29%3B%0A%20%20%20%20%20%20%20%20%20%20%20%20marker_30bb2d5ea37849afb152168bae7486f6.setIcon%28icon_cead2e23bdfd4a6d9084145e562c11cc%29%3B%0A%20%20%20%20%20%20%20%20%0A%20%20%20%20%0A%20%20%20%20%20%20%20%20%20%20%20%20marker_30bb2d5ea37849afb152168bae7486f6.bindTooltip%28%0A%20%20%20%20%20%20%20%20%20%20%20%20%20%20%20%20%60%3Cdiv%3E%0A%20%20%20%20%20%20%20%20%20%20%20%20%20%20%20%20%20%20%20%20%20HRG%0A%20%20%20%20%20%20%20%20%20%20%20%20%20%20%20%20%20%3C/div%3E%60%2C%0A%20%20%20%20%20%20%20%20%20%20%20%20%20%20%20%20%7B%22sticky%22%3A%20true%7D%0A%20%20%20%20%20%20%20%20%20%20%20%20%29%3B%0A%20%20%20%20%20%20%20%20%0A%20%20%20%20%0A%20%20%20%20%20%20%20%20%20%20%20%20var%20marker_1bc7d3cd489f47e78e6a1105fc2b148f%20%3D%20L.marker%28%0A%20%20%20%20%20%20%20%20%20%20%20%20%20%20%20%20%5B-15.8538878264251%2C%20-47.9684670201054%5D%2C%0A%20%20%20%20%20%20%20%20%20%20%20%20%20%20%20%20%7B%7D%0A%20%20%20%20%20%20%20%20%20%20%20%20%29.addTo%28feature_group_3345e6ede6214681a3e06aed36ec4d59%29%3B%0A%20%20%20%20%20%20%20%20%0A%20%20%20%20%0A%20%20%20%20%20%20%20%20%20%20%20%20var%20icon_b7f3bad9a8d5478daf738c5b6f72e067%20%3D%20L.AwesomeMarkers.icon%28%0A%20%20%20%20%20%20%20%20%20%20%20%20%20%20%20%20%7B%22extraClasses%22%3A%20%22fa-rotate-0%22%2C%20%22icon%22%3A%20%22info-sign%22%2C%20%22iconColor%22%3A%20%22white%22%2C%20%22markerColor%22%3A%20%22blue%22%2C%20%22prefix%22%3A%20%22glyphicon%22%7D%0A%20%20%20%20%20%20%20%20%20%20%20%20%29%3B%0A%20%20%20%20%20%20%20%20%20%20%20%20marker_1bc7d3cd489f47e78e6a1105fc2b148f.setIcon%28icon_b7f3bad9a8d5478daf738c5b6f72e067%29%3B%0A%20%20%20%20%20%20%20%20%0A%20%20%20%20%0A%20%20%20%20%20%20%20%20%20%20%20%20marker_1bc7d3cd489f47e78e6a1105fc2b148f.bindTooltip%28%0A%20%20%20%20%20%20%20%20%20%20%20%20%20%20%20%20%60%3Cdiv%3E%0A%20%20%20%20%20%20%20%20%20%20%20%20%20%20%20%20%20%20%20%20%20UBS%205%20GAMA%0A%20%20%20%20%20%20%20%20%20%20%20%20%20%20%20%20%20%3C/div%3E%60%2C%0A%20%20%20%20%20%20%20%20%20%20%20%20%20%20%20%20%7B%22sticky%22%3A%20true%7D%0A%20%20%20%20%20%20%20%20%20%20%20%20%29%3B%0A%20%20%20%20%20%20%20%20%0A%20%20%20%20%0A%20%20%20%20%20%20%20%20%20%20%20%20var%20marker_dc0c2647d6e0431e88c7da5372837af5%20%3D%20L.marker%28%0A%20%20%20%20%20%20%20%20%20%20%20%20%20%20%20%20%5B-15.8072702544076%2C%20-47.9123578009667%5D%2C%0A%20%20%20%20%20%20%20%20%20%20%20%20%20%20%20%20%7B%7D%0A%20%20%20%20%20%20%20%20%20%20%20%20%29.addTo%28feature_group_3345e6ede6214681a3e06aed36ec4d59%29%3B%0A%20%20%20%20%20%20%20%20%0A%20%20%20%20%0A%20%20%20%20%20%20%20%20%20%20%20%20var%20icon_0efa05fa8c914576a82424be885f9b80%20%3D%20L.AwesomeMarkers.icon%28%0A%20%20%20%20%20%20%20%20%20%20%20%20%20%20%20%20%7B%22extraClasses%22%3A%20%22fa-rotate-0%22%2C%20%22icon%22%3A%20%22info-sign%22%2C%20%22iconColor%22%3A%20%22white%22%2C%20%22markerColor%22%3A%20%22blue%22%2C%20%22prefix%22%3A%20%22glyphicon%22%7D%0A%20%20%20%20%20%20%20%20%20%20%20%20%29%3B%0A%20%20%20%20%20%20%20%20%20%20%20%20marker_dc0c2647d6e0431e88c7da5372837af5.setIcon%28icon_0efa05fa8c914576a82424be885f9b80%29%3B%0A%20%20%20%20%20%20%20%20%0A%20%20%20%20%0A%20%20%20%20%20%20%20%20%20%20%20%20marker_dc0c2647d6e0431e88c7da5372837af5.bindTooltip%28%0A%20%20%20%20%20%20%20%20%20%20%20%20%20%20%20%20%60%3Cdiv%3E%0A%20%20%20%20%20%20%20%20%20%20%20%20%20%20%20%20%20%20%20%20%20UBS%202%20GAMA%0A%20%20%20%20%20%20%20%20%20%20%20%20%20%20%20%20%20%3C/div%3E%60%2C%0A%20%20%20%20%20%20%20%20%20%20%20%20%20%20%20%20%7B%22sticky%22%3A%20true%7D%0A%20%20%20%20%20%20%20%20%20%20%20%20%29%3B%0A%20%20%20%20%20%20%20%20%0A%20%20%20%20%0A%20%20%20%20%20%20%20%20%20%20%20%20var%20marker_6802feeae5b240fb9560fb26cff277f9%20%3D%20L.marker%28%0A%20%20%20%20%20%20%20%20%20%20%20%20%20%20%20%20%5B-15.7694339587771%2C%20-47.938237946609%5D%2C%0A%20%20%20%20%20%20%20%20%20%20%20%20%20%20%20%20%7B%7D%0A%20%20%20%20%20%20%20%20%20%20%20%20%29.addTo%28feature_group_3345e6ede6214681a3e06aed36ec4d59%29%3B%0A%20%20%20%20%20%20%20%20%0A%20%20%20%20%0A%20%20%20%20%20%20%20%20%20%20%20%20var%20icon_a2e5bca7d6434da9a7783ccce48eb445%20%3D%20L.AwesomeMarkers.icon%28%0A%20%20%20%20%20%20%20%20%20%20%20%20%20%20%20%20%7B%22extraClasses%22%3A%20%22fa-rotate-0%22%2C%20%22icon%22%3A%20%22info-sign%22%2C%20%22iconColor%22%3A%20%22white%22%2C%20%22markerColor%22%3A%20%22blue%22%2C%20%22prefix%22%3A%20%22glyphicon%22%7D%0A%20%20%20%20%20%20%20%20%20%20%20%20%29%3B%0A%20%20%20%20%20%20%20%20%20%20%20%20marker_6802feeae5b240fb9560fb26cff277f9.setIcon%28icon_a2e5bca7d6434da9a7783ccce48eb445%29%3B%0A%20%20%20%20%20%20%20%20%0A%20%20%20%20%0A%20%20%20%20%20%20%20%20%20%20%20%20marker_6802feeae5b240fb9560fb26cff277f9.bindTooltip%28%0A%20%20%20%20%20%20%20%20%20%20%20%20%20%20%20%20%60%3Cdiv%3E%0A%20%20%20%20%20%20%20%20%20%20%20%20%20%20%20%20%20%20%20%20%20UBS%201%20GAMA%0A%20%20%20%20%20%20%20%20%20%20%20%20%20%20%20%20%20%3C/div%3E%60%2C%0A%20%20%20%20%20%20%20%20%20%20%20%20%20%20%20%20%7B%22sticky%22%3A%20true%7D%0A%20%20%20%20%20%20%20%20%20%20%20%20%29%3B%0A%20%20%20%20%20%20%20%20%0A%20%20%20%20%0A%20%20%20%20%20%20%20%20%20%20%20%20var%20marker_4c12f31f097c464097324f23e6907b7e%20%3D%20L.marker%28%0A%20%20%20%20%20%20%20%20%20%20%20%20%20%20%20%20%5B-15.8986806436019%2C%20-47.9859056761771%5D%2C%0A%20%20%20%20%20%20%20%20%20%20%20%20%20%20%20%20%7B%7D%0A%20%20%20%20%20%20%20%20%20%20%20%20%29.addTo%28feature_group_3345e6ede6214681a3e06aed36ec4d59%29%3B%0A%20%20%20%20%20%20%20%20%0A%20%20%20%20%0A%20%20%20%20%20%20%20%20%20%20%20%20var%20icon_43f4d984be1348c0b626f2dfe37bd2d8%20%3D%20L.AwesomeMarkers.icon%28%0A%20%20%20%20%20%20%20%20%20%20%20%20%20%20%20%20%7B%22extraClasses%22%3A%20%22fa-rotate-0%22%2C%20%22icon%22%3A%20%22info-sign%22%2C%20%22iconColor%22%3A%20%22white%22%2C%20%22markerColor%22%3A%20%22blue%22%2C%20%22prefix%22%3A%20%22glyphicon%22%7D%0A%20%20%20%20%20%20%20%20%20%20%20%20%29%3B%0A%20%20%20%20%20%20%20%20%20%20%20%20marker_4c12f31f097c464097324f23e6907b7e.setIcon%28icon_43f4d984be1348c0b626f2dfe37bd2d8%29%3B%0A%20%20%20%20%20%20%20%20%0A%20%20%20%20%0A%20%20%20%20%20%20%20%20%20%20%20%20marker_4c12f31f097c464097324f23e6907b7e.bindTooltip%28%0A%20%20%20%20%20%20%20%20%20%20%20%20%20%20%20%20%60%3Cdiv%3E%0A%20%20%20%20%20%20%20%20%20%20%20%20%20%20%20%20%20%20%20%20%20UBS%2015%20PFDF%20GAMA%0A%20%20%20%20%20%20%20%20%20%20%20%20%20%20%20%20%20%3C/div%3E%60%2C%0A%20%20%20%20%20%20%20%20%20%20%20%20%20%20%20%20%7B%22sticky%22%3A%20true%7D%0A%20%20%20%20%20%20%20%20%20%20%20%20%29%3B%0A%20%20%20%20%20%20%20%20%0A%20%20%20%20%0A%20%20%20%20%20%20%20%20%20%20%20%20var%20marker_f928964e20374117be5ae429b739a818%20%3D%20L.marker%28%0A%20%20%20%20%20%20%20%20%20%20%20%20%20%20%20%20%5B-15.8848721727412%2C%20-47.9956556279609%5D%2C%0A%20%20%20%20%20%20%20%20%20%20%20%20%20%20%20%20%7B%7D%0A%20%20%20%20%20%20%20%20%20%20%20%20%29.addTo%28feature_group_3345e6ede6214681a3e06aed36ec4d59%29%3B%0A%20%20%20%20%20%20%20%20%0A%20%20%20%20%0A%20%20%20%20%20%20%20%20%20%20%20%20var%20icon_190e8d89859f4fdd945750e43548383d%20%3D%20L.AwesomeMarkers.icon%28%0A%20%20%20%20%20%20%20%20%20%20%20%20%20%20%20%20%7B%22extraClasses%22%3A%20%22fa-rotate-0%22%2C%20%22icon%22%3A%20%22info-sign%22%2C%20%22iconColor%22%3A%20%22white%22%2C%20%22markerColor%22%3A%20%22blue%22%2C%20%22prefix%22%3A%20%22glyphicon%22%7D%0A%20%20%20%20%20%20%20%20%20%20%20%20%29%3B%0A%20%20%20%20%20%20%20%20%20%20%20%20marker_f928964e20374117be5ae429b739a818.setIcon%28icon_190e8d89859f4fdd945750e43548383d%29%3B%0A%20%20%20%20%20%20%20%20%0A%20%20%20%20%0A%20%20%20%20%20%20%20%20%20%20%20%20marker_f928964e20374117be5ae429b739a818.bindTooltip%28%0A%20%20%20%20%20%20%20%20%20%20%20%20%20%20%20%20%60%3Cdiv%3E%0A%20%20%20%20%20%20%20%20%20%20%20%20%20%20%20%20%20%20%20%20%20UBS%209%20ENGENHO%20DAS%20LAGES%20GAMA%0A%20%20%20%20%20%20%20%20%20%20%20%20%20%20%20%20%20%3C/div%3E%60%2C%0A%20%20%20%20%20%20%20%20%20%20%20%20%20%20%20%20%7B%22sticky%22%3A%20true%7D%0A%20%20%20%20%20%20%20%20%20%20%20%20%29%3B%0A%20%20%20%20%20%20%20%20%0A%20%20%20%20%0A%20%20%20%20%20%20%20%20%20%20%20%20var%20marker_4df6d82ce13f450a98003bee2cad2ba0%20%3D%20L.marker%28%0A%20%20%20%20%20%20%20%20%20%20%20%20%20%20%20%20%5B-15.90589777199%2C%20-48.0143166103879%5D%2C%0A%20%20%20%20%20%20%20%20%20%20%20%20%20%20%20%20%7B%7D%0A%20%20%20%20%20%20%20%20%20%20%20%20%29.addTo%28feature_group_3345e6ede6214681a3e06aed36ec4d59%29%3B%0A%20%20%20%20%20%20%20%20%0A%20%20%20%20%0A%20%20%20%20%20%20%20%20%20%20%20%20var%20icon_d2df3e9e7e024dada9c18ff70924b2da%20%3D%20L.AwesomeMarkers.icon%28%0A%20%20%20%20%20%20%20%20%20%20%20%20%20%20%20%20%7B%22extraClasses%22%3A%20%22fa-rotate-0%22%2C%20%22icon%22%3A%20%22info-sign%22%2C%20%22iconColor%22%3A%20%22white%22%2C%20%22markerColor%22%3A%20%22blue%22%2C%20%22prefix%22%3A%20%22glyphicon%22%7D%0A%20%20%20%20%20%20%20%20%20%20%20%20%29%3B%0A%20%20%20%20%20%20%20%20%20%20%20%20marker_4df6d82ce13f450a98003bee2cad2ba0.setIcon%28icon_d2df3e9e7e024dada9c18ff70924b2da%29%3B%0A%20%20%20%20%20%20%20%20%0A%20%20%20%20%0A%20%20%20%20%20%20%20%20%20%20%20%20marker_4df6d82ce13f450a98003bee2cad2ba0.bindTooltip%28%0A%20%20%20%20%20%20%20%20%20%20%20%20%20%20%20%20%60%3Cdiv%3E%0A%20%20%20%20%20%20%20%20%20%20%20%20%20%20%20%20%20%20%20%20%20UBS%2016%20ATP%20GAMA%0A%20%20%20%20%20%20%20%20%20%20%20%20%20%20%20%20%20%3C/div%3E%60%2C%0A%20%20%20%20%20%20%20%20%20%20%20%20%20%20%20%20%7B%22sticky%22%3A%20true%7D%0A%20%20%20%20%20%20%20%20%20%20%20%20%29%3B%0A%20%20%20%20%20%20%20%20%0A%20%20%20%20%0A%20%20%20%20%20%20%20%20%20%20%20%20var%20marker_9024ab6a39e242589a05a6f145a73d1b%20%3D%20L.marker%28%0A%20%20%20%20%20%20%20%20%20%20%20%20%20%20%20%20%5B-15.8655628497784%2C%20-47.9700913649339%5D%2C%0A%20%20%20%20%20%20%20%20%20%20%20%20%20%20%20%20%7B%7D%0A%20%20%20%20%20%20%20%20%20%20%20%20%29.addTo%28feature_group_3345e6ede6214681a3e06aed36ec4d59%29%3B%0A%20%20%20%20%20%20%20%20%0A%20%20%20%20%0A%20%20%20%20%20%20%20%20%20%20%20%20var%20icon_dd36fb14d49b4d9c919ae1f41e958aa3%20%3D%20L.AwesomeMarkers.icon%28%0A%20%20%20%20%20%20%20%20%20%20%20%20%20%20%20%20%7B%22extraClasses%22%3A%20%22fa-rotate-0%22%2C%20%22icon%22%3A%20%22info-sign%22%2C%20%22iconColor%22%3A%20%22white%22%2C%20%22markerColor%22%3A%20%22blue%22%2C%20%22prefix%22%3A%20%22glyphicon%22%7D%0A%20%20%20%20%20%20%20%20%20%20%20%20%29%3B%0A%20%20%20%20%20%20%20%20%20%20%20%20marker_9024ab6a39e242589a05a6f145a73d1b.setIcon%28icon_dd36fb14d49b4d9c919ae1f41e958aa3%29%3B%0A%20%20%20%20%20%20%20%20%0A%20%20%20%20%0A%20%20%20%20%20%20%20%20%20%20%20%20marker_9024ab6a39e242589a05a6f145a73d1b.bindTooltip%28%0A%20%20%20%20%20%20%20%20%20%20%20%20%20%20%20%20%60%3Cdiv%3E%0A%20%20%20%20%20%20%20%20%20%20%20%20%20%20%20%20%20%20%20%20%20UBS%2010%20SANTA%20MARIA%0A%20%20%20%20%20%20%20%20%20%20%20%20%20%20%20%20%20%3C/div%3E%60%2C%0A%20%20%20%20%20%20%20%20%20%20%20%20%20%20%20%20%7B%22sticky%22%3A%20true%7D%0A%20%20%20%20%20%20%20%20%20%20%20%20%29%3B%0A%20%20%20%20%20%20%20%20%0A%20%20%20%20%0A%20%20%20%20%20%20%20%20%20%20%20%20var%20marker_378ae9038c09440b9c8a1837bc2c301b%20%3D%20L.marker%28%0A%20%20%20%20%20%20%20%20%20%20%20%20%20%20%20%20%5B-15.9494741439819%2C%20-48.0757987976074%5D%2C%0A%20%20%20%20%20%20%20%20%20%20%20%20%20%20%20%20%7B%7D%0A%20%20%20%20%20%20%20%20%20%20%20%20%29.addTo%28feature_group_3345e6ede6214681a3e06aed36ec4d59%29%3B%0A%20%20%20%20%20%20%20%20%0A%20%20%20%20%0A%20%20%20%20%20%20%20%20%20%20%20%20var%20icon_ffd06e370595472fa25fcc3aed41f126%20%3D%20L.AwesomeMarkers.icon%28%0A%20%20%20%20%20%20%20%20%20%20%20%20%20%20%20%20%7B%22extraClasses%22%3A%20%22fa-rotate-0%22%2C%20%22icon%22%3A%20%22info-sign%22%2C%20%22iconColor%22%3A%20%22white%22%2C%20%22markerColor%22%3A%20%22blue%22%2C%20%22prefix%22%3A%20%22glyphicon%22%7D%0A%20%20%20%20%20%20%20%20%20%20%20%20%29%3B%0A%20%20%20%20%20%20%20%20%20%20%20%20marker_378ae9038c09440b9c8a1837bc2c301b.setIcon%28icon_ffd06e370595472fa25fcc3aed41f126%29%3B%0A%20%20%20%20%20%20%20%20%0A%20%20%20%20%0A%20%20%20%20%20%20%20%20%20%20%20%20marker_378ae9038c09440b9c8a1837bc2c301b.bindTooltip%28%0A%20%20%20%20%20%20%20%20%20%20%20%20%20%20%20%20%60%3Cdiv%3E%0A%20%20%20%20%20%20%20%20%20%20%20%20%20%20%20%20%20%20%20%20%20UBS%2012%20PONTE%20ALTA%20GAMA%0A%20%20%20%20%20%20%20%20%20%20%20%20%20%20%20%20%20%3C/div%3E%60%2C%0A%20%20%20%20%20%20%20%20%20%20%20%20%20%20%20%20%7B%22sticky%22%3A%20true%7D%0A%20%20%20%20%20%20%20%20%20%20%20%20%29%3B%0A%20%20%20%20%20%20%20%20%0A%20%20%20%20%0A%20%20%20%20%20%20%20%20%20%20%20%20var%20marker_8f8d3f8883324ad08140c280d2499227%20%3D%20L.marker%28%0A%20%20%20%20%20%20%20%20%20%20%20%20%20%20%20%20%5B-15.9494741439819%2C%20-48.0757987976074%5D%2C%0A%20%20%20%20%20%20%20%20%20%20%20%20%20%20%20%20%7B%7D%0A%20%20%20%20%20%20%20%20%20%20%20%20%29.addTo%28feature_group_3345e6ede6214681a3e06aed36ec4d59%29%3B%0A%20%20%20%20%20%20%20%20%0A%20%20%20%20%0A%20%20%20%20%20%20%20%20%20%20%20%20var%20icon_32bc0b796f414b41b75c8edfb45c1a22%20%3D%20L.AwesomeMarkers.icon%28%0A%20%20%20%20%20%20%20%20%20%20%20%20%20%20%20%20%7B%22extraClasses%22%3A%20%22fa-rotate-0%22%2C%20%22icon%22%3A%20%22info-sign%22%2C%20%22iconColor%22%3A%20%22white%22%2C%20%22markerColor%22%3A%20%22blue%22%2C%20%22prefix%22%3A%20%22glyphicon%22%7D%0A%20%20%20%20%20%20%20%20%20%20%20%20%29%3B%0A%20%20%20%20%20%20%20%20%20%20%20%20marker_8f8d3f8883324ad08140c280d2499227.setIcon%28icon_32bc0b796f414b41b75c8edfb45c1a22%29%3B%0A%20%20%20%20%20%20%20%20%0A%20%20%20%20%0A%20%20%20%20%20%20%20%20%20%20%20%20marker_8f8d3f8883324ad08140c280d2499227.bindTooltip%28%0A%20%20%20%20%20%20%20%20%20%20%20%20%20%20%20%20%60%3Cdiv%3E%0A%20%20%20%20%20%20%20%20%20%20%20%20%20%20%20%20%20%20%20%20%20UBS%203%20GAMA%0A%20%20%20%20%20%20%20%20%20%20%20%20%20%20%20%20%20%3C/div%3E%60%2C%0A%20%20%20%20%20%20%20%20%20%20%20%20%20%20%20%20%7B%22sticky%22%3A%20true%7D%0A%20%20%20%20%20%20%20%20%20%20%20%20%29%3B%0A%20%20%20%20%20%20%20%20%0A%20%20%20%20%0A%20%20%20%20%20%20%20%20%20%20%20%20var%20marker_793dc7a7cf5647a28804feb668b0627c%20%3D%20L.marker%28%0A%20%20%20%20%20%20%20%20%20%20%20%20%20%20%20%20%5B-15.9011202505079%2C%20-47.9449104050458%5D%2C%0A%20%20%20%20%20%20%20%20%20%20%20%20%20%20%20%20%7B%7D%0A%20%20%20%20%20%20%20%20%20%20%20%20%29.addTo%28feature_group_3345e6ede6214681a3e06aed36ec4d59%29%3B%0A%20%20%20%20%20%20%20%20%0A%20%20%20%20%0A%20%20%20%20%20%20%20%20%20%20%20%20var%20icon_d223034d5394454896fed3d1f55c7338%20%3D%20L.AwesomeMarkers.icon%28%0A%20%20%20%20%20%20%20%20%20%20%20%20%20%20%20%20%7B%22extraClasses%22%3A%20%22fa-rotate-0%22%2C%20%22icon%22%3A%20%22info-sign%22%2C%20%22iconColor%22%3A%20%22white%22%2C%20%22markerColor%22%3A%20%22blue%22%2C%20%22prefix%22%3A%20%22glyphicon%22%7D%0A%20%20%20%20%20%20%20%20%20%20%20%20%29%3B%0A%20%20%20%20%20%20%20%20%20%20%20%20marker_793dc7a7cf5647a28804feb668b0627c.setIcon%28icon_d223034d5394454896fed3d1f55c7338%29%3B%0A%20%20%20%20%20%20%20%20%0A%20%20%20%20%0A%20%20%20%20%20%20%20%20%20%20%20%20marker_793dc7a7cf5647a28804feb668b0627c.bindTooltip%28%0A%20%20%20%20%20%20%20%20%20%20%20%20%20%20%20%20%60%3Cdiv%3E%0A%20%20%20%20%20%20%20%20%20%20%20%20%20%20%20%20%20%20%20%20%20UBS%204%20GAMA%0A%20%20%20%20%20%20%20%20%20%20%20%20%20%20%20%20%20%3C/div%3E%60%2C%0A%20%20%20%20%20%20%20%20%20%20%20%20%20%20%20%20%7B%22sticky%22%3A%20true%7D%0A%20%20%20%20%20%20%20%20%20%20%20%20%29%3B%0A%20%20%20%20%20%20%20%20%0A%20%20%20%20%0A%20%20%20%20%20%20%20%20%20%20%20%20var%20marker_9adda51796fc4c6d990575a80c03672c%20%3D%20L.marker%28%0A%20%20%20%20%20%20%20%20%20%20%20%20%20%20%20%20%5B-15.9147396087646%2C%20-47.9784652709961%5D%2C%0A%20%20%20%20%20%20%20%20%20%20%20%20%20%20%20%20%7B%7D%0A%20%20%20%20%20%20%20%20%20%20%20%20%29.addTo%28feature_group_3345e6ede6214681a3e06aed36ec4d59%29%3B%0A%20%20%20%20%20%20%20%20%0A%20%20%20%20%0A%20%20%20%20%20%20%20%20%20%20%20%20var%20icon_95b1d7e91c1a47379a2ffad07d8f7887%20%3D%20L.AwesomeMarkers.icon%28%0A%20%20%20%20%20%20%20%20%20%20%20%20%20%20%20%20%7B%22extraClasses%22%3A%20%22fa-rotate-0%22%2C%20%22icon%22%3A%20%22info-sign%22%2C%20%22iconColor%22%3A%20%22white%22%2C%20%22markerColor%22%3A%20%22blue%22%2C%20%22prefix%22%3A%20%22glyphicon%22%7D%0A%20%20%20%20%20%20%20%20%20%20%20%20%29%3B%0A%20%20%20%20%20%20%20%20%20%20%20%20marker_9adda51796fc4c6d990575a80c03672c.setIcon%28icon_95b1d7e91c1a47379a2ffad07d8f7887%29%3B%0A%20%20%20%20%20%20%20%20%0A%20%20%20%20%0A%20%20%20%20%20%20%20%20%20%20%20%20marker_9adda51796fc4c6d990575a80c03672c.bindTooltip%28%0A%20%20%20%20%20%20%20%20%20%20%20%20%20%20%20%20%60%3Cdiv%3E%0A%20%20%20%20%20%20%20%20%20%20%20%20%20%20%20%20%20%20%20%20%20UBS%206%20GAMA%0A%20%20%20%20%20%20%20%20%20%20%20%20%20%20%20%20%20%3C/div%3E%60%2C%0A%20%20%20%20%20%20%20%20%20%20%20%20%20%20%20%20%7B%22sticky%22%3A%20true%7D%0A%20%20%20%20%20%20%20%20%20%20%20%20%29%3B%0A%20%20%20%20%20%20%20%20%0A%20%20%20%20%0A%20%20%20%20%20%20%20%20%20%20%20%20var%20marker_ebd80a5050a942b3bb421e9f095d9c93%20%3D%20L.marker%28%0A%20%20%20%20%20%20%20%20%20%20%20%20%20%20%20%20%5B-15.9147396087646%2C%20-47.9784652709961%5D%2C%0A%20%20%20%20%20%20%20%20%20%20%20%20%20%20%20%20%7B%7D%0A%20%20%20%20%20%20%20%20%20%20%20%20%29.addTo%28feature_group_3345e6ede6214681a3e06aed36ec4d59%29%3B%0A%20%20%20%20%20%20%20%20%0A%20%20%20%20%0A%20%20%20%20%20%20%20%20%20%20%20%20var%20icon_d7ddeea38be84590b204f226129718e1%20%3D%20L.AwesomeMarkers.icon%28%0A%20%20%20%20%20%20%20%20%20%20%20%20%20%20%20%20%7B%22extraClasses%22%3A%20%22fa-rotate-0%22%2C%20%22icon%22%3A%20%22info-sign%22%2C%20%22iconColor%22%3A%20%22white%22%2C%20%22markerColor%22%3A%20%22blue%22%2C%20%22prefix%22%3A%20%22glyphicon%22%7D%0A%20%20%20%20%20%20%20%20%20%20%20%20%29%3B%0A%20%20%20%20%20%20%20%20%20%20%20%20marker_ebd80a5050a942b3bb421e9f095d9c93.setIcon%28icon_d7ddeea38be84590b204f226129718e1%29%3B%0A%20%20%20%20%20%20%20%20%0A%20%20%20%20%0A%20%20%20%20%20%20%20%20%20%20%20%20marker_ebd80a5050a942b3bb421e9f095d9c93.bindTooltip%28%0A%20%20%20%20%20%20%20%20%20%20%20%20%20%20%20%20%60%3Cdiv%3E%0A%20%20%20%20%20%20%20%20%20%20%20%20%20%20%20%20%20%20%20%20%20UBS%207%20GAMA%0A%20%20%20%20%20%20%20%20%20%20%20%20%20%20%20%20%20%3C/div%3E%60%2C%0A%20%20%20%20%20%20%20%20%20%20%20%20%20%20%20%20%7B%22sticky%22%3A%20true%7D%0A%20%20%20%20%20%20%20%20%20%20%20%20%29%3B%0A%20%20%20%20%20%20%20%20%0A%20%20%20%20%0A%20%20%20%20%20%20%20%20%20%20%20%20var%20marker_a303141c977c40f591c4ca11534013a1%20%3D%20L.marker%28%0A%20%20%20%20%20%20%20%20%20%20%20%20%20%20%20%20%5B-16.031859309585%2C%20-48.0232888680917%5D%2C%0A%20%20%20%20%20%20%20%20%20%20%20%20%20%20%20%20%7B%7D%0A%20%20%20%20%20%20%20%20%20%20%20%20%29.addTo%28feature_group_3345e6ede6214681a3e06aed36ec4d59%29%3B%0A%20%20%20%20%20%20%20%20%0A%20%20%20%20%0A%20%20%20%20%20%20%20%20%20%20%20%20var%20icon_33efdf24b300459d814b4cde2eadc972%20%3D%20L.AwesomeMarkers.icon%28%0A%20%20%20%20%20%20%20%20%20%20%20%20%20%20%20%20%7B%22extraClasses%22%3A%20%22fa-rotate-0%22%2C%20%22icon%22%3A%20%22info-sign%22%2C%20%22iconColor%22%3A%20%22white%22%2C%20%22markerColor%22%3A%20%22blue%22%2C%20%22prefix%22%3A%20%22glyphicon%22%7D%0A%20%20%20%20%20%20%20%20%20%20%20%20%29%3B%0A%20%20%20%20%20%20%20%20%20%20%20%20marker_a303141c977c40f591c4ca11534013a1.setIcon%28icon_33efdf24b300459d814b4cde2eadc972%29%3B%0A%20%20%20%20%20%20%20%20%0A%20%20%20%20%0A%20%20%20%20%20%20%20%20%20%20%20%20marker_a303141c977c40f591c4ca11534013a1.bindTooltip%28%0A%20%20%20%20%20%20%20%20%20%20%20%20%20%20%20%20%60%3Cdiv%3E%0A%20%20%20%20%20%20%20%20%20%20%20%20%20%20%20%20%20%20%20%20%20UBS%203%20SANTA%20MARIA%0A%20%20%20%20%20%20%20%20%20%20%20%20%20%20%20%20%20%3C/div%3E%60%2C%0A%20%20%20%20%20%20%20%20%20%20%20%20%20%20%20%20%7B%22sticky%22%3A%20true%7D%0A%20%20%20%20%20%20%20%20%20%20%20%20%29%3B%0A%20%20%20%20%20%20%20%20%0A%20%20%20%20%0A%20%20%20%20%20%20%20%20%20%20%20%20var%20marker_c64addd3e42b4c15a1db121e66a02427%20%3D%20L.marker%28%0A%20%20%20%20%20%20%20%20%20%20%20%20%20%20%20%20%5B-16.0186676806714%2C%20-48.0180818029197%5D%2C%0A%20%20%20%20%20%20%20%20%20%20%20%20%20%20%20%20%7B%7D%0A%20%20%20%20%20%20%20%20%20%20%20%20%29.addTo%28feature_group_3345e6ede6214681a3e06aed36ec4d59%29%3B%0A%20%20%20%20%20%20%20%20%0A%20%20%20%20%0A%20%20%20%20%20%20%20%20%20%20%20%20var%20icon_e4803f11f62546c39d6f90d7cf53c1bd%20%3D%20L.AwesomeMarkers.icon%28%0A%20%20%20%20%20%20%20%20%20%20%20%20%20%20%20%20%7B%22extraClasses%22%3A%20%22fa-rotate-0%22%2C%20%22icon%22%3A%20%22info-sign%22%2C%20%22iconColor%22%3A%20%22white%22%2C%20%22markerColor%22%3A%20%22blue%22%2C%20%22prefix%22%3A%20%22glyphicon%22%7D%0A%20%20%20%20%20%20%20%20%20%20%20%20%29%3B%0A%20%20%20%20%20%20%20%20%20%20%20%20marker_c64addd3e42b4c15a1db121e66a02427.setIcon%28icon_e4803f11f62546c39d6f90d7cf53c1bd%29%3B%0A%20%20%20%20%20%20%20%20%0A%20%20%20%20%0A%20%20%20%20%20%20%20%20%20%20%20%20marker_c64addd3e42b4c15a1db121e66a02427.bindTooltip%28%0A%20%20%20%20%20%20%20%20%20%20%20%20%20%20%20%20%60%3Cdiv%3E%0A%20%20%20%20%20%20%20%20%20%20%20%20%20%20%20%20%20%20%20%20%20UBS%206%20SANTA%20MARIA%0A%20%20%20%20%20%20%20%20%20%20%20%20%20%20%20%20%20%3C/div%3E%60%2C%0A%20%20%20%20%20%20%20%20%20%20%20%20%20%20%20%20%7B%22sticky%22%3A%20true%7D%0A%20%20%20%20%20%20%20%20%20%20%20%20%29%3B%0A%20%20%20%20%20%20%20%20%0A%20%20%20%20%0A%20%20%20%20%20%20%20%20%20%20%20%20var%20marker_3edf8f7777fb4a1281bf09d9a74578ab%20%3D%20L.marker%28%0A%20%20%20%20%20%20%20%20%20%20%20%20%20%20%20%20%5B-15.9795257872429%2C%20-48.0047835198002%5D%2C%0A%20%20%20%20%20%20%20%20%20%20%20%20%20%20%20%20%7B%7D%0A%20%20%20%20%20%20%20%20%20%20%20%20%29.addTo%28feature_group_3345e6ede6214681a3e06aed36ec4d59%29%3B%0A%20%20%20%20%20%20%20%20%0A%20%20%20%20%0A%20%20%20%20%20%20%20%20%20%20%20%20var%20icon_c291b70b66e74ee5b9b046159ddba822%20%3D%20L.AwesomeMarkers.icon%28%0A%20%20%20%20%20%20%20%20%20%20%20%20%20%20%20%20%7B%22extraClasses%22%3A%20%22fa-rotate-0%22%2C%20%22icon%22%3A%20%22info-sign%22%2C%20%22iconColor%22%3A%20%22white%22%2C%20%22markerColor%22%3A%20%22blue%22%2C%20%22prefix%22%3A%20%22glyphicon%22%7D%0A%20%20%20%20%20%20%20%20%20%20%20%20%29%3B%0A%20%20%20%20%20%20%20%20%20%20%20%20marker_3edf8f7777fb4a1281bf09d9a74578ab.setIcon%28icon_c291b70b66e74ee5b9b046159ddba822%29%3B%0A%20%20%20%20%20%20%20%20%0A%20%20%20%20%0A%20%20%20%20%20%20%20%20%20%20%20%20marker_3edf8f7777fb4a1281bf09d9a74578ab.bindTooltip%28%0A%20%20%20%20%20%20%20%20%20%20%20%20%20%20%20%20%60%3Cdiv%3E%0A%20%20%20%20%20%20%20%20%20%20%20%20%20%20%20%20%20%20%20%20%20UBS%201%20SANTA%20MARIA%0A%20%20%20%20%20%20%20%20%20%20%20%20%20%20%20%20%20%3C/div%3E%60%2C%0A%20%20%20%20%20%20%20%20%20%20%20%20%20%20%20%20%7B%22sticky%22%3A%20true%7D%0A%20%20%20%20%20%20%20%20%20%20%20%20%29%3B%0A%20%20%20%20%20%20%20%20%0A%20%20%20%20%0A%20%20%20%20%20%20%20%20%20%20%20%20var%20marker_722726de00224c59a57c0a0c6070a63d%20%3D%20L.marker%28%0A%20%20%20%20%20%20%20%20%20%20%20%20%20%20%20%20%5B-15.982889175415%2C%20-48.0056704415215%5D%2C%0A%20%20%20%20%20%20%20%20%20%20%20%20%20%20%20%20%7B%7D%0A%20%20%20%20%20%20%20%20%20%20%20%20%29.addTo%28feature_group_3345e6ede6214681a3e06aed36ec4d59%29%3B%0A%20%20%20%20%20%20%20%20%0A%20%20%20%20%0A%20%20%20%20%20%20%20%20%20%20%20%20var%20icon_f5001aacc5fd4f16bf752875aa638d4d%20%3D%20L.AwesomeMarkers.icon%28%0A%20%20%20%20%20%20%20%20%20%20%20%20%20%20%20%20%7B%22extraClasses%22%3A%20%22fa-rotate-0%22%2C%20%22icon%22%3A%20%22info-sign%22%2C%20%22iconColor%22%3A%20%22white%22%2C%20%22markerColor%22%3A%20%22blue%22%2C%20%22prefix%22%3A%20%22glyphicon%22%7D%0A%20%20%20%20%20%20%20%20%20%20%20%20%29%3B%0A%20%20%20%20%20%20%20%20%20%20%20%20marker_722726de00224c59a57c0a0c6070a63d.setIcon%28icon_f5001aacc5fd4f16bf752875aa638d4d%29%3B%0A%20%20%20%20%20%20%20%20%0A%20%20%20%20%0A%20%20%20%20%20%20%20%20%20%20%20%20marker_722726de00224c59a57c0a0c6070a63d.bindTooltip%28%0A%20%20%20%20%20%20%20%20%20%20%20%20%20%20%20%20%60%3Cdiv%3E%0A%20%20%20%20%20%20%20%20%20%20%20%20%20%20%20%20%20%20%20%20%20UBS%205%20SANTA%20MARIA%0A%20%20%20%20%20%20%20%20%20%20%20%20%20%20%20%20%20%3C/div%3E%60%2C%0A%20%20%20%20%20%20%20%20%20%20%20%20%20%20%20%20%7B%22sticky%22%3A%20true%7D%0A%20%20%20%20%20%20%20%20%20%20%20%20%29%3B%0A%20%20%20%20%20%20%20%20%0A%20%20%20%20%0A%20%20%20%20%20%20%20%20%20%20%20%20var%20marker_d525be9ffd75486abab6f29115dbed08%20%3D%20L.marker%28%0A%20%20%20%20%20%20%20%20%20%20%20%20%20%20%20%20%5B-15.9733776683696%2C%20-47.9725211963319%5D%2C%0A%20%20%20%20%20%20%20%20%20%20%20%20%20%20%20%20%7B%7D%0A%20%20%20%20%20%20%20%20%20%20%20%20%29.addTo%28feature_group_3345e6ede6214681a3e06aed36ec4d59%29%3B%0A%20%20%20%20%20%20%20%20%0A%20%20%20%20%0A%20%20%20%20%20%20%20%20%20%20%20%20var%20icon_0f23f6d26ae647f3805fd883ac485570%20%3D%20L.AwesomeMarkers.icon%28%0A%20%20%20%20%20%20%20%20%20%20%20%20%20%20%20%20%7B%22extraClasses%22%3A%20%22fa-rotate-0%22%2C%20%22icon%22%3A%20%22info-sign%22%2C%20%22iconColor%22%3A%20%22white%22%2C%20%22markerColor%22%3A%20%22blue%22%2C%20%22prefix%22%3A%20%22glyphicon%22%7D%0A%20%20%20%20%20%20%20%20%20%20%20%20%29%3B%0A%20%20%20%20%20%20%20%20%20%20%20%20marker_d525be9ffd75486abab6f29115dbed08.setIcon%28icon_0f23f6d26ae647f3805fd883ac485570%29%3B%0A%20%20%20%20%20%20%20%20%0A%20%20%20%20%0A%20%20%20%20%20%20%20%20%20%20%20%20marker_d525be9ffd75486abab6f29115dbed08.bindTooltip%28%0A%20%20%20%20%20%20%20%20%20%20%20%20%20%20%20%20%60%3Cdiv%3E%0A%20%20%20%20%20%20%20%20%20%20%20%20%20%20%20%20%20%20%20%20%20UBS%202%20SANTA%20MARIA%0A%20%20%20%20%20%20%20%20%20%20%20%20%20%20%20%20%20%3C/div%3E%60%2C%0A%20%20%20%20%20%20%20%20%20%20%20%20%20%20%20%20%7B%22sticky%22%3A%20true%7D%0A%20%20%20%20%20%20%20%20%20%20%20%20%29%3B%0A%20%20%20%20%20%20%20%20%0A%20%20%20%20%0A%20%20%20%20%20%20%20%20%20%20%20%20var%20marker_13a74d79170142d384eb8b5f4f65a524%20%3D%20L.marker%28%0A%20%20%20%20%20%20%20%20%20%20%20%20%20%20%20%20%5B-15.9733776683696%2C%20-47.9725211963319%5D%2C%0A%20%20%20%20%20%20%20%20%20%20%20%20%20%20%20%20%7B%7D%0A%20%20%20%20%20%20%20%20%20%20%20%20%29.addTo%28feature_group_3345e6ede6214681a3e06aed36ec4d59%29%3B%0A%20%20%20%20%20%20%20%20%0A%20%20%20%20%0A%20%20%20%20%20%20%20%20%20%20%20%20var%20icon_0f32a1721b094aa1bbde8fc80013412f%20%3D%20L.AwesomeMarkers.icon%28%0A%20%20%20%20%20%20%20%20%20%20%20%20%20%20%20%20%7B%22extraClasses%22%3A%20%22fa-rotate-0%22%2C%20%22icon%22%3A%20%22info-sign%22%2C%20%22iconColor%22%3A%20%22white%22%2C%20%22markerColor%22%3A%20%22blue%22%2C%20%22prefix%22%3A%20%22glyphicon%22%7D%0A%20%20%20%20%20%20%20%20%20%20%20%20%29%3B%0A%20%20%20%20%20%20%20%20%20%20%20%20marker_13a74d79170142d384eb8b5f4f65a524.setIcon%28icon_0f32a1721b094aa1bbde8fc80013412f%29%3B%0A%20%20%20%20%20%20%20%20%0A%20%20%20%20%0A%20%20%20%20%20%20%20%20%20%20%20%20marker_13a74d79170142d384eb8b5f4f65a524.bindTooltip%28%0A%20%20%20%20%20%20%20%20%20%20%20%20%20%20%20%20%60%3Cdiv%3E%0A%20%20%20%20%20%20%20%20%20%20%20%20%20%20%20%20%20%20%20%20%20UBS%208%20SANTA%20MARIA%0A%20%20%20%20%20%20%20%20%20%20%20%20%20%20%20%20%20%3C/div%3E%60%2C%0A%20%20%20%20%20%20%20%20%20%20%20%20%20%20%20%20%7B%22sticky%22%3A%20true%7D%0A%20%20%20%20%20%20%20%20%20%20%20%20%29%3B%0A%20%20%20%20%20%20%20%20%0A%20%20%20%20%0A%20%20%20%20%20%20%20%20%20%20%20%20var%20marker_08ae701b52e64e329710878c0231de63%20%3D%20L.marker%28%0A%20%20%20%20%20%20%20%20%20%20%20%20%20%20%20%20%5B-15.9700757630017%2C%20-47.9871166774205%5D%2C%0A%20%20%20%20%20%20%20%20%20%20%20%20%20%20%20%20%7B%7D%0A%20%20%20%20%20%20%20%20%20%20%20%20%29.addTo%28feature_group_3345e6ede6214681a3e06aed36ec4d59%29%3B%0A%20%20%20%20%20%20%20%20%0A%20%20%20%20%0A%20%20%20%20%20%20%20%20%20%20%20%20var%20icon_0e637b5f9d184d2a8033b00cc4a93c01%20%3D%20L.AwesomeMarkers.icon%28%0A%20%20%20%20%20%20%20%20%20%20%20%20%20%20%20%20%7B%22extraClasses%22%3A%20%22fa-rotate-0%22%2C%20%22icon%22%3A%20%22info-sign%22%2C%20%22iconColor%22%3A%20%22white%22%2C%20%22markerColor%22%3A%20%22blue%22%2C%20%22prefix%22%3A%20%22glyphicon%22%7D%0A%20%20%20%20%20%20%20%20%20%20%20%20%29%3B%0A%20%20%20%20%20%20%20%20%20%20%20%20marker_08ae701b52e64e329710878c0231de63.setIcon%28icon_0e637b5f9d184d2a8033b00cc4a93c01%29%3B%0A%20%20%20%20%20%20%20%20%0A%20%20%20%20%0A%20%20%20%20%20%20%20%20%20%20%20%20marker_08ae701b52e64e329710878c0231de63.bindTooltip%28%0A%20%20%20%20%20%20%20%20%20%20%20%20%20%20%20%20%60%3Cdiv%3E%0A%20%20%20%20%20%20%20%20%20%20%20%20%20%20%20%20%20%20%20%20%20UBS%207%20SANTA%20MARIA%0A%20%20%20%20%20%20%20%20%20%20%20%20%20%20%20%20%20%3C/div%3E%60%2C%0A%20%20%20%20%20%20%20%20%20%20%20%20%20%20%20%20%7B%22sticky%22%3A%20true%7D%0A%20%20%20%20%20%20%20%20%20%20%20%20%29%3B%0A%20%20%20%20%20%20%20%20%0A%20%20%20%20%0A%20%20%20%20%20%20%20%20%20%20%20%20var%20marker_c0e049bfd127471ca803c4047b1d6244%20%3D%20L.marker%28%0A%20%20%20%20%20%20%20%20%20%20%20%20%20%20%20%20%5B-15.8828269253258%2C%20-47.8842120130523%5D%2C%0A%20%20%20%20%20%20%20%20%20%20%20%20%20%20%20%20%7B%7D%0A%20%20%20%20%20%20%20%20%20%20%20%20%29.addTo%28feature_group_3345e6ede6214681a3e06aed36ec4d59%29%3B%0A%20%20%20%20%20%20%20%20%0A%20%20%20%20%0A%20%20%20%20%20%20%20%20%20%20%20%20var%20icon_112df98207cc422bb429a9f1cb11319b%20%3D%20L.AwesomeMarkers.icon%28%0A%20%20%20%20%20%20%20%20%20%20%20%20%20%20%20%20%7B%22extraClasses%22%3A%20%22fa-rotate-0%22%2C%20%22icon%22%3A%20%22info-sign%22%2C%20%22iconColor%22%3A%20%22white%22%2C%20%22markerColor%22%3A%20%22blue%22%2C%20%22prefix%22%3A%20%22glyphicon%22%7D%0A%20%20%20%20%20%20%20%20%20%20%20%20%29%3B%0A%20%20%20%20%20%20%20%20%20%20%20%20marker_c0e049bfd127471ca803c4047b1d6244.setIcon%28icon_112df98207cc422bb429a9f1cb11319b%29%3B%0A%20%20%20%20%20%20%20%20%0A%20%20%20%20%0A%20%20%20%20%20%20%20%20%20%20%20%20marker_c0e049bfd127471ca803c4047b1d6244.bindTooltip%28%0A%20%20%20%20%20%20%20%20%20%20%20%20%20%20%20%20%60%3Cdiv%3E%0A%20%20%20%20%20%20%20%20%20%20%20%20%20%20%20%20%20%20%20%20%20UBS%2002%20RECANTO%20DAS%20EMAS%0A%20%20%20%20%20%20%20%20%20%20%20%20%20%20%20%20%20%3C/div%3E%60%2C%0A%20%20%20%20%20%20%20%20%20%20%20%20%20%20%20%20%7B%22sticky%22%3A%20true%7D%0A%20%20%20%20%20%20%20%20%20%20%20%20%29%3B%0A%20%20%20%20%20%20%20%20%0A%20%20%20%20%0A%20%20%20%20%20%20%20%20%20%20%20%20var%20marker_0aa9856a8f8940baae45b3a1bb150463%20%3D%20L.marker%28%0A%20%20%20%20%20%20%20%20%20%20%20%20%20%20%20%20%5B-15.8828269253258%2C%20-47.8842120130523%5D%2C%0A%20%20%20%20%20%20%20%20%20%20%20%20%20%20%20%20%7B%7D%0A%20%20%20%20%20%20%20%20%20%20%20%20%29.addTo%28feature_group_3345e6ede6214681a3e06aed36ec4d59%29%3B%0A%20%20%20%20%20%20%20%20%0A%20%20%20%20%0A%20%20%20%20%20%20%20%20%20%20%20%20var%20icon_11c3bbc30e3f4021964a78081f907917%20%3D%20L.AwesomeMarkers.icon%28%0A%20%20%20%20%20%20%20%20%20%20%20%20%20%20%20%20%7B%22extraClasses%22%3A%20%22fa-rotate-0%22%2C%20%22icon%22%3A%20%22info-sign%22%2C%20%22iconColor%22%3A%20%22white%22%2C%20%22markerColor%22%3A%20%22blue%22%2C%20%22prefix%22%3A%20%22glyphicon%22%7D%0A%20%20%20%20%20%20%20%20%20%20%20%20%29%3B%0A%20%20%20%20%20%20%20%20%20%20%20%20marker_0aa9856a8f8940baae45b3a1bb150463.setIcon%28icon_11c3bbc30e3f4021964a78081f907917%29%3B%0A%20%20%20%20%20%20%20%20%0A%20%20%20%20%0A%20%20%20%20%20%20%20%20%20%20%20%20marker_0aa9856a8f8940baae45b3a1bb150463.bindTooltip%28%0A%20%20%20%20%20%20%20%20%20%20%20%20%20%20%20%20%60%3Cdiv%3E%0A%20%20%20%20%20%20%20%20%20%20%20%20%20%20%20%20%20%20%20%20%20UBS%2008%20RECANTO%20DAS%20EMAS%20SAO%20FRANCISCO%0A%20%20%20%20%20%20%20%20%20%20%20%20%20%20%20%20%20%3C/div%3E%60%2C%0A%20%20%20%20%20%20%20%20%20%20%20%20%20%20%20%20%7B%22sticky%22%3A%20true%7D%0A%20%20%20%20%20%20%20%20%20%20%20%20%29%3B%0A%20%20%20%20%20%20%20%20%0A%20%20%20%20%0A%20%20%20%20%20%20%20%20%20%20%20%20var%20marker_c41af0797b314f5f82fbf33eb1873bac%20%3D%20L.marker%28%0A%20%20%20%20%20%20%20%20%20%20%20%20%20%20%20%20%5B-15.8828269253258%2C%20-47.8842120130523%5D%2C%0A%20%20%20%20%20%20%20%20%20%20%20%20%20%20%20%20%7B%7D%0A%20%20%20%20%20%20%20%20%20%20%20%20%29.addTo%28feature_group_3345e6ede6214681a3e06aed36ec4d59%29%3B%0A%20%20%20%20%20%20%20%20%0A%20%20%20%20%0A%20%20%20%20%20%20%20%20%20%20%20%20var%20icon_8c05ec3064034244a9e29c69c34cbdd7%20%3D%20L.AwesomeMarkers.icon%28%0A%20%20%20%20%20%20%20%20%20%20%20%20%20%20%20%20%7B%22extraClasses%22%3A%20%22fa-rotate-0%22%2C%20%22icon%22%3A%20%22info-sign%22%2C%20%22iconColor%22%3A%20%22white%22%2C%20%22markerColor%22%3A%20%22blue%22%2C%20%22prefix%22%3A%20%22glyphicon%22%7D%0A%20%20%20%20%20%20%20%20%20%20%20%20%29%3B%0A%20%20%20%20%20%20%20%20%20%20%20%20marker_c41af0797b314f5f82fbf33eb1873bac.setIcon%28icon_8c05ec3064034244a9e29c69c34cbdd7%29%3B%0A%20%20%20%20%20%20%20%20%0A%20%20%20%20%0A%20%20%20%20%20%20%20%20%20%20%20%20marker_c41af0797b314f5f82fbf33eb1873bac.bindTooltip%28%0A%20%20%20%20%20%20%20%20%20%20%20%20%20%20%20%20%60%3Cdiv%3E%0A%20%20%20%20%20%20%20%20%20%20%20%20%20%20%20%20%20%20%20%20%20UBS%2003%20RECANTO%20DAS%20EMAS%0A%20%20%20%20%20%20%20%20%20%20%20%20%20%20%20%20%20%3C/div%3E%60%2C%0A%20%20%20%20%20%20%20%20%20%20%20%20%20%20%20%20%7B%22sticky%22%3A%20true%7D%0A%20%20%20%20%20%20%20%20%20%20%20%20%29%3B%0A%20%20%20%20%20%20%20%20%0A%20%20%20%20%0A%20%20%20%20%20%20%20%20%20%20%20%20var%20marker_e308953ba4c54714870f15750b4b7ea7%20%3D%20L.marker%28%0A%20%20%20%20%20%20%20%20%20%20%20%20%20%20%20%20%5B-15.9023801854679%2C%20-48.0063577720097%5D%2C%0A%20%20%20%20%20%20%20%20%20%20%20%20%20%20%20%20%7B%7D%0A%20%20%20%20%20%20%20%20%20%20%20%20%29.addTo%28feature_group_3345e6ede6214681a3e06aed36ec4d59%29%3B%0A%20%20%20%20%20%20%20%20%0A%20%20%20%20%0A%20%20%20%20%20%20%20%20%20%20%20%20var%20icon_fb8b2865495d4e2aaa4894819840fea4%20%3D%20L.AwesomeMarkers.icon%28%0A%20%20%20%20%20%20%20%20%20%20%20%20%20%20%20%20%7B%22extraClasses%22%3A%20%22fa-rotate-0%22%2C%20%22icon%22%3A%20%22info-sign%22%2C%20%22iconColor%22%3A%20%22white%22%2C%20%22markerColor%22%3A%20%22blue%22%2C%20%22prefix%22%3A%20%22glyphicon%22%7D%0A%20%20%20%20%20%20%20%20%20%20%20%20%29%3B%0A%20%20%20%20%20%20%20%20%20%20%20%20marker_e308953ba4c54714870f15750b4b7ea7.setIcon%28icon_fb8b2865495d4e2aaa4894819840fea4%29%3B%0A%20%20%20%20%20%20%20%20%0A%20%20%20%20%0A%20%20%20%20%20%20%20%20%20%20%20%20marker_e308953ba4c54714870f15750b4b7ea7.bindTooltip%28%0A%20%20%20%20%20%20%20%20%20%20%20%20%20%20%20%20%60%3Cdiv%3E%0A%20%20%20%20%20%20%20%20%20%20%20%20%20%20%20%20%20%20%20%20%20UBS%2001%20RECANTO%20DAS%20EMAS%0A%20%20%20%20%20%20%20%20%20%20%20%20%20%20%20%20%20%3C/div%3E%60%2C%0A%20%20%20%20%20%20%20%20%20%20%20%20%20%20%20%20%7B%22sticky%22%3A%20true%7D%0A%20%20%20%20%20%20%20%20%20%20%20%20%29%3B%0A%20%20%20%20%20%20%20%20%0A%20%20%20%20%0A%20%20%20%20%20%20%20%20%20%20%20%20var%20marker_228b91687eaf487db184216876abf564%20%3D%20L.marker%28%0A%20%20%20%20%20%20%20%20%20%20%20%20%20%20%20%20%5B-15.887553174445%2C%20-48.0559745545083%5D%2C%0A%20%20%20%20%20%20%20%20%20%20%20%20%20%20%20%20%7B%7D%0A%20%20%20%20%20%20%20%20%20%20%20%20%29.addTo%28feature_group_3345e6ede6214681a3e06aed36ec4d59%29%3B%0A%20%20%20%20%20%20%20%20%0A%20%20%20%20%0A%20%20%20%20%20%20%20%20%20%20%20%20var%20icon_58b79ea4ab264c3a9d090fe556a8abe1%20%3D%20L.AwesomeMarkers.icon%28%0A%20%20%20%20%20%20%20%20%20%20%20%20%20%20%20%20%7B%22extraClasses%22%3A%20%22fa-rotate-0%22%2C%20%22icon%22%3A%20%22info-sign%22%2C%20%22iconColor%22%3A%20%22white%22%2C%20%22markerColor%22%3A%20%22blue%22%2C%20%22prefix%22%3A%20%22glyphicon%22%7D%0A%20%20%20%20%20%20%20%20%20%20%20%20%29%3B%0A%20%20%20%20%20%20%20%20%20%20%20%20marker_228b91687eaf487db184216876abf564.setIcon%28icon_58b79ea4ab264c3a9d090fe556a8abe1%29%3B%0A%20%20%20%20%20%20%20%20%0A%20%20%20%20%0A%20%20%20%20%20%20%20%20%20%20%20%20marker_228b91687eaf487db184216876abf564.bindTooltip%28%0A%20%20%20%20%20%20%20%20%20%20%20%20%20%20%20%20%60%3Cdiv%3E%0A%20%20%20%20%20%20%20%20%20%20%20%20%20%20%20%20%20%20%20%20%20UBS%2010%20RECANTO%20DAS%20EMAS%0A%20%20%20%20%20%20%20%20%20%20%20%20%20%20%20%20%20%3C/div%3E%60%2C%0A%20%20%20%20%20%20%20%20%20%20%20%20%20%20%20%20%7B%22sticky%22%3A%20true%7D%0A%20%20%20%20%20%20%20%20%20%20%20%20%29%3B%0A%20%20%20%20%20%20%20%20%0A%20%20%20%20%0A%20%20%20%20%20%20%20%20%20%20%20%20var%20marker_e12a72a51b664f12a4dc22a3526fa391%20%3D%20L.marker%28%0A%20%20%20%20%20%20%20%20%20%20%20%20%20%20%20%20%5B-15.7460465853727%2C%20-48.0444533432586%5D%2C%0A%20%20%20%20%20%20%20%20%20%20%20%20%20%20%20%20%7B%7D%0A%20%20%20%20%20%20%20%20%20%20%20%20%29.addTo%28feature_group_3345e6ede6214681a3e06aed36ec4d59%29%3B%0A%20%20%20%20%20%20%20%20%0A%20%20%20%20%0A%20%20%20%20%20%20%20%20%20%20%20%20var%20icon_2bedddcad91544f19b8e7974a333c4e3%20%3D%20L.AwesomeMarkers.icon%28%0A%20%20%20%20%20%20%20%20%20%20%20%20%20%20%20%20%7B%22extraClasses%22%3A%20%22fa-rotate-0%22%2C%20%22icon%22%3A%20%22info-sign%22%2C%20%22iconColor%22%3A%20%22white%22%2C%20%22markerColor%22%3A%20%22blue%22%2C%20%22prefix%22%3A%20%22glyphicon%22%7D%0A%20%20%20%20%20%20%20%20%20%20%20%20%29%3B%0A%20%20%20%20%20%20%20%20%20%20%20%20marker_e12a72a51b664f12a4dc22a3526fa391.setIcon%28icon_2bedddcad91544f19b8e7974a333c4e3%29%3B%0A%20%20%20%20%20%20%20%20%0A%20%20%20%20%0A%20%20%20%20%20%20%20%20%20%20%20%20marker_e12a72a51b664f12a4dc22a3526fa391.bindTooltip%28%0A%20%20%20%20%20%20%20%20%20%20%20%20%20%20%20%20%60%3Cdiv%3E%0A%20%20%20%20%20%20%20%20%20%20%20%20%20%20%20%20%20%20%20%20%20UBS%201%20BRAZLANDIA%0A%20%20%20%20%20%20%20%20%20%20%20%20%20%20%20%20%20%3C/div%3E%60%2C%0A%20%20%20%20%20%20%20%20%20%20%20%20%20%20%20%20%7B%22sticky%22%3A%20true%7D%0A%20%20%20%20%20%20%20%20%20%20%20%20%29%3B%0A%20%20%20%20%20%20%20%20%0A%20%20%20%20%0A%20%20%20%20%20%20%20%20%20%20%20%20var%20marker_7001aacbaaf046a482ccba5bdadf2057%20%3D%20L.marker%28%0A%20%20%20%20%20%20%20%20%20%20%20%20%20%20%20%20%5B-15.7723789215088%2C%20-47.9293296120384%5D%2C%0A%20%20%20%20%20%20%20%20%20%20%20%20%20%20%20%20%7B%7D%0A%20%20%20%20%20%20%20%20%20%20%20%20%29.addTo%28feature_group_3345e6ede6214681a3e06aed36ec4d59%29%3B%0A%20%20%20%20%20%20%20%20%0A%20%20%20%20%0A%20%20%20%20%20%20%20%20%20%20%20%20var%20icon_4e0a969861ae4326b370b42756058147%20%3D%20L.AwesomeMarkers.icon%28%0A%20%20%20%20%20%20%20%20%20%20%20%20%20%20%20%20%7B%22extraClasses%22%3A%20%22fa-rotate-0%22%2C%20%22icon%22%3A%20%22info-sign%22%2C%20%22iconColor%22%3A%20%22white%22%2C%20%22markerColor%22%3A%20%22blue%22%2C%20%22prefix%22%3A%20%22glyphicon%22%7D%0A%20%20%20%20%20%20%20%20%20%20%20%20%29%3B%0A%20%20%20%20%20%20%20%20%20%20%20%20marker_7001aacbaaf046a482ccba5bdadf2057.setIcon%28icon_4e0a969861ae4326b370b42756058147%29%3B%0A%20%20%20%20%20%20%20%20%0A%20%20%20%20%0A%20%20%20%20%20%20%20%20%20%20%20%20marker_7001aacbaaf046a482ccba5bdadf2057.bindTooltip%28%0A%20%20%20%20%20%20%20%20%20%20%20%20%20%20%20%20%60%3Cdiv%3E%0A%20%20%20%20%20%20%20%20%20%20%20%20%20%20%20%20%20%20%20%20%20HRBZ%0A%20%20%20%20%20%20%20%20%20%20%20%20%20%20%20%20%20%3C/div%3E%60%2C%0A%20%20%20%20%20%20%20%20%20%20%20%20%20%20%20%20%7B%22sticky%22%3A%20true%7D%0A%20%20%20%20%20%20%20%20%20%20%20%20%29%3B%0A%20%20%20%20%20%20%20%20%0A%20%20%20%20%0A%20%20%20%20%20%20%20%20%20%20%20%20var%20marker_3cbcb6bc092f486f8001b52c5ef6394c%20%3D%20L.marker%28%0A%20%20%20%20%20%20%20%20%20%20%20%20%20%20%20%20%5B-15.7168520835981%2C%20-48.0315276368024%5D%2C%0A%20%20%20%20%20%20%20%20%20%20%20%20%20%20%20%20%7B%7D%0A%20%20%20%20%20%20%20%20%20%20%20%20%29.addTo%28feature_group_3345e6ede6214681a3e06aed36ec4d59%29%3B%0A%20%20%20%20%20%20%20%20%0A%20%20%20%20%0A%20%20%20%20%20%20%20%20%20%20%20%20var%20icon_f2ce957b4ecb4db6a6b1c67ba4eaf495%20%3D%20L.AwesomeMarkers.icon%28%0A%20%20%20%20%20%20%20%20%20%20%20%20%20%20%20%20%7B%22extraClasses%22%3A%20%22fa-rotate-0%22%2C%20%22icon%22%3A%20%22info-sign%22%2C%20%22iconColor%22%3A%20%22white%22%2C%20%22markerColor%22%3A%20%22blue%22%2C%20%22prefix%22%3A%20%22glyphicon%22%7D%0A%20%20%20%20%20%20%20%20%20%20%20%20%29%3B%0A%20%20%20%20%20%20%20%20%20%20%20%20marker_3cbcb6bc092f486f8001b52c5ef6394c.setIcon%28icon_f2ce957b4ecb4db6a6b1c67ba4eaf495%29%3B%0A%20%20%20%20%20%20%20%20%0A%20%20%20%20%0A%20%20%20%20%20%20%20%20%20%20%20%20marker_3cbcb6bc092f486f8001b52c5ef6394c.bindTooltip%28%0A%20%20%20%20%20%20%20%20%20%20%20%20%20%20%20%20%60%3Cdiv%3E%0A%20%20%20%20%20%20%20%20%20%20%20%20%20%20%20%20%20%20%20%20%20UBS%204%20VEREDAS%20II%20BRAZLANDIA%0A%20%20%20%20%20%20%20%20%20%20%20%20%20%20%20%20%20%3C/div%3E%60%2C%0A%20%20%20%20%20%20%20%20%20%20%20%20%20%20%20%20%7B%22sticky%22%3A%20true%7D%0A%20%20%20%20%20%20%20%20%20%20%20%20%29%3B%0A%20%20%20%20%20%20%20%20%0A%20%20%20%20%0A%20%20%20%20%20%20%20%20%20%20%20%20var%20marker_9309d124139e44ac8b5b707a1960f91e%20%3D%20L.marker%28%0A%20%20%20%20%20%20%20%20%20%20%20%20%20%20%20%20%5B-15.6953055593703%2C%20-47.7740908728706%5D%2C%0A%20%20%20%20%20%20%20%20%20%20%20%20%20%20%20%20%7B%7D%0A%20%20%20%20%20%20%20%20%20%20%20%20%29.addTo%28feature_group_3345e6ede6214681a3e06aed36ec4d59%29%3B%0A%20%20%20%20%20%20%20%20%0A%20%20%20%20%0A%20%20%20%20%20%20%20%20%20%20%20%20var%20icon_c0388c42b54f4f90968445b7f05c6054%20%3D%20L.AwesomeMarkers.icon%28%0A%20%20%20%20%20%20%20%20%20%20%20%20%20%20%20%20%7B%22extraClasses%22%3A%20%22fa-rotate-0%22%2C%20%22icon%22%3A%20%22info-sign%22%2C%20%22iconColor%22%3A%20%22white%22%2C%20%22markerColor%22%3A%20%22blue%22%2C%20%22prefix%22%3A%20%22glyphicon%22%7D%0A%20%20%20%20%20%20%20%20%20%20%20%20%29%3B%0A%20%20%20%20%20%20%20%20%20%20%20%20marker_9309d124139e44ac8b5b707a1960f91e.setIcon%28icon_c0388c42b54f4f90968445b7f05c6054%29%3B%0A%20%20%20%20%20%20%20%20%0A%20%20%20%20%0A%20%20%20%20%20%20%20%20%20%20%20%20marker_9309d124139e44ac8b5b707a1960f91e.bindTooltip%28%0A%20%20%20%20%20%20%20%20%20%20%20%20%20%20%20%20%60%3Cdiv%3E%0A%20%20%20%20%20%20%20%20%20%20%20%20%20%20%20%20%20%20%20%20%20UBS%205%20SETOR%20DE%20MANSOES%20SOBRADINHO%20II%0A%20%20%20%20%20%20%20%20%20%20%20%20%20%20%20%20%20%3C/div%3E%60%2C%0A%20%20%20%20%20%20%20%20%20%20%20%20%20%20%20%20%7B%22sticky%22%3A%20true%7D%0A%20%20%20%20%20%20%20%20%20%20%20%20%29%3B%0A%20%20%20%20%20%20%20%20%0A%20%20%20%20%0A%20%20%20%20%20%20%20%20%20%20%20%20var%20marker_f4f1d5e6fa9c488d9fd7e68a8dd46c1d%20%3D%20L.marker%28%0A%20%20%20%20%20%20%20%20%20%20%20%20%20%20%20%20%5B-15.6712104479472%2C%20-47.7948487599691%5D%2C%0A%20%20%20%20%20%20%20%20%20%20%20%20%20%20%20%20%7B%7D%0A%20%20%20%20%20%20%20%20%20%20%20%20%29.addTo%28feature_group_3345e6ede6214681a3e06aed36ec4d59%29%3B%0A%20%20%20%20%20%20%20%20%0A%20%20%20%20%0A%20%20%20%20%20%20%20%20%20%20%20%20var%20icon_037d75d329dc486c9a244adf7d1c13b3%20%3D%20L.AwesomeMarkers.icon%28%0A%20%20%20%20%20%20%20%20%20%20%20%20%20%20%20%20%7B%22extraClasses%22%3A%20%22fa-rotate-0%22%2C%20%22icon%22%3A%20%22info-sign%22%2C%20%22iconColor%22%3A%20%22white%22%2C%20%22markerColor%22%3A%20%22blue%22%2C%20%22prefix%22%3A%20%22glyphicon%22%7D%0A%20%20%20%20%20%20%20%20%20%20%20%20%29%3B%0A%20%20%20%20%20%20%20%20%20%20%20%20marker_f4f1d5e6fa9c488d9fd7e68a8dd46c1d.setIcon%28icon_037d75d329dc486c9a244adf7d1c13b3%29%3B%0A%20%20%20%20%20%20%20%20%0A%20%20%20%20%0A%20%20%20%20%20%20%20%20%20%20%20%20marker_f4f1d5e6fa9c488d9fd7e68a8dd46c1d.bindTooltip%28%0A%20%20%20%20%20%20%20%20%20%20%20%20%20%20%20%20%60%3Cdiv%3E%0A%20%20%20%20%20%20%20%20%20%20%20%20%20%20%20%20%20%20%20%20%20UBS%202%20SOBRADINHO%0A%20%20%20%20%20%20%20%20%20%20%20%20%20%20%20%20%20%3C/div%3E%60%2C%0A%20%20%20%20%20%20%20%20%20%20%20%20%20%20%20%20%7B%22sticky%22%3A%20true%7D%0A%20%20%20%20%20%20%20%20%20%20%20%20%29%3B%0A%20%20%20%20%20%20%20%20%0A%20%20%20%20%0A%20%20%20%20%20%20%20%20%20%20%20%20var%20marker_486da719a6c74f82811d937c46c1f725%20%3D%20L.marker%28%0A%20%20%20%20%20%20%20%20%20%20%20%20%20%20%20%20%5B-15.6692689678125%2C%20-47.8025432385896%5D%2C%0A%20%20%20%20%20%20%20%20%20%20%20%20%20%20%20%20%7B%7D%0A%20%20%20%20%20%20%20%20%20%20%20%20%29.addTo%28feature_group_3345e6ede6214681a3e06aed36ec4d59%29%3B%0A%20%20%20%20%20%20%20%20%0A%20%20%20%20%0A%20%20%20%20%20%20%20%20%20%20%20%20var%20icon_4769f0feba604115aee46ca910282639%20%3D%20L.AwesomeMarkers.icon%28%0A%20%20%20%20%20%20%20%20%20%20%20%20%20%20%20%20%7B%22extraClasses%22%3A%20%22fa-rotate-0%22%2C%20%22icon%22%3A%20%22info-sign%22%2C%20%22iconColor%22%3A%20%22white%22%2C%20%22markerColor%22%3A%20%22blue%22%2C%20%22prefix%22%3A%20%22glyphicon%22%7D%0A%20%20%20%20%20%20%20%20%20%20%20%20%29%3B%0A%20%20%20%20%20%20%20%20%20%20%20%20marker_486da719a6c74f82811d937c46c1f725.setIcon%28icon_4769f0feba604115aee46ca910282639%29%3B%0A%20%20%20%20%20%20%20%20%0A%20%20%20%20%0A%20%20%20%20%20%20%20%20%20%20%20%20marker_486da719a6c74f82811d937c46c1f725.bindTooltip%28%0A%20%20%20%20%20%20%20%20%20%20%20%20%20%20%20%20%60%3Cdiv%3E%0A%20%20%20%20%20%20%20%20%20%20%20%20%20%20%20%20%20%20%20%20%20UBS%201%20SOBRADINHO%0A%20%20%20%20%20%20%20%20%20%20%20%20%20%20%20%20%20%3C/div%3E%60%2C%0A%20%20%20%20%20%20%20%20%20%20%20%20%20%20%20%20%7B%22sticky%22%3A%20true%7D%0A%20%20%20%20%20%20%20%20%20%20%20%20%29%3B%0A%20%20%20%20%20%20%20%20%0A%20%20%20%20%0A%20%20%20%20%20%20%20%20%20%20%20%20var%20marker_aacf2adee08d41c4847b26560636e94f%20%3D%20L.marker%28%0A%20%20%20%20%20%20%20%20%20%20%20%20%20%20%20%20%5B-15.6597352535167%2C%20-47.8323319617738%5D%2C%0A%20%20%20%20%20%20%20%20%20%20%20%20%20%20%20%20%7B%7D%0A%20%20%20%20%20%20%20%20%20%20%20%20%29.addTo%28feature_group_3345e6ede6214681a3e06aed36ec4d59%29%3B%0A%20%20%20%20%20%20%20%20%0A%20%20%20%20%0A%20%20%20%20%20%20%20%20%20%20%20%20var%20icon_f3d2d4ed9deb443d8f69eacd5f99445f%20%3D%20L.AwesomeMarkers.icon%28%0A%20%20%20%20%20%20%20%20%20%20%20%20%20%20%20%20%7B%22extraClasses%22%3A%20%22fa-rotate-0%22%2C%20%22icon%22%3A%20%22info-sign%22%2C%20%22iconColor%22%3A%20%22white%22%2C%20%22markerColor%22%3A%20%22blue%22%2C%20%22prefix%22%3A%20%22glyphicon%22%7D%0A%20%20%20%20%20%20%20%20%20%20%20%20%29%3B%0A%20%20%20%20%20%20%20%20%20%20%20%20marker_aacf2adee08d41c4847b26560636e94f.setIcon%28icon_f3d2d4ed9deb443d8f69eacd5f99445f%29%3B%0A%20%20%20%20%20%20%20%20%0A%20%20%20%20%0A%20%20%20%20%20%20%20%20%20%20%20%20marker_aacf2adee08d41c4847b26560636e94f.bindTooltip%28%0A%20%20%20%20%20%20%20%20%20%20%20%20%20%20%20%20%60%3Cdiv%3E%0A%20%20%20%20%20%20%20%20%20%20%20%20%20%20%20%20%20%20%20%20%20UBS%201%20SOBRADINHO%20II%0A%20%20%20%20%20%20%20%20%20%20%20%20%20%20%20%20%20%3C/div%3E%60%2C%0A%20%20%20%20%20%20%20%20%20%20%20%20%20%20%20%20%7B%22sticky%22%3A%20true%7D%0A%20%20%20%20%20%20%20%20%20%20%20%20%29%3B%0A%20%20%20%20%20%20%20%20%0A%20%20%20%20%0A%20%20%20%20%20%20%20%20%20%20%20%20var%20marker_b037a6f05a1746b4adc43f217bbc54ad%20%3D%20L.marker%28%0A%20%20%20%20%20%20%20%20%20%20%20%20%20%20%20%20%5B-15.634417951107%2C%20-47.816989103953%5D%2C%0A%20%20%20%20%20%20%20%20%20%20%20%20%20%20%20%20%7B%7D%0A%20%20%20%20%20%20%20%20%20%20%20%20%29.addTo%28feature_group_3345e6ede6214681a3e06aed36ec4d59%29%3B%0A%20%20%20%20%20%20%20%20%0A%20%20%20%20%0A%20%20%20%20%20%20%20%20%20%20%20%20var%20icon_99455613133d4ab7a4aa2b82309c749b%20%3D%20L.AwesomeMarkers.icon%28%0A%20%20%20%20%20%20%20%20%20%20%20%20%20%20%20%20%7B%22extraClasses%22%3A%20%22fa-rotate-0%22%2C%20%22icon%22%3A%20%22info-sign%22%2C%20%22iconColor%22%3A%20%22white%22%2C%20%22markerColor%22%3A%20%22blue%22%2C%20%22prefix%22%3A%20%22glyphicon%22%7D%0A%20%20%20%20%20%20%20%20%20%20%20%20%29%3B%0A%20%20%20%20%20%20%20%20%20%20%20%20marker_b037a6f05a1746b4adc43f217bbc54ad.setIcon%28icon_99455613133d4ab7a4aa2b82309c749b%29%3B%0A%20%20%20%20%20%20%20%20%0A%20%20%20%20%0A%20%20%20%20%20%20%20%20%20%20%20%20marker_b037a6f05a1746b4adc43f217bbc54ad.bindTooltip%28%0A%20%20%20%20%20%20%20%20%20%20%20%20%20%20%20%20%60%3Cdiv%3E%0A%20%20%20%20%20%20%20%20%20%20%20%20%20%20%20%20%20%20%20%20%20UBS%202%20SOBRADINHO%20II%0A%20%20%20%20%20%20%20%20%20%20%20%20%20%20%20%20%20%3C/div%3E%60%2C%0A%20%20%20%20%20%20%20%20%20%20%20%20%20%20%20%20%7B%22sticky%22%3A%20true%7D%0A%20%20%20%20%20%20%20%20%20%20%20%20%29%3B%0A%20%20%20%20%20%20%20%20%0A%20%20%20%20%0A%20%20%20%20%20%20%20%20%20%20%20%20var%20marker_4108907caece49d68a6a7310738b64c7%20%3D%20L.marker%28%0A%20%20%20%20%20%20%20%20%20%20%20%20%20%20%20%20%5B-15.6458361382578%2C%20-47.8355261858772%5D%2C%0A%20%20%20%20%20%20%20%20%20%20%20%20%20%20%20%20%7B%7D%0A%20%20%20%20%20%20%20%20%20%20%20%20%29.addTo%28feature_group_3345e6ede6214681a3e06aed36ec4d59%29%3B%0A%20%20%20%20%20%20%20%20%0A%20%20%20%20%0A%20%20%20%20%20%20%20%20%20%20%20%20var%20icon_ebb4bf7df5ac422cbe41bc9621d12e78%20%3D%20L.AwesomeMarkers.icon%28%0A%20%20%20%20%20%20%20%20%20%20%20%20%20%20%20%20%7B%22extraClasses%22%3A%20%22fa-rotate-0%22%2C%20%22icon%22%3A%20%22info-sign%22%2C%20%22iconColor%22%3A%20%22white%22%2C%20%22markerColor%22%3A%20%22blue%22%2C%20%22prefix%22%3A%20%22glyphicon%22%7D%0A%20%20%20%20%20%20%20%20%20%20%20%20%29%3B%0A%20%20%20%20%20%20%20%20%20%20%20%20marker_4108907caece49d68a6a7310738b64c7.setIcon%28icon_ebb4bf7df5ac422cbe41bc9621d12e78%29%3B%0A%20%20%20%20%20%20%20%20%0A%20%20%20%20%0A%20%20%20%20%20%20%20%20%20%20%20%20marker_4108907caece49d68a6a7310738b64c7.bindTooltip%28%0A%20%20%20%20%20%20%20%20%20%20%20%20%20%20%20%20%60%3Cdiv%3E%0A%20%20%20%20%20%20%20%20%20%20%20%20%20%20%20%20%20%20%20%20%20UBS%204%20SETOR%20DE%20MANSOES%20SOBRADINHO%20II%0A%20%20%20%20%20%20%20%20%20%20%20%20%20%20%20%20%20%3C/div%3E%60%2C%0A%20%20%20%20%20%20%20%20%20%20%20%20%20%20%20%20%7B%22sticky%22%3A%20true%7D%0A%20%20%20%20%20%20%20%20%20%20%20%20%29%3B%0A%20%20%20%20%20%20%20%20%0A%20%20%20%20%0A%20%20%20%20%20%20%20%20%20%20%20%20var%20marker_94d2903530f94bad8e7066f3ddf43b81%20%3D%20L.marker%28%0A%20%20%20%20%20%20%20%20%20%20%20%20%20%20%20%20%5B-15.6299818515778%2C%20-47.8696502685547%5D%2C%0A%20%20%20%20%20%20%20%20%20%20%20%20%20%20%20%20%7B%7D%0A%20%20%20%20%20%20%20%20%20%20%20%20%29.addTo%28feature_group_3345e6ede6214681a3e06aed36ec4d59%29%3B%0A%20%20%20%20%20%20%20%20%0A%20%20%20%20%0A%20%20%20%20%20%20%20%20%20%20%20%20var%20icon_c688b801884f4817b48e07fc0b28704d%20%3D%20L.AwesomeMarkers.icon%28%0A%20%20%20%20%20%20%20%20%20%20%20%20%20%20%20%20%7B%22extraClasses%22%3A%20%22fa-rotate-0%22%2C%20%22icon%22%3A%20%22info-sign%22%2C%20%22iconColor%22%3A%20%22white%22%2C%20%22markerColor%22%3A%20%22blue%22%2C%20%22prefix%22%3A%20%22glyphicon%22%7D%0A%20%20%20%20%20%20%20%20%20%20%20%20%29%3B%0A%20%20%20%20%20%20%20%20%20%20%20%20marker_94d2903530f94bad8e7066f3ddf43b81.setIcon%28icon_c688b801884f4817b48e07fc0b28704d%29%3B%0A%20%20%20%20%20%20%20%20%0A%20%20%20%20%0A%20%20%20%20%20%20%20%20%20%20%20%20marker_94d2903530f94bad8e7066f3ddf43b81.bindTooltip%28%0A%20%20%20%20%20%20%20%20%20%20%20%20%20%20%20%20%60%3Cdiv%3E%0A%20%20%20%20%20%20%20%20%20%20%20%20%20%20%20%20%20%20%20%20%20UBS%201%20ENGENHO%20VELHO%20FERCAL%0A%20%20%20%20%20%20%20%20%20%20%20%20%20%20%20%20%20%3C/div%3E%60%2C%0A%20%20%20%20%20%20%20%20%20%20%20%20%20%20%20%20%7B%22sticky%22%3A%20true%7D%0A%20%20%20%20%20%20%20%20%20%20%20%20%29%3B%0A%20%20%20%20%20%20%20%20%0A%20%20%20%20%0A%20%20%20%20%20%20%20%20%20%20%20%20var%20marker_e10ad37a4e1b48479581c94b5d7c0036%20%3D%20L.marker%28%0A%20%20%20%20%20%20%20%20%20%20%20%20%20%20%20%20%5B-15.7162546971265%2C%20-47.8264424941119%5D%2C%0A%20%20%20%20%20%20%20%20%20%20%20%20%20%20%20%20%7B%7D%0A%20%20%20%20%20%20%20%20%20%20%20%20%29.addTo%28feature_group_3345e6ede6214681a3e06aed36ec4d59%29%3B%0A%20%20%20%20%20%20%20%20%0A%20%20%20%20%0A%20%20%20%20%20%20%20%20%20%20%20%20var%20icon_18010324cbf74276973b893a4831bfba%20%3D%20L.AwesomeMarkers.icon%28%0A%20%20%20%20%20%20%20%20%20%20%20%20%20%20%20%20%7B%22extraClasses%22%3A%20%22fa-rotate-0%22%2C%20%22icon%22%3A%20%22info-sign%22%2C%20%22iconColor%22%3A%20%22white%22%2C%20%22markerColor%22%3A%20%22blue%22%2C%20%22prefix%22%3A%20%22glyphicon%22%7D%0A%20%20%20%20%20%20%20%20%20%20%20%20%29%3B%0A%20%20%20%20%20%20%20%20%20%20%20%20marker_e10ad37a4e1b48479581c94b5d7c0036.setIcon%28icon_18010324cbf74276973b893a4831bfba%29%3B%0A%20%20%20%20%20%20%20%20%0A%20%20%20%20%0A%20%20%20%20%20%20%20%20%20%20%20%20marker_e10ad37a4e1b48479581c94b5d7c0036.bindTooltip%28%0A%20%20%20%20%20%20%20%20%20%20%20%20%20%20%20%20%60%3Cdiv%3E%0A%20%20%20%20%20%20%20%20%20%20%20%20%20%20%20%20%20%20%20%20%20UBS%203%20PLANALTINA%0A%20%20%20%20%20%20%20%20%20%20%20%20%20%20%20%20%20%3C/div%3E%60%2C%0A%20%20%20%20%20%20%20%20%20%20%20%20%20%20%20%20%7B%22sticky%22%3A%20true%7D%0A%20%20%20%20%20%20%20%20%20%20%20%20%29%3B%0A%20%20%20%20%20%20%20%20%0A%20%20%20%20%0A%20%20%20%20%20%20%20%20%20%20%20%20var%20marker_25e1360f423041db83378bd804d10b34%20%3D%20L.marker%28%0A%20%20%20%20%20%20%20%20%20%20%20%20%20%20%20%20%5B-15.7162546971265%2C%20-47.8264424941119%5D%2C%0A%20%20%20%20%20%20%20%20%20%20%20%20%20%20%20%20%7B%7D%0A%20%20%20%20%20%20%20%20%20%20%20%20%29.addTo%28feature_group_3345e6ede6214681a3e06aed36ec4d59%29%3B%0A%20%20%20%20%20%20%20%20%0A%20%20%20%20%0A%20%20%20%20%20%20%20%20%20%20%20%20var%20icon_6cdc1bb7e4464a2d9563db3ff9934dfb%20%3D%20L.AwesomeMarkers.icon%28%0A%20%20%20%20%20%20%20%20%20%20%20%20%20%20%20%20%7B%22extraClasses%22%3A%20%22fa-rotate-0%22%2C%20%22icon%22%3A%20%22info-sign%22%2C%20%22iconColor%22%3A%20%22white%22%2C%20%22markerColor%22%3A%20%22blue%22%2C%20%22prefix%22%3A%20%22glyphicon%22%7D%0A%20%20%20%20%20%20%20%20%20%20%20%20%29%3B%0A%20%20%20%20%20%20%20%20%20%20%20%20marker_25e1360f423041db83378bd804d10b34.setIcon%28icon_6cdc1bb7e4464a2d9563db3ff9934dfb%29%3B%0A%20%20%20%20%20%20%20%20%0A%20%20%20%20%0A%20%20%20%20%20%20%20%20%20%20%20%20marker_25e1360f423041db83378bd804d10b34.bindTooltip%28%0A%20%20%20%20%20%20%20%20%20%20%20%20%20%20%20%20%60%3Cdiv%3E%0A%20%20%20%20%20%20%20%20%20%20%20%20%20%20%20%20%20%20%20%20%20HRPL%0A%20%20%20%20%20%20%20%20%20%20%20%20%20%20%20%20%20%3C/div%3E%60%2C%0A%20%20%20%20%20%20%20%20%20%20%20%20%20%20%20%20%7B%22sticky%22%3A%20true%7D%0A%20%20%20%20%20%20%20%20%20%20%20%20%29%3B%0A%20%20%20%20%20%20%20%20%0A%20%20%20%20%0A%20%20%20%20%20%20%20%20%20%20%20%20var%20marker_31ccd08d9fe34684a718536f4c0388ce%20%3D%20L.marker%28%0A%20%20%20%20%20%20%20%20%20%20%20%20%20%20%20%20%5B-15.7162546971265%2C%20-47.8264424941119%5D%2C%0A%20%20%20%20%20%20%20%20%20%20%20%20%20%20%20%20%7B%7D%0A%20%20%20%20%20%20%20%20%20%20%20%20%29.addTo%28feature_group_3345e6ede6214681a3e06aed36ec4d59%29%3B%0A%20%20%20%20%20%20%20%20%0A%20%20%20%20%0A%20%20%20%20%20%20%20%20%20%20%20%20var%20icon_31791c556e1749a8a3fbf4bb39f74087%20%3D%20L.AwesomeMarkers.icon%28%0A%20%20%20%20%20%20%20%20%20%20%20%20%20%20%20%20%7B%22extraClasses%22%3A%20%22fa-rotate-0%22%2C%20%22icon%22%3A%20%22info-sign%22%2C%20%22iconColor%22%3A%20%22white%22%2C%20%22markerColor%22%3A%20%22blue%22%2C%20%22prefix%22%3A%20%22glyphicon%22%7D%0A%20%20%20%20%20%20%20%20%20%20%20%20%29%3B%0A%20%20%20%20%20%20%20%20%20%20%20%20marker_31ccd08d9fe34684a718536f4c0388ce.setIcon%28icon_31791c556e1749a8a3fbf4bb39f74087%29%3B%0A%20%20%20%20%20%20%20%20%0A%20%20%20%20%0A%20%20%20%20%20%20%20%20%20%20%20%20marker_31ccd08d9fe34684a718536f4c0388ce.bindTooltip%28%0A%20%20%20%20%20%20%20%20%20%20%20%20%20%20%20%20%60%3Cdiv%3E%0A%20%20%20%20%20%20%20%20%20%20%20%20%20%20%20%20%20%20%20%20%20UBS%2020%20PLANALTINA%0A%20%20%20%20%20%20%20%20%20%20%20%20%20%20%20%20%20%3C/div%3E%60%2C%0A%20%20%20%20%20%20%20%20%20%20%20%20%20%20%20%20%7B%22sticky%22%3A%20true%7D%0A%20%20%20%20%20%20%20%20%20%20%20%20%29%3B%0A%20%20%20%20%20%20%20%20%0A%20%20%20%20%0A%20%20%20%20%20%20%20%20%20%20%20%20var%20marker_7654990e1ede47b189c168e2e9a161be%20%3D%20L.marker%28%0A%20%20%20%20%20%20%20%20%20%20%20%20%20%20%20%20%5B-15.7490752375403%2C%20-47.8501003176667%5D%2C%0A%20%20%20%20%20%20%20%20%20%20%20%20%20%20%20%20%7B%7D%0A%20%20%20%20%20%20%20%20%20%20%20%20%29.addTo%28feature_group_3345e6ede6214681a3e06aed36ec4d59%29%3B%0A%20%20%20%20%20%20%20%20%0A%20%20%20%20%0A%20%20%20%20%20%20%20%20%20%20%20%20var%20icon_8bdd1d496b4a446fafaa18aa480e2536%20%3D%20L.AwesomeMarkers.icon%28%0A%20%20%20%20%20%20%20%20%20%20%20%20%20%20%20%20%7B%22extraClasses%22%3A%20%22fa-rotate-0%22%2C%20%22icon%22%3A%20%22info-sign%22%2C%20%22iconColor%22%3A%20%22white%22%2C%20%22markerColor%22%3A%20%22blue%22%2C%20%22prefix%22%3A%20%22glyphicon%22%7D%0A%20%20%20%20%20%20%20%20%20%20%20%20%29%3B%0A%20%20%20%20%20%20%20%20%20%20%20%20marker_7654990e1ede47b189c168e2e9a161be.setIcon%28icon_8bdd1d496b4a446fafaa18aa480e2536%29%3B%0A%20%20%20%20%20%20%20%20%0A%20%20%20%20%0A%20%20%20%20%20%20%20%20%20%20%20%20marker_7654990e1ede47b189c168e2e9a161be.bindTooltip%28%0A%20%20%20%20%20%20%20%20%20%20%20%20%20%20%20%20%60%3Cdiv%3E%0A%20%20%20%20%20%20%20%20%20%20%20%20%20%20%20%20%20%20%20%20%20UBS%205%20PLANALTINA%0A%20%20%20%20%20%20%20%20%20%20%20%20%20%20%20%20%20%3C/div%3E%60%2C%0A%20%20%20%20%20%20%20%20%20%20%20%20%20%20%20%20%7B%22sticky%22%3A%20true%7D%0A%20%20%20%20%20%20%20%20%20%20%20%20%29%3B%0A%20%20%20%20%20%20%20%20%0A%20%20%20%20%0A%20%20%20%20%20%20%20%20%20%20%20%20var%20marker_3b7a3b9e72eb435abcc354bd84c38dba%20%3D%20L.marker%28%0A%20%20%20%20%20%20%20%20%20%20%20%20%20%20%20%20%5B-15.7068990006739%2C%20-47.8499634801125%5D%2C%0A%20%20%20%20%20%20%20%20%20%20%20%20%20%20%20%20%7B%7D%0A%20%20%20%20%20%20%20%20%20%20%20%20%29.addTo%28feature_group_3345e6ede6214681a3e06aed36ec4d59%29%3B%0A%20%20%20%20%20%20%20%20%0A%20%20%20%20%0A%20%20%20%20%20%20%20%20%20%20%20%20var%20icon_254c9166f5784e06b4cea12f0f2ce877%20%3D%20L.AwesomeMarkers.icon%28%0A%20%20%20%20%20%20%20%20%20%20%20%20%20%20%20%20%7B%22extraClasses%22%3A%20%22fa-rotate-0%22%2C%20%22icon%22%3A%20%22info-sign%22%2C%20%22iconColor%22%3A%20%22white%22%2C%20%22markerColor%22%3A%20%22blue%22%2C%20%22prefix%22%3A%20%22glyphicon%22%7D%0A%20%20%20%20%20%20%20%20%20%20%20%20%29%3B%0A%20%20%20%20%20%20%20%20%20%20%20%20marker_3b7a3b9e72eb435abcc354bd84c38dba.setIcon%28icon_254c9166f5784e06b4cea12f0f2ce877%29%3B%0A%20%20%20%20%20%20%20%20%0A%20%20%20%20%0A%20%20%20%20%20%20%20%20%20%20%20%20marker_3b7a3b9e72eb435abcc354bd84c38dba.bindTooltip%28%0A%20%20%20%20%20%20%20%20%20%20%20%20%20%20%20%20%60%3Cdiv%3E%0A%20%20%20%20%20%20%20%20%20%20%20%20%20%20%20%20%20%20%20%20%20UBS%204%20PLANALTINA%0A%20%20%20%20%20%20%20%20%20%20%20%20%20%20%20%20%20%3C/div%3E%60%2C%0A%20%20%20%20%20%20%20%20%20%20%20%20%20%20%20%20%7B%22sticky%22%3A%20true%7D%0A%20%20%20%20%20%20%20%20%20%20%20%20%29%3B%0A%20%20%20%20%20%20%20%20%0A%20%20%20%20%0A%20%20%20%20%20%20%20%20%20%20%20%20var%20marker_415fe17e0cd348079cc76d8c2e6c9b5a%20%3D%20L.marker%28%0A%20%20%20%20%20%20%20%20%20%20%20%20%20%20%20%20%5B-15.7986259460449%2C%20-47.8854904174805%5D%2C%0A%20%20%20%20%20%20%20%20%20%20%20%20%20%20%20%20%7B%7D%0A%20%20%20%20%20%20%20%20%20%20%20%20%29.addTo%28feature_group_3345e6ede6214681a3e06aed36ec4d59%29%3B%0A%20%20%20%20%20%20%20%20%0A%20%20%20%20%0A%20%20%20%20%20%20%20%20%20%20%20%20var%20icon_360d6d91b72241c5a49be1f705e62761%20%3D%20L.AwesomeMarkers.icon%28%0A%20%20%20%20%20%20%20%20%20%20%20%20%20%20%20%20%7B%22extraClasses%22%3A%20%22fa-rotate-0%22%2C%20%22icon%22%3A%20%22info-sign%22%2C%20%22iconColor%22%3A%20%22white%22%2C%20%22markerColor%22%3A%20%22blue%22%2C%20%22prefix%22%3A%20%22glyphicon%22%7D%0A%20%20%20%20%20%20%20%20%20%20%20%20%29%3B%0A%20%20%20%20%20%20%20%20%20%20%20%20marker_415fe17e0cd348079cc76d8c2e6c9b5a.setIcon%28icon_360d6d91b72241c5a49be1f705e62761%29%3B%0A%20%20%20%20%20%20%20%20%0A%20%20%20%20%0A%20%20%20%20%20%20%20%20%20%20%20%20marker_415fe17e0cd348079cc76d8c2e6c9b5a.bindTooltip%28%0A%20%20%20%20%20%20%20%20%20%20%20%20%20%20%20%20%60%3Cdiv%3E%0A%20%20%20%20%20%20%20%20%20%20%20%20%20%20%20%20%20%20%20%20%20HOSPITAL%20UNIVERSITARIO%20DE%20BRASILIA%0A%20%20%20%20%20%20%20%20%20%20%20%20%20%20%20%20%20%3C/div%3E%60%2C%0A%20%20%20%20%20%20%20%20%20%20%20%20%20%20%20%20%7B%22sticky%22%3A%20true%7D%0A%20%20%20%20%20%20%20%20%20%20%20%20%29%3B%0A%20%20%20%20%20%20%20%20%0A%20%20%20%20%0A%20%20%20%20%20%20%20%20%20%20%20%20var%20marker_495bb01f9cb948b08a6b771dba0a112c%20%3D%20L.marker%28%0A%20%20%20%20%20%20%20%20%20%20%20%20%20%20%20%20%5B-15.7986259460449%2C%20-47.8854904174805%5D%2C%0A%20%20%20%20%20%20%20%20%20%20%20%20%20%20%20%20%7B%7D%0A%20%20%20%20%20%20%20%20%20%20%20%20%29.addTo%28feature_group_3345e6ede6214681a3e06aed36ec4d59%29%3B%0A%20%20%20%20%20%20%20%20%0A%20%20%20%20%0A%20%20%20%20%20%20%20%20%20%20%20%20var%20icon_ac4be2a264984ac7a7cb5a269e13c97a%20%3D%20L.AwesomeMarkers.icon%28%0A%20%20%20%20%20%20%20%20%20%20%20%20%20%20%20%20%7B%22extraClasses%22%3A%20%22fa-rotate-0%22%2C%20%22icon%22%3A%20%22info-sign%22%2C%20%22iconColor%22%3A%20%22white%22%2C%20%22markerColor%22%3A%20%22blue%22%2C%20%22prefix%22%3A%20%22glyphicon%22%7D%0A%20%20%20%20%20%20%20%20%20%20%20%20%29%3B%0A%20%20%20%20%20%20%20%20%20%20%20%20marker_495bb01f9cb948b08a6b771dba0a112c.setIcon%28icon_ac4be2a264984ac7a7cb5a269e13c97a%29%3B%0A%20%20%20%20%20%20%20%20%0A%20%20%20%20%0A%20%20%20%20%20%20%20%20%20%20%20%20marker_495bb01f9cb948b08a6b771dba0a112c.bindTooltip%28%0A%20%20%20%20%20%20%20%20%20%20%20%20%20%20%20%20%60%3Cdiv%3E%0A%20%20%20%20%20%20%20%20%20%20%20%20%20%20%20%20%20%20%20%20%20HOSPITAL%20NAVAL%20DE%20BRASILIA%0A%20%20%20%20%20%20%20%20%20%20%20%20%20%20%20%20%20%3C/div%3E%60%2C%0A%20%20%20%20%20%20%20%20%20%20%20%20%20%20%20%20%7B%22sticky%22%3A%20true%7D%0A%20%20%20%20%20%20%20%20%20%20%20%20%29%3B%0A%20%20%20%20%20%20%20%20%0A%20%20%20%20%0A%20%20%20%20%20%20%20%20%20%20%20%20var%20marker_a3d1eb2cbf5c4099989c67984f359b91%20%3D%20L.marker%28%0A%20%20%20%20%20%20%20%20%20%20%20%20%20%20%20%20%5B-15.7890137734814%2C%20-47.9387939667033%5D%2C%0A%20%20%20%20%20%20%20%20%20%20%20%20%20%20%20%20%7B%7D%0A%20%20%20%20%20%20%20%20%20%20%20%20%29.addTo%28feature_group_3345e6ede6214681a3e06aed36ec4d59%29%3B%0A%20%20%20%20%20%20%20%20%0A%20%20%20%20%0A%20%20%20%20%20%20%20%20%20%20%20%20var%20icon_0ddba9ba94e54bcfaa90408c75ec20ad%20%3D%20L.AwesomeMarkers.icon%28%0A%20%20%20%20%20%20%20%20%20%20%20%20%20%20%20%20%7B%22extraClasses%22%3A%20%22fa-rotate-0%22%2C%20%22icon%22%3A%20%22info-sign%22%2C%20%22iconColor%22%3A%20%22white%22%2C%20%22markerColor%22%3A%20%22blue%22%2C%20%22prefix%22%3A%20%22glyphicon%22%7D%0A%20%20%20%20%20%20%20%20%20%20%20%20%29%3B%0A%20%20%20%20%20%20%20%20%20%20%20%20marker_a3d1eb2cbf5c4099989c67984f359b91.setIcon%28icon_0ddba9ba94e54bcfaa90408c75ec20ad%29%3B%0A%20%20%20%20%20%20%20%20%0A%20%20%20%20%0A%20%20%20%20%20%20%20%20%20%20%20%20marker_a3d1eb2cbf5c4099989c67984f359b91.bindTooltip%28%0A%20%20%20%20%20%20%20%20%20%20%20%20%20%20%20%20%60%3Cdiv%3E%0A%20%20%20%20%20%20%20%20%20%20%20%20%20%20%20%20%20%20%20%20%20HOSPITAL%20MILITAR%20DE%20AREA%20DE%20BRASILIA%0A%20%20%20%20%20%20%20%20%20%20%20%20%20%20%20%20%20%3C/div%3E%60%2C%0A%20%20%20%20%20%20%20%20%20%20%20%20%20%20%20%20%7B%22sticky%22%3A%20true%7D%0A%20%20%20%20%20%20%20%20%20%20%20%20%29%3B%0A%20%20%20%20%20%20%20%20%0A%20%20%20%20%0A%20%20%20%20%20%20%20%20%20%20%20%20var%20marker_6bed596f2a8c4eafafce9075a250261f%20%3D%20L.marker%28%0A%20%20%20%20%20%20%20%20%20%20%20%20%20%20%20%20%5B-15.7894018982093%2C%20-47.9296400060204%5D%2C%0A%20%20%20%20%20%20%20%20%20%20%20%20%20%20%20%20%7B%7D%0A%20%20%20%20%20%20%20%20%20%20%20%20%29.addTo%28feature_group_3345e6ede6214681a3e06aed36ec4d59%29%3B%0A%20%20%20%20%20%20%20%20%0A%20%20%20%20%0A%20%20%20%20%20%20%20%20%20%20%20%20var%20icon_8bc858aaa9de40cdb8b1ec6fdf81eeff%20%3D%20L.AwesomeMarkers.icon%28%0A%20%20%20%20%20%20%20%20%20%20%20%20%20%20%20%20%7B%22extraClasses%22%3A%20%22fa-rotate-0%22%2C%20%22icon%22%3A%20%22info-sign%22%2C%20%22iconColor%22%3A%20%22white%22%2C%20%22markerColor%22%3A%20%22blue%22%2C%20%22prefix%22%3A%20%22glyphicon%22%7D%0A%20%20%20%20%20%20%20%20%20%20%20%20%29%3B%0A%20%20%20%20%20%20%20%20%20%20%20%20marker_6bed596f2a8c4eafafce9075a250261f.setIcon%28icon_8bc858aaa9de40cdb8b1ec6fdf81eeff%29%3B%0A%20%20%20%20%20%20%20%20%0A%20%20%20%20%0A%20%20%20%20%20%20%20%20%20%20%20%20marker_6bed596f2a8c4eafafce9075a250261f.bindTooltip%28%0A%20%20%20%20%20%20%20%20%20%20%20%20%20%20%20%20%60%3Cdiv%3E%0A%20%20%20%20%20%20%20%20%20%20%20%20%20%20%20%20%20%20%20%20%20HFA%0A%20%20%20%20%20%20%20%20%20%20%20%20%20%20%20%20%20%3C/div%3E%60%2C%0A%20%20%20%20%20%20%20%20%20%20%20%20%20%20%20%20%7B%22sticky%22%3A%20true%7D%0A%20%20%20%20%20%20%20%20%20%20%20%20%29%3B%0A%20%20%20%20%20%20%20%20%0A%20%20%20%20%0A%20%20%20%20%20%20%20%20%20%20%20%20var%20marker_15f9797c85374337a089dc12d6f16840%20%3D%20L.marker%28%0A%20%20%20%20%20%20%20%20%20%20%20%20%20%20%20%20%5B-15.8715286254883%2C%20-47.9052906036377%5D%2C%0A%20%20%20%20%20%20%20%20%20%20%20%20%20%20%20%20%7B%7D%0A%20%20%20%20%20%20%20%20%20%20%20%20%29.addTo%28feature_group_3345e6ede6214681a3e06aed36ec4d59%29%3B%0A%20%20%20%20%20%20%20%20%0A%20%20%20%20%0A%20%20%20%20%20%20%20%20%20%20%20%20var%20icon_5cf9032d1a5a4189888f4d6824d5eabc%20%3D%20L.AwesomeMarkers.icon%28%0A%20%20%20%20%20%20%20%20%20%20%20%20%20%20%20%20%7B%22extraClasses%22%3A%20%22fa-rotate-0%22%2C%20%22icon%22%3A%20%22info-sign%22%2C%20%22iconColor%22%3A%20%22white%22%2C%20%22markerColor%22%3A%20%22blue%22%2C%20%22prefix%22%3A%20%22glyphicon%22%7D%0A%20%20%20%20%20%20%20%20%20%20%20%20%29%3B%0A%20%20%20%20%20%20%20%20%20%20%20%20marker_15f9797c85374337a089dc12d6f16840.setIcon%28icon_5cf9032d1a5a4189888f4d6824d5eabc%29%3B%0A%20%20%20%20%20%20%20%20%0A%20%20%20%20%0A%20%20%20%20%20%20%20%20%20%20%20%20marker_15f9797c85374337a089dc12d6f16840.bindTooltip%28%0A%20%20%20%20%20%20%20%20%20%20%20%20%20%20%20%20%60%3Cdiv%3E%0A%20%20%20%20%20%20%20%20%20%20%20%20%20%20%20%20%20%20%20%20%20HOSPITAL%20DE%20FORCA%20AEREA%20DE%20BRASILIA%20HFAB%0A%20%20%20%20%20%20%20%20%20%20%20%20%20%20%20%20%20%3C/div%3E%60%2C%0A%20%20%20%20%20%20%20%20%20%20%20%20%20%20%20%20%7B%22sticky%22%3A%20true%7D%0A%20%20%20%20%20%20%20%20%20%20%20%20%29%3B%0A%20%20%20%20%20%20%20%20%0A%20%20%20%20%0A%20%20%20%20%20%20%20%20%20%20%20%20var%20marker_f44cfbb203974944825d6a96c4a4bfe3%20%3D%20L.marker%28%0A%20%20%20%20%20%20%20%20%20%20%20%20%20%20%20%20%5B-15.8004236221313%2C%20-47.8894488016764%5D%2C%0A%20%20%20%20%20%20%20%20%20%20%20%20%20%20%20%20%7B%7D%0A%20%20%20%20%20%20%20%20%20%20%20%20%29.addTo%28feature_group_3345e6ede6214681a3e06aed36ec4d59%29%3B%0A%20%20%20%20%20%20%20%20%0A%20%20%20%20%0A%20%20%20%20%20%20%20%20%20%20%20%20var%20icon_6a177cc912fe44a98bb71c1e98266c9b%20%3D%20L.AwesomeMarkers.icon%28%0A%20%20%20%20%20%20%20%20%20%20%20%20%20%20%20%20%7B%22extraClasses%22%3A%20%22fa-rotate-0%22%2C%20%22icon%22%3A%20%22info-sign%22%2C%20%22iconColor%22%3A%20%22white%22%2C%20%22markerColor%22%3A%20%22blue%22%2C%20%22prefix%22%3A%20%22glyphicon%22%7D%0A%20%20%20%20%20%20%20%20%20%20%20%20%29%3B%0A%20%20%20%20%20%20%20%20%20%20%20%20marker_f44cfbb203974944825d6a96c4a4bfe3.setIcon%28icon_6a177cc912fe44a98bb71c1e98266c9b%29%3B%0A%20%20%20%20%20%20%20%20%0A%20%20%20%20%0A%20%20%20%20%20%20%20%20%20%20%20%20marker_f44cfbb203974944825d6a96c4a4bfe3.bindTooltip%28%0A%20%20%20%20%20%20%20%20%20%20%20%20%20%20%20%20%60%3Cdiv%3E%0A%20%20%20%20%20%20%20%20%20%20%20%20%20%20%20%20%20%20%20%20%20HOSPITAL%20DE%20BASE%20DO%20DISTRITO%20FEDERAL%0A%20%20%20%20%20%20%20%20%20%20%20%20%20%20%20%20%20%3C/div%3E%60%2C%0A%20%20%20%20%20%20%20%20%20%20%20%20%20%20%20%20%7B%22sticky%22%3A%20true%7D%0A%20%20%20%20%20%20%20%20%20%20%20%20%29%3B%0A%20%20%20%20%20%20%20%20%0A%20%20%20%20%0A%20%20%20%20%20%20%20%20%20%20%20%20var%20marker_64494efb174741b5b5c1afd7a1de0c24%20%3D%20L.marker%28%0A%20%20%20%20%20%20%20%20%20%20%20%20%20%20%20%20%5B-16.0186676806714%2C%20-48.0180818029197%5D%2C%0A%20%20%20%20%20%20%20%20%20%20%20%20%20%20%20%20%7B%7D%0A%20%20%20%20%20%20%20%20%20%20%20%20%29.addTo%28feature_group_3345e6ede6214681a3e06aed36ec4d59%29%3B%0A%20%20%20%20%20%20%20%20%0A%20%20%20%20%0A%20%20%20%20%20%20%20%20%20%20%20%20var%20icon_e252f7b63c48407d84c33433010596ec%20%3D%20L.AwesomeMarkers.icon%28%0A%20%20%20%20%20%20%20%20%20%20%20%20%20%20%20%20%7B%22extraClasses%22%3A%20%22fa-rotate-0%22%2C%20%22icon%22%3A%20%22info-sign%22%2C%20%22iconColor%22%3A%20%22white%22%2C%20%22markerColor%22%3A%20%22blue%22%2C%20%22prefix%22%3A%20%22glyphicon%22%7D%0A%20%20%20%20%20%20%20%20%20%20%20%20%29%3B%0A%20%20%20%20%20%20%20%20%20%20%20%20marker_64494efb174741b5b5c1afd7a1de0c24.setIcon%28icon_e252f7b63c48407d84c33433010596ec%29%3B%0A%20%20%20%20%20%20%20%20%0A%20%20%20%20%0A%20%20%20%20%20%20%20%20%20%20%20%20marker_64494efb174741b5b5c1afd7a1de0c24.bindTooltip%28%0A%20%20%20%20%20%20%20%20%20%20%20%20%20%20%20%20%60%3Cdiv%3E%0A%20%20%20%20%20%20%20%20%20%20%20%20%20%20%20%20%20%20%20%20%20HRSM%0A%20%20%20%20%20%20%20%20%20%20%20%20%20%20%20%20%20%3C/div%3E%60%2C%0A%20%20%20%20%20%20%20%20%20%20%20%20%20%20%20%20%7B%22sticky%22%3A%20true%7D%0A%20%20%20%20%20%20%20%20%20%20%20%20%29%3B%0A%20%20%20%20%20%20%20%20%0A%20%20%20%20%0A%20%20%20%20%20%20%20%20%20%20%20%20var%20marker_0d06582fe26e40849b1e60e16d12c76f%20%3D%20L.marker%28%0A%20%20%20%20%20%20%20%20%20%20%20%20%20%20%20%20%5B-15.6859747079703%2C%20-47.9080584599422%5D%2C%0A%20%20%20%20%20%20%20%20%20%20%20%20%20%20%20%20%7B%7D%0A%20%20%20%20%20%20%20%20%20%20%20%20%29.addTo%28feature_group_3345e6ede6214681a3e06aed36ec4d59%29%3B%0A%20%20%20%20%20%20%20%20%0A%20%20%20%20%0A%20%20%20%20%20%20%20%20%20%20%20%20var%20icon_1a52a53408b1403ca15a20dfb1daaa59%20%3D%20L.AwesomeMarkers.icon%28%0A%20%20%20%20%20%20%20%20%20%20%20%20%20%20%20%20%7B%22extraClasses%22%3A%20%22fa-rotate-0%22%2C%20%22icon%22%3A%20%22info-sign%22%2C%20%22iconColor%22%3A%20%22white%22%2C%20%22markerColor%22%3A%20%22blue%22%2C%20%22prefix%22%3A%20%22glyphicon%22%7D%0A%20%20%20%20%20%20%20%20%20%20%20%20%29%3B%0A%20%20%20%20%20%20%20%20%20%20%20%20marker_0d06582fe26e40849b1e60e16d12c76f.setIcon%28icon_1a52a53408b1403ca15a20dfb1daaa59%29%3B%0A%20%20%20%20%20%20%20%20%0A%20%20%20%20%0A%20%20%20%20%20%20%20%20%20%20%20%20marker_0d06582fe26e40849b1e60e16d12c76f.bindTooltip%28%0A%20%20%20%20%20%20%20%20%20%20%20%20%20%20%20%20%60%3Cdiv%3E%0A%20%20%20%20%20%20%20%20%20%20%20%20%20%20%20%20%20%20%20%20%20HRS%0A%20%20%20%20%20%20%20%20%20%20%20%20%20%20%20%20%20%3C/div%3E%60%2C%0A%20%20%20%20%20%20%20%20%20%20%20%20%20%20%20%20%7B%22sticky%22%3A%20true%7D%0A%20%20%20%20%20%20%20%20%20%20%20%20%29%3B%0A%20%20%20%20%20%20%20%20%0A%20%20%20%20%0A%20%20%20%20%20%20%20%20%20%20%20%20var%20measure_control_47ded1da38ed48eb88c422985f40c00e%20%3D%20new%20L.Control.Measure%28%0A%20%20%20%20%20%20%20%20%20%20%20%20%20%20%20%20%7B%22position%22%3A%20%22topright%22%2C%20%22primaryAreaUnit%22%3A%20%22sqmeters%22%2C%20%22primaryLengthUnit%22%3A%20%22meters%22%2C%20%22secondaryAreaUnit%22%3A%20%22acres%22%2C%20%22secondaryLengthUnit%22%3A%20%22miles%22%7D%29%3B%0A%20%20%20%20%20%20%20%20%20%20%20%20map_546fe9d908d34ccf8de53fdfb908e87a.addControl%28measure_control_47ded1da38ed48eb88c422985f40c00e%29%3B%0A%0A%20%20%20%20%20%20%20%20%0A%20%20%20%20%0A%20%20%20%20%20%20%20%20%20%20%20%20%20%20%20%20var%20lat_lng_popup_2effdc1d8a734d768e8e69802f02a26a%20%3D%20L.popup%28%29%3B%0A%20%20%20%20%20%20%20%20%20%20%20%20%20%20%20%20function%20latLngPop%28e%29%20%7B%0A%20%20%20%20%20%20%20%20%20%20%20%20%20%20%20%20%20%20%20%20lat_lng_popup_2effdc1d8a734d768e8e69802f02a26a%0A%20%20%20%20%20%20%20%20%20%20%20%20%20%20%20%20%20%20%20%20%20%20%20%20.setLatLng%28e.latlng%29%0A%20%20%20%20%20%20%20%20%20%20%20%20%20%20%20%20%20%20%20%20%20%20%20%20.setContent%28%22Latitude%3A%20%22%20%2B%20e.latlng.lat.toFixed%284%29%20%2B%0A%20%20%20%20%20%20%20%20%20%20%20%20%20%20%20%20%20%20%20%20%20%20%20%20%20%20%20%20%20%20%20%20%20%20%20%20%22%3Cbr%3ELongitude%3A%20%22%20%2B%20e.latlng.lng.toFixed%284%29%29%0A%20%20%20%20%20%20%20%20%20%20%20%20%20%20%20%20%20%20%20%20%20%20%20%20.openOn%28map_546fe9d908d34ccf8de53fdfb908e87a%29%3B%0A%20%20%20%20%20%20%20%20%20%20%20%20%20%20%20%20%20%20%20%20%7D%0A%20%20%20%20%20%20%20%20%20%20%20%20%20%20%20%20map_546fe9d908d34ccf8de53fdfb908e87a.on%28%27click%27%2C%20latLngPop%29%3B%0A%20%20%20%20%20%20%20%20%20%20%20%20%0A%20%20%20%20%0A%20%20%20%20%20%20%20%20%20%20%20%20var%20layer_control_98c81bb19b044bc18cf83b2aca62f548%20%3D%20%7B%0A%20%20%20%20%20%20%20%20%20%20%20%20%20%20%20%20base_layers%20%3A%20%7B%0A%20%20%20%20%20%20%20%20%20%20%20%20%20%20%20%20%20%20%20%20%22openstreetmap%22%20%3A%20tile_layer_8bf206cde75a46398fa8594ff4c42648%2C%0A%20%20%20%20%20%20%20%20%20%20%20%20%20%20%20%20%7D%2C%0A%20%20%20%20%20%20%20%20%20%20%20%20%20%20%20%20overlays%20%3A%20%20%7B%0A%20%20%20%20%20%20%20%20%20%20%20%20%20%20%20%20%20%20%20%20%22UBS%20DF%20-%20Pontos%20de%20vacina%5Cu00e7%5Cu00e3o%20Covid-19%22%20%3A%20feature_group_3345e6ede6214681a3e06aed36ec4d59%2C%0A%20%20%20%20%20%20%20%20%20%20%20%20%20%20%20%20%7D%2C%0A%20%20%20%20%20%20%20%20%20%20%20%20%7D%3B%0A%20%20%20%20%20%20%20%20%20%20%20%20L.control.layers%28%0A%20%20%20%20%20%20%20%20%20%20%20%20%20%20%20%20layer_control_98c81bb19b044bc18cf83b2aca62f548.base_layers%2C%0A%20%20%20%20%20%20%20%20%20%20%20%20%20%20%20%20layer_control_98c81bb19b044bc18cf83b2aca62f548.overlays%2C%0A%20%20%20%20%20%20%20%20%20%20%20%20%20%20%20%20%7B%22autoZIndex%22%3A%20true%2C%20%22collapsed%22%3A%20true%2C%20%22position%22%3A%20%22topright%22%7D%0A%20%20%20%20%20%20%20%20%20%20%20%20%29.addTo%28map_546fe9d908d34ccf8de53fdfb908e87a%29%3B%0A%20%20%20%20%20%20%20%20%0A%3C/script%3E onload=\"this.contentDocument.open();this.contentDocument.write(    decodeURIComponent(this.getAttribute('data-html')));this.contentDocument.close();\" allowfullscreen webkitallowfullscreen mozallowfullscreen></iframe></div></div>"
      ]
     },
     "metadata": {},
     "execution_count": 19
    }
   ],
   "metadata": {}
  },
  {
   "cell_type": "code",
   "execution_count": 20,
   "source": [
    "# Dataframe da tbl de vacinação no Brasil do primeiro periodo\n",
    "\n",
    "dfVacinacao1p = pd.read_sql_query('SELECT * FROM \"vwPrimeiroPeriodo\"', postgreSQLConnection)\n",
    "dfVacinacao1p.head()"
   ],
   "outputs": [
    {
     "output_type": "execute_result",
     "data": {
      "text/plain": [
       "   paciente_id  id_estabelecimento data_aplicacao  dose_declarada\n",
       "0      9082067             4024966     2021-03-25             1.0\n",
       "1      9082041             9045023     2021-02-11             1.0\n",
       "2      9082041             9045023     2021-03-11             2.0\n",
       "3      9082042             2261413     2021-03-01             1.0\n",
       "4      9082043             5709512     2021-03-28             1.0"
      ],
      "text/html": [
       "<div>\n",
       "<style scoped>\n",
       "    .dataframe tbody tr th:only-of-type {\n",
       "        vertical-align: middle;\n",
       "    }\n",
       "\n",
       "    .dataframe tbody tr th {\n",
       "        vertical-align: top;\n",
       "    }\n",
       "\n",
       "    .dataframe thead th {\n",
       "        text-align: right;\n",
       "    }\n",
       "</style>\n",
       "<table border=\"1\" class=\"dataframe\">\n",
       "  <thead>\n",
       "    <tr style=\"text-align: right;\">\n",
       "      <th></th>\n",
       "      <th>paciente_id</th>\n",
       "      <th>id_estabelecimento</th>\n",
       "      <th>data_aplicacao</th>\n",
       "      <th>dose_declarada</th>\n",
       "    </tr>\n",
       "  </thead>\n",
       "  <tbody>\n",
       "    <tr>\n",
       "      <th>0</th>\n",
       "      <td>9082067</td>\n",
       "      <td>4024966</td>\n",
       "      <td>2021-03-25</td>\n",
       "      <td>1.0</td>\n",
       "    </tr>\n",
       "    <tr>\n",
       "      <th>1</th>\n",
       "      <td>9082041</td>\n",
       "      <td>9045023</td>\n",
       "      <td>2021-02-11</td>\n",
       "      <td>1.0</td>\n",
       "    </tr>\n",
       "    <tr>\n",
       "      <th>2</th>\n",
       "      <td>9082041</td>\n",
       "      <td>9045023</td>\n",
       "      <td>2021-03-11</td>\n",
       "      <td>2.0</td>\n",
       "    </tr>\n",
       "    <tr>\n",
       "      <th>3</th>\n",
       "      <td>9082042</td>\n",
       "      <td>2261413</td>\n",
       "      <td>2021-03-01</td>\n",
       "      <td>1.0</td>\n",
       "    </tr>\n",
       "    <tr>\n",
       "      <th>4</th>\n",
       "      <td>9082043</td>\n",
       "      <td>5709512</td>\n",
       "      <td>2021-03-28</td>\n",
       "      <td>1.0</td>\n",
       "    </tr>\n",
       "  </tbody>\n",
       "</table>\n",
       "</div>"
      ]
     },
     "metadata": {},
     "execution_count": 20
    }
   ],
   "metadata": {}
  },
  {
   "cell_type": "code",
   "execution_count": 21,
   "source": [
    "dfVacinacao1p.shape"
   ],
   "outputs": [
    {
     "output_type": "execute_result",
     "data": {
      "text/plain": [
       "(26820139, 4)"
      ]
     },
     "metadata": {},
     "execution_count": 21
    }
   ],
   "metadata": {}
  },
  {
   "cell_type": "code",
   "execution_count": 22,
   "source": [
    "# Dataframe da tbl de vacinação no Brasil no segundo periodo\n",
    "dfVacinacao2p = pd.read_sql_query('SELECT * FROM \"vwSegundoPeriodo\"', postgreSQLConnection)\n",
    "dfVacinacao2p.head()"
   ],
   "outputs": [
    {
     "output_type": "execute_result",
     "data": {
      "text/plain": [
       "   paciente_id  id_estabelecimento data_aplicacao  dose_declarada\n",
       "0      9082067             4024966     2021-04-26             2.0\n",
       "1      9082043               17027     2021-04-19             2.0\n",
       "2      9082045             7911076     2021-05-10             2.0\n",
       "3      9082046             4049977     2021-05-12             1.0\n",
       "4      9082051             2297213     2021-05-03             2.0"
      ],
      "text/html": [
       "<div>\n",
       "<style scoped>\n",
       "    .dataframe tbody tr th:only-of-type {\n",
       "        vertical-align: middle;\n",
       "    }\n",
       "\n",
       "    .dataframe tbody tr th {\n",
       "        vertical-align: top;\n",
       "    }\n",
       "\n",
       "    .dataframe thead th {\n",
       "        text-align: right;\n",
       "    }\n",
       "</style>\n",
       "<table border=\"1\" class=\"dataframe\">\n",
       "  <thead>\n",
       "    <tr style=\"text-align: right;\">\n",
       "      <th></th>\n",
       "      <th>paciente_id</th>\n",
       "      <th>id_estabelecimento</th>\n",
       "      <th>data_aplicacao</th>\n",
       "      <th>dose_declarada</th>\n",
       "    </tr>\n",
       "  </thead>\n",
       "  <tbody>\n",
       "    <tr>\n",
       "      <th>0</th>\n",
       "      <td>9082067</td>\n",
       "      <td>4024966</td>\n",
       "      <td>2021-04-26</td>\n",
       "      <td>2.0</td>\n",
       "    </tr>\n",
       "    <tr>\n",
       "      <th>1</th>\n",
       "      <td>9082043</td>\n",
       "      <td>17027</td>\n",
       "      <td>2021-04-19</td>\n",
       "      <td>2.0</td>\n",
       "    </tr>\n",
       "    <tr>\n",
       "      <th>2</th>\n",
       "      <td>9082045</td>\n",
       "      <td>7911076</td>\n",
       "      <td>2021-05-10</td>\n",
       "      <td>2.0</td>\n",
       "    </tr>\n",
       "    <tr>\n",
       "      <th>3</th>\n",
       "      <td>9082046</td>\n",
       "      <td>4049977</td>\n",
       "      <td>2021-05-12</td>\n",
       "      <td>1.0</td>\n",
       "    </tr>\n",
       "    <tr>\n",
       "      <th>4</th>\n",
       "      <td>9082051</td>\n",
       "      <td>2297213</td>\n",
       "      <td>2021-05-03</td>\n",
       "      <td>2.0</td>\n",
       "    </tr>\n",
       "  </tbody>\n",
       "</table>\n",
       "</div>"
      ]
     },
     "metadata": {},
     "execution_count": 22
    }
   ],
   "metadata": {}
  },
  {
   "cell_type": "code",
   "execution_count": 23,
   "source": [
    "dfVacinacao2p.shape"
   ],
   "outputs": [
    {
     "output_type": "execute_result",
     "data": {
      "text/plain": [
       "(43558880, 4)"
      ]
     },
     "metadata": {},
     "execution_count": 23
    }
   ],
   "metadata": {}
  },
  {
   "cell_type": "code",
   "execution_count": 24,
   "source": [
    "# Dataframe da tbl de vacinação no Brasil no terceiro periodo\n",
    "dfVacinacao3p = pd.read_sql_query('SELECT * FROM \"vwTerceiroPeriodo\"', postgreSQLConnection)\n",
    "dfVacinacao3p.head()"
   ],
   "outputs": [
    {
     "output_type": "execute_result",
     "data": {
      "text/plain": [
       "   paciente_id  id_estabelecimento data_aplicacao  dose_declarada\n",
       "0      9082064             2792591     2021-06-22             1.0\n",
       "1      9082094             2023458     2021-07-09             1.0\n",
       "2      9082096             2200988     2021-07-09             1.0\n",
       "3      9082098             2269376     2021-07-13             1.0\n",
       "4      9082100               11207     2021-06-27             NaN"
      ],
      "text/html": [
       "<div>\n",
       "<style scoped>\n",
       "    .dataframe tbody tr th:only-of-type {\n",
       "        vertical-align: middle;\n",
       "    }\n",
       "\n",
       "    .dataframe tbody tr th {\n",
       "        vertical-align: top;\n",
       "    }\n",
       "\n",
       "    .dataframe thead th {\n",
       "        text-align: right;\n",
       "    }\n",
       "</style>\n",
       "<table border=\"1\" class=\"dataframe\">\n",
       "  <thead>\n",
       "    <tr style=\"text-align: right;\">\n",
       "      <th></th>\n",
       "      <th>paciente_id</th>\n",
       "      <th>id_estabelecimento</th>\n",
       "      <th>data_aplicacao</th>\n",
       "      <th>dose_declarada</th>\n",
       "    </tr>\n",
       "  </thead>\n",
       "  <tbody>\n",
       "    <tr>\n",
       "      <th>0</th>\n",
       "      <td>9082064</td>\n",
       "      <td>2792591</td>\n",
       "      <td>2021-06-22</td>\n",
       "      <td>1.0</td>\n",
       "    </tr>\n",
       "    <tr>\n",
       "      <th>1</th>\n",
       "      <td>9082094</td>\n",
       "      <td>2023458</td>\n",
       "      <td>2021-07-09</td>\n",
       "      <td>1.0</td>\n",
       "    </tr>\n",
       "    <tr>\n",
       "      <th>2</th>\n",
       "      <td>9082096</td>\n",
       "      <td>2200988</td>\n",
       "      <td>2021-07-09</td>\n",
       "      <td>1.0</td>\n",
       "    </tr>\n",
       "    <tr>\n",
       "      <th>3</th>\n",
       "      <td>9082098</td>\n",
       "      <td>2269376</td>\n",
       "      <td>2021-07-13</td>\n",
       "      <td>1.0</td>\n",
       "    </tr>\n",
       "    <tr>\n",
       "      <th>4</th>\n",
       "      <td>9082100</td>\n",
       "      <td>11207</td>\n",
       "      <td>2021-06-27</td>\n",
       "      <td>NaN</td>\n",
       "    </tr>\n",
       "  </tbody>\n",
       "</table>\n",
       "</div>"
      ]
     },
     "metadata": {},
     "execution_count": 24
    }
   ],
   "metadata": {}
  },
  {
   "cell_type": "code",
   "execution_count": 25,
   "source": [
    "dfVacinacao3p.shape"
   ],
   "outputs": [
    {
     "output_type": "execute_result",
     "data": {
      "text/plain": [
       "(44377024, 4)"
      ]
     },
     "metadata": {},
     "execution_count": 25
    }
   ],
   "metadata": {}
  },
  {
   "cell_type": "code",
   "execution_count": 26,
   "source": [
    "dfVacinacao = pd.concat([dfVacinacao1p,dfVacinacao2p,dfVacinacao3p])\n",
    "dfVacinacao.shape"
   ],
   "outputs": [
    {
     "output_type": "execute_result",
     "data": {
      "text/plain": [
       "(114756043, 4)"
      ]
     },
     "metadata": {},
     "execution_count": 26
    }
   ],
   "metadata": {}
  },
  {
   "cell_type": "code",
   "execution_count": 28,
   "source": [
    "# Dataframe de vacinação do DF\n",
    "\n",
    "postos = dfPostosDF.id\n",
    "dfVacinacao = dfVacinacao.loc[dfVacinacao['id_estabelecimento'].isin(postos)]\n",
    "dfVacinacao.head()"
   ],
   "outputs": [
    {
     "output_type": "execute_result",
     "data": {
      "text/plain": [
       "     paciente_id  id_estabelecimento data_aplicacao  dose_declarada\n",
       "112      9082347             9509356     2021-03-18             1.0\n",
       "138      9082468               10790     2021-03-23             1.0\n",
       "150      9082505               11150     2021-01-28             1.0\n",
       "222      9082757             9509356     2021-03-18             1.0\n",
       "530      9083681               11614     2021-02-26             1.0"
      ],
      "text/html": [
       "<div>\n",
       "<style scoped>\n",
       "    .dataframe tbody tr th:only-of-type {\n",
       "        vertical-align: middle;\n",
       "    }\n",
       "\n",
       "    .dataframe tbody tr th {\n",
       "        vertical-align: top;\n",
       "    }\n",
       "\n",
       "    .dataframe thead th {\n",
       "        text-align: right;\n",
       "    }\n",
       "</style>\n",
       "<table border=\"1\" class=\"dataframe\">\n",
       "  <thead>\n",
       "    <tr style=\"text-align: right;\">\n",
       "      <th></th>\n",
       "      <th>paciente_id</th>\n",
       "      <th>id_estabelecimento</th>\n",
       "      <th>data_aplicacao</th>\n",
       "      <th>dose_declarada</th>\n",
       "    </tr>\n",
       "  </thead>\n",
       "  <tbody>\n",
       "    <tr>\n",
       "      <th>112</th>\n",
       "      <td>9082347</td>\n",
       "      <td>9509356</td>\n",
       "      <td>2021-03-18</td>\n",
       "      <td>1.0</td>\n",
       "    </tr>\n",
       "    <tr>\n",
       "      <th>138</th>\n",
       "      <td>9082468</td>\n",
       "      <td>10790</td>\n",
       "      <td>2021-03-23</td>\n",
       "      <td>1.0</td>\n",
       "    </tr>\n",
       "    <tr>\n",
       "      <th>150</th>\n",
       "      <td>9082505</td>\n",
       "      <td>11150</td>\n",
       "      <td>2021-01-28</td>\n",
       "      <td>1.0</td>\n",
       "    </tr>\n",
       "    <tr>\n",
       "      <th>222</th>\n",
       "      <td>9082757</td>\n",
       "      <td>9509356</td>\n",
       "      <td>2021-03-18</td>\n",
       "      <td>1.0</td>\n",
       "    </tr>\n",
       "    <tr>\n",
       "      <th>530</th>\n",
       "      <td>9083681</td>\n",
       "      <td>11614</td>\n",
       "      <td>2021-02-26</td>\n",
       "      <td>1.0</td>\n",
       "    </tr>\n",
       "  </tbody>\n",
       "</table>\n",
       "</div>"
      ]
     },
     "metadata": {},
     "execution_count": 28
    }
   ],
   "metadata": {}
  },
  {
   "cell_type": "code",
   "execution_count": 29,
   "source": [
    "#Verificando o tamanho do dataframe de vacinação do Df\n",
    "dfVacinacao.shape"
   ],
   "outputs": [
    {
     "output_type": "execute_result",
     "data": {
      "text/plain": [
       "(1445836, 4)"
      ]
     },
     "metadata": {},
     "execution_count": 29
    }
   ],
   "metadata": {}
  },
  {
   "cell_type": "code",
   "execution_count": 30,
   "source": [
    "dfVacinacao.columns"
   ],
   "outputs": [
    {
     "output_type": "execute_result",
     "data": {
      "text/plain": [
       "Index(['paciente_id', 'id_estabelecimento', 'data_aplicacao',\n",
       "       'dose_declarada'],\n",
       "      dtype='object')"
      ]
     },
     "metadata": {},
     "execution_count": 30
    }
   ],
   "metadata": {}
  },
  {
   "cell_type": "code",
   "execution_count": 32,
   "source": [
    "# Dataframe de pacientes no DF\n",
    "\n",
    "dfPaciente = pd.read_sql_query('SELECT id,id_cidade,id_cep,id_grupo FROM public.tbl_paciente WHERE id_cidade = 5300108', postgreSQLConnection)\n",
    "dfPaciente.head()"
   ],
   "outputs": [
    {
     "output_type": "execute_result",
     "data": {
      "text/plain": [
       "        id  id_cidade   id_cep  id_grupo\n",
       "0  8347464    5300108  72145.0      14.0\n",
       "1  8347594    5300108  71825.0       2.0\n",
       "2  8347690    5300108  71070.0       2.0\n",
       "3  8347890    5300108  72669.0       1.0\n",
       "4  8347943    5300108      NaN       5.0"
      ],
      "text/html": [
       "<div>\n",
       "<style scoped>\n",
       "    .dataframe tbody tr th:only-of-type {\n",
       "        vertical-align: middle;\n",
       "    }\n",
       "\n",
       "    .dataframe tbody tr th {\n",
       "        vertical-align: top;\n",
       "    }\n",
       "\n",
       "    .dataframe thead th {\n",
       "        text-align: right;\n",
       "    }\n",
       "</style>\n",
       "<table border=\"1\" class=\"dataframe\">\n",
       "  <thead>\n",
       "    <tr style=\"text-align: right;\">\n",
       "      <th></th>\n",
       "      <th>id</th>\n",
       "      <th>id_cidade</th>\n",
       "      <th>id_cep</th>\n",
       "      <th>id_grupo</th>\n",
       "    </tr>\n",
       "  </thead>\n",
       "  <tbody>\n",
       "    <tr>\n",
       "      <th>0</th>\n",
       "      <td>8347464</td>\n",
       "      <td>5300108</td>\n",
       "      <td>72145.0</td>\n",
       "      <td>14.0</td>\n",
       "    </tr>\n",
       "    <tr>\n",
       "      <th>1</th>\n",
       "      <td>8347594</td>\n",
       "      <td>5300108</td>\n",
       "      <td>71825.0</td>\n",
       "      <td>2.0</td>\n",
       "    </tr>\n",
       "    <tr>\n",
       "      <th>2</th>\n",
       "      <td>8347690</td>\n",
       "      <td>5300108</td>\n",
       "      <td>71070.0</td>\n",
       "      <td>2.0</td>\n",
       "    </tr>\n",
       "    <tr>\n",
       "      <th>3</th>\n",
       "      <td>8347890</td>\n",
       "      <td>5300108</td>\n",
       "      <td>72669.0</td>\n",
       "      <td>1.0</td>\n",
       "    </tr>\n",
       "    <tr>\n",
       "      <th>4</th>\n",
       "      <td>8347943</td>\n",
       "      <td>5300108</td>\n",
       "      <td>NaN</td>\n",
       "      <td>5.0</td>\n",
       "    </tr>\n",
       "  </tbody>\n",
       "</table>\n",
       "</div>"
      ]
     },
     "metadata": {},
     "execution_count": 32
    }
   ],
   "metadata": {}
  },
  {
   "cell_type": "code",
   "execution_count": 33,
   "source": [
    "dfPaciente.shape"
   ],
   "outputs": [
    {
     "output_type": "execute_result",
     "data": {
      "text/plain": [
       "(1174764, 4)"
      ]
     },
     "metadata": {},
     "execution_count": 33
    }
   ],
   "metadata": {}
  },
  {
   "cell_type": "code",
   "execution_count": null,
   "source": [
    "# Merge das informações do cep da residência do paciente e do estabelecimento onde ele foi vacinado\n",
    "\n",
    "dfVacinacao.rename(columns={\"id\":\"paciente_id\"},inplace=True)"
   ],
   "outputs": [],
   "metadata": {}
  },
  {
   "cell_type": "code",
   "execution_count": 36,
   "source": [
    "dfPaciente.rename(columns={\"id\":\"paciente_id\"},inplace=True)"
   ],
   "outputs": [],
   "metadata": {}
  },
  {
   "cell_type": "code",
   "execution_count": 37,
   "source": [
    "dfMerged = pd.merge(dfVacinacao,dfPaciente,on='paciente_id')\n",
    "dfMerged.head()"
   ],
   "outputs": [
    {
     "output_type": "execute_result",
     "data": {
      "text/plain": [
       "   paciente_id  id_estabelecimento data_aplicacao  dose_declarada  id_cidade  \\\n",
       "0      9082347             9509356     2021-03-18             1.0    5300108   \n",
       "1      9082347             9509356     2021-04-13             2.0    5300108   \n",
       "2      9082468               10790     2021-03-23             1.0    5300108   \n",
       "3      9082468               10790     2021-04-20             2.0    5300108   \n",
       "4      9082505               11150     2021-01-28             1.0    5300108   \n",
       "\n",
       "    id_cep  id_grupo  \n",
       "0  72220.0       2.0  \n",
       "1  72220.0       2.0  \n",
       "2      NaN       2.0  \n",
       "3      NaN       2.0  \n",
       "4  73045.0       9.0  "
      ],
      "text/html": [
       "<div>\n",
       "<style scoped>\n",
       "    .dataframe tbody tr th:only-of-type {\n",
       "        vertical-align: middle;\n",
       "    }\n",
       "\n",
       "    .dataframe tbody tr th {\n",
       "        vertical-align: top;\n",
       "    }\n",
       "\n",
       "    .dataframe thead th {\n",
       "        text-align: right;\n",
       "    }\n",
       "</style>\n",
       "<table border=\"1\" class=\"dataframe\">\n",
       "  <thead>\n",
       "    <tr style=\"text-align: right;\">\n",
       "      <th></th>\n",
       "      <th>paciente_id</th>\n",
       "      <th>id_estabelecimento</th>\n",
       "      <th>data_aplicacao</th>\n",
       "      <th>dose_declarada</th>\n",
       "      <th>id_cidade</th>\n",
       "      <th>id_cep</th>\n",
       "      <th>id_grupo</th>\n",
       "    </tr>\n",
       "  </thead>\n",
       "  <tbody>\n",
       "    <tr>\n",
       "      <th>0</th>\n",
       "      <td>9082347</td>\n",
       "      <td>9509356</td>\n",
       "      <td>2021-03-18</td>\n",
       "      <td>1.0</td>\n",
       "      <td>5300108</td>\n",
       "      <td>72220.0</td>\n",
       "      <td>2.0</td>\n",
       "    </tr>\n",
       "    <tr>\n",
       "      <th>1</th>\n",
       "      <td>9082347</td>\n",
       "      <td>9509356</td>\n",
       "      <td>2021-04-13</td>\n",
       "      <td>2.0</td>\n",
       "      <td>5300108</td>\n",
       "      <td>72220.0</td>\n",
       "      <td>2.0</td>\n",
       "    </tr>\n",
       "    <tr>\n",
       "      <th>2</th>\n",
       "      <td>9082468</td>\n",
       "      <td>10790</td>\n",
       "      <td>2021-03-23</td>\n",
       "      <td>1.0</td>\n",
       "      <td>5300108</td>\n",
       "      <td>NaN</td>\n",
       "      <td>2.0</td>\n",
       "    </tr>\n",
       "    <tr>\n",
       "      <th>3</th>\n",
       "      <td>9082468</td>\n",
       "      <td>10790</td>\n",
       "      <td>2021-04-20</td>\n",
       "      <td>2.0</td>\n",
       "      <td>5300108</td>\n",
       "      <td>NaN</td>\n",
       "      <td>2.0</td>\n",
       "    </tr>\n",
       "    <tr>\n",
       "      <th>4</th>\n",
       "      <td>9082505</td>\n",
       "      <td>11150</td>\n",
       "      <td>2021-01-28</td>\n",
       "      <td>1.0</td>\n",
       "      <td>5300108</td>\n",
       "      <td>73045.0</td>\n",
       "      <td>9.0</td>\n",
       "    </tr>\n",
       "  </tbody>\n",
       "</table>\n",
       "</div>"
      ]
     },
     "metadata": {},
     "execution_count": 37
    }
   ],
   "metadata": {}
  },
  {
   "cell_type": "code",
   "execution_count": 38,
   "source": [
    "# Tamanho do Merge\n",
    "dfMerged.shape"
   ],
   "outputs": [
    {
     "output_type": "execute_result",
     "data": {
      "text/plain": [
       "(1239212, 7)"
      ]
     },
     "metadata": {},
     "execution_count": 38
    }
   ],
   "metadata": {}
  },
  {
   "cell_type": "code",
   "execution_count": 39,
   "source": [
    "# Checando as informações\n",
    "dfMerged.info()"
   ],
   "outputs": [
    {
     "output_type": "stream",
     "name": "stdout",
     "text": [
      "<class 'pandas.core.frame.DataFrame'>\n",
      "Int64Index: 1239212 entries, 0 to 1239211\n",
      "Data columns (total 7 columns):\n",
      " #   Column              Non-Null Count    Dtype  \n",
      "---  ------              --------------    -----  \n",
      " 0   paciente_id         1239212 non-null  int64  \n",
      " 1   id_estabelecimento  1239212 non-null  int64  \n",
      " 2   data_aplicacao      1239212 non-null  object \n",
      " 3   dose_declarada      1215882 non-null  float64\n",
      " 4   id_cidade           1239212 non-null  int64  \n",
      " 5   id_cep              995280 non-null   float64\n",
      " 6   id_grupo            1238986 non-null  float64\n",
      "dtypes: float64(3), int64(3), object(1)\n",
      "memory usage: 75.6+ MB\n"
     ]
    }
   ],
   "metadata": {}
  },
  {
   "cell_type": "code",
   "execution_count": 40,
   "source": [
    "# Verificando a quantidade de valores nulos de CEP\n",
    "print(dfMerged.id_cep.isna().sum()/len(dfMerged))"
   ],
   "outputs": [
    {
     "output_type": "stream",
     "name": "stdout",
     "text": [
      "0.1968444463094289\n"
     ]
    }
   ],
   "metadata": {}
  },
  {
   "cell_type": "code",
   "execution_count": 41,
   "source": [
    "# Quase 20% dos vacinados do DF não possuem número do CEP da residência na base de dados.\n",
    "#  Não será possível fazer a análise da distância até o posto de vacinação desses pacientes. \n",
    "# Iremos dropar do dataframe.\n",
    "\n",
    "dfMerged = dfMerged.dropna()\n",
    "dfMerged.shape"
   ],
   "outputs": [
    {
     "output_type": "execute_result",
     "data": {
      "text/plain": [
       "(975555, 7)"
      ]
     },
     "metadata": {},
     "execution_count": 41
    }
   ],
   "metadata": {}
  },
  {
   "cell_type": "code",
   "execution_count": 42,
   "source": [
    "# Retirada das pessoas que tomaram 2 doses para manter no dataset apenas pacientes unicos\n",
    "\n",
    "dfMerged = dfMerged[dfMerged.dose_declarada == 1]\n",
    "dfMerged.dose_declarada.value_counts()"
   ],
   "outputs": [
    {
     "output_type": "execute_result",
     "data": {
      "text/plain": [
       "1.0    728087\n",
       "Name: dose_declarada, dtype: int64"
      ]
     },
     "metadata": {},
     "execution_count": 42
    }
   ],
   "metadata": {}
  },
  {
   "cell_type": "code",
   "execution_count": 43,
   "source": [
    "# Verificação do shape\n",
    "dfMerged.shape"
   ],
   "outputs": [
    {
     "output_type": "execute_result",
     "data": {
      "text/plain": [
       "(728087, 7)"
      ]
     },
     "metadata": {},
     "execution_count": 43
    }
   ],
   "metadata": {}
  },
  {
   "cell_type": "code",
   "execution_count": 70,
   "source": [
    "# Agrupando os pacientes de acordo com o posto de vacinação e cep da residência\n",
    "dfMerged_group = dfMerged[['id_estabelecimento','id_cep']].copy()\n",
    "dfMerged_group = dfMerged_group.groupby(['id_estabelecimento','id_cep']).size().reset_index(name='contador')\n",
    "dfMerged_group.head(10)"
   ],
   "outputs": [
    {
     "output_type": "execute_result",
     "data": {
      "text/plain": [
       "   id_estabelecimento   id_cep  contador\n",
       "0               10456   4548.0         1\n",
       "1               10456  38794.0         1\n",
       "2               10456  55680.0         1\n",
       "3               10456  64280.0         1\n",
       "4               10456  65605.0         1\n",
       "5               10456  70002.0         6\n",
       "6               10456  70040.0         1\n",
       "7               10456  70050.0         1\n",
       "8               10456  70073.0         1\n",
       "9               10456  70077.0         1"
      ],
      "text/html": [
       "<div>\n",
       "<style scoped>\n",
       "    .dataframe tbody tr th:only-of-type {\n",
       "        vertical-align: middle;\n",
       "    }\n",
       "\n",
       "    .dataframe tbody tr th {\n",
       "        vertical-align: top;\n",
       "    }\n",
       "\n",
       "    .dataframe thead th {\n",
       "        text-align: right;\n",
       "    }\n",
       "</style>\n",
       "<table border=\"1\" class=\"dataframe\">\n",
       "  <thead>\n",
       "    <tr style=\"text-align: right;\">\n",
       "      <th></th>\n",
       "      <th>id_estabelecimento</th>\n",
       "      <th>id_cep</th>\n",
       "      <th>contador</th>\n",
       "    </tr>\n",
       "  </thead>\n",
       "  <tbody>\n",
       "    <tr>\n",
       "      <th>0</th>\n",
       "      <td>10456</td>\n",
       "      <td>4548.0</td>\n",
       "      <td>1</td>\n",
       "    </tr>\n",
       "    <tr>\n",
       "      <th>1</th>\n",
       "      <td>10456</td>\n",
       "      <td>38794.0</td>\n",
       "      <td>1</td>\n",
       "    </tr>\n",
       "    <tr>\n",
       "      <th>2</th>\n",
       "      <td>10456</td>\n",
       "      <td>55680.0</td>\n",
       "      <td>1</td>\n",
       "    </tr>\n",
       "    <tr>\n",
       "      <th>3</th>\n",
       "      <td>10456</td>\n",
       "      <td>64280.0</td>\n",
       "      <td>1</td>\n",
       "    </tr>\n",
       "    <tr>\n",
       "      <th>4</th>\n",
       "      <td>10456</td>\n",
       "      <td>65605.0</td>\n",
       "      <td>1</td>\n",
       "    </tr>\n",
       "    <tr>\n",
       "      <th>5</th>\n",
       "      <td>10456</td>\n",
       "      <td>70002.0</td>\n",
       "      <td>6</td>\n",
       "    </tr>\n",
       "    <tr>\n",
       "      <th>6</th>\n",
       "      <td>10456</td>\n",
       "      <td>70040.0</td>\n",
       "      <td>1</td>\n",
       "    </tr>\n",
       "    <tr>\n",
       "      <th>7</th>\n",
       "      <td>10456</td>\n",
       "      <td>70050.0</td>\n",
       "      <td>1</td>\n",
       "    </tr>\n",
       "    <tr>\n",
       "      <th>8</th>\n",
       "      <td>10456</td>\n",
       "      <td>70073.0</td>\n",
       "      <td>1</td>\n",
       "    </tr>\n",
       "    <tr>\n",
       "      <th>9</th>\n",
       "      <td>10456</td>\n",
       "      <td>70077.0</td>\n",
       "      <td>1</td>\n",
       "    </tr>\n",
       "  </tbody>\n",
       "</table>\n",
       "</div>"
      ]
     },
     "metadata": {},
     "execution_count": 70
    }
   ],
   "metadata": {}
  },
  {
   "cell_type": "code",
   "execution_count": 71,
   "source": [
    "# Valor máximo do contador (Pessoas com o mesmo cep que foram se vacinar no mesmo lugar)\n",
    "dfMerged_group.contador.max()"
   ],
   "outputs": [
    {
     "output_type": "execute_result",
     "data": {
      "text/plain": [
       "3995"
      ]
     },
     "metadata": {},
     "execution_count": 71
    }
   ],
   "metadata": {}
  },
  {
   "cell_type": "code",
   "execution_count": 72,
   "source": [
    "# Soma da coluna contador (deve ser igual o shape do dfMerged)\n",
    "dfMerged_group.contador.sum()"
   ],
   "outputs": [
    {
     "output_type": "execute_result",
     "data": {
      "text/plain": [
       "728087"
      ]
     },
     "metadata": {},
     "execution_count": 72
    }
   ],
   "metadata": {}
  },
  {
   "cell_type": "code",
   "execution_count": 73,
   "source": [
    "dfMerged_group.shape"
   ],
   "outputs": [
    {
     "output_type": "execute_result",
     "data": {
      "text/plain": [
       "(33569, 3)"
      ]
     },
     "metadata": {},
     "execution_count": 73
    }
   ],
   "metadata": {}
  },
  {
   "cell_type": "code",
   "execution_count": 76,
   "source": [
    "# Adição de latitude e longitude dos postos de vacinação\n",
    "dfPostosDF.rename(columns={\"id\":\"id_estabelecimento\"},inplace=True)\n",
    "dfMerged_group = pd.merge(dfMerged_group,dfPostosDF[['lati','long','id_estabelecimento']],on='id_estabelecimento')\n",
    "dfMerged_group.rename(columns={\"lati\":\"lat_estab\",\"long\":\"lon_estab\"},inplace=True)\n",
    "dfMerged_group.head()"
   ],
   "outputs": [
    {
     "output_type": "execute_result",
     "data": {
      "text/plain": [
       "   id_estabelecimento   id_cep  contador  lat_estab  lon_estab\n",
       "0               10456   4548.0         1 -15.800424 -47.889449\n",
       "1               10456  38794.0         1 -15.800424 -47.889449\n",
       "2               10456  55680.0         1 -15.800424 -47.889449\n",
       "3               10456  64280.0         1 -15.800424 -47.889449\n",
       "4               10456  65605.0         1 -15.800424 -47.889449"
      ],
      "text/html": [
       "<div>\n",
       "<style scoped>\n",
       "    .dataframe tbody tr th:only-of-type {\n",
       "        vertical-align: middle;\n",
       "    }\n",
       "\n",
       "    .dataframe tbody tr th {\n",
       "        vertical-align: top;\n",
       "    }\n",
       "\n",
       "    .dataframe thead th {\n",
       "        text-align: right;\n",
       "    }\n",
       "</style>\n",
       "<table border=\"1\" class=\"dataframe\">\n",
       "  <thead>\n",
       "    <tr style=\"text-align: right;\">\n",
       "      <th></th>\n",
       "      <th>id_estabelecimento</th>\n",
       "      <th>id_cep</th>\n",
       "      <th>contador</th>\n",
       "      <th>lat_estab</th>\n",
       "      <th>lon_estab</th>\n",
       "    </tr>\n",
       "  </thead>\n",
       "  <tbody>\n",
       "    <tr>\n",
       "      <th>0</th>\n",
       "      <td>10456</td>\n",
       "      <td>4548.0</td>\n",
       "      <td>1</td>\n",
       "      <td>-15.800424</td>\n",
       "      <td>-47.889449</td>\n",
       "    </tr>\n",
       "    <tr>\n",
       "      <th>1</th>\n",
       "      <td>10456</td>\n",
       "      <td>38794.0</td>\n",
       "      <td>1</td>\n",
       "      <td>-15.800424</td>\n",
       "      <td>-47.889449</td>\n",
       "    </tr>\n",
       "    <tr>\n",
       "      <th>2</th>\n",
       "      <td>10456</td>\n",
       "      <td>55680.0</td>\n",
       "      <td>1</td>\n",
       "      <td>-15.800424</td>\n",
       "      <td>-47.889449</td>\n",
       "    </tr>\n",
       "    <tr>\n",
       "      <th>3</th>\n",
       "      <td>10456</td>\n",
       "      <td>64280.0</td>\n",
       "      <td>1</td>\n",
       "      <td>-15.800424</td>\n",
       "      <td>-47.889449</td>\n",
       "    </tr>\n",
       "    <tr>\n",
       "      <th>4</th>\n",
       "      <td>10456</td>\n",
       "      <td>65605.0</td>\n",
       "      <td>1</td>\n",
       "      <td>-15.800424</td>\n",
       "      <td>-47.889449</td>\n",
       "    </tr>\n",
       "  </tbody>\n",
       "</table>\n",
       "</div>"
      ]
     },
     "metadata": {},
     "execution_count": 76
    }
   ],
   "metadata": {}
  },
  {
   "cell_type": "code",
   "execution_count": 77,
   "source": [
    "dfMerged_group.shape"
   ],
   "outputs": [
    {
     "output_type": "execute_result",
     "data": {
      "text/plain": [
       "(33569, 5)"
      ]
     },
     "metadata": {},
     "execution_count": 77
    }
   ],
   "metadata": {}
  },
  {
   "cell_type": "code",
   "execution_count": 84,
   "source": [
    "dfCep = pd.read_sql_query('SELECT * FROM public.tbl_cep', postgreSQLConnection)\n",
    "dfCep.shape"
   ],
   "outputs": [
    {
     "output_type": "execute_result",
     "data": {
      "text/plain": [
       "(25660, 5)"
      ]
     },
     "metadata": {},
     "execution_count": 84
    }
   ],
   "metadata": {}
  },
  {
   "cell_type": "code",
   "execution_count": 85,
   "source": [
    "dfCep.head()"
   ],
   "outputs": [
    {
     "output_type": "execute_result",
     "data": {
      "text/plain": [
       "   id    cep  cidade_id        lat        lon\n",
       "0   1  01001    3550308 -46.634097 -23.550998\n",
       "1   2  01002    3550308 -46.635471 -23.548366\n",
       "2   3  01003    3550308 -46.636392 -23.549012\n",
       "3   4  01004    3550308 -46.634955 -23.549962\n",
       "4   5  01005    3550308 -46.636848 -23.549578"
      ],
      "text/html": [
       "<div>\n",
       "<style scoped>\n",
       "    .dataframe tbody tr th:only-of-type {\n",
       "        vertical-align: middle;\n",
       "    }\n",
       "\n",
       "    .dataframe tbody tr th {\n",
       "        vertical-align: top;\n",
       "    }\n",
       "\n",
       "    .dataframe thead th {\n",
       "        text-align: right;\n",
       "    }\n",
       "</style>\n",
       "<table border=\"1\" class=\"dataframe\">\n",
       "  <thead>\n",
       "    <tr style=\"text-align: right;\">\n",
       "      <th></th>\n",
       "      <th>id</th>\n",
       "      <th>cep</th>\n",
       "      <th>cidade_id</th>\n",
       "      <th>lat</th>\n",
       "      <th>lon</th>\n",
       "    </tr>\n",
       "  </thead>\n",
       "  <tbody>\n",
       "    <tr>\n",
       "      <th>0</th>\n",
       "      <td>1</td>\n",
       "      <td>01001</td>\n",
       "      <td>3550308</td>\n",
       "      <td>-46.634097</td>\n",
       "      <td>-23.550998</td>\n",
       "    </tr>\n",
       "    <tr>\n",
       "      <th>1</th>\n",
       "      <td>2</td>\n",
       "      <td>01002</td>\n",
       "      <td>3550308</td>\n",
       "      <td>-46.635471</td>\n",
       "      <td>-23.548366</td>\n",
       "    </tr>\n",
       "    <tr>\n",
       "      <th>2</th>\n",
       "      <td>3</td>\n",
       "      <td>01003</td>\n",
       "      <td>3550308</td>\n",
       "      <td>-46.636392</td>\n",
       "      <td>-23.549012</td>\n",
       "    </tr>\n",
       "    <tr>\n",
       "      <th>3</th>\n",
       "      <td>4</td>\n",
       "      <td>01004</td>\n",
       "      <td>3550308</td>\n",
       "      <td>-46.634955</td>\n",
       "      <td>-23.549962</td>\n",
       "    </tr>\n",
       "    <tr>\n",
       "      <th>4</th>\n",
       "      <td>5</td>\n",
       "      <td>01005</td>\n",
       "      <td>3550308</td>\n",
       "      <td>-46.636848</td>\n",
       "      <td>-23.549578</td>\n",
       "    </tr>\n",
       "  </tbody>\n",
       "</table>\n",
       "</div>"
      ]
     },
     "metadata": {},
     "execution_count": 85
    }
   ],
   "metadata": {}
  },
  {
   "cell_type": "code",
   "execution_count": 86,
   "source": [
    "dfCep['cep'] = dfCep.cep.astype(float)\n",
    "dfCep.info()"
   ],
   "outputs": [
    {
     "output_type": "stream",
     "name": "stdout",
     "text": [
      "<class 'pandas.core.frame.DataFrame'>\n",
      "RangeIndex: 25660 entries, 0 to 25659\n",
      "Data columns (total 5 columns):\n",
      " #   Column     Non-Null Count  Dtype  \n",
      "---  ------     --------------  -----  \n",
      " 0   id         25660 non-null  int64  \n",
      " 1   cep        25660 non-null  float64\n",
      " 2   cidade_id  25660 non-null  int64  \n",
      " 3   lat        25660 non-null  float64\n",
      " 4   lon        25660 non-null  float64\n",
      "dtypes: float64(3), int64(2)\n",
      "memory usage: 1002.5 KB\n"
     ]
    }
   ],
   "metadata": {}
  },
  {
   "cell_type": "code",
   "execution_count": 87,
   "source": [
    "# Adição de latitude e longitude das residências dos pacientes\n",
    "dfCep.rename(columns={\"cep\":\"id_cep\"},inplace=True)\n",
    "dfMerged_group = pd.merge(dfMerged_group,dfCep,on='id_cep')\n",
    "dfMerged_group.rename(columns={\"lat\":\"lon_resid\",\"lon\":\"lat_resid\"},inplace=True)\n",
    "dfMerged_group.head()"
   ],
   "outputs": [
    {
     "output_type": "execute_result",
     "data": {
      "text/plain": [
       "   id_estabelecimento   id_cep  contador  lat_estab  lon_estab     id  \\\n",
       "0               10456   4548.0         1 -15.800424 -47.889449   2122   \n",
       "1             3410196   4548.0         1 -15.870337 -48.005885   2122   \n",
       "2               10456  38794.0         1 -15.800424 -47.889449  11356   \n",
       "3               10723  38794.0         1 -15.747387 -47.891175  11356   \n",
       "4               10456  55680.0         1 -15.800424 -47.889449  14103   \n",
       "\n",
       "   cidade_id  lon_resid  lat_resid  \n",
       "0    3550308 -46.686202 -23.597821  \n",
       "1    3550308 -46.686202 -23.597821  \n",
       "2    3170750 -46.031824 -18.379013  \n",
       "3    3170750 -46.031824 -18.379013  \n",
       "4    2602308 -35.729179  -8.473377  "
      ],
      "text/html": [
       "<div>\n",
       "<style scoped>\n",
       "    .dataframe tbody tr th:only-of-type {\n",
       "        vertical-align: middle;\n",
       "    }\n",
       "\n",
       "    .dataframe tbody tr th {\n",
       "        vertical-align: top;\n",
       "    }\n",
       "\n",
       "    .dataframe thead th {\n",
       "        text-align: right;\n",
       "    }\n",
       "</style>\n",
       "<table border=\"1\" class=\"dataframe\">\n",
       "  <thead>\n",
       "    <tr style=\"text-align: right;\">\n",
       "      <th></th>\n",
       "      <th>id_estabelecimento</th>\n",
       "      <th>id_cep</th>\n",
       "      <th>contador</th>\n",
       "      <th>lat_estab</th>\n",
       "      <th>lon_estab</th>\n",
       "      <th>id</th>\n",
       "      <th>cidade_id</th>\n",
       "      <th>lon_resid</th>\n",
       "      <th>lat_resid</th>\n",
       "    </tr>\n",
       "  </thead>\n",
       "  <tbody>\n",
       "    <tr>\n",
       "      <th>0</th>\n",
       "      <td>10456</td>\n",
       "      <td>4548.0</td>\n",
       "      <td>1</td>\n",
       "      <td>-15.800424</td>\n",
       "      <td>-47.889449</td>\n",
       "      <td>2122</td>\n",
       "      <td>3550308</td>\n",
       "      <td>-46.686202</td>\n",
       "      <td>-23.597821</td>\n",
       "    </tr>\n",
       "    <tr>\n",
       "      <th>1</th>\n",
       "      <td>3410196</td>\n",
       "      <td>4548.0</td>\n",
       "      <td>1</td>\n",
       "      <td>-15.870337</td>\n",
       "      <td>-48.005885</td>\n",
       "      <td>2122</td>\n",
       "      <td>3550308</td>\n",
       "      <td>-46.686202</td>\n",
       "      <td>-23.597821</td>\n",
       "    </tr>\n",
       "    <tr>\n",
       "      <th>2</th>\n",
       "      <td>10456</td>\n",
       "      <td>38794.0</td>\n",
       "      <td>1</td>\n",
       "      <td>-15.800424</td>\n",
       "      <td>-47.889449</td>\n",
       "      <td>11356</td>\n",
       "      <td>3170750</td>\n",
       "      <td>-46.031824</td>\n",
       "      <td>-18.379013</td>\n",
       "    </tr>\n",
       "    <tr>\n",
       "      <th>3</th>\n",
       "      <td>10723</td>\n",
       "      <td>38794.0</td>\n",
       "      <td>1</td>\n",
       "      <td>-15.747387</td>\n",
       "      <td>-47.891175</td>\n",
       "      <td>11356</td>\n",
       "      <td>3170750</td>\n",
       "      <td>-46.031824</td>\n",
       "      <td>-18.379013</td>\n",
       "    </tr>\n",
       "    <tr>\n",
       "      <th>4</th>\n",
       "      <td>10456</td>\n",
       "      <td>55680.0</td>\n",
       "      <td>1</td>\n",
       "      <td>-15.800424</td>\n",
       "      <td>-47.889449</td>\n",
       "      <td>14103</td>\n",
       "      <td>2602308</td>\n",
       "      <td>-35.729179</td>\n",
       "      <td>-8.473377</td>\n",
       "    </tr>\n",
       "  </tbody>\n",
       "</table>\n",
       "</div>"
      ]
     },
     "metadata": {},
     "execution_count": 87
    }
   ],
   "metadata": {}
  },
  {
   "cell_type": "code",
   "execution_count": 88,
   "source": [
    "dfMerged_group.shape"
   ],
   "outputs": [
    {
     "output_type": "execute_result",
     "data": {
      "text/plain": [
       "(33569, 9)"
      ]
     },
     "metadata": {},
     "execution_count": 88
    }
   ],
   "metadata": {}
  },
  {
   "cell_type": "code",
   "execution_count": 89,
   "source": [
    "# Checando informações\n",
    "dfMerged_group.info()"
   ],
   "outputs": [
    {
     "output_type": "stream",
     "name": "stdout",
     "text": [
      "<class 'pandas.core.frame.DataFrame'>\n",
      "Int64Index: 33569 entries, 0 to 33568\n",
      "Data columns (total 9 columns):\n",
      " #   Column              Non-Null Count  Dtype  \n",
      "---  ------              --------------  -----  \n",
      " 0   id_estabelecimento  33569 non-null  int64  \n",
      " 1   id_cep              33569 non-null  float64\n",
      " 2   contador            33569 non-null  int64  \n",
      " 3   lat_estab           33569 non-null  float64\n",
      " 4   lon_estab           33569 non-null  float64\n",
      " 5   id                  33569 non-null  int64  \n",
      " 6   cidade_id           33569 non-null  int64  \n",
      " 7   lon_resid           33569 non-null  float64\n",
      " 8   lat_resid           33569 non-null  float64\n",
      "dtypes: float64(5), int64(4)\n",
      "memory usage: 2.6 MB\n"
     ]
    }
   ],
   "metadata": {}
  },
  {
   "cell_type": "code",
   "execution_count": 94,
   "source": [
    "dfMerged_group.cidade_id.nunique()"
   ],
   "outputs": [
    {
     "output_type": "execute_result",
     "data": {
      "text/plain": [
       "782"
      ]
     },
     "metadata": {},
     "execution_count": 94
    }
   ],
   "metadata": {}
  },
  {
   "cell_type": "code",
   "execution_count": 98,
   "source": [
    "# Temos pacientes de outras cidades registrados.\n",
    "# Vamos limpar a base deixando apenas ceps registrados de brasília\n",
    "\n",
    "dfMerged_groupDF = dfMerged_group[dfMerged_group.cidade_id == 5300108].copy()\n",
    "dfMerged_groupDF.shape"
   ],
   "outputs": [
    {
     "output_type": "execute_result",
     "data": {
      "text/plain": [
       "(31304, 12)"
      ]
     },
     "metadata": {},
     "execution_count": 98
    }
   ],
   "metadata": {}
  },
  {
   "cell_type": "code",
   "execution_count": 99,
   "source": [
    "# Calculando a distancia entre as duas coordenadas\n",
    "\n",
    "import haversine as hs\n",
    "distancia = []\n",
    "dfMerged_groupDF['coor_estab'] = list(zip(dfMerged_groupDF.lat_estab,dfMerged_groupDF.lon_estab))\n",
    "dfMerged_groupDF['coor_resid'] = list(zip(dfMerged_groupDF.lat_resid,dfMerged_groupDF.lon_resid))\n",
    "\n",
    "for index,row in dfMerged_groupDF.iterrows():\n",
    "    distancia.append(hs.haversine(row['coor_estab'],row['coor_resid']))\n",
    "\n",
    "dfMerged_groupDF['distancia'] = distancia\n",
    "dfMerged_groupDF.head()\n"
   ],
   "outputs": [
    {
     "output_type": "execute_result",
     "data": {
      "text/plain": [
       "    id_estabelecimento   id_cep  contador  lat_estab  lon_estab     id  \\\n",
       "9                10456  70002.0         6 -15.800424 -47.889449  18098   \n",
       "10               10464  70002.0         2 -15.782081 -47.885833  18098   \n",
       "11               10472  70002.0         5 -15.853888 -47.968467  18098   \n",
       "12               10480  70002.0         2 -15.824722 -48.095026  18098   \n",
       "13               10499  70002.0         9 -15.808347 -48.062634  18098   \n",
       "\n",
       "    cidade_id  lon_resid  lat_resid                              coor_estab  \\\n",
       "9     5300108 -47.879545 -15.790642  (-15.8004236221313, -47.8894488016764)   \n",
       "10    5300108 -47.879545 -15.790642  (-15.7820812722911, -47.8858330768088)   \n",
       "11    5300108 -47.879545 -15.790642  (-15.8538878264251, -47.9684670201054)   \n",
       "12    5300108 -47.879545 -15.790642  (-15.8247220696825, -48.0950257994912)   \n",
       "13    5300108 -47.879545 -15.790642  (-15.8083474379319, -48.0626341599684)   \n",
       "\n",
       "                                coor_resid  distancia  \n",
       "9   (-15.7906422615051, -47.8795445760091)   1.518537  \n",
       "10  (-15.7906422615051, -47.8795445760091)   1.165741  \n",
       "11  (-15.7906422615051, -47.8795445760091)  11.830330  \n",
       "12  (-15.7906422615051, -47.8795445760091)  23.363672  \n",
       "13  (-15.7906422615051, -47.8795445760091)  19.688197  "
      ],
      "text/html": [
       "<div>\n",
       "<style scoped>\n",
       "    .dataframe tbody tr th:only-of-type {\n",
       "        vertical-align: middle;\n",
       "    }\n",
       "\n",
       "    .dataframe tbody tr th {\n",
       "        vertical-align: top;\n",
       "    }\n",
       "\n",
       "    .dataframe thead th {\n",
       "        text-align: right;\n",
       "    }\n",
       "</style>\n",
       "<table border=\"1\" class=\"dataframe\">\n",
       "  <thead>\n",
       "    <tr style=\"text-align: right;\">\n",
       "      <th></th>\n",
       "      <th>id_estabelecimento</th>\n",
       "      <th>id_cep</th>\n",
       "      <th>contador</th>\n",
       "      <th>lat_estab</th>\n",
       "      <th>lon_estab</th>\n",
       "      <th>id</th>\n",
       "      <th>cidade_id</th>\n",
       "      <th>lon_resid</th>\n",
       "      <th>lat_resid</th>\n",
       "      <th>coor_estab</th>\n",
       "      <th>coor_resid</th>\n",
       "      <th>distancia</th>\n",
       "    </tr>\n",
       "  </thead>\n",
       "  <tbody>\n",
       "    <tr>\n",
       "      <th>9</th>\n",
       "      <td>10456</td>\n",
       "      <td>70002.0</td>\n",
       "      <td>6</td>\n",
       "      <td>-15.800424</td>\n",
       "      <td>-47.889449</td>\n",
       "      <td>18098</td>\n",
       "      <td>5300108</td>\n",
       "      <td>-47.879545</td>\n",
       "      <td>-15.790642</td>\n",
       "      <td>(-15.8004236221313, -47.8894488016764)</td>\n",
       "      <td>(-15.7906422615051, -47.8795445760091)</td>\n",
       "      <td>1.518537</td>\n",
       "    </tr>\n",
       "    <tr>\n",
       "      <th>10</th>\n",
       "      <td>10464</td>\n",
       "      <td>70002.0</td>\n",
       "      <td>2</td>\n",
       "      <td>-15.782081</td>\n",
       "      <td>-47.885833</td>\n",
       "      <td>18098</td>\n",
       "      <td>5300108</td>\n",
       "      <td>-47.879545</td>\n",
       "      <td>-15.790642</td>\n",
       "      <td>(-15.7820812722911, -47.8858330768088)</td>\n",
       "      <td>(-15.7906422615051, -47.8795445760091)</td>\n",
       "      <td>1.165741</td>\n",
       "    </tr>\n",
       "    <tr>\n",
       "      <th>11</th>\n",
       "      <td>10472</td>\n",
       "      <td>70002.0</td>\n",
       "      <td>5</td>\n",
       "      <td>-15.853888</td>\n",
       "      <td>-47.968467</td>\n",
       "      <td>18098</td>\n",
       "      <td>5300108</td>\n",
       "      <td>-47.879545</td>\n",
       "      <td>-15.790642</td>\n",
       "      <td>(-15.8538878264251, -47.9684670201054)</td>\n",
       "      <td>(-15.7906422615051, -47.8795445760091)</td>\n",
       "      <td>11.830330</td>\n",
       "    </tr>\n",
       "    <tr>\n",
       "      <th>12</th>\n",
       "      <td>10480</td>\n",
       "      <td>70002.0</td>\n",
       "      <td>2</td>\n",
       "      <td>-15.824722</td>\n",
       "      <td>-48.095026</td>\n",
       "      <td>18098</td>\n",
       "      <td>5300108</td>\n",
       "      <td>-47.879545</td>\n",
       "      <td>-15.790642</td>\n",
       "      <td>(-15.8247220696825, -48.0950257994912)</td>\n",
       "      <td>(-15.7906422615051, -47.8795445760091)</td>\n",
       "      <td>23.363672</td>\n",
       "    </tr>\n",
       "    <tr>\n",
       "      <th>13</th>\n",
       "      <td>10499</td>\n",
       "      <td>70002.0</td>\n",
       "      <td>9</td>\n",
       "      <td>-15.808347</td>\n",
       "      <td>-48.062634</td>\n",
       "      <td>18098</td>\n",
       "      <td>5300108</td>\n",
       "      <td>-47.879545</td>\n",
       "      <td>-15.790642</td>\n",
       "      <td>(-15.8083474379319, -48.0626341599684)</td>\n",
       "      <td>(-15.7906422615051, -47.8795445760091)</td>\n",
       "      <td>19.688197</td>\n",
       "    </tr>\n",
       "  </tbody>\n",
       "</table>\n",
       "</div>"
      ]
     },
     "metadata": {},
     "execution_count": 99
    }
   ],
   "metadata": {}
  },
  {
   "cell_type": "code",
   "execution_count": 100,
   "source": [
    "# Análise da variável distância\n",
    "\n",
    "dfMerged_group.distancia.describe()"
   ],
   "outputs": [
    {
     "output_type": "execute_result",
     "data": {
      "text/plain": [
       "count    33569.000000\n",
       "mean        63.253880\n",
       "std        232.789248\n",
       "min          0.000000\n",
       "25%          8.039131\n",
       "50%         13.999161\n",
       "75%         21.996075\n",
       "max       2560.290417\n",
       "Name: distancia, dtype: float64"
      ]
     },
     "metadata": {},
     "execution_count": 100
    }
   ],
   "metadata": {}
  },
  {
   "cell_type": "code",
   "execution_count": 102,
   "source": [
    "# Histograma da variável distância\n",
    "\n",
    "import seaborn as sns\n",
    "import matplotlib as mpl\n",
    "import matplotlib.pyplot as plt\n",
    "sns.histplot(data=dfMerged_groupDF,x='distancia')"
   ],
   "outputs": [
    {
     "output_type": "execute_result",
     "data": {
      "text/plain": [
       "<matplotlib.axes._subplots.AxesSubplot at 0x7f9d8c132090>"
      ]
     },
     "metadata": {},
     "execution_count": 102
    },
    {
     "output_type": "display_data",
     "data": {
      "text/plain": [
       "<Figure size 432x288 with 1 Axes>"
      ],
      "image/png": "[encoded data removed]"
     },
     "metadata": {
      "needs_background": "light"
     }
    }
   ],
   "metadata": {}
  },
  {
   "cell_type": "code",
   "execution_count": 113,
   "source": [
    "# Boxplot da variável distância\n",
    "\n",
    "sns.boxplot(x=dfMerged_groupDF[\"distancia\"])"
   ],
   "outputs": [
    {
     "output_type": "execute_result",
     "data": {
      "text/plain": [
       "<matplotlib.axes._subplots.AxesSubplot at 0x7f9d9bab67d0>"
      ]
     },
     "metadata": {},
     "execution_count": 113
    },
    {
     "output_type": "display_data",
     "data": {
      "text/plain": [
       "<Figure size 432x288 with 1 Axes>"
      ],
      "image/png": "[encoded data removed]"
     },
     "metadata": {
      "needs_background": "light"
     }
    }
   ],
   "metadata": {}
  },
  {
   "cell_type": "code",
   "execution_count": 121,
   "source": [
    "#Limpeza de outliers\n",
    "dfMerged_groupDF = dfMerged_groupDF[dfMerged_groupDF.distancia <= 100]"
   ],
   "outputs": [],
   "metadata": {}
  },
  {
   "cell_type": "code",
   "execution_count": 122,
   "source": [
    "dfMerged_groupDF.shape"
   ],
   "outputs": [
    {
     "output_type": "execute_result",
     "data": {
      "text/plain": [
       "(31249, 12)"
      ]
     },
     "metadata": {},
     "execution_count": 122
    }
   ],
   "metadata": {}
  },
  {
   "cell_type": "code",
   "execution_count": 123,
   "source": [
    "#histograma pós limpeza\n",
    "sns.histplot(data=dfMerged_groupDF,x='distancia')"
   ],
   "outputs": [
    {
     "output_type": "execute_result",
     "data": {
      "text/plain": [
       "<matplotlib.axes._subplots.AxesSubplot at 0x7f9d8e252e90>"
      ]
     },
     "metadata": {},
     "execution_count": 123
    },
    {
     "output_type": "display_data",
     "data": {
      "text/plain": [
       "<Figure size 432x288 with 1 Axes>"
      ],
      "image/png": "[encoded data removed]"
     },
     "metadata": {
      "needs_background": "light"
     }
    }
   ],
   "metadata": {}
  },
  {
   "cell_type": "code",
   "execution_count": 124,
   "source": [
    "#boxplot pós limpeza\n",
    "\n",
    "sns.boxplot(x=dfMerged_groupDF[\"distancia\"])"
   ],
   "outputs": [
    {
     "output_type": "execute_result",
     "data": {
      "text/plain": [
       "<matplotlib.axes._subplots.AxesSubplot at 0x7f9d8e2ba610>"
      ]
     },
     "metadata": {},
     "execution_count": 124
    },
    {
     "output_type": "display_data",
     "data": {
      "text/plain": [
       "<Figure size 432x288 with 1 Axes>"
      ],
      "image/png": "[encoded data removed]"
     },
     "metadata": {
      "needs_background": "light"
     }
    }
   ],
   "metadata": {}
  },
  {
   "cell_type": "code",
   "execution_count": 137,
   "source": [
    "dfMerged_groupDF.distancia.describe()"
   ],
   "outputs": [
    {
     "output_type": "execute_result",
     "data": {
      "text/plain": [
       "count    31249.000000\n",
       "mean        14.669020\n",
       "std          9.242233\n",
       "min          0.000000\n",
       "25%          7.682222\n",
       "50%         13.042641\n",
       "75%         20.158877\n",
       "max         97.151253\n",
       "Name: distancia, dtype: float64"
      ]
     },
     "metadata": {},
     "execution_count": 137
    }
   ],
   "metadata": {}
  },
  {
   "cell_type": "code",
   "execution_count": 127,
   "source": [
    "# Análise dos pontos de vacinação mais cheios\n",
    "\n",
    "dfUBS_count = dfMerged_group.groupby('id_estabelecimento')['contador'].agg('sum')\n",
    "dfUBS_count = pd.merge(dfUBS_count,dfPostosDF[['id_estabelecimento','nm_fantasia','lati','long']],on='id_estabelecimento')\n",
    "dfUBS_count.sort_values(ascending=False,by='contador',inplace=True)\n",
    "top10UBS = dfUBS_count.head(10)\n",
    "top10UBS.reset_index(inplace=True,drop=True)\n",
    "top10UBS\n"
   ],
   "outputs": [
    {
     "output_type": "execute_result",
     "data": {
      "text/plain": [
       "   id_estabelecimento  contador                           nm_fantasia  \\\n",
       "0               11150     59965                        UBS 01 ASA SUL   \n",
       "1             9056963     42049                  UBS 01 VICENTE PIRES   \n",
       "2             7161158     23973  HOSPITAL MILITAR DE AREA DE BRASILIA   \n",
       "3               10723     23476                       UBS 2 ASA NORTE   \n",
       "4               11223     20118                      UBS 1 SOBRADINHO   \n",
       "5               10626     19994                     UBS 05 TAGUATINGA   \n",
       "6               10901     19167                     UBS 01 TAGUATINGA   \n",
       "7               11118     18167                          UBS 01 GUARA   \n",
       "8               11010     18085                       UBS 5 CEILANDIA   \n",
       "9               11614     17898              UBS 5 QUEBRADA DOS NERES   \n",
       "\n",
       "        lati       long  \n",
       "0 -15.822105 -47.891575  \n",
       "1 -15.776895 -47.975704  \n",
       "2 -15.789014 -47.938794  \n",
       "3 -15.747387 -47.891175  \n",
       "4 -15.669269 -47.802543  \n",
       "5 -15.826566 -48.074543  \n",
       "6 -15.826566 -48.074543  \n",
       "7 -15.815299 -47.983879  \n",
       "8 -15.807411 -48.105587  \n",
       "9 -15.743135 -47.862260  "
      ],
      "text/html": [
       "<div>\n",
       "<style scoped>\n",
       "    .dataframe tbody tr th:only-of-type {\n",
       "        vertical-align: middle;\n",
       "    }\n",
       "\n",
       "    .dataframe tbody tr th {\n",
       "        vertical-align: top;\n",
       "    }\n",
       "\n",
       "    .dataframe thead th {\n",
       "        text-align: right;\n",
       "    }\n",
       "</style>\n",
       "<table border=\"1\" class=\"dataframe\">\n",
       "  <thead>\n",
       "    <tr style=\"text-align: right;\">\n",
       "      <th></th>\n",
       "      <th>id_estabelecimento</th>\n",
       "      <th>contador</th>\n",
       "      <th>nm_fantasia</th>\n",
       "      <th>lati</th>\n",
       "      <th>long</th>\n",
       "    </tr>\n",
       "  </thead>\n",
       "  <tbody>\n",
       "    <tr>\n",
       "      <th>0</th>\n",
       "      <td>11150</td>\n",
       "      <td>59965</td>\n",
       "      <td>UBS 01 ASA SUL</td>\n",
       "      <td>-15.822105</td>\n",
       "      <td>-47.891575</td>\n",
       "    </tr>\n",
       "    <tr>\n",
       "      <th>1</th>\n",
       "      <td>9056963</td>\n",
       "      <td>42049</td>\n",
       "      <td>UBS 01 VICENTE PIRES</td>\n",
       "      <td>-15.776895</td>\n",
       "      <td>-47.975704</td>\n",
       "    </tr>\n",
       "    <tr>\n",
       "      <th>2</th>\n",
       "      <td>7161158</td>\n",
       "      <td>23973</td>\n",
       "      <td>HOSPITAL MILITAR DE AREA DE BRASILIA</td>\n",
       "      <td>-15.789014</td>\n",
       "      <td>-47.938794</td>\n",
       "    </tr>\n",
       "    <tr>\n",
       "      <th>3</th>\n",
       "      <td>10723</td>\n",
       "      <td>23476</td>\n",
       "      <td>UBS 2 ASA NORTE</td>\n",
       "      <td>-15.747387</td>\n",
       "      <td>-47.891175</td>\n",
       "    </tr>\n",
       "    <tr>\n",
       "      <th>4</th>\n",
       "      <td>11223</td>\n",
       "      <td>20118</td>\n",
       "      <td>UBS 1 SOBRADINHO</td>\n",
       "      <td>-15.669269</td>\n",
       "      <td>-47.802543</td>\n",
       "    </tr>\n",
       "    <tr>\n",
       "      <th>5</th>\n",
       "      <td>10626</td>\n",
       "      <td>19994</td>\n",
       "      <td>UBS 05 TAGUATINGA</td>\n",
       "      <td>-15.826566</td>\n",
       "      <td>-48.074543</td>\n",
       "    </tr>\n",
       "    <tr>\n",
       "      <th>6</th>\n",
       "      <td>10901</td>\n",
       "      <td>19167</td>\n",
       "      <td>UBS 01 TAGUATINGA</td>\n",
       "      <td>-15.826566</td>\n",
       "      <td>-48.074543</td>\n",
       "    </tr>\n",
       "    <tr>\n",
       "      <th>7</th>\n",
       "      <td>11118</td>\n",
       "      <td>18167</td>\n",
       "      <td>UBS 01 GUARA</td>\n",
       "      <td>-15.815299</td>\n",
       "      <td>-47.983879</td>\n",
       "    </tr>\n",
       "    <tr>\n",
       "      <th>8</th>\n",
       "      <td>11010</td>\n",
       "      <td>18085</td>\n",
       "      <td>UBS 5 CEILANDIA</td>\n",
       "      <td>-15.807411</td>\n",
       "      <td>-48.105587</td>\n",
       "    </tr>\n",
       "    <tr>\n",
       "      <th>9</th>\n",
       "      <td>11614</td>\n",
       "      <td>17898</td>\n",
       "      <td>UBS 5 QUEBRADA DOS NERES</td>\n",
       "      <td>-15.743135</td>\n",
       "      <td>-47.862260</td>\n",
       "    </tr>\n",
       "  </tbody>\n",
       "</table>\n",
       "</div>"
      ]
     },
     "metadata": {},
     "execution_count": 127
    }
   ],
   "metadata": {}
  },
  {
   "cell_type": "code",
   "execution_count": 129,
   "source": [
    "# Criando marcadores\n",
    "\n",
    "from folium.plugins import MeasureControl\n",
    "\n",
    "m1 = fl.Map(location=[-15.7751257, -48.0785352],tiles='OpenStreetMap',zoom_control=False)\n",
    "\n",
    "ubs = fl.FeatureGroup(name='UBS DF - Pontos de vacinação Covid-19')\n",
    "for i in range(0,len(dfPostosGeo)): \n",
    "  fl.Marker([dfPostosGeo.loc[i,'lati'],dfPostosGeo.loc[i,'long']],\n",
    "  icon=fl.Icon(color='blue'),\n",
    "  tooltip= dfPostosGeo.loc[i,'nm_fantasia'],\n",
    "  ).add_to(ubs)\n",
    " \n",
    "top10 = fl.FeatureGroup(name='Pontos de vacinação mais cheios')\n",
    "for i in range(0,len(top10UBS)):\n",
    "  fl.Marker([top10UBS.loc[i,'lati'],top10UBS.loc[i,'long']],\n",
    "  icon=fl.Icon(color='red'),\n",
    "  tooltip= top10UBS.loc[i,'nm_fantasia'],\n",
    "  ).add_to(top10)\n",
    "\n",
    "m1.add_child(ubs)\n",
    "m1.add_child(top10)\n",
    "m1.add_child(MeasureControl())\n",
    "m1.add_child(fl.LatLngPopup())\n",
    "fl.LayerControl().add_to(m1)\n",
    "\n",
    "m1.save('mapa.html')\n",
    "\n",
    "m1"
   ],
   "outputs": [
    {
     "output_type": "execute_result",
     "data": {
      "text/plain": [
       "<folium.folium.Map at 0x7f9d9d8623d0>"
      ],
      "text/html": [
       "<div style=\"width:100%;\"><div style=\"position:relative;width:100%;height:0;padding-bottom:60%;\"><span style=\"color:#565656\">Make this Notebook Trusted to load map: File -> Trust Notebook</span><iframe src=\"about:blank\" style=\"position:absolute;width:100%;height:100%;left:0;top:0;border:none !important;\" data-html=%3C%21DOCTYPE%20html%3E%0A%3Chead%3E%20%20%20%20%0A%20%20%20%20%3Cmeta%20http-equiv%3D%22content-type%22%20content%3D%22text/html%3B%20charset%3DUTF-8%22%20/%3E%0A%20%20%20%20%0A%20%20%20%20%20%20%20%20%3Cscript%3E%0A%20%20%20%20%20%20%20%20%20%20%20%20L_NO_TOUCH%20%3D%20false%3B%0A%20%20%20%20%20%20%20%20%20%20%20%20L_DISABLE_3D%20%3D%20false%3B%0A%20%20%20%20%20%20%20%20%3C/script%3E%0A%20%20%20%20%0A%20%20%20%20%3Cstyle%3Ehtml%2C%20body%20%7Bwidth%3A%20100%25%3Bheight%3A%20100%25%3Bmargin%3A%200%3Bpadding%3A%200%3B%7D%3C/style%3E%0A%20%20%20%20%3Cstyle%3E%23map%20%7Bposition%3Aabsolute%3Btop%3A0%3Bbottom%3A0%3Bright%3A0%3Bleft%3A0%3B%7D%3C/style%3E%0A%20%20%20%20%3Cscript%20src%3D%22https%3A//cdn.jsdelivr.net/npm/leaflet%401.6.0/dist/leaflet.js%22%3E%3C/script%3E%0A%20%20%20%20%3Cscript%20src%3D%22https%3A//code.jquery.com/jquery-1.12.4.min.js%22%3E%3C/script%3E%0A%20%20%20%20%3Cscript%20src%3D%22https%3A//maxcdn.bootstrapcdn.com/bootstrap/3.2.0/js/bootstrap.min.js%22%3E%3C/script%3E%0A%20%20%20%20%3Cscript%20src%3D%22https%3A//cdnjs.cloudflare.com/ajax/libs/Leaflet.awesome-markers/2.0.2/leaflet.awesome-markers.js%22%3E%3C/script%3E%0A%20%20%20%20%3Clink%20rel%3D%22stylesheet%22%20href%3D%22https%3A//cdn.jsdelivr.net/npm/leaflet%401.6.0/dist/leaflet.css%22/%3E%0A%20%20%20%20%3Clink%20rel%3D%22stylesheet%22%20href%3D%22https%3A//maxcdn.bootstrapcdn.com/bootstrap/3.2.0/css/bootstrap.min.css%22/%3E%0A%20%20%20%20%3Clink%20rel%3D%22stylesheet%22%20href%3D%22https%3A//maxcdn.bootstrapcdn.com/bootstrap/3.2.0/css/bootstrap-theme.min.css%22/%3E%0A%20%20%20%20%3Clink%20rel%3D%22stylesheet%22%20href%3D%22https%3A//maxcdn.bootstrapcdn.com/font-awesome/4.6.3/css/font-awesome.min.css%22/%3E%0A%20%20%20%20%3Clink%20rel%3D%22stylesheet%22%20href%3D%22https%3A//cdnjs.cloudflare.com/ajax/libs/Leaflet.awesome-markers/2.0.2/leaflet.awesome-markers.css%22/%3E%0A%20%20%20%20%3Clink%20rel%3D%22stylesheet%22%20href%3D%22https%3A//cdn.jsdelivr.net/gh/python-visualization/folium/folium/templates/leaflet.awesome.rotate.min.css%22/%3E%0A%20%20%20%20%0A%20%20%20%20%20%20%20%20%20%20%20%20%3Cmeta%20name%3D%22viewport%22%20content%3D%22width%3Ddevice-width%2C%0A%20%20%20%20%20%20%20%20%20%20%20%20%20%20%20%20initial-scale%3D1.0%2C%20maximum-scale%3D1.0%2C%20user-scalable%3Dno%22%20/%3E%0A%20%20%20%20%20%20%20%20%20%20%20%20%3Cstyle%3E%0A%20%20%20%20%20%20%20%20%20%20%20%20%20%20%20%20%23map_43abfeea223a455a923fc11dfc0b87ad%20%7B%0A%20%20%20%20%20%20%20%20%20%20%20%20%20%20%20%20%20%20%20%20position%3A%20relative%3B%0A%20%20%20%20%20%20%20%20%20%20%20%20%20%20%20%20%20%20%20%20width%3A%20100.0%25%3B%0A%20%20%20%20%20%20%20%20%20%20%20%20%20%20%20%20%20%20%20%20height%3A%20100.0%25%3B%0A%20%20%20%20%20%20%20%20%20%20%20%20%20%20%20%20%20%20%20%20left%3A%200.0%25%3B%0A%20%20%20%20%20%20%20%20%20%20%20%20%20%20%20%20%20%20%20%20top%3A%200.0%25%3B%0A%20%20%20%20%20%20%20%20%20%20%20%20%20%20%20%20%7D%0A%20%20%20%20%20%20%20%20%20%20%20%20%3C/style%3E%0A%20%20%20%20%20%20%20%20%0A%20%20%20%20%3Cscript%20src%3D%22https%3A//cdn.jsdelivr.net/gh/ljagis/leaflet-measure%402.1.7/dist/leaflet-measure.min.js%22%3E%3C/script%3E%0A%20%20%20%20%3Clink%20rel%3D%22stylesheet%22%20href%3D%22https%3A//cdn.jsdelivr.net/gh/ljagis/leaflet-measure%402.1.7/dist/leaflet-measure.min.css%22/%3E%0A%3C/head%3E%0A%3Cbody%3E%20%20%20%20%0A%20%20%20%20%0A%20%20%20%20%20%20%20%20%20%20%20%20%3Cdiv%20class%3D%22folium-map%22%20id%3D%22map_43abfeea223a455a923fc11dfc0b87ad%22%20%3E%3C/div%3E%0A%20%20%20%20%20%20%20%20%0A%3C/body%3E%0A%3Cscript%3E%20%20%20%20%0A%20%20%20%20%0A%20%20%20%20%20%20%20%20%20%20%20%20var%20map_43abfeea223a455a923fc11dfc0b87ad%20%3D%20L.map%28%0A%20%20%20%20%20%20%20%20%20%20%20%20%20%20%20%20%22map_43abfeea223a455a923fc11dfc0b87ad%22%2C%0A%20%20%20%20%20%20%20%20%20%20%20%20%20%20%20%20%7B%0A%20%20%20%20%20%20%20%20%20%20%20%20%20%20%20%20%20%20%20%20center%3A%20%5B-15.7751257%2C%20-48.0785352%5D%2C%0A%20%20%20%20%20%20%20%20%20%20%20%20%20%20%20%20%20%20%20%20crs%3A%20L.CRS.EPSG3857%2C%0A%20%20%20%20%20%20%20%20%20%20%20%20%20%20%20%20%20%20%20%20zoom%3A%2010%2C%0A%20%20%20%20%20%20%20%20%20%20%20%20%20%20%20%20%20%20%20%20zoomControl%3A%20false%2C%0A%20%20%20%20%20%20%20%20%20%20%20%20%20%20%20%20%20%20%20%20preferCanvas%3A%20false%2C%0A%20%20%20%20%20%20%20%20%20%20%20%20%20%20%20%20%7D%0A%20%20%20%20%20%20%20%20%20%20%20%20%29%3B%0A%0A%20%20%20%20%20%20%20%20%20%20%20%20%0A%0A%20%20%20%20%20%20%20%20%0A%20%20%20%20%0A%20%20%20%20%20%20%20%20%20%20%20%20var%20tile_layer_71efe97295744eaa8d22445b8efea652%20%3D%20L.tileLayer%28%0A%20%20%20%20%20%20%20%20%20%20%20%20%20%20%20%20%22https%3A//%7Bs%7D.tile.openstreetmap.org/%7Bz%7D/%7Bx%7D/%7By%7D.png%22%2C%0A%20%20%20%20%20%20%20%20%20%20%20%20%20%20%20%20%7B%22attribution%22%3A%20%22Data%20by%20%5Cu0026copy%3B%20%5Cu003ca%20href%3D%5C%22http%3A//openstreetmap.org%5C%22%5Cu003eOpenStreetMap%5Cu003c/a%5Cu003e%2C%20under%20%5Cu003ca%20href%3D%5C%22http%3A//www.openstreetmap.org/copyright%5C%22%5Cu003eODbL%5Cu003c/a%5Cu003e.%22%2C%20%22detectRetina%22%3A%20false%2C%20%22maxNativeZoom%22%3A%2018%2C%20%22maxZoom%22%3A%2018%2C%20%22minZoom%22%3A%200%2C%20%22noWrap%22%3A%20false%2C%20%22opacity%22%3A%201%2C%20%22subdomains%22%3A%20%22abc%22%2C%20%22tms%22%3A%20false%7D%0A%20%20%20%20%20%20%20%20%20%20%20%20%29.addTo%28map_43abfeea223a455a923fc11dfc0b87ad%29%3B%0A%20%20%20%20%20%20%20%20%0A%20%20%20%20%0A%20%20%20%20%20%20%20%20%20%20%20%20var%20feature_group_a032285a320245db8b8ffde065bf7bdd%20%3D%20L.featureGroup%28%0A%20%20%20%20%20%20%20%20%20%20%20%20%20%20%20%20%7B%7D%0A%20%20%20%20%20%20%20%20%20%20%20%20%29.addTo%28map_43abfeea223a455a923fc11dfc0b87ad%29%3B%0A%20%20%20%20%20%20%20%20%0A%20%20%20%20%0A%20%20%20%20%20%20%20%20%20%20%20%20var%20marker_20ee1a454e6b49318c1f29ebb07cd51b%20%3D%20L.marker%28%0A%20%20%20%20%20%20%20%20%20%20%20%20%20%20%20%20%5B-15.8006687164307%2C%20-47.8612823486328%5D%2C%0A%20%20%20%20%20%20%20%20%20%20%20%20%20%20%20%20%7B%7D%0A%20%20%20%20%20%20%20%20%20%20%20%20%29.addTo%28feature_group_a032285a320245db8b8ffde065bf7bdd%29%3B%0A%20%20%20%20%20%20%20%20%0A%20%20%20%20%0A%20%20%20%20%20%20%20%20%20%20%20%20var%20icon_20752b985646459b8e4f20b05719c31d%20%3D%20L.AwesomeMarkers.icon%28%0A%20%20%20%20%20%20%20%20%20%20%20%20%20%20%20%20%7B%22extraClasses%22%3A%20%22fa-rotate-0%22%2C%20%22icon%22%3A%20%22info-sign%22%2C%20%22iconColor%22%3A%20%22white%22%2C%20%22markerColor%22%3A%20%22blue%22%2C%20%22prefix%22%3A%20%22glyphicon%22%7D%0A%20%20%20%20%20%20%20%20%20%20%20%20%29%3B%0A%20%20%20%20%20%20%20%20%20%20%20%20marker_20ee1a454e6b49318c1f29ebb07cd51b.setIcon%28icon_20752b985646459b8e4f20b05719c31d%29%3B%0A%20%20%20%20%20%20%20%20%0A%20%20%20%20%0A%20%20%20%20%20%20%20%20%20%20%20%20marker_20ee1a454e6b49318c1f29ebb07cd51b.bindTooltip%28%0A%20%20%20%20%20%20%20%20%20%20%20%20%20%20%20%20%60%3Cdiv%3E%0A%20%20%20%20%20%20%20%20%20%20%20%20%20%20%20%20%20%20%20%20%20DEPARTAMENTO%20MEDICO%20CAMARA%20DOS%20DEPUTADOS%0A%20%20%20%20%20%20%20%20%20%20%20%20%20%20%20%20%20%3C/div%3E%60%2C%0A%20%20%20%20%20%20%20%20%20%20%20%20%20%20%20%20%7B%22sticky%22%3A%20true%7D%0A%20%20%20%20%20%20%20%20%20%20%20%20%29%3B%0A%20%20%20%20%20%20%20%20%0A%20%20%20%20%0A%20%20%20%20%20%20%20%20%20%20%20%20var%20marker_cac0c853abcf48d78f149e2e32228701%20%3D%20L.marker%28%0A%20%20%20%20%20%20%20%20%20%20%20%20%20%20%20%20%5B-15.8221045703423%2C%20-47.8915749526605%5D%2C%0A%20%20%20%20%20%20%20%20%20%20%20%20%20%20%20%20%7B%7D%0A%20%20%20%20%20%20%20%20%20%20%20%20%29.addTo%28feature_group_a032285a320245db8b8ffde065bf7bdd%29%3B%0A%20%20%20%20%20%20%20%20%0A%20%20%20%20%0A%20%20%20%20%20%20%20%20%20%20%20%20var%20icon_6472b9936eef4d91a6828be4e22af4e2%20%3D%20L.AwesomeMarkers.icon%28%0A%20%20%20%20%20%20%20%20%20%20%20%20%20%20%20%20%7B%22extraClasses%22%3A%20%22fa-rotate-0%22%2C%20%22icon%22%3A%20%22info-sign%22%2C%20%22iconColor%22%3A%20%22white%22%2C%20%22markerColor%22%3A%20%22blue%22%2C%20%22prefix%22%3A%20%22glyphicon%22%7D%0A%20%20%20%20%20%20%20%20%20%20%20%20%29%3B%0A%20%20%20%20%20%20%20%20%20%20%20%20marker_cac0c853abcf48d78f149e2e32228701.setIcon%28icon_6472b9936eef4d91a6828be4e22af4e2%29%3B%0A%20%20%20%20%20%20%20%20%0A%20%20%20%20%0A%20%20%20%20%20%20%20%20%20%20%20%20marker_cac0c853abcf48d78f149e2e32228701.bindTooltip%28%0A%20%20%20%20%20%20%20%20%20%20%20%20%20%20%20%20%60%3Cdiv%3E%0A%20%20%20%20%20%20%20%20%20%20%20%20%20%20%20%20%20%20%20%20%20UBS%2001%20ASA%20SUL%0A%20%20%20%20%20%20%20%20%20%20%20%20%20%20%20%20%20%3C/div%3E%60%2C%0A%20%20%20%20%20%20%20%20%20%20%20%20%20%20%20%20%7B%22sticky%22%3A%20true%7D%0A%20%20%20%20%20%20%20%20%20%20%20%20%29%3B%0A%20%20%20%20%20%20%20%20%0A%20%20%20%20%0A%20%20%20%20%20%20%20%20%20%20%20%20var%20marker_203893a630c34dbba00206bf60a42081%20%3D%20L.marker%28%0A%20%20%20%20%20%20%20%20%20%20%20%20%20%20%20%20%5B-15.8239097595215%2C%20-47.8977088928223%5D%2C%0A%20%20%20%20%20%20%20%20%20%20%20%20%20%20%20%20%7B%7D%0A%20%20%20%20%20%20%20%20%20%20%20%20%29.addTo%28feature_group_a032285a320245db8b8ffde065bf7bdd%29%3B%0A%20%20%20%20%20%20%20%20%0A%20%20%20%20%0A%20%20%20%20%20%20%20%20%20%20%20%20var%20icon_5e9324d0fc2d4275841e9c97d99f19da%20%3D%20L.AwesomeMarkers.icon%28%0A%20%20%20%20%20%20%20%20%20%20%20%20%20%20%20%20%7B%22extraClasses%22%3A%20%22fa-rotate-0%22%2C%20%22icon%22%3A%20%22info-sign%22%2C%20%22iconColor%22%3A%20%22white%22%2C%20%22markerColor%22%3A%20%22blue%22%2C%20%22prefix%22%3A%20%22glyphicon%22%7D%0A%20%20%20%20%20%20%20%20%20%20%20%20%29%3B%0A%20%20%20%20%20%20%20%20%20%20%20%20marker_203893a630c34dbba00206bf60a42081.setIcon%28icon_5e9324d0fc2d4275841e9c97d99f19da%29%3B%0A%20%20%20%20%20%20%20%20%0A%20%20%20%20%0A%20%20%20%20%20%20%20%20%20%20%20%20marker_203893a630c34dbba00206bf60a42081.bindTooltip%28%0A%20%20%20%20%20%20%20%20%20%20%20%20%20%20%20%20%60%3Cdiv%3E%0A%20%20%20%20%20%20%20%20%20%20%20%20%20%20%20%20%20%20%20%20%20HOSPITAL%20MATERNO%20INFANTIL%20DE%20BRASILIA%20HMIB%0A%20%20%20%20%20%20%20%20%20%20%20%20%20%20%20%20%20%3C/div%3E%60%2C%0A%20%20%20%20%20%20%20%20%20%20%20%20%20%20%20%20%7B%22sticky%22%3A%20true%7D%0A%20%20%20%20%20%20%20%20%20%20%20%20%29%3B%0A%20%20%20%20%20%20%20%20%0A%20%20%20%20%0A%20%20%20%20%20%20%20%20%20%20%20%20var%20marker_9bf95d0f3c284838adff0d608f5b7732%20%3D%20L.marker%28%0A%20%20%20%20%20%20%20%20%20%20%20%20%20%20%20%20%5B-15.8192100524902%2C%20-47.9058933258057%5D%2C%0A%20%20%20%20%20%20%20%20%20%20%20%20%20%20%20%20%7B%7D%0A%20%20%20%20%20%20%20%20%20%20%20%20%29.addTo%28feature_group_a032285a320245db8b8ffde065bf7bdd%29%3B%0A%20%20%20%20%20%20%20%20%0A%20%20%20%20%0A%20%20%20%20%20%20%20%20%20%20%20%20var%20icon_eeb5a46f7973456995a775e7230d77cc%20%3D%20L.AwesomeMarkers.icon%28%0A%20%20%20%20%20%20%20%20%20%20%20%20%20%20%20%20%7B%22extraClasses%22%3A%20%22fa-rotate-0%22%2C%20%22icon%22%3A%20%22info-sign%22%2C%20%22iconColor%22%3A%20%22white%22%2C%20%22markerColor%22%3A%20%22blue%22%2C%20%22prefix%22%3A%20%22glyphicon%22%7D%0A%20%20%20%20%20%20%20%20%20%20%20%20%29%3B%0A%20%20%20%20%20%20%20%20%20%20%20%20marker_9bf95d0f3c284838adff0d608f5b7732.setIcon%28icon_eeb5a46f7973456995a775e7230d77cc%29%3B%0A%20%20%20%20%20%20%20%20%0A%20%20%20%20%0A%20%20%20%20%20%20%20%20%20%20%20%20marker_9bf95d0f3c284838adff0d608f5b7732.bindTooltip%28%0A%20%20%20%20%20%20%20%20%20%20%20%20%20%20%20%20%60%3Cdiv%3E%0A%20%20%20%20%20%20%20%20%20%20%20%20%20%20%20%20%20%20%20%20%20UBS%205%20GRANJA%20DO%20TORTO%0A%20%20%20%20%20%20%20%20%20%20%20%20%20%20%20%20%20%3C/div%3E%60%2C%0A%20%20%20%20%20%20%20%20%20%20%20%20%20%20%20%20%7B%22sticky%22%3A%20true%7D%0A%20%20%20%20%20%20%20%20%20%20%20%20%29%3B%0A%20%20%20%20%20%20%20%20%0A%20%20%20%20%0A%20%20%20%20%20%20%20%20%20%20%20%20var%20marker_31b340e2a22b42f8b0e4799dfd38c25a%20%3D%20L.marker%28%0A%20%20%20%20%20%20%20%20%20%20%20%20%20%20%20%20%5B-15.7896597726004%2C%20-47.9447870130663%5D%2C%0A%20%20%20%20%20%20%20%20%20%20%20%20%20%20%20%20%7B%7D%0A%20%20%20%20%20%20%20%20%20%20%20%20%29.addTo%28feature_group_a032285a320245db8b8ffde065bf7bdd%29%3B%0A%20%20%20%20%20%20%20%20%0A%20%20%20%20%0A%20%20%20%20%20%20%20%20%20%20%20%20var%20icon_a94d0e055aab44bda097a2211b2bbb06%20%3D%20L.AwesomeMarkers.icon%28%0A%20%20%20%20%20%20%20%20%20%20%20%20%20%20%20%20%7B%22extraClasses%22%3A%20%22fa-rotate-0%22%2C%20%22icon%22%3A%20%22info-sign%22%2C%20%22iconColor%22%3A%20%22white%22%2C%20%22markerColor%22%3A%20%22blue%22%2C%20%22prefix%22%3A%20%22glyphicon%22%7D%0A%20%20%20%20%20%20%20%20%20%20%20%20%29%3B%0A%20%20%20%20%20%20%20%20%20%20%20%20marker_31b340e2a22b42f8b0e4799dfd38c25a.setIcon%28icon_a94d0e055aab44bda097a2211b2bbb06%29%3B%0A%20%20%20%20%20%20%20%20%0A%20%20%20%20%0A%20%20%20%20%20%20%20%20%20%20%20%20marker_31b340e2a22b42f8b0e4799dfd38c25a.bindTooltip%28%0A%20%20%20%20%20%20%20%20%20%20%20%20%20%20%20%20%60%3Cdiv%3E%0A%20%20%20%20%20%20%20%20%20%20%20%20%20%20%20%20%20%20%20%20%20UBS%202%20CRUZEIRO%0A%20%20%20%20%20%20%20%20%20%20%20%20%20%20%20%20%20%3C/div%3E%60%2C%0A%20%20%20%20%20%20%20%20%20%20%20%20%20%20%20%20%7B%22sticky%22%3A%20true%7D%0A%20%20%20%20%20%20%20%20%20%20%20%20%29%3B%0A%20%20%20%20%20%20%20%20%0A%20%20%20%20%0A%20%20%20%20%20%20%20%20%20%20%20%20var%20marker_6b8f14b962ca4188bf1bc421085f4a4f%20%3D%20L.marker%28%0A%20%20%20%20%20%20%20%20%20%20%20%20%20%20%20%20%5B-15.7981074436291%2C%20-47.9359308964497%5D%2C%0A%20%20%20%20%20%20%20%20%20%20%20%20%20%20%20%20%7B%7D%0A%20%20%20%20%20%20%20%20%20%20%20%20%29.addTo%28feature_group_a032285a320245db8b8ffde065bf7bdd%29%3B%0A%20%20%20%20%20%20%20%20%0A%20%20%20%20%0A%20%20%20%20%20%20%20%20%20%20%20%20var%20icon_a252ff5f88f54fa79af3ca54113d689d%20%3D%20L.AwesomeMarkers.icon%28%0A%20%20%20%20%20%20%20%20%20%20%20%20%20%20%20%20%7B%22extraClasses%22%3A%20%22fa-rotate-0%22%2C%20%22icon%22%3A%20%22info-sign%22%2C%20%22iconColor%22%3A%20%22white%22%2C%20%22markerColor%22%3A%20%22blue%22%2C%20%22prefix%22%3A%20%22glyphicon%22%7D%0A%20%20%20%20%20%20%20%20%20%20%20%20%29%3B%0A%20%20%20%20%20%20%20%20%20%20%20%20marker_6b8f14b962ca4188bf1bc421085f4a4f.setIcon%28icon_a252ff5f88f54fa79af3ca54113d689d%29%3B%0A%20%20%20%20%20%20%20%20%0A%20%20%20%20%0A%20%20%20%20%20%20%20%20%20%20%20%20marker_6b8f14b962ca4188bf1bc421085f4a4f.bindTooltip%28%0A%20%20%20%20%20%20%20%20%20%20%20%20%20%20%20%20%60%3Cdiv%3E%0A%20%20%20%20%20%20%20%20%20%20%20%20%20%20%20%20%20%20%20%20%20UBS%201%20CRUZEIRO%0A%20%20%20%20%20%20%20%20%20%20%20%20%20%20%20%20%20%3C/div%3E%60%2C%0A%20%20%20%20%20%20%20%20%20%20%20%20%20%20%20%20%7B%22sticky%22%3A%20true%7D%0A%20%20%20%20%20%20%20%20%20%20%20%20%29%3B%0A%20%20%20%20%20%20%20%20%0A%20%20%20%20%0A%20%20%20%20%20%20%20%20%20%20%20%20var%20marker_36b86851593e461f8d8652c30b7a04a3%20%3D%20L.marker%28%0A%20%20%20%20%20%20%20%20%20%20%20%20%20%20%20%20%5B-15.7820812722911%2C%20-47.8858330768088%5D%2C%0A%20%20%20%20%20%20%20%20%20%20%20%20%20%20%20%20%7B%7D%0A%20%20%20%20%20%20%20%20%20%20%20%20%29.addTo%28feature_group_a032285a320245db8b8ffde065bf7bdd%29%3B%0A%20%20%20%20%20%20%20%20%0A%20%20%20%20%0A%20%20%20%20%20%20%20%20%20%20%20%20var%20icon_76513107999c4475bd7d4587005115a1%20%3D%20L.AwesomeMarkers.icon%28%0A%20%20%20%20%20%20%20%20%20%20%20%20%20%20%20%20%7B%22extraClasses%22%3A%20%22fa-rotate-0%22%2C%20%22icon%22%3A%20%22info-sign%22%2C%20%22iconColor%22%3A%20%22white%22%2C%20%22markerColor%22%3A%20%22blue%22%2C%20%22prefix%22%3A%20%22glyphicon%22%7D%0A%20%20%20%20%20%20%20%20%20%20%20%20%29%3B%0A%20%20%20%20%20%20%20%20%20%20%20%20marker_36b86851593e461f8d8652c30b7a04a3.setIcon%28icon_76513107999c4475bd7d4587005115a1%29%3B%0A%20%20%20%20%20%20%20%20%0A%20%20%20%20%0A%20%20%20%20%20%20%20%20%20%20%20%20marker_36b86851593e461f8d8652c30b7a04a3.bindTooltip%28%0A%20%20%20%20%20%20%20%20%20%20%20%20%20%20%20%20%60%3Cdiv%3E%0A%20%20%20%20%20%20%20%20%20%20%20%20%20%20%20%20%20%20%20%20%20HRAN%0A%20%20%20%20%20%20%20%20%20%20%20%20%20%20%20%20%20%3C/div%3E%60%2C%0A%20%20%20%20%20%20%20%20%20%20%20%20%20%20%20%20%7B%22sticky%22%3A%20true%7D%0A%20%20%20%20%20%20%20%20%20%20%20%20%29%3B%0A%20%20%20%20%20%20%20%20%0A%20%20%20%20%0A%20%20%20%20%20%20%20%20%20%20%20%20var%20marker_48583cf46c784899a87a02b5b5b5b209%20%3D%20L.marker%28%0A%20%20%20%20%20%20%20%20%20%20%20%20%20%20%20%20%5B-15.747386932373%2C%20-47.8911753760444%5D%2C%0A%20%20%20%20%20%20%20%20%20%20%20%20%20%20%20%20%7B%7D%0A%20%20%20%20%20%20%20%20%20%20%20%20%29.addTo%28feature_group_a032285a320245db8b8ffde065bf7bdd%29%3B%0A%20%20%20%20%20%20%20%20%0A%20%20%20%20%0A%20%20%20%20%20%20%20%20%20%20%20%20var%20icon_ae555c5413f046079d116e67b4f6ddb2%20%3D%20L.AwesomeMarkers.icon%28%0A%20%20%20%20%20%20%20%20%20%20%20%20%20%20%20%20%7B%22extraClasses%22%3A%20%22fa-rotate-0%22%2C%20%22icon%22%3A%20%22info-sign%22%2C%20%22iconColor%22%3A%20%22white%22%2C%20%22markerColor%22%3A%20%22blue%22%2C%20%22prefix%22%3A%20%22glyphicon%22%7D%0A%20%20%20%20%20%20%20%20%20%20%20%20%29%3B%0A%20%20%20%20%20%20%20%20%20%20%20%20marker_48583cf46c784899a87a02b5b5b5b209.setIcon%28icon_ae555c5413f046079d116e67b4f6ddb2%29%3B%0A%20%20%20%20%20%20%20%20%0A%20%20%20%20%0A%20%20%20%20%20%20%20%20%20%20%20%20marker_48583cf46c784899a87a02b5b5b5b209.bindTooltip%28%0A%20%20%20%20%20%20%20%20%20%20%20%20%20%20%20%20%60%3Cdiv%3E%0A%20%20%20%20%20%20%20%20%20%20%20%20%20%20%20%20%20%20%20%20%20UBS%202%20ASA%20NORTE%0A%20%20%20%20%20%20%20%20%20%20%20%20%20%20%20%20%20%3C/div%3E%60%2C%0A%20%20%20%20%20%20%20%20%20%20%20%20%20%20%20%20%7B%22sticky%22%3A%20true%7D%0A%20%20%20%20%20%20%20%20%20%20%20%20%29%3B%0A%20%20%20%20%20%20%20%20%0A%20%20%20%20%0A%20%20%20%20%20%20%20%20%20%20%20%20var%20marker_925fe93bf47c494896a5067bffccb4d0%20%3D%20L.marker%28%0A%20%20%20%20%20%20%20%20%20%20%20%20%20%20%20%20%5B-15.7582295794006%2C%20-47.8953375860092%5D%2C%0A%20%20%20%20%20%20%20%20%20%20%20%20%20%20%20%20%7B%7D%0A%20%20%20%20%20%20%20%20%20%20%20%20%29.addTo%28feature_group_a032285a320245db8b8ffde065bf7bdd%29%3B%0A%20%20%20%20%20%20%20%20%0A%20%20%20%20%0A%20%20%20%20%20%20%20%20%20%20%20%20var%20icon_0170389b429a4d5f8f65a4f5107920a7%20%3D%20L.AwesomeMarkers.icon%28%0A%20%20%20%20%20%20%20%20%20%20%20%20%20%20%20%20%7B%22extraClasses%22%3A%20%22fa-rotate-0%22%2C%20%22icon%22%3A%20%22info-sign%22%2C%20%22iconColor%22%3A%20%22white%22%2C%20%22markerColor%22%3A%20%22blue%22%2C%20%22prefix%22%3A%20%22glyphicon%22%7D%0A%20%20%20%20%20%20%20%20%20%20%20%20%29%3B%0A%20%20%20%20%20%20%20%20%20%20%20%20marker_925fe93bf47c494896a5067bffccb4d0.setIcon%28icon_0170389b429a4d5f8f65a4f5107920a7%29%3B%0A%20%20%20%20%20%20%20%20%0A%20%20%20%20%0A%20%20%20%20%20%20%20%20%20%20%20%20marker_925fe93bf47c494896a5067bffccb4d0.bindTooltip%28%0A%20%20%20%20%20%20%20%20%20%20%20%20%20%20%20%20%60%3Cdiv%3E%0A%20%20%20%20%20%20%20%20%20%20%20%20%20%20%20%20%20%20%20%20%20UBS%201%20ASA%20NORTE%0A%20%20%20%20%20%20%20%20%20%20%20%20%20%20%20%20%20%3C/div%3E%60%2C%0A%20%20%20%20%20%20%20%20%20%20%20%20%20%20%20%20%7B%22sticky%22%3A%20true%7D%0A%20%20%20%20%20%20%20%20%20%20%20%20%29%3B%0A%20%20%20%20%20%20%20%20%0A%20%20%20%20%0A%20%20%20%20%20%20%20%20%20%20%20%20var%20marker_dd6951ca3ec94680ab456f3d73c20e94%20%3D%20L.marker%28%0A%20%20%20%20%20%20%20%20%20%20%20%20%20%20%20%20%5B-15.8054806493944%2C%20-47.8683471679688%5D%2C%0A%20%20%20%20%20%20%20%20%20%20%20%20%20%20%20%20%7B%7D%0A%20%20%20%20%20%20%20%20%20%20%20%20%29.addTo%28feature_group_a032285a320245db8b8ffde065bf7bdd%29%3B%0A%20%20%20%20%20%20%20%20%0A%20%20%20%20%0A%20%20%20%20%20%20%20%20%20%20%20%20var%20icon_4c97236585614948b5a6eb213c961807%20%3D%20L.AwesomeMarkers.icon%28%0A%20%20%20%20%20%20%20%20%20%20%20%20%20%20%20%20%7B%22extraClasses%22%3A%20%22fa-rotate-0%22%2C%20%22icon%22%3A%20%22info-sign%22%2C%20%22iconColor%22%3A%20%22white%22%2C%20%22markerColor%22%3A%20%22blue%22%2C%20%22prefix%22%3A%20%22glyphicon%22%7D%0A%20%20%20%20%20%20%20%20%20%20%20%20%29%3B%0A%20%20%20%20%20%20%20%20%20%20%20%20marker_dd6951ca3ec94680ab456f3d73c20e94.setIcon%28icon_4c97236585614948b5a6eb213c961807%29%3B%0A%20%20%20%20%20%20%20%20%0A%20%20%20%20%0A%20%20%20%20%20%20%20%20%20%20%20%20marker_dd6951ca3ec94680ab456f3d73c20e94.bindTooltip%28%0A%20%20%20%20%20%20%20%20%20%20%20%20%20%20%20%20%60%3Cdiv%3E%0A%20%20%20%20%20%20%20%20%20%20%20%20%20%20%20%20%20%20%20%20%20UBS%203%20ASA%20NORTE%20VILA%20PLANALTO%0A%20%20%20%20%20%20%20%20%20%20%20%20%20%20%20%20%20%3C/div%3E%60%2C%0A%20%20%20%20%20%20%20%20%20%20%20%20%20%20%20%20%7B%22sticky%22%3A%20true%7D%0A%20%20%20%20%20%20%20%20%20%20%20%20%29%3B%0A%20%20%20%20%20%20%20%20%0A%20%20%20%20%0A%20%20%20%20%20%20%20%20%20%20%20%20var%20marker_6988bfa140ce44ae9de5ae3802db3e24%20%3D%20L.marker%28%0A%20%20%20%20%20%20%20%20%20%20%20%20%20%20%20%20%5B-15.8152985449495%2C%20-47.983878579633%5D%2C%0A%20%20%20%20%20%20%20%20%20%20%20%20%20%20%20%20%7B%7D%0A%20%20%20%20%20%20%20%20%20%20%20%20%29.addTo%28feature_group_a032285a320245db8b8ffde065bf7bdd%29%3B%0A%20%20%20%20%20%20%20%20%0A%20%20%20%20%0A%20%20%20%20%20%20%20%20%20%20%20%20var%20icon_05224b1cf28a4018bcc6b264ca571c09%20%3D%20L.AwesomeMarkers.icon%28%0A%20%20%20%20%20%20%20%20%20%20%20%20%20%20%20%20%7B%22extraClasses%22%3A%20%22fa-rotate-0%22%2C%20%22icon%22%3A%20%22info-sign%22%2C%20%22iconColor%22%3A%20%22white%22%2C%20%22markerColor%22%3A%20%22blue%22%2C%20%22prefix%22%3A%20%22glyphicon%22%7D%0A%20%20%20%20%20%20%20%20%20%20%20%20%29%3B%0A%20%20%20%20%20%20%20%20%20%20%20%20marker_6988bfa140ce44ae9de5ae3802db3e24.setIcon%28icon_05224b1cf28a4018bcc6b264ca571c09%29%3B%0A%20%20%20%20%20%20%20%20%0A%20%20%20%20%0A%20%20%20%20%20%20%20%20%20%20%20%20marker_6988bfa140ce44ae9de5ae3802db3e24.bindTooltip%28%0A%20%20%20%20%20%20%20%20%20%20%20%20%20%20%20%20%60%3Cdiv%3E%0A%20%20%20%20%20%20%20%20%20%20%20%20%20%20%20%20%20%20%20%20%20HOSPITAL%20REGIONAL%20DO%20GUARA%20I%0A%20%20%20%20%20%20%20%20%20%20%20%20%20%20%20%20%20%3C/div%3E%60%2C%0A%20%20%20%20%20%20%20%20%20%20%20%20%20%20%20%20%7B%22sticky%22%3A%20true%7D%0A%20%20%20%20%20%20%20%20%20%20%20%20%29%3B%0A%20%20%20%20%20%20%20%20%0A%20%20%20%20%0A%20%20%20%20%20%20%20%20%20%20%20%20var%20marker_ceadc8a23f7d4fdea0dd025702f84845%20%3D%20L.marker%28%0A%20%20%20%20%20%20%20%20%20%20%20%20%20%20%20%20%5B-15.8152985449495%2C%20-47.983878579633%5D%2C%0A%20%20%20%20%20%20%20%20%20%20%20%20%20%20%20%20%7B%7D%0A%20%20%20%20%20%20%20%20%20%20%20%20%29.addTo%28feature_group_a032285a320245db8b8ffde065bf7bdd%29%3B%0A%20%20%20%20%20%20%20%20%0A%20%20%20%20%0A%20%20%20%20%20%20%20%20%20%20%20%20var%20icon_db81d70eb09e43609a777c824eda88d6%20%3D%20L.AwesomeMarkers.icon%28%0A%20%20%20%20%20%20%20%20%20%20%20%20%20%20%20%20%7B%22extraClasses%22%3A%20%22fa-rotate-0%22%2C%20%22icon%22%3A%20%22info-sign%22%2C%20%22iconColor%22%3A%20%22white%22%2C%20%22markerColor%22%3A%20%22blue%22%2C%20%22prefix%22%3A%20%22glyphicon%22%7D%0A%20%20%20%20%20%20%20%20%20%20%20%20%29%3B%0A%20%20%20%20%20%20%20%20%20%20%20%20marker_ceadc8a23f7d4fdea0dd025702f84845.setIcon%28icon_db81d70eb09e43609a777c824eda88d6%29%3B%0A%20%20%20%20%20%20%20%20%0A%20%20%20%20%0A%20%20%20%20%20%20%20%20%20%20%20%20marker_ceadc8a23f7d4fdea0dd025702f84845.bindTooltip%28%0A%20%20%20%20%20%20%20%20%20%20%20%20%20%20%20%20%60%3Cdiv%3E%0A%20%20%20%20%20%20%20%20%20%20%20%20%20%20%20%20%20%20%20%20%20UBS%2001%20GUARA%0A%20%20%20%20%20%20%20%20%20%20%20%20%20%20%20%20%20%3C/div%3E%60%2C%0A%20%20%20%20%20%20%20%20%20%20%20%20%20%20%20%20%7B%22sticky%22%3A%20true%7D%0A%20%20%20%20%20%20%20%20%20%20%20%20%29%3B%0A%20%20%20%20%20%20%20%20%0A%20%20%20%20%0A%20%20%20%20%20%20%20%20%20%20%20%20var%20marker_02c7f16735fc47b19fe50c1f279a30f1%20%3D%20L.marker%28%0A%20%20%20%20%20%20%20%20%20%20%20%20%20%20%20%20%5B-15.8220034444798%2C%20-47.9848123688937%5D%2C%0A%20%20%20%20%20%20%20%20%20%20%20%20%20%20%20%20%7B%7D%0A%20%20%20%20%20%20%20%20%20%20%20%20%29.addTo%28feature_group_a032285a320245db8b8ffde065bf7bdd%29%3B%0A%20%20%20%20%20%20%20%20%0A%20%20%20%20%0A%20%20%20%20%20%20%20%20%20%20%20%20var%20icon_434d52212fe64511a9565263c7b879d3%20%3D%20L.AwesomeMarkers.icon%28%0A%20%20%20%20%20%20%20%20%20%20%20%20%20%20%20%20%7B%22extraClasses%22%3A%20%22fa-rotate-0%22%2C%20%22icon%22%3A%20%22info-sign%22%2C%20%22iconColor%22%3A%20%22white%22%2C%20%22markerColor%22%3A%20%22blue%22%2C%20%22prefix%22%3A%20%22glyphicon%22%7D%0A%20%20%20%20%20%20%20%20%20%20%20%20%29%3B%0A%20%20%20%20%20%20%20%20%20%20%20%20marker_02c7f16735fc47b19fe50c1f279a30f1.setIcon%28icon_434d52212fe64511a9565263c7b879d3%29%3B%0A%20%20%20%20%20%20%20%20%0A%20%20%20%20%0A%20%20%20%20%20%20%20%20%20%20%20%20marker_02c7f16735fc47b19fe50c1f279a30f1.bindTooltip%28%0A%20%20%20%20%20%20%20%20%20%20%20%20%20%20%20%20%60%3Cdiv%3E%0A%20%20%20%20%20%20%20%20%20%20%20%20%20%20%20%20%20%20%20%20%20UBS%2004%20GUARA%20LUCIO%20COSTA%0A%20%20%20%20%20%20%20%20%20%20%20%20%20%20%20%20%20%3C/div%3E%60%2C%0A%20%20%20%20%20%20%20%20%20%20%20%20%20%20%20%20%7B%22sticky%22%3A%20true%7D%0A%20%20%20%20%20%20%20%20%20%20%20%20%29%3B%0A%20%20%20%20%20%20%20%20%0A%20%20%20%20%0A%20%20%20%20%20%20%20%20%20%20%20%20var%20marker_c668007d513046879b403b48745f45b8%20%3D%20L.marker%28%0A%20%20%20%20%20%20%20%20%20%20%20%20%20%20%20%20%5B-15.8186545064372%2C%20-47.9662349916273%5D%2C%0A%20%20%20%20%20%20%20%20%20%20%20%20%20%20%20%20%7B%7D%0A%20%20%20%20%20%20%20%20%20%20%20%20%29.addTo%28feature_group_a032285a320245db8b8ffde065bf7bdd%29%3B%0A%20%20%20%20%20%20%20%20%0A%20%20%20%20%0A%20%20%20%20%20%20%20%20%20%20%20%20var%20icon_4601d456c55e4c0090e70e833391d9b4%20%3D%20L.AwesomeMarkers.icon%28%0A%20%20%20%20%20%20%20%20%20%20%20%20%20%20%20%20%7B%22extraClasses%22%3A%20%22fa-rotate-0%22%2C%20%22icon%22%3A%20%22info-sign%22%2C%20%22iconColor%22%3A%20%22white%22%2C%20%22markerColor%22%3A%20%22blue%22%2C%20%22prefix%22%3A%20%22glyphicon%22%7D%0A%20%20%20%20%20%20%20%20%20%20%20%20%29%3B%0A%20%20%20%20%20%20%20%20%20%20%20%20marker_c668007d513046879b403b48745f45b8.setIcon%28icon_4601d456c55e4c0090e70e833391d9b4%29%3B%0A%20%20%20%20%20%20%20%20%0A%20%20%20%20%0A%20%20%20%20%20%20%20%20%20%20%20%20marker_c668007d513046879b403b48745f45b8.bindTooltip%28%0A%20%20%20%20%20%20%20%20%20%20%20%20%20%20%20%20%60%3Cdiv%3E%0A%20%20%20%20%20%20%20%20%20%20%20%20%20%20%20%20%20%20%20%20%20UBS%2001%20ESTRUTURAL%0A%20%20%20%20%20%20%20%20%20%20%20%20%20%20%20%20%20%3C/div%3E%60%2C%0A%20%20%20%20%20%20%20%20%20%20%20%20%20%20%20%20%7B%22sticky%22%3A%20true%7D%0A%20%20%20%20%20%20%20%20%20%20%20%20%29%3B%0A%20%20%20%20%20%20%20%20%0A%20%20%20%20%0A%20%20%20%20%20%20%20%20%20%20%20%20var%20marker_bfb9eb805a94487b9711d2c39e0cddd4%20%3D%20L.marker%28%0A%20%20%20%20%20%20%20%20%20%20%20%20%20%20%20%20%5B-15.8298058509827%2C%20-47.9718289375305%5D%2C%0A%20%20%20%20%20%20%20%20%20%20%20%20%20%20%20%20%7B%7D%0A%20%20%20%20%20%20%20%20%20%20%20%20%29.addTo%28feature_group_a032285a320245db8b8ffde065bf7bdd%29%3B%0A%20%20%20%20%20%20%20%20%0A%20%20%20%20%0A%20%20%20%20%20%20%20%20%20%20%20%20var%20icon_95570eaa3e8f4486a16291dedaea997a%20%3D%20L.AwesomeMarkers.icon%28%0A%20%20%20%20%20%20%20%20%20%20%20%20%20%20%20%20%7B%22extraClasses%22%3A%20%22fa-rotate-0%22%2C%20%22icon%22%3A%20%22info-sign%22%2C%20%22iconColor%22%3A%20%22white%22%2C%20%22markerColor%22%3A%20%22blue%22%2C%20%22prefix%22%3A%20%22glyphicon%22%7D%0A%20%20%20%20%20%20%20%20%20%20%20%20%29%3B%0A%20%20%20%20%20%20%20%20%20%20%20%20marker_bfb9eb805a94487b9711d2c39e0cddd4.setIcon%28icon_95570eaa3e8f4486a16291dedaea997a%29%3B%0A%20%20%20%20%20%20%20%20%0A%20%20%20%20%0A%20%20%20%20%20%20%20%20%20%20%20%20marker_bfb9eb805a94487b9711d2c39e0cddd4.bindTooltip%28%0A%20%20%20%20%20%20%20%20%20%20%20%20%20%20%20%20%60%3Cdiv%3E%0A%20%20%20%20%20%20%20%20%20%20%20%20%20%20%20%20%20%20%20%20%20UBS%2002%20GUARA%0A%20%20%20%20%20%20%20%20%20%20%20%20%20%20%20%20%20%3C/div%3E%60%2C%0A%20%20%20%20%20%20%20%20%20%20%20%20%20%20%20%20%7B%22sticky%22%3A%20true%7D%0A%20%20%20%20%20%20%20%20%20%20%20%20%29%3B%0A%20%20%20%20%20%20%20%20%0A%20%20%20%20%0A%20%20%20%20%20%20%20%20%20%20%20%20var%20marker_d438f5ded95143f990811e98ca76275b%20%3D%20L.marker%28%0A%20%20%20%20%20%20%20%20%20%20%20%20%20%20%20%20%5B-15.8250750790472%2C%20-47.96880154817%5D%2C%0A%20%20%20%20%20%20%20%20%20%20%20%20%20%20%20%20%7B%7D%0A%20%20%20%20%20%20%20%20%20%20%20%20%29.addTo%28feature_group_a032285a320245db8b8ffde065bf7bdd%29%3B%0A%20%20%20%20%20%20%20%20%0A%20%20%20%20%0A%20%20%20%20%20%20%20%20%20%20%20%20var%20icon_b5904714cdf6418d8a841800071d31cc%20%3D%20L.AwesomeMarkers.icon%28%0A%20%20%20%20%20%20%20%20%20%20%20%20%20%20%20%20%7B%22extraClasses%22%3A%20%22fa-rotate-0%22%2C%20%22icon%22%3A%20%22info-sign%22%2C%20%22iconColor%22%3A%20%22white%22%2C%20%22markerColor%22%3A%20%22blue%22%2C%20%22prefix%22%3A%20%22glyphicon%22%7D%0A%20%20%20%20%20%20%20%20%20%20%20%20%29%3B%0A%20%20%20%20%20%20%20%20%20%20%20%20marker_d438f5ded95143f990811e98ca76275b.setIcon%28icon_b5904714cdf6418d8a841800071d31cc%29%3B%0A%20%20%20%20%20%20%20%20%0A%20%20%20%20%0A%20%20%20%20%20%20%20%20%20%20%20%20marker_d438f5ded95143f990811e98ca76275b.bindTooltip%28%0A%20%20%20%20%20%20%20%20%20%20%20%20%20%20%20%20%60%3Cdiv%3E%0A%20%20%20%20%20%20%20%20%20%20%20%20%20%20%20%20%20%20%20%20%20UBS%2003%20GUARA%0A%20%20%20%20%20%20%20%20%20%20%20%20%20%20%20%20%20%3C/div%3E%60%2C%0A%20%20%20%20%20%20%20%20%20%20%20%20%20%20%20%20%7B%22sticky%22%3A%20true%7D%0A%20%20%20%20%20%20%20%20%20%20%20%20%29%3B%0A%20%20%20%20%20%20%20%20%0A%20%20%20%20%0A%20%20%20%20%20%20%20%20%20%20%20%20var%20marker_76b85ae4f4fc458a98da42467811b7eb%20%3D%20L.marker%28%0A%20%20%20%20%20%20%20%20%20%20%20%20%20%20%20%20%5B-15.8027105471667%2C%20-47.9588017183192%5D%2C%0A%20%20%20%20%20%20%20%20%20%20%20%20%20%20%20%20%7B%7D%0A%20%20%20%20%20%20%20%20%20%20%20%20%29.addTo%28feature_group_a032285a320245db8b8ffde065bf7bdd%29%3B%0A%20%20%20%20%20%20%20%20%0A%20%20%20%20%0A%20%20%20%20%20%20%20%20%20%20%20%20var%20icon_733a776d923345d490ab724ab66543b7%20%3D%20L.AwesomeMarkers.icon%28%0A%20%20%20%20%20%20%20%20%20%20%20%20%20%20%20%20%7B%22extraClasses%22%3A%20%22fa-rotate-0%22%2C%20%22icon%22%3A%20%22info-sign%22%2C%20%22iconColor%22%3A%20%22white%22%2C%20%22markerColor%22%3A%20%22blue%22%2C%20%22prefix%22%3A%20%22glyphicon%22%7D%0A%20%20%20%20%20%20%20%20%20%20%20%20%29%3B%0A%20%20%20%20%20%20%20%20%20%20%20%20marker_76b85ae4f4fc458a98da42467811b7eb.setIcon%28icon_733a776d923345d490ab724ab66543b7%29%3B%0A%20%20%20%20%20%20%20%20%0A%20%20%20%20%0A%20%20%20%20%20%20%20%20%20%20%20%20marker_76b85ae4f4fc458a98da42467811b7eb.bindTooltip%28%0A%20%20%20%20%20%20%20%20%20%20%20%20%20%20%20%20%60%3Cdiv%3E%0A%20%20%20%20%20%20%20%20%20%20%20%20%20%20%20%20%20%20%20%20%20UBS%2001%20SIA%20CPP%0A%20%20%20%20%20%20%20%20%20%20%20%20%20%20%20%20%20%3C/div%3E%60%2C%0A%20%20%20%20%20%20%20%20%20%20%20%20%20%20%20%20%7B%22sticky%22%3A%20true%7D%0A%20%20%20%20%20%20%20%20%20%20%20%20%29%3B%0A%20%20%20%20%20%20%20%20%0A%20%20%20%20%0A%20%20%20%20%20%20%20%20%20%20%20%20var%20marker_94b6a77707464ed7a3a884a9de663274%20%3D%20L.marker%28%0A%20%20%20%20%20%20%20%20%20%20%20%20%20%20%20%20%5B-15.7872459585016%2C%20-47.9675836042924%5D%2C%0A%20%20%20%20%20%20%20%20%20%20%20%20%20%20%20%20%7B%7D%0A%20%20%20%20%20%20%20%20%20%20%20%20%29.addTo%28feature_group_a032285a320245db8b8ffde065bf7bdd%29%3B%0A%20%20%20%20%20%20%20%20%0A%20%20%20%20%0A%20%20%20%20%20%20%20%20%20%20%20%20var%20icon_5cfac772eb96447f9407203eb31e4eda%20%3D%20L.AwesomeMarkers.icon%28%0A%20%20%20%20%20%20%20%20%20%20%20%20%20%20%20%20%7B%22extraClasses%22%3A%20%22fa-rotate-0%22%2C%20%22icon%22%3A%20%22info-sign%22%2C%20%22iconColor%22%3A%20%22white%22%2C%20%22markerColor%22%3A%20%22blue%22%2C%20%22prefix%22%3A%20%22glyphicon%22%7D%0A%20%20%20%20%20%20%20%20%20%20%20%20%29%3B%0A%20%20%20%20%20%20%20%20%20%20%20%20marker_94b6a77707464ed7a3a884a9de663274.setIcon%28icon_5cfac772eb96447f9407203eb31e4eda%29%3B%0A%20%20%20%20%20%20%20%20%0A%20%20%20%20%0A%20%20%20%20%20%20%20%20%20%20%20%20marker_94b6a77707464ed7a3a884a9de663274.bindTooltip%28%0A%20%20%20%20%20%20%20%20%20%20%20%20%20%20%20%20%60%3Cdiv%3E%0A%20%20%20%20%20%20%20%20%20%20%20%20%20%20%20%20%20%20%20%20%20UBS%2002%20ESTRUTURAL%0A%20%20%20%20%20%20%20%20%20%20%20%20%20%20%20%20%20%3C/div%3E%60%2C%0A%20%20%20%20%20%20%20%20%20%20%20%20%20%20%20%20%7B%22sticky%22%3A%20true%7D%0A%20%20%20%20%20%20%20%20%20%20%20%20%29%3B%0A%20%20%20%20%20%20%20%20%0A%20%20%20%20%0A%20%20%20%20%20%20%20%20%20%20%20%20var%20marker_1c0d4a04f80b4404ad159256abe34d30%20%3D%20L.marker%28%0A%20%20%20%20%20%20%20%20%20%20%20%20%20%20%20%20%5B-15.7269926782864%2C%20-47.8682526545738%5D%2C%0A%20%20%20%20%20%20%20%20%20%20%20%20%20%20%20%20%7B%7D%0A%20%20%20%20%20%20%20%20%20%20%20%20%29.addTo%28feature_group_a032285a320245db8b8ffde065bf7bdd%29%3B%0A%20%20%20%20%20%20%20%20%0A%20%20%20%20%0A%20%20%20%20%20%20%20%20%20%20%20%20var%20icon_71b82befdc054c53ac10afba34348745%20%3D%20L.AwesomeMarkers.icon%28%0A%20%20%20%20%20%20%20%20%20%20%20%20%20%20%20%20%7B%22extraClasses%22%3A%20%22fa-rotate-0%22%2C%20%22icon%22%3A%20%22info-sign%22%2C%20%22iconColor%22%3A%20%22white%22%2C%20%22markerColor%22%3A%20%22blue%22%2C%20%22prefix%22%3A%20%22glyphicon%22%7D%0A%20%20%20%20%20%20%20%20%20%20%20%20%29%3B%0A%20%20%20%20%20%20%20%20%20%20%20%20marker_1c0d4a04f80b4404ad159256abe34d30.setIcon%28icon_71b82befdc054c53ac10afba34348745%29%3B%0A%20%20%20%20%20%20%20%20%0A%20%20%20%20%0A%20%20%20%20%20%20%20%20%20%20%20%20marker_1c0d4a04f80b4404ad159256abe34d30.bindTooltip%28%0A%20%20%20%20%20%20%20%20%20%20%20%20%20%20%20%20%60%3Cdiv%3E%0A%20%20%20%20%20%20%20%20%20%20%20%20%20%20%20%20%20%20%20%20%20UBS%201%20LAGO%20NORTE%0A%20%20%20%20%20%20%20%20%20%20%20%20%20%20%20%20%20%3C/div%3E%60%2C%0A%20%20%20%20%20%20%20%20%20%20%20%20%20%20%20%20%7B%22sticky%22%3A%20true%7D%0A%20%20%20%20%20%20%20%20%20%20%20%20%29%3B%0A%20%20%20%20%20%20%20%20%0A%20%20%20%20%0A%20%20%20%20%20%20%20%20%20%20%20%20var%20marker_19d00450622a4cf18bcddbe5e9a0bd35%20%3D%20L.marker%28%0A%20%20%20%20%20%20%20%20%20%20%20%20%20%20%20%20%5B-15.7708039540117%2C%20-47.8110262142715%5D%2C%0A%20%20%20%20%20%20%20%20%20%20%20%20%20%20%20%20%7B%7D%0A%20%20%20%20%20%20%20%20%20%20%20%20%29.addTo%28feature_group_a032285a320245db8b8ffde065bf7bdd%29%3B%0A%20%20%20%20%20%20%20%20%0A%20%20%20%20%0A%20%20%20%20%20%20%20%20%20%20%20%20var%20icon_6fb417b363d54d1b951add3b4d8656e9%20%3D%20L.AwesomeMarkers.icon%28%0A%20%20%20%20%20%20%20%20%20%20%20%20%20%20%20%20%7B%22extraClasses%22%3A%20%22fa-rotate-0%22%2C%20%22icon%22%3A%20%22info-sign%22%2C%20%22iconColor%22%3A%20%22white%22%2C%20%22markerColor%22%3A%20%22blue%22%2C%20%22prefix%22%3A%20%22glyphicon%22%7D%0A%20%20%20%20%20%20%20%20%20%20%20%20%29%3B%0A%20%20%20%20%20%20%20%20%20%20%20%20marker_19d00450622a4cf18bcddbe5e9a0bd35.setIcon%28icon_6fb417b363d54d1b951add3b4d8656e9%29%3B%0A%20%20%20%20%20%20%20%20%0A%20%20%20%20%0A%20%20%20%20%20%20%20%20%20%20%20%20marker_19d00450622a4cf18bcddbe5e9a0bd35.bindTooltip%28%0A%20%20%20%20%20%20%20%20%20%20%20%20%20%20%20%20%60%3Cdiv%3E%0A%20%20%20%20%20%20%20%20%20%20%20%20%20%20%20%20%20%20%20%20%20UBS%201%20VARJAO%0A%20%20%20%20%20%20%20%20%20%20%20%20%20%20%20%20%20%3C/div%3E%60%2C%0A%20%20%20%20%20%20%20%20%20%20%20%20%20%20%20%20%7B%22sticky%22%3A%20true%7D%0A%20%20%20%20%20%20%20%20%20%20%20%20%29%3B%0A%20%20%20%20%20%20%20%20%0A%20%20%20%20%0A%20%20%20%20%20%20%20%20%20%20%20%20var%20marker_dff02c36274b4764a59fbf5f6bd295de%20%3D%20L.marker%28%0A%20%20%20%20%20%20%20%20%20%20%20%20%20%20%20%20%5B-15.7478625745658%2C%20-47.9235933142972%5D%2C%0A%20%20%20%20%20%20%20%20%20%20%20%20%20%20%20%20%7B%7D%0A%20%20%20%20%20%20%20%20%20%20%20%20%29.addTo%28feature_group_a032285a320245db8b8ffde065bf7bdd%29%3B%0A%20%20%20%20%20%20%20%20%0A%20%20%20%20%0A%20%20%20%20%20%20%20%20%20%20%20%20var%20icon_27f7a5e63a5a496ea4724cc55b85e538%20%3D%20L.AwesomeMarkers.icon%28%0A%20%20%20%20%20%20%20%20%20%20%20%20%20%20%20%20%7B%22extraClasses%22%3A%20%22fa-rotate-0%22%2C%20%22icon%22%3A%20%22info-sign%22%2C%20%22iconColor%22%3A%20%22white%22%2C%20%22markerColor%22%3A%20%22blue%22%2C%20%22prefix%22%3A%20%22glyphicon%22%7D%0A%20%20%20%20%20%20%20%20%20%20%20%20%29%3B%0A%20%20%20%20%20%20%20%20%20%20%20%20marker_dff02c36274b4764a59fbf5f6bd295de.setIcon%28icon_27f7a5e63a5a496ea4724cc55b85e538%29%3B%0A%20%20%20%20%20%20%20%20%0A%20%20%20%20%0A%20%20%20%20%20%20%20%20%20%20%20%20marker_dff02c36274b4764a59fbf5f6bd295de.bindTooltip%28%0A%20%20%20%20%20%20%20%20%20%20%20%20%20%20%20%20%60%3Cdiv%3E%0A%20%20%20%20%20%20%20%20%20%20%20%20%20%20%20%20%20%20%20%20%20HRL%0A%20%20%20%20%20%20%20%20%20%20%20%20%20%20%20%20%20%3C/div%3E%60%2C%0A%20%20%20%20%20%20%20%20%20%20%20%20%20%20%20%20%7B%22sticky%22%3A%20true%7D%0A%20%20%20%20%20%20%20%20%20%20%20%20%29%3B%0A%20%20%20%20%20%20%20%20%0A%20%20%20%20%0A%20%20%20%20%20%20%20%20%20%20%20%20var%20marker_d073022230c142fe91576a90c8aca46b%20%3D%20L.marker%28%0A%20%20%20%20%20%20%20%20%20%20%20%20%20%20%20%20%5B-15.7478625745658%2C%20-47.9235933142972%5D%2C%0A%20%20%20%20%20%20%20%20%20%20%20%20%20%20%20%20%7B%7D%0A%20%20%20%20%20%20%20%20%20%20%20%20%29.addTo%28feature_group_a032285a320245db8b8ffde065bf7bdd%29%3B%0A%20%20%20%20%20%20%20%20%0A%20%20%20%20%0A%20%20%20%20%20%20%20%20%20%20%20%20var%20icon_8ec486b4d9f84503b3a04e2b1a3198f3%20%3D%20L.AwesomeMarkers.icon%28%0A%20%20%20%20%20%20%20%20%20%20%20%20%20%20%20%20%7B%22extraClasses%22%3A%20%22fa-rotate-0%22%2C%20%22icon%22%3A%20%22info-sign%22%2C%20%22iconColor%22%3A%20%22white%22%2C%20%22markerColor%22%3A%20%22blue%22%2C%20%22prefix%22%3A%20%22glyphicon%22%7D%0A%20%20%20%20%20%20%20%20%20%20%20%20%29%3B%0A%20%20%20%20%20%20%20%20%20%20%20%20marker_d073022230c142fe91576a90c8aca46b.setIcon%28icon_8ec486b4d9f84503b3a04e2b1a3198f3%29%3B%0A%20%20%20%20%20%20%20%20%0A%20%20%20%20%0A%20%20%20%20%20%20%20%20%20%20%20%20marker_d073022230c142fe91576a90c8aca46b.bindTooltip%28%0A%20%20%20%20%20%20%20%20%20%20%20%20%20%20%20%20%60%3Cdiv%3E%0A%20%20%20%20%20%20%20%20%20%20%20%20%20%20%20%20%20%20%20%20%20UBS%201%20PARANOA%0A%20%20%20%20%20%20%20%20%20%20%20%20%20%20%20%20%20%3C/div%3E%60%2C%0A%20%20%20%20%20%20%20%20%20%20%20%20%20%20%20%20%7B%22sticky%22%3A%20true%7D%0A%20%20%20%20%20%20%20%20%20%20%20%20%29%3B%0A%20%20%20%20%20%20%20%20%0A%20%20%20%20%0A%20%20%20%20%20%20%20%20%20%20%20%20var%20marker_84cb061c41834a539a60f3592041bf6e%20%3D%20L.marker%28%0A%20%20%20%20%20%20%20%20%20%20%20%20%20%20%20%20%5B-15.7478625745658%2C%20-47.9235933142972%5D%2C%0A%20%20%20%20%20%20%20%20%20%20%20%20%20%20%20%20%7B%7D%0A%20%20%20%20%20%20%20%20%20%20%20%20%29.addTo%28feature_group_a032285a320245db8b8ffde065bf7bdd%29%3B%0A%20%20%20%20%20%20%20%20%0A%20%20%20%20%0A%20%20%20%20%20%20%20%20%20%20%20%20var%20icon_e0edac43f9c24989989c3aa97c1559a6%20%3D%20L.AwesomeMarkers.icon%28%0A%20%20%20%20%20%20%20%20%20%20%20%20%20%20%20%20%7B%22extraClasses%22%3A%20%22fa-rotate-0%22%2C%20%22icon%22%3A%20%22info-sign%22%2C%20%22iconColor%22%3A%20%22white%22%2C%20%22markerColor%22%3A%20%22blue%22%2C%20%22prefix%22%3A%20%22glyphicon%22%7D%0A%20%20%20%20%20%20%20%20%20%20%20%20%29%3B%0A%20%20%20%20%20%20%20%20%20%20%20%20marker_84cb061c41834a539a60f3592041bf6e.setIcon%28icon_e0edac43f9c24989989c3aa97c1559a6%29%3B%0A%20%20%20%20%20%20%20%20%0A%20%20%20%20%0A%20%20%20%20%20%20%20%20%20%20%20%20marker_84cb061c41834a539a60f3592041bf6e.bindTooltip%28%0A%20%20%20%20%20%20%20%20%20%20%20%20%20%20%20%20%60%3Cdiv%3E%0A%20%20%20%20%20%20%20%20%20%20%20%20%20%20%20%20%20%20%20%20%20UBS%203%20PARANOA%20PARQUE%0A%20%20%20%20%20%20%20%20%20%20%20%20%20%20%20%20%20%3C/div%3E%60%2C%0A%20%20%20%20%20%20%20%20%20%20%20%20%20%20%20%20%7B%22sticky%22%3A%20true%7D%0A%20%20%20%20%20%20%20%20%20%20%20%20%29%3B%0A%20%20%20%20%20%20%20%20%0A%20%20%20%20%0A%20%20%20%20%20%20%20%20%20%20%20%20var%20marker_5bde8b23acd448f2bec72aa4d4c976e0%20%3D%20L.marker%28%0A%20%20%20%20%20%20%20%20%20%20%20%20%20%20%20%20%5B-15.7592558580286%2C%20-47.8018888024723%5D%2C%0A%20%20%20%20%20%20%20%20%20%20%20%20%20%20%20%20%7B%7D%0A%20%20%20%20%20%20%20%20%20%20%20%20%29.addTo%28feature_group_a032285a320245db8b8ffde065bf7bdd%29%3B%0A%20%20%20%20%20%20%20%20%0A%20%20%20%20%0A%20%20%20%20%20%20%20%20%20%20%20%20var%20icon_566b8fa6cf724afe8b5ceb0b976b5128%20%3D%20L.AwesomeMarkers.icon%28%0A%20%20%20%20%20%20%20%20%20%20%20%20%20%20%20%20%7B%22extraClasses%22%3A%20%22fa-rotate-0%22%2C%20%22icon%22%3A%20%22info-sign%22%2C%20%22iconColor%22%3A%20%22white%22%2C%20%22markerColor%22%3A%20%22blue%22%2C%20%22prefix%22%3A%20%22glyphicon%22%7D%0A%20%20%20%20%20%20%20%20%20%20%20%20%29%3B%0A%20%20%20%20%20%20%20%20%20%20%20%20marker_5bde8b23acd448f2bec72aa4d4c976e0.setIcon%28icon_566b8fa6cf724afe8b5ceb0b976b5128%29%3B%0A%20%20%20%20%20%20%20%20%0A%20%20%20%20%0A%20%20%20%20%20%20%20%20%20%20%20%20marker_5bde8b23acd448f2bec72aa4d4c976e0.bindTooltip%28%0A%20%20%20%20%20%20%20%20%20%20%20%20%20%20%20%20%60%3Cdiv%3E%0A%20%20%20%20%20%20%20%20%20%20%20%20%20%20%20%20%20%20%20%20%20UBS%204%20JARDIM%20II%20PARANOA%0A%20%20%20%20%20%20%20%20%20%20%20%20%20%20%20%20%20%3C/div%3E%60%2C%0A%20%20%20%20%20%20%20%20%20%20%20%20%20%20%20%20%7B%22sticky%22%3A%20true%7D%0A%20%20%20%20%20%20%20%20%20%20%20%20%29%3B%0A%20%20%20%20%20%20%20%20%0A%20%20%20%20%0A%20%20%20%20%20%20%20%20%20%20%20%20var%20marker_def6e871fc3a43ba838cef6b2fdcdb58%20%3D%20L.marker%28%0A%20%20%20%20%20%20%20%20%20%20%20%20%20%20%20%20%5B-15.743135358773%2C%20-47.8622603696935%5D%2C%0A%20%20%20%20%20%20%20%20%20%20%20%20%20%20%20%20%7B%7D%0A%20%20%20%20%20%20%20%20%20%20%20%20%29.addTo%28feature_group_a032285a320245db8b8ffde065bf7bdd%29%3B%0A%20%20%20%20%20%20%20%20%0A%20%20%20%20%0A%20%20%20%20%20%20%20%20%20%20%20%20var%20icon_91b4f0f6774a43b18af50a26a8316a4d%20%3D%20L.AwesomeMarkers.icon%28%0A%20%20%20%20%20%20%20%20%20%20%20%20%20%20%20%20%7B%22extraClasses%22%3A%20%22fa-rotate-0%22%2C%20%22icon%22%3A%20%22info-sign%22%2C%20%22iconColor%22%3A%20%22white%22%2C%20%22markerColor%22%3A%20%22blue%22%2C%20%22prefix%22%3A%20%22glyphicon%22%7D%0A%20%20%20%20%20%20%20%20%20%20%20%20%29%3B%0A%20%20%20%20%20%20%20%20%20%20%20%20marker_def6e871fc3a43ba838cef6b2fdcdb58.setIcon%28icon_91b4f0f6774a43b18af50a26a8316a4d%29%3B%0A%20%20%20%20%20%20%20%20%0A%20%20%20%20%0A%20%20%20%20%20%20%20%20%20%20%20%20marker_def6e871fc3a43ba838cef6b2fdcdb58.bindTooltip%28%0A%20%20%20%20%20%20%20%20%20%20%20%20%20%20%20%20%60%3Cdiv%3E%0A%20%20%20%20%20%20%20%20%20%20%20%20%20%20%20%20%20%20%20%20%20UBS%207%20CAFE%20SEM%20TROCO%20PARANOA%0A%20%20%20%20%20%20%20%20%20%20%20%20%20%20%20%20%20%3C/div%3E%60%2C%0A%20%20%20%20%20%20%20%20%20%20%20%20%20%20%20%20%7B%22sticky%22%3A%20true%7D%0A%20%20%20%20%20%20%20%20%20%20%20%20%29%3B%0A%20%20%20%20%20%20%20%20%0A%20%20%20%20%0A%20%20%20%20%20%20%20%20%20%20%20%20var%20marker_f06fc2ea26fe4bea8260800024a73a41%20%3D%20L.marker%28%0A%20%20%20%20%20%20%20%20%20%20%20%20%20%20%20%20%5B-15.743135358773%2C%20-47.8622603696935%5D%2C%0A%20%20%20%20%20%20%20%20%20%20%20%20%20%20%20%20%7B%7D%0A%20%20%20%20%20%20%20%20%20%20%20%20%29.addTo%28feature_group_a032285a320245db8b8ffde065bf7bdd%29%3B%0A%20%20%20%20%20%20%20%20%0A%20%20%20%20%0A%20%20%20%20%20%20%20%20%20%20%20%20var%20icon_0c75070183ab4adfaa4fac7954273442%20%3D%20L.AwesomeMarkers.icon%28%0A%20%20%20%20%20%20%20%20%20%20%20%20%20%20%20%20%7B%22extraClasses%22%3A%20%22fa-rotate-0%22%2C%20%22icon%22%3A%20%22info-sign%22%2C%20%22iconColor%22%3A%20%22white%22%2C%20%22markerColor%22%3A%20%22blue%22%2C%20%22prefix%22%3A%20%22glyphicon%22%7D%0A%20%20%20%20%20%20%20%20%20%20%20%20%29%3B%0A%20%20%20%20%20%20%20%20%20%20%20%20marker_f06fc2ea26fe4bea8260800024a73a41.setIcon%28icon_0c75070183ab4adfaa4fac7954273442%29%3B%0A%20%20%20%20%20%20%20%20%0A%20%20%20%20%0A%20%20%20%20%20%20%20%20%20%20%20%20marker_f06fc2ea26fe4bea8260800024a73a41.bindTooltip%28%0A%20%20%20%20%20%20%20%20%20%20%20%20%20%20%20%20%60%3Cdiv%3E%0A%20%20%20%20%20%20%20%20%20%20%20%20%20%20%20%20%20%20%20%20%20UBS%205%20QUEBRADA%20DOS%20NERES%0A%20%20%20%20%20%20%20%20%20%20%20%20%20%20%20%20%20%3C/div%3E%60%2C%0A%20%20%20%20%20%20%20%20%20%20%20%20%20%20%20%20%7B%22sticky%22%3A%20true%7D%0A%20%20%20%20%20%20%20%20%20%20%20%20%29%3B%0A%20%20%20%20%20%20%20%20%0A%20%20%20%20%0A%20%20%20%20%20%20%20%20%20%20%20%20var%20marker_b786c39ec2804a4b8d34c80d55159598%20%3D%20L.marker%28%0A%20%20%20%20%20%20%20%20%20%20%20%20%20%20%20%20%5B-15.743135358773%2C%20-47.8622603696935%5D%2C%0A%20%20%20%20%20%20%20%20%20%20%20%20%20%20%20%20%7B%7D%0A%20%20%20%20%20%20%20%20%20%20%20%20%29.addTo%28feature_group_a032285a320245db8b8ffde065bf7bdd%29%3B%0A%20%20%20%20%20%20%20%20%0A%20%20%20%20%0A%20%20%20%20%20%20%20%20%20%20%20%20var%20icon_11d6fcde2be74c68baa530e804f7680d%20%3D%20L.AwesomeMarkers.icon%28%0A%20%20%20%20%20%20%20%20%20%20%20%20%20%20%20%20%7B%22extraClasses%22%3A%20%22fa-rotate-0%22%2C%20%22icon%22%3A%20%22info-sign%22%2C%20%22iconColor%22%3A%20%22white%22%2C%20%22markerColor%22%3A%20%22blue%22%2C%20%22prefix%22%3A%20%22glyphicon%22%7D%0A%20%20%20%20%20%20%20%20%20%20%20%20%29%3B%0A%20%20%20%20%20%20%20%20%20%20%20%20marker_b786c39ec2804a4b8d34c80d55159598.setIcon%28icon_11d6fcde2be74c68baa530e804f7680d%29%3B%0A%20%20%20%20%20%20%20%20%0A%20%20%20%20%0A%20%20%20%20%20%20%20%20%20%20%20%20marker_b786c39ec2804a4b8d34c80d55159598.bindTooltip%28%0A%20%20%20%20%20%20%20%20%20%20%20%20%20%20%20%20%60%3Cdiv%3E%0A%20%20%20%20%20%20%20%20%20%20%20%20%20%20%20%20%20%20%20%20%20UBS%206%20CARIRU%20PARANOA%0A%20%20%20%20%20%20%20%20%20%20%20%20%20%20%20%20%20%3C/div%3E%60%2C%0A%20%20%20%20%20%20%20%20%20%20%20%20%20%20%20%20%7B%22sticky%22%3A%20true%7D%0A%20%20%20%20%20%20%20%20%20%20%20%20%29%3B%0A%20%20%20%20%20%20%20%20%0A%20%20%20%20%0A%20%20%20%20%20%20%20%20%20%20%20%20var%20marker_50d6c359f90146b8ae30bf07c00d6a15%20%3D%20L.marker%28%0A%20%20%20%20%20%20%20%20%20%20%20%20%20%20%20%20%5B-15.743135358773%2C%20-47.8622603696935%5D%2C%0A%20%20%20%20%20%20%20%20%20%20%20%20%20%20%20%20%7B%7D%0A%20%20%20%20%20%20%20%20%20%20%20%20%29.addTo%28feature_group_a032285a320245db8b8ffde065bf7bdd%29%3B%0A%20%20%20%20%20%20%20%20%0A%20%20%20%20%0A%20%20%20%20%20%20%20%20%20%20%20%20var%20icon_57f3d238bfe14f5aa5070cd6f570fd86%20%3D%20L.AwesomeMarkers.icon%28%0A%20%20%20%20%20%20%20%20%20%20%20%20%20%20%20%20%7B%22extraClasses%22%3A%20%22fa-rotate-0%22%2C%20%22icon%22%3A%20%22info-sign%22%2C%20%22iconColor%22%3A%20%22white%22%2C%20%22markerColor%22%3A%20%22blue%22%2C%20%22prefix%22%3A%20%22glyphicon%22%7D%0A%20%20%20%20%20%20%20%20%20%20%20%20%29%3B%0A%20%20%20%20%20%20%20%20%20%20%20%20marker_50d6c359f90146b8ae30bf07c00d6a15.setIcon%28icon_57f3d238bfe14f5aa5070cd6f570fd86%29%3B%0A%20%20%20%20%20%20%20%20%0A%20%20%20%20%0A%20%20%20%20%20%20%20%20%20%20%20%20marker_50d6c359f90146b8ae30bf07c00d6a15.bindTooltip%28%0A%20%20%20%20%20%20%20%20%20%20%20%20%20%20%20%20%60%3Cdiv%3E%0A%20%20%20%20%20%20%20%20%20%20%20%20%20%20%20%20%20%20%20%20%20UBS%208%20PADDF%20PARANOA%0A%20%20%20%20%20%20%20%20%20%20%20%20%20%20%20%20%20%3C/div%3E%60%2C%0A%20%20%20%20%20%20%20%20%20%20%20%20%20%20%20%20%7B%22sticky%22%3A%20true%7D%0A%20%20%20%20%20%20%20%20%20%20%20%20%29%3B%0A%20%20%20%20%20%20%20%20%0A%20%20%20%20%0A%20%20%20%20%20%20%20%20%20%20%20%20var%20marker_75940c5164a1478bb26d46a5e6ad1b16%20%3D%20L.marker%28%0A%20%20%20%20%20%20%20%20%20%20%20%20%20%20%20%20%5B-15.7716136491003%2C%20-47.8303553683699%5D%2C%0A%20%20%20%20%20%20%20%20%20%20%20%20%20%20%20%20%7B%7D%0A%20%20%20%20%20%20%20%20%20%20%20%20%29.addTo%28feature_group_a032285a320245db8b8ffde065bf7bdd%29%3B%0A%20%20%20%20%20%20%20%20%0A%20%20%20%20%0A%20%20%20%20%20%20%20%20%20%20%20%20var%20icon_731d4976fe8b4a429590a7aaab5aa68a%20%3D%20L.AwesomeMarkers.icon%28%0A%20%20%20%20%20%20%20%20%20%20%20%20%20%20%20%20%7B%22extraClasses%22%3A%20%22fa-rotate-0%22%2C%20%22icon%22%3A%20%22info-sign%22%2C%20%22iconColor%22%3A%20%22white%22%2C%20%22markerColor%22%3A%20%22blue%22%2C%20%22prefix%22%3A%20%22glyphicon%22%7D%0A%20%20%20%20%20%20%20%20%20%20%20%20%29%3B%0A%20%20%20%20%20%20%20%20%20%20%20%20marker_75940c5164a1478bb26d46a5e6ad1b16.setIcon%28icon_731d4976fe8b4a429590a7aaab5aa68a%29%3B%0A%20%20%20%20%20%20%20%20%0A%20%20%20%20%0A%20%20%20%20%20%20%20%20%20%20%20%20marker_75940c5164a1478bb26d46a5e6ad1b16.bindTooltip%28%0A%20%20%20%20%20%20%20%20%20%20%20%20%20%20%20%20%60%3Cdiv%3E%0A%20%20%20%20%20%20%20%20%20%20%20%20%20%20%20%20%20%20%20%20%20UBS%201%20ITAPOA%0A%20%20%20%20%20%20%20%20%20%20%20%20%20%20%20%20%20%3C/div%3E%60%2C%0A%20%20%20%20%20%20%20%20%20%20%20%20%20%20%20%20%7B%22sticky%22%3A%20true%7D%0A%20%20%20%20%20%20%20%20%20%20%20%20%29%3B%0A%20%20%20%20%20%20%20%20%0A%20%20%20%20%0A%20%20%20%20%20%20%20%20%20%20%20%20var%20marker_e2365656cb4344dda95d067a3b5f5219%20%3D%20L.marker%28%0A%20%20%20%20%20%20%20%20%20%20%20%20%20%20%20%20%5B-15.8554691526625%2C%20-47.8632136027018%5D%2C%0A%20%20%20%20%20%20%20%20%20%20%20%20%20%20%20%20%7B%7D%0A%20%20%20%20%20%20%20%20%20%20%20%20%29.addTo%28feature_group_a032285a320245db8b8ffde065bf7bdd%29%3B%0A%20%20%20%20%20%20%20%20%0A%20%20%20%20%0A%20%20%20%20%20%20%20%20%20%20%20%20var%20icon_28c4c52b52ed441391c021790945cb5e%20%3D%20L.AwesomeMarkers.icon%28%0A%20%20%20%20%20%20%20%20%20%20%20%20%20%20%20%20%7B%22extraClasses%22%3A%20%22fa-rotate-0%22%2C%20%22icon%22%3A%20%22info-sign%22%2C%20%22iconColor%22%3A%20%22white%22%2C%20%22markerColor%22%3A%20%22blue%22%2C%20%22prefix%22%3A%20%22glyphicon%22%7D%0A%20%20%20%20%20%20%20%20%20%20%20%20%29%3B%0A%20%20%20%20%20%20%20%20%20%20%20%20marker_e2365656cb4344dda95d067a3b5f5219.setIcon%28icon_28c4c52b52ed441391c021790945cb5e%29%3B%0A%20%20%20%20%20%20%20%20%0A%20%20%20%20%0A%20%20%20%20%20%20%20%20%20%20%20%20marker_e2365656cb4344dda95d067a3b5f5219.bindTooltip%28%0A%20%20%20%20%20%20%20%20%20%20%20%20%20%20%20%20%60%3Cdiv%3E%0A%20%20%20%20%20%20%20%20%20%20%20%20%20%20%20%20%20%20%20%20%20POLICLINICA%20LAGO%20SUL%0A%20%20%20%20%20%20%20%20%20%20%20%20%20%20%20%20%20%3C/div%3E%60%2C%0A%20%20%20%20%20%20%20%20%20%20%20%20%20%20%20%20%7B%22sticky%22%3A%20true%7D%0A%20%20%20%20%20%20%20%20%20%20%20%20%29%3B%0A%20%20%20%20%20%20%20%20%0A%20%20%20%20%0A%20%20%20%20%20%20%20%20%20%20%20%20var%20marker_a7cb46bb8cb044e08a35cf01c5f4f9c4%20%3D%20L.marker%28%0A%20%20%20%20%20%20%20%20%20%20%20%20%20%20%20%20%5B-15.865221349576%2C%20-47.8545155144347%5D%2C%0A%20%20%20%20%20%20%20%20%20%20%20%20%20%20%20%20%7B%7D%0A%20%20%20%20%20%20%20%20%20%20%20%20%29.addTo%28feature_group_a032285a320245db8b8ffde065bf7bdd%29%3B%0A%20%20%20%20%20%20%20%20%0A%20%20%20%20%0A%20%20%20%20%20%20%20%20%20%20%20%20var%20icon_c2ece30e507b4fba86b855aa686271b0%20%3D%20L.AwesomeMarkers.icon%28%0A%20%20%20%20%20%20%20%20%20%20%20%20%20%20%20%20%7B%22extraClasses%22%3A%20%22fa-rotate-0%22%2C%20%22icon%22%3A%20%22info-sign%22%2C%20%22iconColor%22%3A%20%22white%22%2C%20%22markerColor%22%3A%20%22blue%22%2C%20%22prefix%22%3A%20%22glyphicon%22%7D%0A%20%20%20%20%20%20%20%20%20%20%20%20%29%3B%0A%20%20%20%20%20%20%20%20%20%20%20%20marker_a7cb46bb8cb044e08a35cf01c5f4f9c4.setIcon%28icon_c2ece30e507b4fba86b855aa686271b0%29%3B%0A%20%20%20%20%20%20%20%20%0A%20%20%20%20%0A%20%20%20%20%20%20%20%20%20%20%20%20marker_a7cb46bb8cb044e08a35cf01c5f4f9c4.bindTooltip%28%0A%20%20%20%20%20%20%20%20%20%20%20%20%20%20%20%20%60%3Cdiv%3E%0A%20%20%20%20%20%20%20%20%20%20%20%20%20%20%20%20%20%20%20%20%20UBS%202%20T%20R%20E%20SAO%20SEBASTIAO%0A%20%20%20%20%20%20%20%20%20%20%20%20%20%20%20%20%20%3C/div%3E%60%2C%0A%20%20%20%20%20%20%20%20%20%20%20%20%20%20%20%20%7B%22sticky%22%3A%20true%7D%0A%20%20%20%20%20%20%20%20%20%20%20%20%29%3B%0A%20%20%20%20%20%20%20%20%0A%20%20%20%20%0A%20%20%20%20%20%20%20%20%20%20%20%20var%20marker_4bdf4424806f4a058caed5922e627144%20%3D%20L.marker%28%0A%20%20%20%20%20%20%20%20%20%20%20%20%20%20%20%20%5B-15.865221349576%2C%20-47.8545155144347%5D%2C%0A%20%20%20%20%20%20%20%20%20%20%20%20%20%20%20%20%7B%7D%0A%20%20%20%20%20%20%20%20%20%20%20%20%29.addTo%28feature_group_a032285a320245db8b8ffde065bf7bdd%29%3B%0A%20%20%20%20%20%20%20%20%0A%20%20%20%20%0A%20%20%20%20%20%20%20%20%20%20%20%20var%20icon_9a9c7ac1fbe74fb5adf5118e63a63fb8%20%3D%20L.AwesomeMarkers.icon%28%0A%20%20%20%20%20%20%20%20%20%20%20%20%20%20%20%20%7B%22extraClasses%22%3A%20%22fa-rotate-0%22%2C%20%22icon%22%3A%20%22info-sign%22%2C%20%22iconColor%22%3A%20%22white%22%2C%20%22markerColor%22%3A%20%22blue%22%2C%20%22prefix%22%3A%20%22glyphicon%22%7D%0A%20%20%20%20%20%20%20%20%20%20%20%20%29%3B%0A%20%20%20%20%20%20%20%20%20%20%20%20marker_4bdf4424806f4a058caed5922e627144.setIcon%28icon_9a9c7ac1fbe74fb5adf5118e63a63fb8%29%3B%0A%20%20%20%20%20%20%20%20%0A%20%20%20%20%0A%20%20%20%20%20%20%20%20%20%20%20%20marker_4bdf4424806f4a058caed5922e627144.bindTooltip%28%0A%20%20%20%20%20%20%20%20%20%20%20%20%20%20%20%20%60%3Cdiv%3E%0A%20%20%20%20%20%20%20%20%20%20%20%20%20%20%20%20%20%20%20%20%20UBS%201%20SAO%20SEBASTIAO%0A%20%20%20%20%20%20%20%20%20%20%20%20%20%20%20%20%20%3C/div%3E%60%2C%0A%20%20%20%20%20%20%20%20%20%20%20%20%20%20%20%20%7B%22sticky%22%3A%20true%7D%0A%20%20%20%20%20%20%20%20%20%20%20%20%29%3B%0A%20%20%20%20%20%20%20%20%0A%20%20%20%20%0A%20%20%20%20%20%20%20%20%20%20%20%20var%20marker_2f30076750b44f8b8ff411e008a6cef2%20%3D%20L.marker%28%0A%20%20%20%20%20%20%20%20%20%20%20%20%20%20%20%20%5B-15.865221349576%2C%20-47.8545155144347%5D%2C%0A%20%20%20%20%20%20%20%20%20%20%20%20%20%20%20%20%7B%7D%0A%20%20%20%20%20%20%20%20%20%20%20%20%29.addTo%28feature_group_a032285a320245db8b8ffde065bf7bdd%29%3B%0A%20%20%20%20%20%20%20%20%0A%20%20%20%20%0A%20%20%20%20%20%20%20%20%20%20%20%20var%20icon_c9b26b33a5344e698b9d3b2fecbb9341%20%3D%20L.AwesomeMarkers.icon%28%0A%20%20%20%20%20%20%20%20%20%20%20%20%20%20%20%20%7B%22extraClasses%22%3A%20%22fa-rotate-0%22%2C%20%22icon%22%3A%20%22info-sign%22%2C%20%22iconColor%22%3A%20%22white%22%2C%20%22markerColor%22%3A%20%22blue%22%2C%20%22prefix%22%3A%20%22glyphicon%22%7D%0A%20%20%20%20%20%20%20%20%20%20%20%20%29%3B%0A%20%20%20%20%20%20%20%20%20%20%20%20marker_2f30076750b44f8b8ff411e008a6cef2.setIcon%28icon_c9b26b33a5344e698b9d3b2fecbb9341%29%3B%0A%20%20%20%20%20%20%20%20%0A%20%20%20%20%0A%20%20%20%20%20%20%20%20%20%20%20%20marker_2f30076750b44f8b8ff411e008a6cef2.bindTooltip%28%0A%20%20%20%20%20%20%20%20%20%20%20%20%20%20%20%20%60%3Cdiv%3E%0A%20%20%20%20%20%20%20%20%20%20%20%20%20%20%20%20%20%20%20%20%20UBS%206%20SAO%20FRANCISCO%20SAO%20SEBASTIAO%0A%20%20%20%20%20%20%20%20%20%20%20%20%20%20%20%20%20%3C/div%3E%60%2C%0A%20%20%20%20%20%20%20%20%20%20%20%20%20%20%20%20%7B%22sticky%22%3A%20true%7D%0A%20%20%20%20%20%20%20%20%20%20%20%20%29%3B%0A%20%20%20%20%20%20%20%20%0A%20%20%20%20%0A%20%20%20%20%20%20%20%20%20%20%20%20var%20marker_bd2c529b40d2437295cdc8d24750afb8%20%3D%20L.marker%28%0A%20%20%20%20%20%20%20%20%20%20%20%20%20%20%20%20%5B-15.865221349576%2C%20-47.8545155144347%5D%2C%0A%20%20%20%20%20%20%20%20%20%20%20%20%20%20%20%20%7B%7D%0A%20%20%20%20%20%20%20%20%20%20%20%20%29.addTo%28feature_group_a032285a320245db8b8ffde065bf7bdd%29%3B%0A%20%20%20%20%20%20%20%20%0A%20%20%20%20%0A%20%20%20%20%20%20%20%20%20%20%20%20var%20icon_1df1a5a9c9704628abcf79a3d1554c9f%20%3D%20L.AwesomeMarkers.icon%28%0A%20%20%20%20%20%20%20%20%20%20%20%20%20%20%20%20%7B%22extraClasses%22%3A%20%22fa-rotate-0%22%2C%20%22icon%22%3A%20%22info-sign%22%2C%20%22iconColor%22%3A%20%22white%22%2C%20%22markerColor%22%3A%20%22blue%22%2C%20%22prefix%22%3A%20%22glyphicon%22%7D%0A%20%20%20%20%20%20%20%20%20%20%20%20%29%3B%0A%20%20%20%20%20%20%20%20%20%20%20%20marker_bd2c529b40d2437295cdc8d24750afb8.setIcon%28icon_1df1a5a9c9704628abcf79a3d1554c9f%29%3B%0A%20%20%20%20%20%20%20%20%0A%20%20%20%20%0A%20%20%20%20%20%20%20%20%20%20%20%20marker_bd2c529b40d2437295cdc8d24750afb8.bindTooltip%28%0A%20%20%20%20%20%20%20%20%20%20%20%20%20%20%20%20%60%3Cdiv%3E%0A%20%20%20%20%20%20%20%20%20%20%20%20%20%20%20%20%20%20%20%20%20UBS%2019%20VILA%20DO%20BOA%20SAO%20SEBASTIAO%0A%20%20%20%20%20%20%20%20%20%20%20%20%20%20%20%20%20%3C/div%3E%60%2C%0A%20%20%20%20%20%20%20%20%20%20%20%20%20%20%20%20%7B%22sticky%22%3A%20true%7D%0A%20%20%20%20%20%20%20%20%20%20%20%20%29%3B%0A%20%20%20%20%20%20%20%20%0A%20%20%20%20%0A%20%20%20%20%20%20%20%20%20%20%20%20var%20marker_5ca26ccc69ad4c469507a7e13687996c%20%3D%20L.marker%28%0A%20%20%20%20%20%20%20%20%20%20%20%20%20%20%20%20%5B-15.865221349576%2C%20-47.8545155144347%5D%2C%0A%20%20%20%20%20%20%20%20%20%20%20%20%20%20%20%20%7B%7D%0A%20%20%20%20%20%20%20%20%20%20%20%20%29.addTo%28feature_group_a032285a320245db8b8ffde065bf7bdd%29%3B%0A%20%20%20%20%20%20%20%20%0A%20%20%20%20%0A%20%20%20%20%20%20%20%20%20%20%20%20var%20icon_717861cf6dc44f7291934c8c6463cb02%20%3D%20L.AwesomeMarkers.icon%28%0A%20%20%20%20%20%20%20%20%20%20%20%20%20%20%20%20%7B%22extraClasses%22%3A%20%22fa-rotate-0%22%2C%20%22icon%22%3A%20%22info-sign%22%2C%20%22iconColor%22%3A%20%22white%22%2C%20%22markerColor%22%3A%20%22blue%22%2C%20%22prefix%22%3A%20%22glyphicon%22%7D%0A%20%20%20%20%20%20%20%20%20%20%20%20%29%3B%0A%20%20%20%20%20%20%20%20%20%20%20%20marker_5ca26ccc69ad4c469507a7e13687996c.setIcon%28icon_717861cf6dc44f7291934c8c6463cb02%29%3B%0A%20%20%20%20%20%20%20%20%0A%20%20%20%20%0A%20%20%20%20%20%20%20%20%20%20%20%20marker_5ca26ccc69ad4c469507a7e13687996c.bindTooltip%28%0A%20%20%20%20%20%20%20%20%20%20%20%20%20%20%20%20%60%3Cdiv%3E%0A%20%20%20%20%20%20%20%20%20%20%20%20%20%20%20%20%20%20%20%20%20UBS%2014%20CDP%20SAO%20SEBASTIAO%0A%20%20%20%20%20%20%20%20%20%20%20%20%20%20%20%20%20%3C/div%3E%60%2C%0A%20%20%20%20%20%20%20%20%20%20%20%20%20%20%20%20%7B%22sticky%22%3A%20true%7D%0A%20%20%20%20%20%20%20%20%20%20%20%20%29%3B%0A%20%20%20%20%20%20%20%20%0A%20%20%20%20%0A%20%20%20%20%20%20%20%20%20%20%20%20var%20marker_d58ed3ae677444519d361ed4e490d46c%20%3D%20L.marker%28%0A%20%20%20%20%20%20%20%20%20%20%20%20%20%20%20%20%5B-15.8468140738351%2C%20-47.8564413161505%5D%2C%0A%20%20%20%20%20%20%20%20%20%20%20%20%20%20%20%20%7B%7D%0A%20%20%20%20%20%20%20%20%20%20%20%20%29.addTo%28feature_group_a032285a320245db8b8ffde065bf7bdd%29%3B%0A%20%20%20%20%20%20%20%20%0A%20%20%20%20%0A%20%20%20%20%20%20%20%20%20%20%20%20var%20icon_61dc07463d584a4d892be333dff59f81%20%3D%20L.AwesomeMarkers.icon%28%0A%20%20%20%20%20%20%20%20%20%20%20%20%20%20%20%20%7B%22extraClasses%22%3A%20%22fa-rotate-0%22%2C%20%22icon%22%3A%20%22info-sign%22%2C%20%22iconColor%22%3A%20%22white%22%2C%20%22markerColor%22%3A%20%22blue%22%2C%20%22prefix%22%3A%20%22glyphicon%22%7D%0A%20%20%20%20%20%20%20%20%20%20%20%20%29%3B%0A%20%20%20%20%20%20%20%20%20%20%20%20marker_d58ed3ae677444519d361ed4e490d46c.setIcon%28icon_61dc07463d584a4d892be333dff59f81%29%3B%0A%20%20%20%20%20%20%20%20%0A%20%20%20%20%0A%20%20%20%20%20%20%20%20%20%20%20%20marker_d58ed3ae677444519d361ed4e490d46c.bindTooltip%28%0A%20%20%20%20%20%20%20%20%20%20%20%20%20%20%20%20%60%3Cdiv%3E%0A%20%20%20%20%20%20%20%20%20%20%20%20%20%20%20%20%20%20%20%20%20UBS%209%20RESIDENCIAL%20DO%20BOSQUE%201%20SAO%20SEBASTIAO%0A%20%20%20%20%20%20%20%20%20%20%20%20%20%20%20%20%20%3C/div%3E%60%2C%0A%20%20%20%20%20%20%20%20%20%20%20%20%20%20%20%20%7B%22sticky%22%3A%20true%7D%0A%20%20%20%20%20%20%20%20%20%20%20%20%29%3B%0A%20%20%20%20%20%20%20%20%0A%20%20%20%20%0A%20%20%20%20%20%20%20%20%20%20%20%20var%20marker_40075c5e616e47ebb4614a7987c66a9f%20%3D%20L.marker%28%0A%20%20%20%20%20%20%20%20%20%20%20%20%20%20%20%20%5B-15.8468140738351%2C%20-47.8564413161505%5D%2C%0A%20%20%20%20%20%20%20%20%20%20%20%20%20%20%20%20%7B%7D%0A%20%20%20%20%20%20%20%20%20%20%20%20%29.addTo%28feature_group_a032285a320245db8b8ffde065bf7bdd%29%3B%0A%20%20%20%20%20%20%20%20%0A%20%20%20%20%0A%20%20%20%20%20%20%20%20%20%20%20%20var%20icon_efe01b46ef8248d1a69054c25e2b38c1%20%3D%20L.AwesomeMarkers.icon%28%0A%20%20%20%20%20%20%20%20%20%20%20%20%20%20%20%20%7B%22extraClasses%22%3A%20%22fa-rotate-0%22%2C%20%22icon%22%3A%20%22info-sign%22%2C%20%22iconColor%22%3A%20%22white%22%2C%20%22markerColor%22%3A%20%22blue%22%2C%20%22prefix%22%3A%20%22glyphicon%22%7D%0A%20%20%20%20%20%20%20%20%20%20%20%20%29%3B%0A%20%20%20%20%20%20%20%20%20%20%20%20marker_40075c5e616e47ebb4614a7987c66a9f.setIcon%28icon_efe01b46ef8248d1a69054c25e2b38c1%29%3B%0A%20%20%20%20%20%20%20%20%0A%20%20%20%20%0A%20%20%20%20%20%20%20%20%20%20%20%20marker_40075c5e616e47ebb4614a7987c66a9f.bindTooltip%28%0A%20%20%20%20%20%20%20%20%20%20%20%20%20%20%20%20%60%3Cdiv%3E%0A%20%20%20%20%20%20%20%20%20%20%20%20%20%20%20%20%20%20%20%20%20UBS%2010%20JOAO%20CANDIDO%20SAO%20SEBASTIAO%0A%20%20%20%20%20%20%20%20%20%20%20%20%20%20%20%20%20%3C/div%3E%60%2C%0A%20%20%20%20%20%20%20%20%20%20%20%20%20%20%20%20%7B%22sticky%22%3A%20true%7D%0A%20%20%20%20%20%20%20%20%20%20%20%20%29%3B%0A%20%20%20%20%20%20%20%20%0A%20%20%20%20%0A%20%20%20%20%20%20%20%20%20%20%20%20var%20marker_bd6579bf35854e39a27f29dd0897bbb9%20%3D%20L.marker%28%0A%20%20%20%20%20%20%20%20%20%20%20%20%20%20%20%20%5B-15.8686888300139%2C%20-47.9734697013066%5D%2C%0A%20%20%20%20%20%20%20%20%20%20%20%20%20%20%20%20%7B%7D%0A%20%20%20%20%20%20%20%20%20%20%20%20%29.addTo%28feature_group_a032285a320245db8b8ffde065bf7bdd%29%3B%0A%20%20%20%20%20%20%20%20%0A%20%20%20%20%0A%20%20%20%20%20%20%20%20%20%20%20%20var%20icon_eef312d21b1049109770efee4b9582af%20%3D%20L.AwesomeMarkers.icon%28%0A%20%20%20%20%20%20%20%20%20%20%20%20%20%20%20%20%7B%22extraClasses%22%3A%20%22fa-rotate-0%22%2C%20%22icon%22%3A%20%22info-sign%22%2C%20%22iconColor%22%3A%20%22white%22%2C%20%22markerColor%22%3A%20%22blue%22%2C%20%22prefix%22%3A%20%22glyphicon%22%7D%0A%20%20%20%20%20%20%20%20%20%20%20%20%29%3B%0A%20%20%20%20%20%20%20%20%20%20%20%20marker_bd6579bf35854e39a27f29dd0897bbb9.setIcon%28icon_eef312d21b1049109770efee4b9582af%29%3B%0A%20%20%20%20%20%20%20%20%0A%20%20%20%20%0A%20%20%20%20%20%20%20%20%20%20%20%20marker_bd6579bf35854e39a27f29dd0897bbb9.bindTooltip%28%0A%20%20%20%20%20%20%20%20%20%20%20%20%20%20%20%20%60%3Cdiv%3E%0A%20%20%20%20%20%20%20%20%20%20%20%20%20%20%20%20%20%20%20%20%20UBS%2001%20NUCLEO%20BANDEIRANTE%0A%20%20%20%20%20%20%20%20%20%20%20%20%20%20%20%20%20%3C/div%3E%60%2C%0A%20%20%20%20%20%20%20%20%20%20%20%20%20%20%20%20%7B%22sticky%22%3A%20true%7D%0A%20%20%20%20%20%20%20%20%20%20%20%20%29%3B%0A%20%20%20%20%20%20%20%20%0A%20%20%20%20%0A%20%20%20%20%20%20%20%20%20%20%20%20var%20marker_e13e4516a12646f7b3020efc7d9ec7f1%20%3D%20L.marker%28%0A%20%20%20%20%20%20%20%20%20%20%20%20%20%20%20%20%5B-15.8423283351095%2C%20-47.9524605901618%5D%2C%0A%20%20%20%20%20%20%20%20%20%20%20%20%20%20%20%20%7B%7D%0A%20%20%20%20%20%20%20%20%20%20%20%20%29.addTo%28feature_group_a032285a320245db8b8ffde065bf7bdd%29%3B%0A%20%20%20%20%20%20%20%20%0A%20%20%20%20%0A%20%20%20%20%20%20%20%20%20%20%20%20var%20icon_d1d609419d2d4ee4b9b2f60987ae3c08%20%3D%20L.AwesomeMarkers.icon%28%0A%20%20%20%20%20%20%20%20%20%20%20%20%20%20%20%20%7B%22extraClasses%22%3A%20%22fa-rotate-0%22%2C%20%22icon%22%3A%20%22info-sign%22%2C%20%22iconColor%22%3A%20%22white%22%2C%20%22markerColor%22%3A%20%22blue%22%2C%20%22prefix%22%3A%20%22glyphicon%22%7D%0A%20%20%20%20%20%20%20%20%20%20%20%20%29%3B%0A%20%20%20%20%20%20%20%20%20%20%20%20marker_e13e4516a12646f7b3020efc7d9ec7f1.setIcon%28icon_d1d609419d2d4ee4b9b2f60987ae3c08%29%3B%0A%20%20%20%20%20%20%20%20%0A%20%20%20%20%0A%20%20%20%20%20%20%20%20%20%20%20%20marker_e13e4516a12646f7b3020efc7d9ec7f1.bindTooltip%28%0A%20%20%20%20%20%20%20%20%20%20%20%20%20%20%20%20%60%3Cdiv%3E%0A%20%20%20%20%20%20%20%20%20%20%20%20%20%20%20%20%20%20%20%20%20UBS%2001%20CANDANGOLANDIA%0A%20%20%20%20%20%20%20%20%20%20%20%20%20%20%20%20%20%3C/div%3E%60%2C%0A%20%20%20%20%20%20%20%20%20%20%20%20%20%20%20%20%7B%22sticky%22%3A%20true%7D%0A%20%20%20%20%20%20%20%20%20%20%20%20%29%3B%0A%20%20%20%20%20%20%20%20%0A%20%20%20%20%0A%20%20%20%20%20%20%20%20%20%20%20%20var%20marker_fb7ec6fc35c74dd491b68d0f712b8aaf%20%3D%20L.marker%28%0A%20%20%20%20%20%20%20%20%20%20%20%20%20%20%20%20%5B-15.8250416408886%2C%20-47.905009356412%5D%2C%0A%20%20%20%20%20%20%20%20%20%20%20%20%20%20%20%20%7B%7D%0A%20%20%20%20%20%20%20%20%20%20%20%20%29.addTo%28feature_group_a032285a320245db8b8ffde065bf7bdd%29%3B%0A%20%20%20%20%20%20%20%20%0A%20%20%20%20%0A%20%20%20%20%20%20%20%20%20%20%20%20var%20icon_fe73c51d742c4a6dbbb2a27dfcfaffe4%20%3D%20L.AwesomeMarkers.icon%28%0A%20%20%20%20%20%20%20%20%20%20%20%20%20%20%20%20%7B%22extraClasses%22%3A%20%22fa-rotate-0%22%2C%20%22icon%22%3A%20%22info-sign%22%2C%20%22iconColor%22%3A%20%22white%22%2C%20%22markerColor%22%3A%20%22blue%22%2C%20%22prefix%22%3A%20%22glyphicon%22%7D%0A%20%20%20%20%20%20%20%20%20%20%20%20%29%3B%0A%20%20%20%20%20%20%20%20%20%20%20%20marker_fb7ec6fc35c74dd491b68d0f712b8aaf.setIcon%28icon_fe73c51d742c4a6dbbb2a27dfcfaffe4%29%3B%0A%20%20%20%20%20%20%20%20%0A%20%20%20%20%0A%20%20%20%20%20%20%20%20%20%20%20%20marker_fb7ec6fc35c74dd491b68d0f712b8aaf.bindTooltip%28%0A%20%20%20%20%20%20%20%20%20%20%20%20%20%20%20%20%60%3Cdiv%3E%0A%20%20%20%20%20%20%20%20%20%20%20%20%20%20%20%20%20%20%20%20%20UBS%2002%20NUCLEO%20BANDEIRANTE%0A%20%20%20%20%20%20%20%20%20%20%20%20%20%20%20%20%20%3C/div%3E%60%2C%0A%20%20%20%20%20%20%20%20%20%20%20%20%20%20%20%20%7B%22sticky%22%3A%20true%7D%0A%20%20%20%20%20%20%20%20%20%20%20%20%29%3B%0A%20%20%20%20%20%20%20%20%0A%20%20%20%20%0A%20%20%20%20%20%20%20%20%20%20%20%20var%20marker_bc1a09bc31cc47de81c2d86620cfae68%20%3D%20L.marker%28%0A%20%20%20%20%20%20%20%20%20%20%20%20%20%20%20%20%5B-15.8762882096427%2C%20-48.0091513452076%5D%2C%0A%20%20%20%20%20%20%20%20%20%20%20%20%20%20%20%20%7B%7D%0A%20%20%20%20%20%20%20%20%20%20%20%20%29.addTo%28feature_group_a032285a320245db8b8ffde065bf7bdd%29%3B%0A%20%20%20%20%20%20%20%20%0A%20%20%20%20%0A%20%20%20%20%20%20%20%20%20%20%20%20var%20icon_fa756036ba28403a8c15c01ce5cf57af%20%3D%20L.AwesomeMarkers.icon%28%0A%20%20%20%20%20%20%20%20%20%20%20%20%20%20%20%20%7B%22extraClasses%22%3A%20%22fa-rotate-0%22%2C%20%22icon%22%3A%20%22info-sign%22%2C%20%22iconColor%22%3A%20%22white%22%2C%20%22markerColor%22%3A%20%22blue%22%2C%20%22prefix%22%3A%20%22glyphicon%22%7D%0A%20%20%20%20%20%20%20%20%20%20%20%20%29%3B%0A%20%20%20%20%20%20%20%20%20%20%20%20marker_bc1a09bc31cc47de81c2d86620cfae68.setIcon%28icon_fa756036ba28403a8c15c01ce5cf57af%29%3B%0A%20%20%20%20%20%20%20%20%0A%20%20%20%20%0A%20%20%20%20%20%20%20%20%20%20%20%20marker_bc1a09bc31cc47de81c2d86620cfae68.bindTooltip%28%0A%20%20%20%20%20%20%20%20%20%20%20%20%20%20%20%20%60%3Cdiv%3E%0A%20%20%20%20%20%20%20%20%20%20%20%20%20%20%20%20%20%20%20%20%20UBS%2001%20RIACHO%20FUNDO%20I%0A%20%20%20%20%20%20%20%20%20%20%20%20%20%20%20%20%20%3C/div%3E%60%2C%0A%20%20%20%20%20%20%20%20%20%20%20%20%20%20%20%20%7B%22sticky%22%3A%20true%7D%0A%20%20%20%20%20%20%20%20%20%20%20%20%29%3B%0A%20%20%20%20%20%20%20%20%0A%20%20%20%20%0A%20%20%20%20%20%20%20%20%20%20%20%20var%20marker_287f0cea9d6f4e27ae8a2ea9c09d51fd%20%3D%20L.marker%28%0A%20%20%20%20%20%20%20%20%20%20%20%20%20%20%20%20%5B-15.8703370606604%2C%20-48.0058853054835%5D%2C%0A%20%20%20%20%20%20%20%20%20%20%20%20%20%20%20%20%7B%7D%0A%20%20%20%20%20%20%20%20%20%20%20%20%29.addTo%28feature_group_a032285a320245db8b8ffde065bf7bdd%29%3B%0A%20%20%20%20%20%20%20%20%0A%20%20%20%20%0A%20%20%20%20%20%20%20%20%20%20%20%20var%20icon_205c398553b8456abc7d0781bfe3f541%20%3D%20L.AwesomeMarkers.icon%28%0A%20%20%20%20%20%20%20%20%20%20%20%20%20%20%20%20%7B%22extraClasses%22%3A%20%22fa-rotate-0%22%2C%20%22icon%22%3A%20%22info-sign%22%2C%20%22iconColor%22%3A%20%22white%22%2C%20%22markerColor%22%3A%20%22blue%22%2C%20%22prefix%22%3A%20%22glyphicon%22%7D%0A%20%20%20%20%20%20%20%20%20%20%20%20%29%3B%0A%20%20%20%20%20%20%20%20%20%20%20%20marker_287f0cea9d6f4e27ae8a2ea9c09d51fd.setIcon%28icon_205c398553b8456abc7d0781bfe3f541%29%3B%0A%20%20%20%20%20%20%20%20%0A%20%20%20%20%0A%20%20%20%20%20%20%20%20%20%20%20%20marker_287f0cea9d6f4e27ae8a2ea9c09d51fd.bindTooltip%28%0A%20%20%20%20%20%20%20%20%20%20%20%20%20%20%20%20%60%3Cdiv%3E%0A%20%20%20%20%20%20%20%20%20%20%20%20%20%20%20%20%20%20%20%20%20UBS%2002%20RIACHO%20FUNDO%20II%0A%20%20%20%20%20%20%20%20%20%20%20%20%20%20%20%20%20%3C/div%3E%60%2C%0A%20%20%20%20%20%20%20%20%20%20%20%20%20%20%20%20%7B%22sticky%22%3A%20true%7D%0A%20%20%20%20%20%20%20%20%20%20%20%20%29%3B%0A%20%20%20%20%20%20%20%20%0A%20%20%20%20%0A%20%20%20%20%20%20%20%20%20%20%20%20var%20marker_1dfe5dfa6233489aad46bdd6d38955f8%20%3D%20L.marker%28%0A%20%20%20%20%20%20%20%20%20%20%20%20%20%20%20%20%5B-15.9108170611518%2C%20-48.0285638400487%5D%2C%0A%20%20%20%20%20%20%20%20%20%20%20%20%20%20%20%20%7B%7D%0A%20%20%20%20%20%20%20%20%20%20%20%20%29.addTo%28feature_group_a032285a320245db8b8ffde065bf7bdd%29%3B%0A%20%20%20%20%20%20%20%20%0A%20%20%20%20%0A%20%20%20%20%20%20%20%20%20%20%20%20var%20icon_6828f47c385f4e67a657f9c19582e5a7%20%3D%20L.AwesomeMarkers.icon%28%0A%20%20%20%20%20%20%20%20%20%20%20%20%20%20%20%20%7B%22extraClasses%22%3A%20%22fa-rotate-0%22%2C%20%22icon%22%3A%20%22info-sign%22%2C%20%22iconColor%22%3A%20%22white%22%2C%20%22markerColor%22%3A%20%22blue%22%2C%20%22prefix%22%3A%20%22glyphicon%22%7D%0A%20%20%20%20%20%20%20%20%20%20%20%20%29%3B%0A%20%20%20%20%20%20%20%20%20%20%20%20marker_1dfe5dfa6233489aad46bdd6d38955f8.setIcon%28icon_6828f47c385f4e67a657f9c19582e5a7%29%3B%0A%20%20%20%20%20%20%20%20%0A%20%20%20%20%0A%20%20%20%20%20%20%20%20%20%20%20%20marker_1dfe5dfa6233489aad46bdd6d38955f8.bindTooltip%28%0A%20%20%20%20%20%20%20%20%20%20%20%20%20%20%20%20%60%3Cdiv%3E%0A%20%20%20%20%20%20%20%20%20%20%20%20%20%20%20%20%20%20%20%20%20UBS%2001%20RIACHO%20FUNDO%20II%0A%20%20%20%20%20%20%20%20%20%20%20%20%20%20%20%20%20%3C/div%3E%60%2C%0A%20%20%20%20%20%20%20%20%20%20%20%20%20%20%20%20%7B%22sticky%22%3A%20true%7D%0A%20%20%20%20%20%20%20%20%20%20%20%20%29%3B%0A%20%20%20%20%20%20%20%20%0A%20%20%20%20%0A%20%20%20%20%20%20%20%20%20%20%20%20var%20marker_22704ef63bb845cab3d2647f920882d6%20%3D%20L.marker%28%0A%20%20%20%20%20%20%20%20%20%20%20%20%20%20%20%20%5B-15.7768950118799%2C%20-47.9757042480821%5D%2C%0A%20%20%20%20%20%20%20%20%20%20%20%20%20%20%20%20%7B%7D%0A%20%20%20%20%20%20%20%20%20%20%20%20%29.addTo%28feature_group_a032285a320245db8b8ffde065bf7bdd%29%3B%0A%20%20%20%20%20%20%20%20%0A%20%20%20%20%0A%20%20%20%20%20%20%20%20%20%20%20%20var%20icon_6012b1f04ed545f38b624ef1c8a1666f%20%3D%20L.AwesomeMarkers.icon%28%0A%20%20%20%20%20%20%20%20%20%20%20%20%20%20%20%20%7B%22extraClasses%22%3A%20%22fa-rotate-0%22%2C%20%22icon%22%3A%20%22info-sign%22%2C%20%22iconColor%22%3A%20%22white%22%2C%20%22markerColor%22%3A%20%22blue%22%2C%20%22prefix%22%3A%20%22glyphicon%22%7D%0A%20%20%20%20%20%20%20%20%20%20%20%20%29%3B%0A%20%20%20%20%20%20%20%20%20%20%20%20marker_22704ef63bb845cab3d2647f920882d6.setIcon%28icon_6012b1f04ed545f38b624ef1c8a1666f%29%3B%0A%20%20%20%20%20%20%20%20%0A%20%20%20%20%0A%20%20%20%20%20%20%20%20%20%20%20%20marker_22704ef63bb845cab3d2647f920882d6.bindTooltip%28%0A%20%20%20%20%20%20%20%20%20%20%20%20%20%20%20%20%60%3Cdiv%3E%0A%20%20%20%20%20%20%20%20%20%20%20%20%20%20%20%20%20%20%20%20%20UBS%2001%20VICENTE%20PIRES%0A%20%20%20%20%20%20%20%20%20%20%20%20%20%20%20%20%20%3C/div%3E%60%2C%0A%20%20%20%20%20%20%20%20%20%20%20%20%20%20%20%20%7B%22sticky%22%3A%20true%7D%0A%20%20%20%20%20%20%20%20%20%20%20%20%29%3B%0A%20%20%20%20%20%20%20%20%0A%20%20%20%20%0A%20%20%20%20%20%20%20%20%20%20%20%20var%20marker_2be0da624a4048179de562959a215778%20%3D%20L.marker%28%0A%20%20%20%20%20%20%20%20%20%20%20%20%20%20%20%20%5B-15.8083474379319%2C%20-48.0626341599684%5D%2C%0A%20%20%20%20%20%20%20%20%20%20%20%20%20%20%20%20%7B%7D%0A%20%20%20%20%20%20%20%20%20%20%20%20%29.addTo%28feature_group_a032285a320245db8b8ffde065bf7bdd%29%3B%0A%20%20%20%20%20%20%20%20%0A%20%20%20%20%0A%20%20%20%20%20%20%20%20%20%20%20%20var%20icon_d9dde29df5304f33a025b024d5ca8ea3%20%3D%20L.AwesomeMarkers.icon%28%0A%20%20%20%20%20%20%20%20%20%20%20%20%20%20%20%20%7B%22extraClasses%22%3A%20%22fa-rotate-0%22%2C%20%22icon%22%3A%20%22info-sign%22%2C%20%22iconColor%22%3A%20%22white%22%2C%20%22markerColor%22%3A%20%22blue%22%2C%20%22prefix%22%3A%20%22glyphicon%22%7D%0A%20%20%20%20%20%20%20%20%20%20%20%20%29%3B%0A%20%20%20%20%20%20%20%20%20%20%20%20marker_2be0da624a4048179de562959a215778.setIcon%28icon_d9dde29df5304f33a025b024d5ca8ea3%29%3B%0A%20%20%20%20%20%20%20%20%0A%20%20%20%20%0A%20%20%20%20%20%20%20%20%20%20%20%20marker_2be0da624a4048179de562959a215778.bindTooltip%28%0A%20%20%20%20%20%20%20%20%20%20%20%20%20%20%20%20%60%3Cdiv%3E%0A%20%20%20%20%20%20%20%20%20%20%20%20%20%20%20%20%20%20%20%20%20HRT%20HOSPITAL%20REGIONAL%20DE%20TAGUATINGA%0A%20%20%20%20%20%20%20%20%20%20%20%20%20%20%20%20%20%3C/div%3E%60%2C%0A%20%20%20%20%20%20%20%20%20%20%20%20%20%20%20%20%7B%22sticky%22%3A%20true%7D%0A%20%20%20%20%20%20%20%20%20%20%20%20%29%3B%0A%20%20%20%20%20%20%20%20%0A%20%20%20%20%0A%20%20%20%20%20%20%20%20%20%20%20%20var%20marker_f023eb010851462684005059906dafed%20%3D%20L.marker%28%0A%20%20%20%20%20%20%20%20%20%20%20%20%20%20%20%20%5B-15.8265664600191%2C%20-48.0745433262416%5D%2C%0A%20%20%20%20%20%20%20%20%20%20%20%20%20%20%20%20%7B%7D%0A%20%20%20%20%20%20%20%20%20%20%20%20%29.addTo%28feature_group_a032285a320245db8b8ffde065bf7bdd%29%3B%0A%20%20%20%20%20%20%20%20%0A%20%20%20%20%0A%20%20%20%20%20%20%20%20%20%20%20%20var%20icon_a6f42952924a4886ba03c2a625224446%20%3D%20L.AwesomeMarkers.icon%28%0A%20%20%20%20%20%20%20%20%20%20%20%20%20%20%20%20%7B%22extraClasses%22%3A%20%22fa-rotate-0%22%2C%20%22icon%22%3A%20%22info-sign%22%2C%20%22iconColor%22%3A%20%22white%22%2C%20%22markerColor%22%3A%20%22blue%22%2C%20%22prefix%22%3A%20%22glyphicon%22%7D%0A%20%20%20%20%20%20%20%20%20%20%20%20%29%3B%0A%20%20%20%20%20%20%20%20%20%20%20%20marker_f023eb010851462684005059906dafed.setIcon%28icon_a6f42952924a4886ba03c2a625224446%29%3B%0A%20%20%20%20%20%20%20%20%0A%20%20%20%20%0A%20%20%20%20%20%20%20%20%20%20%20%20marker_f023eb010851462684005059906dafed.bindTooltip%28%0A%20%20%20%20%20%20%20%20%20%20%20%20%20%20%20%20%60%3Cdiv%3E%0A%20%20%20%20%20%20%20%20%20%20%20%20%20%20%20%20%20%20%20%20%20UBS%2002%20TAGUATINGA%0A%20%20%20%20%20%20%20%20%20%20%20%20%20%20%20%20%20%3C/div%3E%60%2C%0A%20%20%20%20%20%20%20%20%20%20%20%20%20%20%20%20%7B%22sticky%22%3A%20true%7D%0A%20%20%20%20%20%20%20%20%20%20%20%20%29%3B%0A%20%20%20%20%20%20%20%20%0A%20%20%20%20%0A%20%20%20%20%20%20%20%20%20%20%20%20var%20marker_bcc5a317683449eaa85dddd876856b21%20%3D%20L.marker%28%0A%20%20%20%20%20%20%20%20%20%20%20%20%20%20%20%20%5B-15.8265664600191%2C%20-48.0745433262416%5D%2C%0A%20%20%20%20%20%20%20%20%20%20%20%20%20%20%20%20%7B%7D%0A%20%20%20%20%20%20%20%20%20%20%20%20%29.addTo%28feature_group_a032285a320245db8b8ffde065bf7bdd%29%3B%0A%20%20%20%20%20%20%20%20%0A%20%20%20%20%0A%20%20%20%20%20%20%20%20%20%20%20%20var%20icon_881b2cd3b7d345c5b5f744edbbbc533a%20%3D%20L.AwesomeMarkers.icon%28%0A%20%20%20%20%20%20%20%20%20%20%20%20%20%20%20%20%7B%22extraClasses%22%3A%20%22fa-rotate-0%22%2C%20%22icon%22%3A%20%22info-sign%22%2C%20%22iconColor%22%3A%20%22white%22%2C%20%22markerColor%22%3A%20%22blue%22%2C%20%22prefix%22%3A%20%22glyphicon%22%7D%0A%20%20%20%20%20%20%20%20%20%20%20%20%29%3B%0A%20%20%20%20%20%20%20%20%20%20%20%20marker_bcc5a317683449eaa85dddd876856b21.setIcon%28icon_881b2cd3b7d345c5b5f744edbbbc533a%29%3B%0A%20%20%20%20%20%20%20%20%0A%20%20%20%20%0A%20%20%20%20%20%20%20%20%20%20%20%20marker_bcc5a317683449eaa85dddd876856b21.bindTooltip%28%0A%20%20%20%20%20%20%20%20%20%20%20%20%20%20%20%20%60%3Cdiv%3E%0A%20%20%20%20%20%20%20%20%20%20%20%20%20%20%20%20%20%20%20%20%20UBS%2007%20TAGUATINGA%0A%20%20%20%20%20%20%20%20%20%20%20%20%20%20%20%20%20%3C/div%3E%60%2C%0A%20%20%20%20%20%20%20%20%20%20%20%20%20%20%20%20%7B%22sticky%22%3A%20true%7D%0A%20%20%20%20%20%20%20%20%20%20%20%20%29%3B%0A%20%20%20%20%20%20%20%20%0A%20%20%20%20%0A%20%20%20%20%20%20%20%20%20%20%20%20var%20marker_1c6cfa092b7245b8a846ad276eed5933%20%3D%20L.marker%28%0A%20%20%20%20%20%20%20%20%20%20%20%20%20%20%20%20%5B-15.8265664600191%2C%20-48.0745433262416%5D%2C%0A%20%20%20%20%20%20%20%20%20%20%20%20%20%20%20%20%7B%7D%0A%20%20%20%20%20%20%20%20%20%20%20%20%29.addTo%28feature_group_a032285a320245db8b8ffde065bf7bdd%29%3B%0A%20%20%20%20%20%20%20%20%0A%20%20%20%20%0A%20%20%20%20%20%20%20%20%20%20%20%20var%20icon_f0219213fd2d4828b2846842b03f9716%20%3D%20L.AwesomeMarkers.icon%28%0A%20%20%20%20%20%20%20%20%20%20%20%20%20%20%20%20%7B%22extraClasses%22%3A%20%22fa-rotate-0%22%2C%20%22icon%22%3A%20%22info-sign%22%2C%20%22iconColor%22%3A%20%22white%22%2C%20%22markerColor%22%3A%20%22blue%22%2C%20%22prefix%22%3A%20%22glyphicon%22%7D%0A%20%20%20%20%20%20%20%20%20%20%20%20%29%3B%0A%20%20%20%20%20%20%20%20%20%20%20%20marker_1c6cfa092b7245b8a846ad276eed5933.setIcon%28icon_f0219213fd2d4828b2846842b03f9716%29%3B%0A%20%20%20%20%20%20%20%20%0A%20%20%20%20%0A%20%20%20%20%20%20%20%20%20%20%20%20marker_1c6cfa092b7245b8a846ad276eed5933.bindTooltip%28%0A%20%20%20%20%20%20%20%20%20%20%20%20%20%20%20%20%60%3Cdiv%3E%0A%20%20%20%20%20%20%20%20%20%20%20%20%20%20%20%20%20%20%20%20%20UBS%2008%20TAGUATINGA%0A%20%20%20%20%20%20%20%20%20%20%20%20%20%20%20%20%20%3C/div%3E%60%2C%0A%20%20%20%20%20%20%20%20%20%20%20%20%20%20%20%20%7B%22sticky%22%3A%20true%7D%0A%20%20%20%20%20%20%20%20%20%20%20%20%29%3B%0A%20%20%20%20%20%20%20%20%0A%20%20%20%20%0A%20%20%20%20%20%20%20%20%20%20%20%20var%20marker_2ba3c740e9fa461a905d8c3fe21bb5d2%20%3D%20L.marker%28%0A%20%20%20%20%20%20%20%20%20%20%20%20%20%20%20%20%5B-15.8265664600191%2C%20-48.0745433262416%5D%2C%0A%20%20%20%20%20%20%20%20%20%20%20%20%20%20%20%20%7B%7D%0A%20%20%20%20%20%20%20%20%20%20%20%20%29.addTo%28feature_group_a032285a320245db8b8ffde065bf7bdd%29%3B%0A%20%20%20%20%20%20%20%20%0A%20%20%20%20%0A%20%20%20%20%20%20%20%20%20%20%20%20var%20icon_db813d6fcae1414a948a225a582fa47e%20%3D%20L.AwesomeMarkers.icon%28%0A%20%20%20%20%20%20%20%20%20%20%20%20%20%20%20%20%7B%22extraClasses%22%3A%20%22fa-rotate-0%22%2C%20%22icon%22%3A%20%22info-sign%22%2C%20%22iconColor%22%3A%20%22white%22%2C%20%22markerColor%22%3A%20%22blue%22%2C%20%22prefix%22%3A%20%22glyphicon%22%7D%0A%20%20%20%20%20%20%20%20%20%20%20%20%29%3B%0A%20%20%20%20%20%20%20%20%20%20%20%20marker_2ba3c740e9fa461a905d8c3fe21bb5d2.setIcon%28icon_db813d6fcae1414a948a225a582fa47e%29%3B%0A%20%20%20%20%20%20%20%20%0A%20%20%20%20%0A%20%20%20%20%20%20%20%20%20%20%20%20marker_2ba3c740e9fa461a905d8c3fe21bb5d2.bindTooltip%28%0A%20%20%20%20%20%20%20%20%20%20%20%20%20%20%20%20%60%3Cdiv%3E%0A%20%20%20%20%20%20%20%20%20%20%20%20%20%20%20%20%20%20%20%20%20UBS%2001%20TAGUATINGA%0A%20%20%20%20%20%20%20%20%20%20%20%20%20%20%20%20%20%3C/div%3E%60%2C%0A%20%20%20%20%20%20%20%20%20%20%20%20%20%20%20%20%7B%22sticky%22%3A%20true%7D%0A%20%20%20%20%20%20%20%20%20%20%20%20%29%3B%0A%20%20%20%20%20%20%20%20%0A%20%20%20%20%0A%20%20%20%20%20%20%20%20%20%20%20%20var%20marker_ec272affeaaf48f99210d2618cb01336%20%3D%20L.marker%28%0A%20%20%20%20%20%20%20%20%20%20%20%20%20%20%20%20%5B-15.8265664600191%2C%20-48.0745433262416%5D%2C%0A%20%20%20%20%20%20%20%20%20%20%20%20%20%20%20%20%7B%7D%0A%20%20%20%20%20%20%20%20%20%20%20%20%29.addTo%28feature_group_a032285a320245db8b8ffde065bf7bdd%29%3B%0A%20%20%20%20%20%20%20%20%0A%20%20%20%20%0A%20%20%20%20%20%20%20%20%20%20%20%20var%20icon_73aa3861edca44ab8538fc01fc7f6a59%20%3D%20L.AwesomeMarkers.icon%28%0A%20%20%20%20%20%20%20%20%20%20%20%20%20%20%20%20%7B%22extraClasses%22%3A%20%22fa-rotate-0%22%2C%20%22icon%22%3A%20%22info-sign%22%2C%20%22iconColor%22%3A%20%22white%22%2C%20%22markerColor%22%3A%20%22blue%22%2C%20%22prefix%22%3A%20%22glyphicon%22%7D%0A%20%20%20%20%20%20%20%20%20%20%20%20%29%3B%0A%20%20%20%20%20%20%20%20%20%20%20%20marker_ec272affeaaf48f99210d2618cb01336.setIcon%28icon_73aa3861edca44ab8538fc01fc7f6a59%29%3B%0A%20%20%20%20%20%20%20%20%0A%20%20%20%20%0A%20%20%20%20%20%20%20%20%20%20%20%20marker_ec272affeaaf48f99210d2618cb01336.bindTooltip%28%0A%20%20%20%20%20%20%20%20%20%20%20%20%20%20%20%20%60%3Cdiv%3E%0A%20%20%20%20%20%20%20%20%20%20%20%20%20%20%20%20%20%20%20%20%20UBS%2005%20TAGUATINGA%0A%20%20%20%20%20%20%20%20%20%20%20%20%20%20%20%20%20%3C/div%3E%60%2C%0A%20%20%20%20%20%20%20%20%20%20%20%20%20%20%20%20%7B%22sticky%22%3A%20true%7D%0A%20%20%20%20%20%20%20%20%20%20%20%20%29%3B%0A%20%20%20%20%20%20%20%20%0A%20%20%20%20%0A%20%20%20%20%20%20%20%20%20%20%20%20var%20marker_12c96803f44248fbae3983c17bb8ce1f%20%3D%20L.marker%28%0A%20%20%20%20%20%20%20%20%20%20%20%20%20%20%20%20%5B-15.8265664600191%2C%20-48.0745433262416%5D%2C%0A%20%20%20%20%20%20%20%20%20%20%20%20%20%20%20%20%7B%7D%0A%20%20%20%20%20%20%20%20%20%20%20%20%29.addTo%28feature_group_a032285a320245db8b8ffde065bf7bdd%29%3B%0A%20%20%20%20%20%20%20%20%0A%20%20%20%20%0A%20%20%20%20%20%20%20%20%20%20%20%20var%20icon_0ef60a8f6b4a407f852848915cae059d%20%3D%20L.AwesomeMarkers.icon%28%0A%20%20%20%20%20%20%20%20%20%20%20%20%20%20%20%20%7B%22extraClasses%22%3A%20%22fa-rotate-0%22%2C%20%22icon%22%3A%20%22info-sign%22%2C%20%22iconColor%22%3A%20%22white%22%2C%20%22markerColor%22%3A%20%22blue%22%2C%20%22prefix%22%3A%20%22glyphicon%22%7D%0A%20%20%20%20%20%20%20%20%20%20%20%20%29%3B%0A%20%20%20%20%20%20%20%20%20%20%20%20marker_12c96803f44248fbae3983c17bb8ce1f.setIcon%28icon_0ef60a8f6b4a407f852848915cae059d%29%3B%0A%20%20%20%20%20%20%20%20%0A%20%20%20%20%0A%20%20%20%20%20%20%20%20%20%20%20%20marker_12c96803f44248fbae3983c17bb8ce1f.bindTooltip%28%0A%20%20%20%20%20%20%20%20%20%20%20%20%20%20%20%20%60%3Cdiv%3E%0A%20%20%20%20%20%20%20%20%20%20%20%20%20%20%20%20%20%20%20%20%20UBS%2006%20TAGUATINGA%0A%20%20%20%20%20%20%20%20%20%20%20%20%20%20%20%20%20%3C/div%3E%60%2C%0A%20%20%20%20%20%20%20%20%20%20%20%20%20%20%20%20%7B%22sticky%22%3A%20true%7D%0A%20%20%20%20%20%20%20%20%20%20%20%20%29%3B%0A%20%20%20%20%20%20%20%20%0A%20%20%20%20%0A%20%20%20%20%20%20%20%20%20%20%20%20var%20marker_4cd82a7290554776b28281372b0cc08f%20%3D%20L.marker%28%0A%20%20%20%20%20%20%20%20%20%20%20%20%20%20%20%20%5B-15.8265664600191%2C%20-48.0745433262416%5D%2C%0A%20%20%20%20%20%20%20%20%20%20%20%20%20%20%20%20%7B%7D%0A%20%20%20%20%20%20%20%20%20%20%20%20%29.addTo%28feature_group_a032285a320245db8b8ffde065bf7bdd%29%3B%0A%20%20%20%20%20%20%20%20%0A%20%20%20%20%0A%20%20%20%20%20%20%20%20%20%20%20%20var%20icon_7a6780316c704c2d956136ed9165b5f7%20%3D%20L.AwesomeMarkers.icon%28%0A%20%20%20%20%20%20%20%20%20%20%20%20%20%20%20%20%7B%22extraClasses%22%3A%20%22fa-rotate-0%22%2C%20%22icon%22%3A%20%22info-sign%22%2C%20%22iconColor%22%3A%20%22white%22%2C%20%22markerColor%22%3A%20%22blue%22%2C%20%22prefix%22%3A%20%22glyphicon%22%7D%0A%20%20%20%20%20%20%20%20%20%20%20%20%29%3B%0A%20%20%20%20%20%20%20%20%20%20%20%20marker_4cd82a7290554776b28281372b0cc08f.setIcon%28icon_7a6780316c704c2d956136ed9165b5f7%29%3B%0A%20%20%20%20%20%20%20%20%0A%20%20%20%20%0A%20%20%20%20%20%20%20%20%20%20%20%20marker_4cd82a7290554776b28281372b0cc08f.bindTooltip%28%0A%20%20%20%20%20%20%20%20%20%20%20%20%20%20%20%20%60%3Cdiv%3E%0A%20%20%20%20%20%20%20%20%20%20%20%20%20%20%20%20%20%20%20%20%20UBS%2002%20AGUAS%20CLARAS%0A%20%20%20%20%20%20%20%20%20%20%20%20%20%20%20%20%20%3C/div%3E%60%2C%0A%20%20%20%20%20%20%20%20%20%20%20%20%20%20%20%20%7B%22sticky%22%3A%20true%7D%0A%20%20%20%20%20%20%20%20%20%20%20%20%29%3B%0A%20%20%20%20%20%20%20%20%0A%20%20%20%20%0A%20%20%20%20%20%20%20%20%20%20%20%20var%20marker_8514bb6a4e3a45e393ccba2a91a0a85b%20%3D%20L.marker%28%0A%20%20%20%20%20%20%20%20%20%20%20%20%20%20%20%20%5B-15.8074113509234%2C%20-48.1055872449688%5D%2C%0A%20%20%20%20%20%20%20%20%20%20%20%20%20%20%20%20%7B%7D%0A%20%20%20%20%20%20%20%20%20%20%20%20%29.addTo%28feature_group_a032285a320245db8b8ffde065bf7bdd%29%3B%0A%20%20%20%20%20%20%20%20%0A%20%20%20%20%0A%20%20%20%20%20%20%20%20%20%20%20%20var%20icon_815d6fd55914476c984d9761aa7d2017%20%3D%20L.AwesomeMarkers.icon%28%0A%20%20%20%20%20%20%20%20%20%20%20%20%20%20%20%20%7B%22extraClasses%22%3A%20%22fa-rotate-0%22%2C%20%22icon%22%3A%20%22info-sign%22%2C%20%22iconColor%22%3A%20%22white%22%2C%20%22markerColor%22%3A%20%22blue%22%2C%20%22prefix%22%3A%20%22glyphicon%22%7D%0A%20%20%20%20%20%20%20%20%20%20%20%20%29%3B%0A%20%20%20%20%20%20%20%20%20%20%20%20marker_8514bb6a4e3a45e393ccba2a91a0a85b.setIcon%28icon_815d6fd55914476c984d9761aa7d2017%29%3B%0A%20%20%20%20%20%20%20%20%0A%20%20%20%20%0A%20%20%20%20%20%20%20%20%20%20%20%20marker_8514bb6a4e3a45e393ccba2a91a0a85b.bindTooltip%28%0A%20%20%20%20%20%20%20%20%20%20%20%20%20%20%20%20%60%3Cdiv%3E%0A%20%20%20%20%20%20%20%20%20%20%20%20%20%20%20%20%20%20%20%20%20UBS%205%20CEILANDIA%0A%20%20%20%20%20%20%20%20%20%20%20%20%20%20%20%20%20%3C/div%3E%60%2C%0A%20%20%20%20%20%20%20%20%20%20%20%20%20%20%20%20%7B%22sticky%22%3A%20true%7D%0A%20%20%20%20%20%20%20%20%20%20%20%20%29%3B%0A%20%20%20%20%20%20%20%20%0A%20%20%20%20%0A%20%20%20%20%20%20%20%20%20%20%20%20var%20marker_5ba5a1b2a87849959ddfb5fd8e12b46f%20%3D%20L.marker%28%0A%20%20%20%20%20%20%20%20%20%20%20%20%20%20%20%20%5B-15.8247220696825%2C%20-48.0950257994912%5D%2C%0A%20%20%20%20%20%20%20%20%20%20%20%20%20%20%20%20%7B%7D%0A%20%20%20%20%20%20%20%20%20%20%20%20%29.addTo%28feature_group_a032285a320245db8b8ffde065bf7bdd%29%3B%0A%20%20%20%20%20%20%20%20%0A%20%20%20%20%0A%20%20%20%20%20%20%20%20%20%20%20%20var%20icon_96e44859393b495ebc84b5af9ec005fe%20%3D%20L.AwesomeMarkers.icon%28%0A%20%20%20%20%20%20%20%20%20%20%20%20%20%20%20%20%7B%22extraClasses%22%3A%20%22fa-rotate-0%22%2C%20%22icon%22%3A%20%22info-sign%22%2C%20%22iconColor%22%3A%20%22white%22%2C%20%22markerColor%22%3A%20%22blue%22%2C%20%22prefix%22%3A%20%22glyphicon%22%7D%0A%20%20%20%20%20%20%20%20%20%20%20%20%29%3B%0A%20%20%20%20%20%20%20%20%20%20%20%20marker_5ba5a1b2a87849959ddfb5fd8e12b46f.setIcon%28icon_96e44859393b495ebc84b5af9ec005fe%29%3B%0A%20%20%20%20%20%20%20%20%0A%20%20%20%20%0A%20%20%20%20%20%20%20%20%20%20%20%20marker_5ba5a1b2a87849959ddfb5fd8e12b46f.bindTooltip%28%0A%20%20%20%20%20%20%20%20%20%20%20%20%20%20%20%20%60%3Cdiv%3E%0A%20%20%20%20%20%20%20%20%20%20%20%20%20%20%20%20%20%20%20%20%20UBS%203%20CEILANDIA%0A%20%20%20%20%20%20%20%20%20%20%20%20%20%20%20%20%20%3C/div%3E%60%2C%0A%20%20%20%20%20%20%20%20%20%20%20%20%20%20%20%20%7B%22sticky%22%3A%20true%7D%0A%20%20%20%20%20%20%20%20%20%20%20%20%29%3B%0A%20%20%20%20%20%20%20%20%0A%20%20%20%20%0A%20%20%20%20%20%20%20%20%20%20%20%20var%20marker_003ed5b0134c478ebf1a380b6991f99c%20%3D%20L.marker%28%0A%20%20%20%20%20%20%20%20%20%20%20%20%20%20%20%20%5B-15.8247220696825%2C%20-48.0950257994912%5D%2C%0A%20%20%20%20%20%20%20%20%20%20%20%20%20%20%20%20%7B%7D%0A%20%20%20%20%20%20%20%20%20%20%20%20%29.addTo%28feature_group_a032285a320245db8b8ffde065bf7bdd%29%3B%0A%20%20%20%20%20%20%20%20%0A%20%20%20%20%0A%20%20%20%20%20%20%20%20%20%20%20%20var%20icon_b6f69f7bd0944180ae2ddf0f483eb706%20%3D%20L.AwesomeMarkers.icon%28%0A%20%20%20%20%20%20%20%20%20%20%20%20%20%20%20%20%7B%22extraClasses%22%3A%20%22fa-rotate-0%22%2C%20%22icon%22%3A%20%22info-sign%22%2C%20%22iconColor%22%3A%20%22white%22%2C%20%22markerColor%22%3A%20%22blue%22%2C%20%22prefix%22%3A%20%22glyphicon%22%7D%0A%20%20%20%20%20%20%20%20%20%20%20%20%29%3B%0A%20%20%20%20%20%20%20%20%20%20%20%20marker_003ed5b0134c478ebf1a380b6991f99c.setIcon%28icon_b6f69f7bd0944180ae2ddf0f483eb706%29%3B%0A%20%20%20%20%20%20%20%20%0A%20%20%20%20%0A%20%20%20%20%20%20%20%20%20%20%20%20marker_003ed5b0134c478ebf1a380b6991f99c.bindTooltip%28%0A%20%20%20%20%20%20%20%20%20%20%20%20%20%20%20%20%60%3Cdiv%3E%0A%20%20%20%20%20%20%20%20%20%20%20%20%20%20%20%20%20%20%20%20%20HOSPITAL%20REGIONAL%20DE%20CEILANDIA%0A%20%20%20%20%20%20%20%20%20%20%20%20%20%20%20%20%20%3C/div%3E%60%2C%0A%20%20%20%20%20%20%20%20%20%20%20%20%20%20%20%20%7B%22sticky%22%3A%20true%7D%0A%20%20%20%20%20%20%20%20%20%20%20%20%29%3B%0A%20%20%20%20%20%20%20%20%0A%20%20%20%20%0A%20%20%20%20%20%20%20%20%20%20%20%20var%20marker_7cb7e46309d04eca82434156c15c3ec3%20%3D%20L.marker%28%0A%20%20%20%20%20%20%20%20%20%20%20%20%20%20%20%20%5B-15.831474746754%2C%20-48.1070128172831%5D%2C%0A%20%20%20%20%20%20%20%20%20%20%20%20%20%20%20%20%7B%7D%0A%20%20%20%20%20%20%20%20%20%20%20%20%29.addTo%28feature_group_a032285a320245db8b8ffde065bf7bdd%29%3B%0A%20%20%20%20%20%20%20%20%0A%20%20%20%20%0A%20%20%20%20%20%20%20%20%20%20%20%20var%20icon_0fed72d05c8d48329777de32bfae0963%20%3D%20L.AwesomeMarkers.icon%28%0A%20%20%20%20%20%20%20%20%20%20%20%20%20%20%20%20%7B%22extraClasses%22%3A%20%22fa-rotate-0%22%2C%20%22icon%22%3A%20%22info-sign%22%2C%20%22iconColor%22%3A%20%22white%22%2C%20%22markerColor%22%3A%20%22blue%22%2C%20%22prefix%22%3A%20%22glyphicon%22%7D%0A%20%20%20%20%20%20%20%20%20%20%20%20%29%3B%0A%20%20%20%20%20%20%20%20%20%20%20%20marker_7cb7e46309d04eca82434156c15c3ec3.setIcon%28icon_0fed72d05c8d48329777de32bfae0963%29%3B%0A%20%20%20%20%20%20%20%20%0A%20%20%20%20%0A%20%20%20%20%20%20%20%20%20%20%20%20marker_7cb7e46309d04eca82434156c15c3ec3.bindTooltip%28%0A%20%20%20%20%20%20%20%20%20%20%20%20%20%20%20%20%60%3Cdiv%3E%0A%20%20%20%20%20%20%20%20%20%20%20%20%20%20%20%20%20%20%20%20%20UBS%2010%20CEILANDIA%0A%20%20%20%20%20%20%20%20%20%20%20%20%20%20%20%20%20%3C/div%3E%60%2C%0A%20%20%20%20%20%20%20%20%20%20%20%20%20%20%20%20%7B%22sticky%22%3A%20true%7D%0A%20%20%20%20%20%20%20%20%20%20%20%20%29%3B%0A%20%20%20%20%20%20%20%20%0A%20%20%20%20%0A%20%20%20%20%20%20%20%20%20%20%20%20var%20marker_9a6afbee7d75450aaaaa34f46b1636b4%20%3D%20L.marker%28%0A%20%20%20%20%20%20%20%20%20%20%20%20%20%20%20%20%5B-15.8137169543066%2C%20-48.1146465351707%5D%2C%0A%20%20%20%20%20%20%20%20%20%20%20%20%20%20%20%20%7B%7D%0A%20%20%20%20%20%20%20%20%20%20%20%20%29.addTo%28feature_group_a032285a320245db8b8ffde065bf7bdd%29%3B%0A%20%20%20%20%20%20%20%20%0A%20%20%20%20%0A%20%20%20%20%20%20%20%20%20%20%20%20var%20icon_b5e47b3a4ad5474699dbea9ded023009%20%3D%20L.AwesomeMarkers.icon%28%0A%20%20%20%20%20%20%20%20%20%20%20%20%20%20%20%20%7B%22extraClasses%22%3A%20%22fa-rotate-0%22%2C%20%22icon%22%3A%20%22info-sign%22%2C%20%22iconColor%22%3A%20%22white%22%2C%20%22markerColor%22%3A%20%22blue%22%2C%20%22prefix%22%3A%20%22glyphicon%22%7D%0A%20%20%20%20%20%20%20%20%20%20%20%20%29%3B%0A%20%20%20%20%20%20%20%20%20%20%20%20marker_9a6afbee7d75450aaaaa34f46b1636b4.setIcon%28icon_b5e47b3a4ad5474699dbea9ded023009%29%3B%0A%20%20%20%20%20%20%20%20%0A%20%20%20%20%0A%20%20%20%20%20%20%20%20%20%20%20%20marker_9a6afbee7d75450aaaaa34f46b1636b4.bindTooltip%28%0A%20%20%20%20%20%20%20%20%20%20%20%20%20%20%20%20%60%3Cdiv%3E%0A%20%20%20%20%20%20%20%20%20%20%20%20%20%20%20%20%20%20%20%20%20UBS%202%20CEILANDIA%0A%20%20%20%20%20%20%20%20%20%20%20%20%20%20%20%20%20%3C/div%3E%60%2C%0A%20%20%20%20%20%20%20%20%20%20%20%20%20%20%20%20%7B%22sticky%22%3A%20true%7D%0A%20%20%20%20%20%20%20%20%20%20%20%20%29%3B%0A%20%20%20%20%20%20%20%20%0A%20%20%20%20%0A%20%20%20%20%20%20%20%20%20%20%20%20var%20marker_410bcf2611ad42bc9f8848bbec07fac2%20%3D%20L.marker%28%0A%20%20%20%20%20%20%20%20%20%20%20%20%20%20%20%20%5B-15.8414180713464%2C%20-48.1142929456511%5D%2C%0A%20%20%20%20%20%20%20%20%20%20%20%20%20%20%20%20%7B%7D%0A%20%20%20%20%20%20%20%20%20%20%20%20%29.addTo%28feature_group_a032285a320245db8b8ffde065bf7bdd%29%3B%0A%20%20%20%20%20%20%20%20%0A%20%20%20%20%0A%20%20%20%20%20%20%20%20%20%20%20%20var%20icon_9f5f390d29a44b3bb723b576b85e3cf1%20%3D%20L.AwesomeMarkers.icon%28%0A%20%20%20%20%20%20%20%20%20%20%20%20%20%20%20%20%7B%22extraClasses%22%3A%20%22fa-rotate-0%22%2C%20%22icon%22%3A%20%22info-sign%22%2C%20%22iconColor%22%3A%20%22white%22%2C%20%22markerColor%22%3A%20%22blue%22%2C%20%22prefix%22%3A%20%22glyphicon%22%7D%0A%20%20%20%20%20%20%20%20%20%20%20%20%29%3B%0A%20%20%20%20%20%20%20%20%20%20%20%20marker_410bcf2611ad42bc9f8848bbec07fac2.setIcon%28icon_9f5f390d29a44b3bb723b576b85e3cf1%29%3B%0A%20%20%20%20%20%20%20%20%0A%20%20%20%20%0A%20%20%20%20%20%20%20%20%20%20%20%20marker_410bcf2611ad42bc9f8848bbec07fac2.bindTooltip%28%0A%20%20%20%20%20%20%20%20%20%20%20%20%20%20%20%20%60%3Cdiv%3E%0A%20%20%20%20%20%20%20%20%20%20%20%20%20%20%20%20%20%20%20%20%20UBS%206%20CEILANDIA%0A%20%20%20%20%20%20%20%20%20%20%20%20%20%20%20%20%20%3C/div%3E%60%2C%0A%20%20%20%20%20%20%20%20%20%20%20%20%20%20%20%20%7B%22sticky%22%3A%20true%7D%0A%20%20%20%20%20%20%20%20%20%20%20%20%29%3B%0A%20%20%20%20%20%20%20%20%0A%20%20%20%20%0A%20%20%20%20%20%20%20%20%20%20%20%20var%20marker_d065b0ca13364ddea38cadcf2a45e18d%20%3D%20L.marker%28%0A%20%20%20%20%20%20%20%20%20%20%20%20%20%20%20%20%5B-15.8414180713464%2C%20-48.1142929456511%5D%2C%0A%20%20%20%20%20%20%20%20%20%20%20%20%20%20%20%20%7B%7D%0A%20%20%20%20%20%20%20%20%20%20%20%20%29.addTo%28feature_group_a032285a320245db8b8ffde065bf7bdd%29%3B%0A%20%20%20%20%20%20%20%20%0A%20%20%20%20%0A%20%20%20%20%20%20%20%20%20%20%20%20var%20icon_93d72ee551934d10b38f90b7fb253892%20%3D%20L.AwesomeMarkers.icon%28%0A%20%20%20%20%20%20%20%20%20%20%20%20%20%20%20%20%7B%22extraClasses%22%3A%20%22fa-rotate-0%22%2C%20%22icon%22%3A%20%22info-sign%22%2C%20%22iconColor%22%3A%20%22white%22%2C%20%22markerColor%22%3A%20%22blue%22%2C%20%22prefix%22%3A%20%22glyphicon%22%7D%0A%20%20%20%20%20%20%20%20%20%20%20%20%29%3B%0A%20%20%20%20%20%20%20%20%20%20%20%20marker_d065b0ca13364ddea38cadcf2a45e18d.setIcon%28icon_93d72ee551934d10b38f90b7fb253892%29%3B%0A%20%20%20%20%20%20%20%20%0A%20%20%20%20%0A%20%20%20%20%20%20%20%20%20%20%20%20marker_d065b0ca13364ddea38cadcf2a45e18d.bindTooltip%28%0A%20%20%20%20%20%20%20%20%20%20%20%20%20%20%20%20%60%3Cdiv%3E%0A%20%20%20%20%20%20%20%20%20%20%20%20%20%20%20%20%20%20%20%20%20UBS%2017%20CEILANDIA%0A%20%20%20%20%20%20%20%20%20%20%20%20%20%20%20%20%20%3C/div%3E%60%2C%0A%20%20%20%20%20%20%20%20%20%20%20%20%20%20%20%20%7B%22sticky%22%3A%20true%7D%0A%20%20%20%20%20%20%20%20%20%20%20%20%29%3B%0A%20%20%20%20%20%20%20%20%0A%20%20%20%20%0A%20%20%20%20%20%20%20%20%20%20%20%20var%20marker_db31b1e5921d4dd484537f17c8292c6f%20%3D%20L.marker%28%0A%20%20%20%20%20%20%20%20%20%20%20%20%20%20%20%20%5B-15.8467366072509%2C%20-48.1165436065949%5D%2C%0A%20%20%20%20%20%20%20%20%20%20%20%20%20%20%20%20%7B%7D%0A%20%20%20%20%20%20%20%20%20%20%20%20%29.addTo%28feature_group_a032285a320245db8b8ffde065bf7bdd%29%3B%0A%20%20%20%20%20%20%20%20%0A%20%20%20%20%0A%20%20%20%20%20%20%20%20%20%20%20%20var%20icon_e84187ba4792402f851d1e4309cc02a6%20%3D%20L.AwesomeMarkers.icon%28%0A%20%20%20%20%20%20%20%20%20%20%20%20%20%20%20%20%7B%22extraClasses%22%3A%20%22fa-rotate-0%22%2C%20%22icon%22%3A%20%22info-sign%22%2C%20%22iconColor%22%3A%20%22white%22%2C%20%22markerColor%22%3A%20%22blue%22%2C%20%22prefix%22%3A%20%22glyphicon%22%7D%0A%20%20%20%20%20%20%20%20%20%20%20%20%29%3B%0A%20%20%20%20%20%20%20%20%20%20%20%20marker_db31b1e5921d4dd484537f17c8292c6f.setIcon%28icon_e84187ba4792402f851d1e4309cc02a6%29%3B%0A%20%20%20%20%20%20%20%20%0A%20%20%20%20%0A%20%20%20%20%20%20%20%20%20%20%20%20marker_db31b1e5921d4dd484537f17c8292c6f.bindTooltip%28%0A%20%20%20%20%20%20%20%20%20%20%20%20%20%20%20%20%60%3Cdiv%3E%0A%20%20%20%20%20%20%20%20%20%20%20%20%20%20%20%20%20%20%20%20%20UBS%2016%20CEILANDIA%0A%20%20%20%20%20%20%20%20%20%20%20%20%20%20%20%20%20%3C/div%3E%60%2C%0A%20%20%20%20%20%20%20%20%20%20%20%20%20%20%20%20%7B%22sticky%22%3A%20true%7D%0A%20%20%20%20%20%20%20%20%20%20%20%20%29%3B%0A%20%20%20%20%20%20%20%20%0A%20%20%20%20%0A%20%20%20%20%20%20%20%20%20%20%20%20var%20marker_82418f0fc34449e392a9f3801d1f44c7%20%3D%20L.marker%28%0A%20%20%20%20%20%20%20%20%20%20%20%20%20%20%20%20%5B-15.8113112416301%2C%20-48.1307847616556%5D%2C%0A%20%20%20%20%20%20%20%20%20%20%20%20%20%20%20%20%7B%7D%0A%20%20%20%20%20%20%20%20%20%20%20%20%29.addTo%28feature_group_a032285a320245db8b8ffde065bf7bdd%29%3B%0A%20%20%20%20%20%20%20%20%0A%20%20%20%20%0A%20%20%20%20%20%20%20%20%20%20%20%20var%20icon_f356fa16a181484c9f594200e2ef4036%20%3D%20L.AwesomeMarkers.icon%28%0A%20%20%20%20%20%20%20%20%20%20%20%20%20%20%20%20%7B%22extraClasses%22%3A%20%22fa-rotate-0%22%2C%20%22icon%22%3A%20%22info-sign%22%2C%20%22iconColor%22%3A%20%22white%22%2C%20%22markerColor%22%3A%20%22blue%22%2C%20%22prefix%22%3A%20%22glyphicon%22%7D%0A%20%20%20%20%20%20%20%20%20%20%20%20%29%3B%0A%20%20%20%20%20%20%20%20%20%20%20%20marker_82418f0fc34449e392a9f3801d1f44c7.setIcon%28icon_f356fa16a181484c9f594200e2ef4036%29%3B%0A%20%20%20%20%20%20%20%20%0A%20%20%20%20%0A%20%20%20%20%20%20%20%20%20%20%20%20marker_82418f0fc34449e392a9f3801d1f44c7.bindTooltip%28%0A%20%20%20%20%20%20%20%20%20%20%20%20%20%20%20%20%60%3Cdiv%3E%0A%20%20%20%20%20%20%20%20%20%20%20%20%20%20%20%20%20%20%20%20%20UBS%208%20CEILANDIA%0A%20%20%20%20%20%20%20%20%20%20%20%20%20%20%20%20%20%3C/div%3E%60%2C%0A%20%20%20%20%20%20%20%20%20%20%20%20%20%20%20%20%7B%22sticky%22%3A%20true%7D%0A%20%20%20%20%20%20%20%20%20%20%20%20%29%3B%0A%20%20%20%20%20%20%20%20%0A%20%20%20%20%0A%20%20%20%20%20%20%20%20%20%20%20%20var%20marker_a50ee56197624b1bbcf4f2d295d99d3d%20%3D%20L.marker%28%0A%20%20%20%20%20%20%20%20%20%20%20%20%20%20%20%20%5B-15.7979843502953%2C%20-48.1220223926363%5D%2C%0A%20%20%20%20%20%20%20%20%20%20%20%20%20%20%20%20%7B%7D%0A%20%20%20%20%20%20%20%20%20%20%20%20%29.addTo%28feature_group_a032285a320245db8b8ffde065bf7bdd%29%3B%0A%20%20%20%20%20%20%20%20%0A%20%20%20%20%0A%20%20%20%20%20%20%20%20%20%20%20%20var%20icon_950f65a5d6c947dfadc8350c66025133%20%3D%20L.AwesomeMarkers.icon%28%0A%20%20%20%20%20%20%20%20%20%20%20%20%20%20%20%20%7B%22extraClasses%22%3A%20%22fa-rotate-0%22%2C%20%22icon%22%3A%20%22info-sign%22%2C%20%22iconColor%22%3A%20%22white%22%2C%20%22markerColor%22%3A%20%22blue%22%2C%20%22prefix%22%3A%20%22glyphicon%22%7D%0A%20%20%20%20%20%20%20%20%20%20%20%20%29%3B%0A%20%20%20%20%20%20%20%20%20%20%20%20marker_a50ee56197624b1bbcf4f2d295d99d3d.setIcon%28icon_950f65a5d6c947dfadc8350c66025133%29%3B%0A%20%20%20%20%20%20%20%20%0A%20%20%20%20%0A%20%20%20%20%20%20%20%20%20%20%20%20marker_a50ee56197624b1bbcf4f2d295d99d3d.bindTooltip%28%0A%20%20%20%20%20%20%20%20%20%20%20%20%20%20%20%20%60%3Cdiv%3E%0A%20%20%20%20%20%20%20%20%20%20%20%20%20%20%20%20%20%20%20%20%20UBS%207%20CEILANDIA%0A%20%20%20%20%20%20%20%20%20%20%20%20%20%20%20%20%20%3C/div%3E%60%2C%0A%20%20%20%20%20%20%20%20%20%20%20%20%20%20%20%20%7B%22sticky%22%3A%20true%7D%0A%20%20%20%20%20%20%20%20%20%20%20%20%29%3B%0A%20%20%20%20%20%20%20%20%0A%20%20%20%20%0A%20%20%20%20%20%20%20%20%20%20%20%20var%20marker_b6d6ba8afcdb43e88cf817a5d969dc02%20%3D%20L.marker%28%0A%20%20%20%20%20%20%20%20%20%20%20%20%20%20%20%20%5B-15.8076105488157%2C%20-48.1365653102838%5D%2C%0A%20%20%20%20%20%20%20%20%20%20%20%20%20%20%20%20%7B%7D%0A%20%20%20%20%20%20%20%20%20%20%20%20%29.addTo%28feature_group_a032285a320245db8b8ffde065bf7bdd%29%3B%0A%20%20%20%20%20%20%20%20%0A%20%20%20%20%0A%20%20%20%20%20%20%20%20%20%20%20%20var%20icon_d408477b6ef34aa8b63a492299eb0875%20%3D%20L.AwesomeMarkers.icon%28%0A%20%20%20%20%20%20%20%20%20%20%20%20%20%20%20%20%7B%22extraClasses%22%3A%20%22fa-rotate-0%22%2C%20%22icon%22%3A%20%22info-sign%22%2C%20%22iconColor%22%3A%20%22white%22%2C%20%22markerColor%22%3A%20%22blue%22%2C%20%22prefix%22%3A%20%22glyphicon%22%7D%0A%20%20%20%20%20%20%20%20%20%20%20%20%29%3B%0A%20%20%20%20%20%20%20%20%20%20%20%20marker_b6d6ba8afcdb43e88cf817a5d969dc02.setIcon%28icon_d408477b6ef34aa8b63a492299eb0875%29%3B%0A%20%20%20%20%20%20%20%20%0A%20%20%20%20%0A%20%20%20%20%20%20%20%20%20%20%20%20marker_b6d6ba8afcdb43e88cf817a5d969dc02.bindTooltip%28%0A%20%20%20%20%20%20%20%20%20%20%20%20%20%20%20%20%60%3Cdiv%3E%0A%20%20%20%20%20%20%20%20%20%20%20%20%20%20%20%20%20%20%20%20%20UBS%2012%20CEILANDIA%0A%20%20%20%20%20%20%20%20%20%20%20%20%20%20%20%20%20%3C/div%3E%60%2C%0A%20%20%20%20%20%20%20%20%20%20%20%20%20%20%20%20%7B%22sticky%22%3A%20true%7D%0A%20%20%20%20%20%20%20%20%20%20%20%20%29%3B%0A%20%20%20%20%20%20%20%20%0A%20%20%20%20%0A%20%20%20%20%20%20%20%20%20%20%20%20var%20marker_c71b1f850b734aefa3c1cce1658c1071%20%3D%20L.marker%28%0A%20%20%20%20%20%20%20%20%20%20%20%20%20%20%20%20%5B-15.8879881132217%2C%20-47.8953353336879%5D%2C%0A%20%20%20%20%20%20%20%20%20%20%20%20%20%20%20%20%7B%7D%0A%20%20%20%20%20%20%20%20%20%20%20%20%29.addTo%28feature_group_a032285a320245db8b8ffde065bf7bdd%29%3B%0A%20%20%20%20%20%20%20%20%0A%20%20%20%20%0A%20%20%20%20%20%20%20%20%20%20%20%20var%20icon_462c9b436a3e4c959c224296c3d9db88%20%3D%20L.AwesomeMarkers.icon%28%0A%20%20%20%20%20%20%20%20%20%20%20%20%20%20%20%20%7B%22extraClasses%22%3A%20%22fa-rotate-0%22%2C%20%22icon%22%3A%20%22info-sign%22%2C%20%22iconColor%22%3A%20%22white%22%2C%20%22markerColor%22%3A%20%22blue%22%2C%20%22prefix%22%3A%20%22glyphicon%22%7D%0A%20%20%20%20%20%20%20%20%20%20%20%20%29%3B%0A%20%20%20%20%20%20%20%20%20%20%20%20marker_c71b1f850b734aefa3c1cce1658c1071.setIcon%28icon_462c9b436a3e4c959c224296c3d9db88%29%3B%0A%20%20%20%20%20%20%20%20%0A%20%20%20%20%0A%20%20%20%20%20%20%20%20%20%20%20%20marker_c71b1f850b734aefa3c1cce1658c1071.bindTooltip%28%0A%20%20%20%20%20%20%20%20%20%20%20%20%20%20%20%20%60%3Cdiv%3E%0A%20%20%20%20%20%20%20%20%20%20%20%20%20%20%20%20%20%20%20%20%20UBS%2007%20SAMAMBAIA%0A%20%20%20%20%20%20%20%20%20%20%20%20%20%20%20%20%20%3C/div%3E%60%2C%0A%20%20%20%20%20%20%20%20%20%20%20%20%20%20%20%20%7B%22sticky%22%3A%20true%7D%0A%20%20%20%20%20%20%20%20%20%20%20%20%29%3B%0A%20%20%20%20%20%20%20%20%0A%20%20%20%20%0A%20%20%20%20%20%20%20%20%20%20%20%20var%20marker_d6448497de244081876196649bc56c28%20%3D%20L.marker%28%0A%20%20%20%20%20%20%20%20%20%20%20%20%20%20%20%20%5B-15.8712230607784%2C%20-48.0658064687718%5D%2C%0A%20%20%20%20%20%20%20%20%20%20%20%20%20%20%20%20%7B%7D%0A%20%20%20%20%20%20%20%20%20%20%20%20%29.addTo%28feature_group_a032285a320245db8b8ffde065bf7bdd%29%3B%0A%20%20%20%20%20%20%20%20%0A%20%20%20%20%0A%20%20%20%20%20%20%20%20%20%20%20%20var%20icon_dea488822bde4dfdb4992fcfa393d336%20%3D%20L.AwesomeMarkers.icon%28%0A%20%20%20%20%20%20%20%20%20%20%20%20%20%20%20%20%7B%22extraClasses%22%3A%20%22fa-rotate-0%22%2C%20%22icon%22%3A%20%22info-sign%22%2C%20%22iconColor%22%3A%20%22white%22%2C%20%22markerColor%22%3A%20%22blue%22%2C%20%22prefix%22%3A%20%22glyphicon%22%7D%0A%20%20%20%20%20%20%20%20%20%20%20%20%29%3B%0A%20%20%20%20%20%20%20%20%20%20%20%20marker_d6448497de244081876196649bc56c28.setIcon%28icon_dea488822bde4dfdb4992fcfa393d336%29%3B%0A%20%20%20%20%20%20%20%20%0A%20%20%20%20%0A%20%20%20%20%20%20%20%20%20%20%20%20marker_d6448497de244081876196649bc56c28.bindTooltip%28%0A%20%20%20%20%20%20%20%20%20%20%20%20%20%20%20%20%60%3Cdiv%3E%0A%20%20%20%20%20%20%20%20%20%20%20%20%20%20%20%20%20%20%20%20%20UBS%2012%20SAMAMBAIA%0A%20%20%20%20%20%20%20%20%20%20%20%20%20%20%20%20%20%3C/div%3E%60%2C%0A%20%20%20%20%20%20%20%20%20%20%20%20%20%20%20%20%7B%22sticky%22%3A%20true%7D%0A%20%20%20%20%20%20%20%20%20%20%20%20%29%3B%0A%20%20%20%20%20%20%20%20%0A%20%20%20%20%0A%20%20%20%20%20%20%20%20%20%20%20%20var%20marker_1ce5897c0db1424d9b2b68fa9aa36045%20%3D%20L.marker%28%0A%20%20%20%20%20%20%20%20%20%20%20%20%20%20%20%20%5B-16.0233671138813%2C%20-48.1355267314168%5D%2C%0A%20%20%20%20%20%20%20%20%20%20%20%20%20%20%20%20%7B%7D%0A%20%20%20%20%20%20%20%20%20%20%20%20%29.addTo%28feature_group_a032285a320245db8b8ffde065bf7bdd%29%3B%0A%20%20%20%20%20%20%20%20%0A%20%20%20%20%0A%20%20%20%20%20%20%20%20%20%20%20%20var%20icon_cdae6bd821f74824a055641a0a5496c1%20%3D%20L.AwesomeMarkers.icon%28%0A%20%20%20%20%20%20%20%20%20%20%20%20%20%20%20%20%7B%22extraClasses%22%3A%20%22fa-rotate-0%22%2C%20%22icon%22%3A%20%22info-sign%22%2C%20%22iconColor%22%3A%20%22white%22%2C%20%22markerColor%22%3A%20%22blue%22%2C%20%22prefix%22%3A%20%22glyphicon%22%7D%0A%20%20%20%20%20%20%20%20%20%20%20%20%29%3B%0A%20%20%20%20%20%20%20%20%20%20%20%20marker_1ce5897c0db1424d9b2b68fa9aa36045.setIcon%28icon_cdae6bd821f74824a055641a0a5496c1%29%3B%0A%20%20%20%20%20%20%20%20%0A%20%20%20%20%0A%20%20%20%20%20%20%20%20%20%20%20%20marker_1ce5897c0db1424d9b2b68fa9aa36045.bindTooltip%28%0A%20%20%20%20%20%20%20%20%20%20%20%20%20%20%20%20%60%3Cdiv%3E%0A%20%20%20%20%20%20%20%20%20%20%20%20%20%20%20%20%20%20%20%20%20UBS%2005%20SAMAMBAIA%0A%20%20%20%20%20%20%20%20%20%20%20%20%20%20%20%20%20%3C/div%3E%60%2C%0A%20%20%20%20%20%20%20%20%20%20%20%20%20%20%20%20%7B%22sticky%22%3A%20true%7D%0A%20%20%20%20%20%20%20%20%20%20%20%20%29%3B%0A%20%20%20%20%20%20%20%20%0A%20%20%20%20%0A%20%20%20%20%20%20%20%20%20%20%20%20var%20marker_87631b48eade4d569bb48d1c9ab6f637%20%3D%20L.marker%28%0A%20%20%20%20%20%20%20%20%20%20%20%20%20%20%20%20%5B-15.8566773145095%2C%20-48.0813673475514%5D%2C%0A%20%20%20%20%20%20%20%20%20%20%20%20%20%20%20%20%7B%7D%0A%20%20%20%20%20%20%20%20%20%20%20%20%29.addTo%28feature_group_a032285a320245db8b8ffde065bf7bdd%29%3B%0A%20%20%20%20%20%20%20%20%0A%20%20%20%20%0A%20%20%20%20%20%20%20%20%20%20%20%20var%20icon_3d4d592bb3364a6e9215c3fee5ef85b4%20%3D%20L.AwesomeMarkers.icon%28%0A%20%20%20%20%20%20%20%20%20%20%20%20%20%20%20%20%7B%22extraClasses%22%3A%20%22fa-rotate-0%22%2C%20%22icon%22%3A%20%22info-sign%22%2C%20%22iconColor%22%3A%20%22white%22%2C%20%22markerColor%22%3A%20%22blue%22%2C%20%22prefix%22%3A%20%22glyphicon%22%7D%0A%20%20%20%20%20%20%20%20%20%20%20%20%29%3B%0A%20%20%20%20%20%20%20%20%20%20%20%20marker_87631b48eade4d569bb48d1c9ab6f637.setIcon%28icon_3d4d592bb3364a6e9215c3fee5ef85b4%29%3B%0A%20%20%20%20%20%20%20%20%0A%20%20%20%20%0A%20%20%20%20%20%20%20%20%20%20%20%20marker_87631b48eade4d569bb48d1c9ab6f637.bindTooltip%28%0A%20%20%20%20%20%20%20%20%20%20%20%20%20%20%20%20%60%3Cdiv%3E%0A%20%20%20%20%20%20%20%20%20%20%20%20%20%20%20%20%20%20%20%20%20HRSAM%20HOSPITAL%20REGIONAL%20DE%20SAMAMBAIA%0A%20%20%20%20%20%20%20%20%20%20%20%20%20%20%20%20%20%3C/div%3E%60%2C%0A%20%20%20%20%20%20%20%20%20%20%20%20%20%20%20%20%7B%22sticky%22%3A%20true%7D%0A%20%20%20%20%20%20%20%20%20%20%20%20%29%3B%0A%20%20%20%20%20%20%20%20%0A%20%20%20%20%0A%20%20%20%20%20%20%20%20%20%20%20%20var%20marker_efbc0589a6f54dfb9cc067d1e8bd326e%20%3D%20L.marker%28%0A%20%20%20%20%20%20%20%20%20%20%20%20%20%20%20%20%5B-15.8694421987739%2C%20-48.1026852285262%5D%2C%0A%20%20%20%20%20%20%20%20%20%20%20%20%20%20%20%20%7B%7D%0A%20%20%20%20%20%20%20%20%20%20%20%20%29.addTo%28feature_group_a032285a320245db8b8ffde065bf7bdd%29%3B%0A%20%20%20%20%20%20%20%20%0A%20%20%20%20%0A%20%20%20%20%20%20%20%20%20%20%20%20var%20icon_675bef66d4e3467da2beaa7d13c5316d%20%3D%20L.AwesomeMarkers.icon%28%0A%20%20%20%20%20%20%20%20%20%20%20%20%20%20%20%20%7B%22extraClasses%22%3A%20%22fa-rotate-0%22%2C%20%22icon%22%3A%20%22info-sign%22%2C%20%22iconColor%22%3A%20%22white%22%2C%20%22markerColor%22%3A%20%22blue%22%2C%20%22prefix%22%3A%20%22glyphicon%22%7D%0A%20%20%20%20%20%20%20%20%20%20%20%20%29%3B%0A%20%20%20%20%20%20%20%20%20%20%20%20marker_efbc0589a6f54dfb9cc067d1e8bd326e.setIcon%28icon_675bef66d4e3467da2beaa7d13c5316d%29%3B%0A%20%20%20%20%20%20%20%20%0A%20%20%20%20%0A%20%20%20%20%20%20%20%20%20%20%20%20marker_efbc0589a6f54dfb9cc067d1e8bd326e.bindTooltip%28%0A%20%20%20%20%20%20%20%20%20%20%20%20%20%20%20%20%60%3Cdiv%3E%0A%20%20%20%20%20%20%20%20%20%20%20%20%20%20%20%20%20%20%20%20%20UBS%2002%20SAMAMBAIA%0A%20%20%20%20%20%20%20%20%20%20%20%20%20%20%20%20%20%3C/div%3E%60%2C%0A%20%20%20%20%20%20%20%20%20%20%20%20%20%20%20%20%7B%22sticky%22%3A%20true%7D%0A%20%20%20%20%20%20%20%20%20%20%20%20%29%3B%0A%20%20%20%20%20%20%20%20%0A%20%20%20%20%0A%20%20%20%20%20%20%20%20%20%20%20%20var%20marker_fbeb9c65761b4df3aea57c628705f765%20%3D%20L.marker%28%0A%20%20%20%20%20%20%20%20%20%20%20%20%20%20%20%20%5B-15.8538878264251%2C%20-47.9684670201054%5D%2C%0A%20%20%20%20%20%20%20%20%20%20%20%20%20%20%20%20%7B%7D%0A%20%20%20%20%20%20%20%20%20%20%20%20%29.addTo%28feature_group_a032285a320245db8b8ffde065bf7bdd%29%3B%0A%20%20%20%20%20%20%20%20%0A%20%20%20%20%0A%20%20%20%20%20%20%20%20%20%20%20%20var%20icon_f202204be76c439e990b3b8db99391f1%20%3D%20L.AwesomeMarkers.icon%28%0A%20%20%20%20%20%20%20%20%20%20%20%20%20%20%20%20%7B%22extraClasses%22%3A%20%22fa-rotate-0%22%2C%20%22icon%22%3A%20%22info-sign%22%2C%20%22iconColor%22%3A%20%22white%22%2C%20%22markerColor%22%3A%20%22blue%22%2C%20%22prefix%22%3A%20%22glyphicon%22%7D%0A%20%20%20%20%20%20%20%20%20%20%20%20%29%3B%0A%20%20%20%20%20%20%20%20%20%20%20%20marker_fbeb9c65761b4df3aea57c628705f765.setIcon%28icon_f202204be76c439e990b3b8db99391f1%29%3B%0A%20%20%20%20%20%20%20%20%0A%20%20%20%20%0A%20%20%20%20%20%20%20%20%20%20%20%20marker_fbeb9c65761b4df3aea57c628705f765.bindTooltip%28%0A%20%20%20%20%20%20%20%20%20%20%20%20%20%20%20%20%60%3Cdiv%3E%0A%20%20%20%20%20%20%20%20%20%20%20%20%20%20%20%20%20%20%20%20%20HRG%0A%20%20%20%20%20%20%20%20%20%20%20%20%20%20%20%20%20%3C/div%3E%60%2C%0A%20%20%20%20%20%20%20%20%20%20%20%20%20%20%20%20%7B%22sticky%22%3A%20true%7D%0A%20%20%20%20%20%20%20%20%20%20%20%20%29%3B%0A%20%20%20%20%20%20%20%20%0A%20%20%20%20%0A%20%20%20%20%20%20%20%20%20%20%20%20var%20marker_538a09f90c6041999a95614d7bc88b59%20%3D%20L.marker%28%0A%20%20%20%20%20%20%20%20%20%20%20%20%20%20%20%20%5B-15.8538878264251%2C%20-47.9684670201054%5D%2C%0A%20%20%20%20%20%20%20%20%20%20%20%20%20%20%20%20%7B%7D%0A%20%20%20%20%20%20%20%20%20%20%20%20%29.addTo%28feature_group_a032285a320245db8b8ffde065bf7bdd%29%3B%0A%20%20%20%20%20%20%20%20%0A%20%20%20%20%0A%20%20%20%20%20%20%20%20%20%20%20%20var%20icon_f43b03488c0f49cca430fbd14d3a296d%20%3D%20L.AwesomeMarkers.icon%28%0A%20%20%20%20%20%20%20%20%20%20%20%20%20%20%20%20%7B%22extraClasses%22%3A%20%22fa-rotate-0%22%2C%20%22icon%22%3A%20%22info-sign%22%2C%20%22iconColor%22%3A%20%22white%22%2C%20%22markerColor%22%3A%20%22blue%22%2C%20%22prefix%22%3A%20%22glyphicon%22%7D%0A%20%20%20%20%20%20%20%20%20%20%20%20%29%3B%0A%20%20%20%20%20%20%20%20%20%20%20%20marker_538a09f90c6041999a95614d7bc88b59.setIcon%28icon_f43b03488c0f49cca430fbd14d3a296d%29%3B%0A%20%20%20%20%20%20%20%20%0A%20%20%20%20%0A%20%20%20%20%20%20%20%20%20%20%20%20marker_538a09f90c6041999a95614d7bc88b59.bindTooltip%28%0A%20%20%20%20%20%20%20%20%20%20%20%20%20%20%20%20%60%3Cdiv%3E%0A%20%20%20%20%20%20%20%20%20%20%20%20%20%20%20%20%20%20%20%20%20UBS%205%20GAMA%0A%20%20%20%20%20%20%20%20%20%20%20%20%20%20%20%20%20%3C/div%3E%60%2C%0A%20%20%20%20%20%20%20%20%20%20%20%20%20%20%20%20%7B%22sticky%22%3A%20true%7D%0A%20%20%20%20%20%20%20%20%20%20%20%20%29%3B%0A%20%20%20%20%20%20%20%20%0A%20%20%20%20%0A%20%20%20%20%20%20%20%20%20%20%20%20var%20marker_fc3b83d3608b41e3a3d6ad15108251c1%20%3D%20L.marker%28%0A%20%20%20%20%20%20%20%20%20%20%20%20%20%20%20%20%5B-15.8072702544076%2C%20-47.9123578009667%5D%2C%0A%20%20%20%20%20%20%20%20%20%20%20%20%20%20%20%20%7B%7D%0A%20%20%20%20%20%20%20%20%20%20%20%20%29.addTo%28feature_group_a032285a320245db8b8ffde065bf7bdd%29%3B%0A%20%20%20%20%20%20%20%20%0A%20%20%20%20%0A%20%20%20%20%20%20%20%20%20%20%20%20var%20icon_9be2518c9624447dae5a6f1c5205fbe1%20%3D%20L.AwesomeMarkers.icon%28%0A%20%20%20%20%20%20%20%20%20%20%20%20%20%20%20%20%7B%22extraClasses%22%3A%20%22fa-rotate-0%22%2C%20%22icon%22%3A%20%22info-sign%22%2C%20%22iconColor%22%3A%20%22white%22%2C%20%22markerColor%22%3A%20%22blue%22%2C%20%22prefix%22%3A%20%22glyphicon%22%7D%0A%20%20%20%20%20%20%20%20%20%20%20%20%29%3B%0A%20%20%20%20%20%20%20%20%20%20%20%20marker_fc3b83d3608b41e3a3d6ad15108251c1.setIcon%28icon_9be2518c9624447dae5a6f1c5205fbe1%29%3B%0A%20%20%20%20%20%20%20%20%0A%20%20%20%20%0A%20%20%20%20%20%20%20%20%20%20%20%20marker_fc3b83d3608b41e3a3d6ad15108251c1.bindTooltip%28%0A%20%20%20%20%20%20%20%20%20%20%20%20%20%20%20%20%60%3Cdiv%3E%0A%20%20%20%20%20%20%20%20%20%20%20%20%20%20%20%20%20%20%20%20%20UBS%202%20GAMA%0A%20%20%20%20%20%20%20%20%20%20%20%20%20%20%20%20%20%3C/div%3E%60%2C%0A%20%20%20%20%20%20%20%20%20%20%20%20%20%20%20%20%7B%22sticky%22%3A%20true%7D%0A%20%20%20%20%20%20%20%20%20%20%20%20%29%3B%0A%20%20%20%20%20%20%20%20%0A%20%20%20%20%0A%20%20%20%20%20%20%20%20%20%20%20%20var%20marker_ecb3cb7250124afdbd6478755404b91a%20%3D%20L.marker%28%0A%20%20%20%20%20%20%20%20%20%20%20%20%20%20%20%20%5B-15.7694339587771%2C%20-47.938237946609%5D%2C%0A%20%20%20%20%20%20%20%20%20%20%20%20%20%20%20%20%7B%7D%0A%20%20%20%20%20%20%20%20%20%20%20%20%29.addTo%28feature_group_a032285a320245db8b8ffde065bf7bdd%29%3B%0A%20%20%20%20%20%20%20%20%0A%20%20%20%20%0A%20%20%20%20%20%20%20%20%20%20%20%20var%20icon_c589fa334d4f4e09aa3cfc4ac6e135ba%20%3D%20L.AwesomeMarkers.icon%28%0A%20%20%20%20%20%20%20%20%20%20%20%20%20%20%20%20%7B%22extraClasses%22%3A%20%22fa-rotate-0%22%2C%20%22icon%22%3A%20%22info-sign%22%2C%20%22iconColor%22%3A%20%22white%22%2C%20%22markerColor%22%3A%20%22blue%22%2C%20%22prefix%22%3A%20%22glyphicon%22%7D%0A%20%20%20%20%20%20%20%20%20%20%20%20%29%3B%0A%20%20%20%20%20%20%20%20%20%20%20%20marker_ecb3cb7250124afdbd6478755404b91a.setIcon%28icon_c589fa334d4f4e09aa3cfc4ac6e135ba%29%3B%0A%20%20%20%20%20%20%20%20%0A%20%20%20%20%0A%20%20%20%20%20%20%20%20%20%20%20%20marker_ecb3cb7250124afdbd6478755404b91a.bindTooltip%28%0A%20%20%20%20%20%20%20%20%20%20%20%20%20%20%20%20%60%3Cdiv%3E%0A%20%20%20%20%20%20%20%20%20%20%20%20%20%20%20%20%20%20%20%20%20UBS%201%20GAMA%0A%20%20%20%20%20%20%20%20%20%20%20%20%20%20%20%20%20%3C/div%3E%60%2C%0A%20%20%20%20%20%20%20%20%20%20%20%20%20%20%20%20%7B%22sticky%22%3A%20true%7D%0A%20%20%20%20%20%20%20%20%20%20%20%20%29%3B%0A%20%20%20%20%20%20%20%20%0A%20%20%20%20%0A%20%20%20%20%20%20%20%20%20%20%20%20var%20marker_29ff25fcd6b649b99cf3a07881137ab0%20%3D%20L.marker%28%0A%20%20%20%20%20%20%20%20%20%20%20%20%20%20%20%20%5B-15.8986806436019%2C%20-47.9859056761771%5D%2C%0A%20%20%20%20%20%20%20%20%20%20%20%20%20%20%20%20%7B%7D%0A%20%20%20%20%20%20%20%20%20%20%20%20%29.addTo%28feature_group_a032285a320245db8b8ffde065bf7bdd%29%3B%0A%20%20%20%20%20%20%20%20%0A%20%20%20%20%0A%20%20%20%20%20%20%20%20%20%20%20%20var%20icon_24ff9a6451a8427480aa7bbe25fd053c%20%3D%20L.AwesomeMarkers.icon%28%0A%20%20%20%20%20%20%20%20%20%20%20%20%20%20%20%20%7B%22extraClasses%22%3A%20%22fa-rotate-0%22%2C%20%22icon%22%3A%20%22info-sign%22%2C%20%22iconColor%22%3A%20%22white%22%2C%20%22markerColor%22%3A%20%22blue%22%2C%20%22prefix%22%3A%20%22glyphicon%22%7D%0A%20%20%20%20%20%20%20%20%20%20%20%20%29%3B%0A%20%20%20%20%20%20%20%20%20%20%20%20marker_29ff25fcd6b649b99cf3a07881137ab0.setIcon%28icon_24ff9a6451a8427480aa7bbe25fd053c%29%3B%0A%20%20%20%20%20%20%20%20%0A%20%20%20%20%0A%20%20%20%20%20%20%20%20%20%20%20%20marker_29ff25fcd6b649b99cf3a07881137ab0.bindTooltip%28%0A%20%20%20%20%20%20%20%20%20%20%20%20%20%20%20%20%60%3Cdiv%3E%0A%20%20%20%20%20%20%20%20%20%20%20%20%20%20%20%20%20%20%20%20%20UBS%2015%20PFDF%20GAMA%0A%20%20%20%20%20%20%20%20%20%20%20%20%20%20%20%20%20%3C/div%3E%60%2C%0A%20%20%20%20%20%20%20%20%20%20%20%20%20%20%20%20%7B%22sticky%22%3A%20true%7D%0A%20%20%20%20%20%20%20%20%20%20%20%20%29%3B%0A%20%20%20%20%20%20%20%20%0A%20%20%20%20%0A%20%20%20%20%20%20%20%20%20%20%20%20var%20marker_add6ae0949da4726b24d574a0d063073%20%3D%20L.marker%28%0A%20%20%20%20%20%20%20%20%20%20%20%20%20%20%20%20%5B-15.8848721727412%2C%20-47.9956556279609%5D%2C%0A%20%20%20%20%20%20%20%20%20%20%20%20%20%20%20%20%7B%7D%0A%20%20%20%20%20%20%20%20%20%20%20%20%29.addTo%28feature_group_a032285a320245db8b8ffde065bf7bdd%29%3B%0A%20%20%20%20%20%20%20%20%0A%20%20%20%20%0A%20%20%20%20%20%20%20%20%20%20%20%20var%20icon_7cde74cd9a414fd8b36750d86beee4db%20%3D%20L.AwesomeMarkers.icon%28%0A%20%20%20%20%20%20%20%20%20%20%20%20%20%20%20%20%7B%22extraClasses%22%3A%20%22fa-rotate-0%22%2C%20%22icon%22%3A%20%22info-sign%22%2C%20%22iconColor%22%3A%20%22white%22%2C%20%22markerColor%22%3A%20%22blue%22%2C%20%22prefix%22%3A%20%22glyphicon%22%7D%0A%20%20%20%20%20%20%20%20%20%20%20%20%29%3B%0A%20%20%20%20%20%20%20%20%20%20%20%20marker_add6ae0949da4726b24d574a0d063073.setIcon%28icon_7cde74cd9a414fd8b36750d86beee4db%29%3B%0A%20%20%20%20%20%20%20%20%0A%20%20%20%20%0A%20%20%20%20%20%20%20%20%20%20%20%20marker_add6ae0949da4726b24d574a0d063073.bindTooltip%28%0A%20%20%20%20%20%20%20%20%20%20%20%20%20%20%20%20%60%3Cdiv%3E%0A%20%20%20%20%20%20%20%20%20%20%20%20%20%20%20%20%20%20%20%20%20UBS%209%20ENGENHO%20DAS%20LAGES%20GAMA%0A%20%20%20%20%20%20%20%20%20%20%20%20%20%20%20%20%20%3C/div%3E%60%2C%0A%20%20%20%20%20%20%20%20%20%20%20%20%20%20%20%20%7B%22sticky%22%3A%20true%7D%0A%20%20%20%20%20%20%20%20%20%20%20%20%29%3B%0A%20%20%20%20%20%20%20%20%0A%20%20%20%20%0A%20%20%20%20%20%20%20%20%20%20%20%20var%20marker_3c7ed5ea6fd745ffa62f7fbf91522726%20%3D%20L.marker%28%0A%20%20%20%20%20%20%20%20%20%20%20%20%20%20%20%20%5B-15.90589777199%2C%20-48.0143166103879%5D%2C%0A%20%20%20%20%20%20%20%20%20%20%20%20%20%20%20%20%7B%7D%0A%20%20%20%20%20%20%20%20%20%20%20%20%29.addTo%28feature_group_a032285a320245db8b8ffde065bf7bdd%29%3B%0A%20%20%20%20%20%20%20%20%0A%20%20%20%20%0A%20%20%20%20%20%20%20%20%20%20%20%20var%20icon_cd5fd764691e4d96bd60d4d2f02a8afb%20%3D%20L.AwesomeMarkers.icon%28%0A%20%20%20%20%20%20%20%20%20%20%20%20%20%20%20%20%7B%22extraClasses%22%3A%20%22fa-rotate-0%22%2C%20%22icon%22%3A%20%22info-sign%22%2C%20%22iconColor%22%3A%20%22white%22%2C%20%22markerColor%22%3A%20%22blue%22%2C%20%22prefix%22%3A%20%22glyphicon%22%7D%0A%20%20%20%20%20%20%20%20%20%20%20%20%29%3B%0A%20%20%20%20%20%20%20%20%20%20%20%20marker_3c7ed5ea6fd745ffa62f7fbf91522726.setIcon%28icon_cd5fd764691e4d96bd60d4d2f02a8afb%29%3B%0A%20%20%20%20%20%20%20%20%0A%20%20%20%20%0A%20%20%20%20%20%20%20%20%20%20%20%20marker_3c7ed5ea6fd745ffa62f7fbf91522726.bindTooltip%28%0A%20%20%20%20%20%20%20%20%20%20%20%20%20%20%20%20%60%3Cdiv%3E%0A%20%20%20%20%20%20%20%20%20%20%20%20%20%20%20%20%20%20%20%20%20UBS%2016%20ATP%20GAMA%0A%20%20%20%20%20%20%20%20%20%20%20%20%20%20%20%20%20%3C/div%3E%60%2C%0A%20%20%20%20%20%20%20%20%20%20%20%20%20%20%20%20%7B%22sticky%22%3A%20true%7D%0A%20%20%20%20%20%20%20%20%20%20%20%20%29%3B%0A%20%20%20%20%20%20%20%20%0A%20%20%20%20%0A%20%20%20%20%20%20%20%20%20%20%20%20var%20marker_c183716809bb48f2a7feedfabf98ff71%20%3D%20L.marker%28%0A%20%20%20%20%20%20%20%20%20%20%20%20%20%20%20%20%5B-15.8655628497784%2C%20-47.9700913649339%5D%2C%0A%20%20%20%20%20%20%20%20%20%20%20%20%20%20%20%20%7B%7D%0A%20%20%20%20%20%20%20%20%20%20%20%20%29.addTo%28feature_group_a032285a320245db8b8ffde065bf7bdd%29%3B%0A%20%20%20%20%20%20%20%20%0A%20%20%20%20%0A%20%20%20%20%20%20%20%20%20%20%20%20var%20icon_b379299967fc4a3e9ecf9af1d6ce684d%20%3D%20L.AwesomeMarkers.icon%28%0A%20%20%20%20%20%20%20%20%20%20%20%20%20%20%20%20%7B%22extraClasses%22%3A%20%22fa-rotate-0%22%2C%20%22icon%22%3A%20%22info-sign%22%2C%20%22iconColor%22%3A%20%22white%22%2C%20%22markerColor%22%3A%20%22blue%22%2C%20%22prefix%22%3A%20%22glyphicon%22%7D%0A%20%20%20%20%20%20%20%20%20%20%20%20%29%3B%0A%20%20%20%20%20%20%20%20%20%20%20%20marker_c183716809bb48f2a7feedfabf98ff71.setIcon%28icon_b379299967fc4a3e9ecf9af1d6ce684d%29%3B%0A%20%20%20%20%20%20%20%20%0A%20%20%20%20%0A%20%20%20%20%20%20%20%20%20%20%20%20marker_c183716809bb48f2a7feedfabf98ff71.bindTooltip%28%0A%20%20%20%20%20%20%20%20%20%20%20%20%20%20%20%20%60%3Cdiv%3E%0A%20%20%20%20%20%20%20%20%20%20%20%20%20%20%20%20%20%20%20%20%20UBS%2010%20SANTA%20MARIA%0A%20%20%20%20%20%20%20%20%20%20%20%20%20%20%20%20%20%3C/div%3E%60%2C%0A%20%20%20%20%20%20%20%20%20%20%20%20%20%20%20%20%7B%22sticky%22%3A%20true%7D%0A%20%20%20%20%20%20%20%20%20%20%20%20%29%3B%0A%20%20%20%20%20%20%20%20%0A%20%20%20%20%0A%20%20%20%20%20%20%20%20%20%20%20%20var%20marker_6c960723716549f3a28ea9fe24a00786%20%3D%20L.marker%28%0A%20%20%20%20%20%20%20%20%20%20%20%20%20%20%20%20%5B-15.9494741439819%2C%20-48.0757987976074%5D%2C%0A%20%20%20%20%20%20%20%20%20%20%20%20%20%20%20%20%7B%7D%0A%20%20%20%20%20%20%20%20%20%20%20%20%29.addTo%28feature_group_a032285a320245db8b8ffde065bf7bdd%29%3B%0A%20%20%20%20%20%20%20%20%0A%20%20%20%20%0A%20%20%20%20%20%20%20%20%20%20%20%20var%20icon_7b46788d3683475d9e51bfc8b9dee4d5%20%3D%20L.AwesomeMarkers.icon%28%0A%20%20%20%20%20%20%20%20%20%20%20%20%20%20%20%20%7B%22extraClasses%22%3A%20%22fa-rotate-0%22%2C%20%22icon%22%3A%20%22info-sign%22%2C%20%22iconColor%22%3A%20%22white%22%2C%20%22markerColor%22%3A%20%22blue%22%2C%20%22prefix%22%3A%20%22glyphicon%22%7D%0A%20%20%20%20%20%20%20%20%20%20%20%20%29%3B%0A%20%20%20%20%20%20%20%20%20%20%20%20marker_6c960723716549f3a28ea9fe24a00786.setIcon%28icon_7b46788d3683475d9e51bfc8b9dee4d5%29%3B%0A%20%20%20%20%20%20%20%20%0A%20%20%20%20%0A%20%20%20%20%20%20%20%20%20%20%20%20marker_6c960723716549f3a28ea9fe24a00786.bindTooltip%28%0A%20%20%20%20%20%20%20%20%20%20%20%20%20%20%20%20%60%3Cdiv%3E%0A%20%20%20%20%20%20%20%20%20%20%20%20%20%20%20%20%20%20%20%20%20UBS%2012%20PONTE%20ALTA%20GAMA%0A%20%20%20%20%20%20%20%20%20%20%20%20%20%20%20%20%20%3C/div%3E%60%2C%0A%20%20%20%20%20%20%20%20%20%20%20%20%20%20%20%20%7B%22sticky%22%3A%20true%7D%0A%20%20%20%20%20%20%20%20%20%20%20%20%29%3B%0A%20%20%20%20%20%20%20%20%0A%20%20%20%20%0A%20%20%20%20%20%20%20%20%20%20%20%20var%20marker_be9160c8854d40008ad78562884712bc%20%3D%20L.marker%28%0A%20%20%20%20%20%20%20%20%20%20%20%20%20%20%20%20%5B-15.9494741439819%2C%20-48.0757987976074%5D%2C%0A%20%20%20%20%20%20%20%20%20%20%20%20%20%20%20%20%7B%7D%0A%20%20%20%20%20%20%20%20%20%20%20%20%29.addTo%28feature_group_a032285a320245db8b8ffde065bf7bdd%29%3B%0A%20%20%20%20%20%20%20%20%0A%20%20%20%20%0A%20%20%20%20%20%20%20%20%20%20%20%20var%20icon_fc96a17d89ad4d0a926df970c6a69f51%20%3D%20L.AwesomeMarkers.icon%28%0A%20%20%20%20%20%20%20%20%20%20%20%20%20%20%20%20%7B%22extraClasses%22%3A%20%22fa-rotate-0%22%2C%20%22icon%22%3A%20%22info-sign%22%2C%20%22iconColor%22%3A%20%22white%22%2C%20%22markerColor%22%3A%20%22blue%22%2C%20%22prefix%22%3A%20%22glyphicon%22%7D%0A%20%20%20%20%20%20%20%20%20%20%20%20%29%3B%0A%20%20%20%20%20%20%20%20%20%20%20%20marker_be9160c8854d40008ad78562884712bc.setIcon%28icon_fc96a17d89ad4d0a926df970c6a69f51%29%3B%0A%20%20%20%20%20%20%20%20%0A%20%20%20%20%0A%20%20%20%20%20%20%20%20%20%20%20%20marker_be9160c8854d40008ad78562884712bc.bindTooltip%28%0A%20%20%20%20%20%20%20%20%20%20%20%20%20%20%20%20%60%3Cdiv%3E%0A%20%20%20%20%20%20%20%20%20%20%20%20%20%20%20%20%20%20%20%20%20UBS%203%20GAMA%0A%20%20%20%20%20%20%20%20%20%20%20%20%20%20%20%20%20%3C/div%3E%60%2C%0A%20%20%20%20%20%20%20%20%20%20%20%20%20%20%20%20%7B%22sticky%22%3A%20true%7D%0A%20%20%20%20%20%20%20%20%20%20%20%20%29%3B%0A%20%20%20%20%20%20%20%20%0A%20%20%20%20%0A%20%20%20%20%20%20%20%20%20%20%20%20var%20marker_f9ccbc507de04b308cc9f34cb65bc54a%20%3D%20L.marker%28%0A%20%20%20%20%20%20%20%20%20%20%20%20%20%20%20%20%5B-15.9011202505079%2C%20-47.9449104050458%5D%2C%0A%20%20%20%20%20%20%20%20%20%20%20%20%20%20%20%20%7B%7D%0A%20%20%20%20%20%20%20%20%20%20%20%20%29.addTo%28feature_group_a032285a320245db8b8ffde065bf7bdd%29%3B%0A%20%20%20%20%20%20%20%20%0A%20%20%20%20%0A%20%20%20%20%20%20%20%20%20%20%20%20var%20icon_a14c9e6a85174fe292ba12dde40ac468%20%3D%20L.AwesomeMarkers.icon%28%0A%20%20%20%20%20%20%20%20%20%20%20%20%20%20%20%20%7B%22extraClasses%22%3A%20%22fa-rotate-0%22%2C%20%22icon%22%3A%20%22info-sign%22%2C%20%22iconColor%22%3A%20%22white%22%2C%20%22markerColor%22%3A%20%22blue%22%2C%20%22prefix%22%3A%20%22glyphicon%22%7D%0A%20%20%20%20%20%20%20%20%20%20%20%20%29%3B%0A%20%20%20%20%20%20%20%20%20%20%20%20marker_f9ccbc507de04b308cc9f34cb65bc54a.setIcon%28icon_a14c9e6a85174fe292ba12dde40ac468%29%3B%0A%20%20%20%20%20%20%20%20%0A%20%20%20%20%0A%20%20%20%20%20%20%20%20%20%20%20%20marker_f9ccbc507de04b308cc9f34cb65bc54a.bindTooltip%28%0A%20%20%20%20%20%20%20%20%20%20%20%20%20%20%20%20%60%3Cdiv%3E%0A%20%20%20%20%20%20%20%20%20%20%20%20%20%20%20%20%20%20%20%20%20UBS%204%20GAMA%0A%20%20%20%20%20%20%20%20%20%20%20%20%20%20%20%20%20%3C/div%3E%60%2C%0A%20%20%20%20%20%20%20%20%20%20%20%20%20%20%20%20%7B%22sticky%22%3A%20true%7D%0A%20%20%20%20%20%20%20%20%20%20%20%20%29%3B%0A%20%20%20%20%20%20%20%20%0A%20%20%20%20%0A%20%20%20%20%20%20%20%20%20%20%20%20var%20marker_42ac0021ca2547c2ae803d6f4ae477f0%20%3D%20L.marker%28%0A%20%20%20%20%20%20%20%20%20%20%20%20%20%20%20%20%5B-15.9147396087646%2C%20-47.9784652709961%5D%2C%0A%20%20%20%20%20%20%20%20%20%20%20%20%20%20%20%20%7B%7D%0A%20%20%20%20%20%20%20%20%20%20%20%20%29.addTo%28feature_group_a032285a320245db8b8ffde065bf7bdd%29%3B%0A%20%20%20%20%20%20%20%20%0A%20%20%20%20%0A%20%20%20%20%20%20%20%20%20%20%20%20var%20icon_b54a155e10a84f95960e4e14ea1653c6%20%3D%20L.AwesomeMarkers.icon%28%0A%20%20%20%20%20%20%20%20%20%20%20%20%20%20%20%20%7B%22extraClasses%22%3A%20%22fa-rotate-0%22%2C%20%22icon%22%3A%20%22info-sign%22%2C%20%22iconColor%22%3A%20%22white%22%2C%20%22markerColor%22%3A%20%22blue%22%2C%20%22prefix%22%3A%20%22glyphicon%22%7D%0A%20%20%20%20%20%20%20%20%20%20%20%20%29%3B%0A%20%20%20%20%20%20%20%20%20%20%20%20marker_42ac0021ca2547c2ae803d6f4ae477f0.setIcon%28icon_b54a155e10a84f95960e4e14ea1653c6%29%3B%0A%20%20%20%20%20%20%20%20%0A%20%20%20%20%0A%20%20%20%20%20%20%20%20%20%20%20%20marker_42ac0021ca2547c2ae803d6f4ae477f0.bindTooltip%28%0A%20%20%20%20%20%20%20%20%20%20%20%20%20%20%20%20%60%3Cdiv%3E%0A%20%20%20%20%20%20%20%20%20%20%20%20%20%20%20%20%20%20%20%20%20UBS%206%20GAMA%0A%20%20%20%20%20%20%20%20%20%20%20%20%20%20%20%20%20%3C/div%3E%60%2C%0A%20%20%20%20%20%20%20%20%20%20%20%20%20%20%20%20%7B%22sticky%22%3A%20true%7D%0A%20%20%20%20%20%20%20%20%20%20%20%20%29%3B%0A%20%20%20%20%20%20%20%20%0A%20%20%20%20%0A%20%20%20%20%20%20%20%20%20%20%20%20var%20marker_9eb69afe4892417d92333d478d3c3321%20%3D%20L.marker%28%0A%20%20%20%20%20%20%20%20%20%20%20%20%20%20%20%20%5B-15.9147396087646%2C%20-47.9784652709961%5D%2C%0A%20%20%20%20%20%20%20%20%20%20%20%20%20%20%20%20%7B%7D%0A%20%20%20%20%20%20%20%20%20%20%20%20%29.addTo%28feature_group_a032285a320245db8b8ffde065bf7bdd%29%3B%0A%20%20%20%20%20%20%20%20%0A%20%20%20%20%0A%20%20%20%20%20%20%20%20%20%20%20%20var%20icon_247cb93119d247db8d90a030720d595e%20%3D%20L.AwesomeMarkers.icon%28%0A%20%20%20%20%20%20%20%20%20%20%20%20%20%20%20%20%7B%22extraClasses%22%3A%20%22fa-rotate-0%22%2C%20%22icon%22%3A%20%22info-sign%22%2C%20%22iconColor%22%3A%20%22white%22%2C%20%22markerColor%22%3A%20%22blue%22%2C%20%22prefix%22%3A%20%22glyphicon%22%7D%0A%20%20%20%20%20%20%20%20%20%20%20%20%29%3B%0A%20%20%20%20%20%20%20%20%20%20%20%20marker_9eb69afe4892417d92333d478d3c3321.setIcon%28icon_247cb93119d247db8d90a030720d595e%29%3B%0A%20%20%20%20%20%20%20%20%0A%20%20%20%20%0A%20%20%20%20%20%20%20%20%20%20%20%20marker_9eb69afe4892417d92333d478d3c3321.bindTooltip%28%0A%20%20%20%20%20%20%20%20%20%20%20%20%20%20%20%20%60%3Cdiv%3E%0A%20%20%20%20%20%20%20%20%20%20%20%20%20%20%20%20%20%20%20%20%20UBS%207%20GAMA%0A%20%20%20%20%20%20%20%20%20%20%20%20%20%20%20%20%20%3C/div%3E%60%2C%0A%20%20%20%20%20%20%20%20%20%20%20%20%20%20%20%20%7B%22sticky%22%3A%20true%7D%0A%20%20%20%20%20%20%20%20%20%20%20%20%29%3B%0A%20%20%20%20%20%20%20%20%0A%20%20%20%20%0A%20%20%20%20%20%20%20%20%20%20%20%20var%20marker_a4f0507d56f042ecb333358a0dd241f5%20%3D%20L.marker%28%0A%20%20%20%20%20%20%20%20%20%20%20%20%20%20%20%20%5B-16.031859309585%2C%20-48.0232888680917%5D%2C%0A%20%20%20%20%20%20%20%20%20%20%20%20%20%20%20%20%7B%7D%0A%20%20%20%20%20%20%20%20%20%20%20%20%29.addTo%28feature_group_a032285a320245db8b8ffde065bf7bdd%29%3B%0A%20%20%20%20%20%20%20%20%0A%20%20%20%20%0A%20%20%20%20%20%20%20%20%20%20%20%20var%20icon_dcf7b8a6008f469c9b6ee0e853181e95%20%3D%20L.AwesomeMarkers.icon%28%0A%20%20%20%20%20%20%20%20%20%20%20%20%20%20%20%20%7B%22extraClasses%22%3A%20%22fa-rotate-0%22%2C%20%22icon%22%3A%20%22info-sign%22%2C%20%22iconColor%22%3A%20%22white%22%2C%20%22markerColor%22%3A%20%22blue%22%2C%20%22prefix%22%3A%20%22glyphicon%22%7D%0A%20%20%20%20%20%20%20%20%20%20%20%20%29%3B%0A%20%20%20%20%20%20%20%20%20%20%20%20marker_a4f0507d56f042ecb333358a0dd241f5.setIcon%28icon_dcf7b8a6008f469c9b6ee0e853181e95%29%3B%0A%20%20%20%20%20%20%20%20%0A%20%20%20%20%0A%20%20%20%20%20%20%20%20%20%20%20%20marker_a4f0507d56f042ecb333358a0dd241f5.bindTooltip%28%0A%20%20%20%20%20%20%20%20%20%20%20%20%20%20%20%20%60%3Cdiv%3E%0A%20%20%20%20%20%20%20%20%20%20%20%20%20%20%20%20%20%20%20%20%20UBS%203%20SANTA%20MARIA%0A%20%20%20%20%20%20%20%20%20%20%20%20%20%20%20%20%20%3C/div%3E%60%2C%0A%20%20%20%20%20%20%20%20%20%20%20%20%20%20%20%20%7B%22sticky%22%3A%20true%7D%0A%20%20%20%20%20%20%20%20%20%20%20%20%29%3B%0A%20%20%20%20%20%20%20%20%0A%20%20%20%20%0A%20%20%20%20%20%20%20%20%20%20%20%20var%20marker_21778bfb9c3c4f17bc4b6edd65c9e034%20%3D%20L.marker%28%0A%20%20%20%20%20%20%20%20%20%20%20%20%20%20%20%20%5B-16.0186676806714%2C%20-48.0180818029197%5D%2C%0A%20%20%20%20%20%20%20%20%20%20%20%20%20%20%20%20%7B%7D%0A%20%20%20%20%20%20%20%20%20%20%20%20%29.addTo%28feature_group_a032285a320245db8b8ffde065bf7bdd%29%3B%0A%20%20%20%20%20%20%20%20%0A%20%20%20%20%0A%20%20%20%20%20%20%20%20%20%20%20%20var%20icon_7a4d7beb6ac3418c88bf0012dc027bff%20%3D%20L.AwesomeMarkers.icon%28%0A%20%20%20%20%20%20%20%20%20%20%20%20%20%20%20%20%7B%22extraClasses%22%3A%20%22fa-rotate-0%22%2C%20%22icon%22%3A%20%22info-sign%22%2C%20%22iconColor%22%3A%20%22white%22%2C%20%22markerColor%22%3A%20%22blue%22%2C%20%22prefix%22%3A%20%22glyphicon%22%7D%0A%20%20%20%20%20%20%20%20%20%20%20%20%29%3B%0A%20%20%20%20%20%20%20%20%20%20%20%20marker_21778bfb9c3c4f17bc4b6edd65c9e034.setIcon%28icon_7a4d7beb6ac3418c88bf0012dc027bff%29%3B%0A%20%20%20%20%20%20%20%20%0A%20%20%20%20%0A%20%20%20%20%20%20%20%20%20%20%20%20marker_21778bfb9c3c4f17bc4b6edd65c9e034.bindTooltip%28%0A%20%20%20%20%20%20%20%20%20%20%20%20%20%20%20%20%60%3Cdiv%3E%0A%20%20%20%20%20%20%20%20%20%20%20%20%20%20%20%20%20%20%20%20%20UBS%206%20SANTA%20MARIA%0A%20%20%20%20%20%20%20%20%20%20%20%20%20%20%20%20%20%3C/div%3E%60%2C%0A%20%20%20%20%20%20%20%20%20%20%20%20%20%20%20%20%7B%22sticky%22%3A%20true%7D%0A%20%20%20%20%20%20%20%20%20%20%20%20%29%3B%0A%20%20%20%20%20%20%20%20%0A%20%20%20%20%0A%20%20%20%20%20%20%20%20%20%20%20%20var%20marker_d87cbf9bf4fb4e939adf93559117745a%20%3D%20L.marker%28%0A%20%20%20%20%20%20%20%20%20%20%20%20%20%20%20%20%5B-15.9795257872429%2C%20-48.0047835198002%5D%2C%0A%20%20%20%20%20%20%20%20%20%20%20%20%20%20%20%20%7B%7D%0A%20%20%20%20%20%20%20%20%20%20%20%20%29.addTo%28feature_group_a032285a320245db8b8ffde065bf7bdd%29%3B%0A%20%20%20%20%20%20%20%20%0A%20%20%20%20%0A%20%20%20%20%20%20%20%20%20%20%20%20var%20icon_71eae02b1b484bd9a5da64969f255567%20%3D%20L.AwesomeMarkers.icon%28%0A%20%20%20%20%20%20%20%20%20%20%20%20%20%20%20%20%7B%22extraClasses%22%3A%20%22fa-rotate-0%22%2C%20%22icon%22%3A%20%22info-sign%22%2C%20%22iconColor%22%3A%20%22white%22%2C%20%22markerColor%22%3A%20%22blue%22%2C%20%22prefix%22%3A%20%22glyphicon%22%7D%0A%20%20%20%20%20%20%20%20%20%20%20%20%29%3B%0A%20%20%20%20%20%20%20%20%20%20%20%20marker_d87cbf9bf4fb4e939adf93559117745a.setIcon%28icon_71eae02b1b484bd9a5da64969f255567%29%3B%0A%20%20%20%20%20%20%20%20%0A%20%20%20%20%0A%20%20%20%20%20%20%20%20%20%20%20%20marker_d87cbf9bf4fb4e939adf93559117745a.bindTooltip%28%0A%20%20%20%20%20%20%20%20%20%20%20%20%20%20%20%20%60%3Cdiv%3E%0A%20%20%20%20%20%20%20%20%20%20%20%20%20%20%20%20%20%20%20%20%20UBS%201%20SANTA%20MARIA%0A%20%20%20%20%20%20%20%20%20%20%20%20%20%20%20%20%20%3C/div%3E%60%2C%0A%20%20%20%20%20%20%20%20%20%20%20%20%20%20%20%20%7B%22sticky%22%3A%20true%7D%0A%20%20%20%20%20%20%20%20%20%20%20%20%29%3B%0A%20%20%20%20%20%20%20%20%0A%20%20%20%20%0A%20%20%20%20%20%20%20%20%20%20%20%20var%20marker_3e6c66b222cf4ec0802d28bfdc0f64b8%20%3D%20L.marker%28%0A%20%20%20%20%20%20%20%20%20%20%20%20%20%20%20%20%5B-15.982889175415%2C%20-48.0056704415215%5D%2C%0A%20%20%20%20%20%20%20%20%20%20%20%20%20%20%20%20%7B%7D%0A%20%20%20%20%20%20%20%20%20%20%20%20%29.addTo%28feature_group_a032285a320245db8b8ffde065bf7bdd%29%3B%0A%20%20%20%20%20%20%20%20%0A%20%20%20%20%0A%20%20%20%20%20%20%20%20%20%20%20%20var%20icon_6d971e58488141adacbc98c26276c24d%20%3D%20L.AwesomeMarkers.icon%28%0A%20%20%20%20%20%20%20%20%20%20%20%20%20%20%20%20%7B%22extraClasses%22%3A%20%22fa-rotate-0%22%2C%20%22icon%22%3A%20%22info-sign%22%2C%20%22iconColor%22%3A%20%22white%22%2C%20%22markerColor%22%3A%20%22blue%22%2C%20%22prefix%22%3A%20%22glyphicon%22%7D%0A%20%20%20%20%20%20%20%20%20%20%20%20%29%3B%0A%20%20%20%20%20%20%20%20%20%20%20%20marker_3e6c66b222cf4ec0802d28bfdc0f64b8.setIcon%28icon_6d971e58488141adacbc98c26276c24d%29%3B%0A%20%20%20%20%20%20%20%20%0A%20%20%20%20%0A%20%20%20%20%20%20%20%20%20%20%20%20marker_3e6c66b222cf4ec0802d28bfdc0f64b8.bindTooltip%28%0A%20%20%20%20%20%20%20%20%20%20%20%20%20%20%20%20%60%3Cdiv%3E%0A%20%20%20%20%20%20%20%20%20%20%20%20%20%20%20%20%20%20%20%20%20UBS%205%20SANTA%20MARIA%0A%20%20%20%20%20%20%20%20%20%20%20%20%20%20%20%20%20%3C/div%3E%60%2C%0A%20%20%20%20%20%20%20%20%20%20%20%20%20%20%20%20%7B%22sticky%22%3A%20true%7D%0A%20%20%20%20%20%20%20%20%20%20%20%20%29%3B%0A%20%20%20%20%20%20%20%20%0A%20%20%20%20%0A%20%20%20%20%20%20%20%20%20%20%20%20var%20marker_0cd28599a2c04a5b9660a34a354e122c%20%3D%20L.marker%28%0A%20%20%20%20%20%20%20%20%20%20%20%20%20%20%20%20%5B-15.9733776683696%2C%20-47.9725211963319%5D%2C%0A%20%20%20%20%20%20%20%20%20%20%20%20%20%20%20%20%7B%7D%0A%20%20%20%20%20%20%20%20%20%20%20%20%29.addTo%28feature_group_a032285a320245db8b8ffde065bf7bdd%29%3B%0A%20%20%20%20%20%20%20%20%0A%20%20%20%20%0A%20%20%20%20%20%20%20%20%20%20%20%20var%20icon_2c1174d90b12477b999240e80dfa8267%20%3D%20L.AwesomeMarkers.icon%28%0A%20%20%20%20%20%20%20%20%20%20%20%20%20%20%20%20%7B%22extraClasses%22%3A%20%22fa-rotate-0%22%2C%20%22icon%22%3A%20%22info-sign%22%2C%20%22iconColor%22%3A%20%22white%22%2C%20%22markerColor%22%3A%20%22blue%22%2C%20%22prefix%22%3A%20%22glyphicon%22%7D%0A%20%20%20%20%20%20%20%20%20%20%20%20%29%3B%0A%20%20%20%20%20%20%20%20%20%20%20%20marker_0cd28599a2c04a5b9660a34a354e122c.setIcon%28icon_2c1174d90b12477b999240e80dfa8267%29%3B%0A%20%20%20%20%20%20%20%20%0A%20%20%20%20%0A%20%20%20%20%20%20%20%20%20%20%20%20marker_0cd28599a2c04a5b9660a34a354e122c.bindTooltip%28%0A%20%20%20%20%20%20%20%20%20%20%20%20%20%20%20%20%60%3Cdiv%3E%0A%20%20%20%20%20%20%20%20%20%20%20%20%20%20%20%20%20%20%20%20%20UBS%202%20SANTA%20MARIA%0A%20%20%20%20%20%20%20%20%20%20%20%20%20%20%20%20%20%3C/div%3E%60%2C%0A%20%20%20%20%20%20%20%20%20%20%20%20%20%20%20%20%7B%22sticky%22%3A%20true%7D%0A%20%20%20%20%20%20%20%20%20%20%20%20%29%3B%0A%20%20%20%20%20%20%20%20%0A%20%20%20%20%0A%20%20%20%20%20%20%20%20%20%20%20%20var%20marker_8237b41cd26d44a7a258d63b92581f1f%20%3D%20L.marker%28%0A%20%20%20%20%20%20%20%20%20%20%20%20%20%20%20%20%5B-15.9733776683696%2C%20-47.9725211963319%5D%2C%0A%20%20%20%20%20%20%20%20%20%20%20%20%20%20%20%20%7B%7D%0A%20%20%20%20%20%20%20%20%20%20%20%20%29.addTo%28feature_group_a032285a320245db8b8ffde065bf7bdd%29%3B%0A%20%20%20%20%20%20%20%20%0A%20%20%20%20%0A%20%20%20%20%20%20%20%20%20%20%20%20var%20icon_3e88fd6437544635b74956dd2067e308%20%3D%20L.AwesomeMarkers.icon%28%0A%20%20%20%20%20%20%20%20%20%20%20%20%20%20%20%20%7B%22extraClasses%22%3A%20%22fa-rotate-0%22%2C%20%22icon%22%3A%20%22info-sign%22%2C%20%22iconColor%22%3A%20%22white%22%2C%20%22markerColor%22%3A%20%22blue%22%2C%20%22prefix%22%3A%20%22glyphicon%22%7D%0A%20%20%20%20%20%20%20%20%20%20%20%20%29%3B%0A%20%20%20%20%20%20%20%20%20%20%20%20marker_8237b41cd26d44a7a258d63b92581f1f.setIcon%28icon_3e88fd6437544635b74956dd2067e308%29%3B%0A%20%20%20%20%20%20%20%20%0A%20%20%20%20%0A%20%20%20%20%20%20%20%20%20%20%20%20marker_8237b41cd26d44a7a258d63b92581f1f.bindTooltip%28%0A%20%20%20%20%20%20%20%20%20%20%20%20%20%20%20%20%60%3Cdiv%3E%0A%20%20%20%20%20%20%20%20%20%20%20%20%20%20%20%20%20%20%20%20%20UBS%208%20SANTA%20MARIA%0A%20%20%20%20%20%20%20%20%20%20%20%20%20%20%20%20%20%3C/div%3E%60%2C%0A%20%20%20%20%20%20%20%20%20%20%20%20%20%20%20%20%7B%22sticky%22%3A%20true%7D%0A%20%20%20%20%20%20%20%20%20%20%20%20%29%3B%0A%20%20%20%20%20%20%20%20%0A%20%20%20%20%0A%20%20%20%20%20%20%20%20%20%20%20%20var%20marker_92b18ecae72d404c860ad97426d64c54%20%3D%20L.marker%28%0A%20%20%20%20%20%20%20%20%20%20%20%20%20%20%20%20%5B-15.9700757630017%2C%20-47.9871166774205%5D%2C%0A%20%20%20%20%20%20%20%20%20%20%20%20%20%20%20%20%7B%7D%0A%20%20%20%20%20%20%20%20%20%20%20%20%29.addTo%28feature_group_a032285a320245db8b8ffde065bf7bdd%29%3B%0A%20%20%20%20%20%20%20%20%0A%20%20%20%20%0A%20%20%20%20%20%20%20%20%20%20%20%20var%20icon_4a2ef6aab6184d96af7eaa4c2595acee%20%3D%20L.AwesomeMarkers.icon%28%0A%20%20%20%20%20%20%20%20%20%20%20%20%20%20%20%20%7B%22extraClasses%22%3A%20%22fa-rotate-0%22%2C%20%22icon%22%3A%20%22info-sign%22%2C%20%22iconColor%22%3A%20%22white%22%2C%20%22markerColor%22%3A%20%22blue%22%2C%20%22prefix%22%3A%20%22glyphicon%22%7D%0A%20%20%20%20%20%20%20%20%20%20%20%20%29%3B%0A%20%20%20%20%20%20%20%20%20%20%20%20marker_92b18ecae72d404c860ad97426d64c54.setIcon%28icon_4a2ef6aab6184d96af7eaa4c2595acee%29%3B%0A%20%20%20%20%20%20%20%20%0A%20%20%20%20%0A%20%20%20%20%20%20%20%20%20%20%20%20marker_92b18ecae72d404c860ad97426d64c54.bindTooltip%28%0A%20%20%20%20%20%20%20%20%20%20%20%20%20%20%20%20%60%3Cdiv%3E%0A%20%20%20%20%20%20%20%20%20%20%20%20%20%20%20%20%20%20%20%20%20UBS%207%20SANTA%20MARIA%0A%20%20%20%20%20%20%20%20%20%20%20%20%20%20%20%20%20%3C/div%3E%60%2C%0A%20%20%20%20%20%20%20%20%20%20%20%20%20%20%20%20%7B%22sticky%22%3A%20true%7D%0A%20%20%20%20%20%20%20%20%20%20%20%20%29%3B%0A%20%20%20%20%20%20%20%20%0A%20%20%20%20%0A%20%20%20%20%20%20%20%20%20%20%20%20var%20marker_233442a8f0fe4e6bb447a17429c3235c%20%3D%20L.marker%28%0A%20%20%20%20%20%20%20%20%20%20%20%20%20%20%20%20%5B-15.8828269253258%2C%20-47.8842120130523%5D%2C%0A%20%20%20%20%20%20%20%20%20%20%20%20%20%20%20%20%7B%7D%0A%20%20%20%20%20%20%20%20%20%20%20%20%29.addTo%28feature_group_a032285a320245db8b8ffde065bf7bdd%29%3B%0A%20%20%20%20%20%20%20%20%0A%20%20%20%20%0A%20%20%20%20%20%20%20%20%20%20%20%20var%20icon_189884c25502412f9a7ff7f7f7bf4a09%20%3D%20L.AwesomeMarkers.icon%28%0A%20%20%20%20%20%20%20%20%20%20%20%20%20%20%20%20%7B%22extraClasses%22%3A%20%22fa-rotate-0%22%2C%20%22icon%22%3A%20%22info-sign%22%2C%20%22iconColor%22%3A%20%22white%22%2C%20%22markerColor%22%3A%20%22blue%22%2C%20%22prefix%22%3A%20%22glyphicon%22%7D%0A%20%20%20%20%20%20%20%20%20%20%20%20%29%3B%0A%20%20%20%20%20%20%20%20%20%20%20%20marker_233442a8f0fe4e6bb447a17429c3235c.setIcon%28icon_189884c25502412f9a7ff7f7f7bf4a09%29%3B%0A%20%20%20%20%20%20%20%20%0A%20%20%20%20%0A%20%20%20%20%20%20%20%20%20%20%20%20marker_233442a8f0fe4e6bb447a17429c3235c.bindTooltip%28%0A%20%20%20%20%20%20%20%20%20%20%20%20%20%20%20%20%60%3Cdiv%3E%0A%20%20%20%20%20%20%20%20%20%20%20%20%20%20%20%20%20%20%20%20%20UBS%2002%20RECANTO%20DAS%20EMAS%0A%20%20%20%20%20%20%20%20%20%20%20%20%20%20%20%20%20%3C/div%3E%60%2C%0A%20%20%20%20%20%20%20%20%20%20%20%20%20%20%20%20%7B%22sticky%22%3A%20true%7D%0A%20%20%20%20%20%20%20%20%20%20%20%20%29%3B%0A%20%20%20%20%20%20%20%20%0A%20%20%20%20%0A%20%20%20%20%20%20%20%20%20%20%20%20var%20marker_83cf63b2576a4d879b15e456adb2d155%20%3D%20L.marker%28%0A%20%20%20%20%20%20%20%20%20%20%20%20%20%20%20%20%5B-15.8828269253258%2C%20-47.8842120130523%5D%2C%0A%20%20%20%20%20%20%20%20%20%20%20%20%20%20%20%20%7B%7D%0A%20%20%20%20%20%20%20%20%20%20%20%20%29.addTo%28feature_group_a032285a320245db8b8ffde065bf7bdd%29%3B%0A%20%20%20%20%20%20%20%20%0A%20%20%20%20%0A%20%20%20%20%20%20%20%20%20%20%20%20var%20icon_133bf77849074cdebf1149c01957c4a8%20%3D%20L.AwesomeMarkers.icon%28%0A%20%20%20%20%20%20%20%20%20%20%20%20%20%20%20%20%7B%22extraClasses%22%3A%20%22fa-rotate-0%22%2C%20%22icon%22%3A%20%22info-sign%22%2C%20%22iconColor%22%3A%20%22white%22%2C%20%22markerColor%22%3A%20%22blue%22%2C%20%22prefix%22%3A%20%22glyphicon%22%7D%0A%20%20%20%20%20%20%20%20%20%20%20%20%29%3B%0A%20%20%20%20%20%20%20%20%20%20%20%20marker_83cf63b2576a4d879b15e456adb2d155.setIcon%28icon_133bf77849074cdebf1149c01957c4a8%29%3B%0A%20%20%20%20%20%20%20%20%0A%20%20%20%20%0A%20%20%20%20%20%20%20%20%20%20%20%20marker_83cf63b2576a4d879b15e456adb2d155.bindTooltip%28%0A%20%20%20%20%20%20%20%20%20%20%20%20%20%20%20%20%60%3Cdiv%3E%0A%20%20%20%20%20%20%20%20%20%20%20%20%20%20%20%20%20%20%20%20%20UBS%2008%20RECANTO%20DAS%20EMAS%20SAO%20FRANCISCO%0A%20%20%20%20%20%20%20%20%20%20%20%20%20%20%20%20%20%3C/div%3E%60%2C%0A%20%20%20%20%20%20%20%20%20%20%20%20%20%20%20%20%7B%22sticky%22%3A%20true%7D%0A%20%20%20%20%20%20%20%20%20%20%20%20%29%3B%0A%20%20%20%20%20%20%20%20%0A%20%20%20%20%0A%20%20%20%20%20%20%20%20%20%20%20%20var%20marker_f0625964f2574f6281fae9ed9a3c17de%20%3D%20L.marker%28%0A%20%20%20%20%20%20%20%20%20%20%20%20%20%20%20%20%5B-15.8828269253258%2C%20-47.8842120130523%5D%2C%0A%20%20%20%20%20%20%20%20%20%20%20%20%20%20%20%20%7B%7D%0A%20%20%20%20%20%20%20%20%20%20%20%20%29.addTo%28feature_group_a032285a320245db8b8ffde065bf7bdd%29%3B%0A%20%20%20%20%20%20%20%20%0A%20%20%20%20%0A%20%20%20%20%20%20%20%20%20%20%20%20var%20icon_f477d10d51964eefaa3d5f5499a0a421%20%3D%20L.AwesomeMarkers.icon%28%0A%20%20%20%20%20%20%20%20%20%20%20%20%20%20%20%20%7B%22extraClasses%22%3A%20%22fa-rotate-0%22%2C%20%22icon%22%3A%20%22info-sign%22%2C%20%22iconColor%22%3A%20%22white%22%2C%20%22markerColor%22%3A%20%22blue%22%2C%20%22prefix%22%3A%20%22glyphicon%22%7D%0A%20%20%20%20%20%20%20%20%20%20%20%20%29%3B%0A%20%20%20%20%20%20%20%20%20%20%20%20marker_f0625964f2574f6281fae9ed9a3c17de.setIcon%28icon_f477d10d51964eefaa3d5f5499a0a421%29%3B%0A%20%20%20%20%20%20%20%20%0A%20%20%20%20%0A%20%20%20%20%20%20%20%20%20%20%20%20marker_f0625964f2574f6281fae9ed9a3c17de.bindTooltip%28%0A%20%20%20%20%20%20%20%20%20%20%20%20%20%20%20%20%60%3Cdiv%3E%0A%20%20%20%20%20%20%20%20%20%20%20%20%20%20%20%20%20%20%20%20%20UBS%2003%20RECANTO%20DAS%20EMAS%0A%20%20%20%20%20%20%20%20%20%20%20%20%20%20%20%20%20%3C/div%3E%60%2C%0A%20%20%20%20%20%20%20%20%20%20%20%20%20%20%20%20%7B%22sticky%22%3A%20true%7D%0A%20%20%20%20%20%20%20%20%20%20%20%20%29%3B%0A%20%20%20%20%20%20%20%20%0A%20%20%20%20%0A%20%20%20%20%20%20%20%20%20%20%20%20var%20marker_9c49cab9a63a406bb5484bfac7734d78%20%3D%20L.marker%28%0A%20%20%20%20%20%20%20%20%20%20%20%20%20%20%20%20%5B-15.9023801854679%2C%20-48.0063577720097%5D%2C%0A%20%20%20%20%20%20%20%20%20%20%20%20%20%20%20%20%7B%7D%0A%20%20%20%20%20%20%20%20%20%20%20%20%29.addTo%28feature_group_a032285a320245db8b8ffde065bf7bdd%29%3B%0A%20%20%20%20%20%20%20%20%0A%20%20%20%20%0A%20%20%20%20%20%20%20%20%20%20%20%20var%20icon_9666836967d545e5b13b49d6331e8cfb%20%3D%20L.AwesomeMarkers.icon%28%0A%20%20%20%20%20%20%20%20%20%20%20%20%20%20%20%20%7B%22extraClasses%22%3A%20%22fa-rotate-0%22%2C%20%22icon%22%3A%20%22info-sign%22%2C%20%22iconColor%22%3A%20%22white%22%2C%20%22markerColor%22%3A%20%22blue%22%2C%20%22prefix%22%3A%20%22glyphicon%22%7D%0A%20%20%20%20%20%20%20%20%20%20%20%20%29%3B%0A%20%20%20%20%20%20%20%20%20%20%20%20marker_9c49cab9a63a406bb5484bfac7734d78.setIcon%28icon_9666836967d545e5b13b49d6331e8cfb%29%3B%0A%20%20%20%20%20%20%20%20%0A%20%20%20%20%0A%20%20%20%20%20%20%20%20%20%20%20%20marker_9c49cab9a63a406bb5484bfac7734d78.bindTooltip%28%0A%20%20%20%20%20%20%20%20%20%20%20%20%20%20%20%20%60%3Cdiv%3E%0A%20%20%20%20%20%20%20%20%20%20%20%20%20%20%20%20%20%20%20%20%20UBS%2001%20RECANTO%20DAS%20EMAS%0A%20%20%20%20%20%20%20%20%20%20%20%20%20%20%20%20%20%3C/div%3E%60%2C%0A%20%20%20%20%20%20%20%20%20%20%20%20%20%20%20%20%7B%22sticky%22%3A%20true%7D%0A%20%20%20%20%20%20%20%20%20%20%20%20%29%3B%0A%20%20%20%20%20%20%20%20%0A%20%20%20%20%0A%20%20%20%20%20%20%20%20%20%20%20%20var%20marker_b4b8b5581777487facc22e79adddb23b%20%3D%20L.marker%28%0A%20%20%20%20%20%20%20%20%20%20%20%20%20%20%20%20%5B-15.887553174445%2C%20-48.0559745545083%5D%2C%0A%20%20%20%20%20%20%20%20%20%20%20%20%20%20%20%20%7B%7D%0A%20%20%20%20%20%20%20%20%20%20%20%20%29.addTo%28feature_group_a032285a320245db8b8ffde065bf7bdd%29%3B%0A%20%20%20%20%20%20%20%20%0A%20%20%20%20%0A%20%20%20%20%20%20%20%20%20%20%20%20var%20icon_a296ea98c4124afc94e65fa22a5722df%20%3D%20L.AwesomeMarkers.icon%28%0A%20%20%20%20%20%20%20%20%20%20%20%20%20%20%20%20%7B%22extraClasses%22%3A%20%22fa-rotate-0%22%2C%20%22icon%22%3A%20%22info-sign%22%2C%20%22iconColor%22%3A%20%22white%22%2C%20%22markerColor%22%3A%20%22blue%22%2C%20%22prefix%22%3A%20%22glyphicon%22%7D%0A%20%20%20%20%20%20%20%20%20%20%20%20%29%3B%0A%20%20%20%20%20%20%20%20%20%20%20%20marker_b4b8b5581777487facc22e79adddb23b.setIcon%28icon_a296ea98c4124afc94e65fa22a5722df%29%3B%0A%20%20%20%20%20%20%20%20%0A%20%20%20%20%0A%20%20%20%20%20%20%20%20%20%20%20%20marker_b4b8b5581777487facc22e79adddb23b.bindTooltip%28%0A%20%20%20%20%20%20%20%20%20%20%20%20%20%20%20%20%60%3Cdiv%3E%0A%20%20%20%20%20%20%20%20%20%20%20%20%20%20%20%20%20%20%20%20%20UBS%2010%20RECANTO%20DAS%20EMAS%0A%20%20%20%20%20%20%20%20%20%20%20%20%20%20%20%20%20%3C/div%3E%60%2C%0A%20%20%20%20%20%20%20%20%20%20%20%20%20%20%20%20%7B%22sticky%22%3A%20true%7D%0A%20%20%20%20%20%20%20%20%20%20%20%20%29%3B%0A%20%20%20%20%20%20%20%20%0A%20%20%20%20%0A%20%20%20%20%20%20%20%20%20%20%20%20var%20marker_354d60750500420cb67ca414ef277313%20%3D%20L.marker%28%0A%20%20%20%20%20%20%20%20%20%20%20%20%20%20%20%20%5B-15.7460465853727%2C%20-48.0444533432586%5D%2C%0A%20%20%20%20%20%20%20%20%20%20%20%20%20%20%20%20%7B%7D%0A%20%20%20%20%20%20%20%20%20%20%20%20%29.addTo%28feature_group_a032285a320245db8b8ffde065bf7bdd%29%3B%0A%20%20%20%20%20%20%20%20%0A%20%20%20%20%0A%20%20%20%20%20%20%20%20%20%20%20%20var%20icon_9feb5c2f0b104f05921322bc3de1a9b9%20%3D%20L.AwesomeMarkers.icon%28%0A%20%20%20%20%20%20%20%20%20%20%20%20%20%20%20%20%7B%22extraClasses%22%3A%20%22fa-rotate-0%22%2C%20%22icon%22%3A%20%22info-sign%22%2C%20%22iconColor%22%3A%20%22white%22%2C%20%22markerColor%22%3A%20%22blue%22%2C%20%22prefix%22%3A%20%22glyphicon%22%7D%0A%20%20%20%20%20%20%20%20%20%20%20%20%29%3B%0A%20%20%20%20%20%20%20%20%20%20%20%20marker_354d60750500420cb67ca414ef277313.setIcon%28icon_9feb5c2f0b104f05921322bc3de1a9b9%29%3B%0A%20%20%20%20%20%20%20%20%0A%20%20%20%20%0A%20%20%20%20%20%20%20%20%20%20%20%20marker_354d60750500420cb67ca414ef277313.bindTooltip%28%0A%20%20%20%20%20%20%20%20%20%20%20%20%20%20%20%20%60%3Cdiv%3E%0A%20%20%20%20%20%20%20%20%20%20%20%20%20%20%20%20%20%20%20%20%20UBS%201%20BRAZLANDIA%0A%20%20%20%20%20%20%20%20%20%20%20%20%20%20%20%20%20%3C/div%3E%60%2C%0A%20%20%20%20%20%20%20%20%20%20%20%20%20%20%20%20%7B%22sticky%22%3A%20true%7D%0A%20%20%20%20%20%20%20%20%20%20%20%20%29%3B%0A%20%20%20%20%20%20%20%20%0A%20%20%20%20%0A%20%20%20%20%20%20%20%20%20%20%20%20var%20marker_53cf7b0e36b34554880c01f428200fd0%20%3D%20L.marker%28%0A%20%20%20%20%20%20%20%20%20%20%20%20%20%20%20%20%5B-15.7723789215088%2C%20-47.9293296120384%5D%2C%0A%20%20%20%20%20%20%20%20%20%20%20%20%20%20%20%20%7B%7D%0A%20%20%20%20%20%20%20%20%20%20%20%20%29.addTo%28feature_group_a032285a320245db8b8ffde065bf7bdd%29%3B%0A%20%20%20%20%20%20%20%20%0A%20%20%20%20%0A%20%20%20%20%20%20%20%20%20%20%20%20var%20icon_88bf7cf30cf7403daffe6233b4e8f8aa%20%3D%20L.AwesomeMarkers.icon%28%0A%20%20%20%20%20%20%20%20%20%20%20%20%20%20%20%20%7B%22extraClasses%22%3A%20%22fa-rotate-0%22%2C%20%22icon%22%3A%20%22info-sign%22%2C%20%22iconColor%22%3A%20%22white%22%2C%20%22markerColor%22%3A%20%22blue%22%2C%20%22prefix%22%3A%20%22glyphicon%22%7D%0A%20%20%20%20%20%20%20%20%20%20%20%20%29%3B%0A%20%20%20%20%20%20%20%20%20%20%20%20marker_53cf7b0e36b34554880c01f428200fd0.setIcon%28icon_88bf7cf30cf7403daffe6233b4e8f8aa%29%3B%0A%20%20%20%20%20%20%20%20%0A%20%20%20%20%0A%20%20%20%20%20%20%20%20%20%20%20%20marker_53cf7b0e36b34554880c01f428200fd0.bindTooltip%28%0A%20%20%20%20%20%20%20%20%20%20%20%20%20%20%20%20%60%3Cdiv%3E%0A%20%20%20%20%20%20%20%20%20%20%20%20%20%20%20%20%20%20%20%20%20HRBZ%0A%20%20%20%20%20%20%20%20%20%20%20%20%20%20%20%20%20%3C/div%3E%60%2C%0A%20%20%20%20%20%20%20%20%20%20%20%20%20%20%20%20%7B%22sticky%22%3A%20true%7D%0A%20%20%20%20%20%20%20%20%20%20%20%20%29%3B%0A%20%20%20%20%20%20%20%20%0A%20%20%20%20%0A%20%20%20%20%20%20%20%20%20%20%20%20var%20marker_b3adef4bf8df4f69a284fc7e429e28e7%20%3D%20L.marker%28%0A%20%20%20%20%20%20%20%20%20%20%20%20%20%20%20%20%5B-15.7168520835981%2C%20-48.0315276368024%5D%2C%0A%20%20%20%20%20%20%20%20%20%20%20%20%20%20%20%20%7B%7D%0A%20%20%20%20%20%20%20%20%20%20%20%20%29.addTo%28feature_group_a032285a320245db8b8ffde065bf7bdd%29%3B%0A%20%20%20%20%20%20%20%20%0A%20%20%20%20%0A%20%20%20%20%20%20%20%20%20%20%20%20var%20icon_34ba387902e34e5ab32dd4d45ab751be%20%3D%20L.AwesomeMarkers.icon%28%0A%20%20%20%20%20%20%20%20%20%20%20%20%20%20%20%20%7B%22extraClasses%22%3A%20%22fa-rotate-0%22%2C%20%22icon%22%3A%20%22info-sign%22%2C%20%22iconColor%22%3A%20%22white%22%2C%20%22markerColor%22%3A%20%22blue%22%2C%20%22prefix%22%3A%20%22glyphicon%22%7D%0A%20%20%20%20%20%20%20%20%20%20%20%20%29%3B%0A%20%20%20%20%20%20%20%20%20%20%20%20marker_b3adef4bf8df4f69a284fc7e429e28e7.setIcon%28icon_34ba387902e34e5ab32dd4d45ab751be%29%3B%0A%20%20%20%20%20%20%20%20%0A%20%20%20%20%0A%20%20%20%20%20%20%20%20%20%20%20%20marker_b3adef4bf8df4f69a284fc7e429e28e7.bindTooltip%28%0A%20%20%20%20%20%20%20%20%20%20%20%20%20%20%20%20%60%3Cdiv%3E%0A%20%20%20%20%20%20%20%20%20%20%20%20%20%20%20%20%20%20%20%20%20UBS%204%20VEREDAS%20II%20BRAZLANDIA%0A%20%20%20%20%20%20%20%20%20%20%20%20%20%20%20%20%20%3C/div%3E%60%2C%0A%20%20%20%20%20%20%20%20%20%20%20%20%20%20%20%20%7B%22sticky%22%3A%20true%7D%0A%20%20%20%20%20%20%20%20%20%20%20%20%29%3B%0A%20%20%20%20%20%20%20%20%0A%20%20%20%20%0A%20%20%20%20%20%20%20%20%20%20%20%20var%20marker_138d2986d3174b9d96035277a03bb6d3%20%3D%20L.marker%28%0A%20%20%20%20%20%20%20%20%20%20%20%20%20%20%20%20%5B-15.6953055593703%2C%20-47.7740908728706%5D%2C%0A%20%20%20%20%20%20%20%20%20%20%20%20%20%20%20%20%7B%7D%0A%20%20%20%20%20%20%20%20%20%20%20%20%29.addTo%28feature_group_a032285a320245db8b8ffde065bf7bdd%29%3B%0A%20%20%20%20%20%20%20%20%0A%20%20%20%20%0A%20%20%20%20%20%20%20%20%20%20%20%20var%20icon_cfd2a63cc2434909ba12252b47e89d1b%20%3D%20L.AwesomeMarkers.icon%28%0A%20%20%20%20%20%20%20%20%20%20%20%20%20%20%20%20%7B%22extraClasses%22%3A%20%22fa-rotate-0%22%2C%20%22icon%22%3A%20%22info-sign%22%2C%20%22iconColor%22%3A%20%22white%22%2C%20%22markerColor%22%3A%20%22blue%22%2C%20%22prefix%22%3A%20%22glyphicon%22%7D%0A%20%20%20%20%20%20%20%20%20%20%20%20%29%3B%0A%20%20%20%20%20%20%20%20%20%20%20%20marker_138d2986d3174b9d96035277a03bb6d3.setIcon%28icon_cfd2a63cc2434909ba12252b47e89d1b%29%3B%0A%20%20%20%20%20%20%20%20%0A%20%20%20%20%0A%20%20%20%20%20%20%20%20%20%20%20%20marker_138d2986d3174b9d96035277a03bb6d3.bindTooltip%28%0A%20%20%20%20%20%20%20%20%20%20%20%20%20%20%20%20%60%3Cdiv%3E%0A%20%20%20%20%20%20%20%20%20%20%20%20%20%20%20%20%20%20%20%20%20UBS%205%20SETOR%20DE%20MANSOES%20SOBRADINHO%20II%0A%20%20%20%20%20%20%20%20%20%20%20%20%20%20%20%20%20%3C/div%3E%60%2C%0A%20%20%20%20%20%20%20%20%20%20%20%20%20%20%20%20%7B%22sticky%22%3A%20true%7D%0A%20%20%20%20%20%20%20%20%20%20%20%20%29%3B%0A%20%20%20%20%20%20%20%20%0A%20%20%20%20%0A%20%20%20%20%20%20%20%20%20%20%20%20var%20marker_18eb148ae52e48b198d59a2f02ba5753%20%3D%20L.marker%28%0A%20%20%20%20%20%20%20%20%20%20%20%20%20%20%20%20%5B-15.6712104479472%2C%20-47.7948487599691%5D%2C%0A%20%20%20%20%20%20%20%20%20%20%20%20%20%20%20%20%7B%7D%0A%20%20%20%20%20%20%20%20%20%20%20%20%29.addTo%28feature_group_a032285a320245db8b8ffde065bf7bdd%29%3B%0A%20%20%20%20%20%20%20%20%0A%20%20%20%20%0A%20%20%20%20%20%20%20%20%20%20%20%20var%20icon_2bf1f371c60043538349fc03eddfb3ef%20%3D%20L.AwesomeMarkers.icon%28%0A%20%20%20%20%20%20%20%20%20%20%20%20%20%20%20%20%7B%22extraClasses%22%3A%20%22fa-rotate-0%22%2C%20%22icon%22%3A%20%22info-sign%22%2C%20%22iconColor%22%3A%20%22white%22%2C%20%22markerColor%22%3A%20%22blue%22%2C%20%22prefix%22%3A%20%22glyphicon%22%7D%0A%20%20%20%20%20%20%20%20%20%20%20%20%29%3B%0A%20%20%20%20%20%20%20%20%20%20%20%20marker_18eb148ae52e48b198d59a2f02ba5753.setIcon%28icon_2bf1f371c60043538349fc03eddfb3ef%29%3B%0A%20%20%20%20%20%20%20%20%0A%20%20%20%20%0A%20%20%20%20%20%20%20%20%20%20%20%20marker_18eb148ae52e48b198d59a2f02ba5753.bindTooltip%28%0A%20%20%20%20%20%20%20%20%20%20%20%20%20%20%20%20%60%3Cdiv%3E%0A%20%20%20%20%20%20%20%20%20%20%20%20%20%20%20%20%20%20%20%20%20UBS%202%20SOBRADINHO%0A%20%20%20%20%20%20%20%20%20%20%20%20%20%20%20%20%20%3C/div%3E%60%2C%0A%20%20%20%20%20%20%20%20%20%20%20%20%20%20%20%20%7B%22sticky%22%3A%20true%7D%0A%20%20%20%20%20%20%20%20%20%20%20%20%29%3B%0A%20%20%20%20%20%20%20%20%0A%20%20%20%20%0A%20%20%20%20%20%20%20%20%20%20%20%20var%20marker_f9cab54d1ee84097bfc430c484e20acd%20%3D%20L.marker%28%0A%20%20%20%20%20%20%20%20%20%20%20%20%20%20%20%20%5B-15.6692689678125%2C%20-47.8025432385896%5D%2C%0A%20%20%20%20%20%20%20%20%20%20%20%20%20%20%20%20%7B%7D%0A%20%20%20%20%20%20%20%20%20%20%20%20%29.addTo%28feature_group_a032285a320245db8b8ffde065bf7bdd%29%3B%0A%20%20%20%20%20%20%20%20%0A%20%20%20%20%0A%20%20%20%20%20%20%20%20%20%20%20%20var%20icon_2e5261a20f1c4042a70054666143f127%20%3D%20L.AwesomeMarkers.icon%28%0A%20%20%20%20%20%20%20%20%20%20%20%20%20%20%20%20%7B%22extraClasses%22%3A%20%22fa-rotate-0%22%2C%20%22icon%22%3A%20%22info-sign%22%2C%20%22iconColor%22%3A%20%22white%22%2C%20%22markerColor%22%3A%20%22blue%22%2C%20%22prefix%22%3A%20%22glyphicon%22%7D%0A%20%20%20%20%20%20%20%20%20%20%20%20%29%3B%0A%20%20%20%20%20%20%20%20%20%20%20%20marker_f9cab54d1ee84097bfc430c484e20acd.setIcon%28icon_2e5261a20f1c4042a70054666143f127%29%3B%0A%20%20%20%20%20%20%20%20%0A%20%20%20%20%0A%20%20%20%20%20%20%20%20%20%20%20%20marker_f9cab54d1ee84097bfc430c484e20acd.bindTooltip%28%0A%20%20%20%20%20%20%20%20%20%20%20%20%20%20%20%20%60%3Cdiv%3E%0A%20%20%20%20%20%20%20%20%20%20%20%20%20%20%20%20%20%20%20%20%20UBS%201%20SOBRADINHO%0A%20%20%20%20%20%20%20%20%20%20%20%20%20%20%20%20%20%3C/div%3E%60%2C%0A%20%20%20%20%20%20%20%20%20%20%20%20%20%20%20%20%7B%22sticky%22%3A%20true%7D%0A%20%20%20%20%20%20%20%20%20%20%20%20%29%3B%0A%20%20%20%20%20%20%20%20%0A%20%20%20%20%0A%20%20%20%20%20%20%20%20%20%20%20%20var%20marker_2f62e6579619440e8c332702bee69616%20%3D%20L.marker%28%0A%20%20%20%20%20%20%20%20%20%20%20%20%20%20%20%20%5B-15.6597352535167%2C%20-47.8323319617738%5D%2C%0A%20%20%20%20%20%20%20%20%20%20%20%20%20%20%20%20%7B%7D%0A%20%20%20%20%20%20%20%20%20%20%20%20%29.addTo%28feature_group_a032285a320245db8b8ffde065bf7bdd%29%3B%0A%20%20%20%20%20%20%20%20%0A%20%20%20%20%0A%20%20%20%20%20%20%20%20%20%20%20%20var%20icon_00aa87fe19084d5da3cfe082638a9b37%20%3D%20L.AwesomeMarkers.icon%28%0A%20%20%20%20%20%20%20%20%20%20%20%20%20%20%20%20%7B%22extraClasses%22%3A%20%22fa-rotate-0%22%2C%20%22icon%22%3A%20%22info-sign%22%2C%20%22iconColor%22%3A%20%22white%22%2C%20%22markerColor%22%3A%20%22blue%22%2C%20%22prefix%22%3A%20%22glyphicon%22%7D%0A%20%20%20%20%20%20%20%20%20%20%20%20%29%3B%0A%20%20%20%20%20%20%20%20%20%20%20%20marker_2f62e6579619440e8c332702bee69616.setIcon%28icon_00aa87fe19084d5da3cfe082638a9b37%29%3B%0A%20%20%20%20%20%20%20%20%0A%20%20%20%20%0A%20%20%20%20%20%20%20%20%20%20%20%20marker_2f62e6579619440e8c332702bee69616.bindTooltip%28%0A%20%20%20%20%20%20%20%20%20%20%20%20%20%20%20%20%60%3Cdiv%3E%0A%20%20%20%20%20%20%20%20%20%20%20%20%20%20%20%20%20%20%20%20%20UBS%201%20SOBRADINHO%20II%0A%20%20%20%20%20%20%20%20%20%20%20%20%20%20%20%20%20%3C/div%3E%60%2C%0A%20%20%20%20%20%20%20%20%20%20%20%20%20%20%20%20%7B%22sticky%22%3A%20true%7D%0A%20%20%20%20%20%20%20%20%20%20%20%20%29%3B%0A%20%20%20%20%20%20%20%20%0A%20%20%20%20%0A%20%20%20%20%20%20%20%20%20%20%20%20var%20marker_e221461ab2be47d18ea2910dab61b8f6%20%3D%20L.marker%28%0A%20%20%20%20%20%20%20%20%20%20%20%20%20%20%20%20%5B-15.634417951107%2C%20-47.816989103953%5D%2C%0A%20%20%20%20%20%20%20%20%20%20%20%20%20%20%20%20%7B%7D%0A%20%20%20%20%20%20%20%20%20%20%20%20%29.addTo%28feature_group_a032285a320245db8b8ffde065bf7bdd%29%3B%0A%20%20%20%20%20%20%20%20%0A%20%20%20%20%0A%20%20%20%20%20%20%20%20%20%20%20%20var%20icon_7adae42d4fc04adcbede452984ab8292%20%3D%20L.AwesomeMarkers.icon%28%0A%20%20%20%20%20%20%20%20%20%20%20%20%20%20%20%20%7B%22extraClasses%22%3A%20%22fa-rotate-0%22%2C%20%22icon%22%3A%20%22info-sign%22%2C%20%22iconColor%22%3A%20%22white%22%2C%20%22markerColor%22%3A%20%22blue%22%2C%20%22prefix%22%3A%20%22glyphicon%22%7D%0A%20%20%20%20%20%20%20%20%20%20%20%20%29%3B%0A%20%20%20%20%20%20%20%20%20%20%20%20marker_e221461ab2be47d18ea2910dab61b8f6.setIcon%28icon_7adae42d4fc04adcbede452984ab8292%29%3B%0A%20%20%20%20%20%20%20%20%0A%20%20%20%20%0A%20%20%20%20%20%20%20%20%20%20%20%20marker_e221461ab2be47d18ea2910dab61b8f6.bindTooltip%28%0A%20%20%20%20%20%20%20%20%20%20%20%20%20%20%20%20%60%3Cdiv%3E%0A%20%20%20%20%20%20%20%20%20%20%20%20%20%20%20%20%20%20%20%20%20UBS%202%20SOBRADINHO%20II%0A%20%20%20%20%20%20%20%20%20%20%20%20%20%20%20%20%20%3C/div%3E%60%2C%0A%20%20%20%20%20%20%20%20%20%20%20%20%20%20%20%20%7B%22sticky%22%3A%20true%7D%0A%20%20%20%20%20%20%20%20%20%20%20%20%29%3B%0A%20%20%20%20%20%20%20%20%0A%20%20%20%20%0A%20%20%20%20%20%20%20%20%20%20%20%20var%20marker_f9aab08ae15d4ddca26a154a276ba82d%20%3D%20L.marker%28%0A%20%20%20%20%20%20%20%20%20%20%20%20%20%20%20%20%5B-15.6458361382578%2C%20-47.8355261858772%5D%2C%0A%20%20%20%20%20%20%20%20%20%20%20%20%20%20%20%20%7B%7D%0A%20%20%20%20%20%20%20%20%20%20%20%20%29.addTo%28feature_group_a032285a320245db8b8ffde065bf7bdd%29%3B%0A%20%20%20%20%20%20%20%20%0A%20%20%20%20%0A%20%20%20%20%20%20%20%20%20%20%20%20var%20icon_ade3b138aca84cb5b216d82f7af4a8ca%20%3D%20L.AwesomeMarkers.icon%28%0A%20%20%20%20%20%20%20%20%20%20%20%20%20%20%20%20%7B%22extraClasses%22%3A%20%22fa-rotate-0%22%2C%20%22icon%22%3A%20%22info-sign%22%2C%20%22iconColor%22%3A%20%22white%22%2C%20%22markerColor%22%3A%20%22blue%22%2C%20%22prefix%22%3A%20%22glyphicon%22%7D%0A%20%20%20%20%20%20%20%20%20%20%20%20%29%3B%0A%20%20%20%20%20%20%20%20%20%20%20%20marker_f9aab08ae15d4ddca26a154a276ba82d.setIcon%28icon_ade3b138aca84cb5b216d82f7af4a8ca%29%3B%0A%20%20%20%20%20%20%20%20%0A%20%20%20%20%0A%20%20%20%20%20%20%20%20%20%20%20%20marker_f9aab08ae15d4ddca26a154a276ba82d.bindTooltip%28%0A%20%20%20%20%20%20%20%20%20%20%20%20%20%20%20%20%60%3Cdiv%3E%0A%20%20%20%20%20%20%20%20%20%20%20%20%20%20%20%20%20%20%20%20%20UBS%204%20SETOR%20DE%20MANSOES%20SOBRADINHO%20II%0A%20%20%20%20%20%20%20%20%20%20%20%20%20%20%20%20%20%3C/div%3E%60%2C%0A%20%20%20%20%20%20%20%20%20%20%20%20%20%20%20%20%7B%22sticky%22%3A%20true%7D%0A%20%20%20%20%20%20%20%20%20%20%20%20%29%3B%0A%20%20%20%20%20%20%20%20%0A%20%20%20%20%0A%20%20%20%20%20%20%20%20%20%20%20%20var%20marker_38cce92aa1c14bd589c764b16544f5ff%20%3D%20L.marker%28%0A%20%20%20%20%20%20%20%20%20%20%20%20%20%20%20%20%5B-15.6299818515778%2C%20-47.8696502685547%5D%2C%0A%20%20%20%20%20%20%20%20%20%20%20%20%20%20%20%20%7B%7D%0A%20%20%20%20%20%20%20%20%20%20%20%20%29.addTo%28feature_group_a032285a320245db8b8ffde065bf7bdd%29%3B%0A%20%20%20%20%20%20%20%20%0A%20%20%20%20%0A%20%20%20%20%20%20%20%20%20%20%20%20var%20icon_5475e449133c40b5984ace48df035d09%20%3D%20L.AwesomeMarkers.icon%28%0A%20%20%20%20%20%20%20%20%20%20%20%20%20%20%20%20%7B%22extraClasses%22%3A%20%22fa-rotate-0%22%2C%20%22icon%22%3A%20%22info-sign%22%2C%20%22iconColor%22%3A%20%22white%22%2C%20%22markerColor%22%3A%20%22blue%22%2C%20%22prefix%22%3A%20%22glyphicon%22%7D%0A%20%20%20%20%20%20%20%20%20%20%20%20%29%3B%0A%20%20%20%20%20%20%20%20%20%20%20%20marker_38cce92aa1c14bd589c764b16544f5ff.setIcon%28icon_5475e449133c40b5984ace48df035d09%29%3B%0A%20%20%20%20%20%20%20%20%0A%20%20%20%20%0A%20%20%20%20%20%20%20%20%20%20%20%20marker_38cce92aa1c14bd589c764b16544f5ff.bindTooltip%28%0A%20%20%20%20%20%20%20%20%20%20%20%20%20%20%20%20%60%3Cdiv%3E%0A%20%20%20%20%20%20%20%20%20%20%20%20%20%20%20%20%20%20%20%20%20UBS%201%20ENGENHO%20VELHO%20FERCAL%0A%20%20%20%20%20%20%20%20%20%20%20%20%20%20%20%20%20%3C/div%3E%60%2C%0A%20%20%20%20%20%20%20%20%20%20%20%20%20%20%20%20%7B%22sticky%22%3A%20true%7D%0A%20%20%20%20%20%20%20%20%20%20%20%20%29%3B%0A%20%20%20%20%20%20%20%20%0A%20%20%20%20%0A%20%20%20%20%20%20%20%20%20%20%20%20var%20marker_fdf04aa8d8294fe98d938be405b4346a%20%3D%20L.marker%28%0A%20%20%20%20%20%20%20%20%20%20%20%20%20%20%20%20%5B-15.7162546971265%2C%20-47.8264424941119%5D%2C%0A%20%20%20%20%20%20%20%20%20%20%20%20%20%20%20%20%7B%7D%0A%20%20%20%20%20%20%20%20%20%20%20%20%29.addTo%28feature_group_a032285a320245db8b8ffde065bf7bdd%29%3B%0A%20%20%20%20%20%20%20%20%0A%20%20%20%20%0A%20%20%20%20%20%20%20%20%20%20%20%20var%20icon_4d8e54336ba14dfbafa32f1b3afce53f%20%3D%20L.AwesomeMarkers.icon%28%0A%20%20%20%20%20%20%20%20%20%20%20%20%20%20%20%20%7B%22extraClasses%22%3A%20%22fa-rotate-0%22%2C%20%22icon%22%3A%20%22info-sign%22%2C%20%22iconColor%22%3A%20%22white%22%2C%20%22markerColor%22%3A%20%22blue%22%2C%20%22prefix%22%3A%20%22glyphicon%22%7D%0A%20%20%20%20%20%20%20%20%20%20%20%20%29%3B%0A%20%20%20%20%20%20%20%20%20%20%20%20marker_fdf04aa8d8294fe98d938be405b4346a.setIcon%28icon_4d8e54336ba14dfbafa32f1b3afce53f%29%3B%0A%20%20%20%20%20%20%20%20%0A%20%20%20%20%0A%20%20%20%20%20%20%20%20%20%20%20%20marker_fdf04aa8d8294fe98d938be405b4346a.bindTooltip%28%0A%20%20%20%20%20%20%20%20%20%20%20%20%20%20%20%20%60%3Cdiv%3E%0A%20%20%20%20%20%20%20%20%20%20%20%20%20%20%20%20%20%20%20%20%20UBS%203%20PLANALTINA%0A%20%20%20%20%20%20%20%20%20%20%20%20%20%20%20%20%20%3C/div%3E%60%2C%0A%20%20%20%20%20%20%20%20%20%20%20%20%20%20%20%20%7B%22sticky%22%3A%20true%7D%0A%20%20%20%20%20%20%20%20%20%20%20%20%29%3B%0A%20%20%20%20%20%20%20%20%0A%20%20%20%20%0A%20%20%20%20%20%20%20%20%20%20%20%20var%20marker_5424fec525954b0ca184f13712d2d12a%20%3D%20L.marker%28%0A%20%20%20%20%20%20%20%20%20%20%20%20%20%20%20%20%5B-15.7162546971265%2C%20-47.8264424941119%5D%2C%0A%20%20%20%20%20%20%20%20%20%20%20%20%20%20%20%20%7B%7D%0A%20%20%20%20%20%20%20%20%20%20%20%20%29.addTo%28feature_group_a032285a320245db8b8ffde065bf7bdd%29%3B%0A%20%20%20%20%20%20%20%20%0A%20%20%20%20%0A%20%20%20%20%20%20%20%20%20%20%20%20var%20icon_4cc24592256c449081991b7148f17c2c%20%3D%20L.AwesomeMarkers.icon%28%0A%20%20%20%20%20%20%20%20%20%20%20%20%20%20%20%20%7B%22extraClasses%22%3A%20%22fa-rotate-0%22%2C%20%22icon%22%3A%20%22info-sign%22%2C%20%22iconColor%22%3A%20%22white%22%2C%20%22markerColor%22%3A%20%22blue%22%2C%20%22prefix%22%3A%20%22glyphicon%22%7D%0A%20%20%20%20%20%20%20%20%20%20%20%20%29%3B%0A%20%20%20%20%20%20%20%20%20%20%20%20marker_5424fec525954b0ca184f13712d2d12a.setIcon%28icon_4cc24592256c449081991b7148f17c2c%29%3B%0A%20%20%20%20%20%20%20%20%0A%20%20%20%20%0A%20%20%20%20%20%20%20%20%20%20%20%20marker_5424fec525954b0ca184f13712d2d12a.bindTooltip%28%0A%20%20%20%20%20%20%20%20%20%20%20%20%20%20%20%20%60%3Cdiv%3E%0A%20%20%20%20%20%20%20%20%20%20%20%20%20%20%20%20%20%20%20%20%20HRPL%0A%20%20%20%20%20%20%20%20%20%20%20%20%20%20%20%20%20%3C/div%3E%60%2C%0A%20%20%20%20%20%20%20%20%20%20%20%20%20%20%20%20%7B%22sticky%22%3A%20true%7D%0A%20%20%20%20%20%20%20%20%20%20%20%20%29%3B%0A%20%20%20%20%20%20%20%20%0A%20%20%20%20%0A%20%20%20%20%20%20%20%20%20%20%20%20var%20marker_92624b101f0e4dc99493330363b83968%20%3D%20L.marker%28%0A%20%20%20%20%20%20%20%20%20%20%20%20%20%20%20%20%5B-15.7162546971265%2C%20-47.8264424941119%5D%2C%0A%20%20%20%20%20%20%20%20%20%20%20%20%20%20%20%20%7B%7D%0A%20%20%20%20%20%20%20%20%20%20%20%20%29.addTo%28feature_group_a032285a320245db8b8ffde065bf7bdd%29%3B%0A%20%20%20%20%20%20%20%20%0A%20%20%20%20%0A%20%20%20%20%20%20%20%20%20%20%20%20var%20icon_263d53a7ad4c4a65812322522e82503d%20%3D%20L.AwesomeMarkers.icon%28%0A%20%20%20%20%20%20%20%20%20%20%20%20%20%20%20%20%7B%22extraClasses%22%3A%20%22fa-rotate-0%22%2C%20%22icon%22%3A%20%22info-sign%22%2C%20%22iconColor%22%3A%20%22white%22%2C%20%22markerColor%22%3A%20%22blue%22%2C%20%22prefix%22%3A%20%22glyphicon%22%7D%0A%20%20%20%20%20%20%20%20%20%20%20%20%29%3B%0A%20%20%20%20%20%20%20%20%20%20%20%20marker_92624b101f0e4dc99493330363b83968.setIcon%28icon_263d53a7ad4c4a65812322522e82503d%29%3B%0A%20%20%20%20%20%20%20%20%0A%20%20%20%20%0A%20%20%20%20%20%20%20%20%20%20%20%20marker_92624b101f0e4dc99493330363b83968.bindTooltip%28%0A%20%20%20%20%20%20%20%20%20%20%20%20%20%20%20%20%60%3Cdiv%3E%0A%20%20%20%20%20%20%20%20%20%20%20%20%20%20%20%20%20%20%20%20%20UBS%2020%20PLANALTINA%0A%20%20%20%20%20%20%20%20%20%20%20%20%20%20%20%20%20%3C/div%3E%60%2C%0A%20%20%20%20%20%20%20%20%20%20%20%20%20%20%20%20%7B%22sticky%22%3A%20true%7D%0A%20%20%20%20%20%20%20%20%20%20%20%20%29%3B%0A%20%20%20%20%20%20%20%20%0A%20%20%20%20%0A%20%20%20%20%20%20%20%20%20%20%20%20var%20marker_c24c45236e9b44ff841a0affa86ab43e%20%3D%20L.marker%28%0A%20%20%20%20%20%20%20%20%20%20%20%20%20%20%20%20%5B-15.7490752375403%2C%20-47.8501003176667%5D%2C%0A%20%20%20%20%20%20%20%20%20%20%20%20%20%20%20%20%7B%7D%0A%20%20%20%20%20%20%20%20%20%20%20%20%29.addTo%28feature_group_a032285a320245db8b8ffde065bf7bdd%29%3B%0A%20%20%20%20%20%20%20%20%0A%20%20%20%20%0A%20%20%20%20%20%20%20%20%20%20%20%20var%20icon_1403fb4da5ed4c77aa966cd88acf1cf6%20%3D%20L.AwesomeMarkers.icon%28%0A%20%20%20%20%20%20%20%20%20%20%20%20%20%20%20%20%7B%22extraClasses%22%3A%20%22fa-rotate-0%22%2C%20%22icon%22%3A%20%22info-sign%22%2C%20%22iconColor%22%3A%20%22white%22%2C%20%22markerColor%22%3A%20%22blue%22%2C%20%22prefix%22%3A%20%22glyphicon%22%7D%0A%20%20%20%20%20%20%20%20%20%20%20%20%29%3B%0A%20%20%20%20%20%20%20%20%20%20%20%20marker_c24c45236e9b44ff841a0affa86ab43e.setIcon%28icon_1403fb4da5ed4c77aa966cd88acf1cf6%29%3B%0A%20%20%20%20%20%20%20%20%0A%20%20%20%20%0A%20%20%20%20%20%20%20%20%20%20%20%20marker_c24c45236e9b44ff841a0affa86ab43e.bindTooltip%28%0A%20%20%20%20%20%20%20%20%20%20%20%20%20%20%20%20%60%3Cdiv%3E%0A%20%20%20%20%20%20%20%20%20%20%20%20%20%20%20%20%20%20%20%20%20UBS%205%20PLANALTINA%0A%20%20%20%20%20%20%20%20%20%20%20%20%20%20%20%20%20%3C/div%3E%60%2C%0A%20%20%20%20%20%20%20%20%20%20%20%20%20%20%20%20%7B%22sticky%22%3A%20true%7D%0A%20%20%20%20%20%20%20%20%20%20%20%20%29%3B%0A%20%20%20%20%20%20%20%20%0A%20%20%20%20%0A%20%20%20%20%20%20%20%20%20%20%20%20var%20marker_953898a5a0494a58ab11b7847dbd2b2e%20%3D%20L.marker%28%0A%20%20%20%20%20%20%20%20%20%20%20%20%20%20%20%20%5B-15.7068990006739%2C%20-47.8499634801125%5D%2C%0A%20%20%20%20%20%20%20%20%20%20%20%20%20%20%20%20%7B%7D%0A%20%20%20%20%20%20%20%20%20%20%20%20%29.addTo%28feature_group_a032285a320245db8b8ffde065bf7bdd%29%3B%0A%20%20%20%20%20%20%20%20%0A%20%20%20%20%0A%20%20%20%20%20%20%20%20%20%20%20%20var%20icon_2b74dc2ce11b415ea59c9f1b8b9fed1b%20%3D%20L.AwesomeMarkers.icon%28%0A%20%20%20%20%20%20%20%20%20%20%20%20%20%20%20%20%7B%22extraClasses%22%3A%20%22fa-rotate-0%22%2C%20%22icon%22%3A%20%22info-sign%22%2C%20%22iconColor%22%3A%20%22white%22%2C%20%22markerColor%22%3A%20%22blue%22%2C%20%22prefix%22%3A%20%22glyphicon%22%7D%0A%20%20%20%20%20%20%20%20%20%20%20%20%29%3B%0A%20%20%20%20%20%20%20%20%20%20%20%20marker_953898a5a0494a58ab11b7847dbd2b2e.setIcon%28icon_2b74dc2ce11b415ea59c9f1b8b9fed1b%29%3B%0A%20%20%20%20%20%20%20%20%0A%20%20%20%20%0A%20%20%20%20%20%20%20%20%20%20%20%20marker_953898a5a0494a58ab11b7847dbd2b2e.bindTooltip%28%0A%20%20%20%20%20%20%20%20%20%20%20%20%20%20%20%20%60%3Cdiv%3E%0A%20%20%20%20%20%20%20%20%20%20%20%20%20%20%20%20%20%20%20%20%20UBS%204%20PLANALTINA%0A%20%20%20%20%20%20%20%20%20%20%20%20%20%20%20%20%20%3C/div%3E%60%2C%0A%20%20%20%20%20%20%20%20%20%20%20%20%20%20%20%20%7B%22sticky%22%3A%20true%7D%0A%20%20%20%20%20%20%20%20%20%20%20%20%29%3B%0A%20%20%20%20%20%20%20%20%0A%20%20%20%20%0A%20%20%20%20%20%20%20%20%20%20%20%20var%20marker_c3b592718d7d49e58e3afd6aedf1fda5%20%3D%20L.marker%28%0A%20%20%20%20%20%20%20%20%20%20%20%20%20%20%20%20%5B-15.7986259460449%2C%20-47.8854904174805%5D%2C%0A%20%20%20%20%20%20%20%20%20%20%20%20%20%20%20%20%7B%7D%0A%20%20%20%20%20%20%20%20%20%20%20%20%29.addTo%28feature_group_a032285a320245db8b8ffde065bf7bdd%29%3B%0A%20%20%20%20%20%20%20%20%0A%20%20%20%20%0A%20%20%20%20%20%20%20%20%20%20%20%20var%20icon_91b2ab22164c48ec9a3089aab41c4719%20%3D%20L.AwesomeMarkers.icon%28%0A%20%20%20%20%20%20%20%20%20%20%20%20%20%20%20%20%7B%22extraClasses%22%3A%20%22fa-rotate-0%22%2C%20%22icon%22%3A%20%22info-sign%22%2C%20%22iconColor%22%3A%20%22white%22%2C%20%22markerColor%22%3A%20%22blue%22%2C%20%22prefix%22%3A%20%22glyphicon%22%7D%0A%20%20%20%20%20%20%20%20%20%20%20%20%29%3B%0A%20%20%20%20%20%20%20%20%20%20%20%20marker_c3b592718d7d49e58e3afd6aedf1fda5.setIcon%28icon_91b2ab22164c48ec9a3089aab41c4719%29%3B%0A%20%20%20%20%20%20%20%20%0A%20%20%20%20%0A%20%20%20%20%20%20%20%20%20%20%20%20marker_c3b592718d7d49e58e3afd6aedf1fda5.bindTooltip%28%0A%20%20%20%20%20%20%20%20%20%20%20%20%20%20%20%20%60%3Cdiv%3E%0A%20%20%20%20%20%20%20%20%20%20%20%20%20%20%20%20%20%20%20%20%20HOSPITAL%20UNIVERSITARIO%20DE%20BRASILIA%0A%20%20%20%20%20%20%20%20%20%20%20%20%20%20%20%20%20%3C/div%3E%60%2C%0A%20%20%20%20%20%20%20%20%20%20%20%20%20%20%20%20%7B%22sticky%22%3A%20true%7D%0A%20%20%20%20%20%20%20%20%20%20%20%20%29%3B%0A%20%20%20%20%20%20%20%20%0A%20%20%20%20%0A%20%20%20%20%20%20%20%20%20%20%20%20var%20marker_9b838d6e1bfe4a1c8cde891004269865%20%3D%20L.marker%28%0A%20%20%20%20%20%20%20%20%20%20%20%20%20%20%20%20%5B-15.7986259460449%2C%20-47.8854904174805%5D%2C%0A%20%20%20%20%20%20%20%20%20%20%20%20%20%20%20%20%7B%7D%0A%20%20%20%20%20%20%20%20%20%20%20%20%29.addTo%28feature_group_a032285a320245db8b8ffde065bf7bdd%29%3B%0A%20%20%20%20%20%20%20%20%0A%20%20%20%20%0A%20%20%20%20%20%20%20%20%20%20%20%20var%20icon_657558dc082243f2a757c04340070687%20%3D%20L.AwesomeMarkers.icon%28%0A%20%20%20%20%20%20%20%20%20%20%20%20%20%20%20%20%7B%22extraClasses%22%3A%20%22fa-rotate-0%22%2C%20%22icon%22%3A%20%22info-sign%22%2C%20%22iconColor%22%3A%20%22white%22%2C%20%22markerColor%22%3A%20%22blue%22%2C%20%22prefix%22%3A%20%22glyphicon%22%7D%0A%20%20%20%20%20%20%20%20%20%20%20%20%29%3B%0A%20%20%20%20%20%20%20%20%20%20%20%20marker_9b838d6e1bfe4a1c8cde891004269865.setIcon%28icon_657558dc082243f2a757c04340070687%29%3B%0A%20%20%20%20%20%20%20%20%0A%20%20%20%20%0A%20%20%20%20%20%20%20%20%20%20%20%20marker_9b838d6e1bfe4a1c8cde891004269865.bindTooltip%28%0A%20%20%20%20%20%20%20%20%20%20%20%20%20%20%20%20%60%3Cdiv%3E%0A%20%20%20%20%20%20%20%20%20%20%20%20%20%20%20%20%20%20%20%20%20HOSPITAL%20NAVAL%20DE%20BRASILIA%0A%20%20%20%20%20%20%20%20%20%20%20%20%20%20%20%20%20%3C/div%3E%60%2C%0A%20%20%20%20%20%20%20%20%20%20%20%20%20%20%20%20%7B%22sticky%22%3A%20true%7D%0A%20%20%20%20%20%20%20%20%20%20%20%20%29%3B%0A%20%20%20%20%20%20%20%20%0A%20%20%20%20%0A%20%20%20%20%20%20%20%20%20%20%20%20var%20marker_d3eee0180b2346158f3fd67b59df7448%20%3D%20L.marker%28%0A%20%20%20%20%20%20%20%20%20%20%20%20%20%20%20%20%5B-15.7890137734814%2C%20-47.9387939667033%5D%2C%0A%20%20%20%20%20%20%20%20%20%20%20%20%20%20%20%20%7B%7D%0A%20%20%20%20%20%20%20%20%20%20%20%20%29.addTo%28feature_group_a032285a320245db8b8ffde065bf7bdd%29%3B%0A%20%20%20%20%20%20%20%20%0A%20%20%20%20%0A%20%20%20%20%20%20%20%20%20%20%20%20var%20icon_257476f0fc074ace8383d944f0b86592%20%3D%20L.AwesomeMarkers.icon%28%0A%20%20%20%20%20%20%20%20%20%20%20%20%20%20%20%20%7B%22extraClasses%22%3A%20%22fa-rotate-0%22%2C%20%22icon%22%3A%20%22info-sign%22%2C%20%22iconColor%22%3A%20%22white%22%2C%20%22markerColor%22%3A%20%22blue%22%2C%20%22prefix%22%3A%20%22glyphicon%22%7D%0A%20%20%20%20%20%20%20%20%20%20%20%20%29%3B%0A%20%20%20%20%20%20%20%20%20%20%20%20marker_d3eee0180b2346158f3fd67b59df7448.setIcon%28icon_257476f0fc074ace8383d944f0b86592%29%3B%0A%20%20%20%20%20%20%20%20%0A%20%20%20%20%0A%20%20%20%20%20%20%20%20%20%20%20%20marker_d3eee0180b2346158f3fd67b59df7448.bindTooltip%28%0A%20%20%20%20%20%20%20%20%20%20%20%20%20%20%20%20%60%3Cdiv%3E%0A%20%20%20%20%20%20%20%20%20%20%20%20%20%20%20%20%20%20%20%20%20HOSPITAL%20MILITAR%20DE%20AREA%20DE%20BRASILIA%0A%20%20%20%20%20%20%20%20%20%20%20%20%20%20%20%20%20%3C/div%3E%60%2C%0A%20%20%20%20%20%20%20%20%20%20%20%20%20%20%20%20%7B%22sticky%22%3A%20true%7D%0A%20%20%20%20%20%20%20%20%20%20%20%20%29%3B%0A%20%20%20%20%20%20%20%20%0A%20%20%20%20%0A%20%20%20%20%20%20%20%20%20%20%20%20var%20marker_1fcc3518e4334732af5635ae891d5bd4%20%3D%20L.marker%28%0A%20%20%20%20%20%20%20%20%20%20%20%20%20%20%20%20%5B-15.7894018982093%2C%20-47.9296400060204%5D%2C%0A%20%20%20%20%20%20%20%20%20%20%20%20%20%20%20%20%7B%7D%0A%20%20%20%20%20%20%20%20%20%20%20%20%29.addTo%28feature_group_a032285a320245db8b8ffde065bf7bdd%29%3B%0A%20%20%20%20%20%20%20%20%0A%20%20%20%20%0A%20%20%20%20%20%20%20%20%20%20%20%20var%20icon_37789361073b4ce48d18c772ff75d85a%20%3D%20L.AwesomeMarkers.icon%28%0A%20%20%20%20%20%20%20%20%20%20%20%20%20%20%20%20%7B%22extraClasses%22%3A%20%22fa-rotate-0%22%2C%20%22icon%22%3A%20%22info-sign%22%2C%20%22iconColor%22%3A%20%22white%22%2C%20%22markerColor%22%3A%20%22blue%22%2C%20%22prefix%22%3A%20%22glyphicon%22%7D%0A%20%20%20%20%20%20%20%20%20%20%20%20%29%3B%0A%20%20%20%20%20%20%20%20%20%20%20%20marker_1fcc3518e4334732af5635ae891d5bd4.setIcon%28icon_37789361073b4ce48d18c772ff75d85a%29%3B%0A%20%20%20%20%20%20%20%20%0A%20%20%20%20%0A%20%20%20%20%20%20%20%20%20%20%20%20marker_1fcc3518e4334732af5635ae891d5bd4.bindTooltip%28%0A%20%20%20%20%20%20%20%20%20%20%20%20%20%20%20%20%60%3Cdiv%3E%0A%20%20%20%20%20%20%20%20%20%20%20%20%20%20%20%20%20%20%20%20%20HFA%0A%20%20%20%20%20%20%20%20%20%20%20%20%20%20%20%20%20%3C/div%3E%60%2C%0A%20%20%20%20%20%20%20%20%20%20%20%20%20%20%20%20%7B%22sticky%22%3A%20true%7D%0A%20%20%20%20%20%20%20%20%20%20%20%20%29%3B%0A%20%20%20%20%20%20%20%20%0A%20%20%20%20%0A%20%20%20%20%20%20%20%20%20%20%20%20var%20marker_2034f29f54a54a51bce5656cb9855626%20%3D%20L.marker%28%0A%20%20%20%20%20%20%20%20%20%20%20%20%20%20%20%20%5B-15.8715286254883%2C%20-47.9052906036377%5D%2C%0A%20%20%20%20%20%20%20%20%20%20%20%20%20%20%20%20%7B%7D%0A%20%20%20%20%20%20%20%20%20%20%20%20%29.addTo%28feature_group_a032285a320245db8b8ffde065bf7bdd%29%3B%0A%20%20%20%20%20%20%20%20%0A%20%20%20%20%0A%20%20%20%20%20%20%20%20%20%20%20%20var%20icon_3ec6878585484ceb9dae1e72c2fc7072%20%3D%20L.AwesomeMarkers.icon%28%0A%20%20%20%20%20%20%20%20%20%20%20%20%20%20%20%20%7B%22extraClasses%22%3A%20%22fa-rotate-0%22%2C%20%22icon%22%3A%20%22info-sign%22%2C%20%22iconColor%22%3A%20%22white%22%2C%20%22markerColor%22%3A%20%22blue%22%2C%20%22prefix%22%3A%20%22glyphicon%22%7D%0A%20%20%20%20%20%20%20%20%20%20%20%20%29%3B%0A%20%20%20%20%20%20%20%20%20%20%20%20marker_2034f29f54a54a51bce5656cb9855626.setIcon%28icon_3ec6878585484ceb9dae1e72c2fc7072%29%3B%0A%20%20%20%20%20%20%20%20%0A%20%20%20%20%0A%20%20%20%20%20%20%20%20%20%20%20%20marker_2034f29f54a54a51bce5656cb9855626.bindTooltip%28%0A%20%20%20%20%20%20%20%20%20%20%20%20%20%20%20%20%60%3Cdiv%3E%0A%20%20%20%20%20%20%20%20%20%20%20%20%20%20%20%20%20%20%20%20%20HOSPITAL%20DE%20FORCA%20AEREA%20DE%20BRASILIA%20HFAB%0A%20%20%20%20%20%20%20%20%20%20%20%20%20%20%20%20%20%3C/div%3E%60%2C%0A%20%20%20%20%20%20%20%20%20%20%20%20%20%20%20%20%7B%22sticky%22%3A%20true%7D%0A%20%20%20%20%20%20%20%20%20%20%20%20%29%3B%0A%20%20%20%20%20%20%20%20%0A%20%20%20%20%0A%20%20%20%20%20%20%20%20%20%20%20%20var%20marker_3fec9f72207d473eafcc00ae277cd65e%20%3D%20L.marker%28%0A%20%20%20%20%20%20%20%20%20%20%20%20%20%20%20%20%5B-15.8004236221313%2C%20-47.8894488016764%5D%2C%0A%20%20%20%20%20%20%20%20%20%20%20%20%20%20%20%20%7B%7D%0A%20%20%20%20%20%20%20%20%20%20%20%20%29.addTo%28feature_group_a032285a320245db8b8ffde065bf7bdd%29%3B%0A%20%20%20%20%20%20%20%20%0A%20%20%20%20%0A%20%20%20%20%20%20%20%20%20%20%20%20var%20icon_eb952d1abb254432b1cfedefdb4c2860%20%3D%20L.AwesomeMarkers.icon%28%0A%20%20%20%20%20%20%20%20%20%20%20%20%20%20%20%20%7B%22extraClasses%22%3A%20%22fa-rotate-0%22%2C%20%22icon%22%3A%20%22info-sign%22%2C%20%22iconColor%22%3A%20%22white%22%2C%20%22markerColor%22%3A%20%22blue%22%2C%20%22prefix%22%3A%20%22glyphicon%22%7D%0A%20%20%20%20%20%20%20%20%20%20%20%20%29%3B%0A%20%20%20%20%20%20%20%20%20%20%20%20marker_3fec9f72207d473eafcc00ae277cd65e.setIcon%28icon_eb952d1abb254432b1cfedefdb4c2860%29%3B%0A%20%20%20%20%20%20%20%20%0A%20%20%20%20%0A%20%20%20%20%20%20%20%20%20%20%20%20marker_3fec9f72207d473eafcc00ae277cd65e.bindTooltip%28%0A%20%20%20%20%20%20%20%20%20%20%20%20%20%20%20%20%60%3Cdiv%3E%0A%20%20%20%20%20%20%20%20%20%20%20%20%20%20%20%20%20%20%20%20%20HOSPITAL%20DE%20BASE%20DO%20DISTRITO%20FEDERAL%0A%20%20%20%20%20%20%20%20%20%20%20%20%20%20%20%20%20%3C/div%3E%60%2C%0A%20%20%20%20%20%20%20%20%20%20%20%20%20%20%20%20%7B%22sticky%22%3A%20true%7D%0A%20%20%20%20%20%20%20%20%20%20%20%20%29%3B%0A%20%20%20%20%20%20%20%20%0A%20%20%20%20%0A%20%20%20%20%20%20%20%20%20%20%20%20var%20marker_66754a6e7845413a9115bb0403dfaaee%20%3D%20L.marker%28%0A%20%20%20%20%20%20%20%20%20%20%20%20%20%20%20%20%5B-16.0186676806714%2C%20-48.0180818029197%5D%2C%0A%20%20%20%20%20%20%20%20%20%20%20%20%20%20%20%20%7B%7D%0A%20%20%20%20%20%20%20%20%20%20%20%20%29.addTo%28feature_group_a032285a320245db8b8ffde065bf7bdd%29%3B%0A%20%20%20%20%20%20%20%20%0A%20%20%20%20%0A%20%20%20%20%20%20%20%20%20%20%20%20var%20icon_0e8dffe1e5e7401b8fc05848e182fd64%20%3D%20L.AwesomeMarkers.icon%28%0A%20%20%20%20%20%20%20%20%20%20%20%20%20%20%20%20%7B%22extraClasses%22%3A%20%22fa-rotate-0%22%2C%20%22icon%22%3A%20%22info-sign%22%2C%20%22iconColor%22%3A%20%22white%22%2C%20%22markerColor%22%3A%20%22blue%22%2C%20%22prefix%22%3A%20%22glyphicon%22%7D%0A%20%20%20%20%20%20%20%20%20%20%20%20%29%3B%0A%20%20%20%20%20%20%20%20%20%20%20%20marker_66754a6e7845413a9115bb0403dfaaee.setIcon%28icon_0e8dffe1e5e7401b8fc05848e182fd64%29%3B%0A%20%20%20%20%20%20%20%20%0A%20%20%20%20%0A%20%20%20%20%20%20%20%20%20%20%20%20marker_66754a6e7845413a9115bb0403dfaaee.bindTooltip%28%0A%20%20%20%20%20%20%20%20%20%20%20%20%20%20%20%20%60%3Cdiv%3E%0A%20%20%20%20%20%20%20%20%20%20%20%20%20%20%20%20%20%20%20%20%20HRSM%0A%20%20%20%20%20%20%20%20%20%20%20%20%20%20%20%20%20%3C/div%3E%60%2C%0A%20%20%20%20%20%20%20%20%20%20%20%20%20%20%20%20%7B%22sticky%22%3A%20true%7D%0A%20%20%20%20%20%20%20%20%20%20%20%20%29%3B%0A%20%20%20%20%20%20%20%20%0A%20%20%20%20%0A%20%20%20%20%20%20%20%20%20%20%20%20var%20marker_6f3dd0398795402e86c05b343c174cc8%20%3D%20L.marker%28%0A%20%20%20%20%20%20%20%20%20%20%20%20%20%20%20%20%5B-15.6859747079703%2C%20-47.9080584599422%5D%2C%0A%20%20%20%20%20%20%20%20%20%20%20%20%20%20%20%20%7B%7D%0A%20%20%20%20%20%20%20%20%20%20%20%20%29.addTo%28feature_group_a032285a320245db8b8ffde065bf7bdd%29%3B%0A%20%20%20%20%20%20%20%20%0A%20%20%20%20%0A%20%20%20%20%20%20%20%20%20%20%20%20var%20icon_b3a8b6e201624f54a8bab20b350f4da9%20%3D%20L.AwesomeMarkers.icon%28%0A%20%20%20%20%20%20%20%20%20%20%20%20%20%20%20%20%7B%22extraClasses%22%3A%20%22fa-rotate-0%22%2C%20%22icon%22%3A%20%22info-sign%22%2C%20%22iconColor%22%3A%20%22white%22%2C%20%22markerColor%22%3A%20%22blue%22%2C%20%22prefix%22%3A%20%22glyphicon%22%7D%0A%20%20%20%20%20%20%20%20%20%20%20%20%29%3B%0A%20%20%20%20%20%20%20%20%20%20%20%20marker_6f3dd0398795402e86c05b343c174cc8.setIcon%28icon_b3a8b6e201624f54a8bab20b350f4da9%29%3B%0A%20%20%20%20%20%20%20%20%0A%20%20%20%20%0A%20%20%20%20%20%20%20%20%20%20%20%20marker_6f3dd0398795402e86c05b343c174cc8.bindTooltip%28%0A%20%20%20%20%20%20%20%20%20%20%20%20%20%20%20%20%60%3Cdiv%3E%0A%20%20%20%20%20%20%20%20%20%20%20%20%20%20%20%20%20%20%20%20%20HRS%0A%20%20%20%20%20%20%20%20%20%20%20%20%20%20%20%20%20%3C/div%3E%60%2C%0A%20%20%20%20%20%20%20%20%20%20%20%20%20%20%20%20%7B%22sticky%22%3A%20true%7D%0A%20%20%20%20%20%20%20%20%20%20%20%20%29%3B%0A%20%20%20%20%20%20%20%20%0A%20%20%20%20%0A%20%20%20%20%20%20%20%20%20%20%20%20var%20feature_group_1bebbda6593a4ae392887e4fe810cd65%20%3D%20L.featureGroup%28%0A%20%20%20%20%20%20%20%20%20%20%20%20%20%20%20%20%7B%7D%0A%20%20%20%20%20%20%20%20%20%20%20%20%29.addTo%28map_43abfeea223a455a923fc11dfc0b87ad%29%3B%0A%20%20%20%20%20%20%20%20%0A%20%20%20%20%0A%20%20%20%20%20%20%20%20%20%20%20%20var%20marker_d1b84d31b7f44b4bba71f3a3625e0d44%20%3D%20L.marker%28%0A%20%20%20%20%20%20%20%20%20%20%20%20%20%20%20%20%5B-15.8221045703423%2C%20-47.8915749526605%5D%2C%0A%20%20%20%20%20%20%20%20%20%20%20%20%20%20%20%20%7B%7D%0A%20%20%20%20%20%20%20%20%20%20%20%20%29.addTo%28feature_group_1bebbda6593a4ae392887e4fe810cd65%29%3B%0A%20%20%20%20%20%20%20%20%0A%20%20%20%20%0A%20%20%20%20%20%20%20%20%20%20%20%20var%20icon_d85a725d268f4372b9b5fd5a18a2761d%20%3D%20L.AwesomeMarkers.icon%28%0A%20%20%20%20%20%20%20%20%20%20%20%20%20%20%20%20%7B%22extraClasses%22%3A%20%22fa-rotate-0%22%2C%20%22icon%22%3A%20%22info-sign%22%2C%20%22iconColor%22%3A%20%22white%22%2C%20%22markerColor%22%3A%20%22red%22%2C%20%22prefix%22%3A%20%22glyphicon%22%7D%0A%20%20%20%20%20%20%20%20%20%20%20%20%29%3B%0A%20%20%20%20%20%20%20%20%20%20%20%20marker_d1b84d31b7f44b4bba71f3a3625e0d44.setIcon%28icon_d85a725d268f4372b9b5fd5a18a2761d%29%3B%0A%20%20%20%20%20%20%20%20%0A%20%20%20%20%0A%20%20%20%20%20%20%20%20%20%20%20%20marker_d1b84d31b7f44b4bba71f3a3625e0d44.bindTooltip%28%0A%20%20%20%20%20%20%20%20%20%20%20%20%20%20%20%20%60%3Cdiv%3E%0A%20%20%20%20%20%20%20%20%20%20%20%20%20%20%20%20%20%20%20%20%20UBS%2001%20ASA%20SUL%0A%20%20%20%20%20%20%20%20%20%20%20%20%20%20%20%20%20%3C/div%3E%60%2C%0A%20%20%20%20%20%20%20%20%20%20%20%20%20%20%20%20%7B%22sticky%22%3A%20true%7D%0A%20%20%20%20%20%20%20%20%20%20%20%20%29%3B%0A%20%20%20%20%20%20%20%20%0A%20%20%20%20%0A%20%20%20%20%20%20%20%20%20%20%20%20var%20marker_277a1b514b0a477699d96391ffad99db%20%3D%20L.marker%28%0A%20%20%20%20%20%20%20%20%20%20%20%20%20%20%20%20%5B-15.7768950118799%2C%20-47.9757042480821%5D%2C%0A%20%20%20%20%20%20%20%20%20%20%20%20%20%20%20%20%7B%7D%0A%20%20%20%20%20%20%20%20%20%20%20%20%29.addTo%28feature_group_1bebbda6593a4ae392887e4fe810cd65%29%3B%0A%20%20%20%20%20%20%20%20%0A%20%20%20%20%0A%20%20%20%20%20%20%20%20%20%20%20%20var%20icon_a827c4f523b44bc2ac5f5999905658d7%20%3D%20L.AwesomeMarkers.icon%28%0A%20%20%20%20%20%20%20%20%20%20%20%20%20%20%20%20%7B%22extraClasses%22%3A%20%22fa-rotate-0%22%2C%20%22icon%22%3A%20%22info-sign%22%2C%20%22iconColor%22%3A%20%22white%22%2C%20%22markerColor%22%3A%20%22red%22%2C%20%22prefix%22%3A%20%22glyphicon%22%7D%0A%20%20%20%20%20%20%20%20%20%20%20%20%29%3B%0A%20%20%20%20%20%20%20%20%20%20%20%20marker_277a1b514b0a477699d96391ffad99db.setIcon%28icon_a827c4f523b44bc2ac5f5999905658d7%29%3B%0A%20%20%20%20%20%20%20%20%0A%20%20%20%20%0A%20%20%20%20%20%20%20%20%20%20%20%20marker_277a1b514b0a477699d96391ffad99db.bindTooltip%28%0A%20%20%20%20%20%20%20%20%20%20%20%20%20%20%20%20%60%3Cdiv%3E%0A%20%20%20%20%20%20%20%20%20%20%20%20%20%20%20%20%20%20%20%20%20UBS%2001%20VICENTE%20PIRES%0A%20%20%20%20%20%20%20%20%20%20%20%20%20%20%20%20%20%3C/div%3E%60%2C%0A%20%20%20%20%20%20%20%20%20%20%20%20%20%20%20%20%7B%22sticky%22%3A%20true%7D%0A%20%20%20%20%20%20%20%20%20%20%20%20%29%3B%0A%20%20%20%20%20%20%20%20%0A%20%20%20%20%0A%20%20%20%20%20%20%20%20%20%20%20%20var%20marker_f45e424dbe89412eab0987f03762bd46%20%3D%20L.marker%28%0A%20%20%20%20%20%20%20%20%20%20%20%20%20%20%20%20%5B-15.7890137734814%2C%20-47.9387939667033%5D%2C%0A%20%20%20%20%20%20%20%20%20%20%20%20%20%20%20%20%7B%7D%0A%20%20%20%20%20%20%20%20%20%20%20%20%29.addTo%28feature_group_1bebbda6593a4ae392887e4fe810cd65%29%3B%0A%20%20%20%20%20%20%20%20%0A%20%20%20%20%0A%20%20%20%20%20%20%20%20%20%20%20%20var%20icon_e174c79f64544bf4b8c9b58a3191e3fe%20%3D%20L.AwesomeMarkers.icon%28%0A%20%20%20%20%20%20%20%20%20%20%20%20%20%20%20%20%7B%22extraClasses%22%3A%20%22fa-rotate-0%22%2C%20%22icon%22%3A%20%22info-sign%22%2C%20%22iconColor%22%3A%20%22white%22%2C%20%22markerColor%22%3A%20%22red%22%2C%20%22prefix%22%3A%20%22glyphicon%22%7D%0A%20%20%20%20%20%20%20%20%20%20%20%20%29%3B%0A%20%20%20%20%20%20%20%20%20%20%20%20marker_f45e424dbe89412eab0987f03762bd46.setIcon%28icon_e174c79f64544bf4b8c9b58a3191e3fe%29%3B%0A%20%20%20%20%20%20%20%20%0A%20%20%20%20%0A%20%20%20%20%20%20%20%20%20%20%20%20marker_f45e424dbe89412eab0987f03762bd46.bindTooltip%28%0A%20%20%20%20%20%20%20%20%20%20%20%20%20%20%20%20%60%3Cdiv%3E%0A%20%20%20%20%20%20%20%20%20%20%20%20%20%20%20%20%20%20%20%20%20HOSPITAL%20MILITAR%20DE%20AREA%20DE%20BRASILIA%0A%20%20%20%20%20%20%20%20%20%20%20%20%20%20%20%20%20%3C/div%3E%60%2C%0A%20%20%20%20%20%20%20%20%20%20%20%20%20%20%20%20%7B%22sticky%22%3A%20true%7D%0A%20%20%20%20%20%20%20%20%20%20%20%20%29%3B%0A%20%20%20%20%20%20%20%20%0A%20%20%20%20%0A%20%20%20%20%20%20%20%20%20%20%20%20var%20marker_6c6aa97777ea4626be6d405f60a91b61%20%3D%20L.marker%28%0A%20%20%20%20%20%20%20%20%20%20%20%20%20%20%20%20%5B-15.747386932373%2C%20-47.8911753760444%5D%2C%0A%20%20%20%20%20%20%20%20%20%20%20%20%20%20%20%20%7B%7D%0A%20%20%20%20%20%20%20%20%20%20%20%20%29.addTo%28feature_group_1bebbda6593a4ae392887e4fe810cd65%29%3B%0A%20%20%20%20%20%20%20%20%0A%20%20%20%20%0A%20%20%20%20%20%20%20%20%20%20%20%20var%20icon_0456b402a6fc464191cf5bc755317107%20%3D%20L.AwesomeMarkers.icon%28%0A%20%20%20%20%20%20%20%20%20%20%20%20%20%20%20%20%7B%22extraClasses%22%3A%20%22fa-rotate-0%22%2C%20%22icon%22%3A%20%22info-sign%22%2C%20%22iconColor%22%3A%20%22white%22%2C%20%22markerColor%22%3A%20%22red%22%2C%20%22prefix%22%3A%20%22glyphicon%22%7D%0A%20%20%20%20%20%20%20%20%20%20%20%20%29%3B%0A%20%20%20%20%20%20%20%20%20%20%20%20marker_6c6aa97777ea4626be6d405f60a91b61.setIcon%28icon_0456b402a6fc464191cf5bc755317107%29%3B%0A%20%20%20%20%20%20%20%20%0A%20%20%20%20%0A%20%20%20%20%20%20%20%20%20%20%20%20marker_6c6aa97777ea4626be6d405f60a91b61.bindTooltip%28%0A%20%20%20%20%20%20%20%20%20%20%20%20%20%20%20%20%60%3Cdiv%3E%0A%20%20%20%20%20%20%20%20%20%20%20%20%20%20%20%20%20%20%20%20%20UBS%202%20ASA%20NORTE%0A%20%20%20%20%20%20%20%20%20%20%20%20%20%20%20%20%20%3C/div%3E%60%2C%0A%20%20%20%20%20%20%20%20%20%20%20%20%20%20%20%20%7B%22sticky%22%3A%20true%7D%0A%20%20%20%20%20%20%20%20%20%20%20%20%29%3B%0A%20%20%20%20%20%20%20%20%0A%20%20%20%20%0A%20%20%20%20%20%20%20%20%20%20%20%20var%20marker_0899d9b3942145e9a35cd8445a790142%20%3D%20L.marker%28%0A%20%20%20%20%20%20%20%20%20%20%20%20%20%20%20%20%5B-15.6692689678125%2C%20-47.8025432385896%5D%2C%0A%20%20%20%20%20%20%20%20%20%20%20%20%20%20%20%20%7B%7D%0A%20%20%20%20%20%20%20%20%20%20%20%20%29.addTo%28feature_group_1bebbda6593a4ae392887e4fe810cd65%29%3B%0A%20%20%20%20%20%20%20%20%0A%20%20%20%20%0A%20%20%20%20%20%20%20%20%20%20%20%20var%20icon_cdcebd2164834e1a883ce6b631ef4b6d%20%3D%20L.AwesomeMarkers.icon%28%0A%20%20%20%20%20%20%20%20%20%20%20%20%20%20%20%20%7B%22extraClasses%22%3A%20%22fa-rotate-0%22%2C%20%22icon%22%3A%20%22info-sign%22%2C%20%22iconColor%22%3A%20%22white%22%2C%20%22markerColor%22%3A%20%22red%22%2C%20%22prefix%22%3A%20%22glyphicon%22%7D%0A%20%20%20%20%20%20%20%20%20%20%20%20%29%3B%0A%20%20%20%20%20%20%20%20%20%20%20%20marker_0899d9b3942145e9a35cd8445a790142.setIcon%28icon_cdcebd2164834e1a883ce6b631ef4b6d%29%3B%0A%20%20%20%20%20%20%20%20%0A%20%20%20%20%0A%20%20%20%20%20%20%20%20%20%20%20%20marker_0899d9b3942145e9a35cd8445a790142.bindTooltip%28%0A%20%20%20%20%20%20%20%20%20%20%20%20%20%20%20%20%60%3Cdiv%3E%0A%20%20%20%20%20%20%20%20%20%20%20%20%20%20%20%20%20%20%20%20%20UBS%201%20SOBRADINHO%0A%20%20%20%20%20%20%20%20%20%20%20%20%20%20%20%20%20%3C/div%3E%60%2C%0A%20%20%20%20%20%20%20%20%20%20%20%20%20%20%20%20%7B%22sticky%22%3A%20true%7D%0A%20%20%20%20%20%20%20%20%20%20%20%20%29%3B%0A%20%20%20%20%20%20%20%20%0A%20%20%20%20%0A%20%20%20%20%20%20%20%20%20%20%20%20var%20marker_6a91406ec47a4e6482e28fe02e7732fc%20%3D%20L.marker%28%0A%20%20%20%20%20%20%20%20%20%20%20%20%20%20%20%20%5B-15.8265664600191%2C%20-48.0745433262416%5D%2C%0A%20%20%20%20%20%20%20%20%20%20%20%20%20%20%20%20%7B%7D%0A%20%20%20%20%20%20%20%20%20%20%20%20%29.addTo%28feature_group_1bebbda6593a4ae392887e4fe810cd65%29%3B%0A%20%20%20%20%20%20%20%20%0A%20%20%20%20%0A%20%20%20%20%20%20%20%20%20%20%20%20var%20icon_b99bdf70443745aa8cd6518935a1848b%20%3D%20L.AwesomeMarkers.icon%28%0A%20%20%20%20%20%20%20%20%20%20%20%20%20%20%20%20%7B%22extraClasses%22%3A%20%22fa-rotate-0%22%2C%20%22icon%22%3A%20%22info-sign%22%2C%20%22iconColor%22%3A%20%22white%22%2C%20%22markerColor%22%3A%20%22red%22%2C%20%22prefix%22%3A%20%22glyphicon%22%7D%0A%20%20%20%20%20%20%20%20%20%20%20%20%29%3B%0A%20%20%20%20%20%20%20%20%20%20%20%20marker_6a91406ec47a4e6482e28fe02e7732fc.setIcon%28icon_b99bdf70443745aa8cd6518935a1848b%29%3B%0A%20%20%20%20%20%20%20%20%0A%20%20%20%20%0A%20%20%20%20%20%20%20%20%20%20%20%20marker_6a91406ec47a4e6482e28fe02e7732fc.bindTooltip%28%0A%20%20%20%20%20%20%20%20%20%20%20%20%20%20%20%20%60%3Cdiv%3E%0A%20%20%20%20%20%20%20%20%20%20%20%20%20%20%20%20%20%20%20%20%20UBS%2005%20TAGUATINGA%0A%20%20%20%20%20%20%20%20%20%20%20%20%20%20%20%20%20%3C/div%3E%60%2C%0A%20%20%20%20%20%20%20%20%20%20%20%20%20%20%20%20%7B%22sticky%22%3A%20true%7D%0A%20%20%20%20%20%20%20%20%20%20%20%20%29%3B%0A%20%20%20%20%20%20%20%20%0A%20%20%20%20%0A%20%20%20%20%20%20%20%20%20%20%20%20var%20marker_90d32b2af6c3447d80de1301fe1fb31d%20%3D%20L.marker%28%0A%20%20%20%20%20%20%20%20%20%20%20%20%20%20%20%20%5B-15.8265664600191%2C%20-48.0745433262416%5D%2C%0A%20%20%20%20%20%20%20%20%20%20%20%20%20%20%20%20%7B%7D%0A%20%20%20%20%20%20%20%20%20%20%20%20%29.addTo%28feature_group_1bebbda6593a4ae392887e4fe810cd65%29%3B%0A%20%20%20%20%20%20%20%20%0A%20%20%20%20%0A%20%20%20%20%20%20%20%20%20%20%20%20var%20icon_800327ca27e0450590ed11a89a964782%20%3D%20L.AwesomeMarkers.icon%28%0A%20%20%20%20%20%20%20%20%20%20%20%20%20%20%20%20%7B%22extraClasses%22%3A%20%22fa-rotate-0%22%2C%20%22icon%22%3A%20%22info-sign%22%2C%20%22iconColor%22%3A%20%22white%22%2C%20%22markerColor%22%3A%20%22red%22%2C%20%22prefix%22%3A%20%22glyphicon%22%7D%0A%20%20%20%20%20%20%20%20%20%20%20%20%29%3B%0A%20%20%20%20%20%20%20%20%20%20%20%20marker_90d32b2af6c3447d80de1301fe1fb31d.setIcon%28icon_800327ca27e0450590ed11a89a964782%29%3B%0A%20%20%20%20%20%20%20%20%0A%20%20%20%20%0A%20%20%20%20%20%20%20%20%20%20%20%20marker_90d32b2af6c3447d80de1301fe1fb31d.bindTooltip%28%0A%20%20%20%20%20%20%20%20%20%20%20%20%20%20%20%20%60%3Cdiv%3E%0A%20%20%20%20%20%20%20%20%20%20%20%20%20%20%20%20%20%20%20%20%20UBS%2001%20TAGUATINGA%0A%20%20%20%20%20%20%20%20%20%20%20%20%20%20%20%20%20%3C/div%3E%60%2C%0A%20%20%20%20%20%20%20%20%20%20%20%20%20%20%20%20%7B%22sticky%22%3A%20true%7D%0A%20%20%20%20%20%20%20%20%20%20%20%20%29%3B%0A%20%20%20%20%20%20%20%20%0A%20%20%20%20%0A%20%20%20%20%20%20%20%20%20%20%20%20var%20marker_a88b736c3bca4fa5977a595575a4b6b9%20%3D%20L.marker%28%0A%20%20%20%20%20%20%20%20%20%20%20%20%20%20%20%20%5B-15.8152985449495%2C%20-47.983878579633%5D%2C%0A%20%20%20%20%20%20%20%20%20%20%20%20%20%20%20%20%7B%7D%0A%20%20%20%20%20%20%20%20%20%20%20%20%29.addTo%28feature_group_1bebbda6593a4ae392887e4fe810cd65%29%3B%0A%20%20%20%20%20%20%20%20%0A%20%20%20%20%0A%20%20%20%20%20%20%20%20%20%20%20%20var%20icon_c9e369d7e7b64de88ceeb892df479ce1%20%3D%20L.AwesomeMarkers.icon%28%0A%20%20%20%20%20%20%20%20%20%20%20%20%20%20%20%20%7B%22extraClasses%22%3A%20%22fa-rotate-0%22%2C%20%22icon%22%3A%20%22info-sign%22%2C%20%22iconColor%22%3A%20%22white%22%2C%20%22markerColor%22%3A%20%22red%22%2C%20%22prefix%22%3A%20%22glyphicon%22%7D%0A%20%20%20%20%20%20%20%20%20%20%20%20%29%3B%0A%20%20%20%20%20%20%20%20%20%20%20%20marker_a88b736c3bca4fa5977a595575a4b6b9.setIcon%28icon_c9e369d7e7b64de88ceeb892df479ce1%29%3B%0A%20%20%20%20%20%20%20%20%0A%20%20%20%20%0A%20%20%20%20%20%20%20%20%20%20%20%20marker_a88b736c3bca4fa5977a595575a4b6b9.bindTooltip%28%0A%20%20%20%20%20%20%20%20%20%20%20%20%20%20%20%20%60%3Cdiv%3E%0A%20%20%20%20%20%20%20%20%20%20%20%20%20%20%20%20%20%20%20%20%20UBS%2001%20GUARA%0A%20%20%20%20%20%20%20%20%20%20%20%20%20%20%20%20%20%3C/div%3E%60%2C%0A%20%20%20%20%20%20%20%20%20%20%20%20%20%20%20%20%7B%22sticky%22%3A%20true%7D%0A%20%20%20%20%20%20%20%20%20%20%20%20%29%3B%0A%20%20%20%20%20%20%20%20%0A%20%20%20%20%0A%20%20%20%20%20%20%20%20%20%20%20%20var%20marker_af1484447e924d0caa7843ba59f35414%20%3D%20L.marker%28%0A%20%20%20%20%20%20%20%20%20%20%20%20%20%20%20%20%5B-15.8074113509234%2C%20-48.1055872449688%5D%2C%0A%20%20%20%20%20%20%20%20%20%20%20%20%20%20%20%20%7B%7D%0A%20%20%20%20%20%20%20%20%20%20%20%20%29.addTo%28feature_group_1bebbda6593a4ae392887e4fe810cd65%29%3B%0A%20%20%20%20%20%20%20%20%0A%20%20%20%20%0A%20%20%20%20%20%20%20%20%20%20%20%20var%20icon_be97a62bf1ba44a68fa5e5bef1ad036b%20%3D%20L.AwesomeMarkers.icon%28%0A%20%20%20%20%20%20%20%20%20%20%20%20%20%20%20%20%7B%22extraClasses%22%3A%20%22fa-rotate-0%22%2C%20%22icon%22%3A%20%22info-sign%22%2C%20%22iconColor%22%3A%20%22white%22%2C%20%22markerColor%22%3A%20%22red%22%2C%20%22prefix%22%3A%20%22glyphicon%22%7D%0A%20%20%20%20%20%20%20%20%20%20%20%20%29%3B%0A%20%20%20%20%20%20%20%20%20%20%20%20marker_af1484447e924d0caa7843ba59f35414.setIcon%28icon_be97a62bf1ba44a68fa5e5bef1ad036b%29%3B%0A%20%20%20%20%20%20%20%20%0A%20%20%20%20%0A%20%20%20%20%20%20%20%20%20%20%20%20marker_af1484447e924d0caa7843ba59f35414.bindTooltip%28%0A%20%20%20%20%20%20%20%20%20%20%20%20%20%20%20%20%60%3Cdiv%3E%0A%20%20%20%20%20%20%20%20%20%20%20%20%20%20%20%20%20%20%20%20%20UBS%205%20CEILANDIA%0A%20%20%20%20%20%20%20%20%20%20%20%20%20%20%20%20%20%3C/div%3E%60%2C%0A%20%20%20%20%20%20%20%20%20%20%20%20%20%20%20%20%7B%22sticky%22%3A%20true%7D%0A%20%20%20%20%20%20%20%20%20%20%20%20%29%3B%0A%20%20%20%20%20%20%20%20%0A%20%20%20%20%0A%20%20%20%20%20%20%20%20%20%20%20%20var%20marker_c8a449940c6842d092181ed742b3bb01%20%3D%20L.marker%28%0A%20%20%20%20%20%20%20%20%20%20%20%20%20%20%20%20%5B-15.743135358773%2C%20-47.8622603696935%5D%2C%0A%20%20%20%20%20%20%20%20%20%20%20%20%20%20%20%20%7B%7D%0A%20%20%20%20%20%20%20%20%20%20%20%20%29.addTo%28feature_group_1bebbda6593a4ae392887e4fe810cd65%29%3B%0A%20%20%20%20%20%20%20%20%0A%20%20%20%20%0A%20%20%20%20%20%20%20%20%20%20%20%20var%20icon_fceb9eea98b54f3082422360019695d4%20%3D%20L.AwesomeMarkers.icon%28%0A%20%20%20%20%20%20%20%20%20%20%20%20%20%20%20%20%7B%22extraClasses%22%3A%20%22fa-rotate-0%22%2C%20%22icon%22%3A%20%22info-sign%22%2C%20%22iconColor%22%3A%20%22white%22%2C%20%22markerColor%22%3A%20%22red%22%2C%20%22prefix%22%3A%20%22glyphicon%22%7D%0A%20%20%20%20%20%20%20%20%20%20%20%20%29%3B%0A%20%20%20%20%20%20%20%20%20%20%20%20marker_c8a449940c6842d092181ed742b3bb01.setIcon%28icon_fceb9eea98b54f3082422360019695d4%29%3B%0A%20%20%20%20%20%20%20%20%0A%20%20%20%20%0A%20%20%20%20%20%20%20%20%20%20%20%20marker_c8a449940c6842d092181ed742b3bb01.bindTooltip%28%0A%20%20%20%20%20%20%20%20%20%20%20%20%20%20%20%20%60%3Cdiv%3E%0A%20%20%20%20%20%20%20%20%20%20%20%20%20%20%20%20%20%20%20%20%20UBS%205%20QUEBRADA%20DOS%20NERES%0A%20%20%20%20%20%20%20%20%20%20%20%20%20%20%20%20%20%3C/div%3E%60%2C%0A%20%20%20%20%20%20%20%20%20%20%20%20%20%20%20%20%7B%22sticky%22%3A%20true%7D%0A%20%20%20%20%20%20%20%20%20%20%20%20%29%3B%0A%20%20%20%20%20%20%20%20%0A%20%20%20%20%0A%20%20%20%20%20%20%20%20%20%20%20%20var%20measure_control_28014753b205484cb666a5ff6a3e1b2e%20%3D%20new%20L.Control.Measure%28%0A%20%20%20%20%20%20%20%20%20%20%20%20%20%20%20%20%7B%22position%22%3A%20%22topright%22%2C%20%22primaryAreaUnit%22%3A%20%22sqmeters%22%2C%20%22primaryLengthUnit%22%3A%20%22meters%22%2C%20%22secondaryAreaUnit%22%3A%20%22acres%22%2C%20%22secondaryLengthUnit%22%3A%20%22miles%22%7D%29%3B%0A%20%20%20%20%20%20%20%20%20%20%20%20map_43abfeea223a455a923fc11dfc0b87ad.addControl%28measure_control_28014753b205484cb666a5ff6a3e1b2e%29%3B%0A%0A%20%20%20%20%20%20%20%20%0A%20%20%20%20%0A%20%20%20%20%20%20%20%20%20%20%20%20%20%20%20%20var%20lat_lng_popup_43afcec6084a4107b357feb05e11bbe3%20%3D%20L.popup%28%29%3B%0A%20%20%20%20%20%20%20%20%20%20%20%20%20%20%20%20function%20latLngPop%28e%29%20%7B%0A%20%20%20%20%20%20%20%20%20%20%20%20%20%20%20%20%20%20%20%20lat_lng_popup_43afcec6084a4107b357feb05e11bbe3%0A%20%20%20%20%20%20%20%20%20%20%20%20%20%20%20%20%20%20%20%20%20%20%20%20.setLatLng%28e.latlng%29%0A%20%20%20%20%20%20%20%20%20%20%20%20%20%20%20%20%20%20%20%20%20%20%20%20.setContent%28%22Latitude%3A%20%22%20%2B%20e.latlng.lat.toFixed%284%29%20%2B%0A%20%20%20%20%20%20%20%20%20%20%20%20%20%20%20%20%20%20%20%20%20%20%20%20%20%20%20%20%20%20%20%20%20%20%20%20%22%3Cbr%3ELongitude%3A%20%22%20%2B%20e.latlng.lng.toFixed%284%29%29%0A%20%20%20%20%20%20%20%20%20%20%20%20%20%20%20%20%20%20%20%20%20%20%20%20.openOn%28map_43abfeea223a455a923fc11dfc0b87ad%29%3B%0A%20%20%20%20%20%20%20%20%20%20%20%20%20%20%20%20%20%20%20%20%7D%0A%20%20%20%20%20%20%20%20%20%20%20%20%20%20%20%20map_43abfeea223a455a923fc11dfc0b87ad.on%28%27click%27%2C%20latLngPop%29%3B%0A%20%20%20%20%20%20%20%20%20%20%20%20%0A%20%20%20%20%0A%20%20%20%20%20%20%20%20%20%20%20%20var%20layer_control_7ed51586a924496b94c331f1f68404db%20%3D%20%7B%0A%20%20%20%20%20%20%20%20%20%20%20%20%20%20%20%20base_layers%20%3A%20%7B%0A%20%20%20%20%20%20%20%20%20%20%20%20%20%20%20%20%20%20%20%20%22openstreetmap%22%20%3A%20tile_layer_71efe97295744eaa8d22445b8efea652%2C%0A%20%20%20%20%20%20%20%20%20%20%20%20%20%20%20%20%7D%2C%0A%20%20%20%20%20%20%20%20%20%20%20%20%20%20%20%20overlays%20%3A%20%20%7B%0A%20%20%20%20%20%20%20%20%20%20%20%20%20%20%20%20%20%20%20%20%22UBS%20DF%20-%20Pontos%20de%20vacina%5Cu00e7%5Cu00e3o%20Covid-19%22%20%3A%20feature_group_a032285a320245db8b8ffde065bf7bdd%2C%0A%20%20%20%20%20%20%20%20%20%20%20%20%20%20%20%20%20%20%20%20%22Pontos%20de%20vacina%5Cu00e7%5Cu00e3o%20mais%20cheios%22%20%3A%20feature_group_1bebbda6593a4ae392887e4fe810cd65%2C%0A%20%20%20%20%20%20%20%20%20%20%20%20%20%20%20%20%7D%2C%0A%20%20%20%20%20%20%20%20%20%20%20%20%7D%3B%0A%20%20%20%20%20%20%20%20%20%20%20%20L.control.layers%28%0A%20%20%20%20%20%20%20%20%20%20%20%20%20%20%20%20layer_control_7ed51586a924496b94c331f1f68404db.base_layers%2C%0A%20%20%20%20%20%20%20%20%20%20%20%20%20%20%20%20layer_control_7ed51586a924496b94c331f1f68404db.overlays%2C%0A%20%20%20%20%20%20%20%20%20%20%20%20%20%20%20%20%7B%22autoZIndex%22%3A%20true%2C%20%22collapsed%22%3A%20true%2C%20%22position%22%3A%20%22topright%22%7D%0A%20%20%20%20%20%20%20%20%20%20%20%20%29.addTo%28map_43abfeea223a455a923fc11dfc0b87ad%29%3B%0A%20%20%20%20%20%20%20%20%0A%3C/script%3E onload=\"this.contentDocument.open();this.contentDocument.write(    decodeURIComponent(this.getAttribute('data-html')));this.contentDocument.close();\" allowfullscreen webkitallowfullscreen mozallowfullscreen></iframe></div></div>"
      ]
     },
     "metadata": {},
     "execution_count": 129
    }
   ],
   "metadata": {}
  },
  {
   "cell_type": "code",
   "execution_count": 132,
   "source": [
    "dfMerged.head()"
   ],
   "outputs": [
    {
     "output_type": "execute_result",
     "data": {
      "text/plain": [
       "    paciente_id  id_estabelecimento data_aplicacao  dose_declarada  id_cidade  \\\n",
       "0       9082347             9509356     2021-03-18             1.0    5300108   \n",
       "4       9082505               11150     2021-01-28             1.0    5300108   \n",
       "6       9082757             9509356     2021-03-18             1.0    5300108   \n",
       "10      9084261             9509356     2021-03-22             1.0    5300108   \n",
       "12      9085000             9768637     2021-03-18             1.0    5300108   \n",
       "\n",
       "     id_cep  id_grupo  \n",
       "0   72220.0       2.0  \n",
       "4   73045.0       9.0  \n",
       "6   72236.0       2.0  \n",
       "10  72235.0       2.0  \n",
       "12  73330.0       2.0  "
      ],
      "text/html": [
       "<div>\n",
       "<style scoped>\n",
       "    .dataframe tbody tr th:only-of-type {\n",
       "        vertical-align: middle;\n",
       "    }\n",
       "\n",
       "    .dataframe tbody tr th {\n",
       "        vertical-align: top;\n",
       "    }\n",
       "\n",
       "    .dataframe thead th {\n",
       "        text-align: right;\n",
       "    }\n",
       "</style>\n",
       "<table border=\"1\" class=\"dataframe\">\n",
       "  <thead>\n",
       "    <tr style=\"text-align: right;\">\n",
       "      <th></th>\n",
       "      <th>paciente_id</th>\n",
       "      <th>id_estabelecimento</th>\n",
       "      <th>data_aplicacao</th>\n",
       "      <th>dose_declarada</th>\n",
       "      <th>id_cidade</th>\n",
       "      <th>id_cep</th>\n",
       "      <th>id_grupo</th>\n",
       "    </tr>\n",
       "  </thead>\n",
       "  <tbody>\n",
       "    <tr>\n",
       "      <th>0</th>\n",
       "      <td>9082347</td>\n",
       "      <td>9509356</td>\n",
       "      <td>2021-03-18</td>\n",
       "      <td>1.0</td>\n",
       "      <td>5300108</td>\n",
       "      <td>72220.0</td>\n",
       "      <td>2.0</td>\n",
       "    </tr>\n",
       "    <tr>\n",
       "      <th>4</th>\n",
       "      <td>9082505</td>\n",
       "      <td>11150</td>\n",
       "      <td>2021-01-28</td>\n",
       "      <td>1.0</td>\n",
       "      <td>5300108</td>\n",
       "      <td>73045.0</td>\n",
       "      <td>9.0</td>\n",
       "    </tr>\n",
       "    <tr>\n",
       "      <th>6</th>\n",
       "      <td>9082757</td>\n",
       "      <td>9509356</td>\n",
       "      <td>2021-03-18</td>\n",
       "      <td>1.0</td>\n",
       "      <td>5300108</td>\n",
       "      <td>72236.0</td>\n",
       "      <td>2.0</td>\n",
       "    </tr>\n",
       "    <tr>\n",
       "      <th>10</th>\n",
       "      <td>9084261</td>\n",
       "      <td>9509356</td>\n",
       "      <td>2021-03-22</td>\n",
       "      <td>1.0</td>\n",
       "      <td>5300108</td>\n",
       "      <td>72235.0</td>\n",
       "      <td>2.0</td>\n",
       "    </tr>\n",
       "    <tr>\n",
       "      <th>12</th>\n",
       "      <td>9085000</td>\n",
       "      <td>9768637</td>\n",
       "      <td>2021-03-18</td>\n",
       "      <td>1.0</td>\n",
       "      <td>5300108</td>\n",
       "      <td>73330.0</td>\n",
       "      <td>2.0</td>\n",
       "    </tr>\n",
       "  </tbody>\n",
       "</table>\n",
       "</div>"
      ]
     },
     "metadata": {},
     "execution_count": 132
    }
   ],
   "metadata": {}
  },
  {
   "cell_type": "code",
   "execution_count": 133,
   "source": [
    "dfCep.head()"
   ],
   "outputs": [
    {
     "output_type": "execute_result",
     "data": {
      "text/plain": [
       "   id  id_cep  cidade_id        lat        lon\n",
       "0   1  1001.0    3550308 -46.634097 -23.550998\n",
       "1   2  1002.0    3550308 -46.635471 -23.548366\n",
       "2   3  1003.0    3550308 -46.636392 -23.549012\n",
       "3   4  1004.0    3550308 -46.634955 -23.549962\n",
       "4   5  1005.0    3550308 -46.636848 -23.549578"
      ],
      "text/html": [
       "<div>\n",
       "<style scoped>\n",
       "    .dataframe tbody tr th:only-of-type {\n",
       "        vertical-align: middle;\n",
       "    }\n",
       "\n",
       "    .dataframe tbody tr th {\n",
       "        vertical-align: top;\n",
       "    }\n",
       "\n",
       "    .dataframe thead th {\n",
       "        text-align: right;\n",
       "    }\n",
       "</style>\n",
       "<table border=\"1\" class=\"dataframe\">\n",
       "  <thead>\n",
       "    <tr style=\"text-align: right;\">\n",
       "      <th></th>\n",
       "      <th>id</th>\n",
       "      <th>id_cep</th>\n",
       "      <th>cidade_id</th>\n",
       "      <th>lat</th>\n",
       "      <th>lon</th>\n",
       "    </tr>\n",
       "  </thead>\n",
       "  <tbody>\n",
       "    <tr>\n",
       "      <th>0</th>\n",
       "      <td>1</td>\n",
       "      <td>1001.0</td>\n",
       "      <td>3550308</td>\n",
       "      <td>-46.634097</td>\n",
       "      <td>-23.550998</td>\n",
       "    </tr>\n",
       "    <tr>\n",
       "      <th>1</th>\n",
       "      <td>2</td>\n",
       "      <td>1002.0</td>\n",
       "      <td>3550308</td>\n",
       "      <td>-46.635471</td>\n",
       "      <td>-23.548366</td>\n",
       "    </tr>\n",
       "    <tr>\n",
       "      <th>2</th>\n",
       "      <td>3</td>\n",
       "      <td>1003.0</td>\n",
       "      <td>3550308</td>\n",
       "      <td>-46.636392</td>\n",
       "      <td>-23.549012</td>\n",
       "    </tr>\n",
       "    <tr>\n",
       "      <th>3</th>\n",
       "      <td>4</td>\n",
       "      <td>1004.0</td>\n",
       "      <td>3550308</td>\n",
       "      <td>-46.634955</td>\n",
       "      <td>-23.549962</td>\n",
       "    </tr>\n",
       "    <tr>\n",
       "      <th>4</th>\n",
       "      <td>5</td>\n",
       "      <td>1005.0</td>\n",
       "      <td>3550308</td>\n",
       "      <td>-46.636848</td>\n",
       "      <td>-23.549578</td>\n",
       "    </tr>\n",
       "  </tbody>\n",
       "</table>\n",
       "</div>"
      ]
     },
     "metadata": {},
     "execution_count": 133
    }
   ],
   "metadata": {}
  },
  {
   "cell_type": "code",
   "execution_count": 135,
   "source": [
    "#Construção do mapa de calor\n",
    "\n",
    "dfHeat = dfMerged.groupby(['id_cep']).size().reset_index(name='contador')\n",
    "dfHeat = pd.merge(dfHeat,dfCep[['lat','lon','id_cep']],on='id_cep')\n",
    "dfHeat.rename(columns={\"lat\":\"lon_resid\",\"lon\":\"lat_resid\"},inplace=True)\n",
    "plotHeat = dfHeat[['lat_resid','lon_resid','contador']].values.tolist()\n",
    "\n",
    "m2 = fl.Map(location=[-15.7751257, -48.0785352],tiles='OpenStreetMap',zoom_control=False)\n",
    "\n",
    "from folium.plugins import HeatMap\n",
    "heatmap = HeatMap(plotHeat,radius=18).add_to(m2)\n",
    "heatmap.save('mapa_calor.html')\n",
    "m2\n",
    "\n"
   ],
   "outputs": [
    {
     "output_type": "execute_result",
     "data": {
      "text/plain": [
       "<folium.folium.Map at 0x7f9d9d872390>"
      ],
      "text/html": [
       "<div style=\"width:100%;\"><div style=\"position:relative;width:100%;height:0;padding-bottom:60%;\"><span style=\"color:#565656\">Make this Notebook Trusted to load map: File -> Trust Notebook</span><iframe src=\"about:blank\" style=\"position:absolute;width:100%;height:100%;left:0;top:0;border:none !important;\" data-html=%3C%21DOCTYPE%20html%3E%0A%3Chead%3E%20%20%20%20%0A%20%20%20%20%3Cmeta%20http-equiv%3D%22content-type%22%20content%3D%22text/html%3B%20charset%3DUTF-8%22%20/%3E%0A%20%20%20%20%0A%20%20%20%20%20%20%20%20%3Cscript%3E%0A%20%20%20%20%20%20%20%20%20%20%20%20L_NO_TOUCH%20%3D%20false%3B%0A%20%20%20%20%20%20%20%20%20%20%20%20L_DISABLE_3D%20%3D%20false%3B%0A%20%20%20%20%20%20%20%20%3C/script%3E%0A%20%20%20%20%0A%20%20%20%20%3Cstyle%3Ehtml%2C%20body%20%7Bwidth%3A%20100%25%3Bheight%3A%20100%25%3Bmargin%3A%200%3Bpadding%3A%200%3B%7D%3C/style%3E%0A%20%20%20%20%3Cstyle%3E%23map%20%7Bposition%3Aabsolute%3Btop%3A0%3Bbottom%3A0%3Bright%3A0%3Bleft%3A0%3B%7D%3C/style%3E%0A%20%20%20%20%3Cscript%20src%3D%22https%3A//cdn.jsdelivr.net/npm/leaflet%401.6.0/dist/leaflet.js%22%3E%3C/script%3E%0A%20%20%20%20%3Cscript%20src%3D%22https%3A//code.jquery.com/jquery-1.12.4.min.js%22%3E%3C/script%3E%0A%20%20%20%20%3Cscript%20src%3D%22https%3A//maxcdn.bootstrapcdn.com/bootstrap/3.2.0/js/bootstrap.min.js%22%3E%3C/script%3E%0A%20%20%20%20%3Cscript%20src%3D%22https%3A//cdnjs.cloudflare.com/ajax/libs/Leaflet.awesome-markers/2.0.2/leaflet.awesome-markers.js%22%3E%3C/script%3E%0A%20%20%20%20%3Clink%20rel%3D%22stylesheet%22%20href%3D%22https%3A//cdn.jsdelivr.net/npm/leaflet%401.6.0/dist/leaflet.css%22/%3E%0A%20%20%20%20%3Clink%20rel%3D%22stylesheet%22%20href%3D%22https%3A//maxcdn.bootstrapcdn.com/bootstrap/3.2.0/css/bootstrap.min.css%22/%3E%0A%20%20%20%20%3Clink%20rel%3D%22stylesheet%22%20href%3D%22https%3A//maxcdn.bootstrapcdn.com/bootstrap/3.2.0/css/bootstrap-theme.min.css%22/%3E%0A%20%20%20%20%3Clink%20rel%3D%22stylesheet%22%20href%3D%22https%3A//maxcdn.bootstrapcdn.com/font-awesome/4.6.3/css/font-awesome.min.css%22/%3E%0A%20%20%20%20%3Clink%20rel%3D%22stylesheet%22%20href%3D%22https%3A//cdnjs.cloudflare.com/ajax/libs/Leaflet.awesome-markers/2.0.2/leaflet.awesome-markers.css%22/%3E%0A%20%20%20%20%3Clink%20rel%3D%22stylesheet%22%20href%3D%22https%3A//cdn.jsdelivr.net/gh/python-visualization/folium/folium/templates/leaflet.awesome.rotate.min.css%22/%3E%0A%20%20%20%20%0A%20%20%20%20%20%20%20%20%20%20%20%20%3Cmeta%20name%3D%22viewport%22%20content%3D%22width%3Ddevice-width%2C%0A%20%20%20%20%20%20%20%20%20%20%20%20%20%20%20%20initial-scale%3D1.0%2C%20maximum-scale%3D1.0%2C%20user-scalable%3Dno%22%20/%3E%0A%20%20%20%20%20%20%20%20%20%20%20%20%3Cstyle%3E%0A%20%20%20%20%20%20%20%20%20%20%20%20%20%20%20%20%23map_bd418574fad04f8f8987264cc063fde5%20%7B%0A%20%20%20%20%20%20%20%20%20%20%20%20%20%20%20%20%20%20%20%20position%3A%20relative%3B%0A%20%20%20%20%20%20%20%20%20%20%20%20%20%20%20%20%20%20%20%20width%3A%20100.0%25%3B%0A%20%20%20%20%20%20%20%20%20%20%20%20%20%20%20%20%20%20%20%20height%3A%20100.0%25%3B%0A%20%20%20%20%20%20%20%20%20%20%20%20%20%20%20%20%20%20%20%20left%3A%200.0%25%3B%0A%20%20%20%20%20%20%20%20%20%20%20%20%20%20%20%20%20%20%20%20top%3A%200.0%25%3B%0A%20%20%20%20%20%20%20%20%20%20%20%20%20%20%20%20%7D%0A%20%20%20%20%20%20%20%20%20%20%20%20%3C/style%3E%0A%20%20%20%20%20%20%20%20%0A%20%20%20%20%3Cscript%20src%3D%22https%3A//cdn.jsdelivr.net/gh/python-visualization/folium%40master/folium/templates/leaflet_heat.min.js%22%3E%3C/script%3E%0A%3C/head%3E%0A%3Cbody%3E%20%20%20%20%0A%20%20%20%20%0A%20%20%20%20%20%20%20%20%20%20%20%20%3Cdiv%20class%3D%22folium-map%22%20id%3D%22map_bd418574fad04f8f8987264cc063fde5%22%20%3E%3C/div%3E%0A%20%20%20%20%20%20%20%20%0A%3C/body%3E%0A%3Cscript%3E%20%20%20%20%0A%20%20%20%20%0A%20%20%20%20%20%20%20%20%20%20%20%20var%20map_bd418574fad04f8f8987264cc063fde5%20%3D%20L.map%28%0A%20%20%20%20%20%20%20%20%20%20%20%20%20%20%20%20%22map_bd418574fad04f8f8987264cc063fde5%22%2C%0A%20%20%20%20%20%20%20%20%20%20%20%20%20%20%20%20%7B%0A%20%20%20%20%20%20%20%20%20%20%20%20%20%20%20%20%20%20%20%20center%3A%20%5B-15.7751257%2C%20-48.0785352%5D%2C%0A%20%20%20%20%20%20%20%20%20%20%20%20%20%20%20%20%20%20%20%20crs%3A%20L.CRS.EPSG3857%2C%0A%20%20%20%20%20%20%20%20%20%20%20%20%20%20%20%20%20%20%20%20zoom%3A%2010%2C%0A%20%20%20%20%20%20%20%20%20%20%20%20%20%20%20%20%20%20%20%20zoomControl%3A%20false%2C%0A%20%20%20%20%20%20%20%20%20%20%20%20%20%20%20%20%20%20%20%20preferCanvas%3A%20false%2C%0A%20%20%20%20%20%20%20%20%20%20%20%20%20%20%20%20%7D%0A%20%20%20%20%20%20%20%20%20%20%20%20%29%3B%0A%0A%20%20%20%20%20%20%20%20%20%20%20%20%0A%0A%20%20%20%20%20%20%20%20%0A%20%20%20%20%0A%20%20%20%20%20%20%20%20%20%20%20%20var%20tile_layer_1c7aab4e32834a7b9033a31494ff12cf%20%3D%20L.tileLayer%28%0A%20%20%20%20%20%20%20%20%20%20%20%20%20%20%20%20%22https%3A//%7Bs%7D.tile.openstreetmap.org/%7Bz%7D/%7Bx%7D/%7By%7D.png%22%2C%0A%20%20%20%20%20%20%20%20%20%20%20%20%20%20%20%20%7B%22attribution%22%3A%20%22Data%20by%20%5Cu0026copy%3B%20%5Cu003ca%20href%3D%5C%22http%3A//openstreetmap.org%5C%22%5Cu003eOpenStreetMap%5Cu003c/a%5Cu003e%2C%20under%20%5Cu003ca%20href%3D%5C%22http%3A//www.openstreetmap.org/copyright%5C%22%5Cu003eODbL%5Cu003c/a%5Cu003e.%22%2C%20%22detectRetina%22%3A%20false%2C%20%22maxNativeZoom%22%3A%2018%2C%20%22maxZoom%22%3A%2018%2C%20%22minZoom%22%3A%200%2C%20%22noWrap%22%3A%20false%2C%20%22opacity%22%3A%201%2C%20%22subdomains%22%3A%20%22abc%22%2C%20%22tms%22%3A%20false%7D%0A%20%20%20%20%20%20%20%20%20%20%20%20%29.addTo%28map_bd418574fad04f8f8987264cc063fde5%29%3B%0A%20%20%20%20%20%20%20%20%0A%20%20%20%20%0A%20%20%20%20%20%20%20%20%20%20%20%20var%20heat_map_e4b1fc5ddc8949a8a2566590a6ee65a8%20%3D%20L.heatLayer%28%0A%20%20%20%20%20%20%20%20%20%20%20%20%20%20%20%20%5B%5B-23.5610890388489%2C%20-46.6580270131429%2C%201.0%5D%2C%20%5B-23.5856550004747%2C%20-46.6603287590875%2C%201.0%5D%2C%20%5B-23.5636928346422%2C%20-46.6561442481147%2C%2016.0%5D%2C%20%5B-23.5023398148386%2C%20-46.5967407226563%2C%201.0%5D%2C%20%5B-23.3486728668213%2C%20-46.9516803196498%2C%201.0%5D%2C%20%5B-23.5076063474019%2C%20-46.71222559611%2C%201.0%5D%2C%20%5B-23.2688327789307%2C%20-46.9658432006836%2C%201.0%5D%2C%20%5B-23.5404762599779%2C%20-46.5326173201851%2C%201.0%5D%2C%20%5B-23.5474336797541%2C%20-46.4948265769265%2C%201.0%5D%2C%20%5B-23.5250138176812%2C%20-46.5395698547363%2C%201.0%5D%2C%20%5B-23.5227455563015%2C%20-46.5064879523383%2C%201.0%5D%2C%20%5B-23.5154385437837%2C%20-46.5252777305809%2C%201.0%5D%2C%20%5B-23.6209945678711%2C%20-46.5451838175456%2C%201.0%5D%2C%20%5B-23.5779990443477%2C%20-46.6474010326244%2C%202.0%5D%2C%20%5B-23.5868032118853%2C%20-46.6417846679688%2C%201.0%5D%2C%20%5B-23.6244079271952%2C%20-46.6527509689331%2C%202.0%5D%2C%20%5B-23.6080976213728%2C%20-46.6616726466588%2C%201.0%5D%2C%20%5B-23.5872620802659%2C%20-46.6042248652532%2C%201.0%5D%2C%20%5B-23.6263937583336%2C%20-46.5962826655461%2C%201.0%5D%2C%20%5B-23.601158959525%2C%20-46.6125395638602%2C%201.0%5D%2C%20%5B-23.6670897347587%2C%20-46.6411759512765%2C%201.0%5D%2C%20%5B-23.5842130449083%2C%20-46.6801208919949%2C%201.0%5D%2C%20%5B-23.5978214263916%2C%20-46.6862018585205%2C%202.0%5D%2C%20%5B-23.6036110832578%2C%20-46.6925725785513%2C%201.0%5D%2C%20%5B-23.6156825441303%2C%20-46.6956752430309%2C%201.0%5D%2C%20%5B-23.6224915640695%2C%20-46.6634768531436%2C%201.0%5D%2C%20%5B-23.6382238864899%2C%20-46.667623758316%2C%202.0%5D%2C%20%5B-23.6511267662048%2C%20-46.7133378982544%2C%201.0%5D%2C%20%5B-23.7385175846241%2C%20-46.6829978095161%2C%201.0%5D%2C%20%5B-23.6890957443802%2C%20-46.7592540317112%2C%201.0%5D%2C%20%5B-23.5195198059082%2C%20-46.619499206543%2C%201.0%5D%2C%20%5B-23.5582035289091%2C%20-46.7513645396513%2C%201.0%5D%2C%20%5B-23.5904132958614%2C%20-46.7434791796135%2C%201.0%5D%2C%20%5B-23.6539105502042%2C%20-46.7864116321911%2C%201.0%5D%2C%20%5B-23.6579680009322%2C%20-46.7902417616411%2C%201.0%5D%2C%20%5B-23.5149084946205%2C%20-46.8173899595765%2C%201.0%5D%2C%20%5B-23.5170039176941%2C%20-46.7685392379761%2C%201.0%5D%2C%20%5B-23.5382115116826%2C%20-46.8670686509874%2C%201.0%5D%2C%20%5B-23.4996552058629%2C%20-46.8498968941825%2C%201.0%5D%2C%20%5B-23.4952918637183%2C%20-46.8500208700857%2C%2019.0%5D%2C%20%5B-23.5011947631836%2C%20-46.8539759635925%2C%2028.0%5D%2C%20%5B-23.4986603835533%2C%20-46.8340315983213%2C%202.0%5D%2C%20%5B-23.5896843996915%2C%20-46.9123949571089%2C%201.0%5D%2C%20%5B-23.6399198320177%2C%20-46.7917316012912%2C%201.0%5D%2C%20%5B-23.5048548910353%2C%20-46.6738617367215%2C%201.0%5D%2C%20%5B-23.4704182532526%2C%20-46.5394048383159%2C%201.0%5D%2C%20%5B-23.2786060333252%2C%20-46.7557258605957%2C%201.0%5D%2C%20%5B-23.4622382187262%2C%20-46.5219867055009%2C%201.0%5D%2C%20%5B-23.42599401474%2C%20-46.4698429107666%2C%203.0%5D%2C%20%5B-23.4378545050528%2C%20-46.4490114099839%2C%206.0%5D%2C%20%5B-23.434100373586%2C%20-46.4489782333374%2C%201.0%5D%2C%20%5B-23.4370950397692%2C%20-46.437680395026%2C%201.0%5D%2C%20%5B-23.4126460754794%2C%20-46.4661176095601%2C%201.0%5D%2C%20%5B-23.4601705476835%2C%20-46.4890284847904%2C%205.0%5D%2C%20%5B-23.4571117083232%2C%20-46.5006803512573%2C%201.0%5D%2C%20%5B-23.5179224913975%2C%20-46.7096130083192%2C%201.0%5D%2C%20%5B-23.2603431759459%2C%20-46.4094915293684%2C%201.0%5D%2C%20%5B-23.4397864708534%2C%20-46.5009230589255%2C%202.0%5D%2C%20%5B-23.4473137701711%2C%20-46.442078005883%2C%201.0%5D%2C%20%5B-23.4356198992048%2C%20-46.4877289153717%2C%205.0%5D%2C%20%5B-23.1806235575094%2C%20-46.4246479127465%2C%204.0%5D%2C%20%5B-23.1294962351139%2C%20-46.2420718486492%2C%202.0%5D%2C%20%5B-23.2348384857178%2C%20-46.3615589141846%2C%203.0%5D%2C%20%5B-23.2156223184184%2C%20-46.3561251288966%2C%201.0%5D%2C%20%5B-23.418772149086%2C%20-46.4588909626007%2C%203.0%5D%2C%20%5B-23.4247274309675%2C%20-46.4966186452135%2C%201.0%5D%2C%20%5B-23.4062173987637%2C%20-46.373935603294%2C%201.0%5D%2C%20%5B-23.4112512011861%2C%20-46.3661781133607%2C%201.0%5D%2C%20%5B-23.3248284247614%2C%20-46.7289708045221%2C%201.0%5D%2C%20%5B-23.3090725898743%2C%20-46.7215482711792%2C%201.0%5D%2C%20%5B-23.3669534633034%2C%20-46.3687244616057%2C%201.0%5D%2C%20%5B-23.5492812189563%2C%20-46.4144559399835%2C%201.0%5D%2C%20%5B-23.5005222448782%2C%20-46.3715641759023%2C%201.0%5D%2C%20%5B-23.3155198097229%2C%20-46.2073545455933%2C%206.0%5D%2C%20%5B-23.6515581607819%2C%20-46.54443359375%2C%201.0%5D%2C%20%5B-23.6672313087865%2C%20-46.509581967404%2C%201.0%5D%2C%20%5B-23.6727557947606%2C%20-46.5189056867435%2C%201.0%5D%2C%20%5B-23.6872971057892%2C%20-46.5494089126587%2C%201.0%5D%2C%20%5B-23.514938054504%2C%20-46.5165902022477%2C%201.0%5D%2C%20%5B-23.7240182284651%2C%20-46.5861168346186%2C%201.0%5D%2C%20%5B-23.6597966755906%2C%20-46.6167864342258%2C%201.0%5D%2C%20%5B-23.7018725487494%2C%20-46.5968042189075%2C%201.0%5D%2C%20%5B-23.0019656794412%2C%20-46.6592836107526%2C%201.0%5D%2C%20%5B-23.9288659286499%2C%20-46.3568654632568%2C%201.0%5D%2C%20%5B-23.868875556522%2C%20-46.5125473870171%2C%201.0%5D%2C%20%5B-23.9787201427278%2C%20-46.2674863906134%2C%201.0%5D%2C%20%5B-23.9525632952699%2C%20-46.2745358684275%2C%201.0%5D%2C%20%5B-24.0015151765611%2C%20-46.5206983354357%2C%202.0%5D%2C%20%5B-23.2272404157198%2C%20-45.9342375902029%2C%201.0%5D%2C%20%5B-22.9700059487786%2C%20-45.5625910154531%2C%201.0%5D%2C%20%5B-22.8559144337972%2C%20-45.2539530436198%2C%201.0%5D%2C%20%5B-22.650354385376%2C%20-45.0150871276855%2C%201.0%5D%2C%20%5B-22.9771412440709%2C%20-46.546881539481%2C%201.0%5D%2C%20%5B-22.9321627241842%2C%20-47.0432746972931%2C%201.0%5D%2C%20%5B-22.8325893878937%2C%20-47.1727667858726%2C%201.0%5D%2C%20%5B-23.0265692418544%2C%20-46.9679487793889%2C%201.0%5D%2C%20%5B-23.1098845816407%2C%20-47.2366308841406%2C%201.0%5D%2C%20%5B-23.1051827786016%2C%20-47.2149138357125%2C%201.0%5D%2C%20%5B-22.5773795897585%2C%20-47.3729765935598%2C%201.0%5D%2C%20%5B-22.722903786636%2C%20-46.7606638776578%2C%201.0%5D%2C%20%5B-22.5127954483032%2C%20-46.635196685791%2C%201.0%5D%2C%20%5B-21.4553510225736%2C%20-47.6567206749549%2C%201.0%5D%2C%20%5B-21.3231016390585%2C%20-47.7807508479653%2C%201.0%5D%2C%20%5B-21.1707692827497%2C%20-47.8020879030228%2C%201.0%5D%2C%20%5B-21.1861869638616%2C%20-47.7883686152371%2C%201.0%5D%2C%20%5B-21.2096567153931%2C%20-47.6125602722168%2C%201.0%5D%2C%20%5B-20.9950351715088%2C%20-47.6581268310547%2C%201.0%5D%2C%20%5B-21.0241804122925%2C%20-47.7740039825439%2C%201.0%5D%2C%20%5B-20.7055581100916%2C%20-48.3405820124567%2C%201.0%5D%2C%20%5B-21.7640396660199%2C%20-48.1448391870903%2C%201.0%5D%2C%20%5B-21.8068995922804%2C%20-48.746396318078%2C%201.0%5D%2C%20%5B-20.9137300177466%2C%20-49.283470684969%2C%201.0%5D%2C%20%5B-20.8700401306152%2C%20-49.3118007236057%2C%201.0%5D%2C%20%5B-20.860089302063%2C%20-49.4411449432373%2C%201.0%5D%2C%20%5B-20.7692613601685%2C%20-49.7125949859619%2C%201.0%5D%2C%20%5B-21.0807030995687%2C%20-49.7182108561198%2C%201.0%5D%2C%20%5B-20.8459370903703%2C%20-48.8334842894722%2C%201.0%5D%2C%20%5B-20.6100730895996%2C%20-49.295316696167%2C%201.0%5D%2C%20%5B-20.0849119822184%2C%20-49.9125595092773%2C%201.0%5D%2C%20%5B-20.2100156148275%2C%20-50.9258651733398%2C%201.0%5D%2C%20%5B-21.1985056400299%2C%20-48.8927189707756%2C%201.0%5D%2C%20%5B-21.279175132513%2C%20-50.3226508498192%2C%201.0%5D%2C%20%5B-22.4016714529558%2C%20-48.9217630733143%2C%201.0%5D%2C%20%5B-22.3737846919468%2C%20-48.9919701712472%2C%201.0%5D%2C%20%5B-21.9936567596767%2C%20-50.3352934795877%2C%201.0%5D%2C%20%5B-23.4968846960913%2C%20-47.4723173857741%2C%201.0%5D%2C%20%5B-23.5057263581649%2C%20-47.4858580050261%2C%201.0%5D%2C%20%5B-23.5769350572066%2C%20-48.0115430889708%2C%201.0%5D%2C%20%5B-23.5539220174154%2C%20-47.1137135823568%2C%201.0%5D%2C%20%5B-23.7566165924072%2C%20-47.6609573364258%2C%201.0%5D%2C%20%5B-23.120600382487%2C%20-47.0115114847819%2C%201.0%5D%2C%20%5B-23.1684087320153%2C%20-47.6114974154894%2C%201.0%5D%2C%20%5B-23.1268871307373%2C%20-48.2995643615723%2C%201.0%5D%2C%20%5B-22.92400647039%2C%20-48.3349887682044%2C%201.0%5D%2C%20%5B-22.3030281066895%2C%20-51.5618114471436%2C%201.0%5D%2C%20%5B-22.2950903574626%2C%20-51.9078407287598%2C%201.0%5D%2C%20%5B-23.076301574707%2C%20-52.1769326527913%2C%201.0%5D%2C%20%5B-22.7077738787677%2C%20-50.2597310521581%2C%201.0%5D%2C%20%5B-22.6819137640759%2C%20-50.2543299514635%2C%201.0%5D%2C%20%5B-22.9007217522823%2C%20-43.1694237680146%2C%202.0%5D%2C%20%5B-22.9105369647344%2C%20-43.1781946818034%2C%201.0%5D%2C%20%5B-22.9065108829074%2C%20-43.1837327745226%2C%201.0%5D%2C%20%5B-22.8921770616011%2C%20-43.1891772530296%2C%201.0%5D%2C%20%5B-22.9009088297359%2C%20-43.1983983399438%2C%201.0%5D%2C%20%5B-22.9202351910727%2C%20-43.2015310014997%2C%201.0%5D%2C%20%5B-22.909755395009%2C%20-43.2229438928457%2C%201.0%5D%2C%20%5B-22.9113617676955%2C%20-43.2204315478985%2C%201.0%5D%2C%20%5B-22.9256896605858%2C%20-43.2501037304218%2C%202.0%5D%2C%20%5B-22.890715457775%2C%20-43.2274758374249%2C%201.0%5D%2C%20%5B-22.9055855614798%2C%20-43.2830722672599%2C%201.0%5D%2C%20%5B-22.8689090988853%2C%20-43.2944284785878%2C%201.0%5D%2C%20%5B-22.8589625181975%2C%20-43.2770325460552%2C%201.0%5D%2C%20%5B-22.7846803789015%2C%20-43.2917304100928%2C%201.0%5D%2C%20%5B-22.8998678431791%2C%20-43.2349443996654%2C%201.0%5D%2C%20%5B-22.8331543945131%2C%20-43.295741217477%2C%201.0%5D%2C%20%5B-22.8604266166687%2C%20-43.255989074707%2C%201.0%5D%2C%20%5B-22.8844032287598%2C%20-43.2623610374255%2C%201.0%5D%2C%20%5B-22.8587431009265%2C%20-43.3165531711302%2C%201.0%5D%2C%20%5B-22.8528563308716%2C%20-43.2784533691406%2C%201.0%5D%2C%20%5B-22.8892264224515%2C%20-43.3642663483572%2C%201.0%5D%2C%20%5B-22.8074356410814%2C%20-43.349709983494%2C%201.0%5D%2C%20%5B-22.8398943362029%2C%20-43.3420277471128%2C%201.0%5D%2C%20%5B-22.8646408716838%2C%20-43.3740781148275%2C%201.0%5D%2C%20%5B-22.8546989985875%2C%20-43.4117154208097%2C%201.0%5D%2C%20%5B-22.8359932195945%2C%20-43.4098356278216%2C%201.0%5D%2C%20%5B-22.8291210795558%2C%20-43.4130600330441%2C%201.0%5D%2C%20%5B-22.8376030476888%2C%20-43.3733198038737%2C%201.0%5D%2C%20%5B-22.8571989844827%2C%20-43.4211198694566%2C%202.0%5D%2C%20%5B-22.8528208219088%2C%20-43.3972348726713%2C%201.0%5D%2C%20%5B-22.8685648492042%2C%20-43.4697789131327%2C%201.0%5D%2C%20%5B-22.7981140899658%2C%20-43.2141622161865%2C%201.0%5D%2C%20%5B-22.9672047008168%2C%20-43.1812723333185%2C%202.0%5D%2C%20%5B-22.9749899970161%2C%20-43.1889928181966%2C%201.0%5D%2C%20%5B-22.9749279022217%2C%20-43.1927617390951%2C%201.0%5D%2C%20%5B-22.9260879698254%2C%20-43.1802141098749%2C%201.0%5D%2C%20%5B-22.929181098938%2C%20-43.1767206192017%2C%201.0%5D%2C%20%5B-22.9229798126221%2C%20-43.216720123291%2C%205.0%5D%2C%20%5B-22.9371039446662%2C%20-43.1773681640625%2C%201.0%5D%2C%20%5B-22.9402997551895%2C%20-43.2005433803651%2C%201.0%5D%2C%20%5B-22.9409468968709%2C%20-43.1868947347005%2C%201.0%5D%2C%20%5B-22.9405220630122%2C%20-43.2101631912531%2C%201.0%5D%2C%20%5B-22.9834996928339%2C%20-43.2059344416079%2C%201.0%5D%2C%20%5B-22.9740166297326%2C%20-43.2177801865798%2C%201.0%5D%2C%20%5B-22.9550807170379%2C%20-43.243036058214%2C%202.0%5D%2C%20%5B-22.9230208591539%2C%20-43.4222462712502%2C%201.0%5D%2C%20%5B-22.9087603432792%2C%20-43.3643139430455%2C%201.0%5D%2C%20%5B-22.9375768141313%2C%20-43.3447649406664%2C%201.0%5D%2C%20%5B-22.9541648539101%2C%20-43.6007241039741%2C%201.0%5D%2C%20%5B-22.9006575596185%2C%20-43.5562697987497%2C%201.0%5D%2C%20%5B-22.9347858911828%2C%20-43.6400028663346%2C%201.0%5D%2C%20%5B-22.9512107736372%2C%20-43.6247639773514%2C%201.0%5D%2C%20%5B-22.9133892626989%2C%20-43.6153618721735%2C%201.0%5D%2C%20%5B-22.5656865193294%2C%20-43.7072387527633%2C%201.0%5D%2C%20%5B-22.7521715331496%2C%20-43.586261280796%2C%201.0%5D%2C%20%5B-22.8508778466119%2C%20-43.1060975816515%2C%201.0%5D%2C%20%5B-22.7439506835296%2C%20-43.0775503270766%2C%201.0%5D%2C%20%5B-22.8915652851067%2C%20-43.1332266401537%2C%201.0%5D%2C%20%5B-22.8864519081864%2C%20-43.213472403732%2C%201.0%5D%2C%20%5B-22.821986419986%2C%20-43.0658733098194%2C%201.0%5D%2C%20%5B-22.7931555986404%2C%20-43.0039023399353%2C%201.0%5D%2C%20%5B-22.5518245615742%2C%20-42.8169574087316%2C%201.0%5D%2C%20%5B-22.8288968037336%2C%20-42.9771127700806%2C%201.0%5D%2C%20%5B-22.7614217693523%2C%20-43.3083520016428%2C%201.0%5D%2C%20%5B-22.6531677775913%2C%20-43.2861349317763%2C%201.0%5D%2C%20%5B-22.6503422627082%2C%20-43.2273635864258%2C%201.0%5D%2C%20%5B-22.2344017028809%2C%20-43.1018390655518%2C%201.0%5D%2C%20%5B-22.7544627428055%2C%20-43.47219414711%2C%201.0%5D%2C%20%5B-22.7131535908947%2C%20-43.3439837939119%2C%201.0%5D%2C%20%5B-22.8005064817575%2C%20-43.447864312392%2C%201.0%5D%2C%20%5B-22.4098739624023%2C%20-43.6863689422607%2C%201.0%5D%2C%20%5B-22.1542789156251%2C%20-43.1667496627521%2C%201.0%5D%2C%20%5B-22.2799563544137%2C%20-42.5307805742536%2C%201.0%5D%2C%20%5B-22.5571146663703%2C%20-42.0162666892384%2C%201.0%5D%2C%20%5B-22.8557597344075%2C%20-42.0967189193865%2C%201.0%5D%2C%20%5B-22.861484672591%2C%20-42.1620531137924%2C%201.0%5D%2C%20%5B-22.8339766148598%2C%20-42.116048735957%2C%202.0%5D%2C%20%5B-22.8286957464356%2C%20-42.1686612281246%2C%201.0%5D%2C%20%5B-20.2400498677091%2C%20-40.43887851446%2C%201.0%5D%2C%20%5B-20.3082509444932%2C%20-40.318836901821%2C%202.0%5D%2C%20%5B-20.2921145968967%2C%20-40.3076628367106%2C%201.0%5D%2C%20%5B-20.3629784788629%2C%20-40.3192984829642%2C%202.0%5D%2C%20%5B-20.373852594549%2C%20-40.3423959766735%2C%201.0%5D%2C%20%5B-20.2470119134181%2C%20-40.4868449194957%2C%202.0%5D%2C%20%5B-20.2045830364885%2C%20-40.284787329312%2C%201.0%5D%2C%20%5B-20.1986664977728%2C%20-40.3408676970239%2C%201.0%5D%2C%20%5B-19.9171014228022%2C%20-40.4195240723097%2C%201.0%5D%2C%20%5B-20.5863486131032%2C%20-40.7644230524699%2C%201.0%5D%2C%20%5B-20.8038744926453%2C%20-40.6233830451965%2C%201.0%5D%2C%20%5B-20.8366756439209%2C%20-40.7304617563883%2C%202.0%5D%2C%20%5B-21.1550445556641%2C%20-41.5657157897949%2C%201.0%5D%2C%20%5B-20.7631009419759%2C%20-41.5315093994141%2C%201.0%5D%2C%20%5B-20.770897547404%2C%20-41.673880259196%2C%201.0%5D%2C%20%5B-19.4945413278321%2C%20-40.6416238817118%2C%202.0%5D%2C%20%5B-19.1275997161865%2C%20-40.486567179362%2C%201.0%5D%2C%20%5B-19.9242084305008%2C%20-43.9275395281903%2C%201.0%5D%2C%20%5B-19.882639472549%2C%20-43.9283694705448%2C%201.0%5D%2C%20%5B-19.9140621693929%2C%20-43.922359161377%2C%201.0%5D%2C%20%5B-19.9197543506891%2C%20-44.005753584311%2C%201.0%5D%2C%20%5B-19.9429029945199%2C%20-43.9536920795004%2C%202.0%5D%2C%20%5B-19.9331464265522%2C%20-43.9871457895838%2C%201.0%5D%2C%20%5B-19.9831838087602%2C%20-44.023013791171%2C%201.0%5D%2C%20%5B-19.9627187696554%2C%20-44.0136488575046%2C%201.0%5D%2C%20%5B-19.909003532539%2C%20-44.0377060195147%2C%201.0%5D%2C%20%5B-19.9059375181037%2C%20-44.0055075499971%2C%201.0%5D%2C%20%5B-19.8754517760458%2C%20-43.9802679713768%2C%201.0%5D%2C%20%5B-19.8645616878163%2C%20-43.9878160303289%2C%201.0%5D%2C%20%5B-19.8790577443441%2C%20-43.977448832194%2C%201.0%5D%2C%20%5B-19.8445259469454%2C%20-43.9791904511999%2C%201.0%5D%2C%20%5B-19.7992313893636%2C%20-43.9819891357422%2C%201.0%5D%2C%20%5B-19.8755982081095%2C%20-43.9582816441854%2C%201.0%5D%2C%20%5B-19.848072421794%2C%20-43.9376509919459%2C%201.0%5D%2C%20%5B-19.8721407055855%2C%20-44.1249971389771%2C%201.0%5D%2C%20%5B-19.9162764100947%2C%20-44.0305922418578%2C%201.0%5D%2C%20%5B-19.9578350888023%2C%20-44.0465194122701%2C%201.0%5D%2C%20%5B-19.8604490126687%2C%20-44.06868660587%2C%201.0%5D%2C%20%5B-19.8987869889769%2C%20-44.2792463955814%2C%202.0%5D%2C%20%5B-19.7840073325417%2C%20-44.0158528848128%2C%201.0%5D%2C%20%5B-19.7123000526428%2C%20-43.995601348877%2C%201.0%5D%2C%20%5B-19.6396792729696%2C%20-43.8901945749919%2C%201.0%5D%2C%20%5B-19.5476004282633%2C%20-43.8930892944336%2C%201.0%5D%2C%20%5B-19.8086389888417%2C%20-44.0737077539617%2C%201.0%5D%2C%20%5B-19.7944341519984%2C%20-44.0072481419013%2C%201.0%5D%2C%20%5B-19.997783934933%2C%20-43.8675732228948%2C%201.0%5D%2C%20%5B-18.9134419157698%2C%20-41.9941460377461%2C%201.0%5D%2C%20%5B-19.5171835044169%2C%20-42.7563512835755%2C%201.0%5D%2C%20%5B-19.4586819889707%2C%20-42.7505728833616%2C%201.0%5D%2C%20%5B-19.7786672776745%2C%20-42.2782811400711%2C%201.0%5D%2C%20%5B-20.1653913770403%2C%20-42.1157395499093%2C%201.0%5D%2C%20%5B-20.1058702468872%2C%20-42.4576225280762%2C%201.0%5D%2C%20%5B-20.2420783042908%2C%20-43.5516481399536%2C%201.0%5D%2C%20%5B-20.3715925216675%2C%20-45.6623706817627%2C%201.0%5D%2C%20%5B-19.897114308869%2C%20-45.3620159102649%2C%201.0%5D%2C%20%5B-19.7976722717285%2C%20-45.6824655532837%2C%201.0%5D%2C%20%5B-19.4615230560303%2C%20-45.5990257263184%2C%201.0%5D%2C%20%5B-19.4153308868408%2C%20-45.78173828125%2C%201.0%5D%2C%20%5B-19.27161693573%2C%20-45.557014465332%2C%201.0%5D%2C%20%5B-19.8653661650371%2C%20-44.6038136117827%2C%201.0%5D%2C%20%5B-19.6291608810425%2C%20-44.6623344421387%2C%201.0%5D%2C%20%5B-19.5080828559533%2C%20-44.2480054973217%2C%201.0%5D%2C%20%5B-19.5621643066406%2C%20-44.0798482894897%2C%201.0%5D%2C%20%5B-19.7458297184535%2C%20-44.2496141706194%2C%201.0%5D%2C%20%5B-18.9510773443893%2C%20-44.4522220325093%2C%201.0%5D%2C%20%5B-19.7658570607503%2C%20-43.0352643330892%2C%203.0%5D%2C%20%5B-21.7237922350566%2C%20-43.3662417729696%2C%201.0%5D%2C%20%5B-21.7187998154584%2C%20-43.3549860225004%2C%201.0%5D%2C%20%5B-21.1856938254449%2C%20-43.8048826802161%2C%201.0%5D%2C%20%5B-21.2030210797749%2C%20-43.818249732729%2C%201.0%5D%2C%20%5B-21.4636206626892%2C%20-43.5504465103149%2C%201.0%5D%2C%20%5B-21.1267101764679%2C%20-44.2471861010012%2C%201.0%5D%2C%20%5B-19.8227939605713%2C%20-42.3765468597412%2C%201.0%5D%2C%20%5B-20.619593584979%2C%20-43.0213331469783%2C%201.0%5D%2C%20%5B-21.3443001075224%2C%20-42.7372743649916%2C%201.0%5D%2C%20%5B-21.245538075765%2C%20-42.2373644510905%2C%201.0%5D%2C%20%5B-19.7999124526978%2C%20-41.7147464752197%2C%201.0%5D%2C%20%5B-20.1278127034505%2C%20-41.5975882212321%2C%202.0%5D%2C%20%5B-21.4636859428592%2C%20-45.4146833962541%2C%201.0%5D%2C%20%5B-21.1623914044931%2C%20-44.9492778340611%2C%201.0%5D%2C%20%5B-21.6327011120394%2C%20-45.2419480977568%2C%201.0%5D%2C%20%5B-22.3020511354719%2C%20-45.3964322635106%2C%202.0%5D%2C%20%5B-21.7629904539689%2C%20-46.5353375556196%2C%202.0%5D%2C%20%5B-19.7373657226563%2C%20-47.9864349365234%2C%201.0%5D%2C%20%5B-19.7833898478541%2C%20-47.7620671370934%2C%202.0%5D%2C%20%5B-19.808237515963%2C%20-47.9279856070494%2C%201.0%5D%2C%20%5B-19.7612941741943%2C%20-47.939509677887%2C%201.0%5D%2C%20%5B-19.7161583120172%2C%20-47.9595241893422%2C%201.0%5D%2C%20%5B-19.7795399938311%2C%20-47.8829242161342%2C%202.0%5D%2C%20%5B-19.7664273523651%2C%20-47.7975236335687%2C%201.0%5D%2C%20%5B-19.7415467975209%2C%20-47.7191682093352%2C%201.0%5D%2C%20%5B-19.3099746704102%2C%20-48.9278093973796%2C%201.0%5D%2C%20%5B-19.6246462217191%2C%20-46.8597271035357%2C%201.0%5D%2C%20%5B-19.6100406324057%2C%20-46.8458776689113%2C%201.0%5D%2C%20%5B-19.8653701782227%2C%20-47.4415412902832%2C%201.0%5D%2C%20%5B-20.0063494746549%2C%20-48.6758896032146%2C%201.0%5D%2C%20%5B-19.5354251861572%2C%20-49.4851932525635%2C%201.0%5D%2C%20%5B-19.0157926237428%2C%20-49.2965217689415%2C%201.0%5D%2C%20%5B-19.010191869024%2C%20-49.1349626569605%2C%201.0%5D%2C%20%5B-18.9000409426111%2C%20-48.2950523766604%2C%202.0%5D%2C%20%5B-18.9480377165869%2C%20-48.2481860879027%2C%203.0%5D%2C%20%5B-18.9078488250277%2C%20-48.1121983770114%2C%201.0%5D%2C%20%5B-18.9381528398265%2C%20-48.2110750447149%2C%204.0%5D%2C%20%5B-18.9583752600701%2C%20-48.1777601640303%2C%201.0%5D%2C%20%5B-18.9485472233599%2C%20-48.2571198820607%2C%201.0%5D%2C%20%5B-18.8982117722213%2C%20-48.2830158603349%2C%201.0%5D%2C%20%5B-18.9404326991031%2C%20-48.2056088363915%2C%201.0%5D%2C%20%5B-18.7103806830741%2C%20-47.9830675211039%2C%201.0%5D%2C%20%5B-18.7413815014983%2C%20-48.0154723337252%2C%201.0%5D%2C%20%5B-18.7291512489319%2C%20-47.5015420913696%2C%201.0%5D%2C%20%5B-18.4863843917847%2C%20-47.4029636383057%2C%201.0%5D%2C%20%5B-17.3997416630597%2C%20-46.7218793143689%2C%206.0%5D%2C%20%5B-16.420430829861%2C%20-46.8753808552787%2C%2010.0%5D%2C%20%5B-16.7858835043886%2C%20-46.6244406679128%2C%202.0%5D%2C%20%5B-16.6967617849789%2C%20-46.6544786730842%2C%201.0%5D%2C%20%5B-16.0303173065186%2C%20-46.1377201080322%2C%203.0%5D%2C%20%5B-16.1162300109863%2C%20-46.2764015197754%2C%201.0%5D%2C%20%5B-16.2465381622314%2C%20-45.9147605895996%2C%203.0%5D%2C%20%5B-16.566556930542%2C%20-46.060619354248%2C%206.0%5D%2C%20%5B-18.7379926045736%2C%20-46.2694625854492%2C%201.0%5D%2C%20%5B-15.6247104008993%2C%20-46.4256235758464%2C%207.0%5D%2C%20%5B-15.9133372306824%2C%20-46.1057147979736%2C%205.0%5D%2C%20%5B-17.4981274604797%2C%20-46.1832447052002%2C%203.0%5D%2C%20%5B-18.6536234296415%2C%20-46.4844089648541%2C%201.0%5D%2C%20%5B-18.6230962951978%2C%20-46.4692838191986%2C%202.0%5D%2C%20%5B-18.6080272893111%2C%20-46.4664354324341%2C%201.0%5D%2C%20%5B-18.6163998060329%2C%20-46.465230952027%2C%201.0%5D%2C%20%5B-18.6599208068848%2C%20-46.4233749805797%2C%201.0%5D%2C%20%5B-19.103333791097%2C%20-46.9150810241699%2C%201.0%5D%2C%20%5B-18.9762001876478%2C%20-46.9006503952874%2C%203.0%5D%2C%20%5B-17.7434317270915%2C%20-46.1731605529785%2C%205.0%5D%2C%20%5B-17.0045566558838%2C%20-46.0092964172363%2C%202.0%5D%2C%20%5B-17.9903437296549%2C%20-46.9060872395833%2C%202.0%5D%2C%20%5B-18.1773866017659%2C%20-46.8067766825358%2C%201.0%5D%2C%20%5B-19.4660897254944%2C%20-45.1226272583008%2C%201.0%5D%2C%20%5B-18.3790130615234%2C%20-46.0318241119385%2C%202.0%5D%2C%20%5B-19.1970176696777%2C%20-46.2647304534912%2C%201.0%5D%2C%20%5B-19.0016264915466%2C%20-46.3097648620605%2C%202.0%5D%2C%20%5B-19.7851435343424%2C%20-45.4779109954834%2C%201.0%5D%2C%20%5B-18.2079830169678%2C%20-45.2341321309408%2C%202.0%5D%2C%20%5B-17.5982789993286%2C%20-44.7336292266846%2C%201.0%5D%2C%20%5B-17.4988270707018%2C%20-44.8784938722145%2C%204.0%5D%2C%20%5B-17.3653526306152%2C%20-44.9656848907471%2C%201.0%5D%2C%20%5B-18.3017883300781%2C%20-44.676082611084%2C%201.0%5D%2C%20%5B-16.3468907356262%2C%20-44.7665550231934%2C%2014.0%5D%2C%20%5B-15.7105965614319%2C%20-45.6853504180908%2C%201.0%5D%2C%20%5B-17.0834054946899%2C%20-44.8683929443359%2C%201.0%5D%2C%20%5B-17.2832336425781%2C%20-45.5444552103678%2C%201.0%5D%2C%20%5B-16.2118701934814%2C%20-44.4326934814453%2C%202.0%5D%2C%20%5B-17.1640809377034%2C%20-44.8806228637695%2C%201.0%5D%2C%20%5B-16.7788264262676%2C%20-43.8880733299255%2C%202.0%5D%2C%20%5B-16.8187770767415%2C%20-43.9093735638787%2C%201.0%5D%2C%20%5B-16.7811786931787%2C%20-43.8707908673475%2C%201.0%5D%2C%20%5B-16.0936887635658%2C%20-43.4585849052698%2C%201.0%5D%2C%20%5B-14.7540307044983%2C%20-43.9375553131104%2C%202.0%5D%2C%20%5B-16.2959077835083%2C%20-44.30947265625%2C%2016.0%5D%2C%20%5B-16.5885543823242%2C%20-44.6674499511719%2C%201.0%5D%2C%20%5B-15.3225593566895%2C%20-44.7573108673096%2C%201.0%5D%2C%20%5B-15.6072371800741%2C%20-44.3545748392741%2C%201.0%5D%2C%20%5B-14.4222536087036%2C%20-44.3667945861816%2C%202.0%5D%2C%20%5B-15.8154251098633%2C%20-42.2135208129883%2C%201.0%5D%2C%20%5B-16.083279800415%2C%20-42.2951622009277%2C%201.0%5D%2C%20%5B-17.6275520324707%2C%20-42.5288181304932%2C%201.0%5D%2C%20%5B-16.5608034133911%2C%20-41.500732421875%2C%201.0%5D%2C%20%5B-18.2519288063049%2C%20-44.4079370498657%2C%201.0%5D%2C%20%5B-17.6926263173421%2C%20-42.5176264444987%2C%201.0%5D%2C%20%5B-18.822546005249%2C%20-42.7049255371094%2C%201.0%5D%2C%20%5B-17.8944761076242%2C%20-41.614548549018%2C%201.0%5D%2C%20%5B-17.4666690826416%2C%20-41.8800735473633%2C%201.0%5D%2C%20%5B-17.0778913497925%2C%20-40.7171211242676%2C%201.0%5D%2C%20%5B-15.9979190826416%2C%20-39.9478607177734%2C%201.0%5D%2C%20%5B-16.0036869049072%2C%20-41.2835025787354%2C%201.0%5D%2C%20%5B-12.9731865892507%2C%20-38.5049085135412%2C%201.0%5D%2C%20%5B-12.9726185843209%2C%20-38.4823329961189%2C%201.0%5D%2C%20%5B-12.9512569060237%2C%20-38.4961927662725%2C%201.0%5D%2C%20%5B-12.9648525303808%2C%20-38.5137800545528%2C%201.0%5D%2C%20%5B-12.9866151014964%2C%20-38.4803478240967%2C%201.0%5D%2C%20%5B-13.0256543206234%2C%20-38.5086298923866%2C%201.0%5D%2C%20%5B-12.9463756395423%2C%20-38.4865966050521%2C%201.0%5D%2C%20%5B-12.9047269884185%2C%20-38.3965413769961%2C%201.0%5D%2C%20%5B-12.9936370682298%2C%20-38.4664447182103%2C%201.0%5D%2C%20%5B-12.6178150177002%2C%20-38.3011093139648%2C%201.0%5D%2C%20%5B-12.2803367012425%2C%20-39.0112024809185%2C%201.0%5D%2C%20%5B-12.2483887672424%2C%20-38.7505855560303%2C%201.0%5D%2C%20%5B-12.6017861366272%2C%20-38.96462059021%2C%201.0%5D%2C%20%5B-11.0010846455892%2C%20-40.4044539133708%2C%201.0%5D%2C%20%5B-11.8476934432983%2C%20-40.7925205230713%2C%203.0%5D%2C%20%5B-11.5985897064209%2C%20-41.1148391723633%2C%201.0%5D%2C%20%5B-11.7367623647054%2C%20-41.2720324198405%2C%201.0%5D%2C%20%5B-11.3054847717285%2C%20-41.8576534816197%2C%203.0%5D%2C%20%5B-11.2232122421265%2C%20-48.1016044616699%2C%201.0%5D%2C%20%5B-11.7649211883545%2C%20-40.5335884094238%2C%201.0%5D%2C%20%5B-11.0443959236145%2C%20-41.9239101409912%2C%202.0%5D%2C%20%5B-11.9848934809367%2C%20-39.8764381408691%2C%201.0%5D%2C%20%5B-12.0220410029093%2C%20-41.9759063720703%2C%203.0%5D%2C%20%5B-13.8490257791048%2C%20-40.0783275027117%2C%202.0%5D%2C%20%5B-13.0252356529236%2C%20-40.0660514831543%2C%201.0%5D%2C%20%5B-13.3505697250366%2C%20-39.0450973510742%2C%201.0%5D%2C%20%5B-13.7350196838379%2C%20-39.1455707550049%2C%201.0%5D%2C%20%5B-16.2821664810181%2C%20-39.0303478240967%2C%202.0%5D%2C%20%5B-16.4242203052227%2C%20-39.0751433739295%2C%204.0%5D%2C%20%5B-16.219772469345%2C%20-39.6572995541701%2C%201.0%5D%2C%20%5B-16.2494682597223%2C%20-39.5946619265547%2C%201.0%5D%2C%20%5B-16.5747337341309%2C%20-39.5587348937988%2C%201.0%5D%2C%20%5B-17.3730802536011%2C%20-40.2227954864502%2C%201.0%5D%2C%20%5B-14.6340808868408%2C%20-42.0701427459717%2C%201.0%5D%2C%20%5B-14.0679893493652%2C%20-42.4859294891357%2C%201.0%5D%2C%20%5B-14.4854063987732%2C%20-43.5631275177002%2C%202.0%5D%2C%20%5B-14.337192217509%2C%20-43.7138926188151%2C%201.0%5D%2C%20%5B-13.0824027061462%2C%20-42.9541387557983%2C%209.0%5D%2C%20%5B-13.9352000554403%2C%20-44.0853500366211%2C%202.0%5D%2C%20%5B-12.8171806335449%2C%20-42.7448272705078%2C%202.0%5D%2C%20%5B-13.8473132451375%2C%20-41.1819267272949%2C%201.0%5D%2C%20%5B-12.3197431564331%2C%20-40.697322845459%2C%201.0%5D%2C%20%5B-13.0199171702067%2C%20-39.9406674702962%2C%201.0%5D%2C%20%5B-12.6588895797729%2C%20-40.5960968017578%2C%201.0%5D%2C%20%5B-12.7669544219971%2C%20-40.2088432312012%2C%202.0%5D%2C%20%5B-12.2810049057007%2C%20-41.1687927246094%2C%201.0%5D%2C%20%5B-11.0902161598206%2C%20-43.1418285369873%2C%206.0%5D%2C%20%5B-10.717116355896%2C%20-41.5822639465332%2C%204.0%5D%2C%20%5B-11.0027076721191%2C%20-44.5219741821289%2C%208.0%5D%2C%20%5B-10.7196035385132%2C%20-44.0362644195557%2C%203.0%5D%2C%20%5B-9.62467765808105%2C%20-42.0831089019775%2C%205.0%5D%2C%20%5B-9.51859664916992%2C%20-43.0121669769287%2C%203.0%5D%2C%20%5B-10.0055017471313%2C%20-42.4868564605713%2C%201.0%5D%2C%20%5B-9.29980055491129%2C%20-41.3157018025716%2C%202.0%5D%2C%20%5B-10.8222661018372%2C%20-42.8367404937744%2C%201.0%5D%2C%20%5B-11.4292855262756%2C%20-42.5052452087402%2C%201.0%5D%2C%20%5B-14.891973177592%2C%20-42.2622667948405%2C%202.0%5D%2C%20%5B-11.5624170303345%2C%20-43.2779293060303%2C%201.0%5D%2C%20%5B-13.2506702423096%2C%20-43.4327857971191%2C%206.0%5D%2C%20%5B-17.3338918685913%2C%20-44.4611206054688%2C%201.0%5D%2C%20%5B-13.4844712615013%2C%20-43.6018013954163%2C%201.0%5D%2C%20%5B-13.5433581670125%2C%20-42.8292630513509%2C%204.0%5D%2C%20%5B-13.3740377426147%2C%20-44.5869140625%2C%207.0%5D%2C%20%5B-13.615339756012%2C%20-44.9586048126221%2C%201.0%5D%2C%20%5B-13.4040503501892%2C%20-44.193244934082%2C%205.0%5D%2C%20%5B-14.1805119514465%2C%20-44.5342712402344%2C%205.0%5D%2C%20%5B-13.8258848190308%2C%20-44.3913249969482%2C%204.0%5D%2C%20%5B-12.9828491210938%2C%20-44.0496292114258%2C%203.0%5D%2C%20%5B-12.7607421875%2C%20-43.9513473510742%2C%202.0%5D%2C%20%5B-12.7419862747192%2C%20-41.2328948974609%2C%201.0%5D%2C%20%5B-12.704035282135%2C%20-44.0089435577393%2C%202.0%5D%2C%20%5B-12.253939265571%2C%20-44.5163073582952%2C%206.0%5D%2C%20%5B-12.4868956990325%2C%20-44.3500855065495%2C%201.0%5D%2C%20%5B-12.5106353759766%2C%20-44.6111189165423%2C%201.0%5D%2C%20%5B-12.2532963486852%2C%20-44.7147273520998%2C%201.0%5D%2C%20%5B-12.0952892303467%2C%20-43.4031397501628%2C%201.0%5D%2C%20%5B-12.4819431304932%2C%20-44.4685153961182%2C%201.0%5D%2C%20%5B-12.0947216351827%2C%20-45.7927290598551%2C%203.0%5D%2C%20%5B-12.1148099899292%2C%20-45.1461315155029%2C%202.0%5D%2C%20%5B-12.204047203064%2C%20-44.3509120941162%2C%202.0%5D%2C%20%5B-11.7501525878906%2C%20-44.9109859466553%2C%205.0%5D%2C%20%5B-11.0406818389893%2C%20-45.1921195983887%2C%207.0%5D%2C%20%5B-12.1787599650296%2C%20-38.4096404566909%2C%201.0%5D%2C%20%5B-12.4418928146362%2C%20-38.315128326416%2C%201.0%5D%2C%20%5B-11.8218247890472%2C%20-37.5911245346069%2C%201.0%5D%2C%20%5B-11.6379764080048%2C%20-38.6000318527222%2C%201.0%5D%2C%20%5B-9.63299568815727%2C%20-38.3119479934604%2C%201.0%5D%2C%20%5B-9.57108208190563%2C%20-40.4774459129156%2C%201.0%5D%2C%20%5B-13.6427748203278%2C%20-40.1165256500244%2C%202.0%5D%2C%20%5B-10.9231384197871%2C%20-37.0653771559397%2C%201.0%5D%2C%20%5B-11.0101620810372%2C%20-37.1903544834682%2C%201.0%5D%2C%20%5B-8.07021786184872%2C%20-34.9285302723155%2C%201.0%5D%2C%20%5B-8.12355075249305%2C%20-34.9042182922363%2C%201.0%5D%2C%20%5B-8.05106522305177%2C%20-34.954710365522%2C%201.0%5D%2C%20%5B-8.03353455046977%2C%20-34.9135563117413%2C%201.0%5D%2C%20%5B-8.01048676009031%2C%20-34.9103967725616%2C%201.0%5D%2C%20%5B-7.97039302321505%2C%20-34.8610659827871%2C%201.0%5D%2C%20%5B-8.00307085037231%2C%20-34.8793488311768%2C%201.0%5D%2C%20%5B-8.29113326275857%2C%20-35.1167639825577%2C%201.0%5D%2C%20%5B-8.15343153476715%2C%20-34.9256866318839%2C%201.0%5D%2C%20%5B-8.18484074638805%2C%20-34.9948172716317%2C%201.0%5D%2C%20%5B-8.22772759158595%2C%20-35.0718685591302%2C%201.0%5D%2C%20%5B-8.62128761201292%2C%20-35.6223583530735%2C%201.0%5D%2C%20%5B-8.11175883415692%2C%20-35.1610405564974%2C%201.0%5D%2C%20%5B-8.40934467315674%2C%20-36.6982002258301%2C%202.0%5D%2C%20%5B-8.46663045883179%2C%20-36.775520324707%2C%201.0%5D%2C%20%5B-8.65575695037842%2C%20-36.3202095031738%2C%201.0%5D%2C%20%5B-8.82526798248291%2C%20-36.5671211242676%2C%201.0%5D%2C%20%5B-8.65986728668213%2C%20-35.1537761688232%2C%201.0%5D%2C%20%5B-8.47337675094604%2C%20-35.7291793823242%2C%202.0%5D%2C%20%5B-7.76412733395894%2C%20-40.1448523203532%2C%201.0%5D%2C%20%5B-7.77636852264404%2C%20-38.2707099914551%2C%201.0%5D%2C%20%5B-7.4741895198822%2C%20-37.2748718261719%2C%201.0%5D%2C%20%5B-7.34889578819275%2C%20-37.3071117401123%2C%202.0%5D%2C%20%5B-7.58801603317261%2C%20-37.5399360656738%2C%202.0%5D%2C%20%5B-7.66949987411499%2C%20-37.4586811065674%2C%201.0%5D%2C%20%5B-8.20964129765829%2C%20-37.9112892150879%2C%202.0%5D%2C%20%5B-7.83723068237305%2C%20-38.1022758483887%2C%202.0%5D%2C%20%5B-9.68320434243529%2C%20-35.7924996222649%2C%201.0%5D%2C%20%5B-9.79428255410841%2C%20-35.8411675912363%2C%201.0%5D%2C%20%5B-9.78882932662964%2C%20-35.9444598251147%2C%201.0%5D%2C%20%5B-9.59663143254778%2C%20-35.772125089229%2C%201.0%5D%2C%20%5B-9.692595725669%2C%20-35.8616645354077%2C%201.0%5D%2C%20%5B-9.73372999827067%2C%20-35.8800735473633%2C%201.0%5D%2C%20%5B-9.90116024017334%2C%20-36.2066383361816%2C%201.0%5D%2C%20%5B-9.22230100631714%2C%20-37.715353012085%2C%201.0%5D%2C%20%5B-9.5311713218689%2C%20-37.0027313232422%2C%201.0%5D%2C%20%5B-7.13249883254369%2C%20-34.8733896573385%2C%201.0%5D%2C%20%5B-7.12634674708049%2C%20-34.8363961113824%2C%201.0%5D%2C%20%5B-7.08717019028134%2C%20-34.8468191888597%2C%201.0%5D%2C%20%5B-7.10705871851939%2C%20-34.8369678641265%2C%201.0%5D%2C%20%5B-7.12449358596283%2C%20-34.8832474014386%2C%201.0%5D%2C%20%5B-7.13652358256595%2C%20-34.8266122844857%2C%202.0%5D%2C%20%5B-7.12999311206848%2C%20-34.8741231302576%2C%201.0%5D%2C%20%5B-7.1491003972621%2C%20-34.8409893527353%2C%201.0%5D%2C%20%5B-7.16543644329287%2C%20-34.8369030862484%2C%201.0%5D%2C%20%5B-7.172049209325%2C%20-34.8708367395883%2C%201.0%5D%2C%20%5B-7.07510168752938%2C%20-35.1259906982707%2C%201.0%5D%2C%20%5B-7.15219819545746%2C%20-36.4140710830688%2C%202.0%5D%2C%20%5B-7.26241683959961%2C%20-36.2413101196289%2C%201.0%5D%2C%20%5B-6.84986937046051%2C%20-35.4890041351318%2C%201.0%5D%2C%20%5B-7.03254899978638%2C%20-36.9881294250488%2C%201.0%5D%2C%20%5B-6.68428134918213%2C%20-34.941915512085%2C%201.0%5D%2C%20%5B-6.88115634918213%2C%20-35.2213890075684%2C%201.0%5D%2C%20%5B-7.14708744829351%2C%20-34.9924538352273%2C%201.0%5D%2C%20%5B-7.37485504150391%2C%20-35.2398414611816%2C%201.0%5D%2C%20%5B-7.19891020655632%2C%20-35.8900503158569%2C%201.0%5D%2C%20%5B-7.2188598305346%2C%20-35.8711768460561%2C%201.0%5D%2C%20%5B-7.23414496694292%2C%20-35.9041034970965%2C%201.0%5D%2C%20%5B-7.22026085853577%2C%20-35.887228012085%2C%201.0%5D%2C%20%5B-7.54857301712036%2C%20-35.7119178771973%2C%201.0%5D%2C%20%5B-7.71506366729736%2C%20-36.9568725585938%2C%201.0%5D%2C%20%5B-7.62097978591919%2C%20-37.1509208679199%2C%201.0%5D%2C%20%5B-6.92742395401001%2C%20-37.0963745117188%2C%201.0%5D%2C%20%5B-7.23769617080688%2C%20-36.5575227737427%2C%201.0%5D%2C%20%5B-7.07467434106284%2C%20-37.2429457910803%2C%201.0%5D%2C%20%5B-7.22902950373563%2C%20-37.3126542784951%2C%202.0%5D%2C%20%5B-7.22171235084534%2C%20-37.2514896392822%2C%201.0%5D%2C%20%5B-7.25825548171997%2C%20-37.4366207122803%2C%201.0%5D%2C%20%5B-7.62517619132996%2C%20-37.8753681182861%2C%201.0%5D%2C%20%5B-7.10778522491455%2C%20-37.7146778106689%2C%201.0%5D%2C%20%5B-7.19693303108215%2C%20-37.9268817901611%2C%202.0%5D%2C%20%5B-7.41808144251506%2C%20-37.9886385599772%2C%202.0%5D%2C%20%5B-6.94827890396118%2C%20-37.6938796043396%2C%201.0%5D%2C%20%5B-6.94142031669617%2C%20-38.1354885101318%2C%201.0%5D%2C%20%5B-7.09992965062459%2C%20-36.9723688761393%2C%201.0%5D%2C%20%5B-6.81409867604574%2C%20-37.844290415446%2C%203.0%5D%2C%20%5B-6.37764811515808%2C%20-37.8239517211914%2C%201.0%5D%2C%20%5B-6.34686737060547%2C%20-37.7460510253906%2C%203.0%5D%2C%20%5B-6.44511461257935%2C%20-37.9292526245117%2C%201.0%5D%2C%20%5B-6.88899433612823%2C%20-38.5580215454102%2C%203.0%5D%2C%20%5B-6.72618210315704%2C%20-38.4513607025146%2C%201.0%5D%2C%20%5B-6.52089524269104%2C%20-38.4129753112793%2C%203.0%5D%2C%20%5B-6.92591142654419%2C%20-38.6741523742676%2C%201.0%5D%2C%20%5B-7.49965977668762%2C%20-38.4038162231445%2C%202.0%5D%2C%20%5B-7.42550361156464%2C%20-38.2643575668335%2C%201.0%5D%2C%20%5B-7.33413696289063%2C%20-35.9645042419434%2C%201.0%5D%2C%20%5B-5.79238777936891%2C%20-35.2247397844181%2C%201.0%5D%2C%20%5B-5.79375833210192%2C%20-35.2057490298623%2C%201.0%5D%2C%20%5B-5.79826852679252%2C%20-35.211293554306%2C%201.0%5D%2C%20%5B-5.92989545602065%2C%20-35.2990181849553%2C%201.0%5D%2C%20%5B-5.91760650561873%2C%20-35.2966666980914%2C%202.0%5D%2C%20%5B-5.79684729301013%2C%20-35.2730919397794%2C%201.0%5D%2C%20%5B-5.80758810335873%2C%20-35.2483418938573%2C%201.0%5D%2C%20%5B-5.81314011911551%2C%20-35.2278886636098%2C%201.0%5D%2C%20%5B-5.82949508153475%2C%20-35.2723424618061%2C%201.0%5D%2C%20%5B-5.81972936292489%2C%20-35.2351109981537%2C%201.0%5D%2C%20%5B-5.82037748049383%2C%20-35.2415180467579%2C%201.0%5D%2C%20%5B-5.92638406474075%2C%20-35.3556729411031%2C%201.0%5D%2C%20%5B-5.84167870180107%2C%20-35.209514665015%2C%201.0%5D%2C%20%5B-5.97073639423475%2C%20-35.2953342122769%2C%201.0%5D%2C%20%5B-5.8652435370854%2C%20-35.2056625911168%2C%201.0%5D%2C%20%5B-6.44799962197581%2C%20-35.7070226115565%2C%201.0%5D%2C%20%5B-5.73457384639316%2C%20-35.2435248904758%2C%201.0%5D%2C%20%5B-5.73927876699037%2C%20-35.2743513412897%2C%201.0%5D%2C%20%5B-5.90480635529858%2C%20-35.2597098916264%2C%201.0%5D%2C%20%5B-6.18717606862386%2C%20-35.0907440185547%2C%201.0%5D%2C%20%5B-6.37583130598068%2C%20-35.1391081809998%2C%201.0%5D%2C%20%5B-6.21210994720459%2C%20-35.3673583984375%2C%201.0%5D%2C%20%5B-6.42620658874512%2C%20-36.2077827453613%2C%201.0%5D%2C%20%5B-5.88133185936345%2C%20-35.4148439963658%2C%201.0%5D%2C%20%5B-5.77337542656929%2C%20-35.2869599096237%2C%201.0%5D%2C%20%5B-6.45964415868123%2C%20-37.094539642334%2C%201.0%5D%2C%20%5B-6.6630802154541%2C%20-37.3683185577393%2C%201.0%5D%2C%20%5B-6.37846541404724%2C%20-37.3511753082275%2C%201.0%5D%2C%20%5B-6.6564412911733%2C%20-36.3804658253988%2C%201.0%5D%2C%20%5B-5.19393716918098%2C%20-37.3153720667333%2C%201.0%5D%2C%20%5B-4.83758044242859%2C%20-37.2893733978271%2C%201.0%5D%2C%20%5B-5.7806388537089%2C%20-37.5749003092448%2C%201.0%5D%2C%20%5B-10.704344590505%2C%20-37.9113502502441%2C%201.0%5D%2C%20%5B-5.94632005691528%2C%20-37.8244247436523%2C%201.0%5D%2C%20%5B-6.11113786697388%2C%20-37.9563655853271%2C%201.0%5D%2C%20%5B-6.02507352828979%2C%20-37.987174987793%2C%201.0%5D%2C%20%5B-5.93627691268921%2C%20-37.9494171142578%2C%201.0%5D%2C%20%5B-5.84080767631531%2C%20-37.9909801483154%2C%201.0%5D%2C%20%5B-6.10783040523529%2C%20-38.2053022384644%2C%202.0%5D%2C%20%5B-6.08927321434021%2C%20-38.1232013702393%2C%201.0%5D%2C%20%5B-6.41450929641724%2C%20-38.3886070251465%2C%203.0%5D%2C%20%5B-6.46190929412842%2C%20-38.1797294616699%2C%201.0%5D%2C%20%5B-6.41377449035645%2C%20-38.0150260925293%2C%203.0%5D%2C%20%5B-3.93412156231635%2C%20-38.6078955388702%2C%202.0%5D%2C%20%5B-3.75035995670727%2C%20-38.5362355368478%2C%201.0%5D%2C%20%5B-3.7475690305233%2C%20-38.5310678482056%2C%201.0%5D%2C%20%5B-3.7388620685648%2C%20-38.5864663300691%2C%201.0%5D%2C%20%5B-3.74183040543606%2C%20-38.5067379600123%2C%203.0%5D%2C%20%5B-3.73436822891235%2C%20-38.5220151265462%2C%201.0%5D%2C%20%5B-3.8917400608324%2C%20-38.5543687376257%2C%201.0%5D%2C%20%5B-3.8964819672207%2C%20-38.6006987889608%2C%201.0%5D%2C%20%5B-3.76880448502921%2C%20-38.4875850781717%2C%201.0%5D%2C%20%5B-4.0708476628444%2C%20-38.6183280353398%2C%201.0%5D%2C%20%5B-3.87394385409534%2C%20-38.5925678740767%2C%201.0%5D%2C%20%5B-3.91634180234826%2C%20-38.6445467078167%2C%201.0%5D%2C%20%5B-4.02104182243347%2C%20-38.7205564325506%2C%201.0%5D%2C%20%5B-3.78635921725979%2C%20-38.5625461231579%2C%201.0%5D%2C%20%5B-4.04197532429415%2C%20-38.7993367812213%2C%201.0%5D%2C%20%5B-3.76588703888767%2C%20-38.6277121417927%2C%201.0%5D%2C%20%5B-3.9344313423536%2C%20-38.6227325305604%2C%201.0%5D%2C%20%5B-4.21333580658215%2C%20-38.6887975099708%2C%201.0%5D%2C%20%5B-3.8260833566839%2C%20-38.5494816767705%2C%201.0%5D%2C%20%5B-3.82121562702771%2C%20-38.5769893013857%2C%201.0%5D%2C%20%5B-3.79403349569627%2C%20-38.5010743307901%2C%201.0%5D%2C%20%5B-3.82180406205097%2C%20-38.5242690470681%2C%202.0%5D%2C%20%5B-3.91172495484352%2C%20-38.3895125389099%2C%201.0%5D%2C%20%5B-6.0554050718035%2C%20-39.0228206089565%2C%201.0%5D%2C%20%5B-4.15846126167863%2C%20-40.3836111845794%2C%201.0%5D%2C%20%5B-3.72343532244364%2C%20-40.3935953776042%2C%201.0%5D%2C%20%5B-3.79883027076721%2C%20-40.2640819549561%2C%202.0%5D%2C%20%5B-3.46064293384552%2C%20-40.2088031768799%2C%201.0%5D%2C%20%5B-3.54610049724579%2C%20-40.6545505523682%2C%201.0%5D%2C%20%5B-3.91712367534637%2C%20-40.3840217590332%2C%201.0%5D%2C%20%5B-4.70567488670349%2C%20-40.5635299682617%2C%201.0%5D%2C%20%5B-4.90156435966492%2C%20-40.7613487243652%2C%201.0%5D%2C%20%5B-4.542635679245%2C%20-40.7172508239746%2C%202.0%5D%2C%20%5B-3.56632522741954%2C%20-41.0928217569987%2C%204.0%5D%2C%20%5B-3.95661236156117%2C%20-40.8813929471102%2C%202.0%5D%2C%20%5B-3.8532692193985%2C%20-40.9186973571777%2C%202.0%5D%2C%20%5B-3.93696284294128%2C%20-40.9063310623169%2C%202.0%5D%2C%20%5B-4.04576539993286%2C%20-40.8654289245605%2C%204.0%5D%2C%20%5B-4.16322016716003%2C%20-40.7501316070557%2C%201.0%5D%2C%20%5B-2.89969384670258%2C%20-40.8416290283203%2C%201.0%5D%2C%20%5B-3.03333735466003%2C%20-41.23069190979%2C%201.0%5D%2C%20%5B-3.67694382578413%2C%20-39.6156764520663%2C%201.0%5D%2C%20%5B-3.51521353265072%2C%20-39.6023845266789%2C%201.0%5D%2C%20%5B-3.22697615623474%2C%20-40.1163234710693%2C%201.0%5D%2C%20%5B-2.8286661307017%2C%20-40.4723154703776%2C%201.0%5D%2C%20%5B-3.59847629070282%2C%20-39.4350128173828%2C%201.0%5D%2C%20%5B-3.27573299407959%2C%20-39.2666130065918%2C%202.0%5D%2C%20%5B-4.13070344924927%2C%20-38.2445163726807%2C%201.0%5D%2C%20%5B-4.93504247665405%2C%20-37.972599029541%2C%201.0%5D%2C%20%5B-7.19933579532245%2C%20-39.2878049602945%2C%201.0%5D%2C%20%5B-7.1593938740817%2C%20-39.3986278013749%2C%201.0%5D%2C%20%5B-7.28557562828064%2C%20-39.8865871429443%2C%201.0%5D%2C%20%5B-7.3044490814209%2C%20-39.3026294708252%2C%202.0%5D%2C%20%5B-7.0418643951416%2C%20-39.285551071167%2C%201.0%5D%2C%20%5B-7.4907865524292%2C%20-38.9856910705566%2C%201.0%5D%2C%20%5B-7.58477020263672%2C%20-39.2813911437988%2C%201.0%5D%2C%20%5B-6.75055885314941%2C%20-38.9656143188477%2C%201.0%5D%2C%20%5B-6.78816111882528%2C%20-38.7185567220052%2C%201.0%5D%2C%20%5B-7.18043160438538%2C%20-38.7791690826416%2C%202.0%5D%2C%20%5B-6.40075397491455%2C%20-38.859354019165%2C%201.0%5D%2C%20%5B-6.27032470703125%2C%20-39.2425594329834%2C%201.0%5D%2C%20%5B-5.61318349838257%2C%20-38.7635173797607%2C%201.0%5D%2C%20%5B-6.31491943402479%2C%20-39.2817092507573%2C%201.0%5D%2C%20%5B-5.84464470545451%2C%20-40.7028210957845%2C%202.0%5D%2C%20%5B-5.52349888898764%2C%20-40.6645682511056%2C%202.0%5D%2C%20%5B-4.8324818611145%2C%20-40.3215980529785%2C%202.0%5D%2C%20%5B-4.79095959663391%2C%20-40.0632991790771%2C%201.0%5D%2C%20%5B-5.19572234153748%2C%20-39.3497638702393%2C%201.0%5D%2C%20%5B-5.12985062599182%2C%20-39.7325286865234%2C%206.0%5D%2C%20%5B-5.08538206352675%2C%20-42.8066572394253%2C%201.0%5D%2C%20%5B-5.09039426716891%2C%20-42.805552222512%2C%201.0%5D%2C%20%5B-5.42944863438606%2C%20-42.8433197140694%2C%201.0%5D%2C%20%5B-5.40968683472386%2C%20-42.9051068977073%2C%201.0%5D%2C%20%5B-5.04785588741302%2C%20-42.8043216705323%2C%201.0%5D%2C%20%5B-5.08017795252246%2C%20-42.7786388840786%2C%201.0%5D%2C%20%5B-5.19896214252169%2C%20-42.8385718627409%2C%201.0%5D%2C%20%5B-5.25154604428056%2C%20-42.8779897828033%2C%201.0%5D%2C%20%5B-5.0768059975859%2C%20-42.778469638548%2C%201.0%5D%2C%20%5B-5.12427179792286%2C%20-42.7885489674796%2C%201.0%5D%2C%20%5B-5.25598864683083%2C%20-42.8494561626798%2C%201.0%5D%2C%20%5B-5.98133055787337%2C%20-43.0499267076191%2C%201.0%5D%2C%20%5B-5.22035070317132%2C%20-42.7849821499416%2C%201.0%5D%2C%20%5B-5.28699903360149%2C%20-42.7672756886322%2C%201.0%5D%2C%20%5B-5.22621622896104%2C%20-42.9772077618223%2C%201.0%5D%2C%20%5B-5.20482941829797%2C%20-42.7372542294589%2C%201.0%5D%2C%20%5B-6.15120577812195%2C%20-38.5903244018555%2C%201.0%5D%2C%20%5B-4.58565616607666%2C%20-42.8532447814941%2C%202.0%5D%2C%20%5B-4.5159957408905%2C%20-42.6070766448975%2C%201.0%5D%2C%20%5B-3.81110322475433%2C%20-42.6288146972656%2C%201.0%5D%2C%20%5B-4.40937507152557%2C%20-42.5553703308105%2C%202.0%5D%2C%20%5B-3.81344032287598%2C%20-42.4480094909668%2C%201.0%5D%2C%20%5B-3.4645117521286%2C%20-42.370246887207%2C%201.0%5D%2C%20%5B-3.48943948745728%2C%20-42.5024013519287%2C%202.0%5D%2C%20%5B-3.31503248214722%2C%20-42.0842761993408%2C%201.0%5D%2C%20%5B-3.71664273738861%2C%20-41.6634998321533%2C%201.0%5D%2C%20%5B-3.2903979770721%2C%20-41.924275806972%2C%201.0%5D%2C%20%5B-3.23328757081421%2C%20-41.8727171410818%2C%202.0%5D%2C%20%5B-2.93558442349337%2C%20-41.7876073097696%2C%201.0%5D%2C%20%5B-2.88142514228821%2C%20-41.6620114644369%2C%204.0%5D%2C%20%5B-2.85223007202148%2C%20-41.8177998860677%2C%201.0%5D%2C%20%5B-4.25212574005127%2C%20-41.2713737487793%2C%201.0%5D%2C%20%5B-4.42741088867187%2C%20-41.4554656982422%2C%202.0%5D%2C%20%5B-4.8239529132843%2C%20-42.1655445098877%2C%202.0%5D%2C%20%5B-4.91562906901042%2C%20-41.7332890828451%2C%201.0%5D%2C%20%5B-6.4033883412679%2C%20-41.7394269307454%2C%201.0%5D%2C%20%5B-6.11117053031921%2C%20-41.7899169921875%2C%201.0%5D%2C%20%5B-5.49983668327332%2C%20-41.3819713592529%2C%201.0%5D%2C%20%5B-6.24488377571106%2C%20-42.8474903106689%2C%201.0%5D%2C%20%5B-5.99752020835876%2C%20-42.7035503387451%2C%201.0%5D%2C%20%5B-5.81887602806091%2C%20-42.5004196166992%2C%201.0%5D%2C%20%5B-5.89001297950745%2C%20-42.6361274719238%2C%201.0%5D%2C%20%5B-5.83113527297974%2C%20-42.6230735778809%2C%201.0%5D%2C%20%5B-7.01676106452942%2C%20-42.1285400390625%2C%206.0%5D%2C%20%5B-6.23420143127441%2C%20-42.5254503885905%2C%202.0%5D%2C%20%5B-6.79860925674438%2C%20-42.2800540924072%2C%201.0%5D%2C%20%5B-6.47189998626709%2C%20-41.9445991516113%2C%201.0%5D%2C%20%5B-14.7258498668671%2C%20-42.4931411743164%2C%201.0%5D%2C%20%5B-7.42595720291138%2C%20-41.9126949310303%2C%201.0%5D%2C%20%5B-6.99447989463806%2C%20-41.1372261047363%2C%201.0%5D%2C%20%5B-6.99774312973022%2C%20-41.0279407501221%2C%201.0%5D%2C%20%5B-7.85335254669189%2C%20-41.9092388153076%2C%201.0%5D%2C%20%5B-7.69091701507568%2C%20-42.6916828155518%2C%201.0%5D%2C%20%5B-8.13630676269531%2C%20-41.143102645874%2C%201.0%5D%2C%20%5B-8.35653829574585%2C%20-42.2518768310547%2C%201.0%5D%2C%20%5B-9.01440397898356%2C%20-42.6931699117025%2C%207.0%5D%2C%20%5B-9.2209644317627%2C%20-43.131555557251%2C%201.0%5D%2C%20%5B-16.1949353218079%2C%20-42.983814239502%2C%202.0%5D%2C%20%5B-9.00441026687622%2C%20-41.9854373931885%2C%201.0%5D%2C%20%5B-9.27965450286865%2C%20-43.3291530609131%2C%201.0%5D%2C%20%5B-6.82884803194749%2C%20-43.0147653077778%2C%202.0%5D%2C%20%5B-6.95991448203071%2C%20-43.1147207979296%2C%201.0%5D%2C%20%5B-7.6015031337738%2C%20-43.0250415802002%2C%201.0%5D%2C%20%5B-6.97298192977905%2C%20-42.6736793518066%2C%202.0%5D%2C%20%5B-7.68871927261353%2C%20-43.7225131988525%2C%201.0%5D%2C%20%5B-7.7806978225708%2C%20-43.1372909545898%2C%202.0%5D%2C%20%5B-6.78968048095703%2C%20-43.4361400604248%2C%203.0%5D%2C%20%5B-7.23744559288025%2C%20-44.5543766021729%2C%202.0%5D%2C%20%5B-8.09669494628906%2C%20-43.2470645904541%2C%203.0%5D%2C%20%5B-8.18402290344238%2C%20-43.7943058013916%2C%202.0%5D%2C%20%5B-8.11106014251709%2C%20-42.9466991424561%2C%201.0%5D%2C%20%5B-9.07178147633871%2C%20-44.3590151468913%2C%203.0%5D%2C%20%5B-9.01457595825195%2C%20-44.4132823944092%2C%201.0%5D%2C%20%5B-8.94920921325684%2C%20-44.1307315826416%2C%201.0%5D%2C%20%5B-9.48734617233276%2C%20-44.5841617584229%2C%201.0%5D%2C%20%5B-8.81423759460449%2C%20-44.1216506958008%2C%203.0%5D%2C%20%5B-8.72685098648071%2C%20-44.2355251312256%2C%203.0%5D%2C%20%5B-9.75051212310791%2C%20-45.305944442749%2C%203.0%5D%2C%20%5B-10.0327858924866%2C%20-44.3019065856934%2C%205.0%5D%2C%20%5B-10.3244314193726%2C%20-44.2407073974609%2C%201.0%5D%2C%20%5B-10.135148525238%2C%20-43.9495582580566%2C%201.0%5D%2C%20%5B-10.2248482704163%2C%20-44.6374950408936%2C%201.0%5D%2C%20%5B-10.1253781318665%2C%20-44.9530792236328%2C%201.0%5D%2C%20%5B-10.4402403831482%2C%20-45.1612720489502%2C%204.0%5D%2C%20%5B-10.8179321289063%2C%20-44.8235683441162%2C%202.0%5D%2C%20%5B-2.54931662797928%2C%20-44.3141413497925%2C%201.0%5D%2C%20%5B-2.67816016674042%2C%20-44.6364275796073%2C%201.0%5D%2C%20%5B-2.79362187093618%2C%20-44.3288317310567%2C%201.0%5D%2C%20%5B-2.61122921780423%2C%20-44.3348472526481%2C%201.0%5D%2C%20%5B-2.59507588851146%2C%20-44.286743750939%2C%201.0%5D%2C%20%5B-2.53978856335516%2C%20-44.2647220445716%2C%201.0%5D%2C%20%5B-2.85657376852649%2C%20-44.3609495330276%2C%201.0%5D%2C%20%5B-2.57007317395987%2C%20-44.2648381808781%2C%202.0%5D%2C%20%5B-2.54953606976759%2C%20-44.2479531973%2C%201.0%5D%2C%20%5B-2.54921768672431%2C%20-44.2711472582461%2C%202.0%5D%2C%20%5B-2.55520933718721%2C%20-44.2431281381402%2C%201.0%5D%2C%20%5B-2.61262830988321%2C%20-44.227384564806%2C%201.0%5D%2C%20%5B-2.67435543753884%2C%20-44.2517435247248%2C%201.0%5D%2C%20%5B-2.65929198265076%2C%20-44.2171476470554%2C%202.0%5D%2C%20%5B-2.52610627673138%2C%20-44.2430061691109%2C%202.0%5D%2C%20%5B-2.52730227487032%2C%20-44.2877103228902%2C%201.0%5D%2C%20%5B-2.54504073563442%2C%20-44.2849624797862%2C%201.0%5D%2C%20%5B-2.70668827715054%2C%20-44.2630348313023%2C%201.0%5D%2C%20%5B-2.71679364990544%2C%20-44.2643044961465%2C%201.0%5D%2C%20%5B-2.55256656805674%2C%20-44.1545270284017%2C%203.0%5D%2C%20%5B-2.49355554580688%2C%20-44.1404144287109%2C%201.0%5D%2C%20%5B-2.86401295661926%2C%20-44.0400447845459%2C%201.0%5D%2C%20%5B-3.21150100231171%2C%20-44.9996109008789%2C%204.0%5D%2C%20%5B-2.89412808418274%2C%20-44.8799133300781%2C%201.0%5D%2C%20%5B-2.70283079147339%2C%20-44.8309211730957%2C%201.0%5D%2C%20%5B-2.1322261095047%2C%20-44.6023464202881%2C%201.0%5D%2C%20%5B-2.03924810886383%2C%20-44.777769724528%2C%202.0%5D%2C%20%5B-1.82468324899673%2C%20-44.8648300170898%2C%202.0%5D%2C%20%5B-1.72693508863449%2C%20-45.1422119140625%2C%201.0%5D%2C%20%5B-1.41880601644516%2C%20-45.7758235931396%2C%201.0%5D%2C%20%5B-4.29037523269653%2C%20-45.2904357910156%2C%203.0%5D%2C%20%5B-3.27638149261475%2C%20-45.65625%2C%201.0%5D%2C%20%5B-3.26403117179871%2C%20-45.0234692891439%2C%202.0%5D%2C%20%5B-3.66907393932343%2C%20-45.8496837615967%2C%201.0%5D%2C%20%5B-6.39187872409821%2C%20-42.7559242248535%2C%206.0%5D%2C%20%5B-3.39217090606689%2C%20-57.6601467132568%2C%202.0%5D%2C%20%5B-5.79216229915619%2C%20-39.4256553649902%2C%201.0%5D%2C%20%5B-4.0342845916748%2C%20-44.4664916992188%2C%201.0%5D%2C%20%5B-3.6849399805069%2C%20-44.3517971038818%2C%202.0%5D%2C%20%5B-3.52348208427429%2C%20-44.5125122070313%2C%201.0%5D%2C%20%5B-3.74218988418579%2C%20-43.3604621887207%2C%202.0%5D%2C%20%5B-4.2783637046814%2C%20-44.3420346577962%2C%202.0%5D%2C%20%5B-3.49734747409821%2C%20-42.5615825653076%2C%201.0%5D%2C%20%5B-3.37151300907135%2C%20-42.4197864532471%2C%202.0%5D%2C%20%5B-2.88753247261047%2C%20-41.9041786193848%2C%201.0%5D%2C%20%5B-2.96369677782059%2C%20-42.1185255050659%2C%201.0%5D%2C%20%5B-5.60769718418951%2C%20-43.4985899220342%2C%201.0%5D%2C%20%5B-5.11394149916512%2C%20-43.3841512407575%2C%201.0%5D%2C%20%5B-4.85382073505505%2C%20-43.3738864176982%2C%201.0%5D%2C%20%5B-4.83108717865414%2C%20-43.4394666580927%2C%201.0%5D%2C%20%5B-5.00548530823339%2C%20-43.4331870507941%2C%204.0%5D%2C%20%5B-5.25289747374399%2C%20-43.5160266985212%2C%201.0%5D%2C%20%5B-4.80577444533507%2C%20-43.4417622884115%2C%202.0%5D%2C%20%5B-4.62710022926331%2C%20-43.4679470062256%2C%202.0%5D%2C%20%5B-5.11316537857056%2C%20-43.8107376098633%2C%201.0%5D%2C%20%5B-4.25664377212524%2C%20-43.0148296356201%2C%201.0%5D%2C%20%5B-4.15182733535767%2C%20-42.9455108642578%2C%201.0%5D%2C%20%5B-5.02122860439753%2C%20-42.9427386461678%2C%203.0%5D%2C%20%5B-5.07065932273865%2C%20-42.8528067779541%2C%202.0%5D%2C%20%5B-5.25716158842585%2C%20-42.9340615971073%2C%201.0%5D%2C%20%5B-5.68107104301453%2C%20-43.0904769897461%2C%201.0%5D%2C%20%5B-5.52068591117859%2C%20-43.2027587890625%2C%201.0%5D%2C%20%5B-6.2508111000061%2C%20-43.0022659301758%2C%201.0%5D%2C%20%5B-6.75201320648193%2C%20-43.1375408172607%2C%201.0%5D%2C%20%5B-6.49379730224609%2C%20-43.7035694122314%2C%202.0%5D%2C%20%5B-4.28051745891571%2C%20-44.2363586425781%2C%201.0%5D%2C%20%5B-4.22223968505859%2C%20-44.7838241577148%2C%201.0%5D%2C%20%5B-4.00958931446075%2C%20-44.8879585266113%2C%201.0%5D%2C%20%5B-4.61277389526367%2C%20-44.981632232666%2C%201.0%5D%2C%20%5B-4.85469150543213%2C%20-44.5125122070313%2C%201.0%5D%2C%20%5B-4.75156092643738%2C%20-44.914421081543%2C%201.0%5D%2C%20%5B-4.9823522567749%2C%20-44.7183094024658%2C%201.0%5D%2C%20%5B-5.28701043128967%2C%20-44.4937725067139%2C%203.0%5D%2C%20%5B-5.25773684183757%2C%20-44.6894340515137%2C%202.0%5D%2C%20%5B-5.15457773208618%2C%20-44.2995891571045%2C%201.0%5D%2C%20%5B-5.32168960571289%2C%20-44.2423820495605%2C%201.0%5D%2C%20%5B-5.25886511802673%2C%20-44.0562553405762%2C%201.0%5D%2C%20%5B-7.53212952613831%2C%20-45.718466758728%2C%202.0%5D%2C%20%5B-9.11179256439209%2C%20-45.9352397918701%2C%201.0%5D%2C%20%5B-6.37180066108704%2C%20-44.6441879272461%2C%201.0%5D%2C%20%5B-6.81209945678711%2C%20-44.6451435089111%2C%201.0%5D%2C%20%5B-5.39604231916872%2C%20-47.1516333271686%2C%201.0%5D%2C%20%5B-5.48616600036621%2C%20-47.40452003479%2C%202.0%5D%2C%20%5B-5.55800771713257%2C%20-47.352180480957%2C%201.0%5D%2C%20%5B-4.93970835208893%2C%20-47.4755392074585%2C%202.0%5D%2C%20%5B-5.82113838195801%2C%20-46.1506404876709%2C%204.0%5D%2C%20%5B-5.50627152125041%2C%20-45.2462005615234%2C%2016.0%5D%2C%20%5B-5.36980867385864%2C%20-45.6363544464111%2C%201.0%5D%2C%20%5B-6.340824842453%2C%20-47.4014377593994%2C%201.0%5D%2C%20%5B-7.25558233261108%2C%20-47.3829307556152%2C%202.0%5D%2C%20%5B-7.36103916168213%2C%20-46.622407913208%2C%201.0%5D%2C%20%5B-1.45010375022888%2C%20-48.4947250366211%2C%201.0%5D%2C%20%5B-2.20166700290538%2C%20-48.4697098348333%2C%202.0%5D%2C%20%5B-1.44637717381872%2C%20-48.4709422949589%2C%201.0%5D%2C%20%5B-1.4493909065037%2C%20-48.4895203975921%2C%201.0%5D%2C%20%5B-1.62483506202698%2C%20-48.4213646281849%2C%201.0%5D%2C%20%5B-1.56391620871268%2C%20-48.4588280226055%2C%202.0%5D%2C%20%5B-1.4365270215532%2C%20-48.4641742982726%2C%201.0%5D%2C%20%5B-1.70684345267914%2C%20-48.465219085281%2C%202.0%5D%2C%20%5B-1.38946331569127%2C%20-48.4630706242153%2C%201.0%5D%2C%20%5B-1.48758791236702%2C%20-48.3567196207309%2C%201.0%5D%2C%20%5B-1.3777255247224%2C%20-48.4621590236448%2C%201.0%5D%2C%20%5B-1.5278715851778%2C%20-48.4147201126921%2C%201.0%5D%2C%20%5B-1.37579916843346%2C%20-48.5034560476031%2C%201.0%5D%2C%20%5B-1.47498725707455%2C%20-48.3714411570411%2C%201.0%5D%2C%20%5B-1.36110469301542%2C%20-48.3896774927775%2C%201.0%5D%2C%20%5B-1.37274639973274%2C%20-48.4563468052791%2C%201.0%5D%2C%20%5B-2.48371362978337%2C%20-54.2627033158845%2C%201.0%5D%2C%20%5B-2.56342253776697%2C%20-54.3578833405083%2C%201.0%5D%2C%20%5B-2.43028251479443%2C%20-54.2483134735796%2C%201.0%5D%2C%20%5B-3.71736097335815%2C%20-53.7399826049805%2C%201.0%5D%2C%20%5B-4.27090436220169%2C%20-55.9883971214294%2C%201.0%5D%2C%20%5B-3.14178927767445%2C%20-51.9982105577496%2C%201.0%5D%2C%20%5B-6.58289376894633%2C%20-52.0513515472412%2C%201.0%5D%2C%20%5B-6.74976897239685%2C%20-51.1574096679688%2C%201.0%5D%2C%20%5B-6.75347375869751%2C%20-51.0739345550537%2C%201.0%5D%2C%20%5B-1.72458942731222%2C%20-48.8866717020671%2C%201.0%5D%2C%20%5B-4.24481213092804%2C%20-49.9791173934937%2C%201.0%5D%2C%20%5B-5.23913668997494%2C%20-49.1781766679552%2C%201.0%5D%2C%20%5B-5.14287788325017%2C%20-49.1315656983026%2C%201.0%5D%2C%20%5B-5.60889827108931%2C%20-49.3351333004305%2C%201.0%5D%2C%20%5B-4.8637803528044%2C%20-49.194257986666%2C%201.0%5D%2C%20%5B-4.38542358972589%2C%20-48.9830410237215%2C%201.0%5D%2C%20%5B-7.56675970554352%2C%20-49.1102991104126%2C%202.0%5D%2C%20%5B-6.07640846570333%2C%20-50.7350432078044%2C%204.0%5D%2C%20%5B-5.5364716053009%2C%20-48.7327270507813%2C%201.0%5D%2C%20%5B-8.26175975799561%2C%20-49.2651882171631%2C%202.0%5D%2C%20%5B-7.5630931854248%2C%20-49.7090892791748%2C%201.0%5D%2C%20%5B-7.76260321162571%2C%20-50.1124427118034%2C%201.0%5D%2C%20%5B-7.91964623418826%2C%20-50.0319789219828%2C%201.0%5D%2C%20%5B-6.44772291183472%2C%20-48.86554590861%2C%201.0%5D%2C%20%5B-5.10765290260315%2C%20-49.4836126963298%2C%201.0%5D%2C%20%5B-17.2699766159058%2C%20-50.1054859161377%2C%201.0%5D%2C%20%5B-3.5392450094223%2C%20-47.4918355941772%2C%202.0%5D%2C%20%5B-4.78223896026611%2C%20-48.0730905532837%2C%201.0%5D%2C%20%5B-1.76558180650075%2C%20-47.4443079630534%2C%201.0%5D%2C%20%5B-1.26450969775518%2C%20-47.0053990681966%2C%201.0%5D%2C%20%5B-5.50527716875076%2C%20-47.1661499023437%2C%201.0%5D%2C%20%5B-5.80505611896515%2C%20-47.3586967468262%2C%202.0%5D%2C%20%5B-1.4738635026692%2C%20-48.0589267126198%2C%201.0%5D%2C%20%5B-1.29906857013702%2C%20-48.1626987457275%2C%201.0%5D%2C%20%5B-1.33700199921926%2C%20-48.2689399719238%2C%201.0%5D%2C%20%5B-1.67958680788676%2C%20-50.4886169433594%2C%201.0%5D%2C%20%5B-0.653339723752292%2C%20-50.9760698634673%2C%202.0%5D%2C%20%5B-3.30462802540172%2C%20-59.9498483484442%2C%201.0%5D%2C%20%5B-3.21323839334341%2C%20-59.9219326703976%2C%202.0%5D%2C%20%5B-3.10348033101371%2C%20-60.0069521357504%2C%201.0%5D%2C%20%5B-3.10409743889518%2C%20-60.0833916318589%2C%201.0%5D%2C%20%5B-3.18378094146991%2C%20-59.927528618122%2C%201.0%5D%2C%20%5B-3.17213388818961%2C%20-59.9209137513087%2C%201.0%5D%2C%20%5B-3.12106837761111%2C%20-59.9963834809094%2C%201.0%5D%2C%20%5B-3.28223714997283%2C%20-59.8706370665964%2C%201.0%5D%2C%20%5B-3.06297318079999%2C%20-59.956612099218%2C%201.0%5D%2C%20%5B-3.68035399417082%2C%20-59.6644885142644%2C%201.0%5D%2C%20%5B2.71166807977777%2C%20-60.5931295294511%2C%201.0%5D%2C%20%5B1.01680129766464%2C%20-60.0387878417969%2C%201.0%5D%2C%20%5B-10.252368434358%2C%20-67.2544249118363%2C%201.0%5D%2C%20%5B-10.2323988024928%2C%20-67.2988624893316%2C%201.0%5D%2C%20%5B-10.1558052341143%2C%20-67.0800774892171%2C%201.0%5D%2C%20%5B-10.1534466743469%2C%20-67.7377052307129%2C%201.0%5D%2C%20%5B-10.6521391868591%2C%20-68.5019607543945%2C%201.0%5D%2C%20%5B-10.0765857696533%2C%20-67.0572624206543%2C%2023.0%5D%2C%20%5B-8.83743858337402%2C%20-69.260009765625%2C%201.0%5D%2C%20%5B-8.16405010223389%2C%20-70.3534812927246%2C%201.0%5D%2C%20%5B-15.7906422615051%2C%20-47.8795445760091%2C%201366.0%5D%2C%20%5B-15.8058156967163%2C%20-47.8827896118164%2C%209.0%5D%2C%20%5B-15.7912257015705%2C%20-47.884264588356%2C%20272.0%5D%2C%20%5B-15.788280248642%2C%20-47.8814778327942%2C%2010.0%5D%2C%20%5B-15.8075342178345%2C%20-47.867115020752%2C%2019.0%5D%2C%20%5B-15.7725973129272%2C%20-47.8905258178711%2C%203.0%5D%2C%20%5B-15.7887868881226%2C%20-47.8933563232422%2C%204.0%5D%2C%20%5B-15.7993040084839%2C%20-47.8717651367188%2C%204.0%5D%2C%20%5B-15.7887868881226%2C%20-47.8933563232422%2C%207.0%5D%2C%20%5B-15.7887868881226%2C%20-47.8933563232422%2C%203.0%5D%2C%20%5B-15.7938709259033%2C%20-47.8684167861938%2C%202.0%5D%2C%20%5B-15.780627597462%2C%20-47.8613981767134%2C%2017.0%5D%2C%20%5B-15.7805137634277%2C%20-47.9364318847656%2C%203.0%5D%2C%20%5B-15.7812414169312%2C%20-47.8920955657959%2C%201.0%5D%2C%20%5B-15.7902584075928%2C%20-47.8894424438477%2C%202.0%5D%2C%20%5B-15.7942514419556%2C%20-47.8707580566406%2C%203.0%5D%2C%20%5B-15.7887868881226%2C%20-47.8933563232422%2C%203.0%5D%2C%20%5B-15.7911062240601%2C%20-47.8796157836914%2C%203.0%5D%2C%20%5B-15.7902584075928%2C%20-47.8893547058105%2C%204.0%5D%2C%20%5B-15.7902584075928%2C%20-47.8893547058105%2C%204.0%5D%2C%20%5B-15.7887868881226%2C%20-47.8933563232422%2C%201.0%5D%2C%20%5B-15.7887868881226%2C%20-47.8933563232422%2C%204.0%5D%2C%20%5B-15.7887868881226%2C%20-47.8933563232422%2C%204.0%5D%2C%20%5B-15.7947325706482%2C%20-47.8802871704102%2C%203.0%5D%2C%20%5B-15.7887868881226%2C%20-47.8933563232422%2C%202.0%5D%2C%20%5B-15.8010904215559%2C%20-47.8871426159823%2C%20189.0%5D%2C%20%5B-15.7905927658081%2C%20-47.9343330383301%2C%202.0%5D%2C%20%5B-15.7983322143555%2C%20-47.8824348449707%2C%203.0%5D%2C%20%5B-15.7989641825358%2C%20-47.8824081420898%2C%2071.0%5D%2C%20%5B-15.795126914978%2C%20-47.8934593200684%2C%204.0%5D%2C%20%5B-15.7851066589355%2C%20-47.9080696105957%2C%2025.0%5D%2C%20%5B-15.7983322143555%2C%20-47.8824348449707%2C%201.0%5D%2C%20%5B-15.7866568565369%2C%20-47.8956336975098%2C%20299.0%5D%2C%20%5B-15.8204202651978%2C%20-47.9186782836914%2C%203.0%5D%2C%20%5B-15.8019723892212%2C%20-47.8813705444336%2C%206.0%5D%2C%20%5B-15.81201171875%2C%20-47.9163799285889%2C%2044.0%5D%2C%20%5B-15.8038148880005%2C%20-47.8841094970703%2C%2012.0%5D%2C%20%5B-15.8181762695313%2C%20-47.9172592163086%2C%203.0%5D%2C%20%5B-15.7878707885742%2C%20-47.9018074035645%2C%2020.0%5D%2C%20%5B-15.8038997650146%2C%20-47.8773778279622%2C%2028.0%5D%2C%20%5B-15.7988042831421%2C%20-47.879524230957%2C%209.0%5D%2C%20%5B-15.7996988296509%2C%20-47.8794631958008%2C%208.0%5D%2C%20%5B-15.7994964122772%2C%20-47.8614149093628%2C%2057.0%5D%2C%20%5B-15.7992595672607%2C%20-47.8931884765625%2C%208.0%5D%2C%20%5B-15.8006687164307%2C%20-47.8612823486328%2C%2015.0%5D%2C%20%5B-15.8006687164307%2C%20-47.8612823486328%2C%209.0%5D%2C%20%5B-15.7887868881226%2C%20-47.8933563232422%2C%207.0%5D%2C%20%5B-15.7991571426392%2C%20-47.8626823425293%2C%2029.0%5D%2C%20%5B-15.8221045703423%2C%20-47.8915749526605%2C%20370.0%5D%2C%20%5B-15.8239097595215%2C%20-47.8977088928223%2C%205.0%5D%2C%20%5B-15.8220829963684%2C%20-47.9116313934326%2C%20589.0%5D%2C%20%5B-15.8050979375839%2C%20-47.8864809672038%2C%20399.0%5D%2C%20%5B-15.8089596804451%2C%20-47.8889339671415%2C%20475.0%5D%2C%20%5B-15.8088684583965%2C%20-47.8899271111739%2C%20620.0%5D%2C%20%5B-15.8133526409374%2C%20-47.8937119876637%2C%20452.0%5D%2C%20%5B-15.8077455096775%2C%20-47.8842375013563%2C%20525.0%5D%2C%20%5B-15.8110127815833%2C%20-47.8878003633939%2C%20399.0%5D%2C%20%5B-15.813463528951%2C%20-47.8896104318124%2C%20426.0%5D%2C%20%5B-15.8152516910008%2C%20-47.8911759512765%2C%20420.0%5D%2C%20%5B-15.8155774540371%2C%20-47.8954427507189%2C%20398.0%5D%2C%20%5B-15.8167085647583%2C%20-47.9007207085105%2C%20451.0%5D%2C%20%5B-15.8197958469391%2C%20-47.9011682510376%2C%20436.0%5D%2C%20%5B-15.8180248737335%2C%20-47.8941465105329%2C%20476.0%5D%2C%20%5B-15.8204727172852%2C%20-47.8971423445077%2C%20485.0%5D%2C%20%5B-15.8222528033786%2C%20-47.8996478893139%2C%20368.0%5D%2C%20%5B-15.8240666022668%2C%20-47.9019864889292%2C%20551.0%5D%2C%20%5B-15.8221303715425%2C%20-47.9043161728803%2C%20400.0%5D%2C%20%5B-15.8216187689039%2C%20-47.9079142676459%2C%20559.0%5D%2C%20%5B-15.8260514315437%2C%20-47.9096044652602%2C%20526.0%5D%2C%20%5B-15.8265500068665%2C%20-47.9102760314941%2C%20539.0%5D%2C%20%5B-15.8262885638646%2C%20-47.9053000041417%2C%20604.0%5D%2C%20%5B-15.8272425015767%2C%20-47.9077658335368%2C%20464.0%5D%2C%20%5B-15.8301961333663%2C%20-47.9104547853823%2C%20403.0%5D%2C%20%5B-15.8283886909485%2C%20-47.9160759449005%2C%20409.0%5D%2C%20%5B-15.8314012078678%2C%20-47.9171393899357%2C%20630.0%5D%2C%20%5B-15.8338786293479%2C%20-47.9202806809369%2C%20637.0%5D%2C%20%5B-15.8343148761325%2C%20-47.9216802385118%2C%20466.0%5D%2C%20%5B-15.8315816102205%2C%20-47.9131434405292%2C%20433.0%5D%2C%20%5B-15.8328661742034%2C%20-47.9153531392415%2C%20566.0%5D%2C%20%5B-15.8353432927813%2C%20-47.9183840070452%2C%20552.0%5D%2C%20%5B-15.8376591205597%2C%20-47.9208728790283%2C%20479.0%5D%2C%20%5B-15.8053550720215%2C%20-47.8979429765181%2C%20103.0%5D%2C%20%5B-15.7973384857178%2C%20-47.8915748596191%2C%2018.0%5D%2C%20%5B-15.7996562811045%2C%20-47.8926737858699%2C%2040.0%5D%2C%20%5B-15.8022108811599%2C%20-47.8972801795373%2C%2014.0%5D%2C%20%5B-15.7970834374428%2C%20-47.890331029892%2C%2033.0%5D%2C%20%5B-15.7963268106634%2C%20-47.8914900693026%2C%2021.0%5D%2C%20%5B-15.7992654641469%2C%20-47.8947235743205%2C%2027.0%5D%2C%20%5B-15.8004555702209%2C%20-47.895866394043%2C%2063.0%5D%2C%20%5B-15.7964944839478%2C%20-47.891544342041%2C%209.0%5D%2C%20%5B-15.7981615066528%2C%20-47.8866233825684%2C%2011.0%5D%2C%20%5B-15.7986259460449%2C%20-47.8854904174805%2C%2078.0%5D%2C%20%5B-15.79563331604%2C%20-47.8869514465332%2C%202.0%5D%2C%20%5B-15.7931049664815%2C%20-47.892796198527%2C%2050.0%5D%2C%20%5B-15.7957876205444%2C%20-47.8907699584961%2C%203.0%5D%2C%20%5B-15.7974457740784%2C%20-47.8900909423828%2C%202.0%5D%2C%20%5B-15.7954797744751%2C%20-47.891752243042%2C%205.0%5D%2C%20%5B-15.7935334444046%2C%20-47.8935689926147%2C%2026.0%5D%2C%20%5B-15.7973384857178%2C%20-47.8915748596191%2C%205.0%5D%2C%20%5B-15.7973384857178%2C%20-47.8915748596191%2C%204.0%5D%2C%20%5B-15.7971669247276%2C%20-47.901957662482%2C%2053.0%5D%2C%20%5B-15.7806453704834%2C%20-47.8896217346191%2C%201.0%5D%2C%20%5B-15.7973384857178%2C%20-47.8915748596191%2C%206.0%5D%2C%20%5B-15.796290397644%2C%20-47.8911170959473%2C%205.0%5D%2C%20%5B-15.796290397644%2C%20-47.8911170959473%2C%203.0%5D%2C%20%5B-15.7966537475586%2C%20-47.8903694152832%2C%203.0%5D%2C%20%5B-15.796290397644%2C%20-47.8911170959473%2C%201.0%5D%2C%20%5B-15.802035578975%2C%20-47.8920871593334%2C%201380.0%5D%2C%20%5B-15.802948653698%2C%20-47.8973530133565%2C%20722.0%5D%2C%20%5B-15.797233581543%2C%20-47.8940010070801%2C%201.0%5D%2C%20%5B-15.7949848175049%2C%20-47.8923988342285%2C%2013.0%5D%2C%20%5B-15.8052673339844%2C%20-47.8939628601074%2C%202.0%5D%2C%20%5B-15.8004236221313%2C%20-47.8894488016764%2C%20357.0%5D%2C%20%5B-15.8038976568925%2C%20-47.8934506868061%2C%20548.0%5D%2C%20%5B-15.8067472121295%2C%20-47.8964731553022%2C%20450.0%5D%2C%20%5B-15.8025304187428%2C%20-47.8931773792614%2C%20458.0%5D%2C%20%5B-15.8002374822443%2C%20-47.8991761641069%2C%2091.0%5D%2C%20%5B-15.8070461609784%2C%20-47.8933679917279%2C%20515.0%5D%2C%20%5B-15.8072041988373%2C%20-47.8938205718994%2C%20403.0%5D%2C%20%5B-15.8107255486881%2C%20-47.8966962028952%2C%20405.0%5D%2C%20%5B-15.8119886186388%2C%20-47.90030225118%2C%20419.0%5D%2C%20%5B-15.8148966895209%2C%20-47.9016973707411%2C%20418.0%5D%2C%20%5B-15.8154977321625%2C%20-47.9033037185669%2C%20448.0%5D%2C%20%5B-15.8074936270714%2C%20-47.9014862378438%2C%20584.0%5D%2C%20%5B-15.8112738291423%2C%20-47.9068854437934%2C%20616.0%5D%2C%20%5B-15.808369424608%2C%20-47.8980265723334%2C%20458.0%5D%2C%20%5B-15.8118278279024%2C%20-47.9012664346134%2C%20440.0%5D%2C%20%5B-15.8124638133579%2C%20-47.9026769002279%2C%20506.0%5D%2C%20%5B-15.8149720509847%2C%20-47.9058522542318%2C%20401.0%5D%2C%20%5B-15.8144032287598%2C%20-47.9106527709961%2C%20481.0%5D%2C%20%5B-15.8180755759185%2C%20-47.9158585746333%2C%20540.0%5D%2C%20%5B-15.8161183463203%2C%20-47.9078536563449%2C%20364.0%5D%2C%20%5B-15.8190485636393%2C%20-47.9118535783556%2C%20494.0%5D%2C%20%5B-15.8200680944655%2C%20-47.9132308959961%2C%20348.0%5D%2C%20%5B-15.8224911970251%2C%20-47.916644376867%2C%20361.0%5D%2C%20%5B-15.8179427927191%2C%20-47.9053743535822%2C%20506.0%5D%2C%20%5B-15.8202751477559%2C%20-47.9090559217665%2C%20396.0%5D%2C%20%5B-15.8226405312033%2C%20-47.9123418471392%2C%20276.0%5D%2C%20%5B-15.8245500765349%2C%20-47.914503599468%2C%20433.0%5D%2C%20%5B-15.8264676823336%2C%20-47.9176386664895%2C%20345.0%5D%2C%20%5B-15.8279582858086%2C%20-47.9191703796387%2C%20318.0%5D%2C%20%5B-15.8221428083337%2C%20-47.9216645282248%2C%20768.0%5D%2C%20%5B-15.8267191334775%2C%20-47.9267887316252%2C%20338.0%5D%2C%20%5B-15.824028968811%2C%20-47.9185939364963%2C%20457.0%5D%2C%20%5B-15.826442869086%2C%20-47.9220173484401%2C%20411.0%5D%2C%20%5B-15.8278657065498%2C%20-47.9240815904405%2C%20478.0%5D%2C%20%5B-15.8299325494205%2C%20-47.9222163032083%2C%20360.0%5D%2C%20%5B-15.8314726087782%2C%20-47.9247205522325%2C%20480.0%5D%2C%20%5B-15.8299196561178%2C%20-47.9270935058594%2C%20389.0%5D%2C%20%5B-15.8120687311346%2C%20-47.9143448569558%2C%20756.0%5D%2C%20%5B-15.7951736450195%2C%20-47.8840713500977%2C%204.0%5D%2C%20%5B-15.7959140141805%2C%20-47.8847821553548%2C%2018.0%5D%2C%20%5B-15.7957755724589%2C%20-47.8902193705241%2C%2043.0%5D%2C%20%5B-15.8068232536316%2C%20-47.8993244171143%2C%205.0%5D%2C%20%5B-15.7961349487305%2C%20-47.8910522460938%2C%206.0%5D%2C%20%5B-15.7961349487305%2C%20-47.8910522460938%2C%201.0%5D%2C%20%5B-15.8039684295654%2C%20-47.8736190795898%2C%204.0%5D%2C%20%5B-15.8039684295654%2C%20-47.8736190795898%2C%202.0%5D%2C%20%5B-15.8056268692017%2C%20-47.8742713928223%2C%207.0%5D%2C%20%5B-15.8064622879028%2C%20-47.8741226196289%2C%202.0%5D%2C%20%5B-15.8064622879028%2C%20-47.8741226196289%2C%205.0%5D%2C%20%5B-15.810546875%2C%20-47.8787307739258%2C%202.0%5D%2C%20%5B-15.8039684295654%2C%20-47.8736190795898%2C%202.0%5D%2C%20%5B-15.8196544647217%2C%20-47.8876495361328%2C%201.0%5D%2C%20%5B-15.8174610137939%2C%20-47.8853492736816%2C%205.0%5D%2C%20%5B-15.8174610137939%2C%20-47.8853492736816%2C%201.0%5D%2C%20%5B-15.8213319778442%2C%20-47.8862533569336%2C%201.0%5D%2C%20%5B-15.8223905563354%2C%20-47.8887329101563%2C%201.0%5D%2C%20%5B-15.8233499526978%2C%20-47.8884468078613%2C%201.0%5D%2C%20%5B-15.8244705200195%2C%20-47.889965057373%2C%204.0%5D%2C%20%5B-15.8268413543701%2C%20-47.8952369689941%2C%206.0%5D%2C%20%5B-15.8232154846191%2C%20-47.893871307373%2C%202.0%5D%2C%20%5B-15.8302059173584%2C%20-47.8961524963379%2C%206.0%5D%2C%20%5B-15.8308763504028%2C%20-47.8967170715332%2C%202.0%5D%2C%20%5B-15.8322772979736%2C%20-47.8994560241699%2C%204.0%5D%2C%20%5B-15.833420753479%2C%20-47.8994369506836%2C%2012.0%5D%2C%20%5B-15.8425893783569%2C%20-47.918384552002%2C%202.0%5D%2C%20%5B-15.8049144744873%2C%20-47.8807106018066%2C%201.0%5D%2C%20%5B-15.8366050720215%2C%20-47.906566619873%2C%201.0%5D%2C%20%5B-15.8099193572998%2C%20-47.8785629272461%2C%208.0%5D%2C%20%5B-15.8155250549316%2C%20-47.8784713745117%2C%205.0%5D%2C%20%5B-15.810546875%2C%20-47.8787307739258%2C%202.0%5D%2C%20%5B-15.8196544647217%2C%20-47.8876495361328%2C%203.0%5D%2C%20%5B-15.8064622879028%2C%20-47.8741226196289%2C%201.0%5D%2C%20%5B-15.8163986206055%2C%20-47.885196685791%2C%207.0%5D%2C%20%5B-15.8176422119141%2C%20-47.8865432739258%2C%202.0%5D%2C%20%5B-15.8184509277344%2C%20-48.0957298278809%2C%2014.0%5D%2C%20%5B-15.8165854967557%2C%20-47.9444554842435%2C%20207.0%5D%2C%20%5B-15.7782994183627%2C%20-47.9203446128152%2C%2026.0%5D%2C%20%5B-15.7908625030518%2C%20-47.9143515777588%2C%20720.0%5D%2C%20%5B-15.7911397616069%2C%20-47.9327509138319%2C%20197.0%5D%2C%20%5B-15.7651716868083%2C%20-47.9321502685547%2C%20156.0%5D%2C%20%5B-15.7384796142578%2C%20-47.9231567382813%2C%201.0%5D%2C%20%5B-15.7440948178691%2C%20-47.940600856658%2C%2076.0%5D%2C%20%5B-15.7097633906773%2C%20-47.9095802307129%2C%206.0%5D%2C%20%5B-15.8192100524902%2C%20-47.9058933258057%2C%20806.0%5D%2C%20%5B-15.7896597726004%2C%20-47.9447870130663%2C%201157.0%5D%2C%20%5B-15.7815803220902%2C%20-47.9339769736104%2C%201236.0%5D%2C%20%5B-15.7890137734814%2C%20-47.9387939667033%2C%202056.0%5D%2C%20%5B-15.7992041565123%2C%20-47.9443454969497%2C%202581.0%5D%2C%20%5B-15.7981074436291%2C%20-47.9359308964497%2C%202092.0%5D%2C%20%5B-15.7965401423346%2C%20-47.9349124161239%2C%203434.0%5D%2C%20%5B-15.8039841730087%2C%20-47.953212487893%2C%203706.0%5D%2C%20%5B-15.8010468934712%2C%20-47.9232141193591%2C%203816.0%5D%2C%20%5B-15.7982801846095%2C%20-47.9257271902902%2C%206144.0%5D%2C%20%5B-15.7970329284668%2C%20-47.9229723612467%2C%201.0%5D%2C%20%5B-15.7894018982093%2C%20-47.9296400060204%2C%202174.0%5D%2C%20%5B-15.795714870777%2C%20-47.9239095800063%2C%202591.0%5D%2C%20%5B-15.7515022880153%2C%20-47.9109855785705%2C%2013.0%5D%2C%20%5B-15.7729843634146%2C%20-47.9291186862522%2C%202.0%5D%2C%20%5B-15.7469041714301%2C%20-47.9110047633831%2C%20219.0%5D%2C%20%5B-15.7596856641098%2C%20-47.9190359518562%2C%20136.0%5D%2C%20%5B-15.7714174614578%2C%20-47.9596008550925%2C%203.0%5D%2C%20%5B-15.7852838039398%2C%20-47.890145778656%2C%2057.0%5D%2C%20%5B-15.7895552825928%2C%20-47.8870866394043%2C%2076.0%5D%2C%20%5B-15.7898635864258%2C%20-47.8873422410753%2C%204.0%5D%2C%20%5B-15.7896191279093%2C%20-47.8872655232747%2C%2017.0%5D%2C%20%5B-15.7882748211131%2C%20-47.8903559516458%2C%2011.0%5D%2C%20%5B-15.7820812722911%2C%20-47.8858330768088%2C%2052.0%5D%2C%20%5B-15.78704226017%2C%20-47.8834564685822%2C%2092.0%5D%2C%20%5B-15.7877249399821%2C%20-47.8840637207031%2C%2044.0%5D%2C%20%5B-15.7890912691752%2C%20-47.8872102101644%2C%209.0%5D%2C%20%5B-15.7830257415771%2C%20-47.8887036641439%2C%2018.0%5D%2C%20%5B-15.7837238311768%2C%20-47.8893070220947%2C%2046.0%5D%2C%20%5B-15.781608581543%2C%20-47.8885259628296%2C%207.0%5D%2C%20%5B-15.7787798245748%2C%20-47.8905534744263%2C%2054.0%5D%2C%20%5B-15.7766393773696%2C%20-47.8890569350299%2C%20112.0%5D%2C%20%5B-15.7823774973551%2C%20-47.8826464335124%2C%201474.0%5D%2C%20%5B-15.7816809415817%2C%20-47.8854694366455%2C%2048.0%5D%2C%20%5B-15.7732940178651%2C%20-47.8901770665095%2C%201095.0%5D%2C%20%5B-15.776224192451%2C%20-47.8830171472886%2C%20486.0%5D%2C%20%5B-15.7760407659743%2C%20-47.883110470242%2C%20722.0%5D%2C%20%5B-15.7719461216646%2C%20-47.883305717917%2C%20660.0%5D%2C%20%5B-15.7794878106368%2C%20-47.8854819849918%2C%20627.0%5D%2C%20%5B-15.7754741668701%2C%20-47.8859718322754%2C%20677.0%5D%2C%20%5B-15.7717466831207%2C%20-47.8859043121338%2C%20778.0%5D%2C%20%5B-15.7672425796246%2C%20-47.8912823446866%2C%201066.0%5D%2C%20%5B-15.7636987898085%2C%20-47.8924658033583%2C%20103.0%5D%2C%20%5B-15.7724292543199%2C%20-47.8849697113037%2C%20471.0%5D%2C%20%5B-15.765886815389%2C%20-47.8852244059245%2C%20416.0%5D%2C%20%5B-15.7664492255763%2C%20-47.887015292519%2C%20662.0%5D%2C%20%5B-15.7680280473497%2C%20-47.8870728810628%2C%20736.0%5D%2C%20%5B-15.7675306532118%2C%20-47.8872492048475%2C%20600.0%5D%2C%20%5B-15.7639446258545%2C%20-47.8885618845622%2C%20708.0%5D%2C%20%5B-15.7603383935016%2C%20-47.8934857244077%2C%201043.0%5D%2C%20%5B-15.7598589942569%2C%20-47.887993767148%2C%20298.0%5D%2C%20%5B-15.7576701641083%2C%20-47.887419128418%2C%20350.0%5D%2C%20%5B-15.7536860634299%2C%20-47.8891168482163%2C%20678.0%5D%2C%20%5B-15.7616060177485%2C%20-47.8895201683044%2C%20613.0%5D%2C%20%5B-15.7574649893719%2C%20-47.8904578167459%2C%20674.0%5D%2C%20%5B-15.755338716507%2C%20-47.8916971206665%2C%20687.0%5D%2C%20%5B-15.7498625956084%2C%20-47.8965105424847%2C%201013.0%5D%2C%20%5B-15.7424728605482%2C%20-47.9003588358561%2C%20130.0%5D%2C%20%5B-15.7513131565518%2C%20-47.8898641798231%2C%20651.0%5D%2C%20%5B-15.7468515844906%2C%20-47.8902163786047%2C%20488.0%5D%2C%20%5B-15.747386932373%2C%20-47.8911753760444%2C%20253.0%5D%2C%20%5B-15.7510689629449%2C%20-47.8928680419922%2C%20880.0%5D%2C%20%5B-15.7483847141266%2C%20-47.8931955337524%2C%20767.0%5D%2C%20%5B-15.7450989673012%2C%20-47.8948241785953%2C%20703.0%5D%2C%20%5B-15.7460072023155%2C%20-47.9003510301131%2C%201057.0%5D%2C%20%5B-15.7436584023868%2C%20-47.8924542595358%2C%20505.0%5D%2C%20%5B-15.7399950894442%2C%20-47.8936970450661%2C%20739.0%5D%2C%20%5B-15.7428941224751%2C%20-47.895712199964%2C%20744.0%5D%2C%20%5B-15.7389005184174%2C%20-47.8966926574707%2C%20883.0%5D%2C%20%5B-15.7582295794006%2C%20-47.8953375860092%2C%201036.0%5D%2C%20%5B-15.784530600723%2C%20-47.8665656264947%2C%20795.0%5D%2C%20%5B-15.7521646022797%2C%20-47.8696393966675%2C%2094.0%5D%2C%20%5B-15.7971561749776%2C%20-47.8670444488525%2C%20317.0%5D%2C%20%5B-15.8017908845629%2C%20-47.8776185171945%2C%20620.0%5D%2C%20%5B-15.8054806493944%2C%20-47.8683471679688%2C%20979.0%5D%2C%20%5B-15.7681407928467%2C%20-47.8560066223145%2C%201.0%5D%2C%20%5B-15.7698500186582%2C%20-47.8765563481971%2C%2034.0%5D%2C%20%5B-15.7841329177221%2C%20-47.8793306350708%2C%20510.0%5D%2C%20%5B-15.7782270207125%2C%20-47.8787334666533%2C%20680.0%5D%2C%20%5B-15.7816181864057%2C%20-47.875614302499%2C%20519.0%5D%2C%20%5B-15.7807502746582%2C%20-47.8774270629883%2C%20500.0%5D%2C%20%5B-15.7900466918945%2C%20-47.8844985961914%2C%207.0%5D%2C%20%5B-15.7707738876343%2C%20-47.8739204406738%2C%207.0%5D%2C%20%5B-15.7808545430501%2C%20-47.895751226516%2C%20195.0%5D%2C%20%5B-15.7720277574327%2C%20-47.8798690372043%2C%20468.0%5D%2C%20%5B-15.7751234372457%2C%20-47.8913470374213%2C%20514.0%5D%2C%20%5B-15.7743727944114%2C%20-47.8762019764293%2C%20471.0%5D%2C%20%5B-15.7707351303101%2C%20-47.8766354370117%2C%20535.0%5D%2C%20%5B-15.7665696541468%2C%20-47.8782208760579%2C%20435.0%5D%2C%20%5B-15.7607707977295%2C%20-47.8766428629557%2C%2012.0%5D%2C%20%5B-15.7690712081061%2C%20-47.8847533331977%2C%2020.0%5D%2C%20%5B-15.7626066207886%2C%20-47.8816466080515%2C%20445.0%5D%2C%20%5B-15.7586324355182%2C%20-47.8828917110667%2C%20665.0%5D%2C%20%5B-15.7648643211082%2C%20-47.8780001887569%2C%20368.0%5D%2C%20%5B-15.7605916261673%2C%20-47.8796586990356%2C%20399.0%5D%2C%20%5B-15.759949836731%2C%20-47.880344543457%2C%20454.0%5D%2C%20%5B-15.7512556711833%2C%20-47.8799120585124%2C%201.0%5D%2C%20%5B-15.7562651634216%2C%20-47.8836591508653%2C%20701.0%5D%2C%20%5B-15.7518096811631%2C%20-47.8850575615378%2C%20556.0%5D%2C%20%5B-15.7539988040924%2C%20-47.8871128082275%2C%20768.0%5D%2C%20%5B-15.7547066609065%2C%20-47.881173769633%2C%20400.0%5D%2C%20%5B-15.7523729705811%2C%20-47.8819300842285%2C%20473.0%5D%2C%20%5B-15.7485738622731%2C%20-47.8830569037076%2C%20556.0%5D%2C%20%5B-15.7475184833302%2C%20-47.8878517150879%2C%20354.0%5D%2C%20%5B-15.7439334657457%2C%20-47.8874187469482%2C%20774.0%5D%2C%20%5B-15.7407834670123%2C%20-47.8886191424202%2C%20651.0%5D%2C%20%5B-15.7377779343549%2C%20-47.8897404390223%2C%20704.0%5D%2C%20%5B-15.74581167433%2C%20-47.8854411089862%2C%2043.0%5D%2C%20%5B-15.7521253204346%2C%20-47.8870195007324%2C%20402.0%5D%2C%20%5B-15.7365873654683%2C%20-47.8870243496365%2C%20385.0%5D%2C%20%5B-15.7631568908691%2C%20-47.8706321716309%2C%202.0%5D%2C%20%5B-15.7594319633816%2C%20-47.8744700887929%2C%20186.0%5D%2C%20%5B-15.7656342983246%2C%20-47.8575201034546%2C%2016.0%5D%2C%20%5B-15.7441930770874%2C%20-47.8773422241211%2C%202.0%5D%2C%20%5B-15.7680166244507%2C%20-47.8716812133789%2C%20125.0%5D%2C%20%5B-15.8118630515205%2C%20-47.9914527469211%2C%20327.0%5D%2C%20%5B-15.8152985449495%2C%20-47.983878579633%2C%204596.0%5D%2C%20%5B-15.8220034444798%2C%20-47.9848123688937%2C%203262.0%5D%2C%20%5B-15.8186545064372%2C%20-47.9662349916273%2C%204913.0%5D%2C%20%5B-15.8298058509827%2C%20-47.9718289375305%2C%2022.0%5D%2C%20%5B-15.8120985031128%2C%20-47.9946174621582%2C%2038.0%5D%2C%20%5B-15.8346830646643%2C%20-47.9755924096268%2C%204350.0%5D%2C%20%5B-15.8344181675022%2C%20-47.9598109035169%2C%206138.0%5D%2C%20%5B-15.842817621411%2C%20-47.9734413578825%2C%205298.0%5D%2C%20%5B-15.8250750790472%2C%20-47.96880154817%2C%207608.0%5D%2C%20%5B-15.7524283149026%2C%20-47.9366676157171%2C%2027.0%5D%2C%20%5B-15.8471463521322%2C%20-47.9845333099365%2C%20365.0%5D%2C%20%5B-15.8443237781525%2C%20-47.9834044456482%2C%2018.0%5D%2C%20%5B-15.8326698176066%2C%20-48.0062915547689%2C%201095.0%5D%2C%20%5B-15.7966375350952%2C%20-48.0015907287598%2C%20543.0%5D%2C%20%5B-15.8120527267456%2C%20-47.9821662902832%2C%209.0%5D%2C%20%5B-15.810349207911%2C%20-47.9889475329169%2C%202006.0%5D%2C%20%5B-15.8027105471667%2C%20-47.9588017183192%2C%20319.0%5D%2C%20%5B-15.8003273010254%2C%20-47.9494766235352%2C%2031.0%5D%2C%20%5B-15.7973003387451%2C%20-47.950325012207%2C%2010.0%5D%2C%20%5B-15.8220088374507%2C%20-47.9541978921976%2C%20538.0%5D%2C%20%5B-15.8326412836711%2C%20-47.9550488789876%2C%20167.0%5D%2C%20%5B-15.833646774292%2C%20-47.9531936645508%2C%204.0%5D%2C%20%5B-15.7944518089294%2C%20-47.9839311599731%2C%2058.0%5D%2C%20%5B-15.7869166306087%2C%20-47.9723975999015%2C%2069.0%5D%2C%20%5B-15.7872459585016%2C%20-47.9675836042924%2C%20429.0%5D%2C%20%5B-15.7474854751067%2C%20-47.9614471955733%2C%20737.0%5D%2C%20%5B-15.7318356633186%2C%20-47.9321870803833%2C%20729.0%5D%2C%20%5B-15.7475194191748%2C%20-47.9368789731994%2C%201731.0%5D%2C%20%5B-15.7827734947205%2C%20-47.9940718015035%2C%206.0%5D%2C%20%5B-15.7718425048025%2C%20-47.9081818430047%2C%20176.0%5D%2C%20%5B-15.8224687576294%2C%20-48.0616747538249%2C%201196.0%5D%2C%20%5B-15.7344390467594%2C%20-47.8982515837017%2C%201157.0%5D%2C%20%5B-15.7269926782864%2C%20-47.8682526545738%2C%201791.0%5D%2C%20%5B-15.8072025299072%2C%20-47.8687286376953%2C%2070.0%5D%2C%20%5B-15.7287739536218%2C%20-47.8820537767912%2C%201347.0%5D%2C%20%5B-15.7452051476256%2C%20-47.846749658454%2C%201937.0%5D%2C%20%5B-15.7408155980317%2C%20-47.8682917719302%2C%201230.0%5D%2C%20%5B-15.7476216422187%2C%20-47.8517843882243%2C%201024.0%5D%2C%20%5B-15.7599264144897%2C%20-47.8384621756417%2C%20830.0%5D%2C%20%5B-15.7589543024699%2C%20-47.8323782602946%2C%20705.0%5D%2C%20%5B-15.8022222614288%2C%20-47.9305740737915%2C%2014.0%5D%2C%20%5B-15.7166115897042%2C%20-47.8916549682617%2C%2079.0%5D%2C%20%5B-15.7305180270497%2C%20-47.8645027904976%2C%2089.0%5D%2C%20%5B-15.7708039540117%2C%20-47.8110262142715%2C%203146.0%5D%2C%20%5B-15.7358321835918%2C%20-47.8852761791598%2C%20428.0%5D%2C%20%5B-15.722357780055%2C%20-47.9077894913523%2C%2075.0%5D%2C%20%5B-15.8450429439545%2C%20-47.871973991394%2C%2019.0%5D%2C%20%5B-15.8298196792603%2C%20-47.9513053894043%2C%2015.0%5D%2C%20%5B-15.7569847106934%2C%20-47.8107109069824%2C%20100.0%5D%2C%20%5B-15.7478625745658%2C%20-47.9235933142972%2C%201381.0%5D%2C%20%5B-15.7592558580286%2C%20-47.8018888024723%2C%202465.0%5D%2C%20%5B-15.806497667775%2C%20-47.8033858212558%2C%202235.0%5D%2C%20%5B-15.8403125899179%2C%20-47.8778210776193%2C%201312.0%5D%2C%20%5B-15.7620868682861%2C%20-47.7456436157227%2C%20147.0%5D%2C%20%5B-15.8542102015748%2C%20-47.8886652965935%2C%205.0%5D%2C%20%5B-15.8778816631862%2C%20-48.0324905940465%2C%209.0%5D%2C%20%5B-15.7992920875549%2C%20-47.8903846740723%2C%2029.0%5D%2C%20%5B-15.7926561355591%2C%20-47.6882209777832%2C%20111.0%5D%2C%20%5B-15.7214051980651%2C%20-47.9149310079853%2C%201608.0%5D%2C%20%5B-15.7111421397754%2C%20-47.8984858308519%2C%20517.0%5D%2C%20%5B-15.757472038269%2C%20-47.746395111084%2C%20913.0%5D%2C%20%5B-15.743135358773%2C%20-47.8622603696935%2C%201422.0%5D%2C%20%5B-15.777594068776%2C%20-47.8554118612538%2C%201448.0%5D%2C%20%5B-15.7716136491003%2C%20-47.8303553683699%2C%20983.0%5D%2C%20%5B-15.7037802554191%2C%20-47.977583134428%2C%20874.0%5D%2C%20%5B-15.8433374677386%2C%20-47.919328553336%2C%20318.0%5D%2C%20%5B-15.7915725708008%2C%20-47.8821487426758%2C%2017.0%5D%2C%20%5B-15.8266906738281%2C%20-47.9218215942383%2C%209.0%5D%2C%20%5B-15.8429031874004%2C%20-47.9117004996852%2C%20516.0%5D%2C%20%5B-15.8466262817383%2C%20-47.8932189941406%2C%201.0%5D%2C%20%5B-15.8715286254883%2C%20-47.9052906036377%2C%204.0%5D%2C%20%5B-15.8699481146676%2C%20-47.9164875575474%2C%2042.0%5D%2C%20%5B-15.8548327225905%2C%20-47.9198405926044%2C%20289.0%5D%2C%20%5B-15.8465592969548%2C%20-47.9033244739879%2C%201029.0%5D%2C%20%5B-15.8874678611755%2C%20-47.938232421875%2C%2065.0%5D%2C%20%5B-15.838142490387%2C%20-47.8950839996338%2C%20484.0%5D%2C%20%5B-15.8353132637598%2C%20-47.8737491894794%2C%20831.0%5D%2C%20%5B-15.8314980643136%2C%20-47.8693430219378%2C%20446.0%5D%2C%20%5B-15.8451511195449%2C%20-47.8860668745197%2C%20807.0%5D%2C%20%5B-15.8470432360967%2C%20-47.8725344340006%2C%20544.0%5D%2C%20%5B-15.8633990721269%2C%20-47.8754048780961%2C%20570.0%5D%2C%20%5B-15.8481093553396%2C%20-47.8551571185772%2C%20574.0%5D%2C%20%5B-15.8554691526625%2C%20-47.8632136027018%2C%20945.0%5D%2C%20%5B-15.8428797192044%2C%20-47.8390629379838%2C%201134.0%5D%2C%20%5B-15.8248999694298%2C%20-47.823982896476%2C%20511.0%5D%2C%20%5B-15.8231018894124%2C%20-47.8159758369878%2C%20912.0%5D%2C%20%5B-15.8286613984541%2C%20-47.8147407011552%2C%201240.0%5D%2C%20%5B-15.8156549190653%2C%20-47.8304509130017%2C%20202.0%5D%2C%20%5B-15.7939162254333%2C%20-47.8600368499756%2C%208.0%5D%2C%20%5B-15.8632904310075%2C%20-47.821235475086%2C%209081.0%5D%2C%20%5B-15.8113744423307%2C%20-47.8524212343939%2C%20131.0%5D%2C%20%5B-15.8743980114277%2C%20-47.8245391845703%2C%20911.0%5D%2C%20%5B-15.8763513565063%2C%20-48.0266609191895%2C%2079.0%5D%2C%20%5B-15.9031403859456%2C%20-47.7713826497396%2C%20191.0%5D%2C%20%5B-15.865221349576%2C%20-47.8545155144347%2C%205115.0%5D%2C%20%5B-15.8900144077042%2C%20-47.8496464294137%2C%202334.0%5D%2C%20%5B-15.8468140738351%2C%20-47.8564413161505%2C%206337.0%5D%2C%20%5B-15.8863354851218%2C%20-47.7878557093003%2C%201686.0%5D%2C%20%5B-15.8558705534254%2C%20-47.8688654218401%2C%20156.0%5D%2C%20%5B-15.8866307904022%2C%20-47.9044424500128%2C%20962.0%5D%2C%20%5B-15.8599280516307%2C%20-47.8538859685262%2C%2088.0%5D%2C%20%5B-15.8838517245124%2C%20-47.8426857315192%2C%201661.0%5D%2C%20%5B-15.8347394833198%2C%20-47.9647128031804%2C%201064.0%5D%2C%20%5B-15.8968911170959%2C%20-48.0287647247314%2C%2060.0%5D%2C%20%5B-15.8692823668658%2C%20-47.9664432719602%2C%201488.0%5D%2C%20%5B-15.8691103756428%2C%20-47.9697031974792%2C%20770.0%5D%2C%20%5B-15.8686888300139%2C%20-47.9734697013066%2C%201815.0%5D%2C%20%5B-15.8423283351095%2C%20-47.9524605901618%2C%204474.0%5D%2C%20%5B-15.8505104126469%2C%20-47.9511364352319%2C%201379.0%5D%2C%20%5B-15.8250416408886%2C%20-47.905009356412%2C%201428.0%5D%2C%20%5B-15.8455399344949%2C%20-47.9432759004481%2C%20335.0%5D%2C%20%5B-15.8781862258911%2C%20-47.997730255127%2C%20160.0%5D%2C%20%5B-15.85035987854%2C%20-47.9865309906006%2C%202173.0%5D%2C%20%5B-15.7583910419095%2C%20-48.0284839753182%2C%20214.0%5D%2C%20%5B-15.8711538314819%2C%20-47.8600654602051%2C%206.0%5D%2C%20%5B-15.8530101776123%2C%20-47.954288482666%2C%204.0%5D%2C%20%5B-15.8827183938796%2C%20-47.9696229504001%2C%20420.0%5D%2C%20%5B-15.8928006969086%2C%20-47.96799740726%2C%202079.0%5D%2C%20%5B-15.8969688415527%2C%20-47.936637878418%2C%20112.0%5D%2C%20%5B-15.8917792338245%2C%20-47.9598637706829%2C%201672.0%5D%2C%20%5B-15.9008642196655%2C%20-47.9785705566406%2C%20134.0%5D%2C%20%5B-15.8468290242282%2C%20-47.9301039088856%2C%20401.0%5D%2C%20%5B-15.9045264344466%2C%20-47.9424323031777%2C%206.0%5D%2C%20%5B-15.9605045855885%2C%20-47.9659901471205%2C%2015.0%5D%2C%20%5B-15.8762882096427%2C%20-48.0091513452076%2C%205656.0%5D%2C%20%5B-15.8830704689026%2C%20-48.0156726837158%2C%20789.0%5D%2C%20%5B-15.882374059237%2C%20-48.0168437077449%2C%201758.0%5D%2C%20%5B-15.8877510756589%2C%20-48.0140069682946%2C%203107.0%5D%2C%20%5B-15.8123492294887%2C%20-48.0064019257168%2C%20267.0%5D%2C%20%5B-15.8869334757328%2C%20-48.0123772621155%2C%20299.0%5D%2C%20%5B-15.8703370606604%2C%20-48.0058853054835%2C%203929.0%5D%2C%20%5B-15.884012791355%2C%20-48.0321451822917%2C%203659.0%5D%2C%20%5B-15.9108170611518%2C%20-48.0285638400487%2C%202780.0%5D%2C%20%5B-15.8949599266052%2C%20-47.9943377945449%2C%202583.0%5D%2C%20%5B-15.8145246505737%2C%20-47.9382514953613%2C%20393.0%5D%2C%20%5B-15.8301969585997%2C%20-48.0153188994437%2C%20493.0%5D%2C%20%5B-15.829482793808%2C%20-48.0138664245605%2C%2047.0%5D%2C%20%5B-15.8292393684387%2C%20-48.0149583816528%2C%2056.0%5D%2C%20%5B-15.8308851242065%2C%20-48.0172019958496%2C%2083.0%5D%2C%20%5B-15.8342931270599%2C%20-48.0235910415649%2C%2069.0%5D%2C%20%5B-15.8666605949402%2C%20-48.0276966094971%2C%20951.0%5D%2C%20%5B-15.8125551541646%2C%20-47.9325040181478%2C%201357.0%5D%2C%20%5B-15.8315120697021%2C%20-47.9455780029297%2C%20641.0%5D%2C%20%5B-15.7899192174276%2C%20-47.9472802480062%2C%201341.0%5D%2C%20%5B-15.8433116912842%2C%20-47.9607864379883%2C%20484.0%5D%2C%20%5B-15.8403135299683%2C%20-47.9836357116699%2C%201003.0%5D%2C%20%5B-15.843817949295%2C%20-47.9747085571289%2C%20820.0%5D%2C%20%5B-15.8559906005859%2C%20-47.9327583312988%2C%20939.0%5D%2C%20%5B-15.8377752304077%2C%20-48.0351875305176%2C%20586.0%5D%2C%20%5B-15.8446617126465%2C%20-48.0452717372349%2C%20795.0%5D%2C%20%5B-15.8303825855255%2C%20-48.0316209793091%2C%20899.0%5D%2C%20%5B-15.8184304237366%2C%20-47.982364654541%2C%2015.0%5D%2C%20%5B-15.8454397201538%2C%20-47.9618621826172%2C%201666.0%5D%2C%20%5B-15.8323781490326%2C%20-47.9921255111694%2C%20727.0%5D%2C%20%5B-15.8439077377319%2C%20-48.0083374023437%2C%20229.0%5D%2C%20%5B-15.8447563171387%2C%20-48.0319351196289%2C%20177.0%5D%2C%20%5B-15.841400718689%2C%20-48.0134536743164%2C%20818.0%5D%2C%20%5B-15.8376493453979%2C%20-48.0347156524658%2C%20839.0%5D%2C%20%5B-15.836375617981%2C%20-48.0393608093262%2C%20886.0%5D%2C%20%5B-15.8293556213379%2C%20-47.9855407714844%2C%20771.0%5D%2C%20%5B-15.8330360412598%2C%20-47.958602142334%2C%201079.0%5D%2C%20%5B-15.8203796386719%2C%20-47.9839042663574%2C%20687.0%5D%2C%20%5B-15.8450729370117%2C%20-47.9354545593262%2C%201350.0%5D%2C%20%5B-15.8456201553345%2C%20-47.9416893005371%2C%20583.0%5D%2C%20%5B-15.8400639851888%2C%20-48.0447171529134%2C%2042.0%5D%2C%20%5B-15.842819077628%2C%20-48.0432232448033%2C%20101.0%5D%2C%20%5B-15.8708320856094%2C%20-48.0200433731079%2C%2048.0%5D%2C%20%5B-15.845370565142%2C%20-48.0419109889439%2C%2075.0%5D%2C%20%5B-15.8548454557146%2C%20-48.0373987470354%2C%20307.0%5D%2C%20%5B-15.8556526501973%2C%20-48.0368881225586%2C%20148.0%5D%2C%20%5B-15.8543954849243%2C%20-48.0367889404297%2C%20114.0%5D%2C%20%5B-15.8526323318481%2C%20-48.0354530334473%2C%20114.0%5D%2C%20%5B-15.8538526535034%2C%20-48.0359352111816%2C%2097.0%5D%2C%20%5B-15.8519819259644%2C%20-48.0371078491211%2C%2097.0%5D%2C%20%5B-15.8538866043091%2C%20-48.0335947672526%2C%20156.0%5D%2C%20%5B-15.8545358657837%2C%20-48.0342575073242%2C%2081.0%5D%2C%20%5B-15.8552373886108%2C%20-48.0347160339355%2C%20285.0%5D%2C%20%5B-15.8577991485596%2C%20-48.0346092224121%2C%20254.0%5D%2C%20%5B-15.8749522103204%2C%20-48.0221947564019%2C%20348.0%5D%2C%20%5B-15.8706183800331%2C%20-48.0249938964844%2C%20216.0%5D%2C%20%5B-15.8640961647034%2C%20-48.0271434783936%2C%2086.0%5D%2C%20%5B-15.8644647598267%2C%20-48.0260175069173%2C%20154.0%5D%2C%20%5B-15.8626249313354%2C%20-48.028596496582%2C%20119.0%5D%2C%20%5B-15.8612254460653%2C%20-48.0290012359619%2C%20110.0%5D%2C%20%5B-15.9012001037598%2C%20-48.0177703857422%2C%20411.0%5D%2C%20%5B-15.8521955490112%2C%20-47.9972579956055%2C%2044.0%5D%2C%20%5B-15.8615906397502%2C%20-48.0251777648926%2C%20236.0%5D%2C%20%5B-15.8623076677322%2C%20-48.0249090194702%2C%20151.0%5D%2C%20%5B-15.8614562988281%2C%20-48.0251445770264%2C%20144.0%5D%2C%20%5B-15.8665579015558%2C%20-48.0235103260387%2C%20117.0%5D%2C%20%5B-15.873045539856%2C%20-48.0238731384277%2C%2050.0%5D%2C%20%5B-15.8676540851593%2C%20-48.0218579769135%2C%20353.0%5D%2C%20%5B-15.8611458142598%2C%20-48.031608581543%2C%20231.0%5D%2C%20%5B-15.8680875778198%2C%20-48.0183692932129%2C%20265.0%5D%2C%20%5B-15.868985748291%2C%20-48.0175308227539%2C%20247.0%5D%2C%20%5B-15.870991570609%2C%20-48.0170048304967%2C%20290.0%5D%2C%20%5B-15.8777058919271%2C%20-48.0329221089681%2C%2024.0%5D%2C%20%5B-15.8788248062134%2C%20-48.0400505065918%2C%2055.0%5D%2C%20%5B-15.8785888671875%2C%20-48.0296089172363%2C%2036.0%5D%2C%20%5B-15.8786121368408%2C%20-48.0273902893066%2C%2071.0%5D%2C%20%5B-15.8820101420085%2C%20-48.037592569987%2C%2043.0%5D%2C%20%5B-15.8575054168701%2C%20-48.0395072937012%2C%2041.0%5D%2C%20%5B-15.8761976242065%2C%20-47.9981414794922%2C%2024.0%5D%2C%20%5B-15.8266906738281%2C%20-47.9218215942383%2C%2073.0%5D%2C%20%5B-15.854423390902%2C%20-48.015797659067%2C%20424.0%5D%2C%20%5B-15.8584008898054%2C%20-48.0066237676711%2C%20817.0%5D%2C%20%5B-15.8571077093378%2C%20-48.0141302789008%2C%201233.0%5D%2C%20%5B-15.8512945903672%2C%20-48.018205748664%2C%201123.0%5D%2C%20%5B-15.7768950118799%2C%20-47.9757042480821%2C%201479.0%5D%2C%20%5B-15.7683592016047%2C%20-47.9708505457098%2C%20247.0%5D%2C%20%5B-15.7984509703554%2C%20-48.0243544401946%2C%20313.0%5D%2C%20%5B-15.7889689763387%2C%20-47.9652272542318%2C%2058.0%5D%2C%20%5B-15.8011417090893%2C%20-48.0065758228302%2C%201305.0%5D%2C%20%5B-15.8383731842041%2C%20-47.9913243213332%2C%202721.0%5D%2C%20%5B-15.7967672472686%2C%20-48.0318512262083%2C%201583.0%5D%2C%20%5B-15.8464202880859%2C%20-48.0438995361328%2C%2062.0%5D%2C%20%5B-15.8304474787279%2C%20-48.0217276486484%2C%201885.0%5D%2C%20%5B-15.8322523964776%2C%20-48.0528848436144%2C%2014.0%5D%2C%20%5B-15.836824976412%2C%20-48.0525403130323%2C%206553.0%5D%2C%20%5B-15.8373316851529%2C%20-48.0547588001598%2C%202062.0%5D%2C%20%5B-15.8469919938308%2C%20-48.0643800001878%2C%20688.0%5D%2C%20%5B-15.8344411849976%2C%20-48.05810546875%2C%201.0%5D%2C%20%5B-15.842920921661%2C%20-48.0466079292717%2C%204432.0%5D%2C%20%5B-15.835506439209%2C%20-48.0459098815918%2C%202.0%5D%2C%20%5B-15.8421562194824%2C%20-48.0305641174316%2C%20659.0%5D%2C%20%5B-15.8494555513624%2C%20-48.0322680406167%2C%203399.0%5D%2C%20%5B-15.8518880844116%2C%20-48.0373374938965%2C%20201.0%5D%2C%20%5B-15.8709319432577%2C%20-48.0343805948893%2C%20166.0%5D%2C%20%5B-15.8233034799969%2C%20-48.0566022358243%2C%209868.0%5D%2C%20%5B-15.8230051313128%2C%20-48.0570123876844%2C%205066.0%5D%2C%20%5B-15.8211793899536%2C%20-48.0664215087891%2C%205.0%5D%2C%20%5B-15.8016395568848%2C%20-48.0658302307129%2C%203.0%5D%2C%20%5B-15.8083474379319%2C%20-48.0626341599684%2C%204654.0%5D%2C%20%5B-15.8133482073174%2C%20-48.0651541537926%2C%203608.0%5D%2C%20%5B-15.7895526885986%2C%20-47.9894348144531%2C%20835.0%5D%2C%20%5B-15.8073417108955%2C%20-48.0566461711911%2C%206253.0%5D%2C%20%5B-15.8173431528026%2C%20-48.0323270600418%2C%201012.0%5D%2C%20%5B-15.8016395568848%2C%20-48.0658302307129%2C%201.0%5D%2C%20%5B-15.814193212986%2C%20-48.0795761108399%2C%202968.0%5D%2C%20%5B-15.7967020624833%2C%20-48.084632900979%2C%204747.0%5D%2C%20%5B-15.7966270117924%2C%20-48.1045722303719%2C%201578.0%5D%2C%20%5B-15.8250758540523%2C%20-48.0791131096917%2C%202619.0%5D%2C%20%5B-15.8258589988898%2C%20-48.0848050078085%2C%202415.0%5D%2C%20%5B-15.8148149960283%2C%20-48.0819930477419%2C%201302.0%5D%2C%20%5B-15.8238293102809%2C%20-48.047910962786%2C%20117.0%5D%2C%20%5B-15.8265664600191%2C%20-48.0745433262416%2C%202456.0%5D%2C%20%5B-15.8203466506231%2C%20-48.0797621409098%2C%20939.0%5D%2C%20%5B-15.7453720910209%2C%20-47.9408986227853%2C%208.0%5D%2C%20%5B-15.8305450280507%2C%20-48.0897488064236%2C%20867.0%5D%2C%20%5B-15.8219724599866%2C%20-48.0908781963846%2C%201379.0%5D%2C%20%5B-15.8144000768661%2C%20-48.0941579341888%2C%20216.0%5D%2C%20%5B-15.7664451599121%2C%20-47.5460891723633%2C%2015.0%5D%2C%20%5B-15.8074113509234%2C%20-48.1055872449688%2C%209267.0%5D%2C%20%5B-15.8247220696825%2C%20-48.0950257994912%2C%2010849.0%5D%2C%20%5B-15.831474746754%2C%20-48.1070128172831%2C%2010830.0%5D%2C%20%5B-15.8137169543066%2C%20-48.1146465351707%2C%209235.0%5D%2C%20%5B-15.8335118293762%2C%20-48.143027305603%2C%20428.0%5D%2C%20%5B-15.8342938423157%2C%20-48.1074922225055%2C%20226.0%5D%2C%20%5B-15.8414180713464%2C%20-48.1142929456511%2C%206190.0%5D%2C%20%5B-15.8480210671058%2C%20-48.1129217881423%2C%20632.0%5D%2C%20%5B-15.839540274003%2C%20-48.118329373528%2C%204399.0%5D%2C%20%5B-15.8467366072509%2C%20-48.1165436065949%2C%2010713.0%5D%2C%20%5B-15.8364640871684%2C%20-48.1072523752848%2C%20198.0%5D%2C%20%5B-15.8544940576925%2C%20-48.1049860174006%2C%201359.0%5D%2C%20%5B-15.81843162184%2C%20-48.1245809603138%2C%202191.0%5D%2C%20%5B-15.8113112416301%2C%20-48.1307847616556%2C%203463.0%5D%2C%20%5B-15.8084144592285%2C%20-48.1402689326893%2C%20420.0%5D%2C%20%5B-15.8727273486909%2C%20-47.9729146750974%2C%2074.0%5D%2C%20%5B-15.8434348995403%2C%20-48.0170795634642%2C%202.0%5D%2C%20%5B-15.7948209713032%2C%20-48.1211003885641%2C%203185.0%5D%2C%20%5B-15.7899672245157%2C%20-48.1209407017149%2C%202600.0%5D%2C%20%5B-15.8013194799423%2C%20-48.1253201961517%2C%20552.0%5D%2C%20%5B-15.7979843502953%2C%20-48.1220223926363%2C%204248.0%5D%2C%20%5B-15.7995514035225%2C%20-48.1354510466258%2C%204638.0%5D%2C%20%5B-15.7912314575497%2C%20-48.1390647132798%2C%201803.0%5D%2C%20%5B-15.7959880828857%2C%20-48.1330935160319%2C%202.0%5D%2C%20%5B-15.8020062750958%2C%20-48.0434908765428%2C%20118.0%5D%2C%20%5B-15.7827682495117%2C%20-48.1383438110352%2C%20483.0%5D%2C%20%5B-15.8076105488157%2C%20-48.1365653102838%2C%202061.0%5D%2C%20%5B-15.8047045527638%2C%20-48.1534587086498%2C%20959.0%5D%2C%20%5B-15.8425970077515%2C%20-48.1010303497314%2C%2022.0%5D%2C%20%5B-16.0174157870443%2C%20-47.9135123303062%2C%201238.0%5D%2C%20%5B-15.7665491104126%2C%20-48.1376113891602%2C%209.0%5D%2C%20%5B-15.8879881132217%2C%20-47.8953353336879%2C%20765.0%5D%2C%20%5B-15.8848716795444%2C%20-48.1044081449509%2C%201693.0%5D%2C%20%5B-15.8752329869704%2C%20-48.0678336403587%2C%203475.0%5D%2C%20%5B-15.8935760712959%2C%20-48.1231491733605%2C%20823.0%5D%2C%20%5B-15.8693568096604%2C%20-48.0588116756705%2C%201375.0%5D%2C%20%5B-15.8857743590028%2C%20-48.0959273118239%2C%201639.0%5D%2C%20%5B-15.8828790392194%2C%20-48.074845804487%2C%201845.0%5D%2C%20%5B-15.8921856329991%2C%20-48.1054121530973%2C%201226.0%5D%2C%20%5B-15.8765627155459%2C%20-48.0651953782493%2C%202175.0%5D%2C%20%5B-15.8953771965176%2C%20-48.1193837558522%2C%201373.0%5D%2C%20%5B-15.8807036758315%2C%20-48.0699330864223%2C%202434.0%5D%2C%20%5B-15.8893410173574%2C%20-48.0961938442144%2C%201416.0%5D%2C%20%5B-15.8798696838807%2C%20-48.0688248393692%2C%201952.0%5D%2C%20%5B-15.8857956870657%2C%20-48.0868316400247%2C%20550.0%5D%2C%20%5B-15.8823271199277%2C%20-48.0538721184981%2C%201289.0%5D%2C%20%5B-15.8897935589658%2C%20-48.1016969560068%2C%201376.0%5D%2C%20%5B-15.8712230607784%2C%20-48.0658064687718%2C%203218.0%5D%2C%20%5B-16.0233671138813%2C%20-48.1355267314168%2C%20432.0%5D%2C%20%5B-15.8667048406601%2C%20-48.0842349815369%2C%204116.0%5D%2C%20%5B-15.8696453181747%2C%20-48.094854865978%2C%201804.0%5D%2C%20%5B-15.8635110602808%2C%20-48.0700707612214%2C%203204.0%5D%2C%20%5B-15.8774779769015%2C%20-48.1071338495932%2C%201274.0%5D%2C%20%5B-15.8566773145095%2C%20-48.0813673475514%2C%201654.0%5D%2C%20%5B-15.8801145273096%2C%20-48.1094119502049%2C%20714.0%5D%2C%20%5B-15.8839019330821%2C%20-48.1222499474547%2C%201057.0%5D%2C%20%5B-15.8882128507241%2C%20-48.1317562673284%2C%20822.0%5D%2C%20%5B-15.8938595898946%2C%20-48.1437758127848%2C%201188.0%5D%2C%20%5B-15.8694421987739%2C%20-48.1026852285262%2C%201251.0%5D%2C%20%5B-15.8793129210776%2C%20-48.1223478114351%2C%20568.0%5D%2C%20%5B-15.8900465052179%2C%20-48.1454698278549%2C%20328.0%5D%2C%20%5B-15.8617506424586%2C%20-48.0843234062195%2C%20124.0%5D%2C%20%5B-15.8808520343326%2C%20-48.1122996828972%2C%20468.0%5D%2C%20%5B-15.8891562734331%2C%20-48.0464032718114%2C%20686.0%5D%2C%20%5B-15.8769552018907%2C%20-48.0652843051487%2C%20492.0%5D%2C%20%5B-15.8750598864122%2C%20-48.0728585503318%2C%20388.0%5D%2C%20%5B-15.8500032424927%2C%20-48.0564918518066%2C%20283.0%5D%2C%20%5B-15.8580303668976%2C%20-47.9685371398926%2C%2034.0%5D%2C%20%5B-15.8538878264251%2C%20-47.9684670201054%2C%205394.0%5D%2C%20%5B-15.8072702544076%2C%20-47.9123578009667%2C%204551.0%5D%2C%20%5B-15.7694339587771%2C%20-47.938237946609%2C%204251.0%5D%2C%20%5B-15.8872606854479%2C%20-47.9806576255991%2C%205655.0%5D%2C%20%5B-15.8986806436019%2C%20-47.9859056761771%2C%203579.0%5D%2C%20%5B-15.8848721727412%2C%20-47.9956556279609%2C%201674.0%5D%2C%20%5B-15.9775161743164%2C%20-48.0513381958008%2C%20965.0%5D%2C%20%5B-15.9659687128577%2C%20-48.1019607198582%2C%20321.0%5D%2C%20%5B-15.9570832986098%2C%20-48.0499404026912%2C%209.0%5D%2C%20%5B-15.7562099057575%2C%20-47.9760936470919%2C%202131.0%5D%2C%20%5B-15.8795464992523%2C%20-47.9230194091797%2C%20109.0%5D%2C%20%5B-15.9165566232469%2C%20-47.9516448974609%2C%201457.0%5D%2C%20%5B-15.90589777199%2C%20-48.0143166103879%2C%20115.0%5D%2C%20%5B-15.8889303207397%2C%20-48.0103718150746%2C%201911.0%5D%2C%20%5B-15.8655628497784%2C%20-47.9700913649339%2C%204737.0%5D%2C%20%5B-15.927072763443%2C%20-48.0707998275757%2C%20555.0%5D%2C%20%5B-15.9494741439819%2C%20-48.0757987976074%2C%20190.0%5D%2C%20%5B-15.9011202505079%2C%20-47.9449104050458%2C%204223.0%5D%2C%20%5B-15.9147396087646%2C%20-47.9784652709961%2C%201603.0%5D%2C%20%5B-16.0320781866709%2C%20-48.0377887090047%2C%20136.0%5D%2C%20%5B-16.0333284898238%2C%20-48.0342837246982%2C%20398.0%5D%2C%20%5B-15.9153373582023%2C%20-48.0376656396048%2C%2067.0%5D%2C%20%5B-15.7664451599121%2C%20-47.5460891723633%2C%2013.0%5D%2C%20%5B-16.031859309585%2C%20-48.0232888680917%2C%201435.0%5D%2C%20%5B-15.9628745129234%2C%20-47.9961034540544%2C%201210.0%5D%2C%20%5B-16.0186676806714%2C%20-48.0180818029197%2C%201744.0%5D%2C%20%5B-16.0119020076508%2C%20-48.0238755814572%2C%202016.0%5D%2C%20%5B-15.9988165669058%2C%20-48.0183071706487%2C%201822.0%5D%2C%20%5B-15.9916089110904%2C%20-48.0239717695448%2C%20608.0%5D%2C%20%5B-15.985157430172%2C%20-48.0110179185867%2C%20674.0%5D%2C%20%5B-15.9795257872429%2C%20-48.0047835198002%2C%201011.0%5D%2C%20%5B-15.9754297406066%2C%20-48.0033577563716%2C%201114.0%5D%2C%20%5B-15.9884643554688%2C%20-48.0056182225545%2C%201026.0%5D%2C%20%5B-15.9884250130452%2C%20-48.0023367438518%2C%20890.0%5D%2C%20%5B-15.9874178341457%2C%20-48.0080732618059%2C%20275.0%5D%2C%20%5B-16.0008446728742%2C%20-48.0072924296061%2C%20326.0%5D%2C%20%5B-16.0135568689417%2C%20-48.010365097611%2C%20327.0%5D%2C%20%5B-15.982889175415%2C%20-48.0056704415215%2C%201005.0%5D%2C%20%5B-15.9837622566829%2C%20-47.9957658676874%2C%20990.0%5D%2C%20%5B-15.9946354896792%2C%20-47.9962300946636%2C%20576.0%5D%2C%20%5B-15.9713753594293%2C%20-47.9933103985257%2C%20809.0%5D%2C%20%5B-15.9860410167746%2C%20-47.9877149242244%2C%202244.0%5D%2C%20%5B-15.9733776683696%2C%20-47.9725211963319%2C%202500.0%5D%2C%20%5B-15.9884807612445%2C%20-47.9831678545153%2C%202614.0%5D%2C%20%5B-16.8277071642588%2C%20-47.3202796844115%2C%20183.0%5D%2C%20%5B-15.9266524174634%2C%20-48.025250378777%2C%20512.0%5D%2C%20%5B-15.8037127256393%2C%20-48.0056985616684%2C%2051.0%5D%2C%20%5B-15.8216699173576%2C%20-47.9809268650256%2C%2012.0%5D%2C%20%5B-15.7973349182694%2C%20-47.9085521462523%2C%2020.0%5D%2C%20%5B-15.4173820018768%2C%20-49.3247265815735%2C%20111.0%5D%2C%20%5B-15.8031619282092%2C%20-47.9852767556401%2C%2015.0%5D%2C%20%5B-15.9655728022257%2C%20-47.9781659444173%2C%20990.0%5D%2C%20%5B-15.9355934990777%2C%20-47.9993815951877%2C%2082.0%5D%2C%20%5B-15.8208956037249%2C%20-47.9120180039179%2C%2088.0%5D%2C%20%5B-15.9974851608276%2C%20-47.9991989135742%2C%2028.0%5D%2C%20%5B-15.9907467883566%2C%20-47.9967661318572%2C%20654.0%5D%2C%20%5B-15.9700757630017%2C%20-47.9871166774205%2C%201388.0%5D%2C%20%5B-15.9859368655146%2C%20-47.9906864555515%2C%20594.0%5D%2C%20%5B-15.948183298111%2C%20-47.8227205276489%2C%20156.0%5D%2C%20%5B-15.8950898872232%2C%20-47.8981171374051%2C%2098.0%5D%2C%20%5B-15.7664451599121%2C%20-47.5460891723633%2C%2041.0%5D%2C%20%5B-15.8828269253258%2C%20-47.8842120130523%2C%203702.0%5D%2C%20%5B-15.8705370389498%2C%20-48.0538163992075%2C%201266.0%5D%2C%20%5B-15.8933841275497%2C%20-48.0642009788836%2C%201108.0%5D%2C%20%5B-15.9317014906141%2C%20-48.0058480580648%2C%201473.0%5D%2C%20%5B-15.8958768454211%2C%20-47.9287090636136%2C%203472.0%5D%2C%20%5B-15.9023801854679%2C%20-48.0063577720097%2C%202013.0%5D%2C%20%5B-15.9072651969062%2C%20-47.9400309244792%2C%201314.0%5D%2C%20%5B-15.887553174445%2C%20-48.0559745545083%2C%201463.0%5D%2C%20%5B-15.8865013122559%2C%20-48.0763626098633%2C%2037.0%5D%2C%20%5B-15.9005571106105%2C%20-48.0438961658663%2C%201872.0%5D%2C%20%5B-15.8910088539124%2C%20-48.0313995534723%2C%201626.0%5D%2C%20%5B-15.9038582744761%2C%20-48.0463100009494%2C%201907.0%5D%2C%20%5B-15.9147498461665%2C%20-48.0601498350805%2C%20516.0%5D%2C%20%5B-15.9193002382914%2C%20-48.0493011474609%2C%2037.0%5D%2C%20%5B-15.9161789483494%2C%20-48.045703013738%2C%202256.0%5D%2C%20%5B-15.9314791330924%2C%20-48.1020564299363%2C%201516.0%5D%2C%20%5B-15.8848271369934%2C%20-48.1054801940918%2C%2019.0%5D%2C%20%5B-15.9386308116298%2C%20-48.1075657260033%2C%2016.0%5D%2C%20%5B-15.8994776699521%2C%20-48.0342136698032%2C%201246.0%5D%2C%20%5B-15.9651536941528%2C%20-48.1039047241211%2C%209.0%5D%2C%20%5B-15.7651023864746%2C%20-48.1324325561523%2C%20813.0%5D%2C%20%5B-15.7286545910052%2C%20-48.0531841676627%2C%201098.0%5D%2C%20%5B-15.7460465853727%2C%20-48.0444533432586%2C%202225.0%5D%2C%20%5B-15.7501268188159%2C%20-48.061366558075%2C%20980.0%5D%2C%20%5B-15.7723789215088%2C%20-47.9293296120384%2C%20901.0%5D%2C%20%5B-15.7168520835981%2C%20-48.0315276368024%2C%20952.0%5D%2C%20%5B-15.6733698383454%2C%20-47.9835101712135%2C%20597.0%5D%2C%20%5B-15.7013444071231%2C%20-48.1576601111371%2C%20167.0%5D%2C%20%5B-15.736825466156%2C%20-48.0201194763184%2C%20217.0%5D%2C%20%5B-15.8876864726727%2C%20-48.0756586514986%2C%20363.0%5D%2C%20%5B-15.8482871808504%2C%20-47.844893405312%2C%20322.0%5D%2C%20%5B-15.8289721662348%2C%20-48.0849848660556%2C%20282.0%5D%2C%20%5B-15.7109756469727%2C%20-48.0841108623304%2C%20326.0%5D%2C%20%5B-15.7025277018547%2C%20-48.1540729999542%2C%20412.0%5D%2C%20%5B-15.6698022683462%2C%20-48.167865117391%2C%20301.0%5D%2C%20%5B-15.7397505153309%2C%20-48.1469195972789%2C%20206.0%5D%2C%20%5B-15.7815553665161%2C%20-48.0655527750651%2C%20406.0%5D%2C%20%5B-15.7182139963717%2C%20-48.1123542270145%2C%201015.0%5D%2C%20%5B-15.7618453328202%2C%20-48.0075914336414%2C%201105.0%5D%2C%20%5B-15.6975841522217%2C%20-48.0592320760091%2C%2036.0%5D%2C%20%5B-15.710759455363%2C%20-48.1770094299316%2C%2018.0%5D%2C%20%5B-15.7139596939087%2C%20-48.1485290527344%2C%2072.0%5D%2C%20%5B-15.7489204406738%2C%20-48.1150512695313%2C%2040.0%5D%2C%20%5B-15.794228553772%2C%20-47.8821640014648%2C%20899.0%5D%2C%20%5B-16.2538316957243%2C%20-47.9830483237466%2C%2015.0%5D%2C%20%5B-16.3806128501892%2C%20-47.9437978050926%2C%203.0%5D%2C%20%5B-16.2359763072087%2C%20-47.9723155681904%2C%204.0%5D%2C%20%5B-16.2391843905394%2C%20-48.0427506545494%2C%204.0%5D%2C%20%5B-16.2742622163561%2C%20-47.8865617116292%2C%202.0%5D%2C%20%5B-16.1886318431181%2C%20-48.0134476493387%2C%201.0%5D%2C%20%5B-16.3581763047438%2C%20-47.8456572019137%2C%201.0%5D%2C%20%5B-16.1524214744568%2C%20-47.952818775177%2C%201.0%5D%2C%20%5B-16.1993755504928%2C%20-47.9997687912852%2C%201.0%5D%2C%20%5B-16.1787608188132%2C%20-47.998522799948%2C%2012.0%5D%2C%20%5B-16.2278909683228%2C%20-48.0232021497644%2C%203.0%5D%2C%20%5B-16.3050692822945%2C%20-47.9704358680396%2C%205.0%5D%2C%20%5B-16.1704908507822%2C%20-47.9306207494351%2C%203.0%5D%2C%20%5B-16.0757693247447%2C%20-48.0589344543818%2C%2035.0%5D%2C%20%5B-16.0738557179769%2C%20-48.0768010639009%2C%206.0%5D%2C%20%5B-16.1282059815939%2C%20-48.0819093082728%2C%207.0%5D%2C%20%5B-16.0953801955855%2C%20-48.0418781167847%2C%2026.0%5D%2C%20%5B-16.1033913225066%2C%20-48.073393376113%2C%209.0%5D%2C%20%5B-16.0910898587283%2C%20-48.0399460371803%2C%203.0%5D%2C%20%5B-16.0807652120237%2C%20-47.9996052141543%2C%201.0%5D%2C%20%5B-16.1449042500316%2C%20-48.0063930057979%2C%202.0%5D%2C%20%5B-16.0742566966209%2C%20-47.9923514678699%2C%2019.0%5D%2C%20%5B-5.20830249786377%2C%20-39.2975006103516%2C%206.0%5D%2C%20%5B-16.0753478260784%2C%20-47.9966634279722%2C%202.0%5D%2C%20%5B-16.0928027864363%2C%20-47.9376623747778%2C%2020.0%5D%2C%20%5B-16.1297617073519%2C%20-47.9848104882911%2C%201.0%5D%2C%20%5B-16.0747436006018%2C%20-48.0078180394274%2C%202.0%5D%2C%20%5B-16.1084771532761%2C%20-47.9462847709656%2C%202.0%5D%2C%20%5B-16.1254097223282%2C%20-48.0475093768193%2C%201.0%5D%2C%20%5B-16.0964643853342%2C%20-47.9834264771551%2C%201.0%5D%2C%20%5B-16.0934152603149%2C%20-47.9617290496826%2C%203.0%5D%2C%20%5B-16.0630093839832%2C%20-48.2404591696603%2C%2022.0%5D%2C%20%5B-15.9640633998773%2C%20-48.2973373282669%2C%201.0%5D%2C%20%5B-15.9586580746794%2C%20-48.2757441638267%2C%201.0%5D%2C%20%5B-15.6898114989313%2C%20-48.2813509823231%2C%2052.0%5D%2C%20%5B-15.7839747695036%2C%20-48.2624800926031%2C%202.0%5D%2C%20%5B-15.8043729642804%2C%20-48.3303590195902%2C%201.0%5D%2C%20%5B-15.7603796773882%2C%20-48.2816747029622%2C%205.0%5D%2C%20%5B-15.7534441180613%2C%20-48.2886107214566%2C%204.0%5D%2C%20%5B-15.8794310865268%2C%20-48.2825222552662%2C%203.0%5D%2C%20%5B-15.8254386993475%2C%20-48.30063382611%2C%203.0%5D%2C%20%5B-15.7965794354677%2C%20-48.3292723745108%2C%205.0%5D%2C%20%5B-15.7628382158279%2C%20-48.3347731781006%2C%201.0%5D%2C%20%5B-15.7825771280237%2C%20-48.3152107204403%2C%201.0%5D%2C%20%5B-15.7520085464824%2C%20-48.2932532339385%2C%202.0%5D%2C%20%5B-15.7700529029153%2C%20-48.3000235817649%2C%205.0%5D%2C%20%5B-15.7476737225642%2C%20-48.2982371908719%2C%201.0%5D%2C%20%5B-15.7659940719604%2C%20-48.3422889709473%2C%201.0%5D%2C%20%5B-16.0837103525798%2C%20-48.5065994262695%2C%2029.0%5D%2C%20%5B-16.1976203918457%2C%20-48.7046674092611%2C%202.0%5D%2C%20%5B-15.9249758720398%2C%20-48.8121490478516%2C%204.0%5D%2C%20%5B-19.6645402908325%2C%20-47.7003135681152%2C%209.0%5D%2C%20%5B-15.7783050537109%2C%20-48.6526355743408%2C%202.0%5D%2C%20%5B-16.6731491088867%2C%20-50.6590633392334%2C%2010.0%5D%2C%20%5B-15.8524837493896%2C%20-48.9587917327881%2C%203.0%5D%2C%20%5B-15.6710230203775%2C%20-47.8016864336454%2C%201857.0%5D%2C%20%5B-15.6650831809411%2C%20-47.815037712684%2C%2053.0%5D%2C%20%5B-15.645587348938%2C%20-47.8109352111816%2C%20473.0%5D%2C%20%5B-15.6591046548659%2C%20-47.7936197711575%2C%201339.0%5D%2C%20%5B-15.668425877889%2C%20-47.8151967083966%2C%2022.0%5D%2C%20%5B-15.6613007138489%2C%20-47.8473608903824%2C%202946.0%5D%2C%20%5B-15.7544783812303%2C%20-47.8843757922833%2C%208.0%5D%2C%20%5B-15.6953055593703%2C%20-47.7740908728706%2C%201692.0%5D%2C%20%5B-15.6859747079703%2C%20-47.9080584599422%2C%201451.0%5D%2C%20%5B-15.7352668762207%2C%20-47.8797719319661%2C%2017.0%5D%2C%20%5B-15.6763328894591%2C%20-47.8193077674279%2C%201284.0%5D%2C%20%5B-15.6729708058493%2C%20-47.8176630565098%2C%2036.0%5D%2C%20%5B-15.6712104479472%2C%20-47.7948487599691%2C%201560.0%5D%2C%20%5B-15.6834209066042%2C%20-47.8417266523334%2C%2088.0%5D%2C%20%5B-15.6965377641761%2C%20-47.8232362166695%2C%201317.0%5D%2C%20%5B-15.6745814410123%2C%20-47.828315561468%2C%2075.0%5D%2C%20%5B-15.6668539336233%2C%20-47.8192408012621%2C%201585.0%5D%2C%20%5B-15.6658932612492%2C%20-47.8070270831768%2C%2027.0%5D%2C%20%5B-15.6577640473843%2C%20-47.7809464931488%2C%201525.0%5D%2C%20%5B-15.6741850303881%2C%20-47.818588141239%2C%2029.0%5D%2C%20%5B-15.6692689678125%2C%20-47.8025432385896%2C%202347.0%5D%2C%20%5B-15.7440923736209%2C%20-47.8761947268532%2C%2015.0%5D%2C%20%5B-15.6584825515747%2C%20-47.7923049926758%2C%2024.0%5D%2C%20%5B-15.6784340143204%2C%20-47.8468729125129%2C%202773.0%5D%2C%20%5B-15.7230608246543%2C%20-47.9505030025135%2C%20114.0%5D%2C%20%5B-15.6597352535167%2C%20-47.8323319617738%2C%203077.0%5D%2C%20%5B-15.6440360729511%2C%20-47.8171794597919%2C%20246.0%5D%2C%20%5B-15.6460755088113%2C%20-47.8152098222212%2C%2053.0%5D%2C%20%5B-15.6527785521287%2C%20-47.821453828078%2C%20236.0%5D%2C%20%5B-15.6620455457453%2C%20-47.8328338756896%2C%201634.0%5D%2C%20%5B-15.634417951107%2C%20-47.816989103953%2C%201241.0%5D%2C%20%5B-15.6458361382578%2C%20-47.8355261858772%2C%20719.0%5D%2C%20%5B-15.6445014211867%2C%20-47.8329132927789%2C%20573.0%5D%2C%20%5B-15.7076069012023%2C%20-47.8458062556752%2C%20518.0%5D%2C%20%5B-15.7718146869114%2C%20-47.9226433890206%2C%20383.0%5D%2C%20%5B-15.7451326480279%2C%20-47.9102685634906%2C%20524.0%5D%2C%20%5B-15.7145487467448%2C%20-47.8656775156657%2C%20207.0%5D%2C%20%5B-15.6752163930373%2C%20-47.8437021428889%2C%201502.0%5D%2C%20%5B-15.7230501174927%2C%20-47.8794085184733%2C%20305.0%5D%2C%20%5B-15.6643611272176%2C%20-47.8368184407552%2C%201010.0%5D%2C%20%5B-15.637619972229%2C%20-47.850040435791%2C%20219.0%5D%2C%20%5B-15.7663742966122%2C%20-47.914499812656%2C%201468.0%5D%2C%20%5B-15.6920384627122%2C%20-47.8511108985314%2C%202590.0%5D%2C%20%5B-15.6900987625122%2C%20-47.863109588623%2C%20293.0%5D%2C%20%5B-15.6488471031189%2C%20-47.863109588623%2C%2020.0%5D%2C%20%5B-15.6299818515778%2C%20-47.8696502685547%2C%201310.0%5D%2C%20%5B-15.5919241905212%2C%20-47.8857326507568%2C%20900.0%5D%2C%20%5B-15.7754857540131%2C%20-47.8873271942139%2C%2086.0%5D%2C%20%5B-15.6845993314471%2C%20-47.8440388270787%2C%20553.0%5D%2C%20%5B-15.6970536027636%2C%20-47.991432598659%2C%201530.0%5D%2C%20%5B-15.7562630971273%2C%20-47.7645166185167%2C%201089.0%5D%2C%20%5B-15.6551236303229%2C%20-47.7616318953665%2C%20921.0%5D%2C%20%5B-15.6799502372742%2C%20-47.8177404403687%2C%20682.0%5D%2C%20%5B-15.6987700462341%2C%20-47.7295188903809%2C%2083.0%5D%2C%20%5B-15.757472038269%2C%20-47.746395111084%2C%2075.0%5D%2C%20%5B-15.6352245012919%2C%20-47.7325871785482%2C%20442.0%5D%2C%20%5B-15.7162546971265%2C%20-47.8264424941119%2C%20635.0%5D%2C%20%5B-15.7503421041701%2C%20-47.9332190619575%2C%20859.0%5D%2C%20%5B-15.6443314672518%2C%20-47.2334737697569%2C%203524.0%5D%2C%20%5B-15.6972650362521%2C%20-47.9014637032334%2C%204451.0%5D%2C%20%5B-15.8069658279419%2C%20-47.9048728942871%2C%204.0%5D%2C%20%5B-15.8007571769483%2C%20-47.9269043893525%2C%20169.0%5D%2C%20%5B-15.7412686580565%2C%20-47.9278144371219%2C%203045.0%5D%2C%20%5B-15.7320448222913%2C%20-47.7861170852393%2C%201666.0%5D%2C%20%5B-15.7044578552246%2C%20-47.8019976298014%2C%20102.0%5D%2C%20%5B-15.8449965645285%2C%20-47.9178399478688%2C%20209.0%5D%2C%20%5B-15.7945357871382%2C%20-47.833641418039%2C%201478.0%5D%2C%20%5B-15.7014559998232%2C%20-47.9058073268217%2C%202222.0%5D%2C%20%5B-15.7746273945954%2C%20-47.8581020225913%2C%20195.0%5D%2C%20%5B-15.7460594338886%2C%20-47.8418657335184%2C%20123.0%5D%2C%20%5B-15.7265776720914%2C%20-47.8094645413485%2C%2036.0%5D%2C%20%5B-15.7490752375403%2C%20-47.8501003176667%2C%203071.0%5D%2C%20%5B-15.7231798171997%2C%20-47.8093605656778%2C%20970.0%5D%2C%20%5B-15.7876004983883%2C%20-47.9047961471104%2C%203858.0%5D%2C%20%5B-15.7565919558207%2C%20-47.9079032897949%2C%20327.0%5D%2C%20%5B-15.7492354466365%2C%20-47.8320688100962%2C%20252.0%5D%2C%20%5B-15.7019360860189%2C%20-47.7304382324219%2C%2028.0%5D%2C%20%5B-15.6145335110751%2C%20-47.6918695623224%2C%202475.0%5D%2C%20%5B-15.7961091597875%2C%20-47.9548784891764%2C%20156.0%5D%2C%20%5B-15.6894743177626%2C%20-47.6746660868327%2C%2023.0%5D%2C%20%5B-15.7691011428833%2C%20-47.5664520263672%2C%20325.0%5D%2C%20%5B-15.7105152408282%2C%20-47.8125939369202%2C%20299.0%5D%2C%20%5B-15.6411210573637%2C%20-47.9022751441369%2C%201456.0%5D%2C%20%5B-15.7068990006739%2C%20-47.8499634801125%2C%20971.0%5D%2C%20%5B-15.567530709344%2C%20-48.058832271679%2C%20741.0%5D%2C%20%5B-15.6216249465942%2C%20-47.5460891723633%2C%20720.0%5D%2C%20%5B-15.1645053227743%2C%20-48.2793668111165%2C%2047.0%5D%2C%20%5B-15.8736977577209%2C%20-48.7165241241455%2C%204.0%5D%2C%20%5B-14.1532573699951%2C%20-48.0909690856934%2C%203.0%5D%2C%20%5B-15.5058395862579%2C%20-47.6678942292928%2C%2010.0%5D%2C%20%5B-15.5452736181491%2C%20-47.6905365559592%2C%2016.0%5D%2C%20%5B-15.5209943987429%2C%20-47.6717894971371%2C%207.0%5D%2C%20%5B-15.4605503881444%2C%20-47.6188302492962%2C%205.0%5D%2C%20%5B-15.5979560924026%2C%20-47.6941181542738%2C%208.0%5D%2C%20%5B-15.6587636461142%2C%20-47.7072526723267%2C%204.0%5D%2C%20%5B-15.6798195638576%2C%20-47.761665312182%2C%204.0%5D%2C%20%5B-15.4513483047485%2C%20-47.5977592468262%2C%203.0%5D%2C%20%5B-14.5712552070618%2C%20-47.4476432800293%2C%201.0%5D%2C%20%5B-14.1361417770386%2C%20-47.5174312591553%2C%209.0%5D%2C%20%5B-14.9828233718872%2C%20-47.8144664764404%2C%204.0%5D%2C%20%5B-13.7975287437439%2C%20-47.4586067199707%2C%202.0%5D%2C%20%5B-13.7782530784607%2C%20-47.2670555114746%2C%201.0%5D%2C%20%5B-15.5676411482004%2C%20-47.3952491466816%2C%203.0%5D%2C%20%5B-15.6335490573536%2C%20-47.4781253814697%2C%201.0%5D%2C%20%5B-15.6128940043476%2C%20-47.4588167653919%2C%206.0%5D%2C%20%5B-15.6183210729856%2C%20-47.439223841617%2C%206.0%5D%2C%20%5B-15.6750777094497%2C%20-47.4850059160726%2C%203.0%5D%2C%20%5B-16.2186950163408%2C%20-47.7535365017978%2C%201.0%5D%2C%20%5B-15.6293354217823%2C%20-47.4499840614123%2C%2010.0%5D%2C%20%5B-15.5527960765793%2C%20-47.3660063226539%2C%201.0%5D%2C%20%5B-15.0391530990601%2C%20-47.0522956848145%2C%203.0%5D%2C%20%5B-13.2502908706665%2C%20-46.8929214477539%2C%201.0%5D%2C%20%5B-13.0338640213013%2C%20-46.7706127166748%2C%209.0%5D%2C%20%5B-16.769193649292%2C%20-47.6109886169434%2C%2014.0%5D%2C%20%5B-13.3997888565063%2C%20-46.3205108642578%2C%202.0%5D%2C%20%5B-13.2898983955383%2C%20-46.3968505859375%2C%204.0%5D%2C%20%5B-15.8042011260986%2C%20-46.9281826019287%2C%203.0%5D%2C%20%5B-15.189515431722%2C%20-47.7803293863932%2C%209.0%5D%2C%20%5B-16.4923289616903%2C%20-46.3678728739421%2C%205.0%5D%2C%20%5B-14.1013450622559%2C%20-46.7109336853027%2C%205.0%5D%2C%20%5B-14.4729676246643%2C%20-46.4852180480957%2C%207.0%5D%2C%20%5B-14.4832878112793%2C%20-46.4910583496094%2C%204.0%5D%2C%20%5B-14.4924154281616%2C%20-46.1128349304199%2C%202.0%5D%2C%20%5B-14.4678826332092%2C%20-46.4190998077393%2C%203.0%5D%2C%20%5B-14.5629568099976%2C%20-46.1769123077393%2C%201.0%5D%2C%20%5B-16.6891710190546%2C%20-49.2611211140951%2C%202.0%5D%2C%20%5B-16.6742844051785%2C%20-49.2631352742513%2C%201.0%5D%2C%20%5B-16.6603268214634%2C%20-49.2157795769828%2C%201.0%5D%2C%20%5B-16.6615824018206%2C%20-49.2651118929424%2C%201.0%5D%2C%20%5B-16.7133678793907%2C%20-49.2911961078644%2C%201.0%5D%2C%20%5B-16.6960115934673%2C%20-49.2582321166992%2C%201.0%5D%2C%20%5B-16.6827857971191%2C%20-49.2655162811279%2C%201.0%5D%2C%20%5B-16.6891499757767%2C%20-49.2724053859711%2C%202.0%5D%2C%20%5B-16.6994379043579%2C%20-49.2572727203369%2C%201.0%5D%2C%20%5B-16.7043724060058%2C%20-49.2732597799862%2C%201.0%5D%2C%20%5B-16.7055611513099%2C%20-49.2902782985142%2C%201.0%5D%2C%20%5B-16.7033159410631%2C%20-49.2785102225639%2C%201.0%5D%2C%20%5B-16.714252267565%2C%20-49.2800927843366%2C%203.0%5D%2C%20%5B-16.6322896083196%2C%20-49.2614648342133%2C%201.0%5D%2C%20%5B-16.7001450856527%2C%20-49.3087745666504%2C%201.0%5D%2C%20%5B-16.715352935791%2C%20-49.2973198954264%2C%201.0%5D%2C%20%5B-16.730860216277%2C%20-49.3332687956946%2C%201.0%5D%2C%20%5B-16.7243144707602%2C%20-49.3347520515567%2C%202.0%5D%2C%20%5B-16.7168178344041%2C%20-49.2999363588483%2C%201.0%5D%2C%20%5B-16.6786267696283%2C%20-49.3120439480512%2C%201.0%5D%2C%20%5B-16.6815962731084%2C%20-49.3087501043006%2C%201.0%5D%2C%20%5B-16.7078368447044%2C%20-49.2823147273564%2C%201.0%5D%2C%20%5B-16.6667607895871%2C%20-49.3009275882802%2C%201.0%5D%2C%20%5B-16.654681801796%2C%20-49.3170092900594%2C%201.0%5D%2C%20%5B-16.6277060735793%2C%20-49.3135314379936%2C%201.0%5D%2C%20%5B-16.6451060200786%2C%20-49.3130984798893%2C%202.0%5D%2C%20%5B-16.6192531544498%2C%20-49.3154736100726%2C%201.0%5D%2C%20%5B-16.7461590656014%2C%20-49.3323267116103%2C%201.0%5D%2C%20%5B-16.6742931712757%2C%20-49.2933516068892%2C%201.0%5D%2C%20%5B-16.6617838915657%2C%20-49.2878034255084%2C%201.0%5D%2C%20%5B-16.6824162271288%2C%20-49.2768437067668%2C%201.0%5D%2C%20%5B-16.6600793890051%2C%20-49.2827723735088%2C%201.0%5D%2C%20%5B-16.676229170811%2C%20-49.2740053247522%2C%202.0%5D%2C%20%5B-16.6528149384719%2C%20-49.2671339328472%2C%201.0%5D%2C%20%5B-16.6386391225487%2C%20-49.2806083987458%2C%202.0%5D%2C%20%5B-16.6965033807487%2C%20-49.2689977628048%2C%201.0%5D%2C%20%5B-16.6824898439295%2C%20-49.2449634776396%2C%202.0%5D%2C%20%5B-16.677265520449%2C%20-49.2523874353479%2C%201.0%5D%2C%20%5B-16.6774288079678%2C%20-49.2480537218925%2C%201.0%5D%2C%20%5B-16.6612768854414%2C%20-49.2904682613554%2C%201.0%5D%2C%20%5B-16.6584871046005%2C%20-49.2347578848562%2C%201.0%5D%2C%20%5B-16.6333489276395%2C%20-49.2165849515707%2C%203.0%5D%2C%20%5B-16.6514011529776%2C%20-49.2680204831637%2C%203.0%5D%2C%20%5B-16.6286774343149%2C%20-49.2649692910255%2C%201.0%5D%2C%20%5B-16.6598289229653%2C%20-49.1796326327633%2C%201.0%5D%2C%20%5B-16.6850793626573%2C%20-49.237826400333%2C%201.0%5D%2C%20%5B-16.6742893218994%2C%20-49.2094592412313%2C%201.0%5D%2C%20%5B-16.6561718532017%2C%20-49.1948031834194%2C%201.0%5D%2C%20%5B-16.6553458797121%2C%20-49.1984528847111%2C%201.0%5D%2C%20%5B-16.6786628995623%2C%20-49.2649579729353%2C%201.0%5D%2C%20%5B-16.6916822433472%2C%20-49.2498213631766%2C%201.0%5D%2C%20%5B-16.7039542388916%2C%20-49.2547581100464%2C%201.0%5D%2C%20%5B-16.7109137641059%2C%20-49.2607057359483%2C%201.0%5D%2C%20%5B-16.7251126289368%2C%20-49.2846500396728%2C%201.0%5D%2C%20%5B-16.7209791183472%2C%20-49.2594850267683%2C%201.0%5D%2C%20%5B-16.6025864243508%2C%20-49.1751088460287%2C%201.0%5D%2C%20%5B-16.7140994389852%2C%20-49.2290697006952%2C%201.0%5D%2C%20%5B-16.8017527001803%2C%20-49.2495989564989%2C%203.0%5D%2C%20%5B-16.7478215834674%2C%20-49.2736276364794%2C%201.0%5D%2C%20%5B-16.7618287583472%2C%20-49.2661658810898%2C%201.0%5D%2C%20%5B-16.7573676045736%2C%20-49.3271182250977%2C%202.0%5D%2C%20%5B-16.759201925309%2C%20-49.2972531240494%2C%201.0%5D%2C%20%5B-16.7714195481266%2C%20-49.2965768561306%2C%201.0%5D%2C%20%5B-16.7191655452435%2C%20-49.3092796619122%2C%201.0%5D%2C%20%5B-16.7966314195753%2C%20-49.2874500568096%2C%202.0%5D%2C%20%5B-16.7950732323431%2C%20-49.3057419253934%2C%201.0%5D%2C%20%5B-16.7695089486929%2C%20-49.2799093644698%2C%201.0%5D%2C%20%5B-16.7960746361821%2C%20-49.2561391418726%2C%201.0%5D%2C%20%5B-16.9232379265551%2C%20-49.1750022600282%2C%201.0%5D%2C%20%5B-16.7858706009694%2C%20-49.1923643258902%2C%208.0%5D%2C%20%5B-16.8580804824829%2C%20-49.2227191077338%2C%201.0%5D%2C%20%5B-16.8300826748212%2C%20-49.2310638229052%2C%201.0%5D%2C%20%5B-16.3638295105525%2C%20-49.0104783603123%2C%201.0%5D%2C%20%5B-16.5068026163492%2C%20-48.9801046991923%2C%201.0%5D%2C%20%5B-16.2980490191229%2C%20-48.970458168819%2C%201.0%5D%2C%20%5B-16.3265941810608%2C%20-48.9727147674561%2C%203.0%5D%2C%20%5B-16.305733864124%2C%20-48.9638152122498%2C%201.0%5D%2C%20%5B-16.3038417941234%2C%20-48.9690730298152%2C%201.0%5D%2C%20%5B-16.4197664260864%2C%20-48.9832222882439%2C%201.0%5D%2C%20%5B-16.3241820999339%2C%20-48.9564583693879%2C%201.0%5D%2C%20%5B-16.3847747955322%2C%20-48.9682434387207%2C%201.0%5D%2C%20%5B-16.3165078713344%2C%20-48.9561924200791%2C%202.0%5D%2C%20%5B-16.3272155678791%2C%20-48.9512306296307%2C%201.0%5D%2C%20%5B-16.3915847376773%2C%20-48.9541271812037%2C%201.0%5D%2C%20%5B-16.3396413116455%2C%20-48.947350402832%2C%204.0%5D%2C%20%5B-16.3228523466322%2C%20-48.9129190899077%2C%201.0%5D%2C%20%5B-16.3347922733852%2C%20-48.9535524976123%2C%202.0%5D%2C%20%5B-16.3655281066895%2C%20-48.9517263396969%2C%202.0%5D%2C%20%5B-16.4114684831528%2C%20-48.8982241494315%2C%201.0%5D%2C%20%5B-16.3992821375529%2C%20-48.9012454502166%2C%201.0%5D%2C%20%5B-16.3353981529314%2C%20-48.9452754541771%2C%203.0%5D%2C%20%5B-16.3342273369264%2C%20-48.9479565566845%2C%201.0%5D%2C%20%5B-16.4620529901414%2C%20-48.9433094932919%2C%201.0%5D%2C%20%5B-16.3673676741751%2C%20-49.0034939816124%2C%202.0%5D%2C%20%5B-16.3700975335163%2C%20-48.9950138036756%2C%201.0%5D%2C%20%5B-16.3435159810384%2C%20-48.9677910359701%2C%201.0%5D%2C%20%5B-16.3285465240479%2C%20-48.9534034729004%2C%201.0%5D%2C%20%5B-16.4817543029785%2C%20-49.0927581787109%2C%201.0%5D%2C%20%5B-16.6680812835693%2C%20-48.6101417541504%2C%203.0%5D%2C%20%5B-16.6186037063599%2C%20-48.9627094268799%2C%201.0%5D%2C%20%5B-17.3086109161377%2C%20-48.2781105041504%2C%204.0%5D%2C%20%5B-17.2002429962158%2C%20-48.7079467773438%2C%201.0%5D%2C%20%5B-16.7924137115479%2C%20-49.098295211792%2C%201.0%5D%2C%20%5B-16.6968698613784%2C%20-49.1232488594803%2C%203.0%5D%2C%20%5B-16.8559896151225%2C%20-49.0464155673981%2C%201.0%5D%2C%20%5B-16.6548871216951%2C%20-49.1435157493309%2C%201.0%5D%2C%20%5B-16.7542369340595%2C%20-49.084290273566%2C%202.0%5D%2C%20%5B-16.8301086425781%2C%20-49.5385360717773%2C%201.0%5D%2C%20%5B-17.0475158691406%2C%20-49.6316795349121%2C%201.0%5D%2C%20%5B-16.7457005142616%2C%20-49.1000608101419%2C%201.0%5D%2C%20%5B-16.4396176958298%2C%20-49.4650421997891%2C%202.0%5D%2C%20%5B-16.4115038952195%2C%20-49.4844566559696%2C%201.0%5D%2C%20%5B-16.2032880783081%2C%20-49.4305305480957%2C%201.0%5D%2C%20%5B-16.405158996582%2C%20-49.2224044799805%2C%201.0%5D%2C%20%5B-16.366527557373%2C%20-49.320671081543%2C%201.0%5D%2C%20%5B-16.1057357788086%2C%20-49.3342056274414%2C%201.0%5D%2C%20%5B-18.2708530070177%2C%20-49.2709734048416%2C%202.0%5D%2C%20%5B-18.3317625138818%2C%20-49.1800477748964%2C%201.0%5D%2C%20%5B-17.5229682922363%2C%20-49.5687408447266%2C%201.0%5D%2C%20%5B-17.3050556182861%2C%20-49.0205268859863%2C%203.0%5D%2C%20%5B-18.1382484436035%2C%20-49.0432548522949%2C%201.0%5D%2C%20%5B-17.9788846969604%2C%20-48.6708660125732%2C%201.0%5D%2C%20%5B-17.5338073166049%2C%20-48.7646754517847%2C%2040.0%5D%2C%20%5B-17.5847013805852%2C%20-48.6061002326734%2C%201.0%5D%2C%20%5B-18.111417726706%2C%20-47.9858683229403%2C%201.0%5D%2C%20%5B-17.9499802217855%2C%20-47.973949853476%2C%201.0%5D%2C%20%5B-17.7664795286337%2C%20-48.2140818553366%2C%202.0%5D%2C%20%5B-17.8198895838953%2C%20-48.3304109881001%2C%201.0%5D%2C%20%5B-18.092287386536%2C%20-48.0003579558519%2C%201.0%5D%2C%20%5B-17.8263607430965%2C%20-48.2487075481009%2C%201.0%5D%2C%20%5B-18.2315883636475%2C%20-47.836067199707%2C%201.0%5D%2C%20%5B-18.1353282928467%2C%20-48.0874671936035%2C%201.0%5D%2C%20%5B-18.0601139068604%2C%20-48.2990989685059%2C%201.0%5D%2C%20%5B-18.3343372344971%2C%20-48.2208061218262%2C%201.0%5D%2C%20%5B-17.721263885498%2C%20-48.1605949401855%2C%206.0%5D%2C%20%5B-17.7486385296553%2C%20-51.4323935093024%2C%202.0%5D%2C%20%5B-17.693306077825%2C%20-51.3814302954343%2C%201.0%5D%2C%20%5B-18.5598373413086%2C%20-51.1340484619141%2C%201.0%5D%2C%20%5B-17.3903236174851%2C%20-52.1204455300663%2C%201.0%5D%2C%20%5B-17.327356338501%2C%20-53.2029876708984%2C%201.0%5D%2C%20%5B-18.7589178085327%2C%20-50.9420680999756%2C%202.0%5D%2C%20%5B-17.7942669344264%2C%20-50.8192146250744%2C%201.0%5D%2C%20%5B-17.7560598889767%2C%20-50.8856090103065%2C%201.0%5D%2C%20%5B-17.7532851461504%2C%20-50.84420826396%2C%201.0%5D%2C%20%5B-17.8156066258748%2C%20-50.794153696696%2C%201.0%5D%2C%20%5B-16.5206349690755%2C%20-50.3707758585612%2C%202.0%5D%2C%20%5B-16.5782299041748%2C%20-50.3069076538086%2C%201.0%5D%2C%20%5B-16.6783123016357%2C%20-50.4651527404785%2C%202.0%5D%2C%20%5B-16.8078460693359%2C%20-49.9197578430176%2C%201.0%5D%2C%20%5B-16.1809864044189%2C%20-50.9520721435547%2C%201.0%5D%2C%20%5B-15.8958473205566%2C%20-52.2516441345215%2C%201.0%5D%2C%20%5B-15.8747262954712%2C%20-50.8640480041504%2C%203.0%5D%2C%20%5B-15.3065528869629%2C%20-49.6004524230957%2C%204.0%5D%2C%20%5B-15.1454000473022%2C%20-49.5751342773438%2C%201.0%5D%2C%20%5B-15.4515905380249%2C%20-49.5045013427734%2C%203.0%5D%2C%20%5B-15.2982559204102%2C%20-49.4245529174805%2C%201.0%5D%2C%20%5B-15.3609914779663%2C%20-49.3999977111816%2C%201.0%5D%2C%20%5B-15.7504391670227%2C%20-49.3351001739502%2C%202.0%5D%2C%20%5B-15.5040674209595%2C%20-49.6795768737793%2C%201.0%5D%2C%20%5B-15.3557796478271%2C%20-49.6997909545898%2C%202.0%5D%2C%20%5B-15.0210313796997%2C%20-49.8964767456055%2C%201.0%5D%2C%20%5B-14.9537286758423%2C%20-49.6095123291016%2C%204.0%5D%2C%20%5B-14.8612461090088%2C%20-49.326530456543%2C%201.0%5D%2C%20%5B-14.726544380188%2C%20-49.3247146606445%2C%201.0%5D%2C%20%5B-15.5521150550457%2C%20-49.1638956166277%2C%201.0%5D%2C%20%5B-15.480084821913%2C%20-49.155067952474%2C%201.0%5D%2C%20%5B-15.5192533025936%2C%20-49.0703078289421%2C%201.0%5D%2C%20%5B-15.4500777271559%2C%20-49.1380699445617%2C%201.0%5D%2C%20%5B-15.5332794189453%2C%20-48.8184366226196%2C%202.0%5D%2C%20%5B-14.5219550132751%2C%20-49.1438446044922%2C%203.0%5D%2C%20%5B-14.3141098022461%2C%20-49.1515350341797%2C%201.0%5D%2C%20%5B-16.4397640228271%2C%20-48.5066184997559%2C%2010.0%5D%2C%20%5B-13.1046800613403%2C%20-48.6882133483887%2C%201.0%5D%2C%20%5B-13.817816734314%2C%20-49.1019248962402%2C%201.0%5D%2C%20%5B-14.2839765548706%2C%20-49.9211616516113%2C%201.0%5D%2C%20%5B-13.7733774185181%2C%20-50.2808303833008%2C%201.0%5D%2C%20%5B-13.4426565170288%2C%20-49.1404355367025%2C%202.0%5D%2C%20%5B-13.2752374013265%2C%20-50.175365447998%2C%201.0%5D%2C%20%5B-15.933970451355%2C%20-49.8362236022949%2C%202.0%5D%2C%20%5B-16.0259316762288%2C%20-49.7997194925944%2C%202.0%5D%2C%20%5B-14.7461442947388%2C%20-50.5717735290527%2C%201.0%5D%2C%20%5B-8.80691812273482%2C%20-63.8468045946578%2C%201.0%5D%2C%20%5B-8.79227268089682%2C%20-63.8852705012607%2C%201.0%5D%2C%20%5B-9.857825756073%2C%20-62.0546455383301%2C%201.0%5D%2C%20%5B-11.8305902481079%2C%20-61.3211994171143%2C%201.0%5D%2C%20%5B-10.1775558269129%2C%20-48.3367743281137%2C%201.0%5D%2C%20%5B-10.1841150094005%2C%20-48.3200467026349%2C%203.0%5D%2C%20%5B-10.2068033752655%2C%20-48.3428433949874%2C%201.0%5D%2C%20%5B-10.1710727696592%2C%20-48.317976996071%2C%202.0%5D%2C%20%5B-10.2127104187012%2C%20-48.3253741149902%2C%201.0%5D%2C%20%5B-10.2380546870568%2C%20-48.3222897953017%2C%202.0%5D%2C%20%5B-10.2539701214084%2C%20-48.3228902280073%2C%201.0%5D%2C%20%5B-10.5300492367713%2C%20-48.3477537616406%2C%201.0%5D%2C%20%5B-10.1752796173096%2C%20-48.2982482910156%2C%201.0%5D%2C%20%5B-10.6595064798991%2C%20-47.3124020894369%2C%206.0%5D%2C%20%5B-11.539927482605%2C%20-47.6289024353027%2C%201.0%5D%2C%20%5B-10.6371930440267%2C%20-47.5488662719727%2C%202.0%5D%2C%20%5B-12.8061335881551%2C%20-47.5962219238281%2C%203.0%5D%2C%20%5B-11.0214630762736%2C%20-47.6685689290365%2C%202.0%5D%2C%20%5B-11.3058748245239%2C%20-48.5104624430339%2C%201.0%5D%2C%20%5B-11.1062412261963%2C%20-48.5401382446289%2C%201.0%5D%2C%20%5B-10.7185363769531%2C%20-49.1198819478353%2C%201.0%5D%2C%20%5B-12.8603372573853%2C%20-47.4966583251953%2C%201.0%5D%2C%20%5B-10.3060064315796%2C%20-48.5033620198568%2C%201.0%5D%2C%20%5B-10.3526496887207%2C%20-48.3731155395508%2C%201.0%5D%2C%20%5B-12.9851961135864%2C%20-48.0936737060547%2C%201.0%5D%2C%20%5B-10.8855946858724%2C%20-48.4444834391276%2C%201.0%5D%2C%20%5B-10.5468492507935%2C%20-46.4166765213013%2C%201.0%5D%2C%20%5B-10.1759831905365%2C%20-48.5915479660034%2C%202.0%5D%2C%20%5B-10.1752796173096%2C%20-48.2982482910156%2C%201.0%5D%2C%20%5B-9.72570641835531%2C%20-48.3696988423665%2C%201.0%5D%2C%20%5B-9.92689450581869%2C%20-48.6032358805339%2C%201.0%5D%2C%20%5B-9.24077065785726%2C%20-48.7224731445313%2C%202.0%5D%2C%20%5B-6.76999505360921%2C%20-48.5123189290365%2C%203.0%5D%2C%20%5B-9.77410634358724%2C%20-48.2577158610026%2C%202.0%5D%2C%20%5B-9.25232537587484%2C%20-48.116455078125%2C%201.0%5D%2C%20%5B-8.98527399698893%2C%20-47.9456316630046%2C%201.0%5D%2C%20%5B-7.85450140635173%2C%20-61.2894465128581%2C%201.0%5D%2C%20%5B-7.42933242797852%2C%20-48.2159994506836%2C%201.0%5D%2C%20%5B-7.63119543009791%2C%20-48.0657958984375%2C%201.0%5D%2C%20%5B-7.45126214152888%2C%20-48.2070298194885%2C%201.0%5D%2C%20%5B-7.48710432842638%2C%20-47.997591571695%2C%201.0%5D%2C%20%5B-9.06470314661662%2C%20-48.1879793802897%2C%201.0%5D%2C%20%5B-8.72136306762695%2C%20-52.5749549865723%2C%201.0%5D%2C%20%5B-8.60620307922363%2C%20-48.1614227294922%2C%201.0%5D%2C%20%5B-15.5600851954836%2C%20-55.8680419343891%2C%201.0%5D%2C%20%5B-15.5550153383778%2C%20-55.9955929451518%2C%201.0%5D%2C%20%5B-15.7054144617111%2C%20-56.0534893823048%2C%201.0%5D%2C%20%5B-9.90338134765625%2C%20-58.5666332244873%2C%201.0%5D%2C%20%5B-13.0592377185822%2C%20-55.9207792282104%2C%201.0%5D%2C%20%5B-9.97556781768799%2C%20-55.2455615997314%2C%201.0%5D%2C%20%5B-11.510817527771%2C%20-54.8749580383301%2C%201.0%5D%2C%20%5B-11.9350026398897%2C%20-55.5548642873764%2C%201.0%5D%2C%20%5B-12.2059698004207%2C%20-55.4934345134645%2C%201.0%5D%2C%20%5B-11.3897085189819%2C%20-57.3156757354736%2C%201.0%5D%2C%20%5B-15.8868886585893%2C%20-52.2853903277167%2C%201.0%5D%2C%20%5B-14.5830307006836%2C%20-53.4563357035319%2C%201.0%5D%2C%20%5B-10.014880657196%2C%20-51.1223983764648%2C%201.0%5D%2C%20%5B-10.6488936742147%2C%20-51.5692443847656%2C%201.0%5D%2C%20%5B-10.8842449188232%2C%20-51.63942527771%2C%201.0%5D%2C%20%5B-11.0509042739868%2C%20-51.8287467956543%2C%201.0%5D%2C%20%5B-14.6642532348633%2C%20-52.3567276000977%2C%201.0%5D%2C%20%5B-16.431735026209%2C%20-54.2063242510745%2C%201.0%5D%2C%20%5B-15.7119822502136%2C%20-54.8092746734619%2C%201.0%5D%2C%20%5B-15.6287021636963%2C%20-55.3653240203857%2C%201.0%5D%2C%20%5B-15.558709859848%2C%20-54.3039054870605%2C%201.0%5D%2C%20%5B-13.0337839126587%2C%20-55.2540321350098%2C%201.0%5D%2C%20%5B-12.5492396354675%2C%20-55.7259470621745%2C%201.0%5D%2C%20%5B-20.4252743374218%2C%20-54.5394844228571%2C%201.0%5D%2C%20%5B-20.4800630524045%2C%20-54.6281679244268%2C%201.0%5D%2C%20%5B-20.4456832461887%2C%20-54.5585568180791%2C%201.0%5D%2C%20%5B-20.4890397152054%2C%20-54.6228366388339%2C%201.0%5D%2C%20%5B-20.6652201395186%2C%20-54.5049279228089%2C%201.0%5D%2C%20%5B-20.3286104545095%2C%20-54.3869756062825%2C%201.0%5D%2C%20%5B-18.508784866333%2C%20-54.7472679138184%2C%201.0%5D%2C%20%5B-19.1122465133667%2C%20-51.7366809844971%2C%201.0%5D%2C%20%5B-25.4262110213159%2C%20-49.285710401938%2C%201.0%5D%2C%20%5B-25.4442475226618%2C%20-49.2986699996456%2C%201.0%5D%2C%20%5B-25.459726524353%2C%20-49.2804339090983%2C%201.0%5D%2C%20%5B-25.4354208111763%2C%20-49.2965864539146%2C%201.0%5D%2C%20%5B-25.4430771167462%2C%20-49.2847123366136%2C%201.0%5D%2C%20%5B-25.4740880619396%2C%20-49.3358856547963%2C%201.0%5D%2C%20%5B-25.4971027658946%2C%20-49.2242929828701%2C%201.0%5D%2C%20%5B-25.5149105919732%2C%20-49.2415855649918%2C%201.0%5D%2C%20%5B-25.5233107918187%2C%20-49.2863806875128%2C%201.0%5D%2C%20%5B-25.4509563446045%2C%20-49.2094915053424%2C%201.0%5D%2C%20%5B-25.4509927399304%2C%20-49.2171480607013%2C%201.0%5D%2C%20%5B-25.7680604722765%2C%20-48.5322096082899%2C%201.0%5D%2C%20%5B-26.0825443267822%2C%20-49.7607674598694%2C%201.0%5D%2C%20%5B-25.0861226833933%2C%20-50.2163773513422%2C%201.0%5D%2C%20%5B-25.0549479809004%2C%20-50.1958108882314%2C%201.0%5D%2C%20%5B-26.0215377807617%2C%20-53.7403774261475%2C%201.0%5D%2C%20%5B-24.9817197587755%2C%20-53.3588638870804%2C%202.0%5D%2C%20%5B-25.5061852275461%2C%20-54.5340303061665%2C%201.0%5D%2C%20%5B-25.5012219635367%2C%20-54.4031414678919%2C%201.0%5D%2C%20%5B-25.5264375178019%2C%20-54.5447761281331%2C%201.0%5D%2C%20%5B-25.5117639194835%2C%20-54.5527360800541%2C%201.0%5D%2C%20%5B-25.4840868351071%2C%20-54.5327206545098%2C%201.0%5D%2C%20%5B-25.1143136024475%2C%20-54.2282342910767%2C%201.0%5D%2C%20%5B-24.4512456258138%2C%20-53.914421081543%2C%201.0%5D%2C%20%5B-23.3671159242329%2C%20-51.1321912397418%2C%201.0%5D%2C%20%5B-23.6906099319458%2C%20-51.6503992080688%2C%201.0%5D%2C%20%5B-23.0380239486694%2C%20-50.8170146942139%2C%201.0%5D%2C%20%5B-23.4069053257737%2C%20-51.9401737819208%2C%202.0%5D%2C%20%5B-22.9304218292236%2C%20-53.1336688995361%2C%201.0%5D%2C%20%5B-27.5964766526834%2C%20-48.5518190921881%2C%201.0%5D%2C%20%5B-27.5729329376221%2C%20-48.555416809082%2C%201.0%5D%2C%20%5B-27.565007453741%2C%20-48.5107004032579%2C%201.0%5D%2C%20%5B-27.5881681682683%2C%20-48.5002122766831%2C%201.0%5D%2C%20%5B-27.6419082757198%2C%20-48.4882387797038%2C%201.0%5D%2C%20%5B-27.5307011465424%2C%20-48.6093960363888%2C%201.0%5D%2C%20%5B-27.6380791759491%2C%20-48.6527997016907%2C%201.0%5D%2C%20%5B-27.6391565823796%2C%20-48.6798646714952%2C%201.0%5D%2C%20%5B-27.107346534729%2C%20-48.6124286651611%2C%203.0%5D%2C%20%5B-27.6239702549387%2C%20-50.2717429357217%2C%201.0%5D%2C%20%5B-27.785897279397%2C%20-50.2490036304181%2C%201.0%5D%2C%20%5B-28.3262453079224%2C%20-49.0534477233887%2C%201.0%5D%2C%20%5B-26.2380927200858%2C%20-49.4294198489358%2C%201.0%5D%2C%20%5B-30.0322821087307%2C%20-51.2310907999674%2C%201.0%5D%2C%20%5B-30.0333160935787%2C%20-51.218822077701%2C%201.0%5D%2C%20%5B-30.0530613347104%2C%20-51.2098731994629%2C%201.0%5D%2C%20%5B-30.0509707486188%2C%20-51.1752422474049%2C%202.0%5D%2C%20%5B-30.0472626252608%2C%20-51.1927370591597%2C%201.0%5D%2C%20%5B-30.0627366245383%2C%20-51.1619232102196%2C%201.0%5D%2C%20%5B-30.113520304362%2C%20-51.3237921396891%2C%201.0%5D%2C%20%5B-29.8148066851558%2C%20-51.1711700595155%2C%201.0%5D%2C%20%5B-29.8047951815421%2C%20-51.1725628501491%2C%202.0%5D%2C%20%5B-29.6767595364497%2C%20-51.1183996200562%2C%201.0%5D%2C%20%5B-28.5385697324511%2C%20-51.023249747048%2C%201.0%5D%2C%20%5B-30.3721885681152%2C%20-50.4857711791992%2C%201.0%5D%2C%20%5B-29.497407913208%2C%20-51.9587821960449%2C%201.0%5D%2C%20%5B-29.4575019578139%2C%20-51.9524039228757%2C%201.0%5D%2C%20%5B-31.7144642243019%2C%20-52.3006589962886%2C%202.0%5D%2C%20%5B-31.6704298450101%2C%20-52.2573672879127%2C%201.0%5D%2C%20%5B-30.045460821707%2C%20-52.8281027878387%2C%201.0%5D%2C%20%5B-29.660114583515%2C%20-53.6601765950521%2C%201.0%5D%2C%20%5B-30.2570419311523%2C%20-53.3004582722982%2C%201.0%5D%2C%20%5B-28.4096841812134%2C%20-54.9605808258057%2C%201.0%5D%2C%20%5B-29.3136878013611%2C%20-53.6708889007568%2C%201.0%5D%2C%20%5B-26.6632266044617%2C%20-52.2666282653809%2C%201.0%5D%2C%20%5B-28.1798985780988%2C%20-54.0191306849888%2C%201.0%5D%2C%20%5B-28.2720870673656%2C%20-52.4089692831039%2C%201.0%5D%2C%20%5B-28.2881331443787%2C%20-52.7893743515015%2C%201.0%5D%2C%20%5B-27.5235071182251%2C%20-52.8994903564453%2C%201.0%5D%5D%2C%0A%20%20%20%20%20%20%20%20%20%20%20%20%20%20%20%20%7B%22blur%22%3A%2015%2C%20%22maxZoom%22%3A%2018%2C%20%22minOpacity%22%3A%200.5%2C%20%22radius%22%3A%2018%7D%0A%20%20%20%20%20%20%20%20%20%20%20%20%29.addTo%28map_bd418574fad04f8f8987264cc063fde5%29%3B%0A%20%20%20%20%20%20%20%20%0A%3C/script%3E onload=\"this.contentDocument.open();this.contentDocument.write(    decodeURIComponent(this.getAttribute('data-html')));this.contentDocument.close();\" allowfullscreen webkitallowfullscreen mozallowfullscreen></iframe></div></div>"
      ]
     },
     "metadata": {},
     "execution_count": 135
    }
   ],
   "metadata": {}
  },
  {
   "cell_type": "code",
   "execution_count": 136,
   "source": [
    "# Fechando conexão\n",
    "postgreSQLConnection.close()"
   ],
   "outputs": [],
   "metadata": {}
  },
  {
   "cell_type": "code",
   "execution_count": null,
   "source": [],
   "outputs": [],
   "metadata": {}
  }
 ]
}