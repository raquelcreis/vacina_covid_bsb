{
 "metadata": {
  "language_info": {
   "codemirror_mode": {
    "name": "ipython",
    "version": 3
   },
   "file_extension": ".py",
   "mimetype": "text/x-python",
   "name": "python",
   "nbconvert_exporter": "python",
   "pygments_lexer": "ipython3",
   "version": "3.7.6"
  },
  "orig_nbformat": 2,
  "kernelspec": {
   "name": "python3",
   "display_name": "Python 3.7.6 64-bit ('base': conda)"
  },
  "interpreter": {
   "hash": "c84ec5531762457a514972294189478bb2b86b2856b4d2c66c8829aed73cefe4"
  }
 },
 "nbformat": 4,
 "nbformat_minor": 2,
 "cells": [
  {
   "cell_type": "code",
   "execution_count": 1,
   "source": [
    "# Importação as bibliotecas necessárias para conexão e coleta dos dados\n",
    "import psycopg2\n",
    "import pandas as pd\n",
    "from sqlalchemy import create_engine\n",
    "import os"
   ],
   "outputs": [],
   "metadata": {}
  },
  {
   "cell_type": "code",
   "execution_count": 2,
   "source": [
    "# Variaveis ambientes\n",
    "\n",
    "host = os.environ.get('HOST_POSTGRE')\n",
    "user = os.environ.get('USER_POSTGRE')\n",
    "password = os.environ.get('PASSWORD_POSTGRE')"
   ],
   "outputs": [],
   "metadata": {}
  },
  {
   "cell_type": "code",
   "execution_count": 3,
   "source": [
    "# Descrevo os parâmetros de conexão conforme configurado\n",
    "db_server_info = {'host': host, \n",
    "                  'porta': 5432, \n",
    "                  'dbname': 'dbs_vacina',\n",
    "                  'user': user, \n",
    "                  'password': password} \n",
    "\n",
    "conn_str = '{}://{}:{}@{}:{}/{}'.format('postgresql+psycopg2', \n",
    "                                  db_server_info['user'], \n",
    "                                  db_server_info['password'], \n",
    "                                  db_server_info['host'], \n",
    "                                  db_server_info['porta'], \n",
    "                                  db_server_info['dbname']) \n",
    "\n",
    "alchemyEngine = create_engine(conn_str, pool_recycle=3600)\n",
    "\n",
    "postgreSQLConnection = alchemyEngine.connect() "
   ],
   "outputs": [],
   "metadata": {}
  },
  {
   "cell_type": "code",
   "execution_count": 4,
   "source": [
    "# Encontrando o id relacionado ao Distrito Federal\n",
    "\n",
    "pd.read_sql_query(\"SELECT * FROM public.tbl_cidade WHERE uf = 'DF'\", postgreSQLConnection)"
   ],
   "outputs": [
    {
     "output_type": "execute_result",
     "data": {
      "text/plain": [
       "        id nm_municipio  uf      lat       lon  cd_ibge_reduzido\n",
       "0  5300108     Brasília  DF -15.8049 -47.88683            530010"
      ],
      "text/html": [
       "<div>\n",
       "<style scoped>\n",
       "    .dataframe tbody tr th:only-of-type {\n",
       "        vertical-align: middle;\n",
       "    }\n",
       "\n",
       "    .dataframe tbody tr th {\n",
       "        vertical-align: top;\n",
       "    }\n",
       "\n",
       "    .dataframe thead th {\n",
       "        text-align: right;\n",
       "    }\n",
       "</style>\n",
       "<table border=\"1\" class=\"dataframe\">\n",
       "  <thead>\n",
       "    <tr style=\"text-align: right;\">\n",
       "      <th></th>\n",
       "      <th>id</th>\n",
       "      <th>nm_municipio</th>\n",
       "      <th>uf</th>\n",
       "      <th>lat</th>\n",
       "      <th>lon</th>\n",
       "      <th>cd_ibge_reduzido</th>\n",
       "    </tr>\n",
       "  </thead>\n",
       "  <tbody>\n",
       "    <tr>\n",
       "      <th>0</th>\n",
       "      <td>5300108</td>\n",
       "      <td>Brasília</td>\n",
       "      <td>DF</td>\n",
       "      <td>-15.8049</td>\n",
       "      <td>-47.88683</td>\n",
       "      <td>530010</td>\n",
       "    </tr>\n",
       "  </tbody>\n",
       "</table>\n",
       "</div>"
      ]
     },
     "metadata": {},
     "execution_count": 4
    }
   ],
   "metadata": {}
  },
  {
   "cell_type": "code",
   "execution_count": 5,
   "source": [
    "# Dataframe de CEPs do DF\n",
    "\n",
    "dfCepsDF = pd.read_sql_query(\"SELECT * FROM public.tbl_cep WHERE cidade_id = 5300108\", postgreSQLConnection)\n",
    "dfCepsDF.head()"
   ],
   "outputs": [
    {
     "output_type": "execute_result",
     "data": {
      "text/plain": [
       "      id    cep  cidade_id        lat        lon\n",
       "0  18098  70002    5300108 -47.879545 -15.790642\n",
       "1  18099  70003    5300108 -47.880634 -15.790649\n",
       "2  18100  70037    5300108 -47.882790 -15.805816\n",
       "3  18101  70040    5300108 -47.884265 -15.791226\n",
       "4  18102  70041    5300108 -47.881478 -15.788280"
      ],
      "text/html": [
       "<div>\n",
       "<style scoped>\n",
       "    .dataframe tbody tr th:only-of-type {\n",
       "        vertical-align: middle;\n",
       "    }\n",
       "\n",
       "    .dataframe tbody tr th {\n",
       "        vertical-align: top;\n",
       "    }\n",
       "\n",
       "    .dataframe thead th {\n",
       "        text-align: right;\n",
       "    }\n",
       "</style>\n",
       "<table border=\"1\" class=\"dataframe\">\n",
       "  <thead>\n",
       "    <tr style=\"text-align: right;\">\n",
       "      <th></th>\n",
       "      <th>id</th>\n",
       "      <th>cep</th>\n",
       "      <th>cidade_id</th>\n",
       "      <th>lat</th>\n",
       "      <th>lon</th>\n",
       "    </tr>\n",
       "  </thead>\n",
       "  <tbody>\n",
       "    <tr>\n",
       "      <th>0</th>\n",
       "      <td>18098</td>\n",
       "      <td>70002</td>\n",
       "      <td>5300108</td>\n",
       "      <td>-47.879545</td>\n",
       "      <td>-15.790642</td>\n",
       "    </tr>\n",
       "    <tr>\n",
       "      <th>1</th>\n",
       "      <td>18099</td>\n",
       "      <td>70003</td>\n",
       "      <td>5300108</td>\n",
       "      <td>-47.880634</td>\n",
       "      <td>-15.790649</td>\n",
       "    </tr>\n",
       "    <tr>\n",
       "      <th>2</th>\n",
       "      <td>18100</td>\n",
       "      <td>70037</td>\n",
       "      <td>5300108</td>\n",
       "      <td>-47.882790</td>\n",
       "      <td>-15.805816</td>\n",
       "    </tr>\n",
       "    <tr>\n",
       "      <th>3</th>\n",
       "      <td>18101</td>\n",
       "      <td>70040</td>\n",
       "      <td>5300108</td>\n",
       "      <td>-47.884265</td>\n",
       "      <td>-15.791226</td>\n",
       "    </tr>\n",
       "    <tr>\n",
       "      <th>4</th>\n",
       "      <td>18102</td>\n",
       "      <td>70041</td>\n",
       "      <td>5300108</td>\n",
       "      <td>-47.881478</td>\n",
       "      <td>-15.788280</td>\n",
       "    </tr>\n",
       "  </tbody>\n",
       "</table>\n",
       "</div>"
      ]
     },
     "metadata": {},
     "execution_count": 5
    }
   ],
   "metadata": {}
  },
  {
   "cell_type": "code",
   "execution_count": 6,
   "source": [
    "# Dataframe de Estabelecimentos de Saúde do DF\n",
    "\n",
    "ceps = dfCepsDF.cep\n",
    "\n",
    "dfEstab = pd.read_sql_query(\"SELECT * FROM public.tbl_estabelecimento\", postgreSQLConnection)\n",
    "\n",
    "dfEstabDF = dfEstab.loc[dfEstab['fk_cep'].isin(ceps)].copy()\n",
    "dfEstabDF.head()"
   ],
   "outputs": [
    {
     "output_type": "execute_result",
     "data": {
      "text/plain": [
       "             id nm_razao_social         nm_fantasia fk_cep  \\\n",
       "295958  7399197     SAMU 192 DF      SAMU DF USB 12  70334   \n",
       "296021  7399219     SAMU 192 DF      SAMU DF USB 16  70334   \n",
       "297299  7399235     SAMU 192 DF      SAMU DF USB 17  70334   \n",
       "299701  7399243     SAMU 192 DF      SAMU DF USB 18  70334   \n",
       "300114  7399308     SAMU 192 DF  SAMU DF USB 20 PMR  70334   \n",
       "\n",
       "        id_natureza_juridica  id_tipo_estabelecimento  id_atividade_principal  \\\n",
       "295958                1023.0                      NaN                     NaN   \n",
       "296021                1023.0                      NaN                     NaN   \n",
       "297299                1023.0                      NaN                     NaN   \n",
       "299701                1023.0                      NaN                     NaN   \n",
       "300114                1023.0                      NaN                     NaN   \n",
       "\n",
       "        lat  lon  \n",
       "295958  NaN  NaN  \n",
       "296021  NaN  NaN  \n",
       "297299  NaN  NaN  \n",
       "299701  NaN  NaN  \n",
       "300114  NaN  NaN  "
      ],
      "text/html": [
       "<div>\n",
       "<style scoped>\n",
       "    .dataframe tbody tr th:only-of-type {\n",
       "        vertical-align: middle;\n",
       "    }\n",
       "\n",
       "    .dataframe tbody tr th {\n",
       "        vertical-align: top;\n",
       "    }\n",
       "\n",
       "    .dataframe thead th {\n",
       "        text-align: right;\n",
       "    }\n",
       "</style>\n",
       "<table border=\"1\" class=\"dataframe\">\n",
       "  <thead>\n",
       "    <tr style=\"text-align: right;\">\n",
       "      <th></th>\n",
       "      <th>id</th>\n",
       "      <th>nm_razao_social</th>\n",
       "      <th>nm_fantasia</th>\n",
       "      <th>fk_cep</th>\n",
       "      <th>id_natureza_juridica</th>\n",
       "      <th>id_tipo_estabelecimento</th>\n",
       "      <th>id_atividade_principal</th>\n",
       "      <th>lat</th>\n",
       "      <th>lon</th>\n",
       "    </tr>\n",
       "  </thead>\n",
       "  <tbody>\n",
       "    <tr>\n",
       "      <th>295958</th>\n",
       "      <td>7399197</td>\n",
       "      <td>SAMU 192 DF</td>\n",
       "      <td>SAMU DF USB 12</td>\n",
       "      <td>70334</td>\n",
       "      <td>1023.0</td>\n",
       "      <td>NaN</td>\n",
       "      <td>NaN</td>\n",
       "      <td>NaN</td>\n",
       "      <td>NaN</td>\n",
       "    </tr>\n",
       "    <tr>\n",
       "      <th>296021</th>\n",
       "      <td>7399219</td>\n",
       "      <td>SAMU 192 DF</td>\n",
       "      <td>SAMU DF USB 16</td>\n",
       "      <td>70334</td>\n",
       "      <td>1023.0</td>\n",
       "      <td>NaN</td>\n",
       "      <td>NaN</td>\n",
       "      <td>NaN</td>\n",
       "      <td>NaN</td>\n",
       "    </tr>\n",
       "    <tr>\n",
       "      <th>297299</th>\n",
       "      <td>7399235</td>\n",
       "      <td>SAMU 192 DF</td>\n",
       "      <td>SAMU DF USB 17</td>\n",
       "      <td>70334</td>\n",
       "      <td>1023.0</td>\n",
       "      <td>NaN</td>\n",
       "      <td>NaN</td>\n",
       "      <td>NaN</td>\n",
       "      <td>NaN</td>\n",
       "    </tr>\n",
       "    <tr>\n",
       "      <th>299701</th>\n",
       "      <td>7399243</td>\n",
       "      <td>SAMU 192 DF</td>\n",
       "      <td>SAMU DF USB 18</td>\n",
       "      <td>70334</td>\n",
       "      <td>1023.0</td>\n",
       "      <td>NaN</td>\n",
       "      <td>NaN</td>\n",
       "      <td>NaN</td>\n",
       "      <td>NaN</td>\n",
       "    </tr>\n",
       "    <tr>\n",
       "      <th>300114</th>\n",
       "      <td>7399308</td>\n",
       "      <td>SAMU 192 DF</td>\n",
       "      <td>SAMU DF USB 20 PMR</td>\n",
       "      <td>70334</td>\n",
       "      <td>1023.0</td>\n",
       "      <td>NaN</td>\n",
       "      <td>NaN</td>\n",
       "      <td>NaN</td>\n",
       "      <td>NaN</td>\n",
       "    </tr>\n",
       "  </tbody>\n",
       "</table>\n",
       "</div>"
      ]
     },
     "metadata": {},
     "execution_count": 6
    }
   ],
   "metadata": {}
  },
  {
   "cell_type": "code",
   "execution_count": 7,
   "source": [
    "# Quantidade de estabelecimentos de saúde no DF\n",
    "\n",
    "dfEstabDF.shape"
   ],
   "outputs": [
    {
     "output_type": "execute_result",
     "data": {
      "text/plain": [
       "(8815, 9)"
      ]
     },
     "metadata": {},
     "execution_count": 7
    }
   ],
   "metadata": {}
  },
  {
   "cell_type": "code",
   "execution_count": 8,
   "source": [
    "# Informações gerais do dataframe de estabelecimentos de saúde do DF\n",
    "\n",
    "dfEstabDF.info()"
   ],
   "outputs": [
    {
     "output_type": "stream",
     "name": "stdout",
     "text": [
      "<class 'pandas.core.frame.DataFrame'>\n",
      "Int64Index: 8815 entries, 295958 to 312267\n",
      "Data columns (total 9 columns):\n",
      " #   Column                   Non-Null Count  Dtype  \n",
      "---  ------                   --------------  -----  \n",
      " 0   id                       8815 non-null   int64  \n",
      " 1   nm_razao_social          8815 non-null   object \n",
      " 2   nm_fantasia              8815 non-null   object \n",
      " 3   fk_cep                   8815 non-null   object \n",
      " 4   id_natureza_juridica     8815 non-null   float64\n",
      " 5   id_tipo_estabelecimento  4596 non-null   float64\n",
      " 6   id_atividade_principal   4596 non-null   float64\n",
      " 7   lat                      0 non-null      float64\n",
      " 8   lon                      0 non-null      float64\n",
      "dtypes: float64(5), int64(1), object(3)\n",
      "memory usage: 688.7+ KB\n"
     ]
    }
   ],
   "metadata": {}
  },
  {
   "cell_type": "code",
   "execution_count": 9,
   "source": [
    "# Dropando colunas com muitos valores ausentes\n",
    "\n",
    "dfEstabDF.drop(columns = ['id_tipo_estabelecimento','id_atividade_principal','lat','lon'],axis=1,inplace=True)\n",
    "dfEstabDF.head()"
   ],
   "outputs": [
    {
     "output_type": "execute_result",
     "data": {
      "text/plain": [
       "             id nm_razao_social         nm_fantasia fk_cep  \\\n",
       "295958  7399197     SAMU 192 DF      SAMU DF USB 12  70334   \n",
       "296021  7399219     SAMU 192 DF      SAMU DF USB 16  70334   \n",
       "297299  7399235     SAMU 192 DF      SAMU DF USB 17  70334   \n",
       "299701  7399243     SAMU 192 DF      SAMU DF USB 18  70334   \n",
       "300114  7399308     SAMU 192 DF  SAMU DF USB 20 PMR  70334   \n",
       "\n",
       "        id_natureza_juridica  \n",
       "295958                1023.0  \n",
       "296021                1023.0  \n",
       "297299                1023.0  \n",
       "299701                1023.0  \n",
       "300114                1023.0  "
      ],
      "text/html": [
       "<div>\n",
       "<style scoped>\n",
       "    .dataframe tbody tr th:only-of-type {\n",
       "        vertical-align: middle;\n",
       "    }\n",
       "\n",
       "    .dataframe tbody tr th {\n",
       "        vertical-align: top;\n",
       "    }\n",
       "\n",
       "    .dataframe thead th {\n",
       "        text-align: right;\n",
       "    }\n",
       "</style>\n",
       "<table border=\"1\" class=\"dataframe\">\n",
       "  <thead>\n",
       "    <tr style=\"text-align: right;\">\n",
       "      <th></th>\n",
       "      <th>id</th>\n",
       "      <th>nm_razao_social</th>\n",
       "      <th>nm_fantasia</th>\n",
       "      <th>fk_cep</th>\n",
       "      <th>id_natureza_juridica</th>\n",
       "    </tr>\n",
       "  </thead>\n",
       "  <tbody>\n",
       "    <tr>\n",
       "      <th>295958</th>\n",
       "      <td>7399197</td>\n",
       "      <td>SAMU 192 DF</td>\n",
       "      <td>SAMU DF USB 12</td>\n",
       "      <td>70334</td>\n",
       "      <td>1023.0</td>\n",
       "    </tr>\n",
       "    <tr>\n",
       "      <th>296021</th>\n",
       "      <td>7399219</td>\n",
       "      <td>SAMU 192 DF</td>\n",
       "      <td>SAMU DF USB 16</td>\n",
       "      <td>70334</td>\n",
       "      <td>1023.0</td>\n",
       "    </tr>\n",
       "    <tr>\n",
       "      <th>297299</th>\n",
       "      <td>7399235</td>\n",
       "      <td>SAMU 192 DF</td>\n",
       "      <td>SAMU DF USB 17</td>\n",
       "      <td>70334</td>\n",
       "      <td>1023.0</td>\n",
       "    </tr>\n",
       "    <tr>\n",
       "      <th>299701</th>\n",
       "      <td>7399243</td>\n",
       "      <td>SAMU 192 DF</td>\n",
       "      <td>SAMU DF USB 18</td>\n",
       "      <td>70334</td>\n",
       "      <td>1023.0</td>\n",
       "    </tr>\n",
       "    <tr>\n",
       "      <th>300114</th>\n",
       "      <td>7399308</td>\n",
       "      <td>SAMU 192 DF</td>\n",
       "      <td>SAMU DF USB 20 PMR</td>\n",
       "      <td>70334</td>\n",
       "      <td>1023.0</td>\n",
       "    </tr>\n",
       "  </tbody>\n",
       "</table>\n",
       "</div>"
      ]
     },
     "metadata": {},
     "execution_count": 9
    }
   ],
   "metadata": {}
  },
  {
   "cell_type": "code",
   "execution_count": 10,
   "source": [
    "# Dataframe dos estabelecimentos de saúde que foram postos de vacinação no Brasil\n",
    "\n",
    "dfEstabVacinacao = pd.read_sql_query(\"SELECT DISTINCT id_estabelecimento FROM public.tbl_vacinacao\", postgreSQLConnection)\n",
    "dfEstabVacinacao.rename(columns={\"id_estabelecimento\": \"id\"},inplace=True)\n",
    "dfEstabVacinacao.head()"
   ],
   "outputs": [
    {
     "output_type": "execute_result",
     "data": {
      "text/plain": [
       "        id\n",
       "0  2427265\n",
       "1  2621673\n",
       "2  2432528\n",
       "3  2469197\n",
       "4  7204159"
      ],
      "text/html": [
       "<div>\n",
       "<style scoped>\n",
       "    .dataframe tbody tr th:only-of-type {\n",
       "        vertical-align: middle;\n",
       "    }\n",
       "\n",
       "    .dataframe tbody tr th {\n",
       "        vertical-align: top;\n",
       "    }\n",
       "\n",
       "    .dataframe thead th {\n",
       "        text-align: right;\n",
       "    }\n",
       "</style>\n",
       "<table border=\"1\" class=\"dataframe\">\n",
       "  <thead>\n",
       "    <tr style=\"text-align: right;\">\n",
       "      <th></th>\n",
       "      <th>id</th>\n",
       "    </tr>\n",
       "  </thead>\n",
       "  <tbody>\n",
       "    <tr>\n",
       "      <th>0</th>\n",
       "      <td>2427265</td>\n",
       "    </tr>\n",
       "    <tr>\n",
       "      <th>1</th>\n",
       "      <td>2621673</td>\n",
       "    </tr>\n",
       "    <tr>\n",
       "      <th>2</th>\n",
       "      <td>2432528</td>\n",
       "    </tr>\n",
       "    <tr>\n",
       "      <th>3</th>\n",
       "      <td>2469197</td>\n",
       "    </tr>\n",
       "    <tr>\n",
       "      <th>4</th>\n",
       "      <td>7204159</td>\n",
       "    </tr>\n",
       "  </tbody>\n",
       "</table>\n",
       "</div>"
      ]
     },
     "metadata": {},
     "execution_count": 10
    }
   ],
   "metadata": {}
  },
  {
   "cell_type": "code",
   "execution_count": 11,
   "source": [
    "# Dataframe dos postos de vacinação do DF\n",
    "\n",
    "dfPostosDF = pd.merge(dfEstabDF,dfEstabVacinacao)\n",
    "dfPostosDF.head()"
   ],
   "outputs": [
    {
     "output_type": "execute_result",
     "data": {
      "text/plain": [
       "        id                             nm_razao_social  \\\n",
       "0   181552    DEMARTAMENTO MEDICO CAMARA DOS DEPUTADOS   \n",
       "1    11150         UNIDADE BASICA DE SAUDE N 1 ASA SUL   \n",
       "2    10537  HOSPITAL MATERNO INFANTIL DE BRASILIA HMIB   \n",
       "3    10510           FUNDACAO UNIVERSIDADE DE BRASILIA   \n",
       "4  6362729                          COMANDO DA MARINHA   \n",
       "\n",
       "                                  nm_fantasia fk_cep  id_natureza_juridica  \n",
       "0    DEPARTAMENTO MEDICO CAMARA DOS DEPUTADOS  70160                1040.0  \n",
       "1                              UBS 01 ASA SUL  70200                1023.0  \n",
       "2  HOSPITAL MATERNO INFANTIL DE BRASILIA HMIB  70203                1023.0  \n",
       "3          HOSPITAL UNIVERSITARIO DE BRASILIA  70310                1139.0  \n",
       "4                  HOSPITAL NAVAL DE BRASILIA  70310                1015.0  "
      ],
      "text/html": [
       "<div>\n",
       "<style scoped>\n",
       "    .dataframe tbody tr th:only-of-type {\n",
       "        vertical-align: middle;\n",
       "    }\n",
       "\n",
       "    .dataframe tbody tr th {\n",
       "        vertical-align: top;\n",
       "    }\n",
       "\n",
       "    .dataframe thead th {\n",
       "        text-align: right;\n",
       "    }\n",
       "</style>\n",
       "<table border=\"1\" class=\"dataframe\">\n",
       "  <thead>\n",
       "    <tr style=\"text-align: right;\">\n",
       "      <th></th>\n",
       "      <th>id</th>\n",
       "      <th>nm_razao_social</th>\n",
       "      <th>nm_fantasia</th>\n",
       "      <th>fk_cep</th>\n",
       "      <th>id_natureza_juridica</th>\n",
       "    </tr>\n",
       "  </thead>\n",
       "  <tbody>\n",
       "    <tr>\n",
       "      <th>0</th>\n",
       "      <td>181552</td>\n",
       "      <td>DEMARTAMENTO MEDICO CAMARA DOS DEPUTADOS</td>\n",
       "      <td>DEPARTAMENTO MEDICO CAMARA DOS DEPUTADOS</td>\n",
       "      <td>70160</td>\n",
       "      <td>1040.0</td>\n",
       "    </tr>\n",
       "    <tr>\n",
       "      <th>1</th>\n",
       "      <td>11150</td>\n",
       "      <td>UNIDADE BASICA DE SAUDE N 1 ASA SUL</td>\n",
       "      <td>UBS 01 ASA SUL</td>\n",
       "      <td>70200</td>\n",
       "      <td>1023.0</td>\n",
       "    </tr>\n",
       "    <tr>\n",
       "      <th>2</th>\n",
       "      <td>10537</td>\n",
       "      <td>HOSPITAL MATERNO INFANTIL DE BRASILIA HMIB</td>\n",
       "      <td>HOSPITAL MATERNO INFANTIL DE BRASILIA HMIB</td>\n",
       "      <td>70203</td>\n",
       "      <td>1023.0</td>\n",
       "    </tr>\n",
       "    <tr>\n",
       "      <th>3</th>\n",
       "      <td>10510</td>\n",
       "      <td>FUNDACAO UNIVERSIDADE DE BRASILIA</td>\n",
       "      <td>HOSPITAL UNIVERSITARIO DE BRASILIA</td>\n",
       "      <td>70310</td>\n",
       "      <td>1139.0</td>\n",
       "    </tr>\n",
       "    <tr>\n",
       "      <th>4</th>\n",
       "      <td>6362729</td>\n",
       "      <td>COMANDO DA MARINHA</td>\n",
       "      <td>HOSPITAL NAVAL DE BRASILIA</td>\n",
       "      <td>70310</td>\n",
       "      <td>1015.0</td>\n",
       "    </tr>\n",
       "  </tbody>\n",
       "</table>\n",
       "</div>"
      ]
     },
     "metadata": {},
     "execution_count": 11
    }
   ],
   "metadata": {}
  },
  {
   "cell_type": "code",
   "execution_count": 12,
   "source": [
    "# Quantidade de postos de vacinação no DF\n",
    "\n",
    "dfPostosDF.shape"
   ],
   "outputs": [
    {
     "output_type": "execute_result",
     "data": {
      "text/plain": [
       "(116, 5)"
      ]
     },
     "metadata": {},
     "execution_count": 12
    }
   ],
   "metadata": {}
  },
  {
   "cell_type": "code",
   "execution_count": 13,
   "source": [
    "# Adicionando info de latitude e longitude nos postos de vacinação no DF\n",
    "\n",
    "dfCepsDF.drop(columns=['id','cidade_id'],inplace=True)\n",
    "dfPostosDF.rename(columns={\"fk_cep\":\"cep\"},inplace=True)\n",
    "dfPostosDF = pd.merge(dfPostosDF,dfCepsDF,on='cep')\n",
    "dfPostosDF.head()"
   ],
   "outputs": [
    {
     "output_type": "execute_result",
     "data": {
      "text/plain": [
       "        id                             nm_razao_social  \\\n",
       "0   181552    DEMARTAMENTO MEDICO CAMARA DOS DEPUTADOS   \n",
       "1    11150         UNIDADE BASICA DE SAUDE N 1 ASA SUL   \n",
       "2    10537  HOSPITAL MATERNO INFANTIL DE BRASILIA HMIB   \n",
       "3    10510           FUNDACAO UNIVERSIDADE DE BRASILIA   \n",
       "4  6362729                          COMANDO DA MARINHA   \n",
       "\n",
       "                                  nm_fantasia    cep  id_natureza_juridica  \\\n",
       "0    DEPARTAMENTO MEDICO CAMARA DOS DEPUTADOS  70160                1040.0   \n",
       "1                              UBS 01 ASA SUL  70200                1023.0   \n",
       "2  HOSPITAL MATERNO INFANTIL DE BRASILIA HMIB  70203                1023.0   \n",
       "3          HOSPITAL UNIVERSITARIO DE BRASILIA  70310                1139.0   \n",
       "4                  HOSPITAL NAVAL DE BRASILIA  70310                1015.0   \n",
       "\n",
       "         lat        lon  \n",
       "0 -47.861282 -15.800669  \n",
       "1 -47.891575 -15.822105  \n",
       "2 -47.897709 -15.823910  \n",
       "3 -47.885490 -15.798626  \n",
       "4 -47.885490 -15.798626  "
      ],
      "text/html": [
       "<div>\n",
       "<style scoped>\n",
       "    .dataframe tbody tr th:only-of-type {\n",
       "        vertical-align: middle;\n",
       "    }\n",
       "\n",
       "    .dataframe tbody tr th {\n",
       "        vertical-align: top;\n",
       "    }\n",
       "\n",
       "    .dataframe thead th {\n",
       "        text-align: right;\n",
       "    }\n",
       "</style>\n",
       "<table border=\"1\" class=\"dataframe\">\n",
       "  <thead>\n",
       "    <tr style=\"text-align: right;\">\n",
       "      <th></th>\n",
       "      <th>id</th>\n",
       "      <th>nm_razao_social</th>\n",
       "      <th>nm_fantasia</th>\n",
       "      <th>cep</th>\n",
       "      <th>id_natureza_juridica</th>\n",
       "      <th>lat</th>\n",
       "      <th>lon</th>\n",
       "    </tr>\n",
       "  </thead>\n",
       "  <tbody>\n",
       "    <tr>\n",
       "      <th>0</th>\n",
       "      <td>181552</td>\n",
       "      <td>DEMARTAMENTO MEDICO CAMARA DOS DEPUTADOS</td>\n",
       "      <td>DEPARTAMENTO MEDICO CAMARA DOS DEPUTADOS</td>\n",
       "      <td>70160</td>\n",
       "      <td>1040.0</td>\n",
       "      <td>-47.861282</td>\n",
       "      <td>-15.800669</td>\n",
       "    </tr>\n",
       "    <tr>\n",
       "      <th>1</th>\n",
       "      <td>11150</td>\n",
       "      <td>UNIDADE BASICA DE SAUDE N 1 ASA SUL</td>\n",
       "      <td>UBS 01 ASA SUL</td>\n",
       "      <td>70200</td>\n",
       "      <td>1023.0</td>\n",
       "      <td>-47.891575</td>\n",
       "      <td>-15.822105</td>\n",
       "    </tr>\n",
       "    <tr>\n",
       "      <th>2</th>\n",
       "      <td>10537</td>\n",
       "      <td>HOSPITAL MATERNO INFANTIL DE BRASILIA HMIB</td>\n",
       "      <td>HOSPITAL MATERNO INFANTIL DE BRASILIA HMIB</td>\n",
       "      <td>70203</td>\n",
       "      <td>1023.0</td>\n",
       "      <td>-47.897709</td>\n",
       "      <td>-15.823910</td>\n",
       "    </tr>\n",
       "    <tr>\n",
       "      <th>3</th>\n",
       "      <td>10510</td>\n",
       "      <td>FUNDACAO UNIVERSIDADE DE BRASILIA</td>\n",
       "      <td>HOSPITAL UNIVERSITARIO DE BRASILIA</td>\n",
       "      <td>70310</td>\n",
       "      <td>1139.0</td>\n",
       "      <td>-47.885490</td>\n",
       "      <td>-15.798626</td>\n",
       "    </tr>\n",
       "    <tr>\n",
       "      <th>4</th>\n",
       "      <td>6362729</td>\n",
       "      <td>COMANDO DA MARINHA</td>\n",
       "      <td>HOSPITAL NAVAL DE BRASILIA</td>\n",
       "      <td>70310</td>\n",
       "      <td>1015.0</td>\n",
       "      <td>-47.885490</td>\n",
       "      <td>-15.798626</td>\n",
       "    </tr>\n",
       "  </tbody>\n",
       "</table>\n",
       "</div>"
      ]
     },
     "metadata": {},
     "execution_count": 13
    }
   ],
   "metadata": {}
  },
  {
   "cell_type": "code",
   "execution_count": 14,
   "source": [
    "# Adicionando informação de natureza jurídica dos postos de vacinação no DF\n",
    "\n",
    "dfNatJur = pd.read_sql_query(\"SELECT * FROM public.tbl_natureza_juridica\", postgreSQLConnection)\n",
    "dfNatJur.rename(columns={\"id\":\"id_natureza_juridica\"},inplace=True)\n",
    "dfPostosDF = pd.merge(dfPostosDF,dfNatJur,on='id_natureza_juridica')\n",
    "dfPostosDF.head()"
   ],
   "outputs": [
    {
     "output_type": "execute_result",
     "data": {
      "text/plain": [
       "        id                             nm_razao_social  \\\n",
       "0   181552    DEMARTAMENTO MEDICO CAMARA DOS DEPUTADOS   \n",
       "1    11150         UNIDADE BASICA DE SAUDE N 1 ASA SUL   \n",
       "2    10537  HOSPITAL MATERNO INFANTIL DE BRASILIA HMIB   \n",
       "3  5117666       UNIDADE BASICA DE SAUDE N 5 ASA NORTE   \n",
       "4    10758        UNIDADE BASICA DE SAUDE N 2 CRUZEIRO   \n",
       "\n",
       "                                  nm_fantasia    cep  id_natureza_juridica  \\\n",
       "0    DEPARTAMENTO MEDICO CAMARA DOS DEPUTADOS  70160                1040.0   \n",
       "1                              UBS 01 ASA SUL  70200                1023.0   \n",
       "2  HOSPITAL MATERNO INFANTIL DE BRASILIA HMIB  70203                1023.0   \n",
       "3                       UBS 5 GRANJA DO TORTO  70636                1023.0   \n",
       "4                              UBS 2 CRUZEIRO  70640                1023.0   \n",
       "\n",
       "         lat        lon                                  natureza_juridica  \n",
       "0 -47.861282 -15.800669         ORGAO PUBLICO DO PODER LEGISLATIVO FEDERAL  \n",
       "1 -47.891575 -15.822105  ORGAO PUBLICO DO PODER EXECUTIVO ESTADUAL OU D...  \n",
       "2 -47.897709 -15.823910  ORGAO PUBLICO DO PODER EXECUTIVO ESTADUAL OU D...  \n",
       "3 -47.905893 -15.819210  ORGAO PUBLICO DO PODER EXECUTIVO ESTADUAL OU D...  \n",
       "4 -47.944787 -15.789660  ORGAO PUBLICO DO PODER EXECUTIVO ESTADUAL OU D...  "
      ],
      "text/html": [
       "<div>\n",
       "<style scoped>\n",
       "    .dataframe tbody tr th:only-of-type {\n",
       "        vertical-align: middle;\n",
       "    }\n",
       "\n",
       "    .dataframe tbody tr th {\n",
       "        vertical-align: top;\n",
       "    }\n",
       "\n",
       "    .dataframe thead th {\n",
       "        text-align: right;\n",
       "    }\n",
       "</style>\n",
       "<table border=\"1\" class=\"dataframe\">\n",
       "  <thead>\n",
       "    <tr style=\"text-align: right;\">\n",
       "      <th></th>\n",
       "      <th>id</th>\n",
       "      <th>nm_razao_social</th>\n",
       "      <th>nm_fantasia</th>\n",
       "      <th>cep</th>\n",
       "      <th>id_natureza_juridica</th>\n",
       "      <th>lat</th>\n",
       "      <th>lon</th>\n",
       "      <th>natureza_juridica</th>\n",
       "    </tr>\n",
       "  </thead>\n",
       "  <tbody>\n",
       "    <tr>\n",
       "      <th>0</th>\n",
       "      <td>181552</td>\n",
       "      <td>DEMARTAMENTO MEDICO CAMARA DOS DEPUTADOS</td>\n",
       "      <td>DEPARTAMENTO MEDICO CAMARA DOS DEPUTADOS</td>\n",
       "      <td>70160</td>\n",
       "      <td>1040.0</td>\n",
       "      <td>-47.861282</td>\n",
       "      <td>-15.800669</td>\n",
       "      <td>ORGAO PUBLICO DO PODER LEGISLATIVO FEDERAL</td>\n",
       "    </tr>\n",
       "    <tr>\n",
       "      <th>1</th>\n",
       "      <td>11150</td>\n",
       "      <td>UNIDADE BASICA DE SAUDE N 1 ASA SUL</td>\n",
       "      <td>UBS 01 ASA SUL</td>\n",
       "      <td>70200</td>\n",
       "      <td>1023.0</td>\n",
       "      <td>-47.891575</td>\n",
       "      <td>-15.822105</td>\n",
       "      <td>ORGAO PUBLICO DO PODER EXECUTIVO ESTADUAL OU D...</td>\n",
       "    </tr>\n",
       "    <tr>\n",
       "      <th>2</th>\n",
       "      <td>10537</td>\n",
       "      <td>HOSPITAL MATERNO INFANTIL DE BRASILIA HMIB</td>\n",
       "      <td>HOSPITAL MATERNO INFANTIL DE BRASILIA HMIB</td>\n",
       "      <td>70203</td>\n",
       "      <td>1023.0</td>\n",
       "      <td>-47.897709</td>\n",
       "      <td>-15.823910</td>\n",
       "      <td>ORGAO PUBLICO DO PODER EXECUTIVO ESTADUAL OU D...</td>\n",
       "    </tr>\n",
       "    <tr>\n",
       "      <th>3</th>\n",
       "      <td>5117666</td>\n",
       "      <td>UNIDADE BASICA DE SAUDE N 5 ASA NORTE</td>\n",
       "      <td>UBS 5 GRANJA DO TORTO</td>\n",
       "      <td>70636</td>\n",
       "      <td>1023.0</td>\n",
       "      <td>-47.905893</td>\n",
       "      <td>-15.819210</td>\n",
       "      <td>ORGAO PUBLICO DO PODER EXECUTIVO ESTADUAL OU D...</td>\n",
       "    </tr>\n",
       "    <tr>\n",
       "      <th>4</th>\n",
       "      <td>10758</td>\n",
       "      <td>UNIDADE BASICA DE SAUDE N 2 CRUZEIRO</td>\n",
       "      <td>UBS 2 CRUZEIRO</td>\n",
       "      <td>70640</td>\n",
       "      <td>1023.0</td>\n",
       "      <td>-47.944787</td>\n",
       "      <td>-15.789660</td>\n",
       "      <td>ORGAO PUBLICO DO PODER EXECUTIVO ESTADUAL OU D...</td>\n",
       "    </tr>\n",
       "  </tbody>\n",
       "</table>\n",
       "</div>"
      ]
     },
     "metadata": {},
     "execution_count": 14
    }
   ],
   "metadata": {}
  },
  {
   "cell_type": "code",
   "execution_count": null,
   "source": [
    "#Visão geral dos postos do DF\n",
    "\n",
    "dfPostosDF.info()"
   ],
   "outputs": [],
   "metadata": {}
  },
  {
   "cell_type": "code",
   "execution_count": null,
   "source": [
    "# Analisando os dados de natureza jurídica\n",
    "dfPostosDF.natureza_juridica.value_counts()"
   ],
   "outputs": [],
   "metadata": {}
  },
  {
   "cell_type": "code",
   "execution_count": null,
   "source": [
    "# Lista de todos os pontos de vacinação do DF encontrados na base de dados\n",
    "\n",
    "pd.set_option(\"max_rows\", None)\n",
    "dfPostosDF.nm_fantasia"
   ],
   "outputs": [],
   "metadata": {}
  },
  {
   "cell_type": "code",
   "execution_count": null,
   "source": [
    "# Plotando os postos de vacinação do DF em um mapa\n",
    "import folium as fl\n",
    "import geopandas\n",
    "\n",
    "m = fl.Map(location=[-15.7751257, -48.0785352],tiles='OpenStreetMap',zoom_control=False)\n",
    "\n",
    "dfPostosGeo = geopandas.GeoDataFrame(dfPostosDF, \n",
    "geometry = geopandas.points_from_xy(dfPostosDF.lon, dfPostosDF.lat))\n",
    "\n",
    "for i in range(0,len(dfPostosGeo)):\n",
    "  fl.Marker(\n",
    "    [dfPostosGeo.loc[i,'lat'],dfPostosGeo.loc[i,'lon']],\n",
    "    tooltip= dfPostosGeo.loc[i,'nm_fantasia'],\n",
    "    icon=fl.Icon(color='blue')\n",
    "    ).add_to(m)\n",
    "\n",
    "m"
   ],
   "outputs": [],
   "metadata": {}
  },
  {
   "cell_type": "code",
   "execution_count": null,
   "source": [
    "# Algumas UBS estão bem distantes da área do DF. Como são 5 casos, vale a pena olhar caso a caso.\n",
    "\n",
    "dfPostosGeo.loc[(dfPostosGeo['nm_fantasia'] == \"UBS 1 GAMA\")]"
   ],
   "outputs": [],
   "metadata": {}
  },
  {
   "cell_type": "code",
   "execution_count": null,
   "source": [
    "dfPostosGeo.loc[(dfPostosGeo['nm_fantasia'] == \"UBS 2 GAMA\")]"
   ],
   "outputs": [],
   "metadata": {}
  },
  {
   "cell_type": "code",
   "execution_count": null,
   "source": [
    "dfPostosGeo.loc[(dfPostosGeo['nm_fantasia'] == \"UBS 3 GAMA\")]"
   ],
   "outputs": [],
   "metadata": {}
  },
  {
   "cell_type": "code",
   "execution_count": null,
   "source": [
    "dfPostosGeo.loc[(dfPostosGeo['nm_fantasia'] == \"UBS 1 ENGENHO VELHO FERCAL\")]"
   ],
   "outputs": [],
   "metadata": {}
  },
  {
   "cell_type": "code",
   "execution_count": null,
   "source": [
    "dfPostosGeo.loc[(dfPostosGeo['nm_fantasia'] == \"UBS 9 ENGENHO DAS LAGES GAMA\")]"
   ],
   "outputs": [],
   "metadata": {}
  },
  {
   "cell_type": "code",
   "execution_count": null,
   "source": [
    "#Verificando os dados na tabela da Secretária de Saúde do DF e vendo as USBs, foi notado que os CEPS estão corretos, mas as coordenadas lat/long estão bem diferentes. \n",
    "# http://www.saude.df.gov.br/wp-conteudo/uploads/joomla/238bab226de40145ad9645523074e6ce.pdf\n",
    "# Será feita alteração das coordenadas no dataframe dfPostosDF e no dataframe dfPostosGeo\n",
    "\n",
    "indices = [60,59,63,62,83]\n",
    "lat_alt = [-16.020679,-16.036695,-16.005841,-16.04388,-15.600348]\n",
    "lon_alt = [-48.084848,-48.06098,-48.052746,-48.254283,-47.8715]\n",
    "\n",
    "for i, la, lo in zip(indices,lat_alt, lon_alt):\n",
    "  dfPostosDF.iloc[i,5] = la\n",
    "  dfPostosGeo.iloc[i,5] = la\n",
    "  dfPostosDF.iloc[i,6] = lo\n",
    "  dfPostosGeo.iloc[i,6] = lo"
   ],
   "outputs": [],
   "metadata": {}
  },
  {
   "cell_type": "code",
   "execution_count": null,
   "source": [
    "# Teste para ver se o loop anterior deu certo\n",
    "dfPostosDF.iloc[60,]"
   ],
   "outputs": [],
   "metadata": {}
  },
  {
   "cell_type": "code",
   "execution_count": null,
   "source": [
    "# Plotando novamente as UBs que são pontos de vacinação\n",
    "from folium.plugins import MeasureControl\n",
    "\n",
    "m1 = fl.Map(location=[-15.7751257, -48.0785352],tiles='OpenStreetMap',zoom_control=False)\n",
    "\n",
    "ubs = fl.FeatureGroup(name='UBS DF - Pontos de vacinação Covid-19')\n",
    "\n",
    "for i in range(0,len(dfPostosGeo)):\n",
    "  fl.Marker([dfPostosGeo.loc[i,'lat'],dfPostosGeo.loc[i,'lon']],\n",
    "  tooltip= dfPostosGeo.loc[i,'nm_fantasia'],\n",
    "  icon=fl.Icon(color='blue')\n",
    "  ).add_to(ubs)\n",
    "\n",
    " \n",
    "m1.add_child(ubs)\n",
    "m1.add_child(MeasureControl())\n",
    "m1.add_child(fl.LatLngPopup())\n",
    "fl.LayerControl().add_to(m1)\n",
    "m1"
   ],
   "outputs": [],
   "metadata": {}
  },
  {
   "cell_type": "code",
   "execution_count": null,
   "source": [
    "# Análise da tbl de vacinação no Brasil\n",
    "\n",
    "dfVacinacao = pd.read_sql_query('SELECT hash_paciente,estabelecimento_id,data_aplicacao,dose_declarada FROM pos.tbl_vacinacao', postgreSQLConnection)\n",
    "dfVacinacao.head()"
   ],
   "outputs": [],
   "metadata": {}
  },
  {
   "cell_type": "code",
   "execution_count": null,
   "source": [
    "# Dataframe de vacinação do DF\n",
    "\n",
    "postos = dfPostosDF.id\n",
    "dfVacinacao = dfVacinacao.loc[dfVacinacao['estabelecimento_id'].isin(postos)]\n",
    "dfVacinacao.head()"
   ],
   "outputs": [],
   "metadata": {}
  },
  {
   "cell_type": "code",
   "execution_count": null,
   "source": [
    "#Verificando o tamanho do dataframe de vacinação do Df\n",
    "dfVacinacao.shape"
   ],
   "outputs": [],
   "metadata": {}
  },
  {
   "cell_type": "code",
   "execution_count": null,
   "source": [
    "# Dataframe de pacientes no DF\n",
    "\n",
    "dfPaciente = pd.read_sql_query('SELECT hash,id_cidade,id_cep,id_grupo FROM pos.tbl_paciente WHERE id_cidade = 5300108', postgreSQLConnection)\n",
    "dfPaciente.head()"
   ],
   "outputs": [],
   "metadata": {}
  },
  {
   "cell_type": "code",
   "execution_count": null,
   "source": [
    "# Merge das informações do cep da residência do paciente e do estabelecimento onde ele foi vacinado\n",
    "\n",
    "dfVacinacao.rename(columns={\"hash_paciente\":\"hash\"},inplace=True)\n",
    "dfMerged = pd.merge(dfVacinacao,dfPaciente,on='hash')\n",
    "dfMerged.head()"
   ],
   "outputs": [],
   "metadata": {}
  },
  {
   "cell_type": "code",
   "execution_count": null,
   "source": [
    "# Tamanho do Merge\n",
    "dfMerged.shape"
   ],
   "outputs": [],
   "metadata": {}
  },
  {
   "cell_type": "code",
   "execution_count": null,
   "source": [
    "# Checando as informações\n",
    "dfMerged.info()"
   ],
   "outputs": [],
   "metadata": {}
  },
  {
   "cell_type": "code",
   "execution_count": null,
   "source": [
    "# Verificando a quantidade de valores nulos de CEP\n",
    "print(dfMerged.id_cep.isna().sum()/len(dfMerged))"
   ],
   "outputs": [],
   "metadata": {}
  },
  {
   "cell_type": "code",
   "execution_count": null,
   "source": [
    "# Quase 30% dos vacinados do DF não possuem número do CEP da residência na base de dados. Não será possível fazer a análise da distância até o posto de vacinação desses pacientes. Iremos dropar do dataframe.\n",
    "\n",
    "dfMerged = dfMerged.dropna()\n",
    "dfMerged.shape"
   ],
   "outputs": [],
   "metadata": {}
  },
  {
   "cell_type": "code",
   "execution_count": null,
   "source": [
    "# Retirada das pessoas que tomaram 2 doses para manter no dataset apenas pacientes unicos\n",
    "\n",
    "dfMerged = dfMerged[dfMerged.dose_declarada == 1]\n",
    "dfMerged.dose_declarada.value_counts()"
   ],
   "outputs": [],
   "metadata": {}
  },
  {
   "cell_type": "code",
   "execution_count": null,
   "source": [
    "# Verificação do shape\n",
    "dfMerged.shape"
   ],
   "outputs": [],
   "metadata": {}
  },
  {
   "cell_type": "code",
   "execution_count": null,
   "source": [
    "# Agrupando os pacientes de acordo com o posto de vacinação e cep da residência\n",
    "dfMerged_group = dfMerged[['estabelecimento_id','id_cep']].copy()\n",
    "dfMerged_group = dfMerged_group.groupby(['estabelecimento_id','id_cep']).size().reset_index(name='contador')\n",
    "dfMerged_group.head(10)"
   ],
   "outputs": [],
   "metadata": {}
  },
  {
   "cell_type": "code",
   "execution_count": null,
   "source": [
    "# Valor máximo do contador (Pessoas com o mesmo cep que foram se vacinar no mesmo lugar)\n",
    "dfMerged_group.contador.max()"
   ],
   "outputs": [],
   "metadata": {}
  },
  {
   "cell_type": "code",
   "execution_count": null,
   "source": [
    "# Soma da coluna contador (deve ser igual o shape do dfMerged)\n",
    "dfMerged_group.contador.sum()"
   ],
   "outputs": [],
   "metadata": {}
  },
  {
   "cell_type": "code",
   "execution_count": null,
   "source": [
    "# Adição de latitude e longitude dos postos de vacinação\n",
    "dfPostosDF.rename(columns={\"id\":\"estabelecimento_id\"},inplace=True)\n",
    "dfMerged_group = pd.merge(dfMerged_group,dfPostosDF[['lat','lon','estabelecimento_id']],on='estabelecimento_id')\n",
    "dfMerged_group.rename(columns={\"lat\":\"lat_estab\",\"lon\":\"lon_estab\"},inplace=True)\n",
    "dfMerged_group.head()"
   ],
   "outputs": [],
   "metadata": {}
  },
  {
   "cell_type": "code",
   "execution_count": null,
   "source": [
    "# Adição de latitude e longitude das residências dos pacientes\n",
    "dfMerged_group = pd.merge(dfMerged_group,dfCepsDF)\n",
    "dfMerged_group.rename(columns={\"lat\":\"lat_resid\",\"lon\":\"lon_resid\"},inplace=True)\n",
    "dfMerged_group.head()"
   ],
   "outputs": [],
   "metadata": {}
  },
  {
   "cell_type": "code",
   "execution_count": null,
   "source": [
    "# Checando informações\n",
    "dfMerged_group.info()"
   ],
   "outputs": [],
   "metadata": {}
  },
  {
   "cell_type": "code",
   "execution_count": null,
   "source": [
    "# Calculando a distancia entre as duas coordenadas\n",
    "\n",
    "import haversine as hs\n",
    "distancia = []\n",
    "dfMerged_group['coor_estab'] = list(zip(dfMerged_group.lat_estab,dfMerged_group.lon_estab))\n",
    "dfMerged_group['coor_resid'] = list(zip(dfMerged_group.lat_resid,dfMerged_group.lon_resid))\n",
    "\n",
    "for index,row in dfMerged_group.iterrows():\n",
    "    distancia.append(hs.haversine(row['coor_estab'],row['coor_resid']))\n",
    "\n",
    "dfMerged_group['distancia'] = distancia\n",
    "dfMerged_group.head()\n"
   ],
   "outputs": [],
   "metadata": {}
  },
  {
   "cell_type": "code",
   "execution_count": null,
   "source": [
    "# Análise da variável distância\n",
    "\n",
    "dfMerged_group.distancia.describe()"
   ],
   "outputs": [],
   "metadata": {}
  },
  {
   "cell_type": "code",
   "execution_count": null,
   "source": [
    "# Histograma da variável distância\n",
    "\n",
    "import seaborn as sns\n",
    "import matplotlib as mpl\n",
    "import matplotlib.pyplot as plt\n",
    "sns.histplot(data=dfMerged_group,x='distancia')"
   ],
   "outputs": [],
   "metadata": {}
  },
  {
   "cell_type": "code",
   "execution_count": null,
   "source": [
    "# Boxplot da variável distância\n",
    "\n",
    "sns.boxplot(x=dfMerged_group[\"distancia\"])"
   ],
   "outputs": [],
   "metadata": {}
  },
  {
   "cell_type": "code",
   "execution_count": null,
   "source": [
    "# Investigando os ceps que são outliers no cálculo da distância\n",
    "\n",
    "dfMerged_group[dfMerged_group.distancia > 60].id_cep.value_counts()"
   ],
   "outputs": [],
   "metadata": {}
  },
  {
   "cell_type": "code",
   "execution_count": null,
   "source": [
    "# Cada CEP foi verificado no Google Maps e as coordenadas foram diferentes das informações do nosso dataset\n",
    "\n",
    "ceps_outliers = [72410,72430,71503,70630,72594,72457,72415,73150,72549,73330]\n",
    "cep_correcao = dfCepsDF.loc[dfCepsDF['id_cep'].isin(ceps_outliers)]\n",
    "\n",
    "ind1 = cep_correcao.index\n",
    "lat_alt = [-15.85177,-15.72028,-16.01446,-16.01721,-16.00695,-16.00918,-16.05279,-15.99645,-15.60197,-15.60946]\n",
    "lon_alt = [-47.94817,-47.88104,-48.05283,-48.08201,-48.05993,-48.06418,-47.98158,-47.99895,-47.87104,-47.87104]\n",
    "\n",
    "for i1,la, lo in zip(ind1,lat_alt, lon_alt):\n",
    "  dfCepsDF.iloc[i1,1] = la\n",
    "  dfCepsDF.iloc[i1,2] = lo"
   ],
   "outputs": [],
   "metadata": {}
  },
  {
   "cell_type": "code",
   "execution_count": null,
   "source": [
    "# Corrigindo todo o dataframe e calculando as novas distâncias\n",
    "\n",
    "dfMerged_group.drop(['lat_resid','lon_resid','coor_estab','coor_resid','distancia'],axis='columns',inplace=True)\n",
    "\n",
    "dfMerged_group = pd.merge(dfMerged_group,dfCepsDF)\n",
    "dfMerged_group.rename(columns={\"lat\":\"lat_resid\",\"lon\":\"lon_resid\"},inplace=True)\n",
    "\n",
    "dfMerged_group['coor_estab'] = list(zip(dfMerged_group.lat_estab,dfMerged_group.lon_estab))\n",
    "dfMerged_group['coor_resid'] = list(zip(dfMerged_group.lat_resid,dfMerged_group.lon_resid))\n",
    "\n",
    "distancia.clear()\n",
    "for index,row in dfMerged_group.iterrows():\n",
    "    distancia.append(hs.haversine(row['coor_estab'],row['coor_resid']))\n",
    "\n",
    "dfMerged_group['distancia'] = distancia\n",
    "dfMerged_group.head()\n"
   ],
   "outputs": [],
   "metadata": {}
  },
  {
   "cell_type": "code",
   "execution_count": null,
   "source": [
    "# Análise da variável distância após correção\n",
    "\n",
    "dfMerged_group.distancia.describe()"
   ],
   "outputs": [],
   "metadata": {}
  },
  {
   "cell_type": "code",
   "execution_count": null,
   "source": [
    "# Boxplot da variável distância após alteração\n",
    "\n",
    "sns.boxplot(x=dfMerged_group[\"distancia\"])"
   ],
   "outputs": [],
   "metadata": {}
  },
  {
   "cell_type": "code",
   "execution_count": null,
   "source": [
    "# Distâncias de forma decrescente\n",
    "dfMerged_group.sort_values(by='distancia',ascending=False,inplace=True)\n",
    "dfMerged_group.head()"
   ],
   "outputs": [],
   "metadata": {}
  },
  {
   "cell_type": "code",
   "execution_count": null,
   "source": [
    "# Lista das residências de pacientes que percorreram mais de 30km para ir até o posto de vacinação\n",
    "\n",
    "resid_maior30 = dfMerged_group[dfMerged_group.distancia > 30].id_cep.value_counts()\n",
    "df_resid_maior30 = dfCepsDF.loc[dfCepsDF['id_cep'].isin(resid_maior30.index)]\n",
    "df_resid_maior30.reset_index(inplace=True)\n",
    "df_resid_maior30.head()"
   ],
   "outputs": [],
   "metadata": {}
  },
  {
   "cell_type": "code",
   "execution_count": null,
   "source": [
    "# Análise dos pontos de vacinação mais cheios\n",
    "\n",
    "dfUBS_count = dfMerged_group.groupby('estabelecimento_id')['contador'].agg('sum')\n",
    "dfUBS_count = pd.merge(dfUBS_count,dfPostosDF[['estabelecimento_id','nm_fantasia','lat','lon']],on='estabelecimento_id')\n",
    "dfUBS_count.sort_values(ascending=False,by='contador',inplace=True)\n",
    "top10UBS = dfUBS_count.head(10)\n",
    "top10UBS.reset_index(inplace=True,drop=True)\n",
    "top10UBS\n"
   ],
   "outputs": [],
   "metadata": {}
  },
  {
   "cell_type": "code",
   "execution_count": null,
   "source": [
    "# Criando marcadores\n",
    "\n",
    "from folium.plugins import MeasureControl\n",
    "\n",
    "m1 = fl.Map(location=[-15.7751257, -48.0785352],tiles='OpenStreetMap',zoom_control=False)\n",
    "\n",
    "ubs = fl.FeatureGroup(name='UBS DF - Pontos de vacinação Covid-19')\n",
    "for i in range(0,len(dfPostosGeo)): \n",
    "  fl.Marker([dfPostosGeo.loc[i,'lat'],dfPostosGeo.loc[i,'lon']],\n",
    "  icon=fl.Icon(color='blue'),\n",
    "  tooltip= dfPostosGeo.loc[i,'nm_fantasia'],\n",
    "  ).add_to(ubs)\n",
    " \n",
    "resid = fl.FeatureGroup(name='Deslocamento > 30 km')\n",
    "for i in range(0,len(df_resid_maior30)):\n",
    "  fl.Circle([df_resid_maior30.loc[i,'lat'],df_resid_maior30.loc[i,'lon']],\n",
    "  color='red',\n",
    "  ).add_to(resid)\n",
    "\n",
    "top10 = fl.FeatureGroup(name='Pontos de vacinação mais cheios')\n",
    "for i in range(0,len(top10UBS)):\n",
    "  fl.Marker([top10UBS.loc[i,'lat'],top10UBS.loc[i,'lon']],\n",
    "  icon=fl.Icon(color='red'),\n",
    "  tooltip= top10UBS.loc[i,'nm_fantasia'],\n",
    "  ).add_to(top10)\n",
    "\n",
    "m1.add_child(resid)\n",
    "m1.add_child(ubs)\n",
    "m1.add_child(top10)\n",
    "m1.add_child(MeasureControl())\n",
    "m1.add_child(fl.LatLngPopup())\n",
    "fl.LayerControl().add_to(m1)\n",
    "\n",
    "m1.save('mapa.html')\n",
    "\n",
    "m1"
   ],
   "outputs": [],
   "metadata": {}
  },
  {
   "cell_type": "code",
   "execution_count": null,
   "source": [
    "#Construção do mapa de calor\n",
    "\n",
    "dfHeat = dfMerged.groupby(['data_aplicacao','id_cep']).size().reset_index(name='contador')\n",
    "dfHeat = pd.merge(dfHeat,dfCepsDF[['lat','lon','id_cep']],on='id_cep')\n",
    "plotHeat = dfHeat[['lat','lon','contador']].values.tolist()\n",
    "\n",
    "m2 = fl.Map(location=[-15.7751257, -48.0785352],tiles='OpenStreetMap',zoom_control=False)\n",
    "\n",
    "from folium.plugins import HeatMap\n",
    "heatmap = HeatMap(plotHeat,radius=18).add_to(m2)\n",
    "heatmap.save('mapa_calor.html')\n",
    "m2\n",
    "\n"
   ],
   "outputs": [],
   "metadata": {}
  },
  {
   "cell_type": "code",
   "execution_count": null,
   "source": [
    "# Fechando conexão\n",
    "postgreSQLConnection.close()"
   ],
   "outputs": [],
   "metadata": {}
  }
 ]
}