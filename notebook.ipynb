{
 "metadata": {
  "language_info": {
   "codemirror_mode": {
    "name": "ipython",
    "version": 3
   },
   "file_extension": ".py",
   "mimetype": "text/x-python",
   "name": "python",
   "nbconvert_exporter": "python",
   "pygments_lexer": "ipython3",
   "version": "3.7.6"
  },
  "orig_nbformat": 2,
  "kernelspec": {
   "name": "python376jvsc74a57bd0c84ec5531762457a514972294189478bb2b86b2856b4d2c66c8829aed73cefe4",
   "display_name": "Python 3.7.6 64-bit ('base': conda)"
  }
 },
 "nbformat": 4,
 "nbformat_minor": 2,
 "cells": [
  {
   "cell_type": "code",
   "execution_count": 1,
   "metadata": {},
   "outputs": [],
   "source": [
    "# Importação as bibliotecas necessárias para conexão e coleta dos dados\n",
    "import psycopg2\n",
    "import pandas as pd\n",
    "from sqlalchemy import create_engine\n",
    "import os"
   ]
  },
  {
   "cell_type": "code",
   "execution_count": 2,
   "metadata": {},
   "outputs": [],
   "source": [
    "# Variaveis ambientes\n",
    "\n",
    "host = os.environ.get('HOST')\n",
    "user = os.environ.get('USER')\n",
    "password = os.environ.get('PASSWORD')"
   ]
  },
  {
   "cell_type": "code",
   "execution_count": 3,
   "metadata": {},
   "outputs": [],
   "source": [
    "# Descrevo os parâmetros de conexão conforme configurado\n",
    "db_server_info = {'host': host, \n",
    "                  'porta': 5432, \n",
    "                  'dbname': 'dbs_vacina',\n",
    "                  'user': user, \n",
    "                  'password': password} \n",
    "\n",
    "conn_str = '{}://{}:{}@{}:{}/{}'.format('postgresql+psycopg2', \n",
    "                                  db_server_info['user'], \n",
    "                                  db_server_info['password'], \n",
    "                                  db_server_info['host'], \n",
    "                                  db_server_info['porta'], \n",
    "                                  db_server_info['dbname']) \n",
    "\n",
    "alchemyEngine = create_engine(conn_str, pool_recycle=3600)\n",
    "\n",
    "postgreSQLConnection = alchemyEngine.connect() "
   ]
  },
  {
   "cell_type": "code",
   "execution_count": null,
   "metadata": {},
   "outputs": [],
   "source": []
  }
 ]
}